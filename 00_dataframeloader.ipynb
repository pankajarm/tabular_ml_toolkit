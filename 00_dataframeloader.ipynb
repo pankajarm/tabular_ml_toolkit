{
 "cells": [
  {
   "cell_type": "code",
   "execution_count": null,
   "metadata": {},
   "outputs": [],
   "source": [
    "%load_ext autoreload\n",
    "%autoreload 2"
   ]
  },
  {
   "cell_type": "code",
   "execution_count": null,
   "metadata": {},
   "outputs": [],
   "source": [
    "# default_exp DataFrameLoader"
   ]
  },
  {
   "cell_type": "markdown",
   "metadata": {},
   "source": [
    "# Data Frame Loader\n",
    "\n",
    "> An API to create training, validation and test dataset for Machine Learning models based on tabluarl or strucuture data"
   ]
  },
  {
   "cell_type": "code",
   "execution_count": null,
   "metadata": {},
   "outputs": [],
   "source": [
    "#hide\n",
    "from nbdev.showdoc import *\n",
    "from nbdev import *"
   ]
  },
  {
   "cell_type": "code",
   "execution_count": null,
   "metadata": {},
   "outputs": [],
   "source": [
    "# export\n",
    "# hide\n",
    "import pandas as pd\n",
    "from sklearn.model_selection import train_test_split"
   ]
  },
  {
   "cell_type": "code",
   "execution_count": null,
   "metadata": {},
   "outputs": [],
   "source": [
    "# export\n",
    "\n",
    "class DataFrameLoader:\n",
    "    \"\"\"\n",
    "    Represent DataFrameLoader class\n",
    "    \n",
    "    Attributes:\n",
    "    X_full: full dataframe load from raw input\n",
    "    X_test_full: full test dataframe load from raw input\n",
    "    X: features\n",
    "    y: target\n",
    "    \"\"\"\n",
    "\n",
    "    def __init__(self):\n",
    "        self.X_full = None\n",
    "        self.X_test_full = None\n",
    "        self.X = None\n",
    "        self.y = None\n",
    "        self.X_train = None\n",
    "        self.X_valid = None\n",
    "        self.X_test = None\n",
    "        self.y_train = None\n",
    "        self.y_valid = None\n",
    "        self.categorical_cols = None\n",
    "        self.numerical_cols = None\n",
    "        self.final_columns = None\n",
    "    \n",
    "    def __str__(self):\n",
    "        \"\"\"Returns human readable string reprsentation\"\"\"\n",
    "        return \"DataFrameLoader object with attributes: X_full, X_test, X(features), y(target), X_train, X_valid, y_train and y_valid\"\n",
    "    \n",
    "    def __repr__(self):\n",
    "        return self.__str__()\n",
    "    \n",
    "#     def __lt__(self):\n",
    "#         \"\"\"returns: boolean\"\"\"\n",
    "#         return True\n",
    "    \n",
    "    # load data from csv\n",
    "    def read_csv(self,train_file_path:str,test_file_path:str, idx_col:str):\n",
    "        # Read the csv files using pandas\n",
    "        self.X_full = pd.read_csv(train_file_path, index_col=idx_col)\n",
    "        self.X_test_full = pd.read_csv(test_file_path, index_col=idx_col)\n",
    "\n",
    "    # prepare X and y\n",
    "    def prepare_X_y(self,input_df:object, target:str):\n",
    "        # Remove rows with missing target\n",
    "        self.X = input_df.dropna(axis=0, subset=[target])\n",
    "        # separate target from predictors\n",
    "        self.y = self.X[target]\n",
    "        # drop target\n",
    "        self.X = input_df.drop([target], axis=1)\n",
    "        \n",
    "    # split X and y into X_train, y_train, X_valid & y_valid dataframes\n",
    "    def prepare_train_valid(self,X:object,y:object, valid_size:float, random_state=42):\n",
    "        self.X_train, self.X_valid, self.y_train, self.y_valid = train_test_split(\n",
    "            self.X, self.y, train_size=(1-valid_size), test_size=valid_size,random_state=random_state)\n",
    "    \n",
    "    # select categorical columns\n",
    "    def select_categorical_cols(self):\n",
    "        self.categorical_cols = [cname for cname in self.X_train.columns if\n",
    "                    self.X_train[cname].nunique() < 10 and \n",
    "                    self.X_train[cname].dtype == \"object\"]\n",
    "        #TODO: seprate categorical columns into one hot eligible cols for low cardinality \n",
    "        # and ordinal cols for high cardinatliy\n",
    "    \n",
    "    # select numerical columns\n",
    "    def select_numerical_cols(self):\n",
    "        self.numerical_cols = [cname for cname in self.X_train.columns if \n",
    "                self.X_train[cname].dtype in ['int64', 'float64']]\n",
    "    \n",
    "    # prepare X_train, X_valid from selected columns\n",
    "    def prepare_X_train_X_valid(self):\n",
    "        self.select_categorical_cols()\n",
    "        self.select_numerical_cols()\n",
    "        self.final_columns = self.categorical_cols + self.numerical_cols\n",
    "        self.X_train = self.X_train[self.final_columns].copy()\n",
    "        self.X_valid = self.X_valid[self.final_columns].copy()\n",
    "        self.X_test = self.X_test_full[self.final_columns].copy()\n",
    "        \n",
    "    # get train and valid dataframe\n",
    "    def from_csv(self, train_file_path:str,test_file_path:str, idx_col:str, target:str, valid_size:float, random_state=42):\n",
    "        self.read_csv(train_file_path,test_file_path, idx_col)\n",
    "        self.prepare_X_y(self.X_full, target)\n",
    "        self.prepare_train_valid(self.X,self.y, valid_size, random_state)\n",
    "        self.prepare_X_train_X_valid()\n",
    "        return self"
   ]
  },
  {
   "cell_type": "code",
   "execution_count": null,
   "metadata": {},
   "outputs": [
    {
     "data": {
      "text/markdown": [
       "<h4 id=\"DataFrameLoader.from_csv\" class=\"doc_header\"><code>DataFrameLoader.from_csv</code><a href=\"__main__.py#L82\" class=\"source_link\" style=\"float:right\">[source]</a></h4>\n",
       "\n",
       "> <code>DataFrameLoader.from_csv</code>(**`train_file_path`**:`str`, **`test_file_path`**:`str`, **`idx_col`**:`str`, **`target`**:`str`, **`valid_size`**:`float`, **`random_state`**=*`42`*)\n",
       "\n"
      ],
      "text/plain": [
       "<IPython.core.display.Markdown object>"
      ]
     },
     "metadata": {},
     "output_type": "display_data"
    }
   ],
   "source": [
    "show_doc(DataFrameLoader.from_csv)"
   ]
  },
  {
   "cell_type": "markdown",
   "metadata": {},
   "source": [
    "*Let's load [Melbourne Home Sale price raw data](https://www.kaggle.com/estrotococo/home-data-for-ml-course)*"
   ]
  },
  {
   "cell_type": "code",
   "execution_count": null,
   "metadata": {},
   "outputs": [
    {
     "data": {
      "text/plain": [
       "DataFrameLoader object with attributes: X_full, X_test, X(features), y(target), X_train, X_valid, y_train and y_valid"
      ]
     },
     "execution_count": null,
     "metadata": {},
     "output_type": "execute_result"
    }
   ],
   "source": [
    "dfl = DataFrameLoader().from_csv(train_file_path=\"input/home_data/train.csv\", test_file_path=\"input/home_data/test.csv\", idx_col=\"Id\", target=\"SalePrice\", valid_size=0.2)\n",
    "dfl"
   ]
  },
  {
   "cell_type": "code",
   "execution_count": null,
   "metadata": {},
   "outputs": [
    {
     "name": "stdout",
     "output_type": "stream",
     "text": [
      "X_full shape: (1460, 80)\n",
      "X_test_full shape: (1459, 79)\n"
     ]
    }
   ],
   "source": [
    "# show shape of dataframes\n",
    "print(\"X_full shape:\", dfl.X_full.shape)\n",
    "print(\"X_test_full shape:\", dfl.X_test_full.shape)"
   ]
  },
  {
   "cell_type": "markdown",
   "metadata": {},
   "source": [
    "Test for X_full and X_test_full"
   ]
  },
  {
   "cell_type": "code",
   "execution_count": null,
   "metadata": {},
   "outputs": [],
   "source": [
    "assert dfl.X_full.shape == (1460,80)\n",
    "assert dfl.X_test_full.shape == (1459,79)"
   ]
  },
  {
   "cell_type": "code",
   "execution_count": null,
   "metadata": {},
   "outputs": [
    {
     "name": "stdout",
     "output_type": "stream",
     "text": [
      "homedata X shape: (1460, 79)\n",
      "homedata y shape (1460,)\n"
     ]
    }
   ],
   "source": [
    "# show shape of X and y \n",
    "print(\"homedata X shape:\", dfl.X.shape)\n",
    "print(\"homedata y shape\", dfl.y.shape)"
   ]
  },
  {
   "cell_type": "markdown",
   "metadata": {},
   "source": [
    "Test for X and y"
   ]
  },
  {
   "cell_type": "code",
   "execution_count": null,
   "metadata": {},
   "outputs": [],
   "source": [
    "# test prepare_X_y()\n",
    "assert dfl.X.shape == (1460,79)\n",
    "assert dfl.y.shape == (1460,)"
   ]
  },
  {
   "cell_type": "code",
   "execution_count": null,
   "metadata": {},
   "outputs": [
    {
     "name": "stdout",
     "output_type": "stream",
     "text": [
      "homedata X_train shape: (1168, 76)\n",
      "homedata y_train shape (1168,)\n",
      "homedata X_valid shape: (292, 76)\n",
      "homedata y_valid shape (292,)\n"
     ]
    }
   ],
   "source": [
    "# show shape of X_train, X_valid, y_train and y_valid\n",
    "print(\"homedata X_train shape:\", dfl.X_train.shape)\n",
    "print(\"homedata y_train shape\", dfl.y_train.shape)\n",
    "print(\"homedata X_valid shape:\", dfl.X_valid.shape)\n",
    "print(\"homedata y_valid shape\", dfl.y_valid.shape)"
   ]
  },
  {
   "cell_type": "markdown",
   "metadata": {},
   "source": [
    "Test for X_train, y_train, X_valid and y_valid"
   ]
  },
  {
   "cell_type": "code",
   "execution_count": null,
   "metadata": {},
   "outputs": [],
   "source": [
    "assert dfl.X_train.shape == (1168,76)\n",
    "assert dfl.y_train.shape == (1168,)\n",
    "assert dfl.X_valid.shape == (292,76)\n",
    "assert dfl.y_valid.shape == (292,)"
   ]
  },
  {
   "cell_type": "code",
   "execution_count": null,
   "metadata": {},
   "outputs": [
    {
     "name": "stdout",
     "output_type": "stream",
     "text": [
      "Converted 00_DataFrameLoader.ipynb.\n",
      "Converted 01_PreProcessor.ipynb.\n",
      "Converted 03_MLPipeline.ipynb.\n",
      "Converted index.ipynb.\n"
     ]
    }
   ],
   "source": [
    "# hide\n",
    "# run the script to build \n",
    "\n",
    "from nbdev.export import notebook2script; notebook2script()"
   ]
  },
  {
   "cell_type": "code",
   "execution_count": null,
   "metadata": {},
   "outputs": [],
   "source": []
  }
 ],
 "metadata": {
  "kernelspec": {
   "display_name": "Python 3 (ipykernel)",
   "language": "python",
   "name": "python3"
  }
 },
 "nbformat": 4,
 "nbformat_minor": 2
}
