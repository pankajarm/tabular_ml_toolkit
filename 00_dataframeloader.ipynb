{
 "cells": [
  {
   "cell_type": "code",
   "execution_count": 1,
   "metadata": {},
   "outputs": [],
   "source": [
    "# default_exp core"
   ]
  },
  {
   "cell_type": "markdown",
   "metadata": {},
   "source": [
    "# Data Frame Loader\n",
    "\n",
    "> An API to create training, validation and test dataset for Machine Learning models based on tabluarl or strucuture data"
   ]
  },
  {
   "cell_type": "code",
   "execution_count": 2,
   "metadata": {},
   "outputs": [],
   "source": [
    "#hide\n",
    "from nbdev.showdoc import *\n",
    "from nbdev import *"
   ]
  },
  {
   "cell_type": "code",
   "execution_count": 3,
   "metadata": {},
   "outputs": [],
   "source": [
    "# export\n",
    "import pandas as pd"
   ]
  },
  {
   "cell_type": "code",
   "execution_count": 4,
   "metadata": {},
   "outputs": [],
   "source": [
    "# export\n",
    "\n",
    "class DataFrameLoader:\n",
    "    \"\"\"\n",
    "    Represent Data Frame Loader class\n",
    "    \n",
    "    Attributes:\n",
    "    X_full: full dataframe load from raw input\n",
    "    X_test_full: full test dataframe load from raw input\n",
    "    X: features\n",
    "    y: target\n",
    "    \"\"\"\n",
    "\n",
    "    def __init__(self):\n",
    "        self.X_full = None\n",
    "        self.X_test = None\n",
    "        self.X = None\n",
    "        self.y = None\n",
    "    \n",
    "    def __str__(self):\n",
    "        \"\"\"Returns human readable string reprsentation\"\"\"\n",
    "        return \"DataFrameLoader object with X_full, X_test and X(features) dataframe and y(target) series\"\n",
    "    \n",
    "    def __repr__(self):\n",
    "        return self.__str__()\n",
    "    \n",
    "#     def __lt__(self):\n",
    "#         \"\"\"returns: boolean\"\"\"\n",
    "#         return True\n",
    "    \n",
    "    #     core methods\n",
    "    def from_csv(self,train_file_path:str,test_file_path:str, idx_col:str, ):\n",
    "        # Read the csv files using pandas\n",
    "        self.X_full = pd.read_csv(train_file_path, index_col=idx_col)\n",
    "        self.X_test = pd.read_csv(test_file_path, index_col=idx_col)\n",
    "\n",
    "    def prepare_X_y(self,input_df:object, target:str):\n",
    "        # Remove rows with missing target\n",
    "        self.X = input_df.dropna(axis=0, subset=[target])\n",
    "        # separate target from predictors\n",
    "        self.y = self.X[target]\n",
    "        # drop target\n",
    "        self.X = input_df.drop([target], axis=1)"
   ]
  },
  {
   "cell_type": "code",
   "execution_count": 5,
   "metadata": {},
   "outputs": [
    {
     "data": {
      "text/plain": [
       "DataFrameLoader object with X_full, X_test and X(features) dataframe and y(target) series"
      ]
     },
     "execution_count": 5,
     "metadata": {},
     "output_type": "execute_result"
    }
   ],
   "source": [
    "# create DataFrameLoader object\n",
    "dfl = DataFrameLoader()\n",
    "dfl"
   ]
  },
  {
   "cell_type": "code",
   "execution_count": 6,
   "metadata": {},
   "outputs": [
    {
     "data": {
      "text/markdown": [
       "<h4 id=\"DataFrameLoader.from_csv\" class=\"doc_header\"><code>DataFrameLoader.from_csv</code><a href=\"__main__.py#L32\" class=\"source_link\" style=\"float:right\">[source]</a></h4>\n",
       "\n",
       "> <code>DataFrameLoader.from_csv</code>(**`train_file_path`**:`str`, **`test_file_path`**:`str`, **`idx_col`**:`str`)\n",
       "\n"
      ],
      "text/plain": [
       "<IPython.core.display.Markdown object>"
      ]
     },
     "metadata": {},
     "output_type": "display_data"
    }
   ],
   "source": [
    "show_doc(DataFrameLoader().from_csv)"
   ]
  },
  {
   "cell_type": "code",
   "execution_count": 8,
   "metadata": {},
   "outputs": [
    {
     "name": "stdout",
     "output_type": "stream",
     "text": [
      "X_full shape: (1460, 80)\n",
      "X_test_full shape: (1460, 80)\n"
     ]
    }
   ],
   "source": [
    "# load kaggle melbourne home sales price data\n",
    "dfl.from_csv(\n",
    "    train_file_path='input/home_data/train.csv',\n",
    "    test_file_path='input/home_data/train.csv',\n",
    "    idx_col='Id')\n",
    "# show shape of dataframes\n",
    "print(\"X_full shape:\", dfl.X_full.shape)\n",
    "print(\"X_test_full shape:\", dfl.X_test.shape)"
   ]
  },
  {
   "cell_type": "code",
   "execution_count": 10,
   "metadata": {},
   "outputs": [],
   "source": [
    "# test for from_csv()\n",
    "assert dfl.X_full.shape == (1460,80)\n",
    "assert dfl.X_test.shape == (1460,80)"
   ]
  },
  {
   "cell_type": "code",
   "execution_count": 11,
   "metadata": {},
   "outputs": [
    {
     "data": {
      "text/markdown": [
       "<h4 id=\"DataFrameLoader.prepare_X_y\" class=\"doc_header\"><code>DataFrameLoader.prepare_X_y</code><a href=\"__main__.py#L37\" class=\"source_link\" style=\"float:right\">[source]</a></h4>\n",
       "\n",
       "> <code>DataFrameLoader.prepare_X_y</code>(**`input_df`**:`object`, **`target`**:`str`)\n",
       "\n"
      ],
      "text/plain": [
       "<IPython.core.display.Markdown object>"
      ]
     },
     "metadata": {},
     "output_type": "display_data"
    }
   ],
   "source": [
    "show_doc(DataFrameLoader().prepare_X_y)"
   ]
  },
  {
   "cell_type": "code",
   "execution_count": 12,
   "metadata": {},
   "outputs": [
    {
     "name": "stdout",
     "output_type": "stream",
     "text": [
      "homedata_X shape: (1460, 79)\n",
      "homedata_y shape (1460,)\n"
     ]
    }
   ],
   "source": [
    "# Prepare X and y for Melbourne Home Sale Price data\n",
    "dfl.prepare_X_y(input_df=dfl.X_full, target='SalePrice')\n",
    "\n",
    "# show shape of X and y \n",
    "print(\"homedata_X shape:\", dfl.X.shape)\n",
    "print(\"homedata_y shape\", dfl.y.shape)\n"
   ]
  },
  {
   "cell_type": "code",
   "execution_count": 13,
   "metadata": {},
   "outputs": [],
   "source": [
    "# test prepare_X_y()\n",
    "assert dfl.X.shape == (1460,79)\n",
    "assert dfl.y.shape == (1460,)"
   ]
  },
  {
   "cell_type": "code",
   "execution_count": null,
   "metadata": {},
   "outputs": [],
   "source": []
  }
 ],
 "metadata": {
  "kernelspec": {
   "display_name": "Python 3 (ipykernel)",
   "language": "python",
   "name": "python3"
  },
  "language_info": {
   "codemirror_mode": {
    "name": "ipython",
    "version": 3
   },
   "file_extension": ".py",
   "mimetype": "text/x-python",
   "name": "python",
   "nbconvert_exporter": "python",
   "pygments_lexer": "ipython3",
   "version": "3.9.7"
  }
 },
 "nbformat": 4,
 "nbformat_minor": 2
}
