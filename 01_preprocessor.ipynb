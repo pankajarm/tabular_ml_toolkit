{
 "cells": [
  {
   "cell_type": "code",
   "execution_count": null,
   "id": "739ab7e2",
   "metadata": {},
   "outputs": [],
   "source": [
    "%load_ext autoreload\n",
    "%autoreload 2"
   ]
  },
  {
   "cell_type": "code",
   "execution_count": null,
   "id": "d3b66279",
   "metadata": {},
   "outputs": [],
   "source": [
    "# default_exp PreProcessor"
   ]
  },
  {
   "cell_type": "markdown",
   "id": "c469e3c1",
   "metadata": {},
   "source": [
    "# PreProcessor\n",
    "\n",
    "> An API to Preprocess train, valid and test dataset for Machine Learning models based on tabular or strucuture data"
   ]
  },
  {
   "cell_type": "code",
   "execution_count": null,
   "id": "4ce63e38",
   "metadata": {},
   "outputs": [],
   "source": [
    "#hide\n",
    "from nbdev.showdoc import *\n",
    "from nbdev import *"
   ]
  },
  {
   "cell_type": "code",
   "execution_count": null,
   "id": "cc9ff301",
   "metadata": {},
   "outputs": [],
   "source": [
    "# export\n",
    "from tabular_ml_toolkit.DataFrameLoader import *"
   ]
  },
  {
   "cell_type": "code",
   "execution_count": null,
   "id": "5ee899e5",
   "metadata": {},
   "outputs": [],
   "source": [
    "# export\n",
    "# hide\n",
    "import pandas as pd\n",
    "from sklearn.compose import ColumnTransformer\n",
    "from sklearn.pipeline import Pipeline\n",
    "from sklearn.impute import SimpleImputer\n",
    "from sklearn.preprocessing import OneHotEncoder, OrdinalEncoder, StandardScaler, MinMaxScaler\n",
    "from sklearn.ensemble import RandomForestRegressor\n",
    "from sklearn.metrics import mean_absolute_error"
   ]
  },
  {
   "cell_type": "code",
   "execution_count": null,
   "id": "cb98246b",
   "metadata": {},
   "outputs": [],
   "source": [
    "# export\n",
    "\n",
    "class PreProcessor:\n",
    "    \"\"\"\n",
    "    Represent PreProcessor class\n",
    "    \n",
    "    Attributes:\n",
    "    numerical_transformer: Numerical Columns Tranformer\n",
    "    categorical_transformer: Categorical Columns Transformer\n",
    "    preprocessor: Preprocessor for Columns Tranformer\n",
    "    \"\"\"\n",
    "\n",
    "    def __init__(self):\n",
    "        self.numerical_transformer = None\n",
    "        self.categorical_transformer = None\n",
    "        self.columns_transfomer = None\n",
    "        self.transformer_type = None\n",
    "        self.OHE_categorical_transformer = None\n",
    "        self.ORE_categorical_transformer = None\n",
    "    \n",
    "    def __str__(self):\n",
    "        \"\"\"Returns human readable string reprsentation\"\"\"\n",
    "        attr_str = \"numerical_transformer, categorical_transformer,columns_transfomer\"\n",
    "        return \"PreProcessor object with attributes:\" + attr_str\n",
    "    \n",
    "    def __repr__(self):\n",
    "        return self.__str__()\n",
    "    \n",
    "    # PreProcessor core methods\n",
    "    \n",
    "    # Preprocessing for numerical data\n",
    "    def preprocess_numerical_data(self, num_imputer, num_scaler):\n",
    "        self.numerical_transformer = Pipeline(steps=[\n",
    "            ('imputer', num_imputer),\n",
    "            ('scaler',  num_scaler)\n",
    "        ])\n",
    "        \n",
    "    # Preprocessing for categorical data\n",
    "    def preprocess_OHE_categorical_data(self, cat_imputer):\n",
    "        self.OHE_categorical_transformer = Pipeline(steps=[\n",
    "        ('imputer', cat_imputer),\n",
    "        ('onehot', OneHotEncoder(handle_unknown='ignore'))\n",
    "        ])   \n",
    "\n",
    "    def preprocess_OE_categorical_data(self, cat_imputer):\n",
    "        self.OE_categorical_transformer = Pipeline(steps=[\n",
    "        ('imputer', cat_imputer),\n",
    "        ('ordinal', OrdinalEncoder())\n",
    "        ])\n",
    "        \n",
    "    #TO-DO\n",
    "#     def reduce_dims(self):\n",
    "#         pass\n",
    "    \n",
    "    # Bundle preprocessing pipelines based upon types of columns\n",
    "    def preprocess_all_cols(self, dataframeloader,\n",
    "                            num_imputer = SimpleImputer(strategy='median'),\n",
    "                            num_scaler = StandardScaler(),\n",
    "                            cat_imputer = SimpleImputer(strategy='constant')):\n",
    "        \n",
    "        # change preprocessor according to type of column found\n",
    "        \n",
    "        if len(dataframeloader.high_card_cat_cols) < 1:\n",
    "            if len(dataframeloader.low_card_cat_cols) < 1:\n",
    "#                 print(\"both high_card_cat_cols and low_card_cat_cols are None\")\n",
    "                self.preprocess_numerical_data(num_imputer, num_scaler)\n",
    "                self.transformer_type = self.numerical_transformer\n",
    "        \n",
    "            elif len(dataframeloader.numerical_cols) < 1:\n",
    "#                 print(\"both numeric nand high card cat cols are None\")\n",
    "                # create scikit-learn pipelines instances\n",
    "                self.preprocess_OHE_categorical_data(cat_imputer)\n",
    "                # convert all categorical columns to OneHotEncoder with Scikit-learn ColumnTranfomer\n",
    "                self.columns_transfomer = ColumnTransformer(\n",
    "                    transformers=[\n",
    "                        ('low_card_cat_cols', self.OHE_categorical_transformer,\n",
    "                         dataframeloader.low_card_cat_cols)\n",
    "                    ])\n",
    "                self.transformer_type = self.columns_transfomer\n",
    "        \n",
    "        elif len(dataframeloader.low_card_cat_cols) < 1:\n",
    "            if len(dataframeloader.numerical_cols) < 1:\n",
    "#                 print(\"both numeric nand low card cat cols are None\")\n",
    "                # create scikit-learn pipelines instances\n",
    "                self.preprocess_OHE_categorical_data(cat_imputer)\n",
    "                # convert all categorical columns to OneHotEncoder with Scikit-learn ColumnTranfomer\n",
    "                self.columns_transfomer = ColumnTransformer(\n",
    "                    transformers=[\n",
    "                        ('high_card_cat_cols', self.OHE_categorical_transformer,\n",
    "                         dataframeloader.high_card_cat_cols)\n",
    "                    ])\n",
    "                self.transformer_type = self.columns_transfomer\n",
    "        \n",
    "        elif len(dataframeloader.numerical_cols) < 1:\n",
    "#             print(\"numeric cols are None\")\n",
    "            # create scikit-learn pipelines instances\n",
    "            self.preprocess_OHE_categorical_data(cat_imputer)\n",
    "            # convert all categorical columns to OneHotEncoder with Scikit-learn ColumnTranfomer\n",
    "            self.columns_transfomer = ColumnTransformer(\n",
    "                transformers=[\n",
    "                    ('low_card_cat_cols', self.OHE_categorical_transformer,\n",
    "                     dataframeloader.low_card_cat_cols),\n",
    "                    ('high_card_cat_cols', self.OHE_categorical_transformer,\n",
    "                     dataframeloader.high_card_cat_cols)\n",
    "                ])\n",
    "            self.transformer_type = self.columns_transfomer\n",
    "        else:\n",
    "            # create scikit-learn pipelines instances\n",
    "#             print(\"No cols types are None, So ALL preprocessors called!\")\n",
    "            self.preprocess_numerical_data(num_imputer, num_scaler)\n",
    "            self.preprocess_OHE_categorical_data(cat_imputer)\n",
    "            self.preprocess_OE_categorical_data(cat_imputer)\n",
    "            # convert to Scikit-learn ColumnTranfomer\n",
    "            self.columns_transfomer = ColumnTransformer(\n",
    "                transformers=[\n",
    "                    ('num_cols', self.numerical_transformer,\n",
    "                     dataframeloader.numerical_cols),\n",
    "                    ('low_card_cat_cols', self.OHE_categorical_transformer,\n",
    "                     dataframeloader.low_card_cat_cols),\n",
    "                    ('high_card_cat_cols', self.OHE_categorical_transformer,\n",
    "                     dataframeloader.high_card_cat_cols)\n",
    "                ])\n",
    "            self.transformer_type = self.columns_transfomer\n",
    "        \n",
    "        return self"
   ]
  },
  {
   "cell_type": "code",
   "execution_count": null,
   "id": "81cf5db5",
   "metadata": {},
   "outputs": [],
   "source": [
    "# showdoc(PreProcessor.preprocess_data)"
   ]
  },
  {
   "cell_type": "markdown",
   "id": "883dcf04",
   "metadata": {},
   "source": [
    "#### Test PreProcessor with House Data"
   ]
  },
  {
   "cell_type": "code",
   "execution_count": null,
   "id": "ef8d4901",
   "metadata": {},
   "outputs": [
    {
     "data": {
      "text/plain": [
       "DataFrameLoader object with attributes: X_full, X_test, X(features), y(target), X_train, X_valid, y_train and y_valid"
      ]
     },
     "execution_count": null,
     "metadata": {},
     "output_type": "execute_result"
    }
   ],
   "source": [
    "dfl = DataFrameLoader().from_csv(\n",
    "    train_file_path=\"input/home_data/train.csv\",\n",
    "    test_file_path=\"input/home_data/test.csv\",\n",
    "    idx_col=\"Id\", target=\"SalePrice\",\n",
    "    random_state=42)\n",
    "dfl"
   ]
  },
  {
   "cell_type": "code",
   "execution_count": null,
   "id": "e07205c3",
   "metadata": {},
   "outputs": [],
   "source": [
    "# let's create train, valid split\n",
    "dfl.create_train_valid(valid_size=0.2, random_state = 42)"
   ]
  },
  {
   "cell_type": "code",
   "execution_count": null,
   "id": "5faf8831",
   "metadata": {},
   "outputs": [
    {
     "data": {
      "text/plain": [
       "PreProcessor object with attributes:numerical_transformer, categorical_transformer,columns_transfomer"
      ]
     },
     "execution_count": null,
     "metadata": {},
     "output_type": "execute_result"
    }
   ],
   "source": [
    "pp = PreProcessor().preprocess_all_cols(dataframeloader=dfl)\n",
    "pp"
   ]
  },
  {
   "cell_type": "code",
   "execution_count": null,
   "id": "b8fce59f",
   "metadata": {},
   "outputs": [],
   "source": [
    "# pp.columns_transfomer"
   ]
  },
  {
   "cell_type": "code",
   "execution_count": null,
   "id": "d1f6a256",
   "metadata": {},
   "outputs": [
    {
     "name": "stdout",
     "output_type": "stream",
     "text": [
      "36\n"
     ]
    }
   ],
   "source": [
    "print(len(dfl.numerical_cols))\n",
    "# dfl.numerical_cols"
   ]
  },
  {
   "cell_type": "code",
   "execution_count": null,
   "id": "aed0a0c9",
   "metadata": {},
   "outputs": [
    {
     "name": "stdout",
     "output_type": "stream",
     "text": [
      "3\n"
     ]
    }
   ],
   "source": [
    "print(len(dfl.high_card_cat_cols))\n",
    "# dfl.high_card_cat_cols"
   ]
  },
  {
   "cell_type": "code",
   "execution_count": null,
   "id": "d7c480d8",
   "metadata": {},
   "outputs": [
    {
     "name": "stdout",
     "output_type": "stream",
     "text": [
      "40\n"
     ]
    }
   ],
   "source": [
    "print(len(dfl.low_card_cat_cols))\n",
    "# dfl.low_card_cat_cols"
   ]
  },
  {
   "cell_type": "code",
   "execution_count": null,
   "id": "57973ecf",
   "metadata": {},
   "outputs": [
    {
     "data": {
      "text/plain": [
       "RandomForestRegressor(random_state=42)"
      ]
     },
     "execution_count": null,
     "metadata": {},
     "output_type": "execute_result"
    }
   ],
   "source": [
    "# Define model\n",
    "model = RandomForestRegressor(n_estimators=100, random_state=42)\n",
    "model"
   ]
  },
  {
   "cell_type": "code",
   "execution_count": null,
   "id": "1f314216",
   "metadata": {},
   "outputs": [],
   "source": [
    "# Bundle preprocessor and model in a pipeline\n",
    "pl = Pipeline(steps=[('preprocessor', pp.columns_transfomer),\n",
    "                      ('model', model)\n",
    "                     ])\n",
    "# pl"
   ]
  },
  {
   "cell_type": "code",
   "execution_count": null,
   "id": "6a3fe226",
   "metadata": {},
   "outputs": [
    {
     "data": {
      "text/html": [
       "<style>#sk-dfa19aae-173a-4576-8ab1-3555293b7b25 {color: black;background-color: white;}#sk-dfa19aae-173a-4576-8ab1-3555293b7b25 pre{padding: 0;}#sk-dfa19aae-173a-4576-8ab1-3555293b7b25 div.sk-toggleable {background-color: white;}#sk-dfa19aae-173a-4576-8ab1-3555293b7b25 label.sk-toggleable__label {cursor: pointer;display: block;width: 100%;margin-bottom: 0;padding: 0.3em;box-sizing: border-box;text-align: center;}#sk-dfa19aae-173a-4576-8ab1-3555293b7b25 div.sk-toggleable__content {max-height: 0;max-width: 0;overflow: hidden;text-align: left;background-color: #f0f8ff;}#sk-dfa19aae-173a-4576-8ab1-3555293b7b25 div.sk-toggleable__content pre {margin: 0.2em;color: black;border-radius: 0.25em;background-color: #f0f8ff;}#sk-dfa19aae-173a-4576-8ab1-3555293b7b25 input.sk-toggleable__control:checked~div.sk-toggleable__content {max-height: 200px;max-width: 100%;overflow: auto;}#sk-dfa19aae-173a-4576-8ab1-3555293b7b25 div.sk-estimator input.sk-toggleable__control:checked~label.sk-toggleable__label {background-color: #d4ebff;}#sk-dfa19aae-173a-4576-8ab1-3555293b7b25 div.sk-label input.sk-toggleable__control:checked~label.sk-toggleable__label {background-color: #d4ebff;}#sk-dfa19aae-173a-4576-8ab1-3555293b7b25 input.sk-hidden--visually {border: 0;clip: rect(1px 1px 1px 1px);clip: rect(1px, 1px, 1px, 1px);height: 1px;margin: -1px;overflow: hidden;padding: 0;position: absolute;width: 1px;}#sk-dfa19aae-173a-4576-8ab1-3555293b7b25 div.sk-estimator {font-family: monospace;background-color: #f0f8ff;border: 1px dotted black;border-radius: 0.25em;box-sizing: border-box;margin-bottom: 0.5em;}#sk-dfa19aae-173a-4576-8ab1-3555293b7b25 div.sk-estimator:hover {background-color: #d4ebff;}#sk-dfa19aae-173a-4576-8ab1-3555293b7b25 div.sk-parallel-item::after {content: \"\";width: 100%;border-bottom: 1px solid gray;flex-grow: 1;}#sk-dfa19aae-173a-4576-8ab1-3555293b7b25 div.sk-label:hover label.sk-toggleable__label {background-color: #d4ebff;}#sk-dfa19aae-173a-4576-8ab1-3555293b7b25 div.sk-serial::before {content: \"\";position: absolute;border-left: 1px solid gray;box-sizing: border-box;top: 2em;bottom: 0;left: 50%;}#sk-dfa19aae-173a-4576-8ab1-3555293b7b25 div.sk-serial {display: flex;flex-direction: column;align-items: center;background-color: white;padding-right: 0.2em;padding-left: 0.2em;}#sk-dfa19aae-173a-4576-8ab1-3555293b7b25 div.sk-item {z-index: 1;}#sk-dfa19aae-173a-4576-8ab1-3555293b7b25 div.sk-parallel {display: flex;align-items: stretch;justify-content: center;background-color: white;}#sk-dfa19aae-173a-4576-8ab1-3555293b7b25 div.sk-parallel::before {content: \"\";position: absolute;border-left: 1px solid gray;box-sizing: border-box;top: 2em;bottom: 0;left: 50%;}#sk-dfa19aae-173a-4576-8ab1-3555293b7b25 div.sk-parallel-item {display: flex;flex-direction: column;position: relative;background-color: white;}#sk-dfa19aae-173a-4576-8ab1-3555293b7b25 div.sk-parallel-item:first-child::after {align-self: flex-end;width: 50%;}#sk-dfa19aae-173a-4576-8ab1-3555293b7b25 div.sk-parallel-item:last-child::after {align-self: flex-start;width: 50%;}#sk-dfa19aae-173a-4576-8ab1-3555293b7b25 div.sk-parallel-item:only-child::after {width: 0;}#sk-dfa19aae-173a-4576-8ab1-3555293b7b25 div.sk-dashed-wrapped {border: 1px dashed gray;margin: 0 0.4em 0.5em 0.4em;box-sizing: border-box;padding-bottom: 0.4em;background-color: white;position: relative;}#sk-dfa19aae-173a-4576-8ab1-3555293b7b25 div.sk-label label {font-family: monospace;font-weight: bold;background-color: white;display: inline-block;line-height: 1.2em;}#sk-dfa19aae-173a-4576-8ab1-3555293b7b25 div.sk-label-container {position: relative;z-index: 2;text-align: center;}#sk-dfa19aae-173a-4576-8ab1-3555293b7b25 div.sk-container {display: inline-block;position: relative;}</style><div id=\"sk-dfa19aae-173a-4576-8ab1-3555293b7b25\" class\"sk-top-container\"><div class=\"sk-container\"><div class=\"sk-item sk-dashed-wrapped\"><div class=\"sk-label-container\"><div class=\"sk-label sk-toggleable\"><input class=\"sk-toggleable__control sk-hidden--visually\" id=\"c3baba13-4a1d-4da9-8915-e4c39a421008\" type=\"checkbox\" ><label class=\"sk-toggleable__label\" for=\"c3baba13-4a1d-4da9-8915-e4c39a421008\">Pipeline</label><div class=\"sk-toggleable__content\"><pre>Pipeline(steps=[('preprocessor',\n",
       "                 ColumnTransformer(transformers=[('num_cols',\n",
       "                                                  Pipeline(steps=[('imputer',\n",
       "                                                                   SimpleImputer(strategy='median')),\n",
       "                                                                  ('scaler',\n",
       "                                                                   StandardScaler())]),\n",
       "                                                  ['MSSubClass', 'LotFrontage',\n",
       "                                                   'LotArea', 'OverallQual',\n",
       "                                                   'OverallCond', 'YearBuilt',\n",
       "                                                   'YearRemodAdd', 'MasVnrArea',\n",
       "                                                   'BsmtFinSF1', 'BsmtFinSF2',\n",
       "                                                   'BsmtUnfSF', 'TotalBsmtSF',\n",
       "                                                   '1stFlrSF', '2ndFlrSF',\n",
       "                                                   'Lo...\n",
       "                                                   'BsmtFinType1',\n",
       "                                                   'BsmtFinType2', 'Heating',\n",
       "                                                   'HeatingQC', 'CentralAir',\n",
       "                                                   'Electrical', 'KitchenQual',\n",
       "                                                   'Functional', 'FireplaceQu', ...]),\n",
       "                                                 ('high_card_cat_cols',\n",
       "                                                  Pipeline(steps=[('imputer',\n",
       "                                                                   SimpleImputer(strategy='constant')),\n",
       "                                                                  ('onehot',\n",
       "                                                                   OneHotEncoder(handle_unknown='ignore'))]),\n",
       "                                                  ['Neighborhood',\n",
       "                                                   'Exterior1st',\n",
       "                                                   'Exterior2nd'])])),\n",
       "                ('model', RandomForestRegressor(random_state=42))])</pre></div></div></div><div class=\"sk-serial\"><div class=\"sk-item sk-dashed-wrapped\"><div class=\"sk-label-container\"><div class=\"sk-label sk-toggleable\"><input class=\"sk-toggleable__control sk-hidden--visually\" id=\"d83a4229-f24d-4ee1-bd26-74f745ecc44f\" type=\"checkbox\" ><label class=\"sk-toggleable__label\" for=\"d83a4229-f24d-4ee1-bd26-74f745ecc44f\">preprocessor: ColumnTransformer</label><div class=\"sk-toggleable__content\"><pre>ColumnTransformer(transformers=[('num_cols',\n",
       "                                 Pipeline(steps=[('imputer',\n",
       "                                                  SimpleImputer(strategy='median')),\n",
       "                                                 ('scaler', StandardScaler())]),\n",
       "                                 ['MSSubClass', 'LotFrontage', 'LotArea',\n",
       "                                  'OverallQual', 'OverallCond', 'YearBuilt',\n",
       "                                  'YearRemodAdd', 'MasVnrArea', 'BsmtFinSF1',\n",
       "                                  'BsmtFinSF2', 'BsmtUnfSF', 'TotalBsmtSF',\n",
       "                                  '1stFlrSF', '2ndFlrSF', 'LowQualFinSF',\n",
       "                                  'GrLivArea', 'BsmtFul...\n",
       "                                  'ExterCond', 'Foundation', 'BsmtQual',\n",
       "                                  'BsmtCond', 'BsmtExposure', 'BsmtFinType1',\n",
       "                                  'BsmtFinType2', 'Heating', 'HeatingQC',\n",
       "                                  'CentralAir', 'Electrical', 'KitchenQual',\n",
       "                                  'Functional', 'FireplaceQu', ...]),\n",
       "                                ('high_card_cat_cols',\n",
       "                                 Pipeline(steps=[('imputer',\n",
       "                                                  SimpleImputer(strategy='constant')),\n",
       "                                                 ('onehot',\n",
       "                                                  OneHotEncoder(handle_unknown='ignore'))]),\n",
       "                                 ['Neighborhood', 'Exterior1st',\n",
       "                                  'Exterior2nd'])])</pre></div></div></div><div class=\"sk-parallel\"><div class=\"sk-parallel-item\"><div class=\"sk-item\"><div class=\"sk-label-container\"><div class=\"sk-label sk-toggleable\"><input class=\"sk-toggleable__control sk-hidden--visually\" id=\"f30975c0-722b-4535-8587-7336f560d101\" type=\"checkbox\" ><label class=\"sk-toggleable__label\" for=\"f30975c0-722b-4535-8587-7336f560d101\">num_cols</label><div class=\"sk-toggleable__content\"><pre>['MSSubClass', 'LotFrontage', 'LotArea', 'OverallQual', 'OverallCond', 'YearBuilt', 'YearRemodAdd', 'MasVnrArea', 'BsmtFinSF1', 'BsmtFinSF2', 'BsmtUnfSF', 'TotalBsmtSF', '1stFlrSF', '2ndFlrSF', 'LowQualFinSF', 'GrLivArea', 'BsmtFullBath', 'BsmtHalfBath', 'FullBath', 'HalfBath', 'BedroomAbvGr', 'KitchenAbvGr', 'TotRmsAbvGrd', 'Fireplaces', 'GarageYrBlt', 'GarageCars', 'GarageArea', 'WoodDeckSF', 'OpenPorchSF', 'EnclosedPorch', '3SsnPorch', 'ScreenPorch', 'PoolArea', 'MiscVal', 'MoSold', 'YrSold']</pre></div></div></div><div class=\"sk-serial\"><div class=\"sk-item\"><div class=\"sk-serial\"><div class=\"sk-item\"><div class=\"sk-estimator sk-toggleable\"><input class=\"sk-toggleable__control sk-hidden--visually\" id=\"65bb4428-c338-447a-b285-81cb1407e5c0\" type=\"checkbox\" ><label class=\"sk-toggleable__label\" for=\"65bb4428-c338-447a-b285-81cb1407e5c0\">SimpleImputer</label><div class=\"sk-toggleable__content\"><pre>SimpleImputer(strategy='median')</pre></div></div></div><div class=\"sk-item\"><div class=\"sk-estimator sk-toggleable\"><input class=\"sk-toggleable__control sk-hidden--visually\" id=\"3aeba5fd-8f08-47e9-b7f4-23b69c8e3dac\" type=\"checkbox\" ><label class=\"sk-toggleable__label\" for=\"3aeba5fd-8f08-47e9-b7f4-23b69c8e3dac\">StandardScaler</label><div class=\"sk-toggleable__content\"><pre>StandardScaler()</pre></div></div></div></div></div></div></div></div><div class=\"sk-parallel-item\"><div class=\"sk-item\"><div class=\"sk-label-container\"><div class=\"sk-label sk-toggleable\"><input class=\"sk-toggleable__control sk-hidden--visually\" id=\"848bf774-e225-4bf1-8c6b-6d08152ba75b\" type=\"checkbox\" ><label class=\"sk-toggleable__label\" for=\"848bf774-e225-4bf1-8c6b-6d08152ba75b\">low_card_cat_cols</label><div class=\"sk-toggleable__content\"><pre>['MSZoning', 'Street', 'Alley', 'LotShape', 'LandContour', 'Utilities', 'LotConfig', 'LandSlope', 'Condition1', 'Condition2', 'BldgType', 'HouseStyle', 'RoofStyle', 'RoofMatl', 'MasVnrType', 'ExterQual', 'ExterCond', 'Foundation', 'BsmtQual', 'BsmtCond', 'BsmtExposure', 'BsmtFinType1', 'BsmtFinType2', 'Heating', 'HeatingQC', 'CentralAir', 'Electrical', 'KitchenQual', 'Functional', 'FireplaceQu', 'GarageType', 'GarageFinish', 'GarageQual', 'GarageCond', 'PavedDrive', 'PoolQC', 'Fence', 'MiscFeature', 'SaleType', 'SaleCondition']</pre></div></div></div><div class=\"sk-serial\"><div class=\"sk-item\"><div class=\"sk-serial\"><div class=\"sk-item\"><div class=\"sk-estimator sk-toggleable\"><input class=\"sk-toggleable__control sk-hidden--visually\" id=\"051b6ec8-6ef0-4f03-8e4d-504a35ef96c2\" type=\"checkbox\" ><label class=\"sk-toggleable__label\" for=\"051b6ec8-6ef0-4f03-8e4d-504a35ef96c2\">SimpleImputer</label><div class=\"sk-toggleable__content\"><pre>SimpleImputer(strategy='constant')</pre></div></div></div><div class=\"sk-item\"><div class=\"sk-estimator sk-toggleable\"><input class=\"sk-toggleable__control sk-hidden--visually\" id=\"7b767b25-09cf-444e-86d5-8a6a5924af03\" type=\"checkbox\" ><label class=\"sk-toggleable__label\" for=\"7b767b25-09cf-444e-86d5-8a6a5924af03\">OneHotEncoder</label><div class=\"sk-toggleable__content\"><pre>OneHotEncoder(handle_unknown='ignore')</pre></div></div></div></div></div></div></div></div><div class=\"sk-parallel-item\"><div class=\"sk-item\"><div class=\"sk-label-container\"><div class=\"sk-label sk-toggleable\"><input class=\"sk-toggleable__control sk-hidden--visually\" id=\"316ea785-7a47-4298-8a35-a2a67a2e903f\" type=\"checkbox\" ><label class=\"sk-toggleable__label\" for=\"316ea785-7a47-4298-8a35-a2a67a2e903f\">high_card_cat_cols</label><div class=\"sk-toggleable__content\"><pre>['Neighborhood', 'Exterior1st', 'Exterior2nd']</pre></div></div></div><div class=\"sk-serial\"><div class=\"sk-item\"><div class=\"sk-serial\"><div class=\"sk-item\"><div class=\"sk-estimator sk-toggleable\"><input class=\"sk-toggleable__control sk-hidden--visually\" id=\"87f9876a-538d-4038-849c-a372b73cc7d5\" type=\"checkbox\" ><label class=\"sk-toggleable__label\" for=\"87f9876a-538d-4038-849c-a372b73cc7d5\">SimpleImputer</label><div class=\"sk-toggleable__content\"><pre>SimpleImputer(strategy='constant')</pre></div></div></div><div class=\"sk-item\"><div class=\"sk-estimator sk-toggleable\"><input class=\"sk-toggleable__control sk-hidden--visually\" id=\"5bbb7795-12a7-4c8b-9201-ade2733ba787\" type=\"checkbox\" ><label class=\"sk-toggleable__label\" for=\"5bbb7795-12a7-4c8b-9201-ade2733ba787\">OneHotEncoder</label><div class=\"sk-toggleable__content\"><pre>OneHotEncoder(handle_unknown='ignore')</pre></div></div></div></div></div></div></div></div></div></div><div class=\"sk-item\"><div class=\"sk-estimator sk-toggleable\"><input class=\"sk-toggleable__control sk-hidden--visually\" id=\"e4b96af4-1dbb-48ea-8143-f14d22199c19\" type=\"checkbox\" ><label class=\"sk-toggleable__label\" for=\"e4b96af4-1dbb-48ea-8143-f14d22199c19\">RandomForestRegressor</label><div class=\"sk-toggleable__content\"><pre>RandomForestRegressor(random_state=42)</pre></div></div></div></div></div></div></div>"
      ],
      "text/plain": [
       "Pipeline(steps=[('preprocessor',\n",
       "                 ColumnTransformer(transformers=[('num_cols',\n",
       "                                                  Pipeline(steps=[('imputer',\n",
       "                                                                   SimpleImputer(strategy='median')),\n",
       "                                                                  ('scaler',\n",
       "                                                                   StandardScaler())]),\n",
       "                                                  ['MSSubClass', 'LotFrontage',\n",
       "                                                   'LotArea', 'OverallQual',\n",
       "                                                   'OverallCond', 'YearBuilt',\n",
       "                                                   'YearRemodAdd', 'MasVnrArea',\n",
       "                                                   'BsmtFinSF1', 'BsmtFinSF2',\n",
       "                                                   'BsmtUnfSF', 'TotalBsmtSF',\n",
       "                                                   '1stFlrSF', '2ndFlrSF',\n",
       "                                                   'Lo...\n",
       "                                                   'BsmtFinType1',\n",
       "                                                   'BsmtFinType2', 'Heating',\n",
       "                                                   'HeatingQC', 'CentralAir',\n",
       "                                                   'Electrical', 'KitchenQual',\n",
       "                                                   'Functional', 'FireplaceQu', ...]),\n",
       "                                                 ('high_card_cat_cols',\n",
       "                                                  Pipeline(steps=[('imputer',\n",
       "                                                                   SimpleImputer(strategy='constant')),\n",
       "                                                                  ('onehot',\n",
       "                                                                   OneHotEncoder(handle_unknown='ignore'))]),\n",
       "                                                  ['Neighborhood',\n",
       "                                                   'Exterior1st',\n",
       "                                                   'Exterior2nd'])])),\n",
       "                ('model', RandomForestRegressor(random_state=42))])"
      ]
     },
     "execution_count": null,
     "metadata": {},
     "output_type": "execute_result"
    }
   ],
   "source": [
    "# for visualizing pipeline\n",
    "from sklearn import set_config\n",
    "\n",
    "set_config(display=\"diagram\")\n",
    "pl"
   ]
  },
  {
   "cell_type": "code",
   "execution_count": null,
   "id": "a7ff6f0d",
   "metadata": {},
   "outputs": [
    {
     "data": {
      "text/html": [
       "<style>#sk-f68ab7e6-05b2-40f2-bfc7-f495ff1416b1 {color: black;background-color: white;}#sk-f68ab7e6-05b2-40f2-bfc7-f495ff1416b1 pre{padding: 0;}#sk-f68ab7e6-05b2-40f2-bfc7-f495ff1416b1 div.sk-toggleable {background-color: white;}#sk-f68ab7e6-05b2-40f2-bfc7-f495ff1416b1 label.sk-toggleable__label {cursor: pointer;display: block;width: 100%;margin-bottom: 0;padding: 0.3em;box-sizing: border-box;text-align: center;}#sk-f68ab7e6-05b2-40f2-bfc7-f495ff1416b1 div.sk-toggleable__content {max-height: 0;max-width: 0;overflow: hidden;text-align: left;background-color: #f0f8ff;}#sk-f68ab7e6-05b2-40f2-bfc7-f495ff1416b1 div.sk-toggleable__content pre {margin: 0.2em;color: black;border-radius: 0.25em;background-color: #f0f8ff;}#sk-f68ab7e6-05b2-40f2-bfc7-f495ff1416b1 input.sk-toggleable__control:checked~div.sk-toggleable__content {max-height: 200px;max-width: 100%;overflow: auto;}#sk-f68ab7e6-05b2-40f2-bfc7-f495ff1416b1 div.sk-estimator input.sk-toggleable__control:checked~label.sk-toggleable__label {background-color: #d4ebff;}#sk-f68ab7e6-05b2-40f2-bfc7-f495ff1416b1 div.sk-label input.sk-toggleable__control:checked~label.sk-toggleable__label {background-color: #d4ebff;}#sk-f68ab7e6-05b2-40f2-bfc7-f495ff1416b1 input.sk-hidden--visually {border: 0;clip: rect(1px 1px 1px 1px);clip: rect(1px, 1px, 1px, 1px);height: 1px;margin: -1px;overflow: hidden;padding: 0;position: absolute;width: 1px;}#sk-f68ab7e6-05b2-40f2-bfc7-f495ff1416b1 div.sk-estimator {font-family: monospace;background-color: #f0f8ff;border: 1px dotted black;border-radius: 0.25em;box-sizing: border-box;margin-bottom: 0.5em;}#sk-f68ab7e6-05b2-40f2-bfc7-f495ff1416b1 div.sk-estimator:hover {background-color: #d4ebff;}#sk-f68ab7e6-05b2-40f2-bfc7-f495ff1416b1 div.sk-parallel-item::after {content: \"\";width: 100%;border-bottom: 1px solid gray;flex-grow: 1;}#sk-f68ab7e6-05b2-40f2-bfc7-f495ff1416b1 div.sk-label:hover label.sk-toggleable__label {background-color: #d4ebff;}#sk-f68ab7e6-05b2-40f2-bfc7-f495ff1416b1 div.sk-serial::before {content: \"\";position: absolute;border-left: 1px solid gray;box-sizing: border-box;top: 2em;bottom: 0;left: 50%;}#sk-f68ab7e6-05b2-40f2-bfc7-f495ff1416b1 div.sk-serial {display: flex;flex-direction: column;align-items: center;background-color: white;padding-right: 0.2em;padding-left: 0.2em;}#sk-f68ab7e6-05b2-40f2-bfc7-f495ff1416b1 div.sk-item {z-index: 1;}#sk-f68ab7e6-05b2-40f2-bfc7-f495ff1416b1 div.sk-parallel {display: flex;align-items: stretch;justify-content: center;background-color: white;}#sk-f68ab7e6-05b2-40f2-bfc7-f495ff1416b1 div.sk-parallel::before {content: \"\";position: absolute;border-left: 1px solid gray;box-sizing: border-box;top: 2em;bottom: 0;left: 50%;}#sk-f68ab7e6-05b2-40f2-bfc7-f495ff1416b1 div.sk-parallel-item {display: flex;flex-direction: column;position: relative;background-color: white;}#sk-f68ab7e6-05b2-40f2-bfc7-f495ff1416b1 div.sk-parallel-item:first-child::after {align-self: flex-end;width: 50%;}#sk-f68ab7e6-05b2-40f2-bfc7-f495ff1416b1 div.sk-parallel-item:last-child::after {align-self: flex-start;width: 50%;}#sk-f68ab7e6-05b2-40f2-bfc7-f495ff1416b1 div.sk-parallel-item:only-child::after {width: 0;}#sk-f68ab7e6-05b2-40f2-bfc7-f495ff1416b1 div.sk-dashed-wrapped {border: 1px dashed gray;margin: 0 0.4em 0.5em 0.4em;box-sizing: border-box;padding-bottom: 0.4em;background-color: white;position: relative;}#sk-f68ab7e6-05b2-40f2-bfc7-f495ff1416b1 div.sk-label label {font-family: monospace;font-weight: bold;background-color: white;display: inline-block;line-height: 1.2em;}#sk-f68ab7e6-05b2-40f2-bfc7-f495ff1416b1 div.sk-label-container {position: relative;z-index: 2;text-align: center;}#sk-f68ab7e6-05b2-40f2-bfc7-f495ff1416b1 div.sk-container {display: inline-block;position: relative;}</style><div id=\"sk-f68ab7e6-05b2-40f2-bfc7-f495ff1416b1\" class\"sk-top-container\"><div class=\"sk-container\"><div class=\"sk-item sk-dashed-wrapped\"><div class=\"sk-label-container\"><div class=\"sk-label sk-toggleable\"><input class=\"sk-toggleable__control sk-hidden--visually\" id=\"3dbb6f9e-fcd8-4a7f-ac16-187b7b68db60\" type=\"checkbox\" ><label class=\"sk-toggleable__label\" for=\"3dbb6f9e-fcd8-4a7f-ac16-187b7b68db60\">Pipeline</label><div class=\"sk-toggleable__content\"><pre>Pipeline(steps=[('preprocessor',\n",
       "                 ColumnTransformer(transformers=[('num_cols',\n",
       "                                                  Pipeline(steps=[('imputer',\n",
       "                                                                   SimpleImputer(strategy='median')),\n",
       "                                                                  ('scaler',\n",
       "                                                                   StandardScaler())]),\n",
       "                                                  ['MSSubClass', 'LotFrontage',\n",
       "                                                   'LotArea', 'OverallQual',\n",
       "                                                   'OverallCond', 'YearBuilt',\n",
       "                                                   'YearRemodAdd', 'MasVnrArea',\n",
       "                                                   'BsmtFinSF1', 'BsmtFinSF2',\n",
       "                                                   'BsmtUnfSF', 'TotalBsmtSF',\n",
       "                                                   '1stFlrSF', '2ndFlrSF',\n",
       "                                                   'Lo...\n",
       "                                                   'BsmtFinType1',\n",
       "                                                   'BsmtFinType2', 'Heating',\n",
       "                                                   'HeatingQC', 'CentralAir',\n",
       "                                                   'Electrical', 'KitchenQual',\n",
       "                                                   'Functional', 'FireplaceQu', ...]),\n",
       "                                                 ('high_card_cat_cols',\n",
       "                                                  Pipeline(steps=[('imputer',\n",
       "                                                                   SimpleImputer(strategy='constant')),\n",
       "                                                                  ('onehot',\n",
       "                                                                   OneHotEncoder(handle_unknown='ignore'))]),\n",
       "                                                  ['Neighborhood',\n",
       "                                                   'Exterior1st',\n",
       "                                                   'Exterior2nd'])])),\n",
       "                ('model', RandomForestRegressor(random_state=42))])</pre></div></div></div><div class=\"sk-serial\"><div class=\"sk-item sk-dashed-wrapped\"><div class=\"sk-label-container\"><div class=\"sk-label sk-toggleable\"><input class=\"sk-toggleable__control sk-hidden--visually\" id=\"3f8a6703-6602-4652-92ba-f809f0cb7bde\" type=\"checkbox\" ><label class=\"sk-toggleable__label\" for=\"3f8a6703-6602-4652-92ba-f809f0cb7bde\">preprocessor: ColumnTransformer</label><div class=\"sk-toggleable__content\"><pre>ColumnTransformer(transformers=[('num_cols',\n",
       "                                 Pipeline(steps=[('imputer',\n",
       "                                                  SimpleImputer(strategy='median')),\n",
       "                                                 ('scaler', StandardScaler())]),\n",
       "                                 ['MSSubClass', 'LotFrontage', 'LotArea',\n",
       "                                  'OverallQual', 'OverallCond', 'YearBuilt',\n",
       "                                  'YearRemodAdd', 'MasVnrArea', 'BsmtFinSF1',\n",
       "                                  'BsmtFinSF2', 'BsmtUnfSF', 'TotalBsmtSF',\n",
       "                                  '1stFlrSF', '2ndFlrSF', 'LowQualFinSF',\n",
       "                                  'GrLivArea', 'BsmtFul...\n",
       "                                  'ExterCond', 'Foundation', 'BsmtQual',\n",
       "                                  'BsmtCond', 'BsmtExposure', 'BsmtFinType1',\n",
       "                                  'BsmtFinType2', 'Heating', 'HeatingQC',\n",
       "                                  'CentralAir', 'Electrical', 'KitchenQual',\n",
       "                                  'Functional', 'FireplaceQu', ...]),\n",
       "                                ('high_card_cat_cols',\n",
       "                                 Pipeline(steps=[('imputer',\n",
       "                                                  SimpleImputer(strategy='constant')),\n",
       "                                                 ('onehot',\n",
       "                                                  OneHotEncoder(handle_unknown='ignore'))]),\n",
       "                                 ['Neighborhood', 'Exterior1st',\n",
       "                                  'Exterior2nd'])])</pre></div></div></div><div class=\"sk-parallel\"><div class=\"sk-parallel-item\"><div class=\"sk-item\"><div class=\"sk-label-container\"><div class=\"sk-label sk-toggleable\"><input class=\"sk-toggleable__control sk-hidden--visually\" id=\"806bd147-a96e-4816-9e46-8e6df79b04f1\" type=\"checkbox\" ><label class=\"sk-toggleable__label\" for=\"806bd147-a96e-4816-9e46-8e6df79b04f1\">num_cols</label><div class=\"sk-toggleable__content\"><pre>['MSSubClass', 'LotFrontage', 'LotArea', 'OverallQual', 'OverallCond', 'YearBuilt', 'YearRemodAdd', 'MasVnrArea', 'BsmtFinSF1', 'BsmtFinSF2', 'BsmtUnfSF', 'TotalBsmtSF', '1stFlrSF', '2ndFlrSF', 'LowQualFinSF', 'GrLivArea', 'BsmtFullBath', 'BsmtHalfBath', 'FullBath', 'HalfBath', 'BedroomAbvGr', 'KitchenAbvGr', 'TotRmsAbvGrd', 'Fireplaces', 'GarageYrBlt', 'GarageCars', 'GarageArea', 'WoodDeckSF', 'OpenPorchSF', 'EnclosedPorch', '3SsnPorch', 'ScreenPorch', 'PoolArea', 'MiscVal', 'MoSold', 'YrSold']</pre></div></div></div><div class=\"sk-serial\"><div class=\"sk-item\"><div class=\"sk-serial\"><div class=\"sk-item\"><div class=\"sk-estimator sk-toggleable\"><input class=\"sk-toggleable__control sk-hidden--visually\" id=\"4f603121-90db-4b47-9aa3-b61111209176\" type=\"checkbox\" ><label class=\"sk-toggleable__label\" for=\"4f603121-90db-4b47-9aa3-b61111209176\">SimpleImputer</label><div class=\"sk-toggleable__content\"><pre>SimpleImputer(strategy='median')</pre></div></div></div><div class=\"sk-item\"><div class=\"sk-estimator sk-toggleable\"><input class=\"sk-toggleable__control sk-hidden--visually\" id=\"0101cf27-32f4-4075-b559-4e8f85a2b473\" type=\"checkbox\" ><label class=\"sk-toggleable__label\" for=\"0101cf27-32f4-4075-b559-4e8f85a2b473\">StandardScaler</label><div class=\"sk-toggleable__content\"><pre>StandardScaler()</pre></div></div></div></div></div></div></div></div><div class=\"sk-parallel-item\"><div class=\"sk-item\"><div class=\"sk-label-container\"><div class=\"sk-label sk-toggleable\"><input class=\"sk-toggleable__control sk-hidden--visually\" id=\"4b38a003-7cf2-41ba-99dd-d5299db41462\" type=\"checkbox\" ><label class=\"sk-toggleable__label\" for=\"4b38a003-7cf2-41ba-99dd-d5299db41462\">low_card_cat_cols</label><div class=\"sk-toggleable__content\"><pre>['MSZoning', 'Street', 'Alley', 'LotShape', 'LandContour', 'Utilities', 'LotConfig', 'LandSlope', 'Condition1', 'Condition2', 'BldgType', 'HouseStyle', 'RoofStyle', 'RoofMatl', 'MasVnrType', 'ExterQual', 'ExterCond', 'Foundation', 'BsmtQual', 'BsmtCond', 'BsmtExposure', 'BsmtFinType1', 'BsmtFinType2', 'Heating', 'HeatingQC', 'CentralAir', 'Electrical', 'KitchenQual', 'Functional', 'FireplaceQu', 'GarageType', 'GarageFinish', 'GarageQual', 'GarageCond', 'PavedDrive', 'PoolQC', 'Fence', 'MiscFeature', 'SaleType', 'SaleCondition']</pre></div></div></div><div class=\"sk-serial\"><div class=\"sk-item\"><div class=\"sk-serial\"><div class=\"sk-item\"><div class=\"sk-estimator sk-toggleable\"><input class=\"sk-toggleable__control sk-hidden--visually\" id=\"8fceb770-ca87-4139-8a2d-1b0dc0272ce5\" type=\"checkbox\" ><label class=\"sk-toggleable__label\" for=\"8fceb770-ca87-4139-8a2d-1b0dc0272ce5\">SimpleImputer</label><div class=\"sk-toggleable__content\"><pre>SimpleImputer(strategy='constant')</pre></div></div></div><div class=\"sk-item\"><div class=\"sk-estimator sk-toggleable\"><input class=\"sk-toggleable__control sk-hidden--visually\" id=\"ba66f86d-8e56-4e7a-8e44-ea726c4eec23\" type=\"checkbox\" ><label class=\"sk-toggleable__label\" for=\"ba66f86d-8e56-4e7a-8e44-ea726c4eec23\">OneHotEncoder</label><div class=\"sk-toggleable__content\"><pre>OneHotEncoder(handle_unknown='ignore')</pre></div></div></div></div></div></div></div></div><div class=\"sk-parallel-item\"><div class=\"sk-item\"><div class=\"sk-label-container\"><div class=\"sk-label sk-toggleable\"><input class=\"sk-toggleable__control sk-hidden--visually\" id=\"0a67282e-9081-4a42-b588-905e96c9c948\" type=\"checkbox\" ><label class=\"sk-toggleable__label\" for=\"0a67282e-9081-4a42-b588-905e96c9c948\">high_card_cat_cols</label><div class=\"sk-toggleable__content\"><pre>['Neighborhood', 'Exterior1st', 'Exterior2nd']</pre></div></div></div><div class=\"sk-serial\"><div class=\"sk-item\"><div class=\"sk-serial\"><div class=\"sk-item\"><div class=\"sk-estimator sk-toggleable\"><input class=\"sk-toggleable__control sk-hidden--visually\" id=\"afe5c47b-b9e6-4dd3-ad69-d4afb75080f7\" type=\"checkbox\" ><label class=\"sk-toggleable__label\" for=\"afe5c47b-b9e6-4dd3-ad69-d4afb75080f7\">SimpleImputer</label><div class=\"sk-toggleable__content\"><pre>SimpleImputer(strategy='constant')</pre></div></div></div><div class=\"sk-item\"><div class=\"sk-estimator sk-toggleable\"><input class=\"sk-toggleable__control sk-hidden--visually\" id=\"2d921f68-7a1f-45e3-8cbd-69b93fa1769c\" type=\"checkbox\" ><label class=\"sk-toggleable__label\" for=\"2d921f68-7a1f-45e3-8cbd-69b93fa1769c\">OneHotEncoder</label><div class=\"sk-toggleable__content\"><pre>OneHotEncoder(handle_unknown='ignore')</pre></div></div></div></div></div></div></div></div></div></div><div class=\"sk-item\"><div class=\"sk-estimator sk-toggleable\"><input class=\"sk-toggleable__control sk-hidden--visually\" id=\"7011cadd-d7aa-4e50-b2b1-2d8b19abb0df\" type=\"checkbox\" ><label class=\"sk-toggleable__label\" for=\"7011cadd-d7aa-4e50-b2b1-2d8b19abb0df\">RandomForestRegressor</label><div class=\"sk-toggleable__content\"><pre>RandomForestRegressor(random_state=42)</pre></div></div></div></div></div></div></div>"
      ],
      "text/plain": [
       "Pipeline(steps=[('preprocessor',\n",
       "                 ColumnTransformer(transformers=[('num_cols',\n",
       "                                                  Pipeline(steps=[('imputer',\n",
       "                                                                   SimpleImputer(strategy='median')),\n",
       "                                                                  ('scaler',\n",
       "                                                                   StandardScaler())]),\n",
       "                                                  ['MSSubClass', 'LotFrontage',\n",
       "                                                   'LotArea', 'OverallQual',\n",
       "                                                   'OverallCond', 'YearBuilt',\n",
       "                                                   'YearRemodAdd', 'MasVnrArea',\n",
       "                                                   'BsmtFinSF1', 'BsmtFinSF2',\n",
       "                                                   'BsmtUnfSF', 'TotalBsmtSF',\n",
       "                                                   '1stFlrSF', '2ndFlrSF',\n",
       "                                                   'Lo...\n",
       "                                                   'BsmtFinType1',\n",
       "                                                   'BsmtFinType2', 'Heating',\n",
       "                                                   'HeatingQC', 'CentralAir',\n",
       "                                                   'Electrical', 'KitchenQual',\n",
       "                                                   'Functional', 'FireplaceQu', ...]),\n",
       "                                                 ('high_card_cat_cols',\n",
       "                                                  Pipeline(steps=[('imputer',\n",
       "                                                                   SimpleImputer(strategy='constant')),\n",
       "                                                                  ('onehot',\n",
       "                                                                   OneHotEncoder(handle_unknown='ignore'))]),\n",
       "                                                  ['Neighborhood',\n",
       "                                                   'Exterior1st',\n",
       "                                                   'Exterior2nd'])])),\n",
       "                ('model', RandomForestRegressor(random_state=42))])"
      ]
     },
     "execution_count": null,
     "metadata": {},
     "output_type": "execute_result"
    }
   ],
   "source": [
    "# Preprocessing of training data and then fit model \n",
    "pl.fit(dfl.X_train, dfl.y_train)"
   ]
  },
  {
   "cell_type": "code",
   "execution_count": null,
   "id": "1dd7c811",
   "metadata": {},
   "outputs": [
    {
     "name": "stdout",
     "output_type": "stream",
     "text": [
      "X_valid MAE: 17634.989965753426\n"
     ]
    }
   ],
   "source": [
    "# Preprocessing of validation data and then get predictions\n",
    "preds = pl.predict(dfl.X_valid)\n",
    "\n",
    "print('X_valid MAE:', mean_absolute_error(dfl.y_valid, preds))"
   ]
  },
  {
   "cell_type": "code",
   "execution_count": null,
   "id": "3b9aa318",
   "metadata": {},
   "outputs": [],
   "source": [
    "# X_valid MAE: 17582.46150684932"
   ]
  },
  {
   "cell_type": "code",
   "execution_count": null,
   "id": "c4f91f6f",
   "metadata": {},
   "outputs": [
    {
     "name": "stdout",
     "output_type": "stream",
     "text": [
      "Converted 00_DataFrameLoader.ipynb.\n",
      "Converted 01_PreProcessor.ipynb.\n",
      "Converted 02_MLPipeline.ipynb.\n",
      "Converted 03_Tutorial.ipynb.\n",
      "Converted 07_Kaggle_TPS_Tutorial.ipynb.\n",
      "Converted Optuna_Tutorial.ipynb.\n",
      "Converted automl_in_sklearn_pipeline.ipynb.\n",
      "Converted index.ipynb.\n"
     ]
    }
   ],
   "source": [
    "# hide\n",
    "# run the script to build \n",
    "\n",
    "from nbdev.export import notebook2script; notebook2script()"
   ]
  },
  {
   "cell_type": "code",
   "execution_count": null,
   "id": "2a4a0f5b",
   "metadata": {},
   "outputs": [],
   "source": []
  }
 ],
 "metadata": {
  "kernelspec": {
   "display_name": "Python 3 (ipykernel)",
   "language": "python",
   "name": "python3"
  }
 },
 "nbformat": 4,
 "nbformat_minor": 5
}
