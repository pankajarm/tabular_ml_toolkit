{
 "cells": [
  {
   "cell_type": "code",
   "execution_count": null,
   "id": "d3b66279",
   "metadata": {},
   "outputs": [],
   "source": [
    "# default_exp preprocessor"
   ]
  },
  {
   "cell_type": "markdown",
   "id": "c469e3c1",
   "metadata": {},
   "source": [
    "# PreProcessor\n",
    "\n",
    "> An API to Preprocess train, valid and test dataset for Machine Learning models based on tabular or strucuture data"
   ]
  },
  {
   "cell_type": "code",
   "execution_count": null,
   "id": "4ce63e38",
   "metadata": {},
   "outputs": [],
   "source": [
    "#hide\n",
    "from nbdev import *"
   ]
  },
  {
   "cell_type": "code",
   "execution_count": null,
   "id": "cc9ff301",
   "metadata": {},
   "outputs": [],
   "source": [
    "# export\n",
    "from tabular_ml_toolkit.dataframeloader import *"
   ]
  },
  {
   "cell_type": "code",
   "execution_count": null,
   "id": "5ee899e5",
   "metadata": {},
   "outputs": [],
   "source": [
    "# export\n",
    "# hide\n",
    "import pandas as pd\n",
    "from sklearn.compose import ColumnTransformer\n",
    "from sklearn.pipeline import Pipeline\n",
    "from sklearn.impute import SimpleImputer\n",
    "from sklearn.preprocessing import OneHotEncoder\n",
    "from sklearn.ensemble import RandomForestRegressor\n",
    "from sklearn.metrics import mean_absolute_error"
   ]
  }
 ],
 "metadata": {
  "kernelspec": {
   "display_name": "Python 3 (ipykernel)",
   "language": "python",
   "name": "python3"
  }
 },
 "nbformat": 4,
 "nbformat_minor": 5
}
