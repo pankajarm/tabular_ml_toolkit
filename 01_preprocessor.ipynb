{
 "cells": [
  {
   "cell_type": "code",
   "execution_count": 1,
   "id": "739ab7e2",
   "metadata": {},
   "outputs": [],
   "source": [
    "%load_ext autoreload\n",
    "%autoreload 2"
   ]
  },
  {
   "cell_type": "code",
   "execution_count": 2,
   "id": "d3b66279",
   "metadata": {},
   "outputs": [],
   "source": [
    "# default_exp preprocessor"
   ]
  },
  {
   "cell_type": "markdown",
   "id": "c469e3c1",
   "metadata": {},
   "source": [
    "# PreProcessor\n",
    "\n",
    "> An API to Preprocess train, valid and test dataset for Machine Learning models based on tabular or strucuture data"
   ]
  },
  {
   "cell_type": "code",
   "execution_count": 3,
   "id": "4ce63e38",
   "metadata": {},
   "outputs": [],
   "source": [
    "#hide\n",
    "from nbdev.showdoc import *\n",
    "from nbdev import *"
   ]
  },
  {
   "cell_type": "code",
   "execution_count": 4,
   "id": "cc9ff301",
   "metadata": {},
   "outputs": [],
   "source": [
    "# export\n",
    "from tabular_ml_toolkit.dataframeloader import *\n",
    "from tabular_ml_toolkit.logger import *"
   ]
  },
  {
   "cell_type": "code",
   "execution_count": 5,
   "id": "5ee899e5",
   "metadata": {},
   "outputs": [],
   "source": [
    "# export\n",
    "# hide\n",
    "import pandas as pd\n",
    "from sklearn.compose import ColumnTransformer\n",
    "from sklearn.pipeline import Pipeline\n",
    "from sklearn.impute import SimpleImputer\n",
    "from sklearn.preprocessing import OneHotEncoder, OrdinalEncoder, StandardScaler, MinMaxScaler\n",
    "from sklearn.ensemble import RandomForestRegressor\n",
    "from sklearn.metrics import mean_absolute_error"
   ]
  },
  {
   "cell_type": "code",
   "execution_count": 6,
   "id": "cb98246b",
   "metadata": {},
   "outputs": [],
   "source": [
    "# export\n",
    "\n",
    "class PreProcessor:\n",
    "    \"\"\"\n",
    "    Represent PreProcessor class\n",
    "    \n",
    "    Attributes:\n",
    "    numerical_transformer: Numerical Columns Tranformer\n",
    "    categorical_transformer: Categorical Columns Transformer\n",
    "    preprocessor: Preprocessor for Columns Tranformer\n",
    "    \"\"\"\n",
    "\n",
    "    def __init__(self):\n",
    "        self.numerical_transformer = None\n",
    "        self.categorical_transformer = None\n",
    "        self.columns_transfomer = None\n",
    "        self.transformer_type = None\n",
    "        self.categorical_transformer = None\n",
    "    \n",
    "    def __str__(self):\n",
    "        \"\"\"Returns human readable string reprsentation\"\"\"\n",
    "        attr_str = \"numerical_transformer, categorical_transformer,columns_transfomer\"\n",
    "        return \"PreProcessor object with attributes:\" + attr_str\n",
    "    \n",
    "    def __repr__(self):\n",
    "        return self.__str__()\n",
    "    \n",
    "    # PreProcessor core methods\n",
    "    \n",
    "    # Preprocessing for numerical data\n",
    "    def preprocess_numerical_data(self, num_cols__imputer, num_cols__scaler):\n",
    "        self.numerical_transformer = Pipeline(steps=[\n",
    "            ('imputer', num_cols__imputer),\n",
    "            ('scaler',  num_cols__scaler)\n",
    "        ])\n",
    "        return self.numerical_transformer\n",
    "        \n",
    "    # Preprocessing for categorical data\n",
    "    def preprocess_categorical_data(self, cat_cols__imputer, cat_cols__encoder):\n",
    "        self.categorical_transformer = Pipeline(steps=[\n",
    "        ('imputer', cat_cols__imputer),\n",
    "        ('encoder', cat_cols__encoder)\n",
    "        ])\n",
    "        return self.categorical_transformer\n",
    "    \n",
    "    # Bundle preprocessing pipelines based upon types of columns\n",
    "    def preprocess_all_cols(self, dataframeloader,\n",
    "                            num_cols__imputer=SimpleImputer(strategy='median'),\n",
    "                            num_cols__scaler=StandardScaler(),\n",
    "                            cat_cols__imputer=SimpleImputer(strategy='constant'),\n",
    "                            cat_cols__encoder=OneHotEncoder(handle_unknown='ignore')):\n",
    "        \n",
    "        # change preprocessor according to type of column found\n",
    "        \n",
    "        if len(dataframeloader.categorical_cols) < 1:\n",
    "            #print(\"categorical cols are None\")\n",
    "            # create scikit-learn pipelines instances\n",
    "            self.numerical_transformer = self.preprocess_numerical_data(num_cols__imputer, num_cols__scaler)\n",
    "            \n",
    "            # scaled and impute all numerical columns\n",
    "            self.columns_transfomer = ColumnTransformer(\n",
    "                transformers=[\n",
    "                    ('num_cols', self.numerical_transformer,\n",
    "                     dataframeloader.numerical_cols)\n",
    "                ])\n",
    "            \n",
    "            self.transformer_type = self.columns_transfomer\n",
    "            \n",
    "        elif len(dataframeloader.numerical_cols) < 1:\n",
    "            #print(\"numeric cols are None\")\n",
    "            # create scikit-learn pipelines instances\n",
    "            self.categorical_transformer = self.preprocess_categorical_data(cat_cols__imputer, cat_cols__encoder)\n",
    "            \n",
    "            # convert all categorical columns to OneHotEncoder with Scikit-learn ColumnTranfomer\n",
    "            self.columns_transfomer = ColumnTransformer(\n",
    "                transformers=[\n",
    "                    ('cat_cols', self.categorical_transformer,\n",
    "                     dataframeloader.categorical_cols)\n",
    "                ])\n",
    "            \n",
    "            self.transformer_type = self.columns_transfomer\n",
    "        \n",
    "        else:\n",
    "            # create scikit-learn pipelines instances\n",
    "            #print(\"No cols types are None, So ALL preprocessors called!\")\n",
    "            self.numerical_transformer = self.preprocess_numerical_data(num_cols__imputer, num_cols__scaler)\n",
    "            self.categorical_transformer = self.preprocess_categorical_data(cat_cols__imputer, cat_cols__encoder)\n",
    "            \n",
    "            # convert to Scikit-learn ColumnTranfomer\n",
    "            self.columns_transfomer = ColumnTransformer(\n",
    "                transformers=[\n",
    "                    ('num_cols', self.numerical_transformer,\n",
    "                     dataframeloader.numerical_cols),\n",
    "                    ('cat_cols', self.categorical_transformer,\n",
    "                     dataframeloader.categorical_cols)\n",
    "                ])\n",
    "            \n",
    "            self.transformer_type = self.columns_transfomer\n",
    "        \n",
    "        return self"
   ]
  },
  {
   "cell_type": "code",
   "execution_count": 7,
   "id": "81cf5db5",
   "metadata": {},
   "outputs": [],
   "source": [
    "# showdoc(PreProcessor.preprocess_data)"
   ]
  },
  {
   "cell_type": "markdown",
   "id": "883dcf04",
   "metadata": {},
   "source": [
    "#### Test PreProcessor with House Data"
   ]
  },
  {
   "cell_type": "code",
   "execution_count": 8,
   "id": "ef8d4901",
   "metadata": {},
   "outputs": [
    {
     "name": "stderr",
     "output_type": "stream",
     "text": [
      "2021-11-15 14:46:59,362 INFO DataFrame Memory usage decreased to 0.58 Mb (35.5% reduction)\n",
      "2021-11-15 14:46:59,407 INFO DataFrame Memory usage decreased to 0.58 Mb (34.8% reduction)\n"
     ]
    },
    {
     "data": {
      "text/plain": [
       "DataFrameLoader object with attributes: X_full, X_test, X(features), y(target), X_train, X_valid, y_train and y_valid"
      ]
     },
     "execution_count": 8,
     "metadata": {},
     "output_type": "execute_result"
    }
   ],
   "source": [
    "dfl = DataFrameLoader().from_csv(\n",
    "    train_file_path=\"input/home_data/train.csv\",\n",
    "    test_file_path=\"input/home_data/test.csv\",\n",
    "    idx_col=\"Id\", target=\"SalePrice\",\n",
    "    random_state=42)\n",
    "dfl"
   ]
  },
  {
   "cell_type": "code",
   "execution_count": 9,
   "id": "e07205c3",
   "metadata": {},
   "outputs": [],
   "source": [
    "# let's create train, valid split\n",
    "dfl.create_train_valid(valid_size=0.2, random_state = 42)"
   ]
  },
  {
   "cell_type": "code",
   "execution_count": 10,
   "id": "5faf8831",
   "metadata": {},
   "outputs": [
    {
     "data": {
      "text/plain": [
       "PreProcessor object with attributes:numerical_transformer, categorical_transformer,columns_transfomer"
      ]
     },
     "execution_count": 10,
     "metadata": {},
     "output_type": "execute_result"
    }
   ],
   "source": [
    "pp = PreProcessor().preprocess_all_cols(dataframeloader=dfl)\n",
    "pp"
   ]
  },
  {
   "cell_type": "code",
   "execution_count": 11,
   "id": "b8fce59f",
   "metadata": {},
   "outputs": [],
   "source": [
    "# pp.columns_transfomer"
   ]
  },
  {
   "cell_type": "code",
   "execution_count": 12,
   "id": "d1f6a256",
   "metadata": {},
   "outputs": [
    {
     "name": "stdout",
     "output_type": "stream",
     "text": [
      "36\n"
     ]
    }
   ],
   "source": [
    "print(len(dfl.numerical_cols))\n",
    "# dfl.numerical_cols"
   ]
  },
  {
   "cell_type": "code",
   "execution_count": 13,
   "id": "aed0a0c9",
   "metadata": {},
   "outputs": [
    {
     "name": "stdout",
     "output_type": "stream",
     "text": [
      "3\n"
     ]
    }
   ],
   "source": [
    "print(len(dfl.high_card_cat_cols))\n",
    "# dfl.high_card_cat_cols"
   ]
  },
  {
   "cell_type": "code",
   "execution_count": 14,
   "id": "d7c480d8",
   "metadata": {},
   "outputs": [
    {
     "name": "stdout",
     "output_type": "stream",
     "text": [
      "40\n"
     ]
    }
   ],
   "source": [
    "print(len(dfl.low_card_cat_cols))\n",
    "# dfl.low_card_cat_cols"
   ]
  },
  {
   "cell_type": "code",
   "execution_count": 15,
   "id": "57973ecf",
   "metadata": {},
   "outputs": [
    {
     "data": {
      "text/plain": [
       "RandomForestRegressor(random_state=42)"
      ]
     },
     "execution_count": 15,
     "metadata": {},
     "output_type": "execute_result"
    }
   ],
   "source": [
    "# Define model\n",
    "model = RandomForestRegressor(n_estimators=100, random_state=42)\n",
    "model"
   ]
  },
  {
   "cell_type": "code",
   "execution_count": 16,
   "id": "1f314216",
   "metadata": {},
   "outputs": [],
   "source": [
    "# Bundle preprocessor and model in a pipeline\n",
    "pl = Pipeline(steps=[('preprocessor', pp.columns_transfomer),\n",
    "                      ('model', model)\n",
    "                     ])\n",
    "# pl"
   ]
  },
  {
   "cell_type": "code",
   "execution_count": 17,
   "id": "6a3fe226",
   "metadata": {},
   "outputs": [
    {
     "data": {
      "text/html": [
       "<style>#sk-e0737259-bbae-4442-8538-fa16f96ad7cc {color: black;background-color: white;}#sk-e0737259-bbae-4442-8538-fa16f96ad7cc pre{padding: 0;}#sk-e0737259-bbae-4442-8538-fa16f96ad7cc div.sk-toggleable {background-color: white;}#sk-e0737259-bbae-4442-8538-fa16f96ad7cc label.sk-toggleable__label {cursor: pointer;display: block;width: 100%;margin-bottom: 0;padding: 0.3em;box-sizing: border-box;text-align: center;}#sk-e0737259-bbae-4442-8538-fa16f96ad7cc div.sk-toggleable__content {max-height: 0;max-width: 0;overflow: hidden;text-align: left;background-color: #f0f8ff;}#sk-e0737259-bbae-4442-8538-fa16f96ad7cc div.sk-toggleable__content pre {margin: 0.2em;color: black;border-radius: 0.25em;background-color: #f0f8ff;}#sk-e0737259-bbae-4442-8538-fa16f96ad7cc input.sk-toggleable__control:checked~div.sk-toggleable__content {max-height: 200px;max-width: 100%;overflow: auto;}#sk-e0737259-bbae-4442-8538-fa16f96ad7cc div.sk-estimator input.sk-toggleable__control:checked~label.sk-toggleable__label {background-color: #d4ebff;}#sk-e0737259-bbae-4442-8538-fa16f96ad7cc div.sk-label input.sk-toggleable__control:checked~label.sk-toggleable__label {background-color: #d4ebff;}#sk-e0737259-bbae-4442-8538-fa16f96ad7cc input.sk-hidden--visually {border: 0;clip: rect(1px 1px 1px 1px);clip: rect(1px, 1px, 1px, 1px);height: 1px;margin: -1px;overflow: hidden;padding: 0;position: absolute;width: 1px;}#sk-e0737259-bbae-4442-8538-fa16f96ad7cc div.sk-estimator {font-family: monospace;background-color: #f0f8ff;border: 1px dotted black;border-radius: 0.25em;box-sizing: border-box;margin-bottom: 0.5em;}#sk-e0737259-bbae-4442-8538-fa16f96ad7cc div.sk-estimator:hover {background-color: #d4ebff;}#sk-e0737259-bbae-4442-8538-fa16f96ad7cc div.sk-parallel-item::after {content: \"\";width: 100%;border-bottom: 1px solid gray;flex-grow: 1;}#sk-e0737259-bbae-4442-8538-fa16f96ad7cc div.sk-label:hover label.sk-toggleable__label {background-color: #d4ebff;}#sk-e0737259-bbae-4442-8538-fa16f96ad7cc div.sk-serial::before {content: \"\";position: absolute;border-left: 1px solid gray;box-sizing: border-box;top: 2em;bottom: 0;left: 50%;}#sk-e0737259-bbae-4442-8538-fa16f96ad7cc div.sk-serial {display: flex;flex-direction: column;align-items: center;background-color: white;padding-right: 0.2em;padding-left: 0.2em;}#sk-e0737259-bbae-4442-8538-fa16f96ad7cc div.sk-item {z-index: 1;}#sk-e0737259-bbae-4442-8538-fa16f96ad7cc div.sk-parallel {display: flex;align-items: stretch;justify-content: center;background-color: white;}#sk-e0737259-bbae-4442-8538-fa16f96ad7cc div.sk-parallel::before {content: \"\";position: absolute;border-left: 1px solid gray;box-sizing: border-box;top: 2em;bottom: 0;left: 50%;}#sk-e0737259-bbae-4442-8538-fa16f96ad7cc div.sk-parallel-item {display: flex;flex-direction: column;position: relative;background-color: white;}#sk-e0737259-bbae-4442-8538-fa16f96ad7cc div.sk-parallel-item:first-child::after {align-self: flex-end;width: 50%;}#sk-e0737259-bbae-4442-8538-fa16f96ad7cc div.sk-parallel-item:last-child::after {align-self: flex-start;width: 50%;}#sk-e0737259-bbae-4442-8538-fa16f96ad7cc div.sk-parallel-item:only-child::after {width: 0;}#sk-e0737259-bbae-4442-8538-fa16f96ad7cc div.sk-dashed-wrapped {border: 1px dashed gray;margin: 0 0.4em 0.5em 0.4em;box-sizing: border-box;padding-bottom: 0.4em;background-color: white;position: relative;}#sk-e0737259-bbae-4442-8538-fa16f96ad7cc div.sk-label label {font-family: monospace;font-weight: bold;background-color: white;display: inline-block;line-height: 1.2em;}#sk-e0737259-bbae-4442-8538-fa16f96ad7cc div.sk-label-container {position: relative;z-index: 2;text-align: center;}#sk-e0737259-bbae-4442-8538-fa16f96ad7cc div.sk-container {display: inline-block;position: relative;}</style><div id=\"sk-e0737259-bbae-4442-8538-fa16f96ad7cc\" class\"sk-top-container\"><div class=\"sk-container\"><div class=\"sk-item sk-dashed-wrapped\"><div class=\"sk-label-container\"><div class=\"sk-label sk-toggleable\"><input class=\"sk-toggleable__control sk-hidden--visually\" id=\"16cdb3d0-67be-4bf4-a24c-24e6bacef4f0\" type=\"checkbox\" ><label class=\"sk-toggleable__label\" for=\"16cdb3d0-67be-4bf4-a24c-24e6bacef4f0\">Pipeline</label><div class=\"sk-toggleable__content\"><pre>Pipeline(steps=[('preprocessor',\n",
       "                 ColumnTransformer(transformers=[('num_cols',\n",
       "                                                  Pipeline(steps=[('imputer',\n",
       "                                                                   SimpleImputer(strategy='median')),\n",
       "                                                                  ('scaler',\n",
       "                                                                   StandardScaler())]),\n",
       "                                                  ['MSSubClass', 'LotFrontage',\n",
       "                                                   'LotArea', 'OverallQual',\n",
       "                                                   'OverallCond', 'YearBuilt',\n",
       "                                                   'YearRemodAdd', 'MasVnrArea',\n",
       "                                                   'BsmtFinSF1', 'BsmtFinSF2',\n",
       "                                                   'BsmtUnfSF', 'TotalBsmtSF',\n",
       "                                                   '1stFlrSF', '2ndFlrSF',\n",
       "                                                   'Lo...\n",
       "                                                   'LotConfig', 'LandSlope',\n",
       "                                                   'Condition1', 'Condition2',\n",
       "                                                   'BldgType', 'HouseStyle',\n",
       "                                                   'RoofStyle', 'RoofMatl',\n",
       "                                                   'MasVnrType', 'ExterQual',\n",
       "                                                   'ExterCond', 'Foundation',\n",
       "                                                   'BsmtQual', 'BsmtCond',\n",
       "                                                   'BsmtExposure',\n",
       "                                                   'BsmtFinType1',\n",
       "                                                   'BsmtFinType2', 'Heating',\n",
       "                                                   'HeatingQC', 'CentralAir',\n",
       "                                                   'Electrical', 'KitchenQual',\n",
       "                                                   'Functional', 'FireplaceQu', ...])])),\n",
       "                ('model', RandomForestRegressor(random_state=42))])</pre></div></div></div><div class=\"sk-serial\"><div class=\"sk-item sk-dashed-wrapped\"><div class=\"sk-label-container\"><div class=\"sk-label sk-toggleable\"><input class=\"sk-toggleable__control sk-hidden--visually\" id=\"4d4a32e5-1a80-4609-9d99-b4efc1b72075\" type=\"checkbox\" ><label class=\"sk-toggleable__label\" for=\"4d4a32e5-1a80-4609-9d99-b4efc1b72075\">preprocessor: ColumnTransformer</label><div class=\"sk-toggleable__content\"><pre>ColumnTransformer(transformers=[('num_cols',\n",
       "                                 Pipeline(steps=[('imputer',\n",
       "                                                  SimpleImputer(strategy='median')),\n",
       "                                                 ('scaler', StandardScaler())]),\n",
       "                                 ['MSSubClass', 'LotFrontage', 'LotArea',\n",
       "                                  'OverallQual', 'OverallCond', 'YearBuilt',\n",
       "                                  'YearRemodAdd', 'MasVnrArea', 'BsmtFinSF1',\n",
       "                                  'BsmtFinSF2', 'BsmtUnfSF', 'TotalBsmtSF',\n",
       "                                  '1stFlrSF', '2ndFlrSF', 'LowQualFinSF',\n",
       "                                  'GrLivArea', 'BsmtFul...\n",
       "                                 ['MSZoning', 'Street', 'Alley', 'LotShape',\n",
       "                                  'LandContour', 'Utilities', 'LotConfig',\n",
       "                                  'LandSlope', 'Condition1', 'Condition2',\n",
       "                                  'BldgType', 'HouseStyle', 'RoofStyle',\n",
       "                                  'RoofMatl', 'MasVnrType', 'ExterQual',\n",
       "                                  'ExterCond', 'Foundation', 'BsmtQual',\n",
       "                                  'BsmtCond', 'BsmtExposure', 'BsmtFinType1',\n",
       "                                  'BsmtFinType2', 'Heating', 'HeatingQC',\n",
       "                                  'CentralAir', 'Electrical', 'KitchenQual',\n",
       "                                  'Functional', 'FireplaceQu', ...])])</pre></div></div></div><div class=\"sk-parallel\"><div class=\"sk-parallel-item\"><div class=\"sk-item\"><div class=\"sk-label-container\"><div class=\"sk-label sk-toggleable\"><input class=\"sk-toggleable__control sk-hidden--visually\" id=\"6ef6a518-a64f-4aaf-a978-6357f521f940\" type=\"checkbox\" ><label class=\"sk-toggleable__label\" for=\"6ef6a518-a64f-4aaf-a978-6357f521f940\">num_cols</label><div class=\"sk-toggleable__content\"><pre>['MSSubClass', 'LotFrontage', 'LotArea', 'OverallQual', 'OverallCond', 'YearBuilt', 'YearRemodAdd', 'MasVnrArea', 'BsmtFinSF1', 'BsmtFinSF2', 'BsmtUnfSF', 'TotalBsmtSF', '1stFlrSF', '2ndFlrSF', 'LowQualFinSF', 'GrLivArea', 'BsmtFullBath', 'BsmtHalfBath', 'FullBath', 'HalfBath', 'BedroomAbvGr', 'KitchenAbvGr', 'TotRmsAbvGrd', 'Fireplaces', 'GarageYrBlt', 'GarageCars', 'GarageArea', 'WoodDeckSF', 'OpenPorchSF', 'EnclosedPorch', '3SsnPorch', 'ScreenPorch', 'PoolArea', 'MiscVal', 'MoSold', 'YrSold']</pre></div></div></div><div class=\"sk-serial\"><div class=\"sk-item\"><div class=\"sk-serial\"><div class=\"sk-item\"><div class=\"sk-estimator sk-toggleable\"><input class=\"sk-toggleable__control sk-hidden--visually\" id=\"89508d1b-216d-4f46-98ff-d001e1908c4b\" type=\"checkbox\" ><label class=\"sk-toggleable__label\" for=\"89508d1b-216d-4f46-98ff-d001e1908c4b\">SimpleImputer</label><div class=\"sk-toggleable__content\"><pre>SimpleImputer(strategy='median')</pre></div></div></div><div class=\"sk-item\"><div class=\"sk-estimator sk-toggleable\"><input class=\"sk-toggleable__control sk-hidden--visually\" id=\"764012f6-4b98-4475-a070-1b0ba499a5f2\" type=\"checkbox\" ><label class=\"sk-toggleable__label\" for=\"764012f6-4b98-4475-a070-1b0ba499a5f2\">StandardScaler</label><div class=\"sk-toggleable__content\"><pre>StandardScaler()</pre></div></div></div></div></div></div></div></div><div class=\"sk-parallel-item\"><div class=\"sk-item\"><div class=\"sk-label-container\"><div class=\"sk-label sk-toggleable\"><input class=\"sk-toggleable__control sk-hidden--visually\" id=\"c5ea5064-dbfa-4ac8-8cfb-6e9896e99d27\" type=\"checkbox\" ><label class=\"sk-toggleable__label\" for=\"c5ea5064-dbfa-4ac8-8cfb-6e9896e99d27\">cat_cols</label><div class=\"sk-toggleable__content\"><pre>['MSZoning', 'Street', 'Alley', 'LotShape', 'LandContour', 'Utilities', 'LotConfig', 'LandSlope', 'Condition1', 'Condition2', 'BldgType', 'HouseStyle', 'RoofStyle', 'RoofMatl', 'MasVnrType', 'ExterQual', 'ExterCond', 'Foundation', 'BsmtQual', 'BsmtCond', 'BsmtExposure', 'BsmtFinType1', 'BsmtFinType2', 'Heating', 'HeatingQC', 'CentralAir', 'Electrical', 'KitchenQual', 'Functional', 'FireplaceQu', 'GarageType', 'GarageFinish', 'GarageQual', 'GarageCond', 'PavedDrive', 'PoolQC', 'Fence', 'MiscFeature', 'SaleType', 'SaleCondition', 'Neighborhood', 'Exterior1st', 'Exterior2nd']</pre></div></div></div><div class=\"sk-serial\"><div class=\"sk-item\"><div class=\"sk-serial\"><div class=\"sk-item\"><div class=\"sk-estimator sk-toggleable\"><input class=\"sk-toggleable__control sk-hidden--visually\" id=\"5d0bb1c2-8244-45ae-bbb1-f1d74349abe7\" type=\"checkbox\" ><label class=\"sk-toggleable__label\" for=\"5d0bb1c2-8244-45ae-bbb1-f1d74349abe7\">SimpleImputer</label><div class=\"sk-toggleable__content\"><pre>SimpleImputer(strategy='constant')</pre></div></div></div><div class=\"sk-item\"><div class=\"sk-estimator sk-toggleable\"><input class=\"sk-toggleable__control sk-hidden--visually\" id=\"2bec53ab-d064-402f-bd63-79e2af3ae763\" type=\"checkbox\" ><label class=\"sk-toggleable__label\" for=\"2bec53ab-d064-402f-bd63-79e2af3ae763\">OneHotEncoder</label><div class=\"sk-toggleable__content\"><pre>OneHotEncoder(handle_unknown='ignore')</pre></div></div></div></div></div></div></div></div></div></div><div class=\"sk-item\"><div class=\"sk-estimator sk-toggleable\"><input class=\"sk-toggleable__control sk-hidden--visually\" id=\"a7141889-cc2e-43cc-b5d0-542f7ee9f60c\" type=\"checkbox\" ><label class=\"sk-toggleable__label\" for=\"a7141889-cc2e-43cc-b5d0-542f7ee9f60c\">RandomForestRegressor</label><div class=\"sk-toggleable__content\"><pre>RandomForestRegressor(random_state=42)</pre></div></div></div></div></div></div></div>"
      ],
      "text/plain": [
       "Pipeline(steps=[('preprocessor',\n",
       "                 ColumnTransformer(transformers=[('num_cols',\n",
       "                                                  Pipeline(steps=[('imputer',\n",
       "                                                                   SimpleImputer(strategy='median')),\n",
       "                                                                  ('scaler',\n",
       "                                                                   StandardScaler())]),\n",
       "                                                  ['MSSubClass', 'LotFrontage',\n",
       "                                                   'LotArea', 'OverallQual',\n",
       "                                                   'OverallCond', 'YearBuilt',\n",
       "                                                   'YearRemodAdd', 'MasVnrArea',\n",
       "                                                   'BsmtFinSF1', 'BsmtFinSF2',\n",
       "                                                   'BsmtUnfSF', 'TotalBsmtSF',\n",
       "                                                   '1stFlrSF', '2ndFlrSF',\n",
       "                                                   'Lo...\n",
       "                                                   'LotConfig', 'LandSlope',\n",
       "                                                   'Condition1', 'Condition2',\n",
       "                                                   'BldgType', 'HouseStyle',\n",
       "                                                   'RoofStyle', 'RoofMatl',\n",
       "                                                   'MasVnrType', 'ExterQual',\n",
       "                                                   'ExterCond', 'Foundation',\n",
       "                                                   'BsmtQual', 'BsmtCond',\n",
       "                                                   'BsmtExposure',\n",
       "                                                   'BsmtFinType1',\n",
       "                                                   'BsmtFinType2', 'Heating',\n",
       "                                                   'HeatingQC', 'CentralAir',\n",
       "                                                   'Electrical', 'KitchenQual',\n",
       "                                                   'Functional', 'FireplaceQu', ...])])),\n",
       "                ('model', RandomForestRegressor(random_state=42))])"
      ]
     },
     "execution_count": 17,
     "metadata": {},
     "output_type": "execute_result"
    }
   ],
   "source": [
    "# for visualizing pipeline\n",
    "from sklearn import set_config\n",
    "\n",
    "set_config(display=\"diagram\")\n",
    "pl"
   ]
  },
  {
   "cell_type": "code",
   "execution_count": 18,
   "id": "a7ff6f0d",
   "metadata": {},
   "outputs": [
    {
     "data": {
      "text/html": [
       "<style>#sk-60ce1af7-d474-4d46-973c-f4fdf13d0100 {color: black;background-color: white;}#sk-60ce1af7-d474-4d46-973c-f4fdf13d0100 pre{padding: 0;}#sk-60ce1af7-d474-4d46-973c-f4fdf13d0100 div.sk-toggleable {background-color: white;}#sk-60ce1af7-d474-4d46-973c-f4fdf13d0100 label.sk-toggleable__label {cursor: pointer;display: block;width: 100%;margin-bottom: 0;padding: 0.3em;box-sizing: border-box;text-align: center;}#sk-60ce1af7-d474-4d46-973c-f4fdf13d0100 div.sk-toggleable__content {max-height: 0;max-width: 0;overflow: hidden;text-align: left;background-color: #f0f8ff;}#sk-60ce1af7-d474-4d46-973c-f4fdf13d0100 div.sk-toggleable__content pre {margin: 0.2em;color: black;border-radius: 0.25em;background-color: #f0f8ff;}#sk-60ce1af7-d474-4d46-973c-f4fdf13d0100 input.sk-toggleable__control:checked~div.sk-toggleable__content {max-height: 200px;max-width: 100%;overflow: auto;}#sk-60ce1af7-d474-4d46-973c-f4fdf13d0100 div.sk-estimator input.sk-toggleable__control:checked~label.sk-toggleable__label {background-color: #d4ebff;}#sk-60ce1af7-d474-4d46-973c-f4fdf13d0100 div.sk-label input.sk-toggleable__control:checked~label.sk-toggleable__label {background-color: #d4ebff;}#sk-60ce1af7-d474-4d46-973c-f4fdf13d0100 input.sk-hidden--visually {border: 0;clip: rect(1px 1px 1px 1px);clip: rect(1px, 1px, 1px, 1px);height: 1px;margin: -1px;overflow: hidden;padding: 0;position: absolute;width: 1px;}#sk-60ce1af7-d474-4d46-973c-f4fdf13d0100 div.sk-estimator {font-family: monospace;background-color: #f0f8ff;border: 1px dotted black;border-radius: 0.25em;box-sizing: border-box;margin-bottom: 0.5em;}#sk-60ce1af7-d474-4d46-973c-f4fdf13d0100 div.sk-estimator:hover {background-color: #d4ebff;}#sk-60ce1af7-d474-4d46-973c-f4fdf13d0100 div.sk-parallel-item::after {content: \"\";width: 100%;border-bottom: 1px solid gray;flex-grow: 1;}#sk-60ce1af7-d474-4d46-973c-f4fdf13d0100 div.sk-label:hover label.sk-toggleable__label {background-color: #d4ebff;}#sk-60ce1af7-d474-4d46-973c-f4fdf13d0100 div.sk-serial::before {content: \"\";position: absolute;border-left: 1px solid gray;box-sizing: border-box;top: 2em;bottom: 0;left: 50%;}#sk-60ce1af7-d474-4d46-973c-f4fdf13d0100 div.sk-serial {display: flex;flex-direction: column;align-items: center;background-color: white;padding-right: 0.2em;padding-left: 0.2em;}#sk-60ce1af7-d474-4d46-973c-f4fdf13d0100 div.sk-item {z-index: 1;}#sk-60ce1af7-d474-4d46-973c-f4fdf13d0100 div.sk-parallel {display: flex;align-items: stretch;justify-content: center;background-color: white;}#sk-60ce1af7-d474-4d46-973c-f4fdf13d0100 div.sk-parallel::before {content: \"\";position: absolute;border-left: 1px solid gray;box-sizing: border-box;top: 2em;bottom: 0;left: 50%;}#sk-60ce1af7-d474-4d46-973c-f4fdf13d0100 div.sk-parallel-item {display: flex;flex-direction: column;position: relative;background-color: white;}#sk-60ce1af7-d474-4d46-973c-f4fdf13d0100 div.sk-parallel-item:first-child::after {align-self: flex-end;width: 50%;}#sk-60ce1af7-d474-4d46-973c-f4fdf13d0100 div.sk-parallel-item:last-child::after {align-self: flex-start;width: 50%;}#sk-60ce1af7-d474-4d46-973c-f4fdf13d0100 div.sk-parallel-item:only-child::after {width: 0;}#sk-60ce1af7-d474-4d46-973c-f4fdf13d0100 div.sk-dashed-wrapped {border: 1px dashed gray;margin: 0 0.4em 0.5em 0.4em;box-sizing: border-box;padding-bottom: 0.4em;background-color: white;position: relative;}#sk-60ce1af7-d474-4d46-973c-f4fdf13d0100 div.sk-label label {font-family: monospace;font-weight: bold;background-color: white;display: inline-block;line-height: 1.2em;}#sk-60ce1af7-d474-4d46-973c-f4fdf13d0100 div.sk-label-container {position: relative;z-index: 2;text-align: center;}#sk-60ce1af7-d474-4d46-973c-f4fdf13d0100 div.sk-container {display: inline-block;position: relative;}</style><div id=\"sk-60ce1af7-d474-4d46-973c-f4fdf13d0100\" class\"sk-top-container\"><div class=\"sk-container\"><div class=\"sk-item sk-dashed-wrapped\"><div class=\"sk-label-container\"><div class=\"sk-label sk-toggleable\"><input class=\"sk-toggleable__control sk-hidden--visually\" id=\"9be14e4f-1d1e-4cd0-add0-3ab235a1ea7c\" type=\"checkbox\" ><label class=\"sk-toggleable__label\" for=\"9be14e4f-1d1e-4cd0-add0-3ab235a1ea7c\">Pipeline</label><div class=\"sk-toggleable__content\"><pre>Pipeline(steps=[('preprocessor',\n",
       "                 ColumnTransformer(transformers=[('num_cols',\n",
       "                                                  Pipeline(steps=[('imputer',\n",
       "                                                                   SimpleImputer(strategy='median')),\n",
       "                                                                  ('scaler',\n",
       "                                                                   StandardScaler())]),\n",
       "                                                  ['MSSubClass', 'LotFrontage',\n",
       "                                                   'LotArea', 'OverallQual',\n",
       "                                                   'OverallCond', 'YearBuilt',\n",
       "                                                   'YearRemodAdd', 'MasVnrArea',\n",
       "                                                   'BsmtFinSF1', 'BsmtFinSF2',\n",
       "                                                   'BsmtUnfSF', 'TotalBsmtSF',\n",
       "                                                   '1stFlrSF', '2ndFlrSF',\n",
       "                                                   'Lo...\n",
       "                                                   'LotConfig', 'LandSlope',\n",
       "                                                   'Condition1', 'Condition2',\n",
       "                                                   'BldgType', 'HouseStyle',\n",
       "                                                   'RoofStyle', 'RoofMatl',\n",
       "                                                   'MasVnrType', 'ExterQual',\n",
       "                                                   'ExterCond', 'Foundation',\n",
       "                                                   'BsmtQual', 'BsmtCond',\n",
       "                                                   'BsmtExposure',\n",
       "                                                   'BsmtFinType1',\n",
       "                                                   'BsmtFinType2', 'Heating',\n",
       "                                                   'HeatingQC', 'CentralAir',\n",
       "                                                   'Electrical', 'KitchenQual',\n",
       "                                                   'Functional', 'FireplaceQu', ...])])),\n",
       "                ('model', RandomForestRegressor(random_state=42))])</pre></div></div></div><div class=\"sk-serial\"><div class=\"sk-item sk-dashed-wrapped\"><div class=\"sk-label-container\"><div class=\"sk-label sk-toggleable\"><input class=\"sk-toggleable__control sk-hidden--visually\" id=\"a30aba76-bc04-4334-8935-3ac3cef22f9a\" type=\"checkbox\" ><label class=\"sk-toggleable__label\" for=\"a30aba76-bc04-4334-8935-3ac3cef22f9a\">preprocessor: ColumnTransformer</label><div class=\"sk-toggleable__content\"><pre>ColumnTransformer(transformers=[('num_cols',\n",
       "                                 Pipeline(steps=[('imputer',\n",
       "                                                  SimpleImputer(strategy='median')),\n",
       "                                                 ('scaler', StandardScaler())]),\n",
       "                                 ['MSSubClass', 'LotFrontage', 'LotArea',\n",
       "                                  'OverallQual', 'OverallCond', 'YearBuilt',\n",
       "                                  'YearRemodAdd', 'MasVnrArea', 'BsmtFinSF1',\n",
       "                                  'BsmtFinSF2', 'BsmtUnfSF', 'TotalBsmtSF',\n",
       "                                  '1stFlrSF', '2ndFlrSF', 'LowQualFinSF',\n",
       "                                  'GrLivArea', 'BsmtFul...\n",
       "                                 ['MSZoning', 'Street', 'Alley', 'LotShape',\n",
       "                                  'LandContour', 'Utilities', 'LotConfig',\n",
       "                                  'LandSlope', 'Condition1', 'Condition2',\n",
       "                                  'BldgType', 'HouseStyle', 'RoofStyle',\n",
       "                                  'RoofMatl', 'MasVnrType', 'ExterQual',\n",
       "                                  'ExterCond', 'Foundation', 'BsmtQual',\n",
       "                                  'BsmtCond', 'BsmtExposure', 'BsmtFinType1',\n",
       "                                  'BsmtFinType2', 'Heating', 'HeatingQC',\n",
       "                                  'CentralAir', 'Electrical', 'KitchenQual',\n",
       "                                  'Functional', 'FireplaceQu', ...])])</pre></div></div></div><div class=\"sk-parallel\"><div class=\"sk-parallel-item\"><div class=\"sk-item\"><div class=\"sk-label-container\"><div class=\"sk-label sk-toggleable\"><input class=\"sk-toggleable__control sk-hidden--visually\" id=\"c70497e5-b491-4bb3-8536-6ba2618d7ddb\" type=\"checkbox\" ><label class=\"sk-toggleable__label\" for=\"c70497e5-b491-4bb3-8536-6ba2618d7ddb\">num_cols</label><div class=\"sk-toggleable__content\"><pre>['MSSubClass', 'LotFrontage', 'LotArea', 'OverallQual', 'OverallCond', 'YearBuilt', 'YearRemodAdd', 'MasVnrArea', 'BsmtFinSF1', 'BsmtFinSF2', 'BsmtUnfSF', 'TotalBsmtSF', '1stFlrSF', '2ndFlrSF', 'LowQualFinSF', 'GrLivArea', 'BsmtFullBath', 'BsmtHalfBath', 'FullBath', 'HalfBath', 'BedroomAbvGr', 'KitchenAbvGr', 'TotRmsAbvGrd', 'Fireplaces', 'GarageYrBlt', 'GarageCars', 'GarageArea', 'WoodDeckSF', 'OpenPorchSF', 'EnclosedPorch', '3SsnPorch', 'ScreenPorch', 'PoolArea', 'MiscVal', 'MoSold', 'YrSold']</pre></div></div></div><div class=\"sk-serial\"><div class=\"sk-item\"><div class=\"sk-serial\"><div class=\"sk-item\"><div class=\"sk-estimator sk-toggleable\"><input class=\"sk-toggleable__control sk-hidden--visually\" id=\"fa9b8d6f-c5da-4c13-ac34-7fa7b4f4c202\" type=\"checkbox\" ><label class=\"sk-toggleable__label\" for=\"fa9b8d6f-c5da-4c13-ac34-7fa7b4f4c202\">SimpleImputer</label><div class=\"sk-toggleable__content\"><pre>SimpleImputer(strategy='median')</pre></div></div></div><div class=\"sk-item\"><div class=\"sk-estimator sk-toggleable\"><input class=\"sk-toggleable__control sk-hidden--visually\" id=\"3d033203-9960-4ad8-ac0f-17588c5771f1\" type=\"checkbox\" ><label class=\"sk-toggleable__label\" for=\"3d033203-9960-4ad8-ac0f-17588c5771f1\">StandardScaler</label><div class=\"sk-toggleable__content\"><pre>StandardScaler()</pre></div></div></div></div></div></div></div></div><div class=\"sk-parallel-item\"><div class=\"sk-item\"><div class=\"sk-label-container\"><div class=\"sk-label sk-toggleable\"><input class=\"sk-toggleable__control sk-hidden--visually\" id=\"42f046b9-5e35-4c1d-984c-422f4c8a7bed\" type=\"checkbox\" ><label class=\"sk-toggleable__label\" for=\"42f046b9-5e35-4c1d-984c-422f4c8a7bed\">cat_cols</label><div class=\"sk-toggleable__content\"><pre>['MSZoning', 'Street', 'Alley', 'LotShape', 'LandContour', 'Utilities', 'LotConfig', 'LandSlope', 'Condition1', 'Condition2', 'BldgType', 'HouseStyle', 'RoofStyle', 'RoofMatl', 'MasVnrType', 'ExterQual', 'ExterCond', 'Foundation', 'BsmtQual', 'BsmtCond', 'BsmtExposure', 'BsmtFinType1', 'BsmtFinType2', 'Heating', 'HeatingQC', 'CentralAir', 'Electrical', 'KitchenQual', 'Functional', 'FireplaceQu', 'GarageType', 'GarageFinish', 'GarageQual', 'GarageCond', 'PavedDrive', 'PoolQC', 'Fence', 'MiscFeature', 'SaleType', 'SaleCondition', 'Neighborhood', 'Exterior1st', 'Exterior2nd']</pre></div></div></div><div class=\"sk-serial\"><div class=\"sk-item\"><div class=\"sk-serial\"><div class=\"sk-item\"><div class=\"sk-estimator sk-toggleable\"><input class=\"sk-toggleable__control sk-hidden--visually\" id=\"df5de0cb-1996-452b-9049-b4e5b92155f2\" type=\"checkbox\" ><label class=\"sk-toggleable__label\" for=\"df5de0cb-1996-452b-9049-b4e5b92155f2\">SimpleImputer</label><div class=\"sk-toggleable__content\"><pre>SimpleImputer(strategy='constant')</pre></div></div></div><div class=\"sk-item\"><div class=\"sk-estimator sk-toggleable\"><input class=\"sk-toggleable__control sk-hidden--visually\" id=\"86f01b2b-aa6a-4462-bc5c-ab22fe24c291\" type=\"checkbox\" ><label class=\"sk-toggleable__label\" for=\"86f01b2b-aa6a-4462-bc5c-ab22fe24c291\">OneHotEncoder</label><div class=\"sk-toggleable__content\"><pre>OneHotEncoder(handle_unknown='ignore')</pre></div></div></div></div></div></div></div></div></div></div><div class=\"sk-item\"><div class=\"sk-estimator sk-toggleable\"><input class=\"sk-toggleable__control sk-hidden--visually\" id=\"489f281b-921d-4bef-b3c6-dbd23071b619\" type=\"checkbox\" ><label class=\"sk-toggleable__label\" for=\"489f281b-921d-4bef-b3c6-dbd23071b619\">RandomForestRegressor</label><div class=\"sk-toggleable__content\"><pre>RandomForestRegressor(random_state=42)</pre></div></div></div></div></div></div></div>"
      ],
      "text/plain": [
       "Pipeline(steps=[('preprocessor',\n",
       "                 ColumnTransformer(transformers=[('num_cols',\n",
       "                                                  Pipeline(steps=[('imputer',\n",
       "                                                                   SimpleImputer(strategy='median')),\n",
       "                                                                  ('scaler',\n",
       "                                                                   StandardScaler())]),\n",
       "                                                  ['MSSubClass', 'LotFrontage',\n",
       "                                                   'LotArea', 'OverallQual',\n",
       "                                                   'OverallCond', 'YearBuilt',\n",
       "                                                   'YearRemodAdd', 'MasVnrArea',\n",
       "                                                   'BsmtFinSF1', 'BsmtFinSF2',\n",
       "                                                   'BsmtUnfSF', 'TotalBsmtSF',\n",
       "                                                   '1stFlrSF', '2ndFlrSF',\n",
       "                                                   'Lo...\n",
       "                                                   'LotConfig', 'LandSlope',\n",
       "                                                   'Condition1', 'Condition2',\n",
       "                                                   'BldgType', 'HouseStyle',\n",
       "                                                   'RoofStyle', 'RoofMatl',\n",
       "                                                   'MasVnrType', 'ExterQual',\n",
       "                                                   'ExterCond', 'Foundation',\n",
       "                                                   'BsmtQual', 'BsmtCond',\n",
       "                                                   'BsmtExposure',\n",
       "                                                   'BsmtFinType1',\n",
       "                                                   'BsmtFinType2', 'Heating',\n",
       "                                                   'HeatingQC', 'CentralAir',\n",
       "                                                   'Electrical', 'KitchenQual',\n",
       "                                                   'Functional', 'FireplaceQu', ...])])),\n",
       "                ('model', RandomForestRegressor(random_state=42))])"
      ]
     },
     "execution_count": 18,
     "metadata": {},
     "output_type": "execute_result"
    }
   ],
   "source": [
    "# Preprocessing of training data and then fit model \n",
    "pl.fit(dfl.X_train, dfl.y_train)"
   ]
  },
  {
   "cell_type": "code",
   "execution_count": 19,
   "id": "1dd7c811",
   "metadata": {},
   "outputs": [
    {
     "name": "stdout",
     "output_type": "stream",
     "text": [
      "X_valid MAE: 17634.989965753426\n"
     ]
    }
   ],
   "source": [
    "# Preprocessing of validation data and then get predictions\n",
    "preds = pl.predict(dfl.X_valid)\n",
    "\n",
    "print('X_valid MAE:', mean_absolute_error(dfl.y_valid, preds))"
   ]
  },
  {
   "cell_type": "code",
   "execution_count": 20,
   "id": "3b9aa318",
   "metadata": {},
   "outputs": [],
   "source": [
    "# X_valid MAE: 17582.46150684932"
   ]
  },
  {
   "cell_type": "code",
   "execution_count": 21,
   "id": "c4f91f6f",
   "metadata": {},
   "outputs": [
    {
     "name": "stdout",
     "output_type": "stream",
     "text": [
      "Converted 00_dataframeloader.ipynb.\n",
      "Converted 01_preprocessor.ipynb.\n",
      "Converted 02_mlpipeline.ipynb.\n",
      "Converted 03_tutorial.ipynb.\n",
      "Converted 07_kaggle_tps_tutorial.ipynb.\n",
      "Converted 08_optuna_tutorial.ipynb.\n",
      "Converted index.ipynb.\n",
      "Converted logger.ipynb.\n"
     ]
    }
   ],
   "source": [
    "# hide\n",
    "# run the script to build \n",
    "\n",
    "from nbdev.export import notebook2script; notebook2script()"
   ]
  },
  {
   "cell_type": "code",
   "execution_count": null,
   "id": "2a4a0f5b",
   "metadata": {},
   "outputs": [],
   "source": []
  }
 ],
 "metadata": {
  "kernelspec": {
   "display_name": "Python 3 (ipykernel)",
   "language": "python",
   "name": "python3"
  },
  "language_info": {
   "codemirror_mode": {
    "name": "ipython",
    "version": 3
   },
   "file_extension": ".py",
   "mimetype": "text/x-python",
   "name": "python",
   "nbconvert_exporter": "python",
   "pygments_lexer": "ipython3",
   "version": "3.9.7"
  }
 },
 "nbformat": 4,
 "nbformat_minor": 5
}
