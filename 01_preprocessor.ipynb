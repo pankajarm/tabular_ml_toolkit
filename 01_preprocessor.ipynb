{
 "cells": [
  {
   "cell_type": "code",
   "execution_count": null,
   "id": "24922fc1",
   "metadata": {},
   "outputs": [],
   "source": [
    "# default_exp preprocessor"
   ]
  },
  {
   "cell_type": "markdown",
   "id": "e938a8e2",
   "metadata": {},
   "source": [
    "# PreProcessor\n",
    "\n",
    "> An API to Preprocess train, valid and test dataset for Machine Learning models based on tabular or strucuture data"
   ]
  },
  {
   "cell_type": "code",
   "execution_count": null,
   "id": "4a8368bb",
   "metadata": {},
   "outputs": [],
   "source": [
    "#hide\n",
    "from nbdev import *"
   ]
  },
  {
   "cell_type": "code",
   "execution_count": null,
   "id": "ed6b0805",
   "metadata": {},
   "outputs": [],
   "source": [
    "from tabular_ml_toolkit.core import *"
   ]
  },
  {
   "cell_type": "code",
   "execution_count": null,
   "id": "0444c718",
   "metadata": {},
   "outputs": [],
   "source": [
    "# export\n",
    "# hide\n",
    "import pandas as pd\n",
    "from sklearn.compose import ColumnTransformer\n",
    "from sklearn.pipeline import Pipeline\n",
    "from sklearn.impute import SimpleImputer\n",
    "from sklearn.preprocessing import OneHotEncoder\n",
    "from sklearn.ensemble import RandomForestRegressor\n",
    "from sklearn.metrics import mean_absolute_error"
   ]
  }
 ],
 "metadata": {
  "kernelspec": {
   "display_name": "Python 3 (ipykernel)",
   "language": "python",
   "name": "python3"
  }
 },
 "nbformat": 4,
 "nbformat_minor": 5
}
