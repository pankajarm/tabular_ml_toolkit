{
 "cells": [
  {
   "cell_type": "code",
   "execution_count": 1,
   "id": "739ab7e2",
   "metadata": {},
   "outputs": [],
   "source": [
    "%load_ext autoreload\n",
    "%autoreload 2"
   ]
  },
  {
   "cell_type": "code",
   "execution_count": 2,
   "id": "d3b66279",
   "metadata": {},
   "outputs": [],
   "source": [
    "# default_exp PreProcessor"
   ]
  },
  {
   "cell_type": "markdown",
   "id": "c469e3c1",
   "metadata": {},
   "source": [
    "# PreProcessor\n",
    "\n",
    "> An API to Preprocess train, valid and test dataset for Machine Learning models based on tabular or strucuture data"
   ]
  },
  {
   "cell_type": "code",
   "execution_count": 3,
   "id": "4ce63e38",
   "metadata": {},
   "outputs": [],
   "source": [
    "#hide\n",
    "from nbdev.showdoc import *\n",
    "from nbdev import *"
   ]
  },
  {
   "cell_type": "code",
   "execution_count": 4,
   "id": "cc9ff301",
   "metadata": {},
   "outputs": [],
   "source": [
    "# export\n",
    "from tabular_ml_toolkit.DataFrameLoader import *"
   ]
  },
  {
   "cell_type": "code",
   "execution_count": 5,
   "id": "5ee899e5",
   "metadata": {},
   "outputs": [],
   "source": [
    "# export\n",
    "# hide\n",
    "import pandas as pd\n",
    "from sklearn.compose import ColumnTransformer\n",
    "from sklearn.pipeline import Pipeline\n",
    "from sklearn.impute import SimpleImputer\n",
    "from sklearn.preprocessing import OneHotEncoder, OrdinalEncoder, StandardScaler, MinMaxScaler\n",
    "from sklearn.ensemble import RandomForestRegressor\n",
    "from sklearn.metrics import mean_absolute_error"
   ]
  },
  {
   "cell_type": "code",
   "execution_count": 10,
   "id": "cb98246b",
   "metadata": {},
   "outputs": [],
   "source": [
    "# export\n",
    "\n",
    "class PreProcessor:\n",
    "    \"\"\"\n",
    "    Represent PreProcessor class\n",
    "    \n",
    "    Attributes:\n",
    "    numerical_transformer: Numerical Columns Tranformer\n",
    "    categorical_transformer: Categorical Columns Transformer\n",
    "    preprocessor: Preprocessor for Columns Tranformer\n",
    "    \"\"\"\n",
    "\n",
    "    def __init__(self):\n",
    "        self.numerical_transformer = None\n",
    "        self.categorical_transformer = None\n",
    "        self.columns_transfomer = None\n",
    "        self.transformer_type = None\n",
    "        self.OHE_categorical_transformer = None\n",
    "        self.ORE_categorical_transformer = None\n",
    "#         self.numerical_cols = None\n",
    "#         self.low_card_cat_cols = None\n",
    "#         self.high_card_cat_cols = None\n",
    "#         self.final_cols = None\n",
    "    \n",
    "    def __str__(self):\n",
    "        \"\"\"Returns human readable string reprsentation\"\"\"\n",
    "        attr_str = \"numerical_transformer, categorical_transformer,columns_transfomer\"\n",
    "        return \"PreProcessor object with attributes:\" + attr_str\n",
    "    \n",
    "    def __repr__(self):\n",
    "        return self.__str__()\n",
    "    \n",
    "    # PreProcessor core methods\n",
    "    \n",
    "    # Preprocessing for numerical data\n",
    "    def preprocess_numerical_data(self, num_imputer, num_scaler):\n",
    "        self.numerical_transformer = Pipeline(steps=[\n",
    "            ('imputer', num_imputer),\n",
    "            ('scaler',  num_scaler)\n",
    "        ])\n",
    "        \n",
    "    # Preprocessing for categorical data\n",
    "    def preprocess_OHE_categorical_data(self, cat_imputer):\n",
    "        self.OHE_categorical_transformer = Pipeline(steps=[\n",
    "        ('imputer', cat_imputer),\n",
    "        ('onehot', OneHotEncoder(handle_unknown='ignore'))\n",
    "        ])   \n",
    "\n",
    "    def preprocess_OE_categorical_data(self, cat_imputer):\n",
    "        self.OE_categorical_transformer = Pipeline(steps=[\n",
    "        ('imputer', cat_imputer),\n",
    "        ('ordinal', OrdinalEncoder())\n",
    "        ])\n",
    "        \n",
    "    #TO-DO\n",
    "#     def reduce_dims(self):\n",
    "#         pass\n",
    "    \n",
    "    # Bundle preprocessing pipelines based upon types of columns\n",
    "    def preprocess_all_cols(self, dataframeloader,\n",
    "                            num_imputer = SimpleImputer(strategy='median'),\n",
    "                            num_scaler = StandardScaler(),\n",
    "                            cat_imputer = SimpleImputer(strategy='constant')):\n",
    "        \n",
    "        # change preprocessor according to type of column found\n",
    "        \n",
    "        if (dataframeloader.low_card_cat_cols and dataframeloader.high_card_cat_cols) is None:\n",
    "            self.preprocess_numerical_data(num_imputer, num_scaler)\n",
    "            self.transformer_type = self.numerical_transformer\n",
    "        \n",
    "        elif (dataframeloader.numerical_cols and dataframeloader.high_card_cat_cols) is None:\n",
    "            # create scikit-learn pipelines instances\n",
    "            self.preprocess_OHE_categorical_data(cat_imputer)\n",
    "            # convert all categorical columns to OrdinalEncoder with Scikit-learn ColumnTranfomer\n",
    "            self.columns_transfomer = ColumnTransformer(\n",
    "                transformers=[\n",
    "                    ('low_cad_cat', self.OHE_categorical_transformer,\n",
    "                     dataframeloader.low_card_cat_cols)\n",
    "                ])\n",
    "            self.transformer_type = self.columns_transfomer\n",
    "        \n",
    "        else:\n",
    "            # create scikit-learn pipelines instances\n",
    "            self.preprocess_numerical_data(num_imputer, num_scaler)\n",
    "            self.preprocess_OHE_categorical_data(cat_imputer)\n",
    "            self.preprocess_OE_categorical_data(cat_imputer)\n",
    "            # convert to Scikit-learn ColumnTranfomer\n",
    "            self.columns_transfomer = ColumnTransformer(\n",
    "                transformers=[\n",
    "                    ('num', self.numerical_transformer,\n",
    "                     dataframeloader.numerical_cols),\n",
    "                    ('low_cad_cat', self.OHE_categorical_transformer,\n",
    "                     dataframeloader.low_card_cat_cols),\n",
    "                    ('high_cad_cat', self.OE_categorical_transformer,\n",
    "                     dataframeloader.high_card_cat_cols)\n",
    "                ])\n",
    "            self.transformer_type = self.columns_transfomer\n",
    "        \n",
    "        return self"
   ]
  },
  {
   "cell_type": "code",
   "execution_count": 11,
   "id": "81cf5db5",
   "metadata": {},
   "outputs": [],
   "source": [
    "# showdoc(PreProcessor.preprocess_data)"
   ]
  },
  {
   "cell_type": "markdown",
   "id": "883dcf04",
   "metadata": {},
   "source": [
    "#### Test PreProcessor with House Data"
   ]
  },
  {
   "cell_type": "code",
   "execution_count": 12,
   "id": "ef8d4901",
   "metadata": {},
   "outputs": [
    {
     "data": {
      "text/plain": [
       "DataFrameLoader object with attributes: X_full, X_test, X(features), y(target), X_train, X_valid, y_train and y_valid"
      ]
     },
     "execution_count": 12,
     "metadata": {},
     "output_type": "execute_result"
    }
   ],
   "source": [
    "dfl = DataFrameLoader().from_csv(\n",
    "    train_file_path=\"input/home_data/train.csv\",\n",
    "    test_file_path=\"input/home_data/test.csv\",\n",
    "    idx_col=\"Id\", target=\"SalePrice\",\n",
    "    random_state=42, valid_size=0.2)\n",
    "dfl"
   ]
  },
  {
   "cell_type": "code",
   "execution_count": 13,
   "id": "5faf8831",
   "metadata": {},
   "outputs": [
    {
     "data": {
      "text/plain": [
       "PreProcessor object with attributes:numerical_transformer, categorical_transformer,columns_transfomer"
      ]
     },
     "execution_count": 13,
     "metadata": {},
     "output_type": "execute_result"
    }
   ],
   "source": [
    "pp = PreProcessor().preprocess_all_cols(dataframeloader=dfl)\n",
    "pp"
   ]
  },
  {
   "cell_type": "code",
   "execution_count": 14,
   "id": "b8fce59f",
   "metadata": {},
   "outputs": [],
   "source": [
    "# pp.columns_transfomer"
   ]
  },
  {
   "cell_type": "code",
   "execution_count": 15,
   "id": "d1f6a256",
   "metadata": {},
   "outputs": [
    {
     "name": "stdout",
     "output_type": "stream",
     "text": [
      "36\n"
     ]
    }
   ],
   "source": [
    "print(len(dfl.numerical_cols))\n",
    "# dfl.numerical_cols"
   ]
  },
  {
   "cell_type": "code",
   "execution_count": 16,
   "id": "aed0a0c9",
   "metadata": {},
   "outputs": [
    {
     "name": "stdout",
     "output_type": "stream",
     "text": [
      "3\n"
     ]
    }
   ],
   "source": [
    "print(len(dfl.high_card_cat_cols))\n",
    "# dfl.high_card_cat_cols"
   ]
  },
  {
   "cell_type": "code",
   "execution_count": 17,
   "id": "d7c480d8",
   "metadata": {},
   "outputs": [
    {
     "name": "stdout",
     "output_type": "stream",
     "text": [
      "40\n"
     ]
    }
   ],
   "source": [
    "print(len(dfl.low_card_cat_cols))\n",
    "# dfl.low_card_cat_cols"
   ]
  },
  {
   "cell_type": "code",
   "execution_count": 18,
   "id": "57973ecf",
   "metadata": {},
   "outputs": [
    {
     "data": {
      "text/plain": [
       "RandomForestRegressor(random_state=42)"
      ]
     },
     "execution_count": 18,
     "metadata": {},
     "output_type": "execute_result"
    }
   ],
   "source": [
    "# Define model\n",
    "model = RandomForestRegressor(n_estimators=100, random_state=42)\n",
    "model"
   ]
  },
  {
   "cell_type": "code",
   "execution_count": 19,
   "id": "1f314216",
   "metadata": {},
   "outputs": [],
   "source": [
    "# Bundle preprocessor and model in a pipeline\n",
    "pl = Pipeline(steps=[('preprocessor', pp.columns_transfomer),\n",
    "                      ('model', model)\n",
    "                     ])\n",
    "# pl"
   ]
  },
  {
   "cell_type": "code",
   "execution_count": 20,
   "id": "6a3fe226",
   "metadata": {},
   "outputs": [
    {
     "data": {
      "text/html": [
       "<style>#sk-8bccdc4a-04d5-4384-80be-d44bea3fcf51 {color: black;background-color: white;}#sk-8bccdc4a-04d5-4384-80be-d44bea3fcf51 pre{padding: 0;}#sk-8bccdc4a-04d5-4384-80be-d44bea3fcf51 div.sk-toggleable {background-color: white;}#sk-8bccdc4a-04d5-4384-80be-d44bea3fcf51 label.sk-toggleable__label {cursor: pointer;display: block;width: 100%;margin-bottom: 0;padding: 0.3em;box-sizing: border-box;text-align: center;}#sk-8bccdc4a-04d5-4384-80be-d44bea3fcf51 div.sk-toggleable__content {max-height: 0;max-width: 0;overflow: hidden;text-align: left;background-color: #f0f8ff;}#sk-8bccdc4a-04d5-4384-80be-d44bea3fcf51 div.sk-toggleable__content pre {margin: 0.2em;color: black;border-radius: 0.25em;background-color: #f0f8ff;}#sk-8bccdc4a-04d5-4384-80be-d44bea3fcf51 input.sk-toggleable__control:checked~div.sk-toggleable__content {max-height: 200px;max-width: 100%;overflow: auto;}#sk-8bccdc4a-04d5-4384-80be-d44bea3fcf51 div.sk-estimator input.sk-toggleable__control:checked~label.sk-toggleable__label {background-color: #d4ebff;}#sk-8bccdc4a-04d5-4384-80be-d44bea3fcf51 div.sk-label input.sk-toggleable__control:checked~label.sk-toggleable__label {background-color: #d4ebff;}#sk-8bccdc4a-04d5-4384-80be-d44bea3fcf51 input.sk-hidden--visually {border: 0;clip: rect(1px 1px 1px 1px);clip: rect(1px, 1px, 1px, 1px);height: 1px;margin: -1px;overflow: hidden;padding: 0;position: absolute;width: 1px;}#sk-8bccdc4a-04d5-4384-80be-d44bea3fcf51 div.sk-estimator {font-family: monospace;background-color: #f0f8ff;border: 1px dotted black;border-radius: 0.25em;box-sizing: border-box;margin-bottom: 0.5em;}#sk-8bccdc4a-04d5-4384-80be-d44bea3fcf51 div.sk-estimator:hover {background-color: #d4ebff;}#sk-8bccdc4a-04d5-4384-80be-d44bea3fcf51 div.sk-parallel-item::after {content: \"\";width: 100%;border-bottom: 1px solid gray;flex-grow: 1;}#sk-8bccdc4a-04d5-4384-80be-d44bea3fcf51 div.sk-label:hover label.sk-toggleable__label {background-color: #d4ebff;}#sk-8bccdc4a-04d5-4384-80be-d44bea3fcf51 div.sk-serial::before {content: \"\";position: absolute;border-left: 1px solid gray;box-sizing: border-box;top: 2em;bottom: 0;left: 50%;}#sk-8bccdc4a-04d5-4384-80be-d44bea3fcf51 div.sk-serial {display: flex;flex-direction: column;align-items: center;background-color: white;padding-right: 0.2em;padding-left: 0.2em;}#sk-8bccdc4a-04d5-4384-80be-d44bea3fcf51 div.sk-item {z-index: 1;}#sk-8bccdc4a-04d5-4384-80be-d44bea3fcf51 div.sk-parallel {display: flex;align-items: stretch;justify-content: center;background-color: white;}#sk-8bccdc4a-04d5-4384-80be-d44bea3fcf51 div.sk-parallel::before {content: \"\";position: absolute;border-left: 1px solid gray;box-sizing: border-box;top: 2em;bottom: 0;left: 50%;}#sk-8bccdc4a-04d5-4384-80be-d44bea3fcf51 div.sk-parallel-item {display: flex;flex-direction: column;position: relative;background-color: white;}#sk-8bccdc4a-04d5-4384-80be-d44bea3fcf51 div.sk-parallel-item:first-child::after {align-self: flex-end;width: 50%;}#sk-8bccdc4a-04d5-4384-80be-d44bea3fcf51 div.sk-parallel-item:last-child::after {align-self: flex-start;width: 50%;}#sk-8bccdc4a-04d5-4384-80be-d44bea3fcf51 div.sk-parallel-item:only-child::after {width: 0;}#sk-8bccdc4a-04d5-4384-80be-d44bea3fcf51 div.sk-dashed-wrapped {border: 1px dashed gray;margin: 0 0.4em 0.5em 0.4em;box-sizing: border-box;padding-bottom: 0.4em;background-color: white;position: relative;}#sk-8bccdc4a-04d5-4384-80be-d44bea3fcf51 div.sk-label label {font-family: monospace;font-weight: bold;background-color: white;display: inline-block;line-height: 1.2em;}#sk-8bccdc4a-04d5-4384-80be-d44bea3fcf51 div.sk-label-container {position: relative;z-index: 2;text-align: center;}#sk-8bccdc4a-04d5-4384-80be-d44bea3fcf51 div.sk-container {display: inline-block;position: relative;}</style><div id=\"sk-8bccdc4a-04d5-4384-80be-d44bea3fcf51\" class\"sk-top-container\"><div class=\"sk-container\"><div class=\"sk-item sk-dashed-wrapped\"><div class=\"sk-label-container\"><div class=\"sk-label sk-toggleable\"><input class=\"sk-toggleable__control sk-hidden--visually\" id=\"a1c19802-fbcf-4004-844a-1de3ef548bb3\" type=\"checkbox\" ><label class=\"sk-toggleable__label\" for=\"a1c19802-fbcf-4004-844a-1de3ef548bb3\">Pipeline</label><div class=\"sk-toggleable__content\"><pre>Pipeline(steps=[('preprocessor',\n",
       "                 ColumnTransformer(transformers=[('num',\n",
       "                                                  Pipeline(steps=[('imputer',\n",
       "                                                                   SimpleImputer(strategy='median')),\n",
       "                                                                  ('scaler',\n",
       "                                                                   StandardScaler())]),\n",
       "                                                  ['MSSubClass', 'LotFrontage',\n",
       "                                                   'LotArea', 'OverallQual',\n",
       "                                                   'OverallCond', 'YearBuilt',\n",
       "                                                   'YearRemodAdd', 'MasVnrArea',\n",
       "                                                   'BsmtFinSF1', 'BsmtFinSF2',\n",
       "                                                   'BsmtUnfSF', 'TotalBsmtSF',\n",
       "                                                   '1stFlrSF', '2ndFlrSF',\n",
       "                                                   'LowQual...\n",
       "                                                   'BsmtQual', 'BsmtCond',\n",
       "                                                   'BsmtExposure',\n",
       "                                                   'BsmtFinType1',\n",
       "                                                   'BsmtFinType2', 'Heating',\n",
       "                                                   'HeatingQC', 'CentralAir',\n",
       "                                                   'Electrical', 'KitchenQual',\n",
       "                                                   'Functional', 'FireplaceQu', ...]),\n",
       "                                                 ('high_cad_cat',\n",
       "                                                  Pipeline(steps=[('imputer',\n",
       "                                                                   SimpleImputer(strategy='constant')),\n",
       "                                                                  ('ordinal',\n",
       "                                                                   OrdinalEncoder())]),\n",
       "                                                  ['Neighborhood',\n",
       "                                                   'Exterior1st',\n",
       "                                                   'Exterior2nd'])])),\n",
       "                ('model', RandomForestRegressor(random_state=42))])</pre></div></div></div><div class=\"sk-serial\"><div class=\"sk-item sk-dashed-wrapped\"><div class=\"sk-label-container\"><div class=\"sk-label sk-toggleable\"><input class=\"sk-toggleable__control sk-hidden--visually\" id=\"03726350-a3c7-4790-954b-a608c7780556\" type=\"checkbox\" ><label class=\"sk-toggleable__label\" for=\"03726350-a3c7-4790-954b-a608c7780556\">preprocessor: ColumnTransformer</label><div class=\"sk-toggleable__content\"><pre>ColumnTransformer(transformers=[('num',\n",
       "                                 Pipeline(steps=[('imputer',\n",
       "                                                  SimpleImputer(strategy='median')),\n",
       "                                                 ('scaler', StandardScaler())]),\n",
       "                                 ['MSSubClass', 'LotFrontage', 'LotArea',\n",
       "                                  'OverallQual', 'OverallCond', 'YearBuilt',\n",
       "                                  'YearRemodAdd', 'MasVnrArea', 'BsmtFinSF1',\n",
       "                                  'BsmtFinSF2', 'BsmtUnfSF', 'TotalBsmtSF',\n",
       "                                  '1stFlrSF', '2ndFlrSF', 'LowQualFinSF',\n",
       "                                  'GrLivArea', 'BsmtFullBath...\n",
       "                                  'RoofMatl', 'MasVnrType', 'ExterQual',\n",
       "                                  'ExterCond', 'Foundation', 'BsmtQual',\n",
       "                                  'BsmtCond', 'BsmtExposure', 'BsmtFinType1',\n",
       "                                  'BsmtFinType2', 'Heating', 'HeatingQC',\n",
       "                                  'CentralAir', 'Electrical', 'KitchenQual',\n",
       "                                  'Functional', 'FireplaceQu', ...]),\n",
       "                                ('high_cad_cat',\n",
       "                                 Pipeline(steps=[('imputer',\n",
       "                                                  SimpleImputer(strategy='constant')),\n",
       "                                                 ('ordinal',\n",
       "                                                  OrdinalEncoder())]),\n",
       "                                 ['Neighborhood', 'Exterior1st',\n",
       "                                  'Exterior2nd'])])</pre></div></div></div><div class=\"sk-parallel\"><div class=\"sk-parallel-item\"><div class=\"sk-item\"><div class=\"sk-label-container\"><div class=\"sk-label sk-toggleable\"><input class=\"sk-toggleable__control sk-hidden--visually\" id=\"288814e5-50a1-4c43-a621-57567412e12c\" type=\"checkbox\" ><label class=\"sk-toggleable__label\" for=\"288814e5-50a1-4c43-a621-57567412e12c\">num</label><div class=\"sk-toggleable__content\"><pre>['MSSubClass', 'LotFrontage', 'LotArea', 'OverallQual', 'OverallCond', 'YearBuilt', 'YearRemodAdd', 'MasVnrArea', 'BsmtFinSF1', 'BsmtFinSF2', 'BsmtUnfSF', 'TotalBsmtSF', '1stFlrSF', '2ndFlrSF', 'LowQualFinSF', 'GrLivArea', 'BsmtFullBath', 'BsmtHalfBath', 'FullBath', 'HalfBath', 'BedroomAbvGr', 'KitchenAbvGr', 'TotRmsAbvGrd', 'Fireplaces', 'GarageYrBlt', 'GarageCars', 'GarageArea', 'WoodDeckSF', 'OpenPorchSF', 'EnclosedPorch', '3SsnPorch', 'ScreenPorch', 'PoolArea', 'MiscVal', 'MoSold', 'YrSold']</pre></div></div></div><div class=\"sk-serial\"><div class=\"sk-item\"><div class=\"sk-serial\"><div class=\"sk-item\"><div class=\"sk-estimator sk-toggleable\"><input class=\"sk-toggleable__control sk-hidden--visually\" id=\"353ab256-9355-40ca-98da-16906ec78339\" type=\"checkbox\" ><label class=\"sk-toggleable__label\" for=\"353ab256-9355-40ca-98da-16906ec78339\">SimpleImputer</label><div class=\"sk-toggleable__content\"><pre>SimpleImputer(strategy='median')</pre></div></div></div><div class=\"sk-item\"><div class=\"sk-estimator sk-toggleable\"><input class=\"sk-toggleable__control sk-hidden--visually\" id=\"91723582-38fd-4f3f-9c7c-b40b137e2c24\" type=\"checkbox\" ><label class=\"sk-toggleable__label\" for=\"91723582-38fd-4f3f-9c7c-b40b137e2c24\">StandardScaler</label><div class=\"sk-toggleable__content\"><pre>StandardScaler()</pre></div></div></div></div></div></div></div></div><div class=\"sk-parallel-item\"><div class=\"sk-item\"><div class=\"sk-label-container\"><div class=\"sk-label sk-toggleable\"><input class=\"sk-toggleable__control sk-hidden--visually\" id=\"b644ed10-5747-491b-834e-dbcac5a7ba94\" type=\"checkbox\" ><label class=\"sk-toggleable__label\" for=\"b644ed10-5747-491b-834e-dbcac5a7ba94\">low_cad_cat</label><div class=\"sk-toggleable__content\"><pre>['MSZoning', 'Street', 'Alley', 'LotShape', 'LandContour', 'Utilities', 'LotConfig', 'LandSlope', 'Condition1', 'Condition2', 'BldgType', 'HouseStyle', 'RoofStyle', 'RoofMatl', 'MasVnrType', 'ExterQual', 'ExterCond', 'Foundation', 'BsmtQual', 'BsmtCond', 'BsmtExposure', 'BsmtFinType1', 'BsmtFinType2', 'Heating', 'HeatingQC', 'CentralAir', 'Electrical', 'KitchenQual', 'Functional', 'FireplaceQu', 'GarageType', 'GarageFinish', 'GarageQual', 'GarageCond', 'PavedDrive', 'PoolQC', 'Fence', 'MiscFeature', 'SaleType', 'SaleCondition']</pre></div></div></div><div class=\"sk-serial\"><div class=\"sk-item\"><div class=\"sk-serial\"><div class=\"sk-item\"><div class=\"sk-estimator sk-toggleable\"><input class=\"sk-toggleable__control sk-hidden--visually\" id=\"5be361a6-9ecd-4e22-984d-4db2a557362e\" type=\"checkbox\" ><label class=\"sk-toggleable__label\" for=\"5be361a6-9ecd-4e22-984d-4db2a557362e\">SimpleImputer</label><div class=\"sk-toggleable__content\"><pre>SimpleImputer(strategy='constant')</pre></div></div></div><div class=\"sk-item\"><div class=\"sk-estimator sk-toggleable\"><input class=\"sk-toggleable__control sk-hidden--visually\" id=\"a0de257c-28b0-412b-be8f-a9a523f87138\" type=\"checkbox\" ><label class=\"sk-toggleable__label\" for=\"a0de257c-28b0-412b-be8f-a9a523f87138\">OneHotEncoder</label><div class=\"sk-toggleable__content\"><pre>OneHotEncoder(handle_unknown='ignore')</pre></div></div></div></div></div></div></div></div><div class=\"sk-parallel-item\"><div class=\"sk-item\"><div class=\"sk-label-container\"><div class=\"sk-label sk-toggleable\"><input class=\"sk-toggleable__control sk-hidden--visually\" id=\"13210692-5498-4369-b5b2-2fe124205512\" type=\"checkbox\" ><label class=\"sk-toggleable__label\" for=\"13210692-5498-4369-b5b2-2fe124205512\">high_cad_cat</label><div class=\"sk-toggleable__content\"><pre>['Neighborhood', 'Exterior1st', 'Exterior2nd']</pre></div></div></div><div class=\"sk-serial\"><div class=\"sk-item\"><div class=\"sk-serial\"><div class=\"sk-item\"><div class=\"sk-estimator sk-toggleable\"><input class=\"sk-toggleable__control sk-hidden--visually\" id=\"7eb8af97-9d54-4e85-bd2b-e226d243d266\" type=\"checkbox\" ><label class=\"sk-toggleable__label\" for=\"7eb8af97-9d54-4e85-bd2b-e226d243d266\">SimpleImputer</label><div class=\"sk-toggleable__content\"><pre>SimpleImputer(strategy='constant')</pre></div></div></div><div class=\"sk-item\"><div class=\"sk-estimator sk-toggleable\"><input class=\"sk-toggleable__control sk-hidden--visually\" id=\"306b262a-bd08-4366-ba77-dbd68b07f3a3\" type=\"checkbox\" ><label class=\"sk-toggleable__label\" for=\"306b262a-bd08-4366-ba77-dbd68b07f3a3\">OrdinalEncoder</label><div class=\"sk-toggleable__content\"><pre>OrdinalEncoder()</pre></div></div></div></div></div></div></div></div></div></div><div class=\"sk-item\"><div class=\"sk-estimator sk-toggleable\"><input class=\"sk-toggleable__control sk-hidden--visually\" id=\"63b9b851-306e-4814-a987-5013b4383c01\" type=\"checkbox\" ><label class=\"sk-toggleable__label\" for=\"63b9b851-306e-4814-a987-5013b4383c01\">RandomForestRegressor</label><div class=\"sk-toggleable__content\"><pre>RandomForestRegressor(random_state=42)</pre></div></div></div></div></div></div></div>"
      ],
      "text/plain": [
       "Pipeline(steps=[('preprocessor',\n",
       "                 ColumnTransformer(transformers=[('num',\n",
       "                                                  Pipeline(steps=[('imputer',\n",
       "                                                                   SimpleImputer(strategy='median')),\n",
       "                                                                  ('scaler',\n",
       "                                                                   StandardScaler())]),\n",
       "                                                  ['MSSubClass', 'LotFrontage',\n",
       "                                                   'LotArea', 'OverallQual',\n",
       "                                                   'OverallCond', 'YearBuilt',\n",
       "                                                   'YearRemodAdd', 'MasVnrArea',\n",
       "                                                   'BsmtFinSF1', 'BsmtFinSF2',\n",
       "                                                   'BsmtUnfSF', 'TotalBsmtSF',\n",
       "                                                   '1stFlrSF', '2ndFlrSF',\n",
       "                                                   'LowQual...\n",
       "                                                   'BsmtQual', 'BsmtCond',\n",
       "                                                   'BsmtExposure',\n",
       "                                                   'BsmtFinType1',\n",
       "                                                   'BsmtFinType2', 'Heating',\n",
       "                                                   'HeatingQC', 'CentralAir',\n",
       "                                                   'Electrical', 'KitchenQual',\n",
       "                                                   'Functional', 'FireplaceQu', ...]),\n",
       "                                                 ('high_cad_cat',\n",
       "                                                  Pipeline(steps=[('imputer',\n",
       "                                                                   SimpleImputer(strategy='constant')),\n",
       "                                                                  ('ordinal',\n",
       "                                                                   OrdinalEncoder())]),\n",
       "                                                  ['Neighborhood',\n",
       "                                                   'Exterior1st',\n",
       "                                                   'Exterior2nd'])])),\n",
       "                ('model', RandomForestRegressor(random_state=42))])"
      ]
     },
     "execution_count": 20,
     "metadata": {},
     "output_type": "execute_result"
    }
   ],
   "source": [
    "# for visualizing pipeline\n",
    "from sklearn import set_config\n",
    "\n",
    "set_config(display=\"diagram\")\n",
    "pl"
   ]
  },
  {
   "cell_type": "code",
   "execution_count": 21,
   "id": "a7ff6f0d",
   "metadata": {},
   "outputs": [
    {
     "data": {
      "text/html": [
       "<style>#sk-a56940a7-af31-49d8-8e87-8e4835c3f02e {color: black;background-color: white;}#sk-a56940a7-af31-49d8-8e87-8e4835c3f02e pre{padding: 0;}#sk-a56940a7-af31-49d8-8e87-8e4835c3f02e div.sk-toggleable {background-color: white;}#sk-a56940a7-af31-49d8-8e87-8e4835c3f02e label.sk-toggleable__label {cursor: pointer;display: block;width: 100%;margin-bottom: 0;padding: 0.3em;box-sizing: border-box;text-align: center;}#sk-a56940a7-af31-49d8-8e87-8e4835c3f02e div.sk-toggleable__content {max-height: 0;max-width: 0;overflow: hidden;text-align: left;background-color: #f0f8ff;}#sk-a56940a7-af31-49d8-8e87-8e4835c3f02e div.sk-toggleable__content pre {margin: 0.2em;color: black;border-radius: 0.25em;background-color: #f0f8ff;}#sk-a56940a7-af31-49d8-8e87-8e4835c3f02e input.sk-toggleable__control:checked~div.sk-toggleable__content {max-height: 200px;max-width: 100%;overflow: auto;}#sk-a56940a7-af31-49d8-8e87-8e4835c3f02e div.sk-estimator input.sk-toggleable__control:checked~label.sk-toggleable__label {background-color: #d4ebff;}#sk-a56940a7-af31-49d8-8e87-8e4835c3f02e div.sk-label input.sk-toggleable__control:checked~label.sk-toggleable__label {background-color: #d4ebff;}#sk-a56940a7-af31-49d8-8e87-8e4835c3f02e input.sk-hidden--visually {border: 0;clip: rect(1px 1px 1px 1px);clip: rect(1px, 1px, 1px, 1px);height: 1px;margin: -1px;overflow: hidden;padding: 0;position: absolute;width: 1px;}#sk-a56940a7-af31-49d8-8e87-8e4835c3f02e div.sk-estimator {font-family: monospace;background-color: #f0f8ff;border: 1px dotted black;border-radius: 0.25em;box-sizing: border-box;margin-bottom: 0.5em;}#sk-a56940a7-af31-49d8-8e87-8e4835c3f02e div.sk-estimator:hover {background-color: #d4ebff;}#sk-a56940a7-af31-49d8-8e87-8e4835c3f02e div.sk-parallel-item::after {content: \"\";width: 100%;border-bottom: 1px solid gray;flex-grow: 1;}#sk-a56940a7-af31-49d8-8e87-8e4835c3f02e div.sk-label:hover label.sk-toggleable__label {background-color: #d4ebff;}#sk-a56940a7-af31-49d8-8e87-8e4835c3f02e div.sk-serial::before {content: \"\";position: absolute;border-left: 1px solid gray;box-sizing: border-box;top: 2em;bottom: 0;left: 50%;}#sk-a56940a7-af31-49d8-8e87-8e4835c3f02e div.sk-serial {display: flex;flex-direction: column;align-items: center;background-color: white;padding-right: 0.2em;padding-left: 0.2em;}#sk-a56940a7-af31-49d8-8e87-8e4835c3f02e div.sk-item {z-index: 1;}#sk-a56940a7-af31-49d8-8e87-8e4835c3f02e div.sk-parallel {display: flex;align-items: stretch;justify-content: center;background-color: white;}#sk-a56940a7-af31-49d8-8e87-8e4835c3f02e div.sk-parallel::before {content: \"\";position: absolute;border-left: 1px solid gray;box-sizing: border-box;top: 2em;bottom: 0;left: 50%;}#sk-a56940a7-af31-49d8-8e87-8e4835c3f02e div.sk-parallel-item {display: flex;flex-direction: column;position: relative;background-color: white;}#sk-a56940a7-af31-49d8-8e87-8e4835c3f02e div.sk-parallel-item:first-child::after {align-self: flex-end;width: 50%;}#sk-a56940a7-af31-49d8-8e87-8e4835c3f02e div.sk-parallel-item:last-child::after {align-self: flex-start;width: 50%;}#sk-a56940a7-af31-49d8-8e87-8e4835c3f02e div.sk-parallel-item:only-child::after {width: 0;}#sk-a56940a7-af31-49d8-8e87-8e4835c3f02e div.sk-dashed-wrapped {border: 1px dashed gray;margin: 0 0.4em 0.5em 0.4em;box-sizing: border-box;padding-bottom: 0.4em;background-color: white;position: relative;}#sk-a56940a7-af31-49d8-8e87-8e4835c3f02e div.sk-label label {font-family: monospace;font-weight: bold;background-color: white;display: inline-block;line-height: 1.2em;}#sk-a56940a7-af31-49d8-8e87-8e4835c3f02e div.sk-label-container {position: relative;z-index: 2;text-align: center;}#sk-a56940a7-af31-49d8-8e87-8e4835c3f02e div.sk-container {display: inline-block;position: relative;}</style><div id=\"sk-a56940a7-af31-49d8-8e87-8e4835c3f02e\" class\"sk-top-container\"><div class=\"sk-container\"><div class=\"sk-item sk-dashed-wrapped\"><div class=\"sk-label-container\"><div class=\"sk-label sk-toggleable\"><input class=\"sk-toggleable__control sk-hidden--visually\" id=\"94032a5c-3755-41ff-ad8b-bc4f6595dbd5\" type=\"checkbox\" ><label class=\"sk-toggleable__label\" for=\"94032a5c-3755-41ff-ad8b-bc4f6595dbd5\">Pipeline</label><div class=\"sk-toggleable__content\"><pre>Pipeline(steps=[('preprocessor',\n",
       "                 ColumnTransformer(transformers=[('num',\n",
       "                                                  Pipeline(steps=[('imputer',\n",
       "                                                                   SimpleImputer(strategy='median')),\n",
       "                                                                  ('scaler',\n",
       "                                                                   StandardScaler())]),\n",
       "                                                  ['MSSubClass', 'LotFrontage',\n",
       "                                                   'LotArea', 'OverallQual',\n",
       "                                                   'OverallCond', 'YearBuilt',\n",
       "                                                   'YearRemodAdd', 'MasVnrArea',\n",
       "                                                   'BsmtFinSF1', 'BsmtFinSF2',\n",
       "                                                   'BsmtUnfSF', 'TotalBsmtSF',\n",
       "                                                   '1stFlrSF', '2ndFlrSF',\n",
       "                                                   'LowQual...\n",
       "                                                   'BsmtQual', 'BsmtCond',\n",
       "                                                   'BsmtExposure',\n",
       "                                                   'BsmtFinType1',\n",
       "                                                   'BsmtFinType2', 'Heating',\n",
       "                                                   'HeatingQC', 'CentralAir',\n",
       "                                                   'Electrical', 'KitchenQual',\n",
       "                                                   'Functional', 'FireplaceQu', ...]),\n",
       "                                                 ('high_cad_cat',\n",
       "                                                  Pipeline(steps=[('imputer',\n",
       "                                                                   SimpleImputer(strategy='constant')),\n",
       "                                                                  ('ordinal',\n",
       "                                                                   OrdinalEncoder())]),\n",
       "                                                  ['Neighborhood',\n",
       "                                                   'Exterior1st',\n",
       "                                                   'Exterior2nd'])])),\n",
       "                ('model', RandomForestRegressor(random_state=42))])</pre></div></div></div><div class=\"sk-serial\"><div class=\"sk-item sk-dashed-wrapped\"><div class=\"sk-label-container\"><div class=\"sk-label sk-toggleable\"><input class=\"sk-toggleable__control sk-hidden--visually\" id=\"fa76d783-4d29-4343-bcd7-5b5b14260757\" type=\"checkbox\" ><label class=\"sk-toggleable__label\" for=\"fa76d783-4d29-4343-bcd7-5b5b14260757\">preprocessor: ColumnTransformer</label><div class=\"sk-toggleable__content\"><pre>ColumnTransformer(transformers=[('num',\n",
       "                                 Pipeline(steps=[('imputer',\n",
       "                                                  SimpleImputer(strategy='median')),\n",
       "                                                 ('scaler', StandardScaler())]),\n",
       "                                 ['MSSubClass', 'LotFrontage', 'LotArea',\n",
       "                                  'OverallQual', 'OverallCond', 'YearBuilt',\n",
       "                                  'YearRemodAdd', 'MasVnrArea', 'BsmtFinSF1',\n",
       "                                  'BsmtFinSF2', 'BsmtUnfSF', 'TotalBsmtSF',\n",
       "                                  '1stFlrSF', '2ndFlrSF', 'LowQualFinSF',\n",
       "                                  'GrLivArea', 'BsmtFullBath...\n",
       "                                  'RoofMatl', 'MasVnrType', 'ExterQual',\n",
       "                                  'ExterCond', 'Foundation', 'BsmtQual',\n",
       "                                  'BsmtCond', 'BsmtExposure', 'BsmtFinType1',\n",
       "                                  'BsmtFinType2', 'Heating', 'HeatingQC',\n",
       "                                  'CentralAir', 'Electrical', 'KitchenQual',\n",
       "                                  'Functional', 'FireplaceQu', ...]),\n",
       "                                ('high_cad_cat',\n",
       "                                 Pipeline(steps=[('imputer',\n",
       "                                                  SimpleImputer(strategy='constant')),\n",
       "                                                 ('ordinal',\n",
       "                                                  OrdinalEncoder())]),\n",
       "                                 ['Neighborhood', 'Exterior1st',\n",
       "                                  'Exterior2nd'])])</pre></div></div></div><div class=\"sk-parallel\"><div class=\"sk-parallel-item\"><div class=\"sk-item\"><div class=\"sk-label-container\"><div class=\"sk-label sk-toggleable\"><input class=\"sk-toggleable__control sk-hidden--visually\" id=\"538e1d1e-a490-4cf6-81f0-c3672b9a28c8\" type=\"checkbox\" ><label class=\"sk-toggleable__label\" for=\"538e1d1e-a490-4cf6-81f0-c3672b9a28c8\">num</label><div class=\"sk-toggleable__content\"><pre>['MSSubClass', 'LotFrontage', 'LotArea', 'OverallQual', 'OverallCond', 'YearBuilt', 'YearRemodAdd', 'MasVnrArea', 'BsmtFinSF1', 'BsmtFinSF2', 'BsmtUnfSF', 'TotalBsmtSF', '1stFlrSF', '2ndFlrSF', 'LowQualFinSF', 'GrLivArea', 'BsmtFullBath', 'BsmtHalfBath', 'FullBath', 'HalfBath', 'BedroomAbvGr', 'KitchenAbvGr', 'TotRmsAbvGrd', 'Fireplaces', 'GarageYrBlt', 'GarageCars', 'GarageArea', 'WoodDeckSF', 'OpenPorchSF', 'EnclosedPorch', '3SsnPorch', 'ScreenPorch', 'PoolArea', 'MiscVal', 'MoSold', 'YrSold']</pre></div></div></div><div class=\"sk-serial\"><div class=\"sk-item\"><div class=\"sk-serial\"><div class=\"sk-item\"><div class=\"sk-estimator sk-toggleable\"><input class=\"sk-toggleable__control sk-hidden--visually\" id=\"e35c24a0-7eed-4b28-9b63-d2a8cb073744\" type=\"checkbox\" ><label class=\"sk-toggleable__label\" for=\"e35c24a0-7eed-4b28-9b63-d2a8cb073744\">SimpleImputer</label><div class=\"sk-toggleable__content\"><pre>SimpleImputer(strategy='median')</pre></div></div></div><div class=\"sk-item\"><div class=\"sk-estimator sk-toggleable\"><input class=\"sk-toggleable__control sk-hidden--visually\" id=\"c81da489-300e-483a-9029-6d939cf89077\" type=\"checkbox\" ><label class=\"sk-toggleable__label\" for=\"c81da489-300e-483a-9029-6d939cf89077\">StandardScaler</label><div class=\"sk-toggleable__content\"><pre>StandardScaler()</pre></div></div></div></div></div></div></div></div><div class=\"sk-parallel-item\"><div class=\"sk-item\"><div class=\"sk-label-container\"><div class=\"sk-label sk-toggleable\"><input class=\"sk-toggleable__control sk-hidden--visually\" id=\"58b43ad3-0096-41e2-b097-62c51f758bf7\" type=\"checkbox\" ><label class=\"sk-toggleable__label\" for=\"58b43ad3-0096-41e2-b097-62c51f758bf7\">low_cad_cat</label><div class=\"sk-toggleable__content\"><pre>['MSZoning', 'Street', 'Alley', 'LotShape', 'LandContour', 'Utilities', 'LotConfig', 'LandSlope', 'Condition1', 'Condition2', 'BldgType', 'HouseStyle', 'RoofStyle', 'RoofMatl', 'MasVnrType', 'ExterQual', 'ExterCond', 'Foundation', 'BsmtQual', 'BsmtCond', 'BsmtExposure', 'BsmtFinType1', 'BsmtFinType2', 'Heating', 'HeatingQC', 'CentralAir', 'Electrical', 'KitchenQual', 'Functional', 'FireplaceQu', 'GarageType', 'GarageFinish', 'GarageQual', 'GarageCond', 'PavedDrive', 'PoolQC', 'Fence', 'MiscFeature', 'SaleType', 'SaleCondition']</pre></div></div></div><div class=\"sk-serial\"><div class=\"sk-item\"><div class=\"sk-serial\"><div class=\"sk-item\"><div class=\"sk-estimator sk-toggleable\"><input class=\"sk-toggleable__control sk-hidden--visually\" id=\"908b4e9b-45c7-4329-b5c4-645c9c6565c0\" type=\"checkbox\" ><label class=\"sk-toggleable__label\" for=\"908b4e9b-45c7-4329-b5c4-645c9c6565c0\">SimpleImputer</label><div class=\"sk-toggleable__content\"><pre>SimpleImputer(strategy='constant')</pre></div></div></div><div class=\"sk-item\"><div class=\"sk-estimator sk-toggleable\"><input class=\"sk-toggleable__control sk-hidden--visually\" id=\"79a40f33-cc7d-40e0-8d94-c5b2a1c8dad2\" type=\"checkbox\" ><label class=\"sk-toggleable__label\" for=\"79a40f33-cc7d-40e0-8d94-c5b2a1c8dad2\">OneHotEncoder</label><div class=\"sk-toggleable__content\"><pre>OneHotEncoder(handle_unknown='ignore')</pre></div></div></div></div></div></div></div></div><div class=\"sk-parallel-item\"><div class=\"sk-item\"><div class=\"sk-label-container\"><div class=\"sk-label sk-toggleable\"><input class=\"sk-toggleable__control sk-hidden--visually\" id=\"b95aad15-d03b-4f34-84a5-02ea259459eb\" type=\"checkbox\" ><label class=\"sk-toggleable__label\" for=\"b95aad15-d03b-4f34-84a5-02ea259459eb\">high_cad_cat</label><div class=\"sk-toggleable__content\"><pre>['Neighborhood', 'Exterior1st', 'Exterior2nd']</pre></div></div></div><div class=\"sk-serial\"><div class=\"sk-item\"><div class=\"sk-serial\"><div class=\"sk-item\"><div class=\"sk-estimator sk-toggleable\"><input class=\"sk-toggleable__control sk-hidden--visually\" id=\"2cf39c66-3a91-44d8-9581-d30cf80f8460\" type=\"checkbox\" ><label class=\"sk-toggleable__label\" for=\"2cf39c66-3a91-44d8-9581-d30cf80f8460\">SimpleImputer</label><div class=\"sk-toggleable__content\"><pre>SimpleImputer(strategy='constant')</pre></div></div></div><div class=\"sk-item\"><div class=\"sk-estimator sk-toggleable\"><input class=\"sk-toggleable__control sk-hidden--visually\" id=\"d0a593ce-c9f6-4572-972a-0c543cfc24c9\" type=\"checkbox\" ><label class=\"sk-toggleable__label\" for=\"d0a593ce-c9f6-4572-972a-0c543cfc24c9\">OrdinalEncoder</label><div class=\"sk-toggleable__content\"><pre>OrdinalEncoder()</pre></div></div></div></div></div></div></div></div></div></div><div class=\"sk-item\"><div class=\"sk-estimator sk-toggleable\"><input class=\"sk-toggleable__control sk-hidden--visually\" id=\"99162a83-5700-4714-954f-37320f804aaa\" type=\"checkbox\" ><label class=\"sk-toggleable__label\" for=\"99162a83-5700-4714-954f-37320f804aaa\">RandomForestRegressor</label><div class=\"sk-toggleable__content\"><pre>RandomForestRegressor(random_state=42)</pre></div></div></div></div></div></div></div>"
      ],
      "text/plain": [
       "Pipeline(steps=[('preprocessor',\n",
       "                 ColumnTransformer(transformers=[('num',\n",
       "                                                  Pipeline(steps=[('imputer',\n",
       "                                                                   SimpleImputer(strategy='median')),\n",
       "                                                                  ('scaler',\n",
       "                                                                   StandardScaler())]),\n",
       "                                                  ['MSSubClass', 'LotFrontage',\n",
       "                                                   'LotArea', 'OverallQual',\n",
       "                                                   'OverallCond', 'YearBuilt',\n",
       "                                                   'YearRemodAdd', 'MasVnrArea',\n",
       "                                                   'BsmtFinSF1', 'BsmtFinSF2',\n",
       "                                                   'BsmtUnfSF', 'TotalBsmtSF',\n",
       "                                                   '1stFlrSF', '2ndFlrSF',\n",
       "                                                   'LowQual...\n",
       "                                                   'BsmtQual', 'BsmtCond',\n",
       "                                                   'BsmtExposure',\n",
       "                                                   'BsmtFinType1',\n",
       "                                                   'BsmtFinType2', 'Heating',\n",
       "                                                   'HeatingQC', 'CentralAir',\n",
       "                                                   'Electrical', 'KitchenQual',\n",
       "                                                   'Functional', 'FireplaceQu', ...]),\n",
       "                                                 ('high_cad_cat',\n",
       "                                                  Pipeline(steps=[('imputer',\n",
       "                                                                   SimpleImputer(strategy='constant')),\n",
       "                                                                  ('ordinal',\n",
       "                                                                   OrdinalEncoder())]),\n",
       "                                                  ['Neighborhood',\n",
       "                                                   'Exterior1st',\n",
       "                                                   'Exterior2nd'])])),\n",
       "                ('model', RandomForestRegressor(random_state=42))])"
      ]
     },
     "execution_count": 21,
     "metadata": {},
     "output_type": "execute_result"
    }
   ],
   "source": [
    "# Preprocessing of training data and then fit model \n",
    "pl.fit(dfl.X_train, dfl.y_train)"
   ]
  },
  {
   "cell_type": "code",
   "execution_count": 22,
   "id": "1dd7c811",
   "metadata": {},
   "outputs": [
    {
     "name": "stdout",
     "output_type": "stream",
     "text": [
      "X_valid MAE: 17735.8051369863\n"
     ]
    }
   ],
   "source": [
    "# Preprocessing of validation data and then get predictions\n",
    "preds = pl.predict(dfl.X_valid)\n",
    "\n",
    "print('X_valid MAE:', mean_absolute_error(dfl.y_valid, preds))"
   ]
  },
  {
   "cell_type": "code",
   "execution_count": 23,
   "id": "3b9aa318",
   "metadata": {},
   "outputs": [],
   "source": [
    "# X_valid MAE: 17582.46150684932"
   ]
  },
  {
   "cell_type": "code",
   "execution_count": 24,
   "id": "c4f91f6f",
   "metadata": {},
   "outputs": [
    {
     "name": "stdout",
     "output_type": "stream",
     "text": [
      "Converted 00_DataFrameLoader.ipynb.\n",
      "Converted 01_PreProcessor.ipynb.\n",
      "Converted 02_MLPipeline.ipynb.\n",
      "Converted 03_Tutorial.ipynb.\n",
      "Converted 04_Kaggle_TPS_Challenge_Nov_2021_XGB.ipynb.\n",
      "Converted 05_Kaggle_TPS_Challenge_Nov_2021_SCIKIT_LEARN.ipynb.\n",
      "Converted 06_Getting_Started_Kaggle_TPS_Challenge.ipynb.\n",
      "Converted 07_Kaggle_TPS_Tutorial.ipynb.\n",
      "Converted 08_Optuna_Tutorial.ipynb.\n",
      "Converted Untitled.ipynb.\n",
      "Converted automl_in_sklearn_pipeline.ipynb.\n",
      "Converted index.ipynb.\n"
     ]
    }
   ],
   "source": [
    "# hide\n",
    "# run the script to build \n",
    "\n",
    "from nbdev.export import notebook2script; notebook2script()"
   ]
  },
  {
   "cell_type": "code",
   "execution_count": null,
   "id": "2a4a0f5b",
   "metadata": {},
   "outputs": [],
   "source": []
  }
 ],
 "metadata": {
  "kernelspec": {
   "display_name": "Python 3 (ipykernel)",
   "language": "python",
   "name": "python3"
  },
  "language_info": {
   "codemirror_mode": {
    "name": "ipython",
    "version": 3
   },
   "file_extension": ".py",
   "mimetype": "text/x-python",
   "name": "python",
   "nbconvert_exporter": "python",
   "pygments_lexer": "ipython3",
   "version": "3.9.7"
  }
 },
 "nbformat": 4,
 "nbformat_minor": 5
}
