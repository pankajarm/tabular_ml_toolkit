{
 "cells": [
  {
   "cell_type": "code",
   "execution_count": 1,
   "id": "739ab7e2",
   "metadata": {},
   "outputs": [],
   "source": [
    "%load_ext autoreload\n",
    "%autoreload 2"
   ]
  },
  {
   "cell_type": "code",
   "execution_count": 2,
   "id": "d3b66279",
   "metadata": {},
   "outputs": [],
   "source": [
    "# default_exp PreProcessor"
   ]
  },
  {
   "cell_type": "markdown",
   "id": "c469e3c1",
   "metadata": {},
   "source": [
    "# PreProcessor\n",
    "\n",
    "> An API to Preprocess train, valid and test dataset for Machine Learning models based on tabular or strucuture data"
   ]
  },
  {
   "cell_type": "code",
   "execution_count": 3,
   "id": "4ce63e38",
   "metadata": {},
   "outputs": [],
   "source": [
    "#hide\n",
    "from nbdev.showdoc import *\n",
    "from nbdev import *"
   ]
  },
  {
   "cell_type": "code",
   "execution_count": 4,
   "id": "cc9ff301",
   "metadata": {},
   "outputs": [],
   "source": [
    "# export\n",
    "from tabular_ml_toolkit.DataFrameLoader import *"
   ]
  },
  {
   "cell_type": "code",
   "execution_count": 5,
   "id": "5ee899e5",
   "metadata": {},
   "outputs": [],
   "source": [
    "# export\n",
    "# hide\n",
    "import pandas as pd\n",
    "from sklearn.compose import ColumnTransformer\n",
    "from sklearn.pipeline import Pipeline\n",
    "from sklearn.impute import SimpleImputer\n",
    "from sklearn.preprocessing import OneHotEncoder, OrdinalEncoder, StandardScaler, MinMaxScaler\n",
    "from sklearn.ensemble import RandomForestRegressor\n",
    "from sklearn.metrics import mean_absolute_error"
   ]
  },
  {
   "cell_type": "code",
   "execution_count": 6,
   "id": "cb98246b",
   "metadata": {},
   "outputs": [],
   "source": [
    "# export\n",
    "\n",
    "class PreProcessor:\n",
    "    \"\"\"\n",
    "    Represent PreProcessor class\n",
    "    \n",
    "    Attributes:\n",
    "    numerical_transformer: Numerical Columns Tranformer\n",
    "    categorical_transformer: Categorical Columns Transformer\n",
    "    preprocessor: Preprocessor for Columns Tranformer\n",
    "    \"\"\"\n",
    "\n",
    "    def __init__(self):\n",
    "        self.numerical_transformer = None\n",
    "        self.categorical_transformer = None\n",
    "        self.columns_transfomer = None\n",
    "        self.transformer_type = None\n",
    "        self.OHE_categorical_transformer = None\n",
    "        self.ORE_categorical_transformer = None\n",
    "    \n",
    "    def __str__(self):\n",
    "        \"\"\"Returns human readable string reprsentation\"\"\"\n",
    "        attr_str = \"numerical_transformer, categorical_transformer,columns_transfomer\"\n",
    "        return \"PreProcessor object with attributes:\" + attr_str\n",
    "    \n",
    "    def __repr__(self):\n",
    "        return self.__str__()\n",
    "    \n",
    "    # PreProcessor core methods\n",
    "    \n",
    "    # Preprocessing for numerical data\n",
    "    def preprocess_numerical_data(self, num_imputer, num_scaler):\n",
    "        self.numerical_transformer = Pipeline(steps=[\n",
    "            ('imputer', num_imputer),\n",
    "            ('scaler',  num_scaler)\n",
    "        ])\n",
    "        \n",
    "    # Preprocessing for categorical data\n",
    "    def preprocess_OHE_categorical_data(self, cat_imputer):\n",
    "        self.OHE_categorical_transformer = Pipeline(steps=[\n",
    "        ('imputer', cat_imputer),\n",
    "        ('onehot', OneHotEncoder(handle_unknown='ignore'))\n",
    "        ])   \n",
    "\n",
    "    def preprocess_OE_categorical_data(self, cat_imputer):\n",
    "        self.OE_categorical_transformer = Pipeline(steps=[\n",
    "        ('imputer', cat_imputer),\n",
    "        ('ordinal', OrdinalEncoder())\n",
    "        ])\n",
    "        \n",
    "    #TO-DO\n",
    "#     def reduce_dims(self):\n",
    "#         pass\n",
    "    \n",
    "    # Bundle preprocessing pipelines based upon types of columns\n",
    "    def preprocess_all_cols(self, dataframeloader,\n",
    "                            num_imputer = SimpleImputer(strategy='median'),\n",
    "                            num_scaler = StandardScaler(),\n",
    "                            cat_imputer = SimpleImputer(strategy='constant')):\n",
    "        \n",
    "        # change preprocessor according to type of column found\n",
    "        \n",
    "        if len(dataframeloader.high_card_cat_cols) < 1:\n",
    "            if len(dataframeloader.low_card_cat_cols) < 1:\n",
    "                print(\"both high_card_cat_cols and low_card_cat_cols are None\")\n",
    "                self.preprocess_numerical_data(num_imputer, num_scaler)\n",
    "                self.transformer_type = self.numerical_transformer\n",
    "        \n",
    "            elif len(dataframeloader.numerical_cols) < 1:\n",
    "                print(\"both numeric nand high card cat cols are None\")\n",
    "                # create scikit-learn pipelines instances\n",
    "                self.preprocess_OHE_categorical_data(cat_imputer)\n",
    "                # convert all categorical columns to OneHotEncoder with Scikit-learn ColumnTranfomer\n",
    "                self.columns_transfomer = ColumnTransformer(\n",
    "                    transformers=[\n",
    "                        ('low_card_cat_cols', self.OHE_categorical_transformer,\n",
    "                         dataframeloader.low_card_cat_cols)\n",
    "                    ])\n",
    "                self.transformer_type = self.columns_transfomer\n",
    "        \n",
    "        elif len(dataframeloader.low_card_cat_cols) < 1:\n",
    "            if len(dataframeloader.numerical_cols) < 1:\n",
    "                print(\"both numeric nand low card cat cols are None\")\n",
    "                # create scikit-learn pipelines instances\n",
    "                self.preprocess_OHE_categorical_data(cat_imputer)\n",
    "                # convert all categorical columns to OneHotEncoder with Scikit-learn ColumnTranfomer\n",
    "                self.columns_transfomer = ColumnTransformer(\n",
    "                    transformers=[\n",
    "                        ('high_card_cat_cols', self.OHE_categorical_transformer,\n",
    "                         dataframeloader.high_card_cat_cols)\n",
    "                    ])\n",
    "                self.transformer_type = self.columns_transfomer\n",
    "        \n",
    "        elif len(dataframeloader.numerical_cols) < 1:\n",
    "            print(\"numeric cols are None\")\n",
    "            # create scikit-learn pipelines instances\n",
    "            self.preprocess_OHE_categorical_data(cat_imputer)\n",
    "            # convert all categorical columns to OneHotEncoder with Scikit-learn ColumnTranfomer\n",
    "            self.columns_transfomer = ColumnTransformer(\n",
    "                transformers=[\n",
    "                    ('low_card_cat_cols', self.OHE_categorical_transformer,\n",
    "                     dataframeloader.low_card_cat_cols),\n",
    "                    ('high_card_cat_cols', self.OHE_categorical_transformer,\n",
    "                     dataframeloader.high_card_cat_cols)\n",
    "                ])\n",
    "            self.transformer_type = self.columns_transfomer\n",
    "        else:\n",
    "            # create scikit-learn pipelines instances\n",
    "            print(\"No cols types are None, So ALL preprocessors called!\")\n",
    "            self.preprocess_numerical_data(num_imputer, num_scaler)\n",
    "            self.preprocess_OHE_categorical_data(cat_imputer)\n",
    "            self.preprocess_OE_categorical_data(cat_imputer)\n",
    "            # convert to Scikit-learn ColumnTranfomer\n",
    "            self.columns_transfomer = ColumnTransformer(\n",
    "                transformers=[\n",
    "                    ('num_cols', self.numerical_transformer,\n",
    "                     dataframeloader.numerical_cols),\n",
    "                    ('low_card_cat_cols', self.OHE_categorical_transformer,\n",
    "                     dataframeloader.low_card_cat_cols),\n",
    "                    ('high_card_cat_cols', self.OHE_categorical_transformer,\n",
    "                     dataframeloader.high_card_cat_cols)\n",
    "                ])\n",
    "            self.transformer_type = self.columns_transfomer\n",
    "        \n",
    "        return self"
   ]
  },
  {
   "cell_type": "code",
   "execution_count": 7,
   "id": "81cf5db5",
   "metadata": {},
   "outputs": [],
   "source": [
    "# showdoc(PreProcessor.preprocess_data)"
   ]
  },
  {
   "cell_type": "markdown",
   "id": "883dcf04",
   "metadata": {},
   "source": [
    "#### Test PreProcessor with House Data"
   ]
  },
  {
   "cell_type": "code",
   "execution_count": 8,
   "id": "ef8d4901",
   "metadata": {},
   "outputs": [
    {
     "data": {
      "text/plain": [
       "DataFrameLoader object with attributes: X_full, X_test, X(features), y(target), X_train, X_valid, y_train and y_valid"
      ]
     },
     "execution_count": 8,
     "metadata": {},
     "output_type": "execute_result"
    }
   ],
   "source": [
    "dfl = DataFrameLoader().from_csv(\n",
    "    train_file_path=\"input/home_data/train.csv\",\n",
    "    test_file_path=\"input/home_data/test.csv\",\n",
    "    idx_col=\"Id\", target=\"SalePrice\",\n",
    "    random_state=42, valid_size=0.2)\n",
    "dfl"
   ]
  },
  {
   "cell_type": "code",
   "execution_count": 9,
   "id": "5faf8831",
   "metadata": {},
   "outputs": [
    {
     "name": "stdout",
     "output_type": "stream",
     "text": [
      "No cols types are None, So ALL preprocessors called!\n"
     ]
    },
    {
     "data": {
      "text/plain": [
       "PreProcessor object with attributes:numerical_transformer, categorical_transformer,columns_transfomer"
      ]
     },
     "execution_count": 9,
     "metadata": {},
     "output_type": "execute_result"
    }
   ],
   "source": [
    "pp = PreProcessor().preprocess_all_cols(dataframeloader=dfl)\n",
    "pp"
   ]
  },
  {
   "cell_type": "code",
   "execution_count": 10,
   "id": "b8fce59f",
   "metadata": {},
   "outputs": [],
   "source": [
    "# pp.columns_transfomer"
   ]
  },
  {
   "cell_type": "code",
   "execution_count": 11,
   "id": "d1f6a256",
   "metadata": {},
   "outputs": [
    {
     "name": "stdout",
     "output_type": "stream",
     "text": [
      "36\n"
     ]
    }
   ],
   "source": [
    "print(len(dfl.numerical_cols))\n",
    "# dfl.numerical_cols"
   ]
  },
  {
   "cell_type": "code",
   "execution_count": 12,
   "id": "aed0a0c9",
   "metadata": {},
   "outputs": [
    {
     "name": "stdout",
     "output_type": "stream",
     "text": [
      "3\n"
     ]
    }
   ],
   "source": [
    "print(len(dfl.high_card_cat_cols))\n",
    "# dfl.high_card_cat_cols"
   ]
  },
  {
   "cell_type": "code",
   "execution_count": 13,
   "id": "d7c480d8",
   "metadata": {},
   "outputs": [
    {
     "name": "stdout",
     "output_type": "stream",
     "text": [
      "40\n"
     ]
    }
   ],
   "source": [
    "print(len(dfl.low_card_cat_cols))\n",
    "# dfl.low_card_cat_cols"
   ]
  },
  {
   "cell_type": "code",
   "execution_count": 14,
   "id": "57973ecf",
   "metadata": {},
   "outputs": [
    {
     "data": {
      "text/plain": [
       "RandomForestRegressor(random_state=42)"
      ]
     },
     "execution_count": 14,
     "metadata": {},
     "output_type": "execute_result"
    }
   ],
   "source": [
    "# Define model\n",
    "model = RandomForestRegressor(n_estimators=100, random_state=42)\n",
    "model"
   ]
  },
  {
   "cell_type": "code",
   "execution_count": 15,
   "id": "1f314216",
   "metadata": {},
   "outputs": [],
   "source": [
    "# Bundle preprocessor and model in a pipeline\n",
    "pl = Pipeline(steps=[('preprocessor', pp.columns_transfomer),\n",
    "                      ('model', model)\n",
    "                     ])\n",
    "# pl"
   ]
  },
  {
   "cell_type": "code",
   "execution_count": 16,
   "id": "6a3fe226",
   "metadata": {},
   "outputs": [
    {
     "data": {
      "text/html": [
       "<style>#sk-6213d889-c8f3-410f-abce-1b9abdc03774 {color: black;background-color: white;}#sk-6213d889-c8f3-410f-abce-1b9abdc03774 pre{padding: 0;}#sk-6213d889-c8f3-410f-abce-1b9abdc03774 div.sk-toggleable {background-color: white;}#sk-6213d889-c8f3-410f-abce-1b9abdc03774 label.sk-toggleable__label {cursor: pointer;display: block;width: 100%;margin-bottom: 0;padding: 0.3em;box-sizing: border-box;text-align: center;}#sk-6213d889-c8f3-410f-abce-1b9abdc03774 div.sk-toggleable__content {max-height: 0;max-width: 0;overflow: hidden;text-align: left;background-color: #f0f8ff;}#sk-6213d889-c8f3-410f-abce-1b9abdc03774 div.sk-toggleable__content pre {margin: 0.2em;color: black;border-radius: 0.25em;background-color: #f0f8ff;}#sk-6213d889-c8f3-410f-abce-1b9abdc03774 input.sk-toggleable__control:checked~div.sk-toggleable__content {max-height: 200px;max-width: 100%;overflow: auto;}#sk-6213d889-c8f3-410f-abce-1b9abdc03774 div.sk-estimator input.sk-toggleable__control:checked~label.sk-toggleable__label {background-color: #d4ebff;}#sk-6213d889-c8f3-410f-abce-1b9abdc03774 div.sk-label input.sk-toggleable__control:checked~label.sk-toggleable__label {background-color: #d4ebff;}#sk-6213d889-c8f3-410f-abce-1b9abdc03774 input.sk-hidden--visually {border: 0;clip: rect(1px 1px 1px 1px);clip: rect(1px, 1px, 1px, 1px);height: 1px;margin: -1px;overflow: hidden;padding: 0;position: absolute;width: 1px;}#sk-6213d889-c8f3-410f-abce-1b9abdc03774 div.sk-estimator {font-family: monospace;background-color: #f0f8ff;border: 1px dotted black;border-radius: 0.25em;box-sizing: border-box;margin-bottom: 0.5em;}#sk-6213d889-c8f3-410f-abce-1b9abdc03774 div.sk-estimator:hover {background-color: #d4ebff;}#sk-6213d889-c8f3-410f-abce-1b9abdc03774 div.sk-parallel-item::after {content: \"\";width: 100%;border-bottom: 1px solid gray;flex-grow: 1;}#sk-6213d889-c8f3-410f-abce-1b9abdc03774 div.sk-label:hover label.sk-toggleable__label {background-color: #d4ebff;}#sk-6213d889-c8f3-410f-abce-1b9abdc03774 div.sk-serial::before {content: \"\";position: absolute;border-left: 1px solid gray;box-sizing: border-box;top: 2em;bottom: 0;left: 50%;}#sk-6213d889-c8f3-410f-abce-1b9abdc03774 div.sk-serial {display: flex;flex-direction: column;align-items: center;background-color: white;padding-right: 0.2em;padding-left: 0.2em;}#sk-6213d889-c8f3-410f-abce-1b9abdc03774 div.sk-item {z-index: 1;}#sk-6213d889-c8f3-410f-abce-1b9abdc03774 div.sk-parallel {display: flex;align-items: stretch;justify-content: center;background-color: white;}#sk-6213d889-c8f3-410f-abce-1b9abdc03774 div.sk-parallel::before {content: \"\";position: absolute;border-left: 1px solid gray;box-sizing: border-box;top: 2em;bottom: 0;left: 50%;}#sk-6213d889-c8f3-410f-abce-1b9abdc03774 div.sk-parallel-item {display: flex;flex-direction: column;position: relative;background-color: white;}#sk-6213d889-c8f3-410f-abce-1b9abdc03774 div.sk-parallel-item:first-child::after {align-self: flex-end;width: 50%;}#sk-6213d889-c8f3-410f-abce-1b9abdc03774 div.sk-parallel-item:last-child::after {align-self: flex-start;width: 50%;}#sk-6213d889-c8f3-410f-abce-1b9abdc03774 div.sk-parallel-item:only-child::after {width: 0;}#sk-6213d889-c8f3-410f-abce-1b9abdc03774 div.sk-dashed-wrapped {border: 1px dashed gray;margin: 0 0.4em 0.5em 0.4em;box-sizing: border-box;padding-bottom: 0.4em;background-color: white;position: relative;}#sk-6213d889-c8f3-410f-abce-1b9abdc03774 div.sk-label label {font-family: monospace;font-weight: bold;background-color: white;display: inline-block;line-height: 1.2em;}#sk-6213d889-c8f3-410f-abce-1b9abdc03774 div.sk-label-container {position: relative;z-index: 2;text-align: center;}#sk-6213d889-c8f3-410f-abce-1b9abdc03774 div.sk-container {display: inline-block;position: relative;}</style><div id=\"sk-6213d889-c8f3-410f-abce-1b9abdc03774\" class\"sk-top-container\"><div class=\"sk-container\"><div class=\"sk-item sk-dashed-wrapped\"><div class=\"sk-label-container\"><div class=\"sk-label sk-toggleable\"><input class=\"sk-toggleable__control sk-hidden--visually\" id=\"c69c7b43-bd0a-487e-9bff-5b9d329f0dcf\" type=\"checkbox\" ><label class=\"sk-toggleable__label\" for=\"c69c7b43-bd0a-487e-9bff-5b9d329f0dcf\">Pipeline</label><div class=\"sk-toggleable__content\"><pre>Pipeline(steps=[('preprocessor',\n",
       "                 ColumnTransformer(transformers=[('num_cols',\n",
       "                                                  Pipeline(steps=[('imputer',\n",
       "                                                                   SimpleImputer(strategy='median')),\n",
       "                                                                  ('scaler',\n",
       "                                                                   StandardScaler())]),\n",
       "                                                  ['MSSubClass', 'LotFrontage',\n",
       "                                                   'LotArea', 'OverallQual',\n",
       "                                                   'OverallCond', 'YearBuilt',\n",
       "                                                   'YearRemodAdd', 'MasVnrArea',\n",
       "                                                   'BsmtFinSF1', 'BsmtFinSF2',\n",
       "                                                   'BsmtUnfSF', 'TotalBsmtSF',\n",
       "                                                   '1stFlrSF', '2ndFlrSF',\n",
       "                                                   'Lo...\n",
       "                                                   'BsmtFinType1',\n",
       "                                                   'BsmtFinType2', 'Heating',\n",
       "                                                   'HeatingQC', 'CentralAir',\n",
       "                                                   'Electrical', 'KitchenQual',\n",
       "                                                   'Functional', 'FireplaceQu', ...]),\n",
       "                                                 ('high_card_cat_cols',\n",
       "                                                  Pipeline(steps=[('imputer',\n",
       "                                                                   SimpleImputer(strategy='constant')),\n",
       "                                                                  ('onehot',\n",
       "                                                                   OneHotEncoder(handle_unknown='ignore'))]),\n",
       "                                                  ['Neighborhood',\n",
       "                                                   'Exterior1st',\n",
       "                                                   'Exterior2nd'])])),\n",
       "                ('model', RandomForestRegressor(random_state=42))])</pre></div></div></div><div class=\"sk-serial\"><div class=\"sk-item sk-dashed-wrapped\"><div class=\"sk-label-container\"><div class=\"sk-label sk-toggleable\"><input class=\"sk-toggleable__control sk-hidden--visually\" id=\"46d078f4-252b-4ec3-aae2-5922d80be8b3\" type=\"checkbox\" ><label class=\"sk-toggleable__label\" for=\"46d078f4-252b-4ec3-aae2-5922d80be8b3\">preprocessor: ColumnTransformer</label><div class=\"sk-toggleable__content\"><pre>ColumnTransformer(transformers=[('num_cols',\n",
       "                                 Pipeline(steps=[('imputer',\n",
       "                                                  SimpleImputer(strategy='median')),\n",
       "                                                 ('scaler', StandardScaler())]),\n",
       "                                 ['MSSubClass', 'LotFrontage', 'LotArea',\n",
       "                                  'OverallQual', 'OverallCond', 'YearBuilt',\n",
       "                                  'YearRemodAdd', 'MasVnrArea', 'BsmtFinSF1',\n",
       "                                  'BsmtFinSF2', 'BsmtUnfSF', 'TotalBsmtSF',\n",
       "                                  '1stFlrSF', '2ndFlrSF', 'LowQualFinSF',\n",
       "                                  'GrLivArea', 'BsmtFul...\n",
       "                                  'ExterCond', 'Foundation', 'BsmtQual',\n",
       "                                  'BsmtCond', 'BsmtExposure', 'BsmtFinType1',\n",
       "                                  'BsmtFinType2', 'Heating', 'HeatingQC',\n",
       "                                  'CentralAir', 'Electrical', 'KitchenQual',\n",
       "                                  'Functional', 'FireplaceQu', ...]),\n",
       "                                ('high_card_cat_cols',\n",
       "                                 Pipeline(steps=[('imputer',\n",
       "                                                  SimpleImputer(strategy='constant')),\n",
       "                                                 ('onehot',\n",
       "                                                  OneHotEncoder(handle_unknown='ignore'))]),\n",
       "                                 ['Neighborhood', 'Exterior1st',\n",
       "                                  'Exterior2nd'])])</pre></div></div></div><div class=\"sk-parallel\"><div class=\"sk-parallel-item\"><div class=\"sk-item\"><div class=\"sk-label-container\"><div class=\"sk-label sk-toggleable\"><input class=\"sk-toggleable__control sk-hidden--visually\" id=\"dbb335db-6b18-4f4f-9721-1d1f8fb21b3c\" type=\"checkbox\" ><label class=\"sk-toggleable__label\" for=\"dbb335db-6b18-4f4f-9721-1d1f8fb21b3c\">num_cols</label><div class=\"sk-toggleable__content\"><pre>['MSSubClass', 'LotFrontage', 'LotArea', 'OverallQual', 'OverallCond', 'YearBuilt', 'YearRemodAdd', 'MasVnrArea', 'BsmtFinSF1', 'BsmtFinSF2', 'BsmtUnfSF', 'TotalBsmtSF', '1stFlrSF', '2ndFlrSF', 'LowQualFinSF', 'GrLivArea', 'BsmtFullBath', 'BsmtHalfBath', 'FullBath', 'HalfBath', 'BedroomAbvGr', 'KitchenAbvGr', 'TotRmsAbvGrd', 'Fireplaces', 'GarageYrBlt', 'GarageCars', 'GarageArea', 'WoodDeckSF', 'OpenPorchSF', 'EnclosedPorch', '3SsnPorch', 'ScreenPorch', 'PoolArea', 'MiscVal', 'MoSold', 'YrSold']</pre></div></div></div><div class=\"sk-serial\"><div class=\"sk-item\"><div class=\"sk-serial\"><div class=\"sk-item\"><div class=\"sk-estimator sk-toggleable\"><input class=\"sk-toggleable__control sk-hidden--visually\" id=\"7a972ed7-24c6-46b4-be42-c01fd4b49602\" type=\"checkbox\" ><label class=\"sk-toggleable__label\" for=\"7a972ed7-24c6-46b4-be42-c01fd4b49602\">SimpleImputer</label><div class=\"sk-toggleable__content\"><pre>SimpleImputer(strategy='median')</pre></div></div></div><div class=\"sk-item\"><div class=\"sk-estimator sk-toggleable\"><input class=\"sk-toggleable__control sk-hidden--visually\" id=\"e5af0daa-2040-41df-aa2d-25c8971bf45c\" type=\"checkbox\" ><label class=\"sk-toggleable__label\" for=\"e5af0daa-2040-41df-aa2d-25c8971bf45c\">StandardScaler</label><div class=\"sk-toggleable__content\"><pre>StandardScaler()</pre></div></div></div></div></div></div></div></div><div class=\"sk-parallel-item\"><div class=\"sk-item\"><div class=\"sk-label-container\"><div class=\"sk-label sk-toggleable\"><input class=\"sk-toggleable__control sk-hidden--visually\" id=\"bfc7c481-1828-4afa-b067-9f727f696d38\" type=\"checkbox\" ><label class=\"sk-toggleable__label\" for=\"bfc7c481-1828-4afa-b067-9f727f696d38\">low_card_cat_cols</label><div class=\"sk-toggleable__content\"><pre>['MSZoning', 'Street', 'Alley', 'LotShape', 'LandContour', 'Utilities', 'LotConfig', 'LandSlope', 'Condition1', 'Condition2', 'BldgType', 'HouseStyle', 'RoofStyle', 'RoofMatl', 'MasVnrType', 'ExterQual', 'ExterCond', 'Foundation', 'BsmtQual', 'BsmtCond', 'BsmtExposure', 'BsmtFinType1', 'BsmtFinType2', 'Heating', 'HeatingQC', 'CentralAir', 'Electrical', 'KitchenQual', 'Functional', 'FireplaceQu', 'GarageType', 'GarageFinish', 'GarageQual', 'GarageCond', 'PavedDrive', 'PoolQC', 'Fence', 'MiscFeature', 'SaleType', 'SaleCondition']</pre></div></div></div><div class=\"sk-serial\"><div class=\"sk-item\"><div class=\"sk-serial\"><div class=\"sk-item\"><div class=\"sk-estimator sk-toggleable\"><input class=\"sk-toggleable__control sk-hidden--visually\" id=\"4ec19fee-a546-48fb-804c-fa8df70eedd1\" type=\"checkbox\" ><label class=\"sk-toggleable__label\" for=\"4ec19fee-a546-48fb-804c-fa8df70eedd1\">SimpleImputer</label><div class=\"sk-toggleable__content\"><pre>SimpleImputer(strategy='constant')</pre></div></div></div><div class=\"sk-item\"><div class=\"sk-estimator sk-toggleable\"><input class=\"sk-toggleable__control sk-hidden--visually\" id=\"5fc333c3-0d41-4dcf-b71b-f925ea5b5d41\" type=\"checkbox\" ><label class=\"sk-toggleable__label\" for=\"5fc333c3-0d41-4dcf-b71b-f925ea5b5d41\">OneHotEncoder</label><div class=\"sk-toggleable__content\"><pre>OneHotEncoder(handle_unknown='ignore')</pre></div></div></div></div></div></div></div></div><div class=\"sk-parallel-item\"><div class=\"sk-item\"><div class=\"sk-label-container\"><div class=\"sk-label sk-toggleable\"><input class=\"sk-toggleable__control sk-hidden--visually\" id=\"aba1572f-5f39-45ba-a1c0-9cbde1cc21d8\" type=\"checkbox\" ><label class=\"sk-toggleable__label\" for=\"aba1572f-5f39-45ba-a1c0-9cbde1cc21d8\">high_card_cat_cols</label><div class=\"sk-toggleable__content\"><pre>['Neighborhood', 'Exterior1st', 'Exterior2nd']</pre></div></div></div><div class=\"sk-serial\"><div class=\"sk-item\"><div class=\"sk-serial\"><div class=\"sk-item\"><div class=\"sk-estimator sk-toggleable\"><input class=\"sk-toggleable__control sk-hidden--visually\" id=\"68f6d8f3-230f-4dd3-86bc-64378f762c4a\" type=\"checkbox\" ><label class=\"sk-toggleable__label\" for=\"68f6d8f3-230f-4dd3-86bc-64378f762c4a\">SimpleImputer</label><div class=\"sk-toggleable__content\"><pre>SimpleImputer(strategy='constant')</pre></div></div></div><div class=\"sk-item\"><div class=\"sk-estimator sk-toggleable\"><input class=\"sk-toggleable__control sk-hidden--visually\" id=\"3ba14948-9f13-404c-a64d-900f98c43fdc\" type=\"checkbox\" ><label class=\"sk-toggleable__label\" for=\"3ba14948-9f13-404c-a64d-900f98c43fdc\">OneHotEncoder</label><div class=\"sk-toggleable__content\"><pre>OneHotEncoder(handle_unknown='ignore')</pre></div></div></div></div></div></div></div></div></div></div><div class=\"sk-item\"><div class=\"sk-estimator sk-toggleable\"><input class=\"sk-toggleable__control sk-hidden--visually\" id=\"8437194e-c3cf-4183-b01b-c08b57a85caf\" type=\"checkbox\" ><label class=\"sk-toggleable__label\" for=\"8437194e-c3cf-4183-b01b-c08b57a85caf\">RandomForestRegressor</label><div class=\"sk-toggleable__content\"><pre>RandomForestRegressor(random_state=42)</pre></div></div></div></div></div></div></div>"
      ],
      "text/plain": [
       "Pipeline(steps=[('preprocessor',\n",
       "                 ColumnTransformer(transformers=[('num_cols',\n",
       "                                                  Pipeline(steps=[('imputer',\n",
       "                                                                   SimpleImputer(strategy='median')),\n",
       "                                                                  ('scaler',\n",
       "                                                                   StandardScaler())]),\n",
       "                                                  ['MSSubClass', 'LotFrontage',\n",
       "                                                   'LotArea', 'OverallQual',\n",
       "                                                   'OverallCond', 'YearBuilt',\n",
       "                                                   'YearRemodAdd', 'MasVnrArea',\n",
       "                                                   'BsmtFinSF1', 'BsmtFinSF2',\n",
       "                                                   'BsmtUnfSF', 'TotalBsmtSF',\n",
       "                                                   '1stFlrSF', '2ndFlrSF',\n",
       "                                                   'Lo...\n",
       "                                                   'BsmtFinType1',\n",
       "                                                   'BsmtFinType2', 'Heating',\n",
       "                                                   'HeatingQC', 'CentralAir',\n",
       "                                                   'Electrical', 'KitchenQual',\n",
       "                                                   'Functional', 'FireplaceQu', ...]),\n",
       "                                                 ('high_card_cat_cols',\n",
       "                                                  Pipeline(steps=[('imputer',\n",
       "                                                                   SimpleImputer(strategy='constant')),\n",
       "                                                                  ('onehot',\n",
       "                                                                   OneHotEncoder(handle_unknown='ignore'))]),\n",
       "                                                  ['Neighborhood',\n",
       "                                                   'Exterior1st',\n",
       "                                                   'Exterior2nd'])])),\n",
       "                ('model', RandomForestRegressor(random_state=42))])"
      ]
     },
     "execution_count": 16,
     "metadata": {},
     "output_type": "execute_result"
    }
   ],
   "source": [
    "# for visualizing pipeline\n",
    "from sklearn import set_config\n",
    "\n",
    "set_config(display=\"diagram\")\n",
    "pl"
   ]
  },
  {
   "cell_type": "code",
   "execution_count": 17,
   "id": "a7ff6f0d",
   "metadata": {},
   "outputs": [
    {
     "data": {
      "text/html": [
       "<style>#sk-def7c604-b964-4e3a-adf5-18b9a8bb8631 {color: black;background-color: white;}#sk-def7c604-b964-4e3a-adf5-18b9a8bb8631 pre{padding: 0;}#sk-def7c604-b964-4e3a-adf5-18b9a8bb8631 div.sk-toggleable {background-color: white;}#sk-def7c604-b964-4e3a-adf5-18b9a8bb8631 label.sk-toggleable__label {cursor: pointer;display: block;width: 100%;margin-bottom: 0;padding: 0.3em;box-sizing: border-box;text-align: center;}#sk-def7c604-b964-4e3a-adf5-18b9a8bb8631 div.sk-toggleable__content {max-height: 0;max-width: 0;overflow: hidden;text-align: left;background-color: #f0f8ff;}#sk-def7c604-b964-4e3a-adf5-18b9a8bb8631 div.sk-toggleable__content pre {margin: 0.2em;color: black;border-radius: 0.25em;background-color: #f0f8ff;}#sk-def7c604-b964-4e3a-adf5-18b9a8bb8631 input.sk-toggleable__control:checked~div.sk-toggleable__content {max-height: 200px;max-width: 100%;overflow: auto;}#sk-def7c604-b964-4e3a-adf5-18b9a8bb8631 div.sk-estimator input.sk-toggleable__control:checked~label.sk-toggleable__label {background-color: #d4ebff;}#sk-def7c604-b964-4e3a-adf5-18b9a8bb8631 div.sk-label input.sk-toggleable__control:checked~label.sk-toggleable__label {background-color: #d4ebff;}#sk-def7c604-b964-4e3a-adf5-18b9a8bb8631 input.sk-hidden--visually {border: 0;clip: rect(1px 1px 1px 1px);clip: rect(1px, 1px, 1px, 1px);height: 1px;margin: -1px;overflow: hidden;padding: 0;position: absolute;width: 1px;}#sk-def7c604-b964-4e3a-adf5-18b9a8bb8631 div.sk-estimator {font-family: monospace;background-color: #f0f8ff;border: 1px dotted black;border-radius: 0.25em;box-sizing: border-box;margin-bottom: 0.5em;}#sk-def7c604-b964-4e3a-adf5-18b9a8bb8631 div.sk-estimator:hover {background-color: #d4ebff;}#sk-def7c604-b964-4e3a-adf5-18b9a8bb8631 div.sk-parallel-item::after {content: \"\";width: 100%;border-bottom: 1px solid gray;flex-grow: 1;}#sk-def7c604-b964-4e3a-adf5-18b9a8bb8631 div.sk-label:hover label.sk-toggleable__label {background-color: #d4ebff;}#sk-def7c604-b964-4e3a-adf5-18b9a8bb8631 div.sk-serial::before {content: \"\";position: absolute;border-left: 1px solid gray;box-sizing: border-box;top: 2em;bottom: 0;left: 50%;}#sk-def7c604-b964-4e3a-adf5-18b9a8bb8631 div.sk-serial {display: flex;flex-direction: column;align-items: center;background-color: white;padding-right: 0.2em;padding-left: 0.2em;}#sk-def7c604-b964-4e3a-adf5-18b9a8bb8631 div.sk-item {z-index: 1;}#sk-def7c604-b964-4e3a-adf5-18b9a8bb8631 div.sk-parallel {display: flex;align-items: stretch;justify-content: center;background-color: white;}#sk-def7c604-b964-4e3a-adf5-18b9a8bb8631 div.sk-parallel::before {content: \"\";position: absolute;border-left: 1px solid gray;box-sizing: border-box;top: 2em;bottom: 0;left: 50%;}#sk-def7c604-b964-4e3a-adf5-18b9a8bb8631 div.sk-parallel-item {display: flex;flex-direction: column;position: relative;background-color: white;}#sk-def7c604-b964-4e3a-adf5-18b9a8bb8631 div.sk-parallel-item:first-child::after {align-self: flex-end;width: 50%;}#sk-def7c604-b964-4e3a-adf5-18b9a8bb8631 div.sk-parallel-item:last-child::after {align-self: flex-start;width: 50%;}#sk-def7c604-b964-4e3a-adf5-18b9a8bb8631 div.sk-parallel-item:only-child::after {width: 0;}#sk-def7c604-b964-4e3a-adf5-18b9a8bb8631 div.sk-dashed-wrapped {border: 1px dashed gray;margin: 0 0.4em 0.5em 0.4em;box-sizing: border-box;padding-bottom: 0.4em;background-color: white;position: relative;}#sk-def7c604-b964-4e3a-adf5-18b9a8bb8631 div.sk-label label {font-family: monospace;font-weight: bold;background-color: white;display: inline-block;line-height: 1.2em;}#sk-def7c604-b964-4e3a-adf5-18b9a8bb8631 div.sk-label-container {position: relative;z-index: 2;text-align: center;}#sk-def7c604-b964-4e3a-adf5-18b9a8bb8631 div.sk-container {display: inline-block;position: relative;}</style><div id=\"sk-def7c604-b964-4e3a-adf5-18b9a8bb8631\" class\"sk-top-container\"><div class=\"sk-container\"><div class=\"sk-item sk-dashed-wrapped\"><div class=\"sk-label-container\"><div class=\"sk-label sk-toggleable\"><input class=\"sk-toggleable__control sk-hidden--visually\" id=\"320537ca-5aa0-4640-8045-576eceed9d2d\" type=\"checkbox\" ><label class=\"sk-toggleable__label\" for=\"320537ca-5aa0-4640-8045-576eceed9d2d\">Pipeline</label><div class=\"sk-toggleable__content\"><pre>Pipeline(steps=[('preprocessor',\n",
       "                 ColumnTransformer(transformers=[('num_cols',\n",
       "                                                  Pipeline(steps=[('imputer',\n",
       "                                                                   SimpleImputer(strategy='median')),\n",
       "                                                                  ('scaler',\n",
       "                                                                   StandardScaler())]),\n",
       "                                                  ['MSSubClass', 'LotFrontage',\n",
       "                                                   'LotArea', 'OverallQual',\n",
       "                                                   'OverallCond', 'YearBuilt',\n",
       "                                                   'YearRemodAdd', 'MasVnrArea',\n",
       "                                                   'BsmtFinSF1', 'BsmtFinSF2',\n",
       "                                                   'BsmtUnfSF', 'TotalBsmtSF',\n",
       "                                                   '1stFlrSF', '2ndFlrSF',\n",
       "                                                   'Lo...\n",
       "                                                   'BsmtFinType1',\n",
       "                                                   'BsmtFinType2', 'Heating',\n",
       "                                                   'HeatingQC', 'CentralAir',\n",
       "                                                   'Electrical', 'KitchenQual',\n",
       "                                                   'Functional', 'FireplaceQu', ...]),\n",
       "                                                 ('high_card_cat_cols',\n",
       "                                                  Pipeline(steps=[('imputer',\n",
       "                                                                   SimpleImputer(strategy='constant')),\n",
       "                                                                  ('onehot',\n",
       "                                                                   OneHotEncoder(handle_unknown='ignore'))]),\n",
       "                                                  ['Neighborhood',\n",
       "                                                   'Exterior1st',\n",
       "                                                   'Exterior2nd'])])),\n",
       "                ('model', RandomForestRegressor(random_state=42))])</pre></div></div></div><div class=\"sk-serial\"><div class=\"sk-item sk-dashed-wrapped\"><div class=\"sk-label-container\"><div class=\"sk-label sk-toggleable\"><input class=\"sk-toggleable__control sk-hidden--visually\" id=\"7f0f5d5b-e2be-4c0d-854f-22832ea32618\" type=\"checkbox\" ><label class=\"sk-toggleable__label\" for=\"7f0f5d5b-e2be-4c0d-854f-22832ea32618\">preprocessor: ColumnTransformer</label><div class=\"sk-toggleable__content\"><pre>ColumnTransformer(transformers=[('num_cols',\n",
       "                                 Pipeline(steps=[('imputer',\n",
       "                                                  SimpleImputer(strategy='median')),\n",
       "                                                 ('scaler', StandardScaler())]),\n",
       "                                 ['MSSubClass', 'LotFrontage', 'LotArea',\n",
       "                                  'OverallQual', 'OverallCond', 'YearBuilt',\n",
       "                                  'YearRemodAdd', 'MasVnrArea', 'BsmtFinSF1',\n",
       "                                  'BsmtFinSF2', 'BsmtUnfSF', 'TotalBsmtSF',\n",
       "                                  '1stFlrSF', '2ndFlrSF', 'LowQualFinSF',\n",
       "                                  'GrLivArea', 'BsmtFul...\n",
       "                                  'ExterCond', 'Foundation', 'BsmtQual',\n",
       "                                  'BsmtCond', 'BsmtExposure', 'BsmtFinType1',\n",
       "                                  'BsmtFinType2', 'Heating', 'HeatingQC',\n",
       "                                  'CentralAir', 'Electrical', 'KitchenQual',\n",
       "                                  'Functional', 'FireplaceQu', ...]),\n",
       "                                ('high_card_cat_cols',\n",
       "                                 Pipeline(steps=[('imputer',\n",
       "                                                  SimpleImputer(strategy='constant')),\n",
       "                                                 ('onehot',\n",
       "                                                  OneHotEncoder(handle_unknown='ignore'))]),\n",
       "                                 ['Neighborhood', 'Exterior1st',\n",
       "                                  'Exterior2nd'])])</pre></div></div></div><div class=\"sk-parallel\"><div class=\"sk-parallel-item\"><div class=\"sk-item\"><div class=\"sk-label-container\"><div class=\"sk-label sk-toggleable\"><input class=\"sk-toggleable__control sk-hidden--visually\" id=\"9ff12387-dae6-43a8-9790-93c59c5fafca\" type=\"checkbox\" ><label class=\"sk-toggleable__label\" for=\"9ff12387-dae6-43a8-9790-93c59c5fafca\">num_cols</label><div class=\"sk-toggleable__content\"><pre>['MSSubClass', 'LotFrontage', 'LotArea', 'OverallQual', 'OverallCond', 'YearBuilt', 'YearRemodAdd', 'MasVnrArea', 'BsmtFinSF1', 'BsmtFinSF2', 'BsmtUnfSF', 'TotalBsmtSF', '1stFlrSF', '2ndFlrSF', 'LowQualFinSF', 'GrLivArea', 'BsmtFullBath', 'BsmtHalfBath', 'FullBath', 'HalfBath', 'BedroomAbvGr', 'KitchenAbvGr', 'TotRmsAbvGrd', 'Fireplaces', 'GarageYrBlt', 'GarageCars', 'GarageArea', 'WoodDeckSF', 'OpenPorchSF', 'EnclosedPorch', '3SsnPorch', 'ScreenPorch', 'PoolArea', 'MiscVal', 'MoSold', 'YrSold']</pre></div></div></div><div class=\"sk-serial\"><div class=\"sk-item\"><div class=\"sk-serial\"><div class=\"sk-item\"><div class=\"sk-estimator sk-toggleable\"><input class=\"sk-toggleable__control sk-hidden--visually\" id=\"68d71bb5-22db-4d11-922d-9821e557e4b8\" type=\"checkbox\" ><label class=\"sk-toggleable__label\" for=\"68d71bb5-22db-4d11-922d-9821e557e4b8\">SimpleImputer</label><div class=\"sk-toggleable__content\"><pre>SimpleImputer(strategy='median')</pre></div></div></div><div class=\"sk-item\"><div class=\"sk-estimator sk-toggleable\"><input class=\"sk-toggleable__control sk-hidden--visually\" id=\"a6fd06e5-da87-43c0-aacd-790e69ab376a\" type=\"checkbox\" ><label class=\"sk-toggleable__label\" for=\"a6fd06e5-da87-43c0-aacd-790e69ab376a\">StandardScaler</label><div class=\"sk-toggleable__content\"><pre>StandardScaler()</pre></div></div></div></div></div></div></div></div><div class=\"sk-parallel-item\"><div class=\"sk-item\"><div class=\"sk-label-container\"><div class=\"sk-label sk-toggleable\"><input class=\"sk-toggleable__control sk-hidden--visually\" id=\"947b1d8f-f6b0-4eff-8c2b-b7f6c071841f\" type=\"checkbox\" ><label class=\"sk-toggleable__label\" for=\"947b1d8f-f6b0-4eff-8c2b-b7f6c071841f\">low_card_cat_cols</label><div class=\"sk-toggleable__content\"><pre>['MSZoning', 'Street', 'Alley', 'LotShape', 'LandContour', 'Utilities', 'LotConfig', 'LandSlope', 'Condition1', 'Condition2', 'BldgType', 'HouseStyle', 'RoofStyle', 'RoofMatl', 'MasVnrType', 'ExterQual', 'ExterCond', 'Foundation', 'BsmtQual', 'BsmtCond', 'BsmtExposure', 'BsmtFinType1', 'BsmtFinType2', 'Heating', 'HeatingQC', 'CentralAir', 'Electrical', 'KitchenQual', 'Functional', 'FireplaceQu', 'GarageType', 'GarageFinish', 'GarageQual', 'GarageCond', 'PavedDrive', 'PoolQC', 'Fence', 'MiscFeature', 'SaleType', 'SaleCondition']</pre></div></div></div><div class=\"sk-serial\"><div class=\"sk-item\"><div class=\"sk-serial\"><div class=\"sk-item\"><div class=\"sk-estimator sk-toggleable\"><input class=\"sk-toggleable__control sk-hidden--visually\" id=\"51617f95-7c56-4256-88ff-71218eafa2c9\" type=\"checkbox\" ><label class=\"sk-toggleable__label\" for=\"51617f95-7c56-4256-88ff-71218eafa2c9\">SimpleImputer</label><div class=\"sk-toggleable__content\"><pre>SimpleImputer(strategy='constant')</pre></div></div></div><div class=\"sk-item\"><div class=\"sk-estimator sk-toggleable\"><input class=\"sk-toggleable__control sk-hidden--visually\" id=\"227c7b9c-cfb4-4a87-be27-c454d4361182\" type=\"checkbox\" ><label class=\"sk-toggleable__label\" for=\"227c7b9c-cfb4-4a87-be27-c454d4361182\">OneHotEncoder</label><div class=\"sk-toggleable__content\"><pre>OneHotEncoder(handle_unknown='ignore')</pre></div></div></div></div></div></div></div></div><div class=\"sk-parallel-item\"><div class=\"sk-item\"><div class=\"sk-label-container\"><div class=\"sk-label sk-toggleable\"><input class=\"sk-toggleable__control sk-hidden--visually\" id=\"a9e3c8a5-f641-4d46-9cf3-20cab9a4327d\" type=\"checkbox\" ><label class=\"sk-toggleable__label\" for=\"a9e3c8a5-f641-4d46-9cf3-20cab9a4327d\">high_card_cat_cols</label><div class=\"sk-toggleable__content\"><pre>['Neighborhood', 'Exterior1st', 'Exterior2nd']</pre></div></div></div><div class=\"sk-serial\"><div class=\"sk-item\"><div class=\"sk-serial\"><div class=\"sk-item\"><div class=\"sk-estimator sk-toggleable\"><input class=\"sk-toggleable__control sk-hidden--visually\" id=\"860ac84e-0c14-4f1d-ad0d-0e2fc1225b27\" type=\"checkbox\" ><label class=\"sk-toggleable__label\" for=\"860ac84e-0c14-4f1d-ad0d-0e2fc1225b27\">SimpleImputer</label><div class=\"sk-toggleable__content\"><pre>SimpleImputer(strategy='constant')</pre></div></div></div><div class=\"sk-item\"><div class=\"sk-estimator sk-toggleable\"><input class=\"sk-toggleable__control sk-hidden--visually\" id=\"8bd293c4-d44e-4191-b6b7-277d268e5b86\" type=\"checkbox\" ><label class=\"sk-toggleable__label\" for=\"8bd293c4-d44e-4191-b6b7-277d268e5b86\">OneHotEncoder</label><div class=\"sk-toggleable__content\"><pre>OneHotEncoder(handle_unknown='ignore')</pre></div></div></div></div></div></div></div></div></div></div><div class=\"sk-item\"><div class=\"sk-estimator sk-toggleable\"><input class=\"sk-toggleable__control sk-hidden--visually\" id=\"6cd14829-1aa6-4aa1-b77a-b80d489a8b57\" type=\"checkbox\" ><label class=\"sk-toggleable__label\" for=\"6cd14829-1aa6-4aa1-b77a-b80d489a8b57\">RandomForestRegressor</label><div class=\"sk-toggleable__content\"><pre>RandomForestRegressor(random_state=42)</pre></div></div></div></div></div></div></div>"
      ],
      "text/plain": [
       "Pipeline(steps=[('preprocessor',\n",
       "                 ColumnTransformer(transformers=[('num_cols',\n",
       "                                                  Pipeline(steps=[('imputer',\n",
       "                                                                   SimpleImputer(strategy='median')),\n",
       "                                                                  ('scaler',\n",
       "                                                                   StandardScaler())]),\n",
       "                                                  ['MSSubClass', 'LotFrontage',\n",
       "                                                   'LotArea', 'OverallQual',\n",
       "                                                   'OverallCond', 'YearBuilt',\n",
       "                                                   'YearRemodAdd', 'MasVnrArea',\n",
       "                                                   'BsmtFinSF1', 'BsmtFinSF2',\n",
       "                                                   'BsmtUnfSF', 'TotalBsmtSF',\n",
       "                                                   '1stFlrSF', '2ndFlrSF',\n",
       "                                                   'Lo...\n",
       "                                                   'BsmtFinType1',\n",
       "                                                   'BsmtFinType2', 'Heating',\n",
       "                                                   'HeatingQC', 'CentralAir',\n",
       "                                                   'Electrical', 'KitchenQual',\n",
       "                                                   'Functional', 'FireplaceQu', ...]),\n",
       "                                                 ('high_card_cat_cols',\n",
       "                                                  Pipeline(steps=[('imputer',\n",
       "                                                                   SimpleImputer(strategy='constant')),\n",
       "                                                                  ('onehot',\n",
       "                                                                   OneHotEncoder(handle_unknown='ignore'))]),\n",
       "                                                  ['Neighborhood',\n",
       "                                                   'Exterior1st',\n",
       "                                                   'Exterior2nd'])])),\n",
       "                ('model', RandomForestRegressor(random_state=42))])"
      ]
     },
     "execution_count": 17,
     "metadata": {},
     "output_type": "execute_result"
    }
   ],
   "source": [
    "# Preprocessing of training data and then fit model \n",
    "pl.fit(dfl.X_train, dfl.y_train)"
   ]
  },
  {
   "cell_type": "code",
   "execution_count": 18,
   "id": "1dd7c811",
   "metadata": {},
   "outputs": [
    {
     "name": "stdout",
     "output_type": "stream",
     "text": [
      "X_valid MAE: 17634.989965753426\n"
     ]
    }
   ],
   "source": [
    "# Preprocessing of validation data and then get predictions\n",
    "preds = pl.predict(dfl.X_valid)\n",
    "\n",
    "print('X_valid MAE:', mean_absolute_error(dfl.y_valid, preds))"
   ]
  },
  {
   "cell_type": "code",
   "execution_count": 19,
   "id": "3b9aa318",
   "metadata": {},
   "outputs": [],
   "source": [
    "# X_valid MAE: 17582.46150684932"
   ]
  },
  {
   "cell_type": "code",
   "execution_count": 20,
   "id": "c4f91f6f",
   "metadata": {},
   "outputs": [
    {
     "name": "stdout",
     "output_type": "stream",
     "text": [
      "Converted 00_DataFrameLoader.ipynb.\n",
      "Converted 01_PreProcessor.ipynb.\n",
      "Converted 02_MLPipeline.ipynb.\n",
      "Converted 03_Tutorial.ipynb.\n",
      "Converted 04_Kaggle_TPS_Challenge_Nov_2021_XGB.ipynb.\n",
      "Converted 07_Kaggle_TPS_Tutorial.ipynb.\n",
      "Converted 08_Optuna_Tutorial.ipynb.\n",
      "Converted Untitled.ipynb.\n",
      "Converted automl_in_sklearn_pipeline.ipynb.\n",
      "Converted index.ipynb.\n"
     ]
    }
   ],
   "source": [
    "# hide\n",
    "# run the script to build \n",
    "\n",
    "from nbdev.export import notebook2script; notebook2script()"
   ]
  },
  {
   "cell_type": "code",
   "execution_count": null,
   "id": "2a4a0f5b",
   "metadata": {},
   "outputs": [],
   "source": []
  }
 ],
 "metadata": {
  "kernelspec": {
   "display_name": "Python 3 (ipykernel)",
   "language": "python",
   "name": "python3"
  },
  "language_info": {
   "codemirror_mode": {
    "name": "ipython",
    "version": 3
   },
   "file_extension": ".py",
   "mimetype": "text/x-python",
   "name": "python",
   "nbconvert_exporter": "python",
   "pygments_lexer": "ipython3",
   "version": "3.9.7"
  }
 },
 "nbformat": 4,
 "nbformat_minor": 5
}
