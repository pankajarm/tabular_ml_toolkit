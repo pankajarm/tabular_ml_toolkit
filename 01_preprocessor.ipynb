{
 "cells": [
  {
   "cell_type": "code",
   "execution_count": 1,
   "id": "739ab7e2",
   "metadata": {},
   "outputs": [],
   "source": [
    "%load_ext autoreload\n",
    "%autoreload 2"
   ]
  },
  {
   "cell_type": "code",
   "execution_count": 2,
   "id": "d3b66279",
   "metadata": {},
   "outputs": [],
   "source": [
    "# default_exp PreProcessor"
   ]
  },
  {
   "cell_type": "markdown",
   "id": "c469e3c1",
   "metadata": {},
   "source": [
    "# PreProcessor\n",
    "\n",
    "> An API to Preprocess train, valid and test dataset for Machine Learning models based on tabular or strucuture data"
   ]
  },
  {
   "cell_type": "code",
   "execution_count": 3,
   "id": "4ce63e38",
   "metadata": {},
   "outputs": [],
   "source": [
    "#hide\n",
    "from nbdev.showdoc import *\n",
    "from nbdev import *"
   ]
  },
  {
   "cell_type": "code",
   "execution_count": 4,
   "id": "cc9ff301",
   "metadata": {},
   "outputs": [],
   "source": [
    "# export\n",
    "from tabular_ml_toolkit.DataFrameLoader import *"
   ]
  },
  {
   "cell_type": "code",
   "execution_count": 5,
   "id": "5ee899e5",
   "metadata": {},
   "outputs": [],
   "source": [
    "# export\n",
    "# hide\n",
    "import pandas as pd\n",
    "from sklearn.compose import ColumnTransformer\n",
    "from sklearn.pipeline import Pipeline\n",
    "from sklearn.impute import SimpleImputer\n",
    "from sklearn.preprocessing import OneHotEncoder, OrdinalEncoder, StandardScaler \n",
    "from sklearn.ensemble import RandomForestRegressor\n",
    "from sklearn.metrics import mean_absolute_error"
   ]
  },
  {
   "cell_type": "code",
   "execution_count": 6,
   "id": "cb98246b",
   "metadata": {},
   "outputs": [],
   "source": [
    "# export\n",
    "\n",
    "class PreProcessor:\n",
    "    \"\"\"\n",
    "    Represent PreProcessor class\n",
    "    \n",
    "    Attributes:\n",
    "    numerical_transformer: Numerical Columns Tranformer\n",
    "    categorical_transformer: Categorical Columns Transformer\n",
    "    preprocessor: Preprocessor for Columns Tranformer\n",
    "    \"\"\"\n",
    "\n",
    "    def __init__(self):\n",
    "        self.numerical_transformer = None\n",
    "        self.categorical_transformer = None\n",
    "        self.columns_transfomer = None\n",
    "        self.transformer_type = None\n",
    "        self.OHE_categorical_transformer = None\n",
    "        self.ORE_categorical_transformer = None\n",
    "#         self.numerical_cols = None\n",
    "#         self.low_card_cat_cols = None\n",
    "#         self.high_card_cat_cols = None\n",
    "#         self.final_cols = None\n",
    "    \n",
    "    def __str__(self):\n",
    "        \"\"\"Returns human readable string reprsentation\"\"\"\n",
    "        attr_str = \"numerical_transformer, categorical_transformer,columns_transfomer\"\n",
    "        return \"PreProcessor object with attributes:\" + attr_str\n",
    "    \n",
    "    def __repr__(self):\n",
    "        return self.__str__()\n",
    "    \n",
    "    # PreProcessor core methods\n",
    "    \n",
    "    # Preprocessing for numerical data\n",
    "    def preprocess_numerical_data(self, num_imput_strg):\n",
    "        self.numerical_transformer = Pipeline(steps=[\n",
    "            ('imputer', SimpleImputer(strategy=num_imput_strg)),\n",
    "            ('scaler',  StandardScaler())\n",
    "        ])\n",
    "        \n",
    "    # Preprocessing for categorical data\n",
    "    def preprocess_OHE_categorical_data(self, low_cad_cat_imput_strg):\n",
    "        self.OHE_categorical_transformer = Pipeline(steps=[\n",
    "        ('imputer', SimpleImputer(strategy=low_cad_cat_imput_strg)),\n",
    "        ('onehot', OneHotEncoder(handle_unknown='ignore'))\n",
    "        ])   \n",
    "\n",
    "    def preprocess_OE_categorical_data(self, high_cad_cat_imput_strg):\n",
    "        self.OE_categorical_transformer = Pipeline(steps=[\n",
    "        ('imputer', SimpleImputer(strategy=high_cad_cat_imput_strg)),\n",
    "        ('ordinal', OrdinalEncoder())\n",
    "        ])       \n",
    "    \n",
    "    #TO-DO\n",
    "#     def reduce_dims(self):\n",
    "#         pass\n",
    "    \n",
    "    # Bundle preprocessing for numerical and categorical data\n",
    "    def preprocess_all_cols_for_training(self, dataframeloader, num_imput_strg='median',\n",
    "                                         low_cad_cat_imput_strg='constant',\n",
    "                                         high_cad_cat_imput_strg='constant'):\n",
    "        # create scikit-learn pipelines instances\n",
    "        self.preprocess_numerical_data(num_imput_strg)\n",
    "        self.preprocess_OHE_categorical_data(low_cad_cat_imput_strg)\n",
    "        self.preprocess_OE_categorical_data(high_cad_cat_imput_strg)\n",
    "        # convert to Scikit-learn ColumnTranfomer\n",
    "        self.columns_transfomer = ColumnTransformer(\n",
    "            transformers=[\n",
    "                ('num', self.numerical_transformer, dataframeloader.numerical_cols),\n",
    "                ('low_cad_cat', self.OHE_categorical_transformer,\n",
    "                 dataframeloader.low_card_cat_cols),\n",
    "                ('high_cad_cat', self.OE_categorical_transformer,\n",
    "                 dataframeloader.high_card_cat_cols)\n",
    "            ])\n",
    "        self.transformer_type = self.columns_transfomer\n",
    "        return self\n",
    "    \n",
    "    # Bundle preprocessing for cv_cols\n",
    "    def preprocess_cols_for_cv(self, cv_cols_type, dataframeloader,\n",
    "                               num_imput_strg='median',\n",
    "                               low_cad_cat_imput_strg='constant',\n",
    "                               high_cad_cat_imput_strg='constant'):\n",
    "        \n",
    "        # change column types and preprocessor according to cv_cols provided\n",
    "        if cv_cols_type == \"all\":\n",
    "            # create scikit-learn pipelines instances\n",
    "            self.preprocess_numerical_data(num_imput_strg)\n",
    "            self.preprocess_OHE_categorical_data(low_cad_cat_imput_strg)\n",
    "            # convert to Scikit-learn ColumnTranfomer\n",
    "            self.columns_transfomer = ColumnTransformer(\n",
    "                transformers=[\n",
    "                    ('num', self.numerical_transformer, dataframeloader.numerical_cols),\n",
    "                    ('low_cad_cat', self.OHE_categorical_transformer,\n",
    "                     dataframeloader.low_card_cat_cols)\n",
    "                ])\n",
    "            self.transformer_type = self.columns_transfomer\n",
    "        \n",
    "        elif cv_cols_type == \"num\":\n",
    "            self.preprocess_numerical_data(num_imput_strg)\n",
    "            self.transformer_type = self.numerical_transformer\n",
    "        \n",
    "        elif cv_cols_type == \"cat\":\n",
    "            # create scikit-learn pipelines instances\n",
    "            self.preprocess_OHE_categorical_data(low_cad_cat_imput_strg)\n",
    "            # convert all categorical columns to OrdinalEncoder with Scikit-learn ColumnTranfomer\n",
    "            self.columns_transfomer = ColumnTransformer(\n",
    "                transformers=[\n",
    "                    ('low_cad_cat', self.OHE_categorical_transformer,\n",
    "                     dataframeloader.low_card_cat_cols)\n",
    "                    # REMOVING HIGH CARDINALITY COLUMNS BECAUSE OF NOT ENOUGH REPRESENTATION\n",
    "                    # OF CARDINALITY DURING K-FOLD SPLIT OF DATA\n",
    "                ])\n",
    "            self.transformer_type = self.columns_transfomer\n",
    "        else:\n",
    "            raise ValueError(\"Bad cv_cols_type, Only 'num','cat','all' are allowed!\")\n",
    "        \n",
    "        return self"
   ]
  },
  {
   "cell_type": "code",
   "execution_count": 7,
   "id": "81cf5db5",
   "metadata": {},
   "outputs": [],
   "source": [
    "# showdoc(PreProcessor.preprocess_data)"
   ]
  },
  {
   "cell_type": "markdown",
   "id": "883dcf04",
   "metadata": {},
   "source": [
    "#### Test PreProcessor with House Data"
   ]
  },
  {
   "cell_type": "code",
   "execution_count": 8,
   "id": "ef8d4901",
   "metadata": {},
   "outputs": [
    {
     "data": {
      "text/plain": [
       "DataFrameLoader object with attributes: X_full, X_test, X(features), y(target), X_train, X_valid, y_train and y_valid"
      ]
     },
     "execution_count": 8,
     "metadata": {},
     "output_type": "execute_result"
    }
   ],
   "source": [
    "dfl = DataFrameLoader().from_csv(\n",
    "    train_file_path=\"input/home_data/train.csv\",\n",
    "    test_file_path=\"input/home_data/test.csv\",\n",
    "    idx_col=\"Id\", target=\"SalePrice\",\n",
    "    random_state=42, valid_size=0.2)\n",
    "dfl"
   ]
  },
  {
   "cell_type": "code",
   "execution_count": 9,
   "id": "5faf8831",
   "metadata": {},
   "outputs": [
    {
     "data": {
      "text/plain": [
       "PreProcessor object with attributes:numerical_transformer, categorical_transformer,columns_transfomer"
      ]
     },
     "execution_count": 9,
     "metadata": {},
     "output_type": "execute_result"
    }
   ],
   "source": [
    "pp = PreProcessor().preprocess_all_cols_for_training(dataframeloader=dfl)\n",
    "pp"
   ]
  },
  {
   "cell_type": "code",
   "execution_count": 10,
   "id": "b8fce59f",
   "metadata": {},
   "outputs": [],
   "source": [
    "# pp.columns_transfomer"
   ]
  },
  {
   "cell_type": "code",
   "execution_count": 11,
   "id": "d1f6a256",
   "metadata": {},
   "outputs": [
    {
     "name": "stdout",
     "output_type": "stream",
     "text": [
      "36\n"
     ]
    }
   ],
   "source": [
    "print(len(dfl.numerical_cols))\n",
    "# dfl.numerical_cols"
   ]
  },
  {
   "cell_type": "code",
   "execution_count": 12,
   "id": "aed0a0c9",
   "metadata": {},
   "outputs": [
    {
     "name": "stdout",
     "output_type": "stream",
     "text": [
      "3\n"
     ]
    }
   ],
   "source": [
    "print(len(dfl.high_card_cat_cols))\n",
    "# dfl.high_card_cat_cols"
   ]
  },
  {
   "cell_type": "code",
   "execution_count": 13,
   "id": "d7c480d8",
   "metadata": {},
   "outputs": [
    {
     "name": "stdout",
     "output_type": "stream",
     "text": [
      "40\n"
     ]
    }
   ],
   "source": [
    "print(len(dfl.low_card_cat_cols))\n",
    "# dfl.low_card_cat_cols"
   ]
  },
  {
   "cell_type": "code",
   "execution_count": 14,
   "id": "57973ecf",
   "metadata": {},
   "outputs": [
    {
     "data": {
      "text/plain": [
       "RandomForestRegressor(random_state=42)"
      ]
     },
     "execution_count": 14,
     "metadata": {},
     "output_type": "execute_result"
    }
   ],
   "source": [
    "# Define model\n",
    "model = RandomForestRegressor(n_estimators=100, random_state=42)\n",
    "model"
   ]
  },
  {
   "cell_type": "code",
   "execution_count": 15,
   "id": "1f314216",
   "metadata": {},
   "outputs": [],
   "source": [
    "# Bundle preprocessor and model in a pipeline\n",
    "pl = Pipeline(steps=[('preprocessor', pp.columns_transfomer),\n",
    "                      ('model', model)\n",
    "                     ])\n",
    "# pl"
   ]
  },
  {
   "cell_type": "code",
   "execution_count": 16,
   "id": "6a3fe226",
   "metadata": {},
   "outputs": [
    {
     "data": {
      "text/html": [
       "<style>#sk-f411dc81-84cf-4761-a979-5f8db6f8c1f3 {color: black;background-color: white;}#sk-f411dc81-84cf-4761-a979-5f8db6f8c1f3 pre{padding: 0;}#sk-f411dc81-84cf-4761-a979-5f8db6f8c1f3 div.sk-toggleable {background-color: white;}#sk-f411dc81-84cf-4761-a979-5f8db6f8c1f3 label.sk-toggleable__label {cursor: pointer;display: block;width: 100%;margin-bottom: 0;padding: 0.3em;box-sizing: border-box;text-align: center;}#sk-f411dc81-84cf-4761-a979-5f8db6f8c1f3 div.sk-toggleable__content {max-height: 0;max-width: 0;overflow: hidden;text-align: left;background-color: #f0f8ff;}#sk-f411dc81-84cf-4761-a979-5f8db6f8c1f3 div.sk-toggleable__content pre {margin: 0.2em;color: black;border-radius: 0.25em;background-color: #f0f8ff;}#sk-f411dc81-84cf-4761-a979-5f8db6f8c1f3 input.sk-toggleable__control:checked~div.sk-toggleable__content {max-height: 200px;max-width: 100%;overflow: auto;}#sk-f411dc81-84cf-4761-a979-5f8db6f8c1f3 div.sk-estimator input.sk-toggleable__control:checked~label.sk-toggleable__label {background-color: #d4ebff;}#sk-f411dc81-84cf-4761-a979-5f8db6f8c1f3 div.sk-label input.sk-toggleable__control:checked~label.sk-toggleable__label {background-color: #d4ebff;}#sk-f411dc81-84cf-4761-a979-5f8db6f8c1f3 input.sk-hidden--visually {border: 0;clip: rect(1px 1px 1px 1px);clip: rect(1px, 1px, 1px, 1px);height: 1px;margin: -1px;overflow: hidden;padding: 0;position: absolute;width: 1px;}#sk-f411dc81-84cf-4761-a979-5f8db6f8c1f3 div.sk-estimator {font-family: monospace;background-color: #f0f8ff;border: 1px dotted black;border-radius: 0.25em;box-sizing: border-box;margin-bottom: 0.5em;}#sk-f411dc81-84cf-4761-a979-5f8db6f8c1f3 div.sk-estimator:hover {background-color: #d4ebff;}#sk-f411dc81-84cf-4761-a979-5f8db6f8c1f3 div.sk-parallel-item::after {content: \"\";width: 100%;border-bottom: 1px solid gray;flex-grow: 1;}#sk-f411dc81-84cf-4761-a979-5f8db6f8c1f3 div.sk-label:hover label.sk-toggleable__label {background-color: #d4ebff;}#sk-f411dc81-84cf-4761-a979-5f8db6f8c1f3 div.sk-serial::before {content: \"\";position: absolute;border-left: 1px solid gray;box-sizing: border-box;top: 2em;bottom: 0;left: 50%;}#sk-f411dc81-84cf-4761-a979-5f8db6f8c1f3 div.sk-serial {display: flex;flex-direction: column;align-items: center;background-color: white;padding-right: 0.2em;padding-left: 0.2em;}#sk-f411dc81-84cf-4761-a979-5f8db6f8c1f3 div.sk-item {z-index: 1;}#sk-f411dc81-84cf-4761-a979-5f8db6f8c1f3 div.sk-parallel {display: flex;align-items: stretch;justify-content: center;background-color: white;}#sk-f411dc81-84cf-4761-a979-5f8db6f8c1f3 div.sk-parallel::before {content: \"\";position: absolute;border-left: 1px solid gray;box-sizing: border-box;top: 2em;bottom: 0;left: 50%;}#sk-f411dc81-84cf-4761-a979-5f8db6f8c1f3 div.sk-parallel-item {display: flex;flex-direction: column;position: relative;background-color: white;}#sk-f411dc81-84cf-4761-a979-5f8db6f8c1f3 div.sk-parallel-item:first-child::after {align-self: flex-end;width: 50%;}#sk-f411dc81-84cf-4761-a979-5f8db6f8c1f3 div.sk-parallel-item:last-child::after {align-self: flex-start;width: 50%;}#sk-f411dc81-84cf-4761-a979-5f8db6f8c1f3 div.sk-parallel-item:only-child::after {width: 0;}#sk-f411dc81-84cf-4761-a979-5f8db6f8c1f3 div.sk-dashed-wrapped {border: 1px dashed gray;margin: 0 0.4em 0.5em 0.4em;box-sizing: border-box;padding-bottom: 0.4em;background-color: white;position: relative;}#sk-f411dc81-84cf-4761-a979-5f8db6f8c1f3 div.sk-label label {font-family: monospace;font-weight: bold;background-color: white;display: inline-block;line-height: 1.2em;}#sk-f411dc81-84cf-4761-a979-5f8db6f8c1f3 div.sk-label-container {position: relative;z-index: 2;text-align: center;}#sk-f411dc81-84cf-4761-a979-5f8db6f8c1f3 div.sk-container {display: inline-block;position: relative;}</style><div id=\"sk-f411dc81-84cf-4761-a979-5f8db6f8c1f3\" class\"sk-top-container\"><div class=\"sk-container\"><div class=\"sk-item sk-dashed-wrapped\"><div class=\"sk-label-container\"><div class=\"sk-label sk-toggleable\"><input class=\"sk-toggleable__control sk-hidden--visually\" id=\"75fb9a94-9c29-4f96-9685-34fe04a52e17\" type=\"checkbox\" ><label class=\"sk-toggleable__label\" for=\"75fb9a94-9c29-4f96-9685-34fe04a52e17\">Pipeline</label><div class=\"sk-toggleable__content\"><pre>Pipeline(steps=[('preprocessor',\n",
       "                 ColumnTransformer(transformers=[('num',\n",
       "                                                  Pipeline(steps=[('imputer',\n",
       "                                                                   SimpleImputer(strategy='median')),\n",
       "                                                                  ('scaler',\n",
       "                                                                   StandardScaler())]),\n",
       "                                                  ['MSSubClass', 'LotFrontage',\n",
       "                                                   'LotArea', 'OverallQual',\n",
       "                                                   'OverallCond', 'YearBuilt',\n",
       "                                                   'YearRemodAdd', 'MasVnrArea',\n",
       "                                                   'BsmtFinSF1', 'BsmtFinSF2',\n",
       "                                                   'BsmtUnfSF', 'TotalBsmtSF',\n",
       "                                                   '1stFlrSF', '2ndFlrSF',\n",
       "                                                   'LowQual...\n",
       "                                                   'BsmtQual', 'BsmtCond',\n",
       "                                                   'BsmtExposure',\n",
       "                                                   'BsmtFinType1',\n",
       "                                                   'BsmtFinType2', 'Heating',\n",
       "                                                   'HeatingQC', 'CentralAir',\n",
       "                                                   'Electrical', 'KitchenQual',\n",
       "                                                   'Functional', 'FireplaceQu', ...]),\n",
       "                                                 ('high_cad_cat',\n",
       "                                                  Pipeline(steps=[('imputer',\n",
       "                                                                   SimpleImputer(strategy='constant')),\n",
       "                                                                  ('ordinal',\n",
       "                                                                   OrdinalEncoder())]),\n",
       "                                                  ['Neighborhood',\n",
       "                                                   'Exterior1st',\n",
       "                                                   'Exterior2nd'])])),\n",
       "                ('model', RandomForestRegressor(random_state=42))])</pre></div></div></div><div class=\"sk-serial\"><div class=\"sk-item sk-dashed-wrapped\"><div class=\"sk-label-container\"><div class=\"sk-label sk-toggleable\"><input class=\"sk-toggleable__control sk-hidden--visually\" id=\"6d56dd96-38c7-4c29-8df3-ce9a9ebf52fd\" type=\"checkbox\" ><label class=\"sk-toggleable__label\" for=\"6d56dd96-38c7-4c29-8df3-ce9a9ebf52fd\">preprocessor: ColumnTransformer</label><div class=\"sk-toggleable__content\"><pre>ColumnTransformer(transformers=[('num',\n",
       "                                 Pipeline(steps=[('imputer',\n",
       "                                                  SimpleImputer(strategy='median')),\n",
       "                                                 ('scaler', StandardScaler())]),\n",
       "                                 ['MSSubClass', 'LotFrontage', 'LotArea',\n",
       "                                  'OverallQual', 'OverallCond', 'YearBuilt',\n",
       "                                  'YearRemodAdd', 'MasVnrArea', 'BsmtFinSF1',\n",
       "                                  'BsmtFinSF2', 'BsmtUnfSF', 'TotalBsmtSF',\n",
       "                                  '1stFlrSF', '2ndFlrSF', 'LowQualFinSF',\n",
       "                                  'GrLivArea', 'BsmtFullBath...\n",
       "                                  'RoofMatl', 'MasVnrType', 'ExterQual',\n",
       "                                  'ExterCond', 'Foundation', 'BsmtQual',\n",
       "                                  'BsmtCond', 'BsmtExposure', 'BsmtFinType1',\n",
       "                                  'BsmtFinType2', 'Heating', 'HeatingQC',\n",
       "                                  'CentralAir', 'Electrical', 'KitchenQual',\n",
       "                                  'Functional', 'FireplaceQu', ...]),\n",
       "                                ('high_cad_cat',\n",
       "                                 Pipeline(steps=[('imputer',\n",
       "                                                  SimpleImputer(strategy='constant')),\n",
       "                                                 ('ordinal',\n",
       "                                                  OrdinalEncoder())]),\n",
       "                                 ['Neighborhood', 'Exterior1st',\n",
       "                                  'Exterior2nd'])])</pre></div></div></div><div class=\"sk-parallel\"><div class=\"sk-parallel-item\"><div class=\"sk-item\"><div class=\"sk-label-container\"><div class=\"sk-label sk-toggleable\"><input class=\"sk-toggleable__control sk-hidden--visually\" id=\"b4c5910e-6d92-47ec-be9d-259c3ffd2416\" type=\"checkbox\" ><label class=\"sk-toggleable__label\" for=\"b4c5910e-6d92-47ec-be9d-259c3ffd2416\">num</label><div class=\"sk-toggleable__content\"><pre>['MSSubClass', 'LotFrontage', 'LotArea', 'OverallQual', 'OverallCond', 'YearBuilt', 'YearRemodAdd', 'MasVnrArea', 'BsmtFinSF1', 'BsmtFinSF2', 'BsmtUnfSF', 'TotalBsmtSF', '1stFlrSF', '2ndFlrSF', 'LowQualFinSF', 'GrLivArea', 'BsmtFullBath', 'BsmtHalfBath', 'FullBath', 'HalfBath', 'BedroomAbvGr', 'KitchenAbvGr', 'TotRmsAbvGrd', 'Fireplaces', 'GarageYrBlt', 'GarageCars', 'GarageArea', 'WoodDeckSF', 'OpenPorchSF', 'EnclosedPorch', '3SsnPorch', 'ScreenPorch', 'PoolArea', 'MiscVal', 'MoSold', 'YrSold']</pre></div></div></div><div class=\"sk-serial\"><div class=\"sk-item\"><div class=\"sk-serial\"><div class=\"sk-item\"><div class=\"sk-estimator sk-toggleable\"><input class=\"sk-toggleable__control sk-hidden--visually\" id=\"ee68547e-6e86-4090-88aa-2a2a6a455c58\" type=\"checkbox\" ><label class=\"sk-toggleable__label\" for=\"ee68547e-6e86-4090-88aa-2a2a6a455c58\">SimpleImputer</label><div class=\"sk-toggleable__content\"><pre>SimpleImputer(strategy='median')</pre></div></div></div><div class=\"sk-item\"><div class=\"sk-estimator sk-toggleable\"><input class=\"sk-toggleable__control sk-hidden--visually\" id=\"5c045a52-86b1-4e39-8928-fae6f23c9ace\" type=\"checkbox\" ><label class=\"sk-toggleable__label\" for=\"5c045a52-86b1-4e39-8928-fae6f23c9ace\">StandardScaler</label><div class=\"sk-toggleable__content\"><pre>StandardScaler()</pre></div></div></div></div></div></div></div></div><div class=\"sk-parallel-item\"><div class=\"sk-item\"><div class=\"sk-label-container\"><div class=\"sk-label sk-toggleable\"><input class=\"sk-toggleable__control sk-hidden--visually\" id=\"f569cd7b-9ec1-482e-aeeb-ba428c65eb30\" type=\"checkbox\" ><label class=\"sk-toggleable__label\" for=\"f569cd7b-9ec1-482e-aeeb-ba428c65eb30\">low_cad_cat</label><div class=\"sk-toggleable__content\"><pre>['MSZoning', 'Street', 'Alley', 'LotShape', 'LandContour', 'Utilities', 'LotConfig', 'LandSlope', 'Condition1', 'Condition2', 'BldgType', 'HouseStyle', 'RoofStyle', 'RoofMatl', 'MasVnrType', 'ExterQual', 'ExterCond', 'Foundation', 'BsmtQual', 'BsmtCond', 'BsmtExposure', 'BsmtFinType1', 'BsmtFinType2', 'Heating', 'HeatingQC', 'CentralAir', 'Electrical', 'KitchenQual', 'Functional', 'FireplaceQu', 'GarageType', 'GarageFinish', 'GarageQual', 'GarageCond', 'PavedDrive', 'PoolQC', 'Fence', 'MiscFeature', 'SaleType', 'SaleCondition']</pre></div></div></div><div class=\"sk-serial\"><div class=\"sk-item\"><div class=\"sk-serial\"><div class=\"sk-item\"><div class=\"sk-estimator sk-toggleable\"><input class=\"sk-toggleable__control sk-hidden--visually\" id=\"8fe8d95d-b63a-440b-bf76-28b631470813\" type=\"checkbox\" ><label class=\"sk-toggleable__label\" for=\"8fe8d95d-b63a-440b-bf76-28b631470813\">SimpleImputer</label><div class=\"sk-toggleable__content\"><pre>SimpleImputer(strategy='constant')</pre></div></div></div><div class=\"sk-item\"><div class=\"sk-estimator sk-toggleable\"><input class=\"sk-toggleable__control sk-hidden--visually\" id=\"b195dcad-d4ec-48b6-9b80-de64734eaa90\" type=\"checkbox\" ><label class=\"sk-toggleable__label\" for=\"b195dcad-d4ec-48b6-9b80-de64734eaa90\">OneHotEncoder</label><div class=\"sk-toggleable__content\"><pre>OneHotEncoder(handle_unknown='ignore')</pre></div></div></div></div></div></div></div></div><div class=\"sk-parallel-item\"><div class=\"sk-item\"><div class=\"sk-label-container\"><div class=\"sk-label sk-toggleable\"><input class=\"sk-toggleable__control sk-hidden--visually\" id=\"1b69e33b-aa47-43dd-b98c-4b3cd295abed\" type=\"checkbox\" ><label class=\"sk-toggleable__label\" for=\"1b69e33b-aa47-43dd-b98c-4b3cd295abed\">high_cad_cat</label><div class=\"sk-toggleable__content\"><pre>['Neighborhood', 'Exterior1st', 'Exterior2nd']</pre></div></div></div><div class=\"sk-serial\"><div class=\"sk-item\"><div class=\"sk-serial\"><div class=\"sk-item\"><div class=\"sk-estimator sk-toggleable\"><input class=\"sk-toggleable__control sk-hidden--visually\" id=\"79ce1e09-760d-4407-8b87-dfc6953bafe2\" type=\"checkbox\" ><label class=\"sk-toggleable__label\" for=\"79ce1e09-760d-4407-8b87-dfc6953bafe2\">SimpleImputer</label><div class=\"sk-toggleable__content\"><pre>SimpleImputer(strategy='constant')</pre></div></div></div><div class=\"sk-item\"><div class=\"sk-estimator sk-toggleable\"><input class=\"sk-toggleable__control sk-hidden--visually\" id=\"f0a71320-9fee-460a-b688-9382dd7f36f7\" type=\"checkbox\" ><label class=\"sk-toggleable__label\" for=\"f0a71320-9fee-460a-b688-9382dd7f36f7\">OrdinalEncoder</label><div class=\"sk-toggleable__content\"><pre>OrdinalEncoder()</pre></div></div></div></div></div></div></div></div></div></div><div class=\"sk-item\"><div class=\"sk-estimator sk-toggleable\"><input class=\"sk-toggleable__control sk-hidden--visually\" id=\"a82e30da-6d69-4105-b41d-845ec31db120\" type=\"checkbox\" ><label class=\"sk-toggleable__label\" for=\"a82e30da-6d69-4105-b41d-845ec31db120\">RandomForestRegressor</label><div class=\"sk-toggleable__content\"><pre>RandomForestRegressor(random_state=42)</pre></div></div></div></div></div></div></div>"
      ],
      "text/plain": [
       "Pipeline(steps=[('preprocessor',\n",
       "                 ColumnTransformer(transformers=[('num',\n",
       "                                                  Pipeline(steps=[('imputer',\n",
       "                                                                   SimpleImputer(strategy='median')),\n",
       "                                                                  ('scaler',\n",
       "                                                                   StandardScaler())]),\n",
       "                                                  ['MSSubClass', 'LotFrontage',\n",
       "                                                   'LotArea', 'OverallQual',\n",
       "                                                   'OverallCond', 'YearBuilt',\n",
       "                                                   'YearRemodAdd', 'MasVnrArea',\n",
       "                                                   'BsmtFinSF1', 'BsmtFinSF2',\n",
       "                                                   'BsmtUnfSF', 'TotalBsmtSF',\n",
       "                                                   '1stFlrSF', '2ndFlrSF',\n",
       "                                                   'LowQual...\n",
       "                                                   'BsmtQual', 'BsmtCond',\n",
       "                                                   'BsmtExposure',\n",
       "                                                   'BsmtFinType1',\n",
       "                                                   'BsmtFinType2', 'Heating',\n",
       "                                                   'HeatingQC', 'CentralAir',\n",
       "                                                   'Electrical', 'KitchenQual',\n",
       "                                                   'Functional', 'FireplaceQu', ...]),\n",
       "                                                 ('high_cad_cat',\n",
       "                                                  Pipeline(steps=[('imputer',\n",
       "                                                                   SimpleImputer(strategy='constant')),\n",
       "                                                                  ('ordinal',\n",
       "                                                                   OrdinalEncoder())]),\n",
       "                                                  ['Neighborhood',\n",
       "                                                   'Exterior1st',\n",
       "                                                   'Exterior2nd'])])),\n",
       "                ('model', RandomForestRegressor(random_state=42))])"
      ]
     },
     "execution_count": 16,
     "metadata": {},
     "output_type": "execute_result"
    }
   ],
   "source": [
    "# for visualizing pipeline\n",
    "from sklearn import set_config\n",
    "\n",
    "set_config(display=\"diagram\")\n",
    "pl"
   ]
  },
  {
   "cell_type": "code",
   "execution_count": 17,
   "id": "a7ff6f0d",
   "metadata": {},
   "outputs": [
    {
     "data": {
      "text/html": [
       "<style>#sk-e460f318-aefe-4bf0-8175-17a26f7d1771 {color: black;background-color: white;}#sk-e460f318-aefe-4bf0-8175-17a26f7d1771 pre{padding: 0;}#sk-e460f318-aefe-4bf0-8175-17a26f7d1771 div.sk-toggleable {background-color: white;}#sk-e460f318-aefe-4bf0-8175-17a26f7d1771 label.sk-toggleable__label {cursor: pointer;display: block;width: 100%;margin-bottom: 0;padding: 0.3em;box-sizing: border-box;text-align: center;}#sk-e460f318-aefe-4bf0-8175-17a26f7d1771 div.sk-toggleable__content {max-height: 0;max-width: 0;overflow: hidden;text-align: left;background-color: #f0f8ff;}#sk-e460f318-aefe-4bf0-8175-17a26f7d1771 div.sk-toggleable__content pre {margin: 0.2em;color: black;border-radius: 0.25em;background-color: #f0f8ff;}#sk-e460f318-aefe-4bf0-8175-17a26f7d1771 input.sk-toggleable__control:checked~div.sk-toggleable__content {max-height: 200px;max-width: 100%;overflow: auto;}#sk-e460f318-aefe-4bf0-8175-17a26f7d1771 div.sk-estimator input.sk-toggleable__control:checked~label.sk-toggleable__label {background-color: #d4ebff;}#sk-e460f318-aefe-4bf0-8175-17a26f7d1771 div.sk-label input.sk-toggleable__control:checked~label.sk-toggleable__label {background-color: #d4ebff;}#sk-e460f318-aefe-4bf0-8175-17a26f7d1771 input.sk-hidden--visually {border: 0;clip: rect(1px 1px 1px 1px);clip: rect(1px, 1px, 1px, 1px);height: 1px;margin: -1px;overflow: hidden;padding: 0;position: absolute;width: 1px;}#sk-e460f318-aefe-4bf0-8175-17a26f7d1771 div.sk-estimator {font-family: monospace;background-color: #f0f8ff;border: 1px dotted black;border-radius: 0.25em;box-sizing: border-box;margin-bottom: 0.5em;}#sk-e460f318-aefe-4bf0-8175-17a26f7d1771 div.sk-estimator:hover {background-color: #d4ebff;}#sk-e460f318-aefe-4bf0-8175-17a26f7d1771 div.sk-parallel-item::after {content: \"\";width: 100%;border-bottom: 1px solid gray;flex-grow: 1;}#sk-e460f318-aefe-4bf0-8175-17a26f7d1771 div.sk-label:hover label.sk-toggleable__label {background-color: #d4ebff;}#sk-e460f318-aefe-4bf0-8175-17a26f7d1771 div.sk-serial::before {content: \"\";position: absolute;border-left: 1px solid gray;box-sizing: border-box;top: 2em;bottom: 0;left: 50%;}#sk-e460f318-aefe-4bf0-8175-17a26f7d1771 div.sk-serial {display: flex;flex-direction: column;align-items: center;background-color: white;padding-right: 0.2em;padding-left: 0.2em;}#sk-e460f318-aefe-4bf0-8175-17a26f7d1771 div.sk-item {z-index: 1;}#sk-e460f318-aefe-4bf0-8175-17a26f7d1771 div.sk-parallel {display: flex;align-items: stretch;justify-content: center;background-color: white;}#sk-e460f318-aefe-4bf0-8175-17a26f7d1771 div.sk-parallel::before {content: \"\";position: absolute;border-left: 1px solid gray;box-sizing: border-box;top: 2em;bottom: 0;left: 50%;}#sk-e460f318-aefe-4bf0-8175-17a26f7d1771 div.sk-parallel-item {display: flex;flex-direction: column;position: relative;background-color: white;}#sk-e460f318-aefe-4bf0-8175-17a26f7d1771 div.sk-parallel-item:first-child::after {align-self: flex-end;width: 50%;}#sk-e460f318-aefe-4bf0-8175-17a26f7d1771 div.sk-parallel-item:last-child::after {align-self: flex-start;width: 50%;}#sk-e460f318-aefe-4bf0-8175-17a26f7d1771 div.sk-parallel-item:only-child::after {width: 0;}#sk-e460f318-aefe-4bf0-8175-17a26f7d1771 div.sk-dashed-wrapped {border: 1px dashed gray;margin: 0 0.4em 0.5em 0.4em;box-sizing: border-box;padding-bottom: 0.4em;background-color: white;position: relative;}#sk-e460f318-aefe-4bf0-8175-17a26f7d1771 div.sk-label label {font-family: monospace;font-weight: bold;background-color: white;display: inline-block;line-height: 1.2em;}#sk-e460f318-aefe-4bf0-8175-17a26f7d1771 div.sk-label-container {position: relative;z-index: 2;text-align: center;}#sk-e460f318-aefe-4bf0-8175-17a26f7d1771 div.sk-container {display: inline-block;position: relative;}</style><div id=\"sk-e460f318-aefe-4bf0-8175-17a26f7d1771\" class\"sk-top-container\"><div class=\"sk-container\"><div class=\"sk-item sk-dashed-wrapped\"><div class=\"sk-label-container\"><div class=\"sk-label sk-toggleable\"><input class=\"sk-toggleable__control sk-hidden--visually\" id=\"514d9b81-c7ea-4883-9636-14d64829e70a\" type=\"checkbox\" ><label class=\"sk-toggleable__label\" for=\"514d9b81-c7ea-4883-9636-14d64829e70a\">Pipeline</label><div class=\"sk-toggleable__content\"><pre>Pipeline(steps=[('preprocessor',\n",
       "                 ColumnTransformer(transformers=[('num',\n",
       "                                                  Pipeline(steps=[('imputer',\n",
       "                                                                   SimpleImputer(strategy='median')),\n",
       "                                                                  ('scaler',\n",
       "                                                                   StandardScaler())]),\n",
       "                                                  ['MSSubClass', 'LotFrontage',\n",
       "                                                   'LotArea', 'OverallQual',\n",
       "                                                   'OverallCond', 'YearBuilt',\n",
       "                                                   'YearRemodAdd', 'MasVnrArea',\n",
       "                                                   'BsmtFinSF1', 'BsmtFinSF2',\n",
       "                                                   'BsmtUnfSF', 'TotalBsmtSF',\n",
       "                                                   '1stFlrSF', '2ndFlrSF',\n",
       "                                                   'LowQual...\n",
       "                                                   'BsmtQual', 'BsmtCond',\n",
       "                                                   'BsmtExposure',\n",
       "                                                   'BsmtFinType1',\n",
       "                                                   'BsmtFinType2', 'Heating',\n",
       "                                                   'HeatingQC', 'CentralAir',\n",
       "                                                   'Electrical', 'KitchenQual',\n",
       "                                                   'Functional', 'FireplaceQu', ...]),\n",
       "                                                 ('high_cad_cat',\n",
       "                                                  Pipeline(steps=[('imputer',\n",
       "                                                                   SimpleImputer(strategy='constant')),\n",
       "                                                                  ('ordinal',\n",
       "                                                                   OrdinalEncoder())]),\n",
       "                                                  ['Neighborhood',\n",
       "                                                   'Exterior1st',\n",
       "                                                   'Exterior2nd'])])),\n",
       "                ('model', RandomForestRegressor(random_state=42))])</pre></div></div></div><div class=\"sk-serial\"><div class=\"sk-item sk-dashed-wrapped\"><div class=\"sk-label-container\"><div class=\"sk-label sk-toggleable\"><input class=\"sk-toggleable__control sk-hidden--visually\" id=\"ab05ad3c-10a6-429f-916e-fbf47780b039\" type=\"checkbox\" ><label class=\"sk-toggleable__label\" for=\"ab05ad3c-10a6-429f-916e-fbf47780b039\">preprocessor: ColumnTransformer</label><div class=\"sk-toggleable__content\"><pre>ColumnTransformer(transformers=[('num',\n",
       "                                 Pipeline(steps=[('imputer',\n",
       "                                                  SimpleImputer(strategy='median')),\n",
       "                                                 ('scaler', StandardScaler())]),\n",
       "                                 ['MSSubClass', 'LotFrontage', 'LotArea',\n",
       "                                  'OverallQual', 'OverallCond', 'YearBuilt',\n",
       "                                  'YearRemodAdd', 'MasVnrArea', 'BsmtFinSF1',\n",
       "                                  'BsmtFinSF2', 'BsmtUnfSF', 'TotalBsmtSF',\n",
       "                                  '1stFlrSF', '2ndFlrSF', 'LowQualFinSF',\n",
       "                                  'GrLivArea', 'BsmtFullBath...\n",
       "                                  'RoofMatl', 'MasVnrType', 'ExterQual',\n",
       "                                  'ExterCond', 'Foundation', 'BsmtQual',\n",
       "                                  'BsmtCond', 'BsmtExposure', 'BsmtFinType1',\n",
       "                                  'BsmtFinType2', 'Heating', 'HeatingQC',\n",
       "                                  'CentralAir', 'Electrical', 'KitchenQual',\n",
       "                                  'Functional', 'FireplaceQu', ...]),\n",
       "                                ('high_cad_cat',\n",
       "                                 Pipeline(steps=[('imputer',\n",
       "                                                  SimpleImputer(strategy='constant')),\n",
       "                                                 ('ordinal',\n",
       "                                                  OrdinalEncoder())]),\n",
       "                                 ['Neighborhood', 'Exterior1st',\n",
       "                                  'Exterior2nd'])])</pre></div></div></div><div class=\"sk-parallel\"><div class=\"sk-parallel-item\"><div class=\"sk-item\"><div class=\"sk-label-container\"><div class=\"sk-label sk-toggleable\"><input class=\"sk-toggleable__control sk-hidden--visually\" id=\"f13dc468-67d8-45f1-afec-f46f1c0115d0\" type=\"checkbox\" ><label class=\"sk-toggleable__label\" for=\"f13dc468-67d8-45f1-afec-f46f1c0115d0\">num</label><div class=\"sk-toggleable__content\"><pre>['MSSubClass', 'LotFrontage', 'LotArea', 'OverallQual', 'OverallCond', 'YearBuilt', 'YearRemodAdd', 'MasVnrArea', 'BsmtFinSF1', 'BsmtFinSF2', 'BsmtUnfSF', 'TotalBsmtSF', '1stFlrSF', '2ndFlrSF', 'LowQualFinSF', 'GrLivArea', 'BsmtFullBath', 'BsmtHalfBath', 'FullBath', 'HalfBath', 'BedroomAbvGr', 'KitchenAbvGr', 'TotRmsAbvGrd', 'Fireplaces', 'GarageYrBlt', 'GarageCars', 'GarageArea', 'WoodDeckSF', 'OpenPorchSF', 'EnclosedPorch', '3SsnPorch', 'ScreenPorch', 'PoolArea', 'MiscVal', 'MoSold', 'YrSold']</pre></div></div></div><div class=\"sk-serial\"><div class=\"sk-item\"><div class=\"sk-serial\"><div class=\"sk-item\"><div class=\"sk-estimator sk-toggleable\"><input class=\"sk-toggleable__control sk-hidden--visually\" id=\"f6bb737c-b28c-466a-bd6a-253331385cf1\" type=\"checkbox\" ><label class=\"sk-toggleable__label\" for=\"f6bb737c-b28c-466a-bd6a-253331385cf1\">SimpleImputer</label><div class=\"sk-toggleable__content\"><pre>SimpleImputer(strategy='median')</pre></div></div></div><div class=\"sk-item\"><div class=\"sk-estimator sk-toggleable\"><input class=\"sk-toggleable__control sk-hidden--visually\" id=\"953867d8-d1e3-4926-b285-dd11120fa72c\" type=\"checkbox\" ><label class=\"sk-toggleable__label\" for=\"953867d8-d1e3-4926-b285-dd11120fa72c\">StandardScaler</label><div class=\"sk-toggleable__content\"><pre>StandardScaler()</pre></div></div></div></div></div></div></div></div><div class=\"sk-parallel-item\"><div class=\"sk-item\"><div class=\"sk-label-container\"><div class=\"sk-label sk-toggleable\"><input class=\"sk-toggleable__control sk-hidden--visually\" id=\"3ad75d35-e69b-4214-a592-62892d8756ef\" type=\"checkbox\" ><label class=\"sk-toggleable__label\" for=\"3ad75d35-e69b-4214-a592-62892d8756ef\">low_cad_cat</label><div class=\"sk-toggleable__content\"><pre>['MSZoning', 'Street', 'Alley', 'LotShape', 'LandContour', 'Utilities', 'LotConfig', 'LandSlope', 'Condition1', 'Condition2', 'BldgType', 'HouseStyle', 'RoofStyle', 'RoofMatl', 'MasVnrType', 'ExterQual', 'ExterCond', 'Foundation', 'BsmtQual', 'BsmtCond', 'BsmtExposure', 'BsmtFinType1', 'BsmtFinType2', 'Heating', 'HeatingQC', 'CentralAir', 'Electrical', 'KitchenQual', 'Functional', 'FireplaceQu', 'GarageType', 'GarageFinish', 'GarageQual', 'GarageCond', 'PavedDrive', 'PoolQC', 'Fence', 'MiscFeature', 'SaleType', 'SaleCondition']</pre></div></div></div><div class=\"sk-serial\"><div class=\"sk-item\"><div class=\"sk-serial\"><div class=\"sk-item\"><div class=\"sk-estimator sk-toggleable\"><input class=\"sk-toggleable__control sk-hidden--visually\" id=\"94d78f3e-1390-4a60-9f85-ce24f5d4a5dd\" type=\"checkbox\" ><label class=\"sk-toggleable__label\" for=\"94d78f3e-1390-4a60-9f85-ce24f5d4a5dd\">SimpleImputer</label><div class=\"sk-toggleable__content\"><pre>SimpleImputer(strategy='constant')</pre></div></div></div><div class=\"sk-item\"><div class=\"sk-estimator sk-toggleable\"><input class=\"sk-toggleable__control sk-hidden--visually\" id=\"77f2cf9b-4458-4c8a-b20a-50257f784479\" type=\"checkbox\" ><label class=\"sk-toggleable__label\" for=\"77f2cf9b-4458-4c8a-b20a-50257f784479\">OneHotEncoder</label><div class=\"sk-toggleable__content\"><pre>OneHotEncoder(handle_unknown='ignore')</pre></div></div></div></div></div></div></div></div><div class=\"sk-parallel-item\"><div class=\"sk-item\"><div class=\"sk-label-container\"><div class=\"sk-label sk-toggleable\"><input class=\"sk-toggleable__control sk-hidden--visually\" id=\"553bbf71-0022-4ac2-88f8-810cde0d97bd\" type=\"checkbox\" ><label class=\"sk-toggleable__label\" for=\"553bbf71-0022-4ac2-88f8-810cde0d97bd\">high_cad_cat</label><div class=\"sk-toggleable__content\"><pre>['Neighborhood', 'Exterior1st', 'Exterior2nd']</pre></div></div></div><div class=\"sk-serial\"><div class=\"sk-item\"><div class=\"sk-serial\"><div class=\"sk-item\"><div class=\"sk-estimator sk-toggleable\"><input class=\"sk-toggleable__control sk-hidden--visually\" id=\"9e8cbeb8-7d92-4fb5-9296-65c4e8cb6784\" type=\"checkbox\" ><label class=\"sk-toggleable__label\" for=\"9e8cbeb8-7d92-4fb5-9296-65c4e8cb6784\">SimpleImputer</label><div class=\"sk-toggleable__content\"><pre>SimpleImputer(strategy='constant')</pre></div></div></div><div class=\"sk-item\"><div class=\"sk-estimator sk-toggleable\"><input class=\"sk-toggleable__control sk-hidden--visually\" id=\"287e62e6-2d4b-4699-9cc1-8bca054b62e5\" type=\"checkbox\" ><label class=\"sk-toggleable__label\" for=\"287e62e6-2d4b-4699-9cc1-8bca054b62e5\">OrdinalEncoder</label><div class=\"sk-toggleable__content\"><pre>OrdinalEncoder()</pre></div></div></div></div></div></div></div></div></div></div><div class=\"sk-item\"><div class=\"sk-estimator sk-toggleable\"><input class=\"sk-toggleable__control sk-hidden--visually\" id=\"0b43a4c2-a1ed-408e-8041-146eb433ab63\" type=\"checkbox\" ><label class=\"sk-toggleable__label\" for=\"0b43a4c2-a1ed-408e-8041-146eb433ab63\">RandomForestRegressor</label><div class=\"sk-toggleable__content\"><pre>RandomForestRegressor(random_state=42)</pre></div></div></div></div></div></div></div>"
      ],
      "text/plain": [
       "Pipeline(steps=[('preprocessor',\n",
       "                 ColumnTransformer(transformers=[('num',\n",
       "                                                  Pipeline(steps=[('imputer',\n",
       "                                                                   SimpleImputer(strategy='median')),\n",
       "                                                                  ('scaler',\n",
       "                                                                   StandardScaler())]),\n",
       "                                                  ['MSSubClass', 'LotFrontage',\n",
       "                                                   'LotArea', 'OverallQual',\n",
       "                                                   'OverallCond', 'YearBuilt',\n",
       "                                                   'YearRemodAdd', 'MasVnrArea',\n",
       "                                                   'BsmtFinSF1', 'BsmtFinSF2',\n",
       "                                                   'BsmtUnfSF', 'TotalBsmtSF',\n",
       "                                                   '1stFlrSF', '2ndFlrSF',\n",
       "                                                   'LowQual...\n",
       "                                                   'BsmtQual', 'BsmtCond',\n",
       "                                                   'BsmtExposure',\n",
       "                                                   'BsmtFinType1',\n",
       "                                                   'BsmtFinType2', 'Heating',\n",
       "                                                   'HeatingQC', 'CentralAir',\n",
       "                                                   'Electrical', 'KitchenQual',\n",
       "                                                   'Functional', 'FireplaceQu', ...]),\n",
       "                                                 ('high_cad_cat',\n",
       "                                                  Pipeline(steps=[('imputer',\n",
       "                                                                   SimpleImputer(strategy='constant')),\n",
       "                                                                  ('ordinal',\n",
       "                                                                   OrdinalEncoder())]),\n",
       "                                                  ['Neighborhood',\n",
       "                                                   'Exterior1st',\n",
       "                                                   'Exterior2nd'])])),\n",
       "                ('model', RandomForestRegressor(random_state=42))])"
      ]
     },
     "execution_count": 17,
     "metadata": {},
     "output_type": "execute_result"
    }
   ],
   "source": [
    "# Preprocessing of training data and then fit model \n",
    "pl.fit(dfl.X_train, dfl.y_train)"
   ]
  },
  {
   "cell_type": "code",
   "execution_count": 18,
   "id": "1dd7c811",
   "metadata": {},
   "outputs": [
    {
     "name": "stdout",
     "output_type": "stream",
     "text": [
      "X_valid MAE: 17735.8051369863\n"
     ]
    }
   ],
   "source": [
    "# Preprocessing of validation data and then get predictions\n",
    "preds = pl.predict(dfl.X_valid)\n",
    "\n",
    "print('X_valid MAE:', mean_absolute_error(dfl.y_valid, preds))"
   ]
  },
  {
   "cell_type": "code",
   "execution_count": 19,
   "id": "3b9aa318",
   "metadata": {},
   "outputs": [],
   "source": [
    "# X_valid MAE: 17582.46150684932"
   ]
  },
  {
   "cell_type": "code",
   "execution_count": 20,
   "id": "c4f91f6f",
   "metadata": {},
   "outputs": [
    {
     "name": "stdout",
     "output_type": "stream",
     "text": [
      "Converted 00_DataFrameLoader.ipynb.\n",
      "Converted 01_PreProcessor.ipynb.\n",
      "Converted 02_MLPipeline.ipynb.\n",
      "Converted 03_Tutorial.ipynb.\n",
      "Converted 04_Kaggle_TPS_Challenge_Nov_2021_XGB.ipynb.\n",
      "Converted 05_Kaggle_TPS_Challenge_Nov_2021_SCIKIT_LEARN.ipynb.\n",
      "Converted 06_Getting_Started_Kaggle_TPS_Challenge.ipynb.\n",
      "Converted index.ipynb.\n"
     ]
    }
   ],
   "source": [
    "# hide\n",
    "# run the script to build \n",
    "\n",
    "from nbdev.export import notebook2script; notebook2script()"
   ]
  },
  {
   "cell_type": "code",
   "execution_count": null,
   "id": "2a4a0f5b",
   "metadata": {},
   "outputs": [],
   "source": []
  }
 ],
 "metadata": {
  "kernelspec": {
   "display_name": "Python 3 (ipykernel)",
   "language": "python",
   "name": "python3"
  },
  "language_info": {
   "codemirror_mode": {
    "name": "ipython",
    "version": 3
   },
   "file_extension": ".py",
   "mimetype": "text/x-python",
   "name": "python",
   "nbconvert_exporter": "python",
   "pygments_lexer": "ipython3",
   "version": "3.9.7"
  }
 },
 "nbformat": 4,
 "nbformat_minor": 5
}
