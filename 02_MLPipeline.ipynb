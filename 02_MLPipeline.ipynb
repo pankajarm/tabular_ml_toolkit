{
 "cells": [
  {
   "cell_type": "code",
   "execution_count": null,
   "metadata": {},
   "outputs": [
    {
     "name": "stdout",
     "output_type": "stream",
     "text": [
      "The autoreload extension is already loaded. To reload it, use:\n",
      "  %reload_ext autoreload\n"
     ]
    }
   ],
   "source": [
    "%load_ext autoreload\n",
    "%autoreload 2"
   ]
  },
  {
   "cell_type": "code",
   "execution_count": null,
   "metadata": {},
   "outputs": [],
   "source": [
    "# default_exp MLPipeline"
   ]
  },
  {
   "cell_type": "markdown",
   "metadata": {},
   "source": [
    "# Training Pipeline\n",
    "\n",
    "> An API to create super fast training pipeline for machine learning models based on tabular or strucuture data\n",
    "\n",
    "> It comes with model parallelism and cutting edge hyperparameter tuning techniques."
   ]
  },
  {
   "cell_type": "code",
   "execution_count": null,
   "metadata": {},
   "outputs": [],
   "source": [
    "#hide\n",
    "from nbdev.showdoc import *\n",
    "from nbdev import *"
   ]
  },
  {
   "cell_type": "code",
   "execution_count": null,
   "metadata": {},
   "outputs": [],
   "source": [
    "# export\n",
    "from tabular_ml_toolkit.DataFrameLoader import *\n",
    "from tabular_ml_toolkit.PreProcessor import *\n",
    "from tabular_ml_toolkit.Logger import *"
   ]
  },
  {
   "cell_type": "code",
   "execution_count": null,
   "metadata": {},
   "outputs": [],
   "source": [
    "# export\n",
    "# hide\n",
    "import pandas as pd\n",
    "import numpy as np\n",
    "from sklearn.compose import ColumnTransformer\n",
    "from sklearn.pipeline import Pipeline\n",
    "from sklearn.impute import SimpleImputer\n",
    "from sklearn.preprocessing import OneHotEncoder, OrdinalEncoder, StandardScaler, MinMaxScaler\n",
    "from sklearn.ensemble import RandomForestRegressor\n",
    "from sklearn.metrics import mean_absolute_error, roc_auc_score,accuracy_score\n",
    "from sklearn.model_selection import cross_val_score, GridSearchCV, StratifiedKFold\n",
    "from tune_sklearn import TuneGridSearchCV\n",
    "\n",
    "\n",
    "# for displaying diagram of pipelines \n",
    "from sklearn import set_config\n",
    "set_config(display=\"diagram\")\n",
    "\n",
    "# for finding n_jobs in all sklearn estimators\n",
    "from sklearn.utils import all_estimators\n",
    "import inspect\n",
    "\n",
    "# Just to compare fit times\n",
    "import time\n",
    "\n",
    "# for os specific settings\n",
    "import os"
   ]
  },
  {
   "cell_type": "code",
   "execution_count": null,
   "metadata": {},
   "outputs": [],
   "source": [
    "# export\n",
    "\n",
    "class MLPipeline:\n",
    "    \"\"\"\n",
    "    Represent MLPipeline class\n",
    "    \n",
    "    Attributes:\\n\n",
    "    pipeline: An MLPipeline instance \\n\n",
    "    dfl: A DataFrameLoader instance \\n\n",
    "    pp: A PreProcessor Instance \\n\n",
    "    model: The given Model\n",
    "    \"\"\"\n",
    "\n",
    "    def __init__(self):\n",
    "        self.dfl = None\n",
    "        self.pp = None\n",
    "        self.model = None\n",
    "        self.spl = None\n",
    "        self.transformer_type = None\n",
    "        self.has_n_jobs = self.create_has_n_jobs()\n",
    "        self.IDEAL_CPU_CORES = self.find_ideal_cpu_cores()\n",
    "        \n",
    "    \n",
    "    def __str__(self):\n",
    "        \"\"\"Returns human readable string reprsentation\"\"\"\n",
    "        attr_str = (\"spl, dfl, pp, model\")\n",
    "        return (\"Training Pipeline object with attributes:\"+attr_str)\n",
    "    \n",
    "    def __repr__(self):\n",
    "        return self.__str__()\n",
    "\n",
    "    #helper method to find ideal cpu cores\n",
    "    def find_ideal_cpu_cores(self):\n",
    "        if os.cpu_count() > 2:\n",
    "            ideal_cpu_cores = os.cpu_count()-1\n",
    "            logger.info(f\"{os.cpu_count()} cores found, parallel processing is enabled!\")\n",
    "        else:\n",
    "            ideal_cpu_cores = None\n",
    "            logger.info(f\"{os.cpu_count()} cores found, parallel processing NOT enabled!\")\n",
    "        return ideal_cpu_cores\n",
    "    \n",
    "    #Helper method to find all sklearn estimators with support for parallelism aka n_jobs\n",
    "    def create_has_n_jobs(self):\n",
    "        self.has_n_jobs = ['XGBRegressor', 'XGBClassifier']\n",
    "        for est in all_estimators():\n",
    "            s = inspect.signature(est[1])\n",
    "            if 'n_jobs' in s.parameters:\n",
    "                self.has_n_jobs.append(est[0])\n",
    "        return self.has_n_jobs\n",
    "                \n",
    "    # core methods\n",
    "    \n",
    "    # Bundle preprocessing and modeling code in a training pipeline\n",
    "    def create_final_sklearn_pipeline(self, transformer_type, model):\n",
    "        self.spl = Pipeline(\n",
    "            steps=[('preprocessor', transformer_type),\n",
    "                   ('model', model)])\n",
    "        return self.spl\n",
    "    \n",
    "    # Core methods for Simple Training\n",
    "    def prepare_data_for_training(self, train_file_path:str,\n",
    "                                  test_file_path:str,\n",
    "                                  idx_col:str, target:str,\n",
    "                                  random_state:int,\n",
    "                                  model:object):\n",
    "        \n",
    "        # check if given model supports n_jobs aka cpu core based Parallelism\n",
    "        estimator_name = model.__class__.__name__\n",
    "        # print(estimator_name)\n",
    "        # print(self.has_n_jobs)\n",
    "        if estimator_name in self.has_n_jobs :\n",
    "            # In order to OS not to kill the job, leave one processor out \n",
    "            model.n_jobs = self.IDEAL_CPU_CORES\n",
    "            self.model = model\n",
    "        else:\n",
    "            print(f\"{estimator_name} doesn't support parallelism yet! Training will continue on a single thread.\")\n",
    "            self.model = model\n",
    "        \n",
    "        # call DataFrameLoader module\n",
    "        self.dfl = DataFrameLoader().from_csv(\n",
    "            train_file_path=train_file_path,\n",
    "            test_file_path=test_file_path,\n",
    "            idx_col=idx_col,\n",
    "            target=target,\n",
    "            random_state=random_state)\n",
    "        \n",
    "        # call PreProcessor module\n",
    "        self.pp = PreProcessor().preprocess_all_cols(dataframeloader=self.dfl)\n",
    "        \n",
    "        # call create final sklearn pipelien method\n",
    "        self.spl = self.create_final_sklearn_pipeline(transformer_type=self.pp.transformer_type,\n",
    "                                     model = model)\n",
    "        # return MLPipeline\n",
    "        return self\n",
    "    \n",
    "    # Force to update the preprocessor in pipeline\n",
    "    def update_preprocessor(self,\n",
    "                            num_cols__imputer=SimpleImputer(strategy='median'),\n",
    "                            num_cols__scaler=StandardScaler(),\n",
    "                            cat_cols__imputer=SimpleImputer(strategy='constant'),\n",
    "                            cat_cols__encoder=OneHotEncoder(handle_unknown='ignore')):\n",
    "        # change preprocessor\n",
    "        self.pp = PreProcessor().preprocess_all_cols(self.dfl,\n",
    "                                                     num_cols__imputer=num_cols__imputer,\n",
    "                                                     num_cols__scaler=num_cols__scaler,\n",
    "                                                     cat_cols__imputer=cat_cols__imputer,\n",
    "                                                     cat_cols__encoder=cat_cols__encoder)\n",
    "        # recall create final sklearn pipelien method\n",
    "        self.spl = self.create_final_sklearn_pipeline(transformer_type=self.pp.transformer_type,\n",
    "                                     model = self.model)\n",
    "        \n",
    "    \n",
    "    # Force to update the model in pipeline\n",
    "    def update_model(self, model:object):\n",
    "        #change model\n",
    "        self.model = model\n",
    "        # recall create final sklearn pipelien method\n",
    "        self.spl = self.create_final_sklearn_pipeline(transformer_type=self.pp.transformer_type,\n",
    "                                     model = self.model)\n",
    "    \n",
    "    # HELPER METHODS\n",
    "    # cross validation\n",
    "    def do_cross_validation(self, cv:int, scoring:str):\n",
    "        scores = cross_val_score(\n",
    "            estimator=self.spl,\n",
    "            X=self.dfl.X,\n",
    "            y=self.dfl.y,\n",
    "            scoring=scoring,\n",
    "            cv=cv)\n",
    "        # Multiply by -1 since sklearn calculates *negative* scoring for some of the metrics\n",
    "        if \"neg_\" in scoring:\n",
    "            scores = -1 * scores\n",
    "        return scores\n",
    "        \n",
    "    # Core methods for GridSearch\n",
    "    def do_grid_search(self, param_grid:object, cv:int,\n",
    "                       scoring:str, n_jobs=None):\n",
    "        \n",
    "        if n_jobs is None:\n",
    "            n_jobs = self.IDEAL_CPU_CORES\n",
    "        \n",
    "        # create GridSeachCV instance\n",
    "        grid_search = GridSearchCV(estimator=self.spl,\n",
    "                                   param_grid=param_grid,\n",
    "                                   cv=cv,\n",
    "                                   scoring=scoring,\n",
    "                                   n_jobs=n_jobs)\n",
    "        # now call fit\n",
    "        grid_search.fit(self.dfl.X, self.dfl.y)\n",
    "        return grid_search\n",
    "    \n",
    "    # Core methods for Tune SK-Learn GridSearch\n",
    "    def do_tune_grid_search(self,\n",
    "                            param_grid:object,\n",
    "                            scoring:str=None,\n",
    "                            mode:str='max',\n",
    "                            cv:int=5,\n",
    "                            early_stopping=True,\n",
    "                            time_budget_s:int=None,\n",
    "                            name:str=None,\n",
    "                            use_gpu:bool=False,\n",
    "                            stopper:object=None,\n",
    "                            max_iters:int=10,\n",
    "                            n_jobs=None):\n",
    "        \n",
    "        if n_jobs is None:\n",
    "            n_jobs = self.IDEAL_CPU_CORES\n",
    "        \n",
    "        # create GridSeachCV instance\n",
    "        tune_search = TuneGridSearchCV(\n",
    "            estimator=self.spl,\n",
    "            param_grid=param_grid,\n",
    "            scoring=scoring,\n",
    "            mode=mode,\n",
    "            cv=cv,\n",
    "            time_budget_s=time_budget_s,\n",
    "            name=name,\n",
    "            use_gpu=use_gpu,\n",
    "            early_stopping=early_stopping,\n",
    "            stopper=stopper,\n",
    "            max_iters=max_iters,\n",
    "            n_jobs=n_jobs,\n",
    "            pipeline_auto_early_stop=True)\n",
    "        \n",
    "        # now call fit\n",
    "        tune_search.fit(self.dfl.X, self.dfl.y)\n",
    "        return tune_search\n",
    "\n",
    "    \n",
    "    # do k-fold training\n",
    "    def do_k_fold_training(self, n_splits:int, metrics:object, random_state=42):\n",
    "        \n",
    "        #create stratified K Folds instance\n",
    "        k_fold = StratifiedKFold(n_splits=n_splits,\n",
    "                             random_state=random_state,\n",
    "                             shuffle=True)\n",
    "        \n",
    "        # list contains metrics score for each fold\n",
    "        metrics_score = []\n",
    "        n=0\n",
    "        for train_idx, valid_idx in k_fold.split(self.dfl.X, self.dfl.y):\n",
    "            # create X_train\n",
    "            self.dfl.X_train = self.dfl.X.iloc[train_idx]\n",
    "            # create X_valid\n",
    "            self.dfl.X_valid = self.dfl.X.iloc[valid_idx] \n",
    "            # create y_train\n",
    "            self.dfl.y_train = self.dfl.y.iloc[train_idx]\n",
    "            # create y_valid\n",
    "            self.dfl.y_valid = self.dfl.y.iloc[valid_idx]\n",
    "            \n",
    "            # fit\n",
    "            self.spl.fit(self.dfl.X_train, self.dfl.y_train)\n",
    "            \n",
    "            #evaluate metrics based upon input\n",
    "            if \"proba\" in metrics.__globals__:\n",
    "                metrics_score.append(metrics(self.dfl.y_valid,\n",
    "                                               self.spl.predict_proba(self.dfl.X_valid)[:,1]))\n",
    "            else:\n",
    "                metrics_score.append(metrics(self.dfl.y_valid,\n",
    "                                               self.spl.predict(self.dfl.X_valid)))\n",
    "            \n",
    "            print(f\"fold: {n+1} , {str(metrics.__name__)}: {metrics_score[n]}\")\n",
    "            # increment fold counter label\n",
    "            n += 1\n",
    "        return k_fold, metrics_score\n",
    "            \n",
    "    def do_k_fold_prediction(self, k_fold:object):\n",
    "        # create preds dataframe\n",
    "        preds = np.zeros(self.dfl.X_test.shape[0])\n",
    "        for _ in range(k_fold.n_splits):\n",
    "            # predict\n",
    "            preds += self.spl.predict(self.dfl.X_test) / k_fold.n_splits\n",
    "        return preds\n",
    "    \n",
    "    \n",
    "    # helper method for update_preprocessor\n",
    "    # to create params value dict from grid_search object\n",
    "    def get_preprocessor_best_params(self, grid_search_object:object):\n",
    "        pp_best_params = {}\n",
    "        for k in grid_search_object.best_params_:\n",
    "            #print(k)\n",
    "            if 'preprocessor' in k:\n",
    "                key = k.split('__')[1] + \"__\" + k.split('__')[2] \n",
    "                pp_best_params[key] = grid_search_object.best_params_[k]\n",
    "        return pp_best_params\n",
    "    \n",
    "    # helper method for update_model\n",
    "    # to create params value dict from grid_search object\n",
    "    def get_model_best_params(self, grid_search_object:object):\n",
    "        model_best_params = {}\n",
    "        for k in grid_search_object.best_params_:\n",
    "            #print(k)\n",
    "            if 'model' in k:\n",
    "                key = k.split('__')[1]\n",
    "                model_best_params[key] = grid_search_object.best_params_[k]\n",
    "        return model_best_params"
   ]
  },
  {
   "cell_type": "code",
   "execution_count": null,
   "metadata": {},
   "outputs": [
    {
     "data": {
      "text/markdown": [
       "<h2 id=\"MLPipeline\" class=\"doc_header\"><code>class</code> <code>MLPipeline</code><a href=\"\" class=\"source_link\" style=\"float:right\">[source]</a></h2>\n",
       "\n",
       "> <code>MLPipeline</code>()\n",
       "\n",
       "Represent MLPipeline class\n",
       "\n",
       "Attributes:\n",
       "\n",
       "pipeline: An MLPipeline instance \n",
       "\n",
       "dfl: A DataFrameLoader instance \n",
       "\n",
       "pp: A PreProcessor Instance \n",
       "\n",
       "model: The given Model"
      ],
      "text/plain": [
       "<IPython.core.display.Markdown object>"
      ]
     },
     "metadata": {},
     "output_type": "display_data"
    }
   ],
   "source": [
    "show_doc(MLPipeline)"
   ]
  },
  {
   "cell_type": "markdown",
   "metadata": {},
   "source": [
    "#### Build MLPipeline Class with House Data"
   ]
  },
  {
   "cell_type": "markdown",
   "metadata": {},
   "source": [
    "*You can use MLPipeline to train any model. Here we are using RandomForestRegressor from Scikit-Learn, on  [Melbourne Home Sale price data](https://www.kaggle.com/estrotococo/home-data-for-ml-course)*"
   ]
  },
  {
   "cell_type": "code",
   "execution_count": null,
   "metadata": {},
   "outputs": [],
   "source": [
    "#export\n",
    "# Dataset file names and Paths\n",
    "DIRECTORY_PATH = \"https://raw.githubusercontent.com/psmathur/tabular_ml_toolkit/master/input/home_data/\"\n",
    "TRAIN_FILE = \"train.csv\"\n",
    "TEST_FILE = \"test.csv\"\n",
    "SAMPLE_SUB_FILE = \"sample_submission.csv\""
   ]
  },
  {
   "cell_type": "code",
   "execution_count": null,
   "metadata": {},
   "outputs": [
    {
     "name": "stderr",
     "output_type": "stream",
     "text": [
      "2021-11-07 01:20:55,568 INFO 12 cores found, parallel processing is enabled!\n",
      "2021-11-07 01:20:56,093 INFO DataFrame Memory usage decreased to 0.58 Mb (35.5% reduction)\n",
      "2021-11-07 01:20:56,617 INFO DataFrame Memory usage decreased to 0.58 Mb (34.8% reduction)\n"
     ]
    }
   ],
   "source": [
    "#export\n",
    "# create scikit-learn ml model\n",
    "scikit_model = RandomForestRegressor(n_estimators=200, random_state=42)\n",
    "\n",
    "# createm ml pipeline for scikit-learn model\n",
    "tmlt = MLPipeline().prepare_data_for_training(\n",
    "    train_file_path= DIRECTORY_PATH+TRAIN_FILE,\n",
    "    test_file_path= DIRECTORY_PATH+TEST_FILE,\n",
    "    idx_col=\"Id\", target=\"SalePrice\",\n",
    "    model=scikit_model,\n",
    "    random_state=42)"
   ]
  },
  {
   "cell_type": "code",
   "execution_count": null,
   "metadata": {},
   "outputs": [
    {
     "data": {
      "text/markdown": [
       "<h4 id=\"MLPipeline.prepare_data_for_training\" class=\"doc_header\"><code>MLPipeline.prepare_data_for_training</code><a href=\"__main__.py#L61\" class=\"source_link\" style=\"float:right\">[source]</a></h4>\n",
       "\n",
       "> <code>MLPipeline.prepare_data_for_training</code>(**`train_file_path`**:`str`, **`test_file_path`**:`str`, **`idx_col`**:`str`, **`target`**:`str`, **`random_state`**:`int`, **`model`**:`object`)\n",
       "\n"
      ],
      "text/plain": [
       "<IPython.core.display.Markdown object>"
      ]
     },
     "metadata": {},
     "output_type": "display_data"
    }
   ],
   "source": [
    "show_doc(tmlt.prepare_data_for_training)"
   ]
  },
  {
   "cell_type": "code",
   "execution_count": null,
   "metadata": {},
   "outputs": [
    {
     "data": {
      "text/html": [
       "<style>#sk-9f3930ac-0d7f-4edd-985e-f9da8c3985a6 {color: black;background-color: white;}#sk-9f3930ac-0d7f-4edd-985e-f9da8c3985a6 pre{padding: 0;}#sk-9f3930ac-0d7f-4edd-985e-f9da8c3985a6 div.sk-toggleable {background-color: white;}#sk-9f3930ac-0d7f-4edd-985e-f9da8c3985a6 label.sk-toggleable__label {cursor: pointer;display: block;width: 100%;margin-bottom: 0;padding: 0.3em;box-sizing: border-box;text-align: center;}#sk-9f3930ac-0d7f-4edd-985e-f9da8c3985a6 div.sk-toggleable__content {max-height: 0;max-width: 0;overflow: hidden;text-align: left;background-color: #f0f8ff;}#sk-9f3930ac-0d7f-4edd-985e-f9da8c3985a6 div.sk-toggleable__content pre {margin: 0.2em;color: black;border-radius: 0.25em;background-color: #f0f8ff;}#sk-9f3930ac-0d7f-4edd-985e-f9da8c3985a6 input.sk-toggleable__control:checked~div.sk-toggleable__content {max-height: 200px;max-width: 100%;overflow: auto;}#sk-9f3930ac-0d7f-4edd-985e-f9da8c3985a6 div.sk-estimator input.sk-toggleable__control:checked~label.sk-toggleable__label {background-color: #d4ebff;}#sk-9f3930ac-0d7f-4edd-985e-f9da8c3985a6 div.sk-label input.sk-toggleable__control:checked~label.sk-toggleable__label {background-color: #d4ebff;}#sk-9f3930ac-0d7f-4edd-985e-f9da8c3985a6 input.sk-hidden--visually {border: 0;clip: rect(1px 1px 1px 1px);clip: rect(1px, 1px, 1px, 1px);height: 1px;margin: -1px;overflow: hidden;padding: 0;position: absolute;width: 1px;}#sk-9f3930ac-0d7f-4edd-985e-f9da8c3985a6 div.sk-estimator {font-family: monospace;background-color: #f0f8ff;border: 1px dotted black;border-radius: 0.25em;box-sizing: border-box;margin-bottom: 0.5em;}#sk-9f3930ac-0d7f-4edd-985e-f9da8c3985a6 div.sk-estimator:hover {background-color: #d4ebff;}#sk-9f3930ac-0d7f-4edd-985e-f9da8c3985a6 div.sk-parallel-item::after {content: \"\";width: 100%;border-bottom: 1px solid gray;flex-grow: 1;}#sk-9f3930ac-0d7f-4edd-985e-f9da8c3985a6 div.sk-label:hover label.sk-toggleable__label {background-color: #d4ebff;}#sk-9f3930ac-0d7f-4edd-985e-f9da8c3985a6 div.sk-serial::before {content: \"\";position: absolute;border-left: 1px solid gray;box-sizing: border-box;top: 2em;bottom: 0;left: 50%;}#sk-9f3930ac-0d7f-4edd-985e-f9da8c3985a6 div.sk-serial {display: flex;flex-direction: column;align-items: center;background-color: white;padding-right: 0.2em;padding-left: 0.2em;}#sk-9f3930ac-0d7f-4edd-985e-f9da8c3985a6 div.sk-item {z-index: 1;}#sk-9f3930ac-0d7f-4edd-985e-f9da8c3985a6 div.sk-parallel {display: flex;align-items: stretch;justify-content: center;background-color: white;}#sk-9f3930ac-0d7f-4edd-985e-f9da8c3985a6 div.sk-parallel::before {content: \"\";position: absolute;border-left: 1px solid gray;box-sizing: border-box;top: 2em;bottom: 0;left: 50%;}#sk-9f3930ac-0d7f-4edd-985e-f9da8c3985a6 div.sk-parallel-item {display: flex;flex-direction: column;position: relative;background-color: white;}#sk-9f3930ac-0d7f-4edd-985e-f9da8c3985a6 div.sk-parallel-item:first-child::after {align-self: flex-end;width: 50%;}#sk-9f3930ac-0d7f-4edd-985e-f9da8c3985a6 div.sk-parallel-item:last-child::after {align-self: flex-start;width: 50%;}#sk-9f3930ac-0d7f-4edd-985e-f9da8c3985a6 div.sk-parallel-item:only-child::after {width: 0;}#sk-9f3930ac-0d7f-4edd-985e-f9da8c3985a6 div.sk-dashed-wrapped {border: 1px dashed gray;margin: 0 0.4em 0.5em 0.4em;box-sizing: border-box;padding-bottom: 0.4em;background-color: white;position: relative;}#sk-9f3930ac-0d7f-4edd-985e-f9da8c3985a6 div.sk-label label {font-family: monospace;font-weight: bold;background-color: white;display: inline-block;line-height: 1.2em;}#sk-9f3930ac-0d7f-4edd-985e-f9da8c3985a6 div.sk-label-container {position: relative;z-index: 2;text-align: center;}#sk-9f3930ac-0d7f-4edd-985e-f9da8c3985a6 div.sk-container {display: inline-block;position: relative;}</style><div id=\"sk-9f3930ac-0d7f-4edd-985e-f9da8c3985a6\" class\"sk-top-container\"><div class=\"sk-container\"><div class=\"sk-item sk-dashed-wrapped\"><div class=\"sk-label-container\"><div class=\"sk-label sk-toggleable\"><input class=\"sk-toggleable__control sk-hidden--visually\" id=\"6370dd90-2e4f-4b35-9cb3-98ce8c9cf084\" type=\"checkbox\" ><label class=\"sk-toggleable__label\" for=\"6370dd90-2e4f-4b35-9cb3-98ce8c9cf084\">Pipeline</label><div class=\"sk-toggleable__content\"><pre>Pipeline(steps=[('preprocessor',\n",
       "                 ColumnTransformer(transformers=[('num_cols',\n",
       "                                                  Pipeline(steps=[('imputer',\n",
       "                                                                   SimpleImputer(strategy='median')),\n",
       "                                                                  ('scaler',\n",
       "                                                                   StandardScaler())]),\n",
       "                                                  ['MSSubClass', 'LotFrontage',\n",
       "                                                   'LotArea', 'OverallQual',\n",
       "                                                   'OverallCond', 'YearBuilt',\n",
       "                                                   'YearRemodAdd', 'MasVnrArea',\n",
       "                                                   'BsmtFinSF1', 'BsmtFinSF2',\n",
       "                                                   'BsmtUnfSF', 'TotalBsmtSF',\n",
       "                                                   '1stFlrSF', '2ndFlrSF',\n",
       "                                                   'Lo...\n",
       "                                                   'Condition1', 'Condition2',\n",
       "                                                   'BldgType', 'HouseStyle',\n",
       "                                                   'RoofStyle', 'RoofMatl',\n",
       "                                                   'MasVnrType', 'ExterQual',\n",
       "                                                   'ExterCond', 'Foundation',\n",
       "                                                   'BsmtQual', 'BsmtCond',\n",
       "                                                   'BsmtExposure',\n",
       "                                                   'BsmtFinType1',\n",
       "                                                   'BsmtFinType2', 'Heating',\n",
       "                                                   'HeatingQC', 'CentralAir',\n",
       "                                                   'Electrical', 'KitchenQual',\n",
       "                                                   'Functional', 'FireplaceQu', ...])])),\n",
       "                ('model',\n",
       "                 RandomForestRegressor(n_estimators=200, n_jobs=11,\n",
       "                                       random_state=42))])</pre></div></div></div><div class=\"sk-serial\"><div class=\"sk-item sk-dashed-wrapped\"><div class=\"sk-label-container\"><div class=\"sk-label sk-toggleable\"><input class=\"sk-toggleable__control sk-hidden--visually\" id=\"f1abb330-3fc9-4fe3-b3c1-bf985f84655d\" type=\"checkbox\" ><label class=\"sk-toggleable__label\" for=\"f1abb330-3fc9-4fe3-b3c1-bf985f84655d\">preprocessor: ColumnTransformer</label><div class=\"sk-toggleable__content\"><pre>ColumnTransformer(transformers=[('num_cols',\n",
       "                                 Pipeline(steps=[('imputer',\n",
       "                                                  SimpleImputer(strategy='median')),\n",
       "                                                 ('scaler', StandardScaler())]),\n",
       "                                 ['MSSubClass', 'LotFrontage', 'LotArea',\n",
       "                                  'OverallQual', 'OverallCond', 'YearBuilt',\n",
       "                                  'YearRemodAdd', 'MasVnrArea', 'BsmtFinSF1',\n",
       "                                  'BsmtFinSF2', 'BsmtUnfSF', 'TotalBsmtSF',\n",
       "                                  '1stFlrSF', '2ndFlrSF', 'LowQualFinSF',\n",
       "                                  'GrLivArea', 'BsmtFul...\n",
       "                                 ['MSZoning', 'Street', 'Alley', 'LotShape',\n",
       "                                  'LandContour', 'Utilities', 'LotConfig',\n",
       "                                  'LandSlope', 'Condition1', 'Condition2',\n",
       "                                  'BldgType', 'HouseStyle', 'RoofStyle',\n",
       "                                  'RoofMatl', 'MasVnrType', 'ExterQual',\n",
       "                                  'ExterCond', 'Foundation', 'BsmtQual',\n",
       "                                  'BsmtCond', 'BsmtExposure', 'BsmtFinType1',\n",
       "                                  'BsmtFinType2', 'Heating', 'HeatingQC',\n",
       "                                  'CentralAir', 'Electrical', 'KitchenQual',\n",
       "                                  'Functional', 'FireplaceQu', ...])])</pre></div></div></div><div class=\"sk-parallel\"><div class=\"sk-parallel-item\"><div class=\"sk-item\"><div class=\"sk-label-container\"><div class=\"sk-label sk-toggleable\"><input class=\"sk-toggleable__control sk-hidden--visually\" id=\"27995cb0-ca5e-4ae1-97c4-bdc24f76b78d\" type=\"checkbox\" ><label class=\"sk-toggleable__label\" for=\"27995cb0-ca5e-4ae1-97c4-bdc24f76b78d\">num_cols</label><div class=\"sk-toggleable__content\"><pre>['MSSubClass', 'LotFrontage', 'LotArea', 'OverallQual', 'OverallCond', 'YearBuilt', 'YearRemodAdd', 'MasVnrArea', 'BsmtFinSF1', 'BsmtFinSF2', 'BsmtUnfSF', 'TotalBsmtSF', '1stFlrSF', '2ndFlrSF', 'LowQualFinSF', 'GrLivArea', 'BsmtFullBath', 'BsmtHalfBath', 'FullBath', 'HalfBath', 'BedroomAbvGr', 'KitchenAbvGr', 'TotRmsAbvGrd', 'Fireplaces', 'GarageYrBlt', 'GarageCars', 'GarageArea', 'WoodDeckSF', 'OpenPorchSF', 'EnclosedPorch', '3SsnPorch', 'ScreenPorch', 'PoolArea', 'MiscVal', 'MoSold', 'YrSold']</pre></div></div></div><div class=\"sk-serial\"><div class=\"sk-item\"><div class=\"sk-serial\"><div class=\"sk-item\"><div class=\"sk-estimator sk-toggleable\"><input class=\"sk-toggleable__control sk-hidden--visually\" id=\"5da84862-d5f3-4c1a-aa45-279a756c6757\" type=\"checkbox\" ><label class=\"sk-toggleable__label\" for=\"5da84862-d5f3-4c1a-aa45-279a756c6757\">SimpleImputer</label><div class=\"sk-toggleable__content\"><pre>SimpleImputer(strategy='median')</pre></div></div></div><div class=\"sk-item\"><div class=\"sk-estimator sk-toggleable\"><input class=\"sk-toggleable__control sk-hidden--visually\" id=\"ac4422e1-e2ca-45c9-b0c5-73941c42a42a\" type=\"checkbox\" ><label class=\"sk-toggleable__label\" for=\"ac4422e1-e2ca-45c9-b0c5-73941c42a42a\">StandardScaler</label><div class=\"sk-toggleable__content\"><pre>StandardScaler()</pre></div></div></div></div></div></div></div></div><div class=\"sk-parallel-item\"><div class=\"sk-item\"><div class=\"sk-label-container\"><div class=\"sk-label sk-toggleable\"><input class=\"sk-toggleable__control sk-hidden--visually\" id=\"dc9d026b-66bb-43f6-b52c-7ac9b2e2c6a5\" type=\"checkbox\" ><label class=\"sk-toggleable__label\" for=\"dc9d026b-66bb-43f6-b52c-7ac9b2e2c6a5\">cat_cols</label><div class=\"sk-toggleable__content\"><pre>['MSZoning', 'Street', 'Alley', 'LotShape', 'LandContour', 'Utilities', 'LotConfig', 'LandSlope', 'Condition1', 'Condition2', 'BldgType', 'HouseStyle', 'RoofStyle', 'RoofMatl', 'MasVnrType', 'ExterQual', 'ExterCond', 'Foundation', 'BsmtQual', 'BsmtCond', 'BsmtExposure', 'BsmtFinType1', 'BsmtFinType2', 'Heating', 'HeatingQC', 'CentralAir', 'Electrical', 'KitchenQual', 'Functional', 'FireplaceQu', 'GarageType', 'GarageFinish', 'GarageQual', 'GarageCond', 'PavedDrive', 'PoolQC', 'Fence', 'MiscFeature', 'SaleType', 'SaleCondition', 'Neighborhood', 'Exterior1st', 'Exterior2nd']</pre></div></div></div><div class=\"sk-serial\"><div class=\"sk-item\"><div class=\"sk-serial\"><div class=\"sk-item\"><div class=\"sk-estimator sk-toggleable\"><input class=\"sk-toggleable__control sk-hidden--visually\" id=\"0123c70e-1543-41c9-a352-43d8d756a313\" type=\"checkbox\" ><label class=\"sk-toggleable__label\" for=\"0123c70e-1543-41c9-a352-43d8d756a313\">SimpleImputer</label><div class=\"sk-toggleable__content\"><pre>SimpleImputer(strategy='constant')</pre></div></div></div><div class=\"sk-item\"><div class=\"sk-estimator sk-toggleable\"><input class=\"sk-toggleable__control sk-hidden--visually\" id=\"caa472f8-3bdd-4c45-8379-40e56910c3cd\" type=\"checkbox\" ><label class=\"sk-toggleable__label\" for=\"caa472f8-3bdd-4c45-8379-40e56910c3cd\">OneHotEncoder</label><div class=\"sk-toggleable__content\"><pre>OneHotEncoder(handle_unknown='ignore')</pre></div></div></div></div></div></div></div></div></div></div><div class=\"sk-item\"><div class=\"sk-estimator sk-toggleable\"><input class=\"sk-toggleable__control sk-hidden--visually\" id=\"f0d7a407-5cc1-4717-a8b8-b91ba063d552\" type=\"checkbox\" ><label class=\"sk-toggleable__label\" for=\"f0d7a407-5cc1-4717-a8b8-b91ba063d552\">RandomForestRegressor</label><div class=\"sk-toggleable__content\"><pre>RandomForestRegressor(n_estimators=200, n_jobs=11, random_state=42)</pre></div></div></div></div></div></div></div>"
      ],
      "text/plain": [
       "Pipeline(steps=[('preprocessor',\n",
       "                 ColumnTransformer(transformers=[('num_cols',\n",
       "                                                  Pipeline(steps=[('imputer',\n",
       "                                                                   SimpleImputer(strategy='median')),\n",
       "                                                                  ('scaler',\n",
       "                                                                   StandardScaler())]),\n",
       "                                                  ['MSSubClass', 'LotFrontage',\n",
       "                                                   'LotArea', 'OverallQual',\n",
       "                                                   'OverallCond', 'YearBuilt',\n",
       "                                                   'YearRemodAdd', 'MasVnrArea',\n",
       "                                                   'BsmtFinSF1', 'BsmtFinSF2',\n",
       "                                                   'BsmtUnfSF', 'TotalBsmtSF',\n",
       "                                                   '1stFlrSF', '2ndFlrSF',\n",
       "                                                   'Lo...\n",
       "                                                   'Condition1', 'Condition2',\n",
       "                                                   'BldgType', 'HouseStyle',\n",
       "                                                   'RoofStyle', 'RoofMatl',\n",
       "                                                   'MasVnrType', 'ExterQual',\n",
       "                                                   'ExterCond', 'Foundation',\n",
       "                                                   'BsmtQual', 'BsmtCond',\n",
       "                                                   'BsmtExposure',\n",
       "                                                   'BsmtFinType1',\n",
       "                                                   'BsmtFinType2', 'Heating',\n",
       "                                                   'HeatingQC', 'CentralAir',\n",
       "                                                   'Electrical', 'KitchenQual',\n",
       "                                                   'Functional', 'FireplaceQu', ...])])),\n",
       "                ('model',\n",
       "                 RandomForestRegressor(n_estimators=200, n_jobs=11,\n",
       "                                       random_state=42))])"
      ]
     },
     "execution_count": null,
     "metadata": {},
     "output_type": "execute_result"
    }
   ],
   "source": [
    "tmlt.spl"
   ]
  },
  {
   "cell_type": "code",
   "execution_count": null,
   "metadata": {},
   "outputs": [],
   "source": [
    "tmlt.dfl.create_train_valid(valid_size=0.2)"
   ]
  },
  {
   "cell_type": "code",
   "execution_count": null,
   "metadata": {},
   "outputs": [
    {
     "data": {
      "text/markdown": [
       "<h4 id=\"DataFrameLoader.create_train_valid\" class=\"doc_header\"><code>DataFrameLoader.create_train_valid</code><a href=\"https://github.com/psmathur/tabular_ml_toolkit/tree/master/tabular_ml_toolkit/DataFrameLoader.py#L171\" class=\"source_link\" style=\"float:right\">[source]</a></h4>\n",
       "\n",
       "> <code>DataFrameLoader.create_train_valid</code>(**`valid_size`**:`float`, **`random_state`**=*`42`*)\n",
       "\n"
      ],
      "text/plain": [
       "<IPython.core.display.Markdown object>"
      ]
     },
     "metadata": {},
     "output_type": "display_data"
    }
   ],
   "source": [
    "show_doc(tmlt.dfl.create_train_valid)"
   ]
  },
  {
   "cell_type": "code",
   "execution_count": null,
   "metadata": {},
   "outputs": [
    {
     "name": "stdout",
     "output_type": "stream",
     "text": [
      "Fit Time: 1.9230971336364746\n",
      "X_valid MAE: 17483.238390410956\n"
     ]
    }
   ],
   "source": [
    "start = time.time()\n",
    "# Now fit\n",
    "tmlt.spl.fit(tmlt.dfl.X_train, tmlt.dfl.y_train)\n",
    "end = time.time()\n",
    "print(\"Fit Time:\", end - start)\n",
    "\n",
    "#predict\n",
    "preds = tmlt.spl.predict(tmlt.dfl.X_valid)\n",
    "print('X_valid MAE:', mean_absolute_error(tmlt.dfl.y_valid, preds))"
   ]
  },
  {
   "cell_type": "code",
   "execution_count": null,
   "metadata": {},
   "outputs": [
    {
     "data": {
      "text/markdown": [
       "<h4 id=\"Pipeline.fit\" class=\"doc_header\"><code>Pipeline.fit</code><a href=\"sklearn/pipeline.py#L363\" class=\"source_link\" style=\"float:right\">[source]</a></h4>\n",
       "\n",
       "> <code>Pipeline.fit</code>(**`X`**, **`y`**=*`None`*, **\\*\\*`fit_params`**)\n",
       "\n",
       "Fit the model.\n",
       "\n",
       "Fit all the transformers one after the other and transform the\n",
       "data. Finally, fit the transformed data using the final estimator.\n",
       "\n",
       "Parameters\n",
       "----------\n",
       "X : iterable\n",
       "    Training data. Must fulfill input requirements of first step of the\n",
       "    pipeline.\n",
       "\n",
       "y : iterable, default=None\n",
       "    Training targets. Must fulfill label requirements for all steps of\n",
       "    the pipeline.\n",
       "\n",
       "**fit_params : dict of string -> object\n",
       "    Parameters passed to the ``fit`` method of each step, where\n",
       "    each parameter name is prefixed such that parameter ``p`` for step\n",
       "    ``s`` has key ``s__p``.\n",
       "\n",
       "Returns\n",
       "-------\n",
       "self : object\n",
       "    Pipeline with fitted steps."
      ],
      "text/plain": [
       "<IPython.core.display.Markdown object>"
      ]
     },
     "metadata": {},
     "output_type": "display_data"
    }
   ],
   "source": [
    "show_doc(tmlt.spl.fit)"
   ]
  },
  {
   "cell_type": "code",
   "execution_count": null,
   "metadata": {},
   "outputs": [
    {
     "data": {
      "text/markdown": [
       "<h4 id=\"Pipeline.fit\" class=\"doc_header\"><code>Pipeline.fit</code><a href=\"sklearn/pipeline.py#L363\" class=\"source_link\" style=\"float:right\">[source]</a></h4>\n",
       "\n",
       "> <code>Pipeline.fit</code>(**`X`**, **`y`**=*`None`*, **\\*\\*`fit_params`**)\n",
       "\n",
       "Fit the model.\n",
       "\n",
       "Fit all the transformers one after the other and transform the\n",
       "data. Finally, fit the transformed data using the final estimator.\n",
       "\n",
       "Parameters\n",
       "----------\n",
       "X : iterable\n",
       "    Training data. Must fulfill input requirements of first step of the\n",
       "    pipeline.\n",
       "\n",
       "y : iterable, default=None\n",
       "    Training targets. Must fulfill label requirements for all steps of\n",
       "    the pipeline.\n",
       "\n",
       "**fit_params : dict of string -> object\n",
       "    Parameters passed to the ``fit`` method of each step, where\n",
       "    each parameter name is prefixed such that parameter ``p`` for step\n",
       "    ``s`` has key ``s__p``.\n",
       "\n",
       "Returns\n",
       "-------\n",
       "self : object\n",
       "    Pipeline with fitted steps."
      ],
      "text/plain": [
       "<IPython.core.display.Markdown object>"
      ]
     },
     "metadata": {},
     "output_type": "display_data"
    }
   ],
   "source": [
    "show_doc(tmlt.spl.fit)"
   ]
  },
  {
   "cell_type": "markdown",
   "metadata": {},
   "source": [
    "#### let's update the numerical columns scaler to MinMaxScaler from StandardScaler and see if score improves"
   ]
  },
  {
   "cell_type": "code",
   "execution_count": null,
   "metadata": {},
   "outputs": [
    {
     "data": {
      "text/markdown": [
       "<h4 id=\"MLPipeline.update_preprocessor\" class=\"doc_header\"><code>MLPipeline.update_preprocessor</code><a href=\"__main__.py#L97\" class=\"source_link\" style=\"float:right\">[source]</a></h4>\n",
       "\n",
       "> <code>MLPipeline.update_preprocessor</code>(**`num_cols__imputer`**=*`SimpleImputer(strategy='median')`*, **`num_cols__scaler`**=*`StandardScaler()`*, **`cat_cols__imputer`**=*`SimpleImputer(strategy='constant')`*, **`cat_cols__encoder`**=*`OneHotEncoder(handle_unknown='ignore')`*)\n",
       "\n"
      ],
      "text/plain": [
       "<IPython.core.display.Markdown object>"
      ]
     },
     "metadata": {},
     "output_type": "display_data"
    }
   ],
   "source": [
    "show_doc(tmlt.update_preprocessor)"
   ]
  },
  {
   "cell_type": "code",
   "execution_count": null,
   "metadata": {},
   "outputs": [],
   "source": [
    "tmlt.update_preprocessor(num_cols__scaler=MinMaxScaler())"
   ]
  },
  {
   "cell_type": "code",
   "execution_count": null,
   "metadata": {},
   "outputs": [
    {
     "data": {
      "text/html": [
       "<style>#sk-9b656882-96d0-4bb9-8456-974149877b32 {color: black;background-color: white;}#sk-9b656882-96d0-4bb9-8456-974149877b32 pre{padding: 0;}#sk-9b656882-96d0-4bb9-8456-974149877b32 div.sk-toggleable {background-color: white;}#sk-9b656882-96d0-4bb9-8456-974149877b32 label.sk-toggleable__label {cursor: pointer;display: block;width: 100%;margin-bottom: 0;padding: 0.3em;box-sizing: border-box;text-align: center;}#sk-9b656882-96d0-4bb9-8456-974149877b32 div.sk-toggleable__content {max-height: 0;max-width: 0;overflow: hidden;text-align: left;background-color: #f0f8ff;}#sk-9b656882-96d0-4bb9-8456-974149877b32 div.sk-toggleable__content pre {margin: 0.2em;color: black;border-radius: 0.25em;background-color: #f0f8ff;}#sk-9b656882-96d0-4bb9-8456-974149877b32 input.sk-toggleable__control:checked~div.sk-toggleable__content {max-height: 200px;max-width: 100%;overflow: auto;}#sk-9b656882-96d0-4bb9-8456-974149877b32 div.sk-estimator input.sk-toggleable__control:checked~label.sk-toggleable__label {background-color: #d4ebff;}#sk-9b656882-96d0-4bb9-8456-974149877b32 div.sk-label input.sk-toggleable__control:checked~label.sk-toggleable__label {background-color: #d4ebff;}#sk-9b656882-96d0-4bb9-8456-974149877b32 input.sk-hidden--visually {border: 0;clip: rect(1px 1px 1px 1px);clip: rect(1px, 1px, 1px, 1px);height: 1px;margin: -1px;overflow: hidden;padding: 0;position: absolute;width: 1px;}#sk-9b656882-96d0-4bb9-8456-974149877b32 div.sk-estimator {font-family: monospace;background-color: #f0f8ff;border: 1px dotted black;border-radius: 0.25em;box-sizing: border-box;margin-bottom: 0.5em;}#sk-9b656882-96d0-4bb9-8456-974149877b32 div.sk-estimator:hover {background-color: #d4ebff;}#sk-9b656882-96d0-4bb9-8456-974149877b32 div.sk-parallel-item::after {content: \"\";width: 100%;border-bottom: 1px solid gray;flex-grow: 1;}#sk-9b656882-96d0-4bb9-8456-974149877b32 div.sk-label:hover label.sk-toggleable__label {background-color: #d4ebff;}#sk-9b656882-96d0-4bb9-8456-974149877b32 div.sk-serial::before {content: \"\";position: absolute;border-left: 1px solid gray;box-sizing: border-box;top: 2em;bottom: 0;left: 50%;}#sk-9b656882-96d0-4bb9-8456-974149877b32 div.sk-serial {display: flex;flex-direction: column;align-items: center;background-color: white;padding-right: 0.2em;padding-left: 0.2em;}#sk-9b656882-96d0-4bb9-8456-974149877b32 div.sk-item {z-index: 1;}#sk-9b656882-96d0-4bb9-8456-974149877b32 div.sk-parallel {display: flex;align-items: stretch;justify-content: center;background-color: white;}#sk-9b656882-96d0-4bb9-8456-974149877b32 div.sk-parallel::before {content: \"\";position: absolute;border-left: 1px solid gray;box-sizing: border-box;top: 2em;bottom: 0;left: 50%;}#sk-9b656882-96d0-4bb9-8456-974149877b32 div.sk-parallel-item {display: flex;flex-direction: column;position: relative;background-color: white;}#sk-9b656882-96d0-4bb9-8456-974149877b32 div.sk-parallel-item:first-child::after {align-self: flex-end;width: 50%;}#sk-9b656882-96d0-4bb9-8456-974149877b32 div.sk-parallel-item:last-child::after {align-self: flex-start;width: 50%;}#sk-9b656882-96d0-4bb9-8456-974149877b32 div.sk-parallel-item:only-child::after {width: 0;}#sk-9b656882-96d0-4bb9-8456-974149877b32 div.sk-dashed-wrapped {border: 1px dashed gray;margin: 0 0.4em 0.5em 0.4em;box-sizing: border-box;padding-bottom: 0.4em;background-color: white;position: relative;}#sk-9b656882-96d0-4bb9-8456-974149877b32 div.sk-label label {font-family: monospace;font-weight: bold;background-color: white;display: inline-block;line-height: 1.2em;}#sk-9b656882-96d0-4bb9-8456-974149877b32 div.sk-label-container {position: relative;z-index: 2;text-align: center;}#sk-9b656882-96d0-4bb9-8456-974149877b32 div.sk-container {display: inline-block;position: relative;}</style><div id=\"sk-9b656882-96d0-4bb9-8456-974149877b32\" class\"sk-top-container\"><div class=\"sk-container\"><div class=\"sk-item sk-dashed-wrapped\"><div class=\"sk-label-container\"><div class=\"sk-label sk-toggleable\"><input class=\"sk-toggleable__control sk-hidden--visually\" id=\"464888af-99fe-4efc-9d2b-7ee0e4129d9b\" type=\"checkbox\" ><label class=\"sk-toggleable__label\" for=\"464888af-99fe-4efc-9d2b-7ee0e4129d9b\">Pipeline</label><div class=\"sk-toggleable__content\"><pre>Pipeline(steps=[('preprocessor',\n",
       "                 ColumnTransformer(transformers=[('num_cols',\n",
       "                                                  Pipeline(steps=[('imputer',\n",
       "                                                                   SimpleImputer(strategy='median')),\n",
       "                                                                  ('scaler',\n",
       "                                                                   MinMaxScaler())]),\n",
       "                                                  ['MSSubClass', 'LotFrontage',\n",
       "                                                   'LotArea', 'OverallQual',\n",
       "                                                   'OverallCond', 'YearBuilt',\n",
       "                                                   'YearRemodAdd', 'MasVnrArea',\n",
       "                                                   'BsmtFinSF1', 'BsmtFinSF2',\n",
       "                                                   'BsmtUnfSF', 'TotalBsmtSF',\n",
       "                                                   '1stFlrSF', '2ndFlrSF',\n",
       "                                                   'LowQ...\n",
       "                                                   'Condition1', 'Condition2',\n",
       "                                                   'BldgType', 'HouseStyle',\n",
       "                                                   'RoofStyle', 'RoofMatl',\n",
       "                                                   'MasVnrType', 'ExterQual',\n",
       "                                                   'ExterCond', 'Foundation',\n",
       "                                                   'BsmtQual', 'BsmtCond',\n",
       "                                                   'BsmtExposure',\n",
       "                                                   'BsmtFinType1',\n",
       "                                                   'BsmtFinType2', 'Heating',\n",
       "                                                   'HeatingQC', 'CentralAir',\n",
       "                                                   'Electrical', 'KitchenQual',\n",
       "                                                   'Functional', 'FireplaceQu', ...])])),\n",
       "                ('model',\n",
       "                 RandomForestRegressor(n_estimators=200, n_jobs=11,\n",
       "                                       random_state=42))])</pre></div></div></div><div class=\"sk-serial\"><div class=\"sk-item sk-dashed-wrapped\"><div class=\"sk-label-container\"><div class=\"sk-label sk-toggleable\"><input class=\"sk-toggleable__control sk-hidden--visually\" id=\"26af3944-afa0-4710-82a0-62d86965f00f\" type=\"checkbox\" ><label class=\"sk-toggleable__label\" for=\"26af3944-afa0-4710-82a0-62d86965f00f\">preprocessor: ColumnTransformer</label><div class=\"sk-toggleable__content\"><pre>ColumnTransformer(transformers=[('num_cols',\n",
       "                                 Pipeline(steps=[('imputer',\n",
       "                                                  SimpleImputer(strategy='median')),\n",
       "                                                 ('scaler', MinMaxScaler())]),\n",
       "                                 ['MSSubClass', 'LotFrontage', 'LotArea',\n",
       "                                  'OverallQual', 'OverallCond', 'YearBuilt',\n",
       "                                  'YearRemodAdd', 'MasVnrArea', 'BsmtFinSF1',\n",
       "                                  'BsmtFinSF2', 'BsmtUnfSF', 'TotalBsmtSF',\n",
       "                                  '1stFlrSF', '2ndFlrSF', 'LowQualFinSF',\n",
       "                                  'GrLivArea', 'BsmtFullB...\n",
       "                                 ['MSZoning', 'Street', 'Alley', 'LotShape',\n",
       "                                  'LandContour', 'Utilities', 'LotConfig',\n",
       "                                  'LandSlope', 'Condition1', 'Condition2',\n",
       "                                  'BldgType', 'HouseStyle', 'RoofStyle',\n",
       "                                  'RoofMatl', 'MasVnrType', 'ExterQual',\n",
       "                                  'ExterCond', 'Foundation', 'BsmtQual',\n",
       "                                  'BsmtCond', 'BsmtExposure', 'BsmtFinType1',\n",
       "                                  'BsmtFinType2', 'Heating', 'HeatingQC',\n",
       "                                  'CentralAir', 'Electrical', 'KitchenQual',\n",
       "                                  'Functional', 'FireplaceQu', ...])])</pre></div></div></div><div class=\"sk-parallel\"><div class=\"sk-parallel-item\"><div class=\"sk-item\"><div class=\"sk-label-container\"><div class=\"sk-label sk-toggleable\"><input class=\"sk-toggleable__control sk-hidden--visually\" id=\"59a37b14-2ab4-4849-a9eb-fa4b246c8e53\" type=\"checkbox\" ><label class=\"sk-toggleable__label\" for=\"59a37b14-2ab4-4849-a9eb-fa4b246c8e53\">num_cols</label><div class=\"sk-toggleable__content\"><pre>['MSSubClass', 'LotFrontage', 'LotArea', 'OverallQual', 'OverallCond', 'YearBuilt', 'YearRemodAdd', 'MasVnrArea', 'BsmtFinSF1', 'BsmtFinSF2', 'BsmtUnfSF', 'TotalBsmtSF', '1stFlrSF', '2ndFlrSF', 'LowQualFinSF', 'GrLivArea', 'BsmtFullBath', 'BsmtHalfBath', 'FullBath', 'HalfBath', 'BedroomAbvGr', 'KitchenAbvGr', 'TotRmsAbvGrd', 'Fireplaces', 'GarageYrBlt', 'GarageCars', 'GarageArea', 'WoodDeckSF', 'OpenPorchSF', 'EnclosedPorch', '3SsnPorch', 'ScreenPorch', 'PoolArea', 'MiscVal', 'MoSold', 'YrSold']</pre></div></div></div><div class=\"sk-serial\"><div class=\"sk-item\"><div class=\"sk-serial\"><div class=\"sk-item\"><div class=\"sk-estimator sk-toggleable\"><input class=\"sk-toggleable__control sk-hidden--visually\" id=\"4d02e0ce-5e43-4534-b62d-2fb0c9ca0388\" type=\"checkbox\" ><label class=\"sk-toggleable__label\" for=\"4d02e0ce-5e43-4534-b62d-2fb0c9ca0388\">SimpleImputer</label><div class=\"sk-toggleable__content\"><pre>SimpleImputer(strategy='median')</pre></div></div></div><div class=\"sk-item\"><div class=\"sk-estimator sk-toggleable\"><input class=\"sk-toggleable__control sk-hidden--visually\" id=\"464a1de8-8cdc-4cf3-b6c1-e6ba7bfb1655\" type=\"checkbox\" ><label class=\"sk-toggleable__label\" for=\"464a1de8-8cdc-4cf3-b6c1-e6ba7bfb1655\">MinMaxScaler</label><div class=\"sk-toggleable__content\"><pre>MinMaxScaler()</pre></div></div></div></div></div></div></div></div><div class=\"sk-parallel-item\"><div class=\"sk-item\"><div class=\"sk-label-container\"><div class=\"sk-label sk-toggleable\"><input class=\"sk-toggleable__control sk-hidden--visually\" id=\"9fba4a5b-2f8b-46ad-a2cf-e106909da31d\" type=\"checkbox\" ><label class=\"sk-toggleable__label\" for=\"9fba4a5b-2f8b-46ad-a2cf-e106909da31d\">cat_cols</label><div class=\"sk-toggleable__content\"><pre>['MSZoning', 'Street', 'Alley', 'LotShape', 'LandContour', 'Utilities', 'LotConfig', 'LandSlope', 'Condition1', 'Condition2', 'BldgType', 'HouseStyle', 'RoofStyle', 'RoofMatl', 'MasVnrType', 'ExterQual', 'ExterCond', 'Foundation', 'BsmtQual', 'BsmtCond', 'BsmtExposure', 'BsmtFinType1', 'BsmtFinType2', 'Heating', 'HeatingQC', 'CentralAir', 'Electrical', 'KitchenQual', 'Functional', 'FireplaceQu', 'GarageType', 'GarageFinish', 'GarageQual', 'GarageCond', 'PavedDrive', 'PoolQC', 'Fence', 'MiscFeature', 'SaleType', 'SaleCondition', 'Neighborhood', 'Exterior1st', 'Exterior2nd']</pre></div></div></div><div class=\"sk-serial\"><div class=\"sk-item\"><div class=\"sk-serial\"><div class=\"sk-item\"><div class=\"sk-estimator sk-toggleable\"><input class=\"sk-toggleable__control sk-hidden--visually\" id=\"6be49d7d-c59e-430c-a5f7-4ac438e3a987\" type=\"checkbox\" ><label class=\"sk-toggleable__label\" for=\"6be49d7d-c59e-430c-a5f7-4ac438e3a987\">SimpleImputer</label><div class=\"sk-toggleable__content\"><pre>SimpleImputer(strategy='constant')</pre></div></div></div><div class=\"sk-item\"><div class=\"sk-estimator sk-toggleable\"><input class=\"sk-toggleable__control sk-hidden--visually\" id=\"5763acbd-ab20-4bd7-82a9-f2de3aafae3e\" type=\"checkbox\" ><label class=\"sk-toggleable__label\" for=\"5763acbd-ab20-4bd7-82a9-f2de3aafae3e\">OneHotEncoder</label><div class=\"sk-toggleable__content\"><pre>OneHotEncoder(handle_unknown='ignore')</pre></div></div></div></div></div></div></div></div></div></div><div class=\"sk-item\"><div class=\"sk-estimator sk-toggleable\"><input class=\"sk-toggleable__control sk-hidden--visually\" id=\"7705560c-6c1a-4285-8838-615db4d21127\" type=\"checkbox\" ><label class=\"sk-toggleable__label\" for=\"7705560c-6c1a-4285-8838-615db4d21127\">RandomForestRegressor</label><div class=\"sk-toggleable__content\"><pre>RandomForestRegressor(n_estimators=200, n_jobs=11, random_state=42)</pre></div></div></div></div></div></div></div>"
      ],
      "text/plain": [
       "Pipeline(steps=[('preprocessor',\n",
       "                 ColumnTransformer(transformers=[('num_cols',\n",
       "                                                  Pipeline(steps=[('imputer',\n",
       "                                                                   SimpleImputer(strategy='median')),\n",
       "                                                                  ('scaler',\n",
       "                                                                   MinMaxScaler())]),\n",
       "                                                  ['MSSubClass', 'LotFrontage',\n",
       "                                                   'LotArea', 'OverallQual',\n",
       "                                                   'OverallCond', 'YearBuilt',\n",
       "                                                   'YearRemodAdd', 'MasVnrArea',\n",
       "                                                   'BsmtFinSF1', 'BsmtFinSF2',\n",
       "                                                   'BsmtUnfSF', 'TotalBsmtSF',\n",
       "                                                   '1stFlrSF', '2ndFlrSF',\n",
       "                                                   'LowQ...\n",
       "                                                   'Condition1', 'Condition2',\n",
       "                                                   'BldgType', 'HouseStyle',\n",
       "                                                   'RoofStyle', 'RoofMatl',\n",
       "                                                   'MasVnrType', 'ExterQual',\n",
       "                                                   'ExterCond', 'Foundation',\n",
       "                                                   'BsmtQual', 'BsmtCond',\n",
       "                                                   'BsmtExposure',\n",
       "                                                   'BsmtFinType1',\n",
       "                                                   'BsmtFinType2', 'Heating',\n",
       "                                                   'HeatingQC', 'CentralAir',\n",
       "                                                   'Electrical', 'KitchenQual',\n",
       "                                                   'Functional', 'FireplaceQu', ...])])),\n",
       "                ('model',\n",
       "                 RandomForestRegressor(n_estimators=200, n_jobs=11,\n",
       "                                       random_state=42))])"
      ]
     },
     "execution_count": null,
     "metadata": {},
     "output_type": "execute_result"
    }
   ],
   "source": [
    "# check the udpated pipeline\n",
    "tmlt.spl"
   ]
  },
  {
   "cell_type": "code",
   "execution_count": null,
   "metadata": {},
   "outputs": [
    {
     "name": "stdout",
     "output_type": "stream",
     "text": [
      "Fit Time: 1.8362841606140137\n",
      "X_valid MAE: 17464.29029109589\n"
     ]
    }
   ],
   "source": [
    "start = time.time()\n",
    "# Now fit\n",
    "tmlt.spl.fit(tmlt.dfl.X_train, tmlt.dfl.y_train)\n",
    "end = time.time()\n",
    "print(\"Fit Time:\", end - start)\n",
    "\n",
    "#predict\n",
    "preds = tmlt.spl.predict(tmlt.dfl.X_valid)\n",
    "print('X_valid MAE:', mean_absolute_error(tmlt.dfl.y_valid, preds))"
   ]
  },
  {
   "cell_type": "markdown",
   "metadata": {},
   "source": [
    "Indeed, the score did update, Depending upon your need, you can update numerical or categorical columns imputer too"
   ]
  },
  {
   "cell_type": "code",
   "execution_count": null,
   "metadata": {},
   "outputs": [
    {
     "name": "stdout",
     "output_type": "stream",
     "text": [
      "Converted 00_DataFrameLoader.ipynb.\n",
      "Converted 01_PreProcessor.ipynb.\n",
      "Converted 02_MLPipeline.ipynb.\n",
      "Converted 03_Tutorial.ipynb.\n",
      "Converted 07_Kaggle_TPS_Tutorial.ipynb.\n",
      "Converted Logger.ipynb.\n",
      "Converted index.ipynb.\n"
     ]
    }
   ],
   "source": [
    "# hide\n",
    "# run the script to build \n",
    "\n",
    "from nbdev.export import notebook2script; notebook2script()"
   ]
  },
  {
   "cell_type": "code",
   "execution_count": null,
   "metadata": {},
   "outputs": [],
   "source": []
  },
  {
   "cell_type": "code",
   "execution_count": null,
   "metadata": {},
   "outputs": [],
   "source": []
  }
 ],
 "metadata": {
  "kernelspec": {
   "display_name": "Python 3 (ipykernel)",
   "language": "python",
   "name": "python3"
  }
 },
 "nbformat": 4,
 "nbformat_minor": 2
}
