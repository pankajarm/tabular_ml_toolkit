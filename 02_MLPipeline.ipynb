{
 "cells": [
  {
   "cell_type": "code",
   "execution_count": null,
   "metadata": {},
   "outputs": [],
   "source": [
    "%load_ext autoreload\n",
    "%autoreload 2"
   ]
  },
  {
   "cell_type": "code",
   "execution_count": null,
   "metadata": {},
   "outputs": [],
   "source": [
    "# default_exp MLPipeline"
   ]
  },
  {
   "cell_type": "markdown",
   "metadata": {},
   "source": [
    "# Training Pipeline\n",
    "\n",
    "> An API to create super fast training pipeline for machine learning models based on tabular or strucuture data\n",
    "\n",
    "> It comes with model parallelism and cutting edge hyperparameter tuning techniques."
   ]
  },
  {
   "cell_type": "code",
   "execution_count": null,
   "metadata": {},
   "outputs": [],
   "source": [
    "#hide\n",
    "from nbdev.showdoc import *\n",
    "from nbdev import *"
   ]
  },
  {
   "cell_type": "code",
   "execution_count": null,
   "metadata": {},
   "outputs": [],
   "source": [
    "# export\n",
    "from tabular_ml_toolkit.DataFrameLoader import *\n",
    "from tabular_ml_toolkit.PreProcessor import *"
   ]
  },
  {
   "cell_type": "code",
   "execution_count": null,
   "metadata": {},
   "outputs": [],
   "source": [
    "# export\n",
    "# hide\n",
    "import pandas as pd\n",
    "import numpy as np\n",
    "from sklearn.compose import ColumnTransformer\n",
    "from sklearn.pipeline import Pipeline\n",
    "from sklearn.impute import SimpleImputer\n",
    "from sklearn.preprocessing import OneHotEncoder, OrdinalEncoder, StandardScaler, MinMaxScaler\n",
    "from sklearn.ensemble import RandomForestRegressor\n",
    "from sklearn.metrics import mean_absolute_error, roc_auc_score,accuracy_score\n",
    "from sklearn.model_selection import cross_val_score, GridSearchCV, StratifiedKFold\n",
    "from tune_sklearn import TuneGridSearchCV\n",
    "\n",
    "\n",
    "# for displaying diagram of pipelines \n",
    "from sklearn import set_config\n",
    "set_config(display=\"diagram\")\n",
    "\n",
    "# for finding n_jobs in all sklearn estimators\n",
    "from sklearn.utils import all_estimators\n",
    "import inspect\n",
    "\n",
    "# Just to compare fit times\n",
    "import time\n",
    "\n",
    "# for os specific settings\n",
    "import os"
   ]
  },
  {
   "cell_type": "code",
   "execution_count": null,
   "metadata": {},
   "outputs": [],
   "source": [
    "# export\n",
    "\n",
    "#Global variable\n",
    "\n",
    "IDEAL_CPU_CORES = os.cpu_count()-1\n",
    "\n",
    "class MLPipeline:\n",
    "    \"\"\"\n",
    "    Represent MLPipeline class\n",
    "    \n",
    "    Attributes:\\n\n",
    "    pipeline: An MLPipeline instance \\n\n",
    "    dfl: A DataFrameLoader instance \\n\n",
    "    pp: A PreProcessor Instance \\n\n",
    "    model: The given Model\n",
    "    \"\"\"\n",
    "\n",
    "    def __init__(self):\n",
    "        self.dfl = None\n",
    "        self.pp = None\n",
    "        self.model = None\n",
    "        self.spl = None\n",
    "        self.transformer_type = None\n",
    "        self.has_n_jobs = ['XGBRegressor', 'XGBClassifier']\n",
    "        self.create_has_n_jobs()\n",
    "    \n",
    "    def __str__(self):\n",
    "        \"\"\"Returns human readable string reprsentation\"\"\"\n",
    "        attr_str = (\"spl, dfl, pp, model\")\n",
    "        return (\"Training Pipeline object with attributes:\"+attr_str)\n",
    "    \n",
    "    def __repr__(self):\n",
    "        return self.__str__()\n",
    "\n",
    "    \n",
    "    # core methods\n",
    "    def create_has_n_jobs(self):\n",
    "        for est in all_estimators():\n",
    "            s = inspect.signature(est[1])\n",
    "            if 'n_jobs' in s.parameters:\n",
    "                self.has_n_jobs.append(est[0])\n",
    "    \n",
    "    # Bundle preprocessing and modeling code in a training pipeline\n",
    "    def bundle_preproessor_model(self, transformer_type, model):\n",
    "        self.spl = Pipeline(\n",
    "            steps=[('preprocessor', transformer_type),\n",
    "                   ('model', model)])\n",
    "    \n",
    "    # Core methods for Simple Training\n",
    "    def prepare_data_for_training(self, train_file_path:str,\n",
    "                                  test_file_path:str,\n",
    "                                  idx_col:str, target:str,\n",
    "                                  random_state:int,\n",
    "                                  model:object):\n",
    "        \n",
    "        # check if given model supports n_jobs aka cpu core based Parallelism\n",
    "        estimator_name = model.__class__.__name__\n",
    "        # print(estimator_name)\n",
    "        # print(self.has_n_jobs)\n",
    "        if estimator_name in self.has_n_jobs :\n",
    "            # In order to OS not to kill the job, leave one processor out \n",
    "            model.n_jobs = IDEAL_CPU_CORES\n",
    "            self.model = model\n",
    "        else:\n",
    "            print(f\"{estimator_name} doesn't support parallelism yet! Training will continue on a single thread.\")\n",
    "            self.model = model\n",
    "        \n",
    "        # call DataFrameLoader module\n",
    "        self.dfl = DataFrameLoader().from_csv(\n",
    "            train_file_path=train_file_path,\n",
    "            test_file_path=test_file_path,\n",
    "            idx_col=idx_col,\n",
    "            target=target,\n",
    "            random_state=random_state)\n",
    "        \n",
    "        # call PreProcessor module\n",
    "        self.pp = PreProcessor().preprocess_all_cols(dataframeloader=self.dfl)\n",
    "        \n",
    "        # call bundle method\n",
    "        self.bundle_preproessor_model(transformer_type=self.pp.transformer_type,\n",
    "                                     model = model)\n",
    "        return self\n",
    "    \n",
    "    # Force to update the preprocessor in pipeline\n",
    "    def update_preprocessor(self, num_imputer = SimpleImputer(strategy='median'),\n",
    "                            num_scaler = StandardScaler(),\n",
    "                            cat_imputer = SimpleImputer(strategy='constant')):\n",
    "        # change preprocessor\n",
    "        self.pp = PreProcessor().preprocess_all_cols(self.dfl,\n",
    "                                                     num_imputer=num_imputer,\n",
    "                                                     num_scaler=num_scaler,\n",
    "                                                     cat_imputer=cat_imputer)\n",
    "        # recall bundle method\n",
    "        self.bundle_preproessor_model(transformer_type=self.pp.transformer_type,\n",
    "                                     model = self.model)\n",
    "        \n",
    "    \n",
    "    # Force to update the model in pipeline\n",
    "    def update_model(self, model:object):\n",
    "        #change model\n",
    "        self.model = model\n",
    "        # recall bundle method\n",
    "        self.bundle_preproessor_model(transformer_type=self.pp.transformer_type,\n",
    "                                     model = model)\n",
    "    \n",
    "    \n",
    "    def do_cross_validation(self, cv:int, scoring:str):\n",
    "        scores = cross_val_score(\n",
    "            estimator=self.spl,\n",
    "            X=self.dfl.X,\n",
    "            y=self.dfl.y,\n",
    "            scoring=scoring,\n",
    "            cv=cv)\n",
    "        # Multiply by -1 since sklearn calculates *negative* scoring for some of the metrics\n",
    "        if \"neg_\" in scoring:\n",
    "            scores = -1 * scores\n",
    "        return scores\n",
    "        \n",
    "    # Core methods for GridSearch\n",
    "    def do_grid_search(self, param_grid:object, cv:int,\n",
    "                       scoring:str, n_jobs:int=IDEAL_CPU_CORES):\n",
    "        \n",
    "        # create GridSeachCV instance\n",
    "        grid_search = GridSearchCV(estimator=self.spl,\n",
    "                                   param_grid=param_grid,\n",
    "                                   cv=cv,\n",
    "                                   scoring=scoring,\n",
    "                                   n_jobs=n_jobs)\n",
    "        # now call fit\n",
    "        grid_search.fit(self.dfl.X, self.dfl.y)\n",
    "        return grid_search\n",
    "    \n",
    "    # Core methods for Tune SK-Learn GridSearch\n",
    "    def do_tune_grid_search(self,\n",
    "                            param_grid:object,\n",
    "                            scoring:str=None,\n",
    "                            mode:str='max',\n",
    "                            cv:int=5,\n",
    "                            early_stopping=True,\n",
    "                            time_budget_s:int=None,\n",
    "                            name:str=None,\n",
    "                            use_gpu:bool=False,\n",
    "                            stopper:object=None,\n",
    "                            max_iters:int=10,\n",
    "                            n_jobs:int=IDEAL_CPU_CORES):\n",
    "        \n",
    "        # create GridSeachCV instance\n",
    "        tune_search = TuneGridSearchCV(\n",
    "            estimator=self.spl,\n",
    "            param_grid=param_grid,\n",
    "            scoring=scoring,\n",
    "            mode=mode,\n",
    "            cv=cv,\n",
    "            time_budget_s=time_budget_s,\n",
    "            name=name,\n",
    "            use_gpu=use_gpu,\n",
    "            early_stopping=early_stopping,\n",
    "            stopper=stopper,\n",
    "            max_iters=max_iters,\n",
    "            n_jobs=n_jobs,\n",
    "            pipeline_auto_early_stop=True)\n",
    "        \n",
    "        # now call fit\n",
    "        tune_search.fit(self.dfl.X, self.dfl.y)\n",
    "        return tune_search\n",
    "\n",
    "    \n",
    "    # do k-fold training\n",
    "    def do_k_fold_training(self, n_splits:int, metrics:object, random_state=42):\n",
    "        \n",
    "        #create stratified K Folds instance\n",
    "        k_fold = StratifiedKFold(n_splits=n_splits,\n",
    "                             random_state=random_state,\n",
    "                             shuffle=True)\n",
    "        \n",
    "        # list contains metrics score for each fold\n",
    "        metrics_score = []\n",
    "        n=0\n",
    "        for train_idx, valid_idx in k_fold.split(self.dfl.X, self.dfl.y):\n",
    "            # create X_train\n",
    "            self.dfl.X_train = self.dfl.X.iloc[train_idx]\n",
    "            # create X_valid\n",
    "            self.dfl.X_valid = self.dfl.X.iloc[valid_idx] \n",
    "            # create y_train\n",
    "            self.dfl.y_train = self.dfl.y.iloc[train_idx]\n",
    "            # create y_valid\n",
    "            self.dfl.y_valid = self.dfl.y.iloc[valid_idx]\n",
    "            \n",
    "            # fit\n",
    "            self.spl.fit(self.dfl.X_train, self.dfl.y_train)\n",
    "            \n",
    "            #evaluate metrics based upon input\n",
    "            if \"proba\" in metrics.__globals__:\n",
    "                metrics_score.append(metrics(self.dfl.y_valid,\n",
    "                                               self.spl.predict_proba(self.dfl.X_valid)[:,1]))\n",
    "            else:\n",
    "                metrics_score.append(metrics(self.dfl.y_valid,\n",
    "                                               self.spl.predict(self.dfl.X_valid)))\n",
    "            \n",
    "            print(f\"fold: {n+1} , {str(metrics.__name__)}: {metrics_score[n]}\")\n",
    "            # increment fold counter label\n",
    "            n += 1\n",
    "        return k_fold, metrics_score\n",
    "            \n",
    "    def do_k_fold_prediction(self, k_fold:object):\n",
    "        # create preds dataframe\n",
    "        preds = np.zeros(self.dfl.X_test.shape[0])\n",
    "        for _ in range(k_fold.n_splits):\n",
    "            # predict\n",
    "            preds += self.spl.predict(self.dfl.X_test) / k_fold.n_splits\n",
    "        return preds"
   ]
  },
  {
   "cell_type": "code",
   "execution_count": null,
   "metadata": {},
   "outputs": [
    {
     "data": {
      "text/markdown": [
       "<h2 id=\"MLPipeline\" class=\"doc_header\"><code>class</code> <code>MLPipeline</code><a href=\"\" class=\"source_link\" style=\"float:right\">[source]</a></h2>\n",
       "\n",
       "> <code>MLPipeline</code>()\n",
       "\n",
       "Represent MLPipeline class\n",
       "\n",
       "Attributes:\n",
       "\n",
       "pipeline: An MLPipeline instance \n",
       "\n",
       "dfl: A DataFrameLoader instance \n",
       "\n",
       "pp: A PreProcessor Instance \n",
       "\n",
       "model: The given Model"
      ],
      "text/plain": [
       "<IPython.core.display.Markdown object>"
      ]
     },
     "metadata": {},
     "output_type": "display_data"
    }
   ],
   "source": [
    "show_doc(MLPipeline)"
   ]
  },
  {
   "cell_type": "markdown",
   "metadata": {},
   "source": [
    "#### Build MLPipeline Class with House Data"
   ]
  },
  {
   "cell_type": "markdown",
   "metadata": {},
   "source": [
    "*You can use MLPipeline to train any model. Here we are using RandomForestRegressor from Scikit-Learn, on  [Melbourne Home Sale price data](https://www.kaggle.com/estrotococo/home-data-for-ml-course)*"
   ]
  },
  {
   "cell_type": "code",
   "execution_count": null,
   "metadata": {},
   "outputs": [],
   "source": [
    "#export\n",
    "# Dataset file names and Paths\n",
    "DIRECTORY_PATH = \"https://raw.githubusercontent.com/psmathur/tabular_ml_toolkit/master/input/home_data/\"\n",
    "TRAIN_FILE = \"train.csv\"\n",
    "TEST_FILE = \"test.csv\"\n",
    "SAMPLE_SUB_FILE = \"sample_submission.csv\""
   ]
  },
  {
   "cell_type": "code",
   "execution_count": null,
   "metadata": {},
   "outputs": [],
   "source": [
    "#export\n",
    "# create scikit-learn ml model\n",
    "scikit_model = RandomForestRegressor(n_estimators=200, random_state=42)\n",
    "\n",
    "# createm ml pipeline for scikit-learn model\n",
    "tmlt = MLPipeline().prepare_data_for_training(\n",
    "    train_file_path= DIRECTORY_PATH+TRAIN_FILE,\n",
    "    test_file_path= DIRECTORY_PATH+TEST_FILE,\n",
    "    idx_col=\"Id\", target=\"SalePrice\",\n",
    "    model=scikit_model,\n",
    "    random_state=42)"
   ]
  },
  {
   "cell_type": "code",
   "execution_count": null,
   "metadata": {},
   "outputs": [
    {
     "data": {
      "text/markdown": [
       "<h4 id=\"MLPipeline.prepare_data_for_training\" class=\"doc_header\"><code>MLPipeline.prepare_data_for_training</code><a href=\"__main__.py#L50\" class=\"source_link\" style=\"float:right\">[source]</a></h4>\n",
       "\n",
       "> <code>MLPipeline.prepare_data_for_training</code>(**`train_file_path`**:`str`, **`test_file_path`**:`str`, **`idx_col`**:`str`, **`target`**:`str`, **`random_state`**:`int`, **`model`**:`object`)\n",
       "\n"
      ],
      "text/plain": [
       "<IPython.core.display.Markdown object>"
      ]
     },
     "metadata": {},
     "output_type": "display_data"
    }
   ],
   "source": [
    "show_doc(tmlt.prepare_data_for_training)"
   ]
  },
  {
   "cell_type": "code",
   "execution_count": null,
   "metadata": {},
   "outputs": [
    {
     "data": {
      "text/html": [
       "<style>#sk-c50e0bf9-191b-4f65-a92c-7b54a76f16d2 {color: black;background-color: white;}#sk-c50e0bf9-191b-4f65-a92c-7b54a76f16d2 pre{padding: 0;}#sk-c50e0bf9-191b-4f65-a92c-7b54a76f16d2 div.sk-toggleable {background-color: white;}#sk-c50e0bf9-191b-4f65-a92c-7b54a76f16d2 label.sk-toggleable__label {cursor: pointer;display: block;width: 100%;margin-bottom: 0;padding: 0.3em;box-sizing: border-box;text-align: center;}#sk-c50e0bf9-191b-4f65-a92c-7b54a76f16d2 div.sk-toggleable__content {max-height: 0;max-width: 0;overflow: hidden;text-align: left;background-color: #f0f8ff;}#sk-c50e0bf9-191b-4f65-a92c-7b54a76f16d2 div.sk-toggleable__content pre {margin: 0.2em;color: black;border-radius: 0.25em;background-color: #f0f8ff;}#sk-c50e0bf9-191b-4f65-a92c-7b54a76f16d2 input.sk-toggleable__control:checked~div.sk-toggleable__content {max-height: 200px;max-width: 100%;overflow: auto;}#sk-c50e0bf9-191b-4f65-a92c-7b54a76f16d2 div.sk-estimator input.sk-toggleable__control:checked~label.sk-toggleable__label {background-color: #d4ebff;}#sk-c50e0bf9-191b-4f65-a92c-7b54a76f16d2 div.sk-label input.sk-toggleable__control:checked~label.sk-toggleable__label {background-color: #d4ebff;}#sk-c50e0bf9-191b-4f65-a92c-7b54a76f16d2 input.sk-hidden--visually {border: 0;clip: rect(1px 1px 1px 1px);clip: rect(1px, 1px, 1px, 1px);height: 1px;margin: -1px;overflow: hidden;padding: 0;position: absolute;width: 1px;}#sk-c50e0bf9-191b-4f65-a92c-7b54a76f16d2 div.sk-estimator {font-family: monospace;background-color: #f0f8ff;border: 1px dotted black;border-radius: 0.25em;box-sizing: border-box;margin-bottom: 0.5em;}#sk-c50e0bf9-191b-4f65-a92c-7b54a76f16d2 div.sk-estimator:hover {background-color: #d4ebff;}#sk-c50e0bf9-191b-4f65-a92c-7b54a76f16d2 div.sk-parallel-item::after {content: \"\";width: 100%;border-bottom: 1px solid gray;flex-grow: 1;}#sk-c50e0bf9-191b-4f65-a92c-7b54a76f16d2 div.sk-label:hover label.sk-toggleable__label {background-color: #d4ebff;}#sk-c50e0bf9-191b-4f65-a92c-7b54a76f16d2 div.sk-serial::before {content: \"\";position: absolute;border-left: 1px solid gray;box-sizing: border-box;top: 2em;bottom: 0;left: 50%;}#sk-c50e0bf9-191b-4f65-a92c-7b54a76f16d2 div.sk-serial {display: flex;flex-direction: column;align-items: center;background-color: white;padding-right: 0.2em;padding-left: 0.2em;}#sk-c50e0bf9-191b-4f65-a92c-7b54a76f16d2 div.sk-item {z-index: 1;}#sk-c50e0bf9-191b-4f65-a92c-7b54a76f16d2 div.sk-parallel {display: flex;align-items: stretch;justify-content: center;background-color: white;}#sk-c50e0bf9-191b-4f65-a92c-7b54a76f16d2 div.sk-parallel::before {content: \"\";position: absolute;border-left: 1px solid gray;box-sizing: border-box;top: 2em;bottom: 0;left: 50%;}#sk-c50e0bf9-191b-4f65-a92c-7b54a76f16d2 div.sk-parallel-item {display: flex;flex-direction: column;position: relative;background-color: white;}#sk-c50e0bf9-191b-4f65-a92c-7b54a76f16d2 div.sk-parallel-item:first-child::after {align-self: flex-end;width: 50%;}#sk-c50e0bf9-191b-4f65-a92c-7b54a76f16d2 div.sk-parallel-item:last-child::after {align-self: flex-start;width: 50%;}#sk-c50e0bf9-191b-4f65-a92c-7b54a76f16d2 div.sk-parallel-item:only-child::after {width: 0;}#sk-c50e0bf9-191b-4f65-a92c-7b54a76f16d2 div.sk-dashed-wrapped {border: 1px dashed gray;margin: 0 0.4em 0.5em 0.4em;box-sizing: border-box;padding-bottom: 0.4em;background-color: white;position: relative;}#sk-c50e0bf9-191b-4f65-a92c-7b54a76f16d2 div.sk-label label {font-family: monospace;font-weight: bold;background-color: white;display: inline-block;line-height: 1.2em;}#sk-c50e0bf9-191b-4f65-a92c-7b54a76f16d2 div.sk-label-container {position: relative;z-index: 2;text-align: center;}#sk-c50e0bf9-191b-4f65-a92c-7b54a76f16d2 div.sk-container {display: inline-block;position: relative;}</style><div id=\"sk-c50e0bf9-191b-4f65-a92c-7b54a76f16d2\" class\"sk-top-container\"><div class=\"sk-container\"><div class=\"sk-item sk-dashed-wrapped\"><div class=\"sk-label-container\"><div class=\"sk-label sk-toggleable\"><input class=\"sk-toggleable__control sk-hidden--visually\" id=\"6d7d64ae-d70f-4745-b9be-987b4c559667\" type=\"checkbox\" ><label class=\"sk-toggleable__label\" for=\"6d7d64ae-d70f-4745-b9be-987b4c559667\">Pipeline</label><div class=\"sk-toggleable__content\"><pre>Pipeline(steps=[('preprocessor',\n",
       "                 ColumnTransformer(transformers=[('num_cols',\n",
       "                                                  Pipeline(steps=[('imputer',\n",
       "                                                                   SimpleImputer(strategy='median')),\n",
       "                                                                  ('scaler',\n",
       "                                                                   StandardScaler())]),\n",
       "                                                  ['MSSubClass', 'LotFrontage',\n",
       "                                                   'LotArea', 'OverallQual',\n",
       "                                                   'OverallCond', 'YearBuilt',\n",
       "                                                   'YearRemodAdd', 'MasVnrArea',\n",
       "                                                   'BsmtFinSF1', 'BsmtFinSF2',\n",
       "                                                   'BsmtUnfSF', 'TotalBsmtSF',\n",
       "                                                   '1stFlrSF', '2ndFlrSF',\n",
       "                                                   'Lo...\n",
       "                                                   'BsmtFinType2', 'Heating',\n",
       "                                                   'HeatingQC', 'CentralAir',\n",
       "                                                   'Electrical', 'KitchenQual',\n",
       "                                                   'Functional', 'FireplaceQu', ...]),\n",
       "                                                 ('high_card_cat_cols',\n",
       "                                                  Pipeline(steps=[('imputer',\n",
       "                                                                   SimpleImputer(strategy='constant')),\n",
       "                                                                  ('onehot',\n",
       "                                                                   OneHotEncoder(handle_unknown='ignore'))]),\n",
       "                                                  ['Neighborhood',\n",
       "                                                   'Exterior1st',\n",
       "                                                   'Exterior2nd'])])),\n",
       "                ('model',\n",
       "                 RandomForestRegressor(n_estimators=200, n_jobs=11,\n",
       "                                       random_state=42))])</pre></div></div></div><div class=\"sk-serial\"><div class=\"sk-item sk-dashed-wrapped\"><div class=\"sk-label-container\"><div class=\"sk-label sk-toggleable\"><input class=\"sk-toggleable__control sk-hidden--visually\" id=\"9317b294-8c3d-4942-b08f-b4a839b9a6dc\" type=\"checkbox\" ><label class=\"sk-toggleable__label\" for=\"9317b294-8c3d-4942-b08f-b4a839b9a6dc\">preprocessor: ColumnTransformer</label><div class=\"sk-toggleable__content\"><pre>ColumnTransformer(transformers=[('num_cols',\n",
       "                                 Pipeline(steps=[('imputer',\n",
       "                                                  SimpleImputer(strategy='median')),\n",
       "                                                 ('scaler', StandardScaler())]),\n",
       "                                 ['MSSubClass', 'LotFrontage', 'LotArea',\n",
       "                                  'OverallQual', 'OverallCond', 'YearBuilt',\n",
       "                                  'YearRemodAdd', 'MasVnrArea', 'BsmtFinSF1',\n",
       "                                  'BsmtFinSF2', 'BsmtUnfSF', 'TotalBsmtSF',\n",
       "                                  '1stFlrSF', '2ndFlrSF', 'LowQualFinSF',\n",
       "                                  'GrLivArea', 'BsmtFul...\n",
       "                                  'ExterCond', 'Foundation', 'BsmtQual',\n",
       "                                  'BsmtCond', 'BsmtExposure', 'BsmtFinType1',\n",
       "                                  'BsmtFinType2', 'Heating', 'HeatingQC',\n",
       "                                  'CentralAir', 'Electrical', 'KitchenQual',\n",
       "                                  'Functional', 'FireplaceQu', ...]),\n",
       "                                ('high_card_cat_cols',\n",
       "                                 Pipeline(steps=[('imputer',\n",
       "                                                  SimpleImputer(strategy='constant')),\n",
       "                                                 ('onehot',\n",
       "                                                  OneHotEncoder(handle_unknown='ignore'))]),\n",
       "                                 ['Neighborhood', 'Exterior1st',\n",
       "                                  'Exterior2nd'])])</pre></div></div></div><div class=\"sk-parallel\"><div class=\"sk-parallel-item\"><div class=\"sk-item\"><div class=\"sk-label-container\"><div class=\"sk-label sk-toggleable\"><input class=\"sk-toggleable__control sk-hidden--visually\" id=\"ce950026-00ef-4c70-879d-187b59ce2b16\" type=\"checkbox\" ><label class=\"sk-toggleable__label\" for=\"ce950026-00ef-4c70-879d-187b59ce2b16\">num_cols</label><div class=\"sk-toggleable__content\"><pre>['MSSubClass', 'LotFrontage', 'LotArea', 'OverallQual', 'OverallCond', 'YearBuilt', 'YearRemodAdd', 'MasVnrArea', 'BsmtFinSF1', 'BsmtFinSF2', 'BsmtUnfSF', 'TotalBsmtSF', '1stFlrSF', '2ndFlrSF', 'LowQualFinSF', 'GrLivArea', 'BsmtFullBath', 'BsmtHalfBath', 'FullBath', 'HalfBath', 'BedroomAbvGr', 'KitchenAbvGr', 'TotRmsAbvGrd', 'Fireplaces', 'GarageYrBlt', 'GarageCars', 'GarageArea', 'WoodDeckSF', 'OpenPorchSF', 'EnclosedPorch', '3SsnPorch', 'ScreenPorch', 'PoolArea', 'MiscVal', 'MoSold', 'YrSold']</pre></div></div></div><div class=\"sk-serial\"><div class=\"sk-item\"><div class=\"sk-serial\"><div class=\"sk-item\"><div class=\"sk-estimator sk-toggleable\"><input class=\"sk-toggleable__control sk-hidden--visually\" id=\"49b95ba4-9e5b-4aa1-ae65-3de139a391b2\" type=\"checkbox\" ><label class=\"sk-toggleable__label\" for=\"49b95ba4-9e5b-4aa1-ae65-3de139a391b2\">SimpleImputer</label><div class=\"sk-toggleable__content\"><pre>SimpleImputer(strategy='median')</pre></div></div></div><div class=\"sk-item\"><div class=\"sk-estimator sk-toggleable\"><input class=\"sk-toggleable__control sk-hidden--visually\" id=\"e8e3f3b2-59b7-4e83-a4a3-de6a4c31ae2b\" type=\"checkbox\" ><label class=\"sk-toggleable__label\" for=\"e8e3f3b2-59b7-4e83-a4a3-de6a4c31ae2b\">StandardScaler</label><div class=\"sk-toggleable__content\"><pre>StandardScaler()</pre></div></div></div></div></div></div></div></div><div class=\"sk-parallel-item\"><div class=\"sk-item\"><div class=\"sk-label-container\"><div class=\"sk-label sk-toggleable\"><input class=\"sk-toggleable__control sk-hidden--visually\" id=\"faa403f9-7c1b-4c8c-9849-59ae28d01bfb\" type=\"checkbox\" ><label class=\"sk-toggleable__label\" for=\"faa403f9-7c1b-4c8c-9849-59ae28d01bfb\">low_card_cat_cols</label><div class=\"sk-toggleable__content\"><pre>['MSZoning', 'Street', 'Alley', 'LotShape', 'LandContour', 'Utilities', 'LotConfig', 'LandSlope', 'Condition1', 'Condition2', 'BldgType', 'HouseStyle', 'RoofStyle', 'RoofMatl', 'MasVnrType', 'ExterQual', 'ExterCond', 'Foundation', 'BsmtQual', 'BsmtCond', 'BsmtExposure', 'BsmtFinType1', 'BsmtFinType2', 'Heating', 'HeatingQC', 'CentralAir', 'Electrical', 'KitchenQual', 'Functional', 'FireplaceQu', 'GarageType', 'GarageFinish', 'GarageQual', 'GarageCond', 'PavedDrive', 'PoolQC', 'Fence', 'MiscFeature', 'SaleType', 'SaleCondition']</pre></div></div></div><div class=\"sk-serial\"><div class=\"sk-item\"><div class=\"sk-serial\"><div class=\"sk-item\"><div class=\"sk-estimator sk-toggleable\"><input class=\"sk-toggleable__control sk-hidden--visually\" id=\"da953ca5-ffc8-420a-bbce-8fc4986fedb4\" type=\"checkbox\" ><label class=\"sk-toggleable__label\" for=\"da953ca5-ffc8-420a-bbce-8fc4986fedb4\">SimpleImputer</label><div class=\"sk-toggleable__content\"><pre>SimpleImputer(strategy='constant')</pre></div></div></div><div class=\"sk-item\"><div class=\"sk-estimator sk-toggleable\"><input class=\"sk-toggleable__control sk-hidden--visually\" id=\"a994615b-0f41-42e6-b63d-65718be52353\" type=\"checkbox\" ><label class=\"sk-toggleable__label\" for=\"a994615b-0f41-42e6-b63d-65718be52353\">OneHotEncoder</label><div class=\"sk-toggleable__content\"><pre>OneHotEncoder(handle_unknown='ignore')</pre></div></div></div></div></div></div></div></div><div class=\"sk-parallel-item\"><div class=\"sk-item\"><div class=\"sk-label-container\"><div class=\"sk-label sk-toggleable\"><input class=\"sk-toggleable__control sk-hidden--visually\" id=\"dc063767-981f-4283-a242-d0556e8ac85b\" type=\"checkbox\" ><label class=\"sk-toggleable__label\" for=\"dc063767-981f-4283-a242-d0556e8ac85b\">high_card_cat_cols</label><div class=\"sk-toggleable__content\"><pre>['Neighborhood', 'Exterior1st', 'Exterior2nd']</pre></div></div></div><div class=\"sk-serial\"><div class=\"sk-item\"><div class=\"sk-serial\"><div class=\"sk-item\"><div class=\"sk-estimator sk-toggleable\"><input class=\"sk-toggleable__control sk-hidden--visually\" id=\"9d364597-0499-43b0-ae8e-ebd733b23ba3\" type=\"checkbox\" ><label class=\"sk-toggleable__label\" for=\"9d364597-0499-43b0-ae8e-ebd733b23ba3\">SimpleImputer</label><div class=\"sk-toggleable__content\"><pre>SimpleImputer(strategy='constant')</pre></div></div></div><div class=\"sk-item\"><div class=\"sk-estimator sk-toggleable\"><input class=\"sk-toggleable__control sk-hidden--visually\" id=\"5efc6804-093f-4323-a42f-de489dba869b\" type=\"checkbox\" ><label class=\"sk-toggleable__label\" for=\"5efc6804-093f-4323-a42f-de489dba869b\">OneHotEncoder</label><div class=\"sk-toggleable__content\"><pre>OneHotEncoder(handle_unknown='ignore')</pre></div></div></div></div></div></div></div></div></div></div><div class=\"sk-item\"><div class=\"sk-estimator sk-toggleable\"><input class=\"sk-toggleable__control sk-hidden--visually\" id=\"a89ad0f6-d6ea-4af2-a249-4d403e262f0a\" type=\"checkbox\" ><label class=\"sk-toggleable__label\" for=\"a89ad0f6-d6ea-4af2-a249-4d403e262f0a\">RandomForestRegressor</label><div class=\"sk-toggleable__content\"><pre>RandomForestRegressor(n_estimators=200, n_jobs=11, random_state=42)</pre></div></div></div></div></div></div></div>"
      ],
      "text/plain": [
       "Pipeline(steps=[('preprocessor',\n",
       "                 ColumnTransformer(transformers=[('num_cols',\n",
       "                                                  Pipeline(steps=[('imputer',\n",
       "                                                                   SimpleImputer(strategy='median')),\n",
       "                                                                  ('scaler',\n",
       "                                                                   StandardScaler())]),\n",
       "                                                  ['MSSubClass', 'LotFrontage',\n",
       "                                                   'LotArea', 'OverallQual',\n",
       "                                                   'OverallCond', 'YearBuilt',\n",
       "                                                   'YearRemodAdd', 'MasVnrArea',\n",
       "                                                   'BsmtFinSF1', 'BsmtFinSF2',\n",
       "                                                   'BsmtUnfSF', 'TotalBsmtSF',\n",
       "                                                   '1stFlrSF', '2ndFlrSF',\n",
       "                                                   'Lo...\n",
       "                                                   'BsmtFinType2', 'Heating',\n",
       "                                                   'HeatingQC', 'CentralAir',\n",
       "                                                   'Electrical', 'KitchenQual',\n",
       "                                                   'Functional', 'FireplaceQu', ...]),\n",
       "                                                 ('high_card_cat_cols',\n",
       "                                                  Pipeline(steps=[('imputer',\n",
       "                                                                   SimpleImputer(strategy='constant')),\n",
       "                                                                  ('onehot',\n",
       "                                                                   OneHotEncoder(handle_unknown='ignore'))]),\n",
       "                                                  ['Neighborhood',\n",
       "                                                   'Exterior1st',\n",
       "                                                   'Exterior2nd'])])),\n",
       "                ('model',\n",
       "                 RandomForestRegressor(n_estimators=200, n_jobs=11,\n",
       "                                       random_state=42))])"
      ]
     },
     "execution_count": null,
     "metadata": {},
     "output_type": "execute_result"
    }
   ],
   "source": [
    "tmlt.spl"
   ]
  },
  {
   "cell_type": "code",
   "execution_count": null,
   "metadata": {},
   "outputs": [],
   "source": [
    "tmlt.dfl.create_train_valid(valid_size=0.2)"
   ]
  },
  {
   "cell_type": "code",
   "execution_count": null,
   "metadata": {},
   "outputs": [
    {
     "data": {
      "text/markdown": [
       "<h4 id=\"DataFrameLoader.create_train_valid\" class=\"doc_header\"><code>DataFrameLoader.create_train_valid</code><a href=\"https://github.com/psmathur/tabular_ml_toolkit/tree/master/tabular_ml_toolkit/DataFrameLoader.py#L109\" class=\"source_link\" style=\"float:right\">[source]</a></h4>\n",
       "\n",
       "> <code>DataFrameLoader.create_train_valid</code>(**`valid_size`**:`float`, **`random_state`**=*`42`*)\n",
       "\n"
      ],
      "text/plain": [
       "<IPython.core.display.Markdown object>"
      ]
     },
     "metadata": {},
     "output_type": "display_data"
    }
   ],
   "source": [
    "show_doc(tmlt.dfl.create_train_valid)"
   ]
  },
  {
   "cell_type": "code",
   "execution_count": null,
   "metadata": {},
   "outputs": [
    {
     "name": "stdout",
     "output_type": "stream",
     "text": [
      "Fit Time: 1.9442250728607178\n",
      "X_valid MAE: 17483.238390410956\n"
     ]
    }
   ],
   "source": [
    "start = time.time()\n",
    "# Now fit\n",
    "tmlt.spl.fit(tmlt.dfl.X_train, tmlt.dfl.y_train)\n",
    "end = time.time()\n",
    "print(\"Fit Time:\", end - start)\n",
    "\n",
    "#predict\n",
    "preds = tmlt.spl.predict(tmlt.dfl.X_valid)\n",
    "print('X_valid MAE:', mean_absolute_error(tmlt.dfl.y_valid, preds))"
   ]
  },
  {
   "cell_type": "code",
   "execution_count": null,
   "metadata": {},
   "outputs": [
    {
     "data": {
      "text/markdown": [
       "<h4 id=\"Pipeline.fit\" class=\"doc_header\"><code>Pipeline.fit</code><a href=\"sklearn/pipeline.py#L363\" class=\"source_link\" style=\"float:right\">[source]</a></h4>\n",
       "\n",
       "> <code>Pipeline.fit</code>(**`X`**, **`y`**=*`None`*, **\\*\\*`fit_params`**)\n",
       "\n",
       "Fit the model.\n",
       "\n",
       "Fit all the transformers one after the other and transform the\n",
       "data. Finally, fit the transformed data using the final estimator.\n",
       "\n",
       "Parameters\n",
       "----------\n",
       "X : iterable\n",
       "    Training data. Must fulfill input requirements of first step of the\n",
       "    pipeline.\n",
       "\n",
       "y : iterable, default=None\n",
       "    Training targets. Must fulfill label requirements for all steps of\n",
       "    the pipeline.\n",
       "\n",
       "**fit_params : dict of string -> object\n",
       "    Parameters passed to the ``fit`` method of each step, where\n",
       "    each parameter name is prefixed such that parameter ``p`` for step\n",
       "    ``s`` has key ``s__p``.\n",
       "\n",
       "Returns\n",
       "-------\n",
       "self : object\n",
       "    Pipeline with fitted steps."
      ],
      "text/plain": [
       "<IPython.core.display.Markdown object>"
      ]
     },
     "metadata": {},
     "output_type": "display_data"
    }
   ],
   "source": [
    "show_doc(tmlt.spl.fit)"
   ]
  },
  {
   "cell_type": "code",
   "execution_count": null,
   "metadata": {},
   "outputs": [
    {
     "data": {
      "text/markdown": [
       "<h4 id=\"Pipeline.fit\" class=\"doc_header\"><code>Pipeline.fit</code><a href=\"sklearn/pipeline.py#L363\" class=\"source_link\" style=\"float:right\">[source]</a></h4>\n",
       "\n",
       "> <code>Pipeline.fit</code>(**`X`**, **`y`**=*`None`*, **\\*\\*`fit_params`**)\n",
       "\n",
       "Fit the model.\n",
       "\n",
       "Fit all the transformers one after the other and transform the\n",
       "data. Finally, fit the transformed data using the final estimator.\n",
       "\n",
       "Parameters\n",
       "----------\n",
       "X : iterable\n",
       "    Training data. Must fulfill input requirements of first step of the\n",
       "    pipeline.\n",
       "\n",
       "y : iterable, default=None\n",
       "    Training targets. Must fulfill label requirements for all steps of\n",
       "    the pipeline.\n",
       "\n",
       "**fit_params : dict of string -> object\n",
       "    Parameters passed to the ``fit`` method of each step, where\n",
       "    each parameter name is prefixed such that parameter ``p`` for step\n",
       "    ``s`` has key ``s__p``.\n",
       "\n",
       "Returns\n",
       "-------\n",
       "self : object\n",
       "    Pipeline with fitted steps."
      ],
      "text/plain": [
       "<IPython.core.display.Markdown object>"
      ]
     },
     "metadata": {},
     "output_type": "display_data"
    }
   ],
   "source": [
    "show_doc(tmlt.spl.fit)"
   ]
  },
  {
   "cell_type": "markdown",
   "metadata": {},
   "source": [
    "#### let's update the numerical columns scaler to MinMaxScaler from StandardScaler and see if score improves"
   ]
  },
  {
   "cell_type": "code",
   "execution_count": null,
   "metadata": {},
   "outputs": [],
   "source": [
    "tmlt.update_preprocessor(num_scaler=MinMaxScaler())"
   ]
  },
  {
   "cell_type": "code",
   "execution_count": null,
   "metadata": {},
   "outputs": [
    {
     "data": {
      "text/markdown": [
       "<h4 id=\"MLPipeline.update_preprocessor\" class=\"doc_header\"><code>MLPipeline.update_preprocessor</code><a href=\"__main__.py#L85\" class=\"source_link\" style=\"float:right\">[source]</a></h4>\n",
       "\n",
       "> <code>MLPipeline.update_preprocessor</code>(**`num_imputer`**=*`SimpleImputer(strategy='median')`*, **`num_scaler`**=*`StandardScaler()`*, **`cat_imputer`**=*`SimpleImputer(strategy='constant')`*)\n",
       "\n"
      ],
      "text/plain": [
       "<IPython.core.display.Markdown object>"
      ]
     },
     "metadata": {},
     "output_type": "display_data"
    }
   ],
   "source": [
    "show_doc(tmlt.update_preprocessor)"
   ]
  },
  {
   "cell_type": "code",
   "execution_count": null,
   "metadata": {},
   "outputs": [
    {
     "data": {
      "text/html": [
       "<style>#sk-18e4a11c-1dd8-456a-b868-b51482c90f4e {color: black;background-color: white;}#sk-18e4a11c-1dd8-456a-b868-b51482c90f4e pre{padding: 0;}#sk-18e4a11c-1dd8-456a-b868-b51482c90f4e div.sk-toggleable {background-color: white;}#sk-18e4a11c-1dd8-456a-b868-b51482c90f4e label.sk-toggleable__label {cursor: pointer;display: block;width: 100%;margin-bottom: 0;padding: 0.3em;box-sizing: border-box;text-align: center;}#sk-18e4a11c-1dd8-456a-b868-b51482c90f4e div.sk-toggleable__content {max-height: 0;max-width: 0;overflow: hidden;text-align: left;background-color: #f0f8ff;}#sk-18e4a11c-1dd8-456a-b868-b51482c90f4e div.sk-toggleable__content pre {margin: 0.2em;color: black;border-radius: 0.25em;background-color: #f0f8ff;}#sk-18e4a11c-1dd8-456a-b868-b51482c90f4e input.sk-toggleable__control:checked~div.sk-toggleable__content {max-height: 200px;max-width: 100%;overflow: auto;}#sk-18e4a11c-1dd8-456a-b868-b51482c90f4e div.sk-estimator input.sk-toggleable__control:checked~label.sk-toggleable__label {background-color: #d4ebff;}#sk-18e4a11c-1dd8-456a-b868-b51482c90f4e div.sk-label input.sk-toggleable__control:checked~label.sk-toggleable__label {background-color: #d4ebff;}#sk-18e4a11c-1dd8-456a-b868-b51482c90f4e input.sk-hidden--visually {border: 0;clip: rect(1px 1px 1px 1px);clip: rect(1px, 1px, 1px, 1px);height: 1px;margin: -1px;overflow: hidden;padding: 0;position: absolute;width: 1px;}#sk-18e4a11c-1dd8-456a-b868-b51482c90f4e div.sk-estimator {font-family: monospace;background-color: #f0f8ff;border: 1px dotted black;border-radius: 0.25em;box-sizing: border-box;margin-bottom: 0.5em;}#sk-18e4a11c-1dd8-456a-b868-b51482c90f4e div.sk-estimator:hover {background-color: #d4ebff;}#sk-18e4a11c-1dd8-456a-b868-b51482c90f4e div.sk-parallel-item::after {content: \"\";width: 100%;border-bottom: 1px solid gray;flex-grow: 1;}#sk-18e4a11c-1dd8-456a-b868-b51482c90f4e div.sk-label:hover label.sk-toggleable__label {background-color: #d4ebff;}#sk-18e4a11c-1dd8-456a-b868-b51482c90f4e div.sk-serial::before {content: \"\";position: absolute;border-left: 1px solid gray;box-sizing: border-box;top: 2em;bottom: 0;left: 50%;}#sk-18e4a11c-1dd8-456a-b868-b51482c90f4e div.sk-serial {display: flex;flex-direction: column;align-items: center;background-color: white;padding-right: 0.2em;padding-left: 0.2em;}#sk-18e4a11c-1dd8-456a-b868-b51482c90f4e div.sk-item {z-index: 1;}#sk-18e4a11c-1dd8-456a-b868-b51482c90f4e div.sk-parallel {display: flex;align-items: stretch;justify-content: center;background-color: white;}#sk-18e4a11c-1dd8-456a-b868-b51482c90f4e div.sk-parallel::before {content: \"\";position: absolute;border-left: 1px solid gray;box-sizing: border-box;top: 2em;bottom: 0;left: 50%;}#sk-18e4a11c-1dd8-456a-b868-b51482c90f4e div.sk-parallel-item {display: flex;flex-direction: column;position: relative;background-color: white;}#sk-18e4a11c-1dd8-456a-b868-b51482c90f4e div.sk-parallel-item:first-child::after {align-self: flex-end;width: 50%;}#sk-18e4a11c-1dd8-456a-b868-b51482c90f4e div.sk-parallel-item:last-child::after {align-self: flex-start;width: 50%;}#sk-18e4a11c-1dd8-456a-b868-b51482c90f4e div.sk-parallel-item:only-child::after {width: 0;}#sk-18e4a11c-1dd8-456a-b868-b51482c90f4e div.sk-dashed-wrapped {border: 1px dashed gray;margin: 0 0.4em 0.5em 0.4em;box-sizing: border-box;padding-bottom: 0.4em;background-color: white;position: relative;}#sk-18e4a11c-1dd8-456a-b868-b51482c90f4e div.sk-label label {font-family: monospace;font-weight: bold;background-color: white;display: inline-block;line-height: 1.2em;}#sk-18e4a11c-1dd8-456a-b868-b51482c90f4e div.sk-label-container {position: relative;z-index: 2;text-align: center;}#sk-18e4a11c-1dd8-456a-b868-b51482c90f4e div.sk-container {display: inline-block;position: relative;}</style><div id=\"sk-18e4a11c-1dd8-456a-b868-b51482c90f4e\" class\"sk-top-container\"><div class=\"sk-container\"><div class=\"sk-item sk-dashed-wrapped\"><div class=\"sk-label-container\"><div class=\"sk-label sk-toggleable\"><input class=\"sk-toggleable__control sk-hidden--visually\" id=\"639842a9-0558-491c-806c-5f291cff930a\" type=\"checkbox\" ><label class=\"sk-toggleable__label\" for=\"639842a9-0558-491c-806c-5f291cff930a\">Pipeline</label><div class=\"sk-toggleable__content\"><pre>Pipeline(steps=[('preprocessor',\n",
       "                 ColumnTransformer(transformers=[('num_cols',\n",
       "                                                  Pipeline(steps=[('imputer',\n",
       "                                                                   SimpleImputer(strategy='median')),\n",
       "                                                                  ('scaler',\n",
       "                                                                   MinMaxScaler())]),\n",
       "                                                  ['MSSubClass', 'LotFrontage',\n",
       "                                                   'LotArea', 'OverallQual',\n",
       "                                                   'OverallCond', 'YearBuilt',\n",
       "                                                   'YearRemodAdd', 'MasVnrArea',\n",
       "                                                   'BsmtFinSF1', 'BsmtFinSF2',\n",
       "                                                   'BsmtUnfSF', 'TotalBsmtSF',\n",
       "                                                   '1stFlrSF', '2ndFlrSF',\n",
       "                                                   'LowQ...\n",
       "                                                   'BsmtFinType2', 'Heating',\n",
       "                                                   'HeatingQC', 'CentralAir',\n",
       "                                                   'Electrical', 'KitchenQual',\n",
       "                                                   'Functional', 'FireplaceQu', ...]),\n",
       "                                                 ('high_card_cat_cols',\n",
       "                                                  Pipeline(steps=[('imputer',\n",
       "                                                                   SimpleImputer(strategy='constant')),\n",
       "                                                                  ('onehot',\n",
       "                                                                   OneHotEncoder(handle_unknown='ignore'))]),\n",
       "                                                  ['Neighborhood',\n",
       "                                                   'Exterior1st',\n",
       "                                                   'Exterior2nd'])])),\n",
       "                ('model',\n",
       "                 RandomForestRegressor(n_estimators=200, n_jobs=11,\n",
       "                                       random_state=42))])</pre></div></div></div><div class=\"sk-serial\"><div class=\"sk-item sk-dashed-wrapped\"><div class=\"sk-label-container\"><div class=\"sk-label sk-toggleable\"><input class=\"sk-toggleable__control sk-hidden--visually\" id=\"6860642e-42ef-4b86-9175-4a855766d3e8\" type=\"checkbox\" ><label class=\"sk-toggleable__label\" for=\"6860642e-42ef-4b86-9175-4a855766d3e8\">preprocessor: ColumnTransformer</label><div class=\"sk-toggleable__content\"><pre>ColumnTransformer(transformers=[('num_cols',\n",
       "                                 Pipeline(steps=[('imputer',\n",
       "                                                  SimpleImputer(strategy='median')),\n",
       "                                                 ('scaler', MinMaxScaler())]),\n",
       "                                 ['MSSubClass', 'LotFrontage', 'LotArea',\n",
       "                                  'OverallQual', 'OverallCond', 'YearBuilt',\n",
       "                                  'YearRemodAdd', 'MasVnrArea', 'BsmtFinSF1',\n",
       "                                  'BsmtFinSF2', 'BsmtUnfSF', 'TotalBsmtSF',\n",
       "                                  '1stFlrSF', '2ndFlrSF', 'LowQualFinSF',\n",
       "                                  'GrLivArea', 'BsmtFullB...\n",
       "                                  'ExterCond', 'Foundation', 'BsmtQual',\n",
       "                                  'BsmtCond', 'BsmtExposure', 'BsmtFinType1',\n",
       "                                  'BsmtFinType2', 'Heating', 'HeatingQC',\n",
       "                                  'CentralAir', 'Electrical', 'KitchenQual',\n",
       "                                  'Functional', 'FireplaceQu', ...]),\n",
       "                                ('high_card_cat_cols',\n",
       "                                 Pipeline(steps=[('imputer',\n",
       "                                                  SimpleImputer(strategy='constant')),\n",
       "                                                 ('onehot',\n",
       "                                                  OneHotEncoder(handle_unknown='ignore'))]),\n",
       "                                 ['Neighborhood', 'Exterior1st',\n",
       "                                  'Exterior2nd'])])</pre></div></div></div><div class=\"sk-parallel\"><div class=\"sk-parallel-item\"><div class=\"sk-item\"><div class=\"sk-label-container\"><div class=\"sk-label sk-toggleable\"><input class=\"sk-toggleable__control sk-hidden--visually\" id=\"6e5e47b6-8973-492b-a6fa-699a95504471\" type=\"checkbox\" ><label class=\"sk-toggleable__label\" for=\"6e5e47b6-8973-492b-a6fa-699a95504471\">num_cols</label><div class=\"sk-toggleable__content\"><pre>['MSSubClass', 'LotFrontage', 'LotArea', 'OverallQual', 'OverallCond', 'YearBuilt', 'YearRemodAdd', 'MasVnrArea', 'BsmtFinSF1', 'BsmtFinSF2', 'BsmtUnfSF', 'TotalBsmtSF', '1stFlrSF', '2ndFlrSF', 'LowQualFinSF', 'GrLivArea', 'BsmtFullBath', 'BsmtHalfBath', 'FullBath', 'HalfBath', 'BedroomAbvGr', 'KitchenAbvGr', 'TotRmsAbvGrd', 'Fireplaces', 'GarageYrBlt', 'GarageCars', 'GarageArea', 'WoodDeckSF', 'OpenPorchSF', 'EnclosedPorch', '3SsnPorch', 'ScreenPorch', 'PoolArea', 'MiscVal', 'MoSold', 'YrSold']</pre></div></div></div><div class=\"sk-serial\"><div class=\"sk-item\"><div class=\"sk-serial\"><div class=\"sk-item\"><div class=\"sk-estimator sk-toggleable\"><input class=\"sk-toggleable__control sk-hidden--visually\" id=\"d9f4d528-7721-4c52-b3dd-de96f6792674\" type=\"checkbox\" ><label class=\"sk-toggleable__label\" for=\"d9f4d528-7721-4c52-b3dd-de96f6792674\">SimpleImputer</label><div class=\"sk-toggleable__content\"><pre>SimpleImputer(strategy='median')</pre></div></div></div><div class=\"sk-item\"><div class=\"sk-estimator sk-toggleable\"><input class=\"sk-toggleable__control sk-hidden--visually\" id=\"3a8596c2-763f-46a5-a041-e269e67ed0ca\" type=\"checkbox\" ><label class=\"sk-toggleable__label\" for=\"3a8596c2-763f-46a5-a041-e269e67ed0ca\">MinMaxScaler</label><div class=\"sk-toggleable__content\"><pre>MinMaxScaler()</pre></div></div></div></div></div></div></div></div><div class=\"sk-parallel-item\"><div class=\"sk-item\"><div class=\"sk-label-container\"><div class=\"sk-label sk-toggleable\"><input class=\"sk-toggleable__control sk-hidden--visually\" id=\"1ee9c7e9-3bfe-44dc-908c-cb65ef1cfb9f\" type=\"checkbox\" ><label class=\"sk-toggleable__label\" for=\"1ee9c7e9-3bfe-44dc-908c-cb65ef1cfb9f\">low_card_cat_cols</label><div class=\"sk-toggleable__content\"><pre>['MSZoning', 'Street', 'Alley', 'LotShape', 'LandContour', 'Utilities', 'LotConfig', 'LandSlope', 'Condition1', 'Condition2', 'BldgType', 'HouseStyle', 'RoofStyle', 'RoofMatl', 'MasVnrType', 'ExterQual', 'ExterCond', 'Foundation', 'BsmtQual', 'BsmtCond', 'BsmtExposure', 'BsmtFinType1', 'BsmtFinType2', 'Heating', 'HeatingQC', 'CentralAir', 'Electrical', 'KitchenQual', 'Functional', 'FireplaceQu', 'GarageType', 'GarageFinish', 'GarageQual', 'GarageCond', 'PavedDrive', 'PoolQC', 'Fence', 'MiscFeature', 'SaleType', 'SaleCondition']</pre></div></div></div><div class=\"sk-serial\"><div class=\"sk-item\"><div class=\"sk-serial\"><div class=\"sk-item\"><div class=\"sk-estimator sk-toggleable\"><input class=\"sk-toggleable__control sk-hidden--visually\" id=\"6203b4fc-ee18-45e2-85aa-c805c922601a\" type=\"checkbox\" ><label class=\"sk-toggleable__label\" for=\"6203b4fc-ee18-45e2-85aa-c805c922601a\">SimpleImputer</label><div class=\"sk-toggleable__content\"><pre>SimpleImputer(strategy='constant')</pre></div></div></div><div class=\"sk-item\"><div class=\"sk-estimator sk-toggleable\"><input class=\"sk-toggleable__control sk-hidden--visually\" id=\"03af171f-1f19-403a-96d3-f6b16fdae5f4\" type=\"checkbox\" ><label class=\"sk-toggleable__label\" for=\"03af171f-1f19-403a-96d3-f6b16fdae5f4\">OneHotEncoder</label><div class=\"sk-toggleable__content\"><pre>OneHotEncoder(handle_unknown='ignore')</pre></div></div></div></div></div></div></div></div><div class=\"sk-parallel-item\"><div class=\"sk-item\"><div class=\"sk-label-container\"><div class=\"sk-label sk-toggleable\"><input class=\"sk-toggleable__control sk-hidden--visually\" id=\"ab2e9617-2c4e-4926-b101-1d8c7ee555aa\" type=\"checkbox\" ><label class=\"sk-toggleable__label\" for=\"ab2e9617-2c4e-4926-b101-1d8c7ee555aa\">high_card_cat_cols</label><div class=\"sk-toggleable__content\"><pre>['Neighborhood', 'Exterior1st', 'Exterior2nd']</pre></div></div></div><div class=\"sk-serial\"><div class=\"sk-item\"><div class=\"sk-serial\"><div class=\"sk-item\"><div class=\"sk-estimator sk-toggleable\"><input class=\"sk-toggleable__control sk-hidden--visually\" id=\"237ed77e-7b3e-48d7-90ad-6183e5d414b9\" type=\"checkbox\" ><label class=\"sk-toggleable__label\" for=\"237ed77e-7b3e-48d7-90ad-6183e5d414b9\">SimpleImputer</label><div class=\"sk-toggleable__content\"><pre>SimpleImputer(strategy='constant')</pre></div></div></div><div class=\"sk-item\"><div class=\"sk-estimator sk-toggleable\"><input class=\"sk-toggleable__control sk-hidden--visually\" id=\"a94df068-7f1b-4cbb-bf56-093b969faae7\" type=\"checkbox\" ><label class=\"sk-toggleable__label\" for=\"a94df068-7f1b-4cbb-bf56-093b969faae7\">OneHotEncoder</label><div class=\"sk-toggleable__content\"><pre>OneHotEncoder(handle_unknown='ignore')</pre></div></div></div></div></div></div></div></div></div></div><div class=\"sk-item\"><div class=\"sk-estimator sk-toggleable\"><input class=\"sk-toggleable__control sk-hidden--visually\" id=\"d502588e-1e7d-49e3-b432-3ab33bdfbe45\" type=\"checkbox\" ><label class=\"sk-toggleable__label\" for=\"d502588e-1e7d-49e3-b432-3ab33bdfbe45\">RandomForestRegressor</label><div class=\"sk-toggleable__content\"><pre>RandomForestRegressor(n_estimators=200, n_jobs=11, random_state=42)</pre></div></div></div></div></div></div></div>"
      ],
      "text/plain": [
       "Pipeline(steps=[('preprocessor',\n",
       "                 ColumnTransformer(transformers=[('num_cols',\n",
       "                                                  Pipeline(steps=[('imputer',\n",
       "                                                                   SimpleImputer(strategy='median')),\n",
       "                                                                  ('scaler',\n",
       "                                                                   MinMaxScaler())]),\n",
       "                                                  ['MSSubClass', 'LotFrontage',\n",
       "                                                   'LotArea', 'OverallQual',\n",
       "                                                   'OverallCond', 'YearBuilt',\n",
       "                                                   'YearRemodAdd', 'MasVnrArea',\n",
       "                                                   'BsmtFinSF1', 'BsmtFinSF2',\n",
       "                                                   'BsmtUnfSF', 'TotalBsmtSF',\n",
       "                                                   '1stFlrSF', '2ndFlrSF',\n",
       "                                                   'LowQ...\n",
       "                                                   'BsmtFinType2', 'Heating',\n",
       "                                                   'HeatingQC', 'CentralAir',\n",
       "                                                   'Electrical', 'KitchenQual',\n",
       "                                                   'Functional', 'FireplaceQu', ...]),\n",
       "                                                 ('high_card_cat_cols',\n",
       "                                                  Pipeline(steps=[('imputer',\n",
       "                                                                   SimpleImputer(strategy='constant')),\n",
       "                                                                  ('onehot',\n",
       "                                                                   OneHotEncoder(handle_unknown='ignore'))]),\n",
       "                                                  ['Neighborhood',\n",
       "                                                   'Exterior1st',\n",
       "                                                   'Exterior2nd'])])),\n",
       "                ('model',\n",
       "                 RandomForestRegressor(n_estimators=200, n_jobs=11,\n",
       "                                       random_state=42))])"
      ]
     },
     "execution_count": null,
     "metadata": {},
     "output_type": "execute_result"
    }
   ],
   "source": [
    "# check the udpated pipeline\n",
    "tmlt.spl"
   ]
  },
  {
   "cell_type": "code",
   "execution_count": null,
   "metadata": {},
   "outputs": [
    {
     "name": "stdout",
     "output_type": "stream",
     "text": [
      "Fit Time: 1.8192439079284668\n",
      "X_valid MAE: 17464.29029109589\n"
     ]
    }
   ],
   "source": [
    "start = time.time()\n",
    "# Now fit\n",
    "tmlt.spl.fit(tmlt.dfl.X_train, tmlt.dfl.y_train)\n",
    "end = time.time()\n",
    "print(\"Fit Time:\", end - start)\n",
    "\n",
    "#predict\n",
    "preds = tmlt.spl.predict(tmlt.dfl.X_valid)\n",
    "print('X_valid MAE:', mean_absolute_error(tmlt.dfl.y_valid, preds))"
   ]
  },
  {
   "cell_type": "markdown",
   "metadata": {},
   "source": [
    "Indeed, the score did update, Depending upon your need, you can update numerical or categorical columns imputer too"
   ]
  },
  {
   "cell_type": "code",
   "execution_count": null,
   "metadata": {},
   "outputs": [
    {
     "name": "stdout",
     "output_type": "stream",
     "text": [
      "Converted 00_DataFrameLoader.ipynb.\n",
      "Converted 01_PreProcessor.ipynb.\n",
      "Converted 02_MLPipeline.ipynb.\n",
      "Converted 03_Tutorial.ipynb.\n",
      "Converted 07_Kaggle_TPS_Tutorial.ipynb.\n",
      "Converted index.ipynb.\n"
     ]
    }
   ],
   "source": [
    "# hide\n",
    "# run the script to build \n",
    "\n",
    "from nbdev.export import notebook2script; notebook2script()"
   ]
  },
  {
   "cell_type": "code",
   "execution_count": null,
   "metadata": {},
   "outputs": [],
   "source": []
  },
  {
   "cell_type": "code",
   "execution_count": null,
   "metadata": {},
   "outputs": [],
   "source": []
  }
 ],
 "metadata": {
  "kernelspec": {
   "display_name": "Python 3 (ipykernel)",
   "language": "python",
   "name": "python3"
  }
 },
 "nbformat": 4,
 "nbformat_minor": 2
}
