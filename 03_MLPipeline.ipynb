{
 "cells": [
  {
   "cell_type": "code",
   "execution_count": 25,
   "metadata": {},
   "outputs": [
    {
     "name": "stdout",
     "output_type": "stream",
     "text": [
      "The autoreload extension is already loaded. To reload it, use:\n",
      "  %reload_ext autoreload\n"
     ]
    }
   ],
   "source": [
    "%load_ext autoreload\n",
    "%autoreload 2"
   ]
  },
  {
   "cell_type": "code",
   "execution_count": 26,
   "metadata": {},
   "outputs": [],
   "source": [
    "# default_exp MLPipeline"
   ]
  },
  {
   "cell_type": "markdown",
   "metadata": {},
   "source": [
    "# Training Pipeline\n",
    "\n",
    "> An API to create training pipeline for machine learning models on tabular or strucuture data"
   ]
  },
  {
   "cell_type": "code",
   "execution_count": 27,
   "metadata": {},
   "outputs": [],
   "source": [
    "#hide\n",
    "from nbdev.showdoc import *\n",
    "from nbdev import *"
   ]
  },
  {
   "cell_type": "code",
   "execution_count": 28,
   "metadata": {},
   "outputs": [
    {
     "ename": "ModuleNotFoundError",
     "evalue": "No module named 'tabular_ml_toolkit.DataFrameLoader'",
     "output_type": "error",
     "traceback": [
      "\u001b[0;31m---------------------------------------------------------------------------\u001b[0m",
      "\u001b[0;31mModuleNotFoundError\u001b[0m                       Traceback (most recent call last)",
      "\u001b[0;32m/var/folders/p3/zmg8jfwx0hb9gwzs0w69d7f0rgyjx2/T/ipykernel_53665/3668685425.py\u001b[0m in \u001b[0;36m<module>\u001b[0;34m\u001b[0m\n\u001b[1;32m      1\u001b[0m \u001b[0;31m# export\u001b[0m\u001b[0;34m\u001b[0m\u001b[0;34m\u001b[0m\u001b[0m\n\u001b[0;32m----> 2\u001b[0;31m \u001b[0;32mfrom\u001b[0m \u001b[0mtabular_ml_toolkit\u001b[0m\u001b[0;34m.\u001b[0m\u001b[0mDataFrameLoader\u001b[0m \u001b[0;32mimport\u001b[0m \u001b[0;34m*\u001b[0m\u001b[0;34m\u001b[0m\u001b[0;34m\u001b[0m\u001b[0m\n\u001b[0m\u001b[1;32m      3\u001b[0m \u001b[0;32mfrom\u001b[0m \u001b[0mtabular_ml_toolkit\u001b[0m\u001b[0;34m.\u001b[0m\u001b[0mPreProcessor\u001b[0m \u001b[0;32mimport\u001b[0m \u001b[0;34m*\u001b[0m\u001b[0;34m\u001b[0m\u001b[0;34m\u001b[0m\u001b[0m\n",
      "\u001b[0;31mModuleNotFoundError\u001b[0m: No module named 'tabular_ml_toolkit.DataFrameLoader'"
     ]
    }
   ],
   "source": [
    "# export\n",
    "from tabular_ml_toolkit.DataFrameLoader import *\n",
    "from tabular_ml_toolkit.PreProcessor import *"
   ]
  },
  {
   "cell_type": "code",
   "execution_count": null,
   "metadata": {},
   "outputs": [],
   "source": [
    "# export\n",
    "# hide\n",
    "import pandas as pd\n",
    "from sklearn.compose import ColumnTransformer\n",
    "from sklearn.pipeline import Pipeline\n",
    "from sklearn.impute import SimpleImputer\n",
    "from sklearn.preprocessing import OneHotEncoder\n",
    "from sklearn.ensemble import RandomForestRegressor\n",
    "from sklearn.metrics import mean_absolute_error"
   ]
  },
  {
   "cell_type": "code",
   "execution_count": null,
   "metadata": {},
   "outputs": [],
   "source": [
    "# hide\n",
    "# todo\n",
    "# modify pipeline class to create three methods aka three pipeline methods\n",
    "# create_data_pipeline\n",
    "# create_prepreprocessor_pipeline\n",
    "# create_training_pipeline\n",
    "# so in the end user will just create instance of pipeline and run three line to train model\n",
    "# model = RandomForestRegressor(n_estimators=100, random_state=42)\n",
    "# pl = prepare_data_for_training(train_path, test_path, valid_size, random_state, model)\n",
    "    # intenrally call below methods\n",
    "    # pl.load_csv(train_path, test_path, valid_size, random_state)\n",
    "    # pl.preprocessor()\n",
    "    # pl.bundle(preprocessor,model)\n",
    "# pl.fit(pl.X_train, pl.y_train)\n",
    "# preds = pl.predict(pl.X_valid)\n",
    "# print('X_valid MAE:', mean_absolute_error(pl.y_valid, preds))"
   ]
  },
  {
   "cell_type": "code",
   "execution_count": null,
   "metadata": {},
   "outputs": [],
   "source": [
    "# export\n",
    "\n",
    "class MLPipeline:\n",
    "    \"\"\"\n",
    "    Represent TrainingPipeline class\n",
    "    \n",
    "    Attributes:\n",
    "    mlpl: A MLPipeline instance\n",
    "    dfl: A DataFrameLoader instance\n",
    "    pp: A PreProcessor Instance\n",
    "    model: The given Model\n",
    "    \"\"\"\n",
    "\n",
    "    def __init__(self):\n",
    "        self.mlpl = None\n",
    "        self.dfl = None\n",
    "        self.pp = None\n",
    "        self.model = None\n",
    "    \n",
    "    def __str__(self):\n",
    "        \"\"\"Returns human readable string reprsentation\"\"\"\n",
    "        return \"Training Pipeline object with attributes: pl\"\n",
    "    \n",
    "    def __repr__(self):\n",
    "        return self.__str__()\n",
    "    \n",
    "#     def __lt__(self):\n",
    "#         \"\"\"returns: boolean\"\"\"\n",
    "#         return True\n",
    "    \n",
    "    # core methods\n",
    "    # Bundle preprocessing and modeling code in a training pipeline\n",
    "    def bundle_preproessor_model(self, preprocessor:object, model:object):\n",
    "        self.mlpl = Pipeline(steps=[('preprocessor', preprocessor),\n",
    "                      ('model', model)\n",
    "                     ])\n",
    "#     # return pipeline object\n",
    "#     def create_pipeline(self, preprocessor:object, model:object):\n",
    "#         self.bundle_preproessor_model(preprocessor, model)\n",
    "    \n",
    "    def prepare_data_for_training(self, train_file_path:str, test_file_path:str, idx_col:str, target:str, valid_size:float, model:object, random_state:int):\n",
    "        self.model = model\n",
    "        # call DataFrameLoader module\n",
    "        self.dfl = DataFrameLoader().from_csv(train_file_path,test_file_path,idx_col,target,valid_size)\n",
    "        # call PreProcessor module\n",
    "        self.pp = PreProcessor().preprocess_data(numerical_cols=self.dfl.numerical_cols,\n",
    "                                    categorical_cols=self.dfl.categorical_cols)\n",
    "        \n",
    "        # call self module method\n",
    "        self.bundle_preproessor_model(self.pp.column_tranfomer, model)\n",
    "        return self"
   ]
  },
  {
   "cell_type": "code",
   "execution_count": null,
   "metadata": {},
   "outputs": [
    {
     "data": {
      "text/markdown": [
       "<h4 id=\"MLPipeline.prepare_data_for_training\" class=\"doc_header\"><code>MLPipeline.prepare_data_for_training</code><a href=\"__main__.py#L41\" class=\"source_link\" style=\"float:right\">[source]</a></h4>\n",
       "\n",
       "> <code>MLPipeline.prepare_data_for_training</code>(**`train_file_path`**:`str`, **`test_file_path`**:`str`, **`idx_col`**:`str`, **`target`**:`str`, **`valid_size`**:`float`, **`model`**:`object`, **`random_state`**:`int`)\n",
       "\n"
      ],
      "text/plain": [
       "<IPython.core.display.Markdown object>"
      ]
     },
     "metadata": {},
     "output_type": "display_data"
    }
   ],
   "source": [
    "show_doc(MLPipeline.prepare_data_for_training)"
   ]
  },
  {
   "cell_type": "markdown",
   "metadata": {},
   "source": [
    "#### Test MLPipeline Class with House Data"
   ]
  },
  {
   "cell_type": "markdown",
   "metadata": {},
   "source": [
    "*Now you can use MLPipeline to train any model. Here we are using RandomForestRegressor from Scikit-Learn, on  [Melbourne Home Sale price data](https://www.kaggle.com/estrotococo/home-data-for-ml-course)*"
   ]
  },
  {
   "cell_type": "code",
   "execution_count": null,
   "metadata": {},
   "outputs": [
    {
     "name": "stdout",
     "output_type": "stream",
     "text": [
      "X_valid MAE: 17678.294143835617\n"
     ]
    }
   ],
   "source": [
    "scikit_model = RandomForestRegressor(n_estimators=100, random_state=42)\n",
    "pl = MLPipeline().prepare_data_for_training(train_file_path= \"input/home_data/train.csv\",\n",
    "                                              test_file_path= \"input/home_data/test.csv\",\n",
    "                                              idx_col=\"Id\", target=\"SalePrice\",valid_size=0.2,\n",
    "                                              model=scikit_model, random_state=42)\n",
    "pl.mlpl.fit(pl.dfl.X_train, pl.dfl.y_train)\n",
    "preds = pl.mlpl.predict(pl.dfl.X_valid)\n",
    "print('X_valid MAE:', mean_absolute_error(pl.dfl.y_valid, preds))"
   ]
  },
  {
   "cell_type": "markdown",
   "metadata": {},
   "source": [
    "*You can also use MLPipeline with XGBoost model, Make sure to install XGBooost depending upon your OS.*\n",
    "\n",
    "*After that all steps remains same. Here is example using XGBRegressor with [Melbourne Home Sale price data](https://www.kaggle.com/estrotococo/home-data-for-ml-course)*"
   ]
  },
  {
   "cell_type": "code",
   "execution_count": null,
   "metadata": {},
   "outputs": [],
   "source": [
    "# !conda install -c conda-forge xgboost"
   ]
  },
  {
   "cell_type": "code",
   "execution_count": null,
   "metadata": {},
   "outputs": [
    {
     "name": "stdout",
     "output_type": "stream",
     "text": [
      "X_valid MAE: 16156.980896832192\n"
     ]
    }
   ],
   "source": [
    "from xgboost import XGBRegressor\n",
    "xgb_model = XGBRegressor(n_estimators=250,learning_rate=0.05, random_state=42)\n",
    "pl = MLPipeline().prepare_data_for_training(train_file_path= \"input/home_data/train.csv\",\n",
    "                                              test_file_path= \"input/home_data/test.csv\",\n",
    "                                              idx_col=\"Id\", target=\"SalePrice\",valid_size=0.2,\n",
    "                                              model=xgb_model, random_state=42)\n",
    "pl.mlpl.fit(pl.dfl.X_train, pl.dfl.y_train)\n",
    "preds = pl.mlpl.predict(pl.dfl.X_valid)\n",
    "print('X_valid MAE:', mean_absolute_error(pl.dfl.y_valid, preds))"
   ]
  },
  {
   "cell_type": "code",
   "execution_count": null,
   "metadata": {},
   "outputs": [],
   "source": [
    "# hide\n",
    "# error to stop below cell from running when press run all!"
   ]
  },
  {
   "cell_type": "code",
   "execution_count": null,
   "metadata": {},
   "outputs": [
    {
     "name": "stdout",
     "output_type": "stream",
     "text": [
      "Converted 00_dataframeloader.ipynb.\n",
      "Converted 01_preprocessor.ipynb.\n",
      "Converted 03_MLPipeline.ipynb.\n",
      "Converted index.ipynb.\n"
     ]
    }
   ],
   "source": [
    "# hide\n",
    "# run the script to build \n",
    "\n",
    "from nbdev.export import notebook2script; notebook2script()"
   ]
  },
  {
   "cell_type": "code",
   "execution_count": null,
   "metadata": {},
   "outputs": [],
   "source": []
  }
 ],
 "metadata": {
  "kernelspec": {
   "display_name": "Python 3 (ipykernel)",
   "language": "python",
   "name": "python3"
  },
  "language_info": {
   "codemirror_mode": {
    "name": "ipython",
    "version": 3
   },
   "file_extension": ".py",
   "mimetype": "text/x-python",
   "name": "python",
   "nbconvert_exporter": "python",
   "pygments_lexer": "ipython3",
   "version": "3.9.7"
  }
 },
 "nbformat": 4,
 "nbformat_minor": 2
}
