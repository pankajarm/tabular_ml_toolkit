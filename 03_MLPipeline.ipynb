{
 "cells": [
  {
   "cell_type": "code",
   "execution_count": null,
   "metadata": {},
   "outputs": [],
   "source": [
    "%load_ext autoreload\n",
    "%autoreload 2"
   ]
  },
  {
   "cell_type": "code",
   "execution_count": null,
   "metadata": {},
   "outputs": [],
   "source": [
    "# default_exp MLPipeline"
   ]
  },
  {
   "cell_type": "markdown",
   "metadata": {},
   "source": [
    "# Training Pipeline\n",
    "\n",
    "> An API to create training pipeline for machine learning models on tabular or strucuture data"
   ]
  },
  {
   "cell_type": "code",
   "execution_count": null,
   "metadata": {},
   "outputs": [],
   "source": [
    "#hide\n",
    "from nbdev.showdoc import *\n",
    "from nbdev import *"
   ]
  },
  {
   "cell_type": "code",
   "execution_count": null,
   "metadata": {},
   "outputs": [],
   "source": [
    "# export\n",
    "from tabular_ml_toolkit.dataframeloader import *\n",
    "from tabular_ml_toolkit.preprocessor import *"
   ]
  },
  {
   "cell_type": "code",
   "execution_count": null,
   "metadata": {},
   "outputs": [],
   "source": [
    "# export\n",
    "# hide\n",
    "import pandas as pd\n",
    "from sklearn.compose import ColumnTransformer\n",
    "from sklearn.pipeline import Pipeline\n",
    "from sklearn.impute import SimpleImputer\n",
    "from sklearn.preprocessing import OneHotEncoder\n",
    "from sklearn.ensemble import RandomForestRegressor\n",
    "from sklearn.metrics import mean_absolute_error"
   ]
  },
  {
   "cell_type": "code",
   "execution_count": null,
   "metadata": {},
   "outputs": [],
   "source": [
    "# hide\n",
    "# todo\n",
    "# modify pipeline class to create three methods aka three pipeline methods\n",
    "# create_data_pipeline\n",
    "# create_prepreprocessor_pipeline\n",
    "# create_training_pipeline\n",
    "# so in the end user will just create instance of pipeline and run three line to train model\n",
    "# model = RandomForestRegressor(n_estimators=100, random_state=42)\n",
    "# pl = prepare_data_for_training(train_path, test_path, valid_size, random_state, model)\n",
    "    # intenrally call below methods\n",
    "    # pl.load_csv(train_path, test_path, valid_size, random_state)\n",
    "    # pl.preprocessor()\n",
    "    # pl.bundle(preprocessor,model)\n",
    "# pl.fit(pl.X_train, pl.y_train)\n",
    "# preds = pl.predict(pl.X_valid)\n",
    "# print('X_valid MAE:', mean_absolute_error(pl.y_valid, preds))"
   ]
  },
  {
   "cell_type": "code",
   "execution_count": null,
   "metadata": {},
   "outputs": [],
   "source": [
    "# export\n",
    "\n",
    "class MLPipeline:\n",
    "    \"\"\"\n",
    "    Represent TrainingPipeline class\n",
    "    \n",
    "    Attributes:\n",
    "    mlpl: A MLPipeline instance\n",
    "    dfl: A DataFrameLoader instance\n",
    "    pp: A PreProcessor Instance\n",
    "    model: The given Model\n",
    "    \"\"\"\n",
    "\n",
    "    def __init__(self):\n",
    "        self.mlpl = None\n",
    "        self.dfl = None\n",
    "        self.pp = None\n",
    "        self.model = None\n",
    "    \n",
    "    def __str__(self):\n",
    "        \"\"\"Returns human readable string reprsentation\"\"\"\n",
    "        return \"Training Pipeline object with attributes: pl\"\n",
    "    \n",
    "    def __repr__(self):\n",
    "        return self.__str__()\n",
    "    \n",
    "#     def __lt__(self):\n",
    "#         \"\"\"returns: boolean\"\"\"\n",
    "#         return True\n",
    "    \n",
    "    # core methods\n",
    "    # Bundle preprocessing and modeling code in a training pipeline\n",
    "    def bundle_preproessor_model(self, preprocessor:object, model:object):\n",
    "        self.mlpl = Pipeline(steps=[('preprocessor', preprocessor),\n",
    "                      ('model', model)\n",
    "                     ])\n",
    "#     # return pipeline object\n",
    "#     def create_pipeline(self, preprocessor:object, model:object):\n",
    "#         self.bundle_preproessor_model(preprocessor, model)\n",
    "    \n",
    "    def prepare_data_for_training(self, train_file_path:str, test_file_path:str, idx_col:str, target:str, valid_size:float, model:object, random_state:int):\n",
    "        self.model = model\n",
    "        # call DataFrameLoader module\n",
    "        self.dfl = DataFrameLoader().from_csv(train_file_path,test_file_path,idx_col,target,valid_size)\n",
    "        # call PreProcessor module\n",
    "        self.pp = PreProcessor().preprocess_data(numerical_cols=self.dfl.numerical_cols,\n",
    "                                    categorical_cols=self.dfl.categorical_cols)\n",
    "        \n",
    "        # call self module method\n",
    "        self.bundle_preproessor_model(self.pp.column_tranfomer, model)\n",
    "        return self"
   ]
  },
  {
   "cell_type": "code",
   "execution_count": null,
   "metadata": {},
   "outputs": [
    {
     "data": {
      "text/markdown": [
       "<h4 id=\"MLPipeline.prepare_data_for_training\" class=\"doc_header\"><code>MLPipeline.prepare_data_for_training</code><a href=\"__main__.py#L41\" class=\"source_link\" style=\"float:right\">[source]</a></h4>\n",
       "\n",
       "> <code>MLPipeline.prepare_data_for_training</code>(**`train_file_path`**:`str`, **`test_file_path`**:`str`, **`idx_col`**:`str`, **`target`**:`str`, **`valid_size`**:`float`, **`model`**:`object`, **`random_state`**:`int`)\n",
       "\n"
      ],
      "text/plain": [
       "<IPython.core.display.Markdown object>"
      ]
     },
     "metadata": {},
     "output_type": "display_data"
    }
   ],
   "source": [
    "show_doc(MLPipeline.prepare_data_for_training)"
   ]
  },
  {
   "cell_type": "markdown",
   "metadata": {},
   "source": [
    "#### Test MLPipeline Class with House Data"
   ]
  },
  {
   "cell_type": "markdown",
   "metadata": {},
   "source": [
    "*Let's load [Melbourne Home Sale price raw data](https://www.kaggle.com/estrotococo/home-data-for-ml-course)*"
   ]
  },
  {
   "cell_type": "code",
   "execution_count": null,
   "metadata": {},
   "outputs": [
    {
     "name": "stdout",
     "output_type": "stream",
     "text": [
      "X_valid MAE: 17678.294143835617\n"
     ]
    }
   ],
   "source": [
    "# export\n",
    "model = RandomForestRegressor(n_estimators=100, random_state=42)\n",
    "pl = MLPipeline().prepare_data_for_training(train_file_path= \"input/home_data/train.csv\",\n",
    "                                              test_file_path= \"input/home_data/test.csv\",\n",
    "                                              idx_col=\"Id\", target=\"SalePrice\",valid_size=0.2,\n",
    "                                              model=model, random_state=42)\n",
    "pl.mlpl.fit(pl.dfl.X_train, pl.dfl.y_train)\n",
    "preds = pl.mlpl.predict(pl.dfl.X_valid)\n",
    "print('X_valid MAE:', mean_absolute_error(pl.dfl.y_valid, preds))"
   ]
  },
  {
   "cell_type": "code",
   "execution_count": null,
   "metadata": {},
   "outputs": [
    {
     "name": "stdout",
     "output_type": "stream",
     "text": [
      "Converted 00_DataFrameLoader.ipynb.\n",
      "Converted 01_PreProcessor.ipynb.\n",
      "Converted 03_MLPipeline.ipynb.\n",
      "Converted index.ipynb.\n"
     ]
    }
   ],
   "source": [
    "# hide\n",
    "# run the script to build \n",
    "\n",
    "from nbdev.export import notebook2script; notebook2script()"
   ]
  },
  {
   "cell_type": "code",
   "execution_count": null,
   "metadata": {},
   "outputs": [],
   "source": []
  }
 ],
 "metadata": {
  "kernelspec": {
   "display_name": "Python 3 (ipykernel)",
   "language": "python",
   "name": "python3"
  }
 },
 "nbformat": 4,
 "nbformat_minor": 2
}
