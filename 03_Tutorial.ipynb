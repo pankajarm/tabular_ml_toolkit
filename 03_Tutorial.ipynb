{
 "cells": [
  {
   "cell_type": "code",
   "execution_count": null,
   "metadata": {},
   "outputs": [],
   "source": [
    "# default_exp Tutorial"
   ]
  },
  {
   "cell_type": "markdown",
   "metadata": {},
   "source": [
    "# Getting Started Tutorial with Tabular ML Toolkit\n",
    "\n",
    "> A tutorial on getting started with ML Toolkit, a helper library to jumpstart your machine learning project based on Tabular or Structured data."
   ]
  },
  {
   "cell_type": "markdown",
   "metadata": {},
   "source": [
    "## Install"
   ]
  },
  {
   "cell_type": "markdown",
   "metadata": {},
   "source": [
    "`pip install -U tabular_ml_toolkit`"
   ]
  },
  {
   "cell_type": "markdown",
   "metadata": {},
   "source": [
    "## How to Best Use tabular_ml_toolkit"
   ]
  },
  {
   "cell_type": "markdown",
   "metadata": {},
   "source": [
    "Start with your favorite model and then just simply create MLPipeline with one API."
   ]
  },
  {
   "cell_type": "markdown",
   "metadata": {},
   "source": [
    "*For example, Here we are using RandomForestRegressor from Scikit-Learn, on  [Melbourne Home Sale price data](https://www.kaggle.com/estrotococo/home-data-for-ml-course)*\n",
    "\n",
    "\n",
    "*No need to install scikit-learn as it comes preinstall with Tabular_ML_Toolkit*"
   ]
  },
  {
   "cell_type": "code",
   "execution_count": null,
   "metadata": {},
   "outputs": [],
   "source": [
    "#export\n",
    "from tabular_ml_toolkit.MLPipeline import *\n",
    "from sklearn.ensemble import RandomForestRegressor\n",
    "from sklearn.metrics import mean_absolute_error\n",
    "import pandas as pd\n",
    "import numpy as np\n",
    "\n",
    "# for displaying diagram of pipelines \n",
    "from sklearn import set_config\n",
    "set_config(display=\"diagram\")"
   ]
  },
  {
   "cell_type": "code",
   "execution_count": null,
   "metadata": {},
   "outputs": [],
   "source": [
    "#export\n",
    "# Dataset file names and Paths\n",
    "DIRECTORY_PATH = \"https://raw.githubusercontent.com/psmathur/tabular_ml_toolkit/master/input/home_data/\"\n",
    "TRAIN_FILE = \"train.csv\"\n",
    "TEST_FILE = \"test.csv\"\n",
    "SAMPLE_SUB_FILE = \"sample_submission.csv\""
   ]
  },
  {
   "cell_type": "code",
   "execution_count": null,
   "metadata": {},
   "outputs": [],
   "source": [
    "#export\n",
    "# create scikit-learn ml model\n",
    "scikit_model = RandomForestRegressor(n_estimators=200, random_state=42)\n",
    "\n",
    "# createm ml pipeline for scikit-learn model\n",
    "ml_pl = MLPipeline().prepare_data_for_training(\n",
    "    train_file_path= DIRECTORY_PATH+TRAIN_FILE,\n",
    "    test_file_path= DIRECTORY_PATH+TEST_FILE,\n",
    "    idx_col=\"Id\", target=\"SalePrice\",\n",
    "    model=scikit_model,\n",
    "    random_state=42)"
   ]
  },
  {
   "cell_type": "code",
   "execution_count": null,
   "metadata": {},
   "outputs": [
    {
     "data": {
      "text/html": [
       "<style>#sk-e4ef54c9-9182-4913-90b0-54502270cb44 {color: black;background-color: white;}#sk-e4ef54c9-9182-4913-90b0-54502270cb44 pre{padding: 0;}#sk-e4ef54c9-9182-4913-90b0-54502270cb44 div.sk-toggleable {background-color: white;}#sk-e4ef54c9-9182-4913-90b0-54502270cb44 label.sk-toggleable__label {cursor: pointer;display: block;width: 100%;margin-bottom: 0;padding: 0.3em;box-sizing: border-box;text-align: center;}#sk-e4ef54c9-9182-4913-90b0-54502270cb44 div.sk-toggleable__content {max-height: 0;max-width: 0;overflow: hidden;text-align: left;background-color: #f0f8ff;}#sk-e4ef54c9-9182-4913-90b0-54502270cb44 div.sk-toggleable__content pre {margin: 0.2em;color: black;border-radius: 0.25em;background-color: #f0f8ff;}#sk-e4ef54c9-9182-4913-90b0-54502270cb44 input.sk-toggleable__control:checked~div.sk-toggleable__content {max-height: 200px;max-width: 100%;overflow: auto;}#sk-e4ef54c9-9182-4913-90b0-54502270cb44 div.sk-estimator input.sk-toggleable__control:checked~label.sk-toggleable__label {background-color: #d4ebff;}#sk-e4ef54c9-9182-4913-90b0-54502270cb44 div.sk-label input.sk-toggleable__control:checked~label.sk-toggleable__label {background-color: #d4ebff;}#sk-e4ef54c9-9182-4913-90b0-54502270cb44 input.sk-hidden--visually {border: 0;clip: rect(1px 1px 1px 1px);clip: rect(1px, 1px, 1px, 1px);height: 1px;margin: -1px;overflow: hidden;padding: 0;position: absolute;width: 1px;}#sk-e4ef54c9-9182-4913-90b0-54502270cb44 div.sk-estimator {font-family: monospace;background-color: #f0f8ff;border: 1px dotted black;border-radius: 0.25em;box-sizing: border-box;margin-bottom: 0.5em;}#sk-e4ef54c9-9182-4913-90b0-54502270cb44 div.sk-estimator:hover {background-color: #d4ebff;}#sk-e4ef54c9-9182-4913-90b0-54502270cb44 div.sk-parallel-item::after {content: \"\";width: 100%;border-bottom: 1px solid gray;flex-grow: 1;}#sk-e4ef54c9-9182-4913-90b0-54502270cb44 div.sk-label:hover label.sk-toggleable__label {background-color: #d4ebff;}#sk-e4ef54c9-9182-4913-90b0-54502270cb44 div.sk-serial::before {content: \"\";position: absolute;border-left: 1px solid gray;box-sizing: border-box;top: 2em;bottom: 0;left: 50%;}#sk-e4ef54c9-9182-4913-90b0-54502270cb44 div.sk-serial {display: flex;flex-direction: column;align-items: center;background-color: white;padding-right: 0.2em;padding-left: 0.2em;}#sk-e4ef54c9-9182-4913-90b0-54502270cb44 div.sk-item {z-index: 1;}#sk-e4ef54c9-9182-4913-90b0-54502270cb44 div.sk-parallel {display: flex;align-items: stretch;justify-content: center;background-color: white;}#sk-e4ef54c9-9182-4913-90b0-54502270cb44 div.sk-parallel::before {content: \"\";position: absolute;border-left: 1px solid gray;box-sizing: border-box;top: 2em;bottom: 0;left: 50%;}#sk-e4ef54c9-9182-4913-90b0-54502270cb44 div.sk-parallel-item {display: flex;flex-direction: column;position: relative;background-color: white;}#sk-e4ef54c9-9182-4913-90b0-54502270cb44 div.sk-parallel-item:first-child::after {align-self: flex-end;width: 50%;}#sk-e4ef54c9-9182-4913-90b0-54502270cb44 div.sk-parallel-item:last-child::after {align-self: flex-start;width: 50%;}#sk-e4ef54c9-9182-4913-90b0-54502270cb44 div.sk-parallel-item:only-child::after {width: 0;}#sk-e4ef54c9-9182-4913-90b0-54502270cb44 div.sk-dashed-wrapped {border: 1px dashed gray;margin: 0 0.4em 0.5em 0.4em;box-sizing: border-box;padding-bottom: 0.4em;background-color: white;position: relative;}#sk-e4ef54c9-9182-4913-90b0-54502270cb44 div.sk-label label {font-family: monospace;font-weight: bold;background-color: white;display: inline-block;line-height: 1.2em;}#sk-e4ef54c9-9182-4913-90b0-54502270cb44 div.sk-label-container {position: relative;z-index: 2;text-align: center;}#sk-e4ef54c9-9182-4913-90b0-54502270cb44 div.sk-container {display: inline-block;position: relative;}</style><div id=\"sk-e4ef54c9-9182-4913-90b0-54502270cb44\" class\"sk-top-container\"><div class=\"sk-container\"><div class=\"sk-item sk-dashed-wrapped\"><div class=\"sk-label-container\"><div class=\"sk-label sk-toggleable\"><input class=\"sk-toggleable__control sk-hidden--visually\" id=\"0942d4d2-ed41-4623-badb-fdebbebaa6e4\" type=\"checkbox\" ><label class=\"sk-toggleable__label\" for=\"0942d4d2-ed41-4623-badb-fdebbebaa6e4\">Pipeline</label><div class=\"sk-toggleable__content\"><pre>Pipeline(steps=[('preprocessor',\n",
       "                 ColumnTransformer(transformers=[('num_cols',\n",
       "                                                  Pipeline(steps=[('imputer',\n",
       "                                                                   SimpleImputer(strategy='median')),\n",
       "                                                                  ('scaler',\n",
       "                                                                   StandardScaler())]),\n",
       "                                                  ['MSSubClass', 'LotFrontage',\n",
       "                                                   'LotArea', 'OverallQual',\n",
       "                                                   'OverallCond', 'YearBuilt',\n",
       "                                                   'YearRemodAdd', 'MasVnrArea',\n",
       "                                                   'BsmtFinSF1', 'BsmtFinSF2',\n",
       "                                                   'BsmtUnfSF', 'TotalBsmtSF',\n",
       "                                                   '1stFlrSF', '2ndFlrSF',\n",
       "                                                   'Lo...\n",
       "                                                   'BsmtFinType2', 'Heating',\n",
       "                                                   'HeatingQC', 'CentralAir',\n",
       "                                                   'Electrical', 'KitchenQual',\n",
       "                                                   'Functional', 'FireplaceQu', ...]),\n",
       "                                                 ('high_card_cat_cols',\n",
       "                                                  Pipeline(steps=[('imputer',\n",
       "                                                                   SimpleImputer(strategy='constant')),\n",
       "                                                                  ('onehot',\n",
       "                                                                   OneHotEncoder(handle_unknown='ignore'))]),\n",
       "                                                  ['Neighborhood',\n",
       "                                                   'Exterior1st',\n",
       "                                                   'Exterior2nd'])])),\n",
       "                ('model',\n",
       "                 RandomForestRegressor(n_estimators=200, random_state=42))])</pre></div></div></div><div class=\"sk-serial\"><div class=\"sk-item sk-dashed-wrapped\"><div class=\"sk-label-container\"><div class=\"sk-label sk-toggleable\"><input class=\"sk-toggleable__control sk-hidden--visually\" id=\"b9062bf0-7aa0-46c6-a49c-a024963d1e84\" type=\"checkbox\" ><label class=\"sk-toggleable__label\" for=\"b9062bf0-7aa0-46c6-a49c-a024963d1e84\">preprocessor: ColumnTransformer</label><div class=\"sk-toggleable__content\"><pre>ColumnTransformer(transformers=[('num_cols',\n",
       "                                 Pipeline(steps=[('imputer',\n",
       "                                                  SimpleImputer(strategy='median')),\n",
       "                                                 ('scaler', StandardScaler())]),\n",
       "                                 ['MSSubClass', 'LotFrontage', 'LotArea',\n",
       "                                  'OverallQual', 'OverallCond', 'YearBuilt',\n",
       "                                  'YearRemodAdd', 'MasVnrArea', 'BsmtFinSF1',\n",
       "                                  'BsmtFinSF2', 'BsmtUnfSF', 'TotalBsmtSF',\n",
       "                                  '1stFlrSF', '2ndFlrSF', 'LowQualFinSF',\n",
       "                                  'GrLivArea', 'BsmtFul...\n",
       "                                  'ExterCond', 'Foundation', 'BsmtQual',\n",
       "                                  'BsmtCond', 'BsmtExposure', 'BsmtFinType1',\n",
       "                                  'BsmtFinType2', 'Heating', 'HeatingQC',\n",
       "                                  'CentralAir', 'Electrical', 'KitchenQual',\n",
       "                                  'Functional', 'FireplaceQu', ...]),\n",
       "                                ('high_card_cat_cols',\n",
       "                                 Pipeline(steps=[('imputer',\n",
       "                                                  SimpleImputer(strategy='constant')),\n",
       "                                                 ('onehot',\n",
       "                                                  OneHotEncoder(handle_unknown='ignore'))]),\n",
       "                                 ['Neighborhood', 'Exterior1st',\n",
       "                                  'Exterior2nd'])])</pre></div></div></div><div class=\"sk-parallel\"><div class=\"sk-parallel-item\"><div class=\"sk-item\"><div class=\"sk-label-container\"><div class=\"sk-label sk-toggleable\"><input class=\"sk-toggleable__control sk-hidden--visually\" id=\"16fe9904-157c-43d9-901d-49dd8c0a9aae\" type=\"checkbox\" ><label class=\"sk-toggleable__label\" for=\"16fe9904-157c-43d9-901d-49dd8c0a9aae\">num_cols</label><div class=\"sk-toggleable__content\"><pre>['MSSubClass', 'LotFrontage', 'LotArea', 'OverallQual', 'OverallCond', 'YearBuilt', 'YearRemodAdd', 'MasVnrArea', 'BsmtFinSF1', 'BsmtFinSF2', 'BsmtUnfSF', 'TotalBsmtSF', '1stFlrSF', '2ndFlrSF', 'LowQualFinSF', 'GrLivArea', 'BsmtFullBath', 'BsmtHalfBath', 'FullBath', 'HalfBath', 'BedroomAbvGr', 'KitchenAbvGr', 'TotRmsAbvGrd', 'Fireplaces', 'GarageYrBlt', 'GarageCars', 'GarageArea', 'WoodDeckSF', 'OpenPorchSF', 'EnclosedPorch', '3SsnPorch', 'ScreenPorch', 'PoolArea', 'MiscVal', 'MoSold', 'YrSold']</pre></div></div></div><div class=\"sk-serial\"><div class=\"sk-item\"><div class=\"sk-serial\"><div class=\"sk-item\"><div class=\"sk-estimator sk-toggleable\"><input class=\"sk-toggleable__control sk-hidden--visually\" id=\"725e55be-b1a5-4252-8a4d-d3358a3cb86b\" type=\"checkbox\" ><label class=\"sk-toggleable__label\" for=\"725e55be-b1a5-4252-8a4d-d3358a3cb86b\">SimpleImputer</label><div class=\"sk-toggleable__content\"><pre>SimpleImputer(strategy='median')</pre></div></div></div><div class=\"sk-item\"><div class=\"sk-estimator sk-toggleable\"><input class=\"sk-toggleable__control sk-hidden--visually\" id=\"4f347bee-5df7-4e91-85a8-61525773e1fd\" type=\"checkbox\" ><label class=\"sk-toggleable__label\" for=\"4f347bee-5df7-4e91-85a8-61525773e1fd\">StandardScaler</label><div class=\"sk-toggleable__content\"><pre>StandardScaler()</pre></div></div></div></div></div></div></div></div><div class=\"sk-parallel-item\"><div class=\"sk-item\"><div class=\"sk-label-container\"><div class=\"sk-label sk-toggleable\"><input class=\"sk-toggleable__control sk-hidden--visually\" id=\"3eda646b-6764-42a0-9309-d61f8f8abbab\" type=\"checkbox\" ><label class=\"sk-toggleable__label\" for=\"3eda646b-6764-42a0-9309-d61f8f8abbab\">low_card_cat_cols</label><div class=\"sk-toggleable__content\"><pre>['MSZoning', 'Street', 'Alley', 'LotShape', 'LandContour', 'Utilities', 'LotConfig', 'LandSlope', 'Condition1', 'Condition2', 'BldgType', 'HouseStyle', 'RoofStyle', 'RoofMatl', 'MasVnrType', 'ExterQual', 'ExterCond', 'Foundation', 'BsmtQual', 'BsmtCond', 'BsmtExposure', 'BsmtFinType1', 'BsmtFinType2', 'Heating', 'HeatingQC', 'CentralAir', 'Electrical', 'KitchenQual', 'Functional', 'FireplaceQu', 'GarageType', 'GarageFinish', 'GarageQual', 'GarageCond', 'PavedDrive', 'PoolQC', 'Fence', 'MiscFeature', 'SaleType', 'SaleCondition']</pre></div></div></div><div class=\"sk-serial\"><div class=\"sk-item\"><div class=\"sk-serial\"><div class=\"sk-item\"><div class=\"sk-estimator sk-toggleable\"><input class=\"sk-toggleable__control sk-hidden--visually\" id=\"74a443e6-241d-4f42-bce7-802f31350375\" type=\"checkbox\" ><label class=\"sk-toggleable__label\" for=\"74a443e6-241d-4f42-bce7-802f31350375\">SimpleImputer</label><div class=\"sk-toggleable__content\"><pre>SimpleImputer(strategy='constant')</pre></div></div></div><div class=\"sk-item\"><div class=\"sk-estimator sk-toggleable\"><input class=\"sk-toggleable__control sk-hidden--visually\" id=\"62e0fb20-cd3b-448c-85c3-183d9d60b516\" type=\"checkbox\" ><label class=\"sk-toggleable__label\" for=\"62e0fb20-cd3b-448c-85c3-183d9d60b516\">OneHotEncoder</label><div class=\"sk-toggleable__content\"><pre>OneHotEncoder(handle_unknown='ignore')</pre></div></div></div></div></div></div></div></div><div class=\"sk-parallel-item\"><div class=\"sk-item\"><div class=\"sk-label-container\"><div class=\"sk-label sk-toggleable\"><input class=\"sk-toggleable__control sk-hidden--visually\" id=\"badbb060-82a0-46a3-82fa-e3c868ec328e\" type=\"checkbox\" ><label class=\"sk-toggleable__label\" for=\"badbb060-82a0-46a3-82fa-e3c868ec328e\">high_card_cat_cols</label><div class=\"sk-toggleable__content\"><pre>['Neighborhood', 'Exterior1st', 'Exterior2nd']</pre></div></div></div><div class=\"sk-serial\"><div class=\"sk-item\"><div class=\"sk-serial\"><div class=\"sk-item\"><div class=\"sk-estimator sk-toggleable\"><input class=\"sk-toggleable__control sk-hidden--visually\" id=\"49662516-a057-4dc1-8d7d-ee2b15f65c1e\" type=\"checkbox\" ><label class=\"sk-toggleable__label\" for=\"49662516-a057-4dc1-8d7d-ee2b15f65c1e\">SimpleImputer</label><div class=\"sk-toggleable__content\"><pre>SimpleImputer(strategy='constant')</pre></div></div></div><div class=\"sk-item\"><div class=\"sk-estimator sk-toggleable\"><input class=\"sk-toggleable__control sk-hidden--visually\" id=\"7a7ff155-0bd6-4dbf-a787-25f375909187\" type=\"checkbox\" ><label class=\"sk-toggleable__label\" for=\"7a7ff155-0bd6-4dbf-a787-25f375909187\">OneHotEncoder</label><div class=\"sk-toggleable__content\"><pre>OneHotEncoder(handle_unknown='ignore')</pre></div></div></div></div></div></div></div></div></div></div><div class=\"sk-item\"><div class=\"sk-estimator sk-toggleable\"><input class=\"sk-toggleable__control sk-hidden--visually\" id=\"f5265cf0-94cf-4e7d-bc0f-8b644f389cd7\" type=\"checkbox\" ><label class=\"sk-toggleable__label\" for=\"f5265cf0-94cf-4e7d-bc0f-8b644f389cd7\">RandomForestRegressor</label><div class=\"sk-toggleable__content\"><pre>RandomForestRegressor(n_estimators=200, random_state=42)</pre></div></div></div></div></div></div></div>"
      ],
      "text/plain": [
       "Pipeline(steps=[('preprocessor',\n",
       "                 ColumnTransformer(transformers=[('num_cols',\n",
       "                                                  Pipeline(steps=[('imputer',\n",
       "                                                                   SimpleImputer(strategy='median')),\n",
       "                                                                  ('scaler',\n",
       "                                                                   StandardScaler())]),\n",
       "                                                  ['MSSubClass', 'LotFrontage',\n",
       "                                                   'LotArea', 'OverallQual',\n",
       "                                                   'OverallCond', 'YearBuilt',\n",
       "                                                   'YearRemodAdd', 'MasVnrArea',\n",
       "                                                   'BsmtFinSF1', 'BsmtFinSF2',\n",
       "                                                   'BsmtUnfSF', 'TotalBsmtSF',\n",
       "                                                   '1stFlrSF', '2ndFlrSF',\n",
       "                                                   'Lo...\n",
       "                                                   'BsmtFinType2', 'Heating',\n",
       "                                                   'HeatingQC', 'CentralAir',\n",
       "                                                   'Electrical', 'KitchenQual',\n",
       "                                                   'Functional', 'FireplaceQu', ...]),\n",
       "                                                 ('high_card_cat_cols',\n",
       "                                                  Pipeline(steps=[('imputer',\n",
       "                                                                   SimpleImputer(strategy='constant')),\n",
       "                                                                  ('onehot',\n",
       "                                                                   OneHotEncoder(handle_unknown='ignore'))]),\n",
       "                                                  ['Neighborhood',\n",
       "                                                   'Exterior1st',\n",
       "                                                   'Exterior2nd'])])),\n",
       "                ('model',\n",
       "                 RandomForestRegressor(n_estimators=200, random_state=42))])"
      ]
     },
     "execution_count": null,
     "metadata": {},
     "output_type": "execute_result"
    }
   ],
   "source": [
    "ml_pl.spl"
   ]
  },
  {
   "cell_type": "code",
   "execution_count": null,
   "metadata": {},
   "outputs": [],
   "source": [
    "# ml_pl.dfl.create_train_valid(valid_size=0.2)"
   ]
  },
  {
   "cell_type": "code",
   "execution_count": null,
   "metadata": {},
   "outputs": [],
   "source": [
    "# # # Now fit and predict\n",
    "# ml_pl.spl.fit(ml_pl.dfl.X_train, ml_pl.dfl.y_train)\n",
    "\n",
    "# single_fold_preds = ml_pl.spl.predict(ml_pl.dfl.X_valid)\n",
    "# print('X_valid MAE:', mean_absolute_error(ml_pl.dfl.y_valid, single_fold_preds))"
   ]
  },
  {
   "cell_type": "markdown",
   "metadata": {},
   "source": [
    "#### Let's do Cross Validation for Scikit-Learn Model on our MLPipeline"
   ]
  },
  {
   "cell_type": "code",
   "execution_count": null,
   "metadata": {},
   "outputs": [],
   "source": [
    "# # Now fit and predict\n",
    "# scores = ml_pl.do_cross_validation(cv=3, scoring='neg_mean_absolute_error')\n",
    "# print(\"scores:\", scores)\n",
    "# print(\"Average MAE score:\", scores.mean())"
   ]
  },
  {
   "cell_type": "markdown",
   "metadata": {},
   "source": [
    "In background `prepare_data_for_training` and `prepare_data_for_cv`  methods loads your input data into Pandas DataFrame, seprates X(features) and y(target).\n",
    "\n",
    "Then `prepare_data_for_training` methods split X(features) into X_train, y_train, X_valid and y_valid DataFrames.\n",
    "However, `prepare_data_for_cv`  method do not split but let's cross validation split internally X and y DataFrames.\n",
    "\n",
    "Then both methods preprocess all numerical and categorical type data found in these DataFrames using scikit-learn pipelines. Then it bundle preprocessed data with your given model and return an MLPipeline object, this class instance has dataframeloader, preprocessor and scikit-lean pipeline instances, so you can call fit methods on X_train and y_train and predict methods on X_valid or X_test.\n",
    "\n",
    "Please check detail documentation and source code for more details."
   ]
  },
  {
   "cell_type": "markdown",
   "metadata": {},
   "source": [
    "*NOTE: If you want to customize data and preprocessing steps you can do so by using `DataFrameLoader` and `PreProessor` classes. Check detail documentations for these classes for more options.*"
   ]
  },
  {
   "cell_type": "markdown",
   "metadata": {},
   "source": [
    "#### Let's do Grid Search for HyperParameters Tunning for Scikit Model on our MLPipeline"
   ]
  },
  {
   "cell_type": "code",
   "execution_count": null,
   "metadata": {},
   "outputs": [],
   "source": [
    "# param_grid = {\n",
    "# #     \"preprocessor__num__imputer__strategy\": [\"constant\", \"mean\", \"median\"],\n",
    "# #     \"preprocessor__low_cad_cat__imputer__strategy\": [\"most_frequent\", \"constant\"],\n",
    "# #     \"model__max_depth\": [40,80,100],\n",
    "# #     'model__max_features': [2, 3],\n",
    "# #     'model__min_samples_leaf': [3,4,5],\n",
    "# #     'model__min_samples_split': [8,10,12],\n",
    "#     \"model__n_estimators\": [250,550]\n",
    "# }\n",
    "\n",
    "# grid_search = ml_pl.do_grid_search(param_grid=param_grid, cv=3,\n",
    "#                                        scoring='neg_mean_absolute_error')\n",
    "\n",
    "# print(\"Best params:\")\n",
    "# print(grid_search.best_params_)\n",
    "\n",
    "# print(f\"Internal CV Metrics score: {-1*(grid_search.best_score_):.3f}\")"
   ]
  },
  {
   "cell_type": "markdown",
   "metadata": {},
   "source": [
    "#### Let's Use K-Fold Training with best params from grid search"
   ]
  },
  {
   "cell_type": "code",
   "execution_count": null,
   "metadata": {},
   "outputs": [],
   "source": [
    "# # create a new scikit-learn RandomForestRegressor model with best params from grid search\n",
    "# scikit_model_new = RandomForestRegressor(\n",
    "#     n_estimators=550,\n",
    "# #     max_depth = 80,\n",
    "# #     max_features = 3,\n",
    "# #     min_samples_leaf = 3,\n",
    "# #     min_samples_split = 8,\n",
    "#     random_state=42)"
   ]
  },
  {
   "cell_type": "code",
   "execution_count": null,
   "metadata": {},
   "outputs": [],
   "source": [
    "# # Update pipeline with new model\n",
    "# ml_pl.update_model(scikit_model_new)\n",
    "# ml_pl"
   ]
  },
  {
   "cell_type": "code",
   "execution_count": null,
   "metadata": {},
   "outputs": [],
   "source": [
    "# print(len(sci_ml_pl.dfl.final_cols))\n",
    "# sci_ml_pl.dataframeloader.final_cols"
   ]
  },
  {
   "cell_type": "code",
   "execution_count": null,
   "metadata": {},
   "outputs": [
    {
     "name": "stderr",
     "output_type": "stream",
     "text": [
      "/Users/pamathur/miniconda3/envs/nbdev_env/lib/python3.9/site-packages/sklearn/model_selection/_split.py:676: UserWarning: The least populated class in y has only 1 members, which is less than n_splits=5.\n",
      "  warnings.warn(\n"
     ]
    },
    {
     "name": "stdout",
     "output_type": "stream",
     "text": [
      "fold: 1 , mean_absolute_error: 18568.04107876712\n",
      "fold: 2 , mean_absolute_error: 16109.12285958904\n",
      "fold: 3 , mean_absolute_error: 18086.338938356163\n",
      "fold: 4 , mean_absolute_error: 16517.901232876713\n",
      "fold: 5 , mean_absolute_error: 17584.88452054795\n",
      "mean metrics score: 17373.257726027397\n"
     ]
    }
   ],
   "source": [
    "# k-fold training\n",
    "scikit_model_k_fold, scikit_model_metrics_score = ml_pl.do_k_fold_training(n_splits=5, metrics=mean_absolute_error)\n",
    "print(\"mean metrics score:\", np.mean(scikit_model_metrics_score))"
   ]
  },
  {
   "cell_type": "code",
   "execution_count": null,
   "metadata": {},
   "outputs": [
    {
     "name": "stdout",
     "output_type": "stream",
     "text": [
      "(1459,)\n"
     ]
    }
   ],
   "source": [
    "# predict\n",
    "scikit_model_preds = ml_pl.do_k_fold_prediction(k_fold=scikit_model_k_fold)\n",
    "print(scikit_model_preds.shape)\n",
    "# preds"
   ]
  },
  {
   "cell_type": "markdown",
   "metadata": {},
   "source": [
    "#### Let's Use XGBosst on MLPipeline"
   ]
  },
  {
   "cell_type": "markdown",
   "metadata": {},
   "source": [
    "*You can also use MLPipeline with XGBoost model, Just make sure to install XGBooost first depending upon your OS.*\n",
    "\n",
    "*After that all steps remains same. Here is example using XGBRegressor with [Melbourne Home Sale price data](https://www.kaggle.com/estrotococo/home-data-for-ml-course)*"
   ]
  },
  {
   "cell_type": "code",
   "execution_count": null,
   "metadata": {},
   "outputs": [],
   "source": [
    "#!pip install -U xgboost"
   ]
  },
  {
   "cell_type": "code",
   "execution_count": null,
   "metadata": {},
   "outputs": [],
   "source": [
    "# Best way to install xgboost if you are on macosx and windows machine is using conda\n",
    "# !conda install -c conda-forge xgboost"
   ]
  },
  {
   "cell_type": "code",
   "execution_count": null,
   "metadata": {},
   "outputs": [],
   "source": [
    "#export\n",
    "from xgboost import XGBRegressor\n",
    "# create xgb ml model\n",
    "xgb_model = XGBRegressor(n_estimators=250,learning_rate=0.05, random_state=42)"
   ]
  },
  {
   "cell_type": "code",
   "execution_count": null,
   "metadata": {},
   "outputs": [
    {
     "data": {
      "text/html": [
       "<style>#sk-ec73fce4-bb6b-4361-8328-6472a5d07190 {color: black;background-color: white;}#sk-ec73fce4-bb6b-4361-8328-6472a5d07190 pre{padding: 0;}#sk-ec73fce4-bb6b-4361-8328-6472a5d07190 div.sk-toggleable {background-color: white;}#sk-ec73fce4-bb6b-4361-8328-6472a5d07190 label.sk-toggleable__label {cursor: pointer;display: block;width: 100%;margin-bottom: 0;padding: 0.3em;box-sizing: border-box;text-align: center;}#sk-ec73fce4-bb6b-4361-8328-6472a5d07190 div.sk-toggleable__content {max-height: 0;max-width: 0;overflow: hidden;text-align: left;background-color: #f0f8ff;}#sk-ec73fce4-bb6b-4361-8328-6472a5d07190 div.sk-toggleable__content pre {margin: 0.2em;color: black;border-radius: 0.25em;background-color: #f0f8ff;}#sk-ec73fce4-bb6b-4361-8328-6472a5d07190 input.sk-toggleable__control:checked~div.sk-toggleable__content {max-height: 200px;max-width: 100%;overflow: auto;}#sk-ec73fce4-bb6b-4361-8328-6472a5d07190 div.sk-estimator input.sk-toggleable__control:checked~label.sk-toggleable__label {background-color: #d4ebff;}#sk-ec73fce4-bb6b-4361-8328-6472a5d07190 div.sk-label input.sk-toggleable__control:checked~label.sk-toggleable__label {background-color: #d4ebff;}#sk-ec73fce4-bb6b-4361-8328-6472a5d07190 input.sk-hidden--visually {border: 0;clip: rect(1px 1px 1px 1px);clip: rect(1px, 1px, 1px, 1px);height: 1px;margin: -1px;overflow: hidden;padding: 0;position: absolute;width: 1px;}#sk-ec73fce4-bb6b-4361-8328-6472a5d07190 div.sk-estimator {font-family: monospace;background-color: #f0f8ff;border: 1px dotted black;border-radius: 0.25em;box-sizing: border-box;margin-bottom: 0.5em;}#sk-ec73fce4-bb6b-4361-8328-6472a5d07190 div.sk-estimator:hover {background-color: #d4ebff;}#sk-ec73fce4-bb6b-4361-8328-6472a5d07190 div.sk-parallel-item::after {content: \"\";width: 100%;border-bottom: 1px solid gray;flex-grow: 1;}#sk-ec73fce4-bb6b-4361-8328-6472a5d07190 div.sk-label:hover label.sk-toggleable__label {background-color: #d4ebff;}#sk-ec73fce4-bb6b-4361-8328-6472a5d07190 div.sk-serial::before {content: \"\";position: absolute;border-left: 1px solid gray;box-sizing: border-box;top: 2em;bottom: 0;left: 50%;}#sk-ec73fce4-bb6b-4361-8328-6472a5d07190 div.sk-serial {display: flex;flex-direction: column;align-items: center;background-color: white;padding-right: 0.2em;padding-left: 0.2em;}#sk-ec73fce4-bb6b-4361-8328-6472a5d07190 div.sk-item {z-index: 1;}#sk-ec73fce4-bb6b-4361-8328-6472a5d07190 div.sk-parallel {display: flex;align-items: stretch;justify-content: center;background-color: white;}#sk-ec73fce4-bb6b-4361-8328-6472a5d07190 div.sk-parallel::before {content: \"\";position: absolute;border-left: 1px solid gray;box-sizing: border-box;top: 2em;bottom: 0;left: 50%;}#sk-ec73fce4-bb6b-4361-8328-6472a5d07190 div.sk-parallel-item {display: flex;flex-direction: column;position: relative;background-color: white;}#sk-ec73fce4-bb6b-4361-8328-6472a5d07190 div.sk-parallel-item:first-child::after {align-self: flex-end;width: 50%;}#sk-ec73fce4-bb6b-4361-8328-6472a5d07190 div.sk-parallel-item:last-child::after {align-self: flex-start;width: 50%;}#sk-ec73fce4-bb6b-4361-8328-6472a5d07190 div.sk-parallel-item:only-child::after {width: 0;}#sk-ec73fce4-bb6b-4361-8328-6472a5d07190 div.sk-dashed-wrapped {border: 1px dashed gray;margin: 0 0.4em 0.5em 0.4em;box-sizing: border-box;padding-bottom: 0.4em;background-color: white;position: relative;}#sk-ec73fce4-bb6b-4361-8328-6472a5d07190 div.sk-label label {font-family: monospace;font-weight: bold;background-color: white;display: inline-block;line-height: 1.2em;}#sk-ec73fce4-bb6b-4361-8328-6472a5d07190 div.sk-label-container {position: relative;z-index: 2;text-align: center;}#sk-ec73fce4-bb6b-4361-8328-6472a5d07190 div.sk-container {display: inline-block;position: relative;}</style><div id=\"sk-ec73fce4-bb6b-4361-8328-6472a5d07190\" class\"sk-top-container\"><div class=\"sk-container\"><div class=\"sk-item sk-dashed-wrapped\"><div class=\"sk-label-container\"><div class=\"sk-label sk-toggleable\"><input class=\"sk-toggleable__control sk-hidden--visually\" id=\"ad48eeba-8292-4d5d-94c3-0d5accd49f77\" type=\"checkbox\" ><label class=\"sk-toggleable__label\" for=\"ad48eeba-8292-4d5d-94c3-0d5accd49f77\">Pipeline</label><div class=\"sk-toggleable__content\"><pre>Pipeline(steps=[('preprocessor',\n",
       "                 ColumnTransformer(transformers=[('num_cols',\n",
       "                                                  Pipeline(steps=[('imputer',\n",
       "                                                                   SimpleImputer(strategy='median')),\n",
       "                                                                  ('scaler',\n",
       "                                                                   StandardScaler())]),\n",
       "                                                  ['MSSubClass', 'LotFrontage',\n",
       "                                                   'LotArea', 'OverallQual',\n",
       "                                                   'OverallCond', 'YearBuilt',\n",
       "                                                   'YearRemodAdd', 'MasVnrArea',\n",
       "                                                   'BsmtFinSF1', 'BsmtFinSF2',\n",
       "                                                   'BsmtUnfSF', 'TotalBsmtSF',\n",
       "                                                   '1stFlrSF', '2ndFlrSF',\n",
       "                                                   'Lo...\n",
       "                              interaction_constraints=None, learning_rate=0.05,\n",
       "                              max_delta_step=None, max_depth=None,\n",
       "                              min_child_weight=None, missing=nan,\n",
       "                              monotone_constraints=None, n_estimators=250,\n",
       "                              n_jobs=None, num_parallel_tree=None,\n",
       "                              predictor=None, random_state=42, reg_alpha=None,\n",
       "                              reg_lambda=None, scale_pos_weight=None,\n",
       "                              subsample=None, tree_method=None,\n",
       "                              validate_parameters=None, verbosity=None))])</pre></div></div></div><div class=\"sk-serial\"><div class=\"sk-item sk-dashed-wrapped\"><div class=\"sk-label-container\"><div class=\"sk-label sk-toggleable\"><input class=\"sk-toggleable__control sk-hidden--visually\" id=\"edc802ce-c1c8-42b8-bf7c-f5be5910f411\" type=\"checkbox\" ><label class=\"sk-toggleable__label\" for=\"edc802ce-c1c8-42b8-bf7c-f5be5910f411\">preprocessor: ColumnTransformer</label><div class=\"sk-toggleable__content\"><pre>ColumnTransformer(transformers=[('num_cols',\n",
       "                                 Pipeline(steps=[('imputer',\n",
       "                                                  SimpleImputer(strategy='median')),\n",
       "                                                 ('scaler', StandardScaler())]),\n",
       "                                 ['MSSubClass', 'LotFrontage', 'LotArea',\n",
       "                                  'OverallQual', 'OverallCond', 'YearBuilt',\n",
       "                                  'YearRemodAdd', 'MasVnrArea', 'BsmtFinSF1',\n",
       "                                  'BsmtFinSF2', 'BsmtUnfSF', 'TotalBsmtSF',\n",
       "                                  '1stFlrSF', '2ndFlrSF', 'LowQualFinSF',\n",
       "                                  'GrLivArea', 'BsmtFul...\n",
       "                                  'ExterCond', 'Foundation', 'BsmtQual',\n",
       "                                  'BsmtCond', 'BsmtExposure', 'BsmtFinType1',\n",
       "                                  'BsmtFinType2', 'Heating', 'HeatingQC',\n",
       "                                  'CentralAir', 'Electrical', 'KitchenQual',\n",
       "                                  'Functional', 'FireplaceQu', ...]),\n",
       "                                ('high_card_cat_cols',\n",
       "                                 Pipeline(steps=[('imputer',\n",
       "                                                  SimpleImputer(strategy='constant')),\n",
       "                                                 ('onehot',\n",
       "                                                  OneHotEncoder(handle_unknown='ignore'))]),\n",
       "                                 ['Neighborhood', 'Exterior1st',\n",
       "                                  'Exterior2nd'])])</pre></div></div></div><div class=\"sk-parallel\"><div class=\"sk-parallel-item\"><div class=\"sk-item\"><div class=\"sk-label-container\"><div class=\"sk-label sk-toggleable\"><input class=\"sk-toggleable__control sk-hidden--visually\" id=\"2d4cd068-0b5e-4efb-8a50-9ef4b56f9071\" type=\"checkbox\" ><label class=\"sk-toggleable__label\" for=\"2d4cd068-0b5e-4efb-8a50-9ef4b56f9071\">num_cols</label><div class=\"sk-toggleable__content\"><pre>['MSSubClass', 'LotFrontage', 'LotArea', 'OverallQual', 'OverallCond', 'YearBuilt', 'YearRemodAdd', 'MasVnrArea', 'BsmtFinSF1', 'BsmtFinSF2', 'BsmtUnfSF', 'TotalBsmtSF', '1stFlrSF', '2ndFlrSF', 'LowQualFinSF', 'GrLivArea', 'BsmtFullBath', 'BsmtHalfBath', 'FullBath', 'HalfBath', 'BedroomAbvGr', 'KitchenAbvGr', 'TotRmsAbvGrd', 'Fireplaces', 'GarageYrBlt', 'GarageCars', 'GarageArea', 'WoodDeckSF', 'OpenPorchSF', 'EnclosedPorch', '3SsnPorch', 'ScreenPorch', 'PoolArea', 'MiscVal', 'MoSold', 'YrSold']</pre></div></div></div><div class=\"sk-serial\"><div class=\"sk-item\"><div class=\"sk-serial\"><div class=\"sk-item\"><div class=\"sk-estimator sk-toggleable\"><input class=\"sk-toggleable__control sk-hidden--visually\" id=\"e0c30a50-268d-4b3f-9817-b076192ca22a\" type=\"checkbox\" ><label class=\"sk-toggleable__label\" for=\"e0c30a50-268d-4b3f-9817-b076192ca22a\">SimpleImputer</label><div class=\"sk-toggleable__content\"><pre>SimpleImputer(strategy='median')</pre></div></div></div><div class=\"sk-item\"><div class=\"sk-estimator sk-toggleable\"><input class=\"sk-toggleable__control sk-hidden--visually\" id=\"fbb2c7cc-066d-4310-b969-9a020aca49c8\" type=\"checkbox\" ><label class=\"sk-toggleable__label\" for=\"fbb2c7cc-066d-4310-b969-9a020aca49c8\">StandardScaler</label><div class=\"sk-toggleable__content\"><pre>StandardScaler()</pre></div></div></div></div></div></div></div></div><div class=\"sk-parallel-item\"><div class=\"sk-item\"><div class=\"sk-label-container\"><div class=\"sk-label sk-toggleable\"><input class=\"sk-toggleable__control sk-hidden--visually\" id=\"210b4374-4957-4ff2-baab-b473adb1c757\" type=\"checkbox\" ><label class=\"sk-toggleable__label\" for=\"210b4374-4957-4ff2-baab-b473adb1c757\">low_card_cat_cols</label><div class=\"sk-toggleable__content\"><pre>['MSZoning', 'Street', 'Alley', 'LotShape', 'LandContour', 'Utilities', 'LotConfig', 'LandSlope', 'Condition1', 'Condition2', 'BldgType', 'HouseStyle', 'RoofStyle', 'RoofMatl', 'MasVnrType', 'ExterQual', 'ExterCond', 'Foundation', 'BsmtQual', 'BsmtCond', 'BsmtExposure', 'BsmtFinType1', 'BsmtFinType2', 'Heating', 'HeatingQC', 'CentralAir', 'Electrical', 'KitchenQual', 'Functional', 'FireplaceQu', 'GarageType', 'GarageFinish', 'GarageQual', 'GarageCond', 'PavedDrive', 'PoolQC', 'Fence', 'MiscFeature', 'SaleType', 'SaleCondition']</pre></div></div></div><div class=\"sk-serial\"><div class=\"sk-item\"><div class=\"sk-serial\"><div class=\"sk-item\"><div class=\"sk-estimator sk-toggleable\"><input class=\"sk-toggleable__control sk-hidden--visually\" id=\"9d4ed1a8-3c1a-4442-9285-89dd85ca70c7\" type=\"checkbox\" ><label class=\"sk-toggleable__label\" for=\"9d4ed1a8-3c1a-4442-9285-89dd85ca70c7\">SimpleImputer</label><div class=\"sk-toggleable__content\"><pre>SimpleImputer(strategy='constant')</pre></div></div></div><div class=\"sk-item\"><div class=\"sk-estimator sk-toggleable\"><input class=\"sk-toggleable__control sk-hidden--visually\" id=\"106c8949-4663-4406-a3bc-d5369e64a150\" type=\"checkbox\" ><label class=\"sk-toggleable__label\" for=\"106c8949-4663-4406-a3bc-d5369e64a150\">OneHotEncoder</label><div class=\"sk-toggleable__content\"><pre>OneHotEncoder(handle_unknown='ignore')</pre></div></div></div></div></div></div></div></div><div class=\"sk-parallel-item\"><div class=\"sk-item\"><div class=\"sk-label-container\"><div class=\"sk-label sk-toggleable\"><input class=\"sk-toggleable__control sk-hidden--visually\" id=\"19286461-a5ab-4c70-94f8-391ed9aaa8a0\" type=\"checkbox\" ><label class=\"sk-toggleable__label\" for=\"19286461-a5ab-4c70-94f8-391ed9aaa8a0\">high_card_cat_cols</label><div class=\"sk-toggleable__content\"><pre>['Neighborhood', 'Exterior1st', 'Exterior2nd']</pre></div></div></div><div class=\"sk-serial\"><div class=\"sk-item\"><div class=\"sk-serial\"><div class=\"sk-item\"><div class=\"sk-estimator sk-toggleable\"><input class=\"sk-toggleable__control sk-hidden--visually\" id=\"d5577593-f788-4e93-9a48-165ab44b6819\" type=\"checkbox\" ><label class=\"sk-toggleable__label\" for=\"d5577593-f788-4e93-9a48-165ab44b6819\">SimpleImputer</label><div class=\"sk-toggleable__content\"><pre>SimpleImputer(strategy='constant')</pre></div></div></div><div class=\"sk-item\"><div class=\"sk-estimator sk-toggleable\"><input class=\"sk-toggleable__control sk-hidden--visually\" id=\"cb2bd435-7838-40db-a0db-80cc0ceb5387\" type=\"checkbox\" ><label class=\"sk-toggleable__label\" for=\"cb2bd435-7838-40db-a0db-80cc0ceb5387\">OneHotEncoder</label><div class=\"sk-toggleable__content\"><pre>OneHotEncoder(handle_unknown='ignore')</pre></div></div></div></div></div></div></div></div></div></div><div class=\"sk-item\"><div class=\"sk-estimator sk-toggleable\"><input class=\"sk-toggleable__control sk-hidden--visually\" id=\"e24286b3-a4a3-4282-844a-1b6e0300c82b\" type=\"checkbox\" ><label class=\"sk-toggleable__label\" for=\"e24286b3-a4a3-4282-844a-1b6e0300c82b\">XGBRegressor</label><div class=\"sk-toggleable__content\"><pre>XGBRegressor(base_score=None, booster=None, colsample_bylevel=None,\n",
       "             colsample_bynode=None, colsample_bytree=None,\n",
       "             enable_categorical=False, gamma=None, gpu_id=None,\n",
       "             importance_type=None, interaction_constraints=None,\n",
       "             learning_rate=0.05, max_delta_step=None, max_depth=None,\n",
       "             min_child_weight=None, missing=nan, monotone_constraints=None,\n",
       "             n_estimators=250, n_jobs=None, num_parallel_tree=None,\n",
       "             predictor=None, random_state=42, reg_alpha=None, reg_lambda=None,\n",
       "             scale_pos_weight=None, subsample=None, tree_method=None,\n",
       "             validate_parameters=None, verbosity=None)</pre></div></div></div></div></div></div></div>"
      ],
      "text/plain": [
       "Pipeline(steps=[('preprocessor',\n",
       "                 ColumnTransformer(transformers=[('num_cols',\n",
       "                                                  Pipeline(steps=[('imputer',\n",
       "                                                                   SimpleImputer(strategy='median')),\n",
       "                                                                  ('scaler',\n",
       "                                                                   StandardScaler())]),\n",
       "                                                  ['MSSubClass', 'LotFrontage',\n",
       "                                                   'LotArea', 'OverallQual',\n",
       "                                                   'OverallCond', 'YearBuilt',\n",
       "                                                   'YearRemodAdd', 'MasVnrArea',\n",
       "                                                   'BsmtFinSF1', 'BsmtFinSF2',\n",
       "                                                   'BsmtUnfSF', 'TotalBsmtSF',\n",
       "                                                   '1stFlrSF', '2ndFlrSF',\n",
       "                                                   'Lo...\n",
       "                              interaction_constraints=None, learning_rate=0.05,\n",
       "                              max_delta_step=None, max_depth=None,\n",
       "                              min_child_weight=None, missing=nan,\n",
       "                              monotone_constraints=None, n_estimators=250,\n",
       "                              n_jobs=None, num_parallel_tree=None,\n",
       "                              predictor=None, random_state=42, reg_alpha=None,\n",
       "                              reg_lambda=None, scale_pos_weight=None,\n",
       "                              subsample=None, tree_method=None,\n",
       "                              validate_parameters=None, verbosity=None))])"
      ]
     },
     "execution_count": null,
     "metadata": {},
     "output_type": "execute_result"
    }
   ],
   "source": [
    "# Update pipeline with xgb model\n",
    "ml_pl.update_model(xgb_model)\n",
    "ml_pl.spl"
   ]
  },
  {
   "cell_type": "code",
   "execution_count": null,
   "metadata": {},
   "outputs": [],
   "source": [
    "# # Now fit and predict\n",
    "# ml_pl.spl.fit(ml_pl.dfl.X_train, ml_pl.dfl.y_train)\n",
    "# single_fold_preds = ml_pl.spl.predict(ml_pl.dfl.X_valid)\n",
    "# print('X_valid MAE:', mean_absolute_error(ml_pl.dfl.y_valid, single_fold_preds))"
   ]
  },
  {
   "cell_type": "markdown",
   "metadata": {},
   "source": [
    "#### Let's do Cross Validation for XGB Model on our MLPipeline"
   ]
  },
  {
   "cell_type": "code",
   "execution_count": null,
   "metadata": {},
   "outputs": [],
   "source": [
    "# # cross_validation\n",
    "# scores = ml_pl.do_cross_validation(cv=3, scoring='neg_mean_absolute_error')\n",
    "# print(\"scores:\", scores)\n",
    "# print(\"Average MAE score:\", scores.mean())"
   ]
  },
  {
   "cell_type": "markdown",
   "metadata": {},
   "source": [
    "#### Let's Use K-Fold Training for XGB model"
   ]
  },
  {
   "cell_type": "code",
   "execution_count": null,
   "metadata": {},
   "outputs": [
    {
     "name": "stderr",
     "output_type": "stream",
     "text": [
      "/Users/pamathur/miniconda3/envs/nbdev_env/lib/python3.9/site-packages/sklearn/model_selection/_split.py:676: UserWarning: The least populated class in y has only 1 members, which is less than n_splits=5.\n",
      "  warnings.warn(\n"
     ]
    },
    {
     "name": "stdout",
     "output_type": "stream",
     "text": [
      "fold: 1 , mean_absolute_error: 16896.02367829623\n",
      "fold: 2 , mean_absolute_error: 15229.370959974314\n",
      "fold: 3 , mean_absolute_error: 18296.649547838184\n",
      "fold: 4 , mean_absolute_error: 15044.73260916096\n",
      "fold: 5 , mean_absolute_error: 16023.18660370291\n",
      "mean metrics score: 16297.992679794519\n"
     ]
    }
   ],
   "source": [
    "# k-fold training\n",
    "xgb_model_k_fold, xgb_model_metrics_score = ml_pl.do_k_fold_training(n_splits=5, metrics=mean_absolute_error)\n",
    "print(\"mean metrics score:\", np.mean(xgb_model_metrics_score))"
   ]
  },
  {
   "cell_type": "code",
   "execution_count": null,
   "metadata": {},
   "outputs": [
    {
     "name": "stdout",
     "output_type": "stream",
     "text": [
      "(1459,)\n"
     ]
    }
   ],
   "source": [
    "# predict\n",
    "xgb_model_preds = ml_pl.do_k_fold_prediction(k_fold=xgb_model_k_fold)\n",
    "print(xgb_model_preds.shape)\n",
    "# preds"
   ]
  },
  {
   "cell_type": "markdown",
   "metadata": {},
   "source": [
    "\n",
    "Let's bin the predictions, using weighted average"
   ]
  },
  {
   "cell_type": "code",
   "execution_count": null,
   "metadata": {},
   "outputs": [
    {
     "name": "stdout",
     "output_type": "stream",
     "text": [
      "(1459,)\n"
     ]
    }
   ],
   "source": [
    "x1 = 0.6\n",
    "x2 = 0.4\n",
    "\n",
    "final_preds = ((x1*scikit_model_preds) + (x2*xgb_model_preds)) / 2\n",
    "\n",
    "print(final_preds.shape)"
   ]
  },
  {
   "cell_type": "code",
   "execution_count": null,
   "metadata": {},
   "outputs": [
    {
     "name": "stdout",
     "output_type": "stream",
     "text": [
      "Converted 00_DataFrameLoader.ipynb.\n",
      "Converted 01_PreProcessor.ipynb.\n",
      "Converted 02_MLPipeline.ipynb.\n",
      "Converted 03_Tutorial.ipynb.\n",
      "Converted 07_Kaggle_TPS_Tutorial.ipynb.\n",
      "Converted Optuna_Tutorial.ipynb.\n",
      "Converted automl_in_sklearn_pipeline.ipynb.\n",
      "Converted index.ipynb.\n"
     ]
    }
   ],
   "source": [
    "# hide\n",
    "# run the script to build \n",
    "\n",
    "from nbdev.export import notebook2script; notebook2script()"
   ]
  },
  {
   "cell_type": "code",
   "execution_count": null,
   "metadata": {},
   "outputs": [],
   "source": []
  }
 ],
 "metadata": {
  "kernelspec": {
   "display_name": "Python 3 (ipykernel)",
   "language": "python",
   "name": "python3"
  }
 },
 "nbformat": 4,
 "nbformat_minor": 2
}
