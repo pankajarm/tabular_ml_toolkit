{
 "cells": [
  {
   "cell_type": "code",
   "execution_count": 1,
   "metadata": {},
   "outputs": [],
   "source": [
    "%load_ext autoreload\n",
    "%autoreload 2"
   ]
  },
  {
   "cell_type": "markdown",
   "metadata": {},
   "source": [
    "# Getting Started Tutorial with Tabular ML Toolkit\n",
    "\n",
    "> A tutorial on getting started with Tabular ml toolkit\n",
    "\n",
    "> tabular_ml_toolkit is a superfast helper library to speedup your machine learning project based on Tabular or Structured data.\n",
    "\n",
    "> It comes with model parallelism and cutting edge hyperparameter tuning techniques."
   ]
  },
  {
   "cell_type": "markdown",
   "metadata": {},
   "source": [
    "## Install"
   ]
  },
  {
   "cell_type": "markdown",
   "metadata": {},
   "source": [
    "`pip install -U tabular_ml_toolkit`"
   ]
  },
  {
   "cell_type": "markdown",
   "metadata": {},
   "source": [
    "## How to Best Use tabular_ml_toolkit"
   ]
  },
  {
   "cell_type": "markdown",
   "metadata": {},
   "source": [
    "Start with your favorite model and then just simply create MLPipeline with one API."
   ]
  },
  {
   "cell_type": "markdown",
   "metadata": {},
   "source": [
    "*For example, Here we are using RandomForestRegressor from Scikit-Learn, on  [Melbourne Home Sale price data](https://www.kaggle.com/estrotococo/home-data-for-ml-course)*\n",
    "\n",
    "\n",
    "*No need to install scikit-learn as it comes preinstall with Tabular_ML_Toolkit*"
   ]
  },
  {
   "cell_type": "code",
   "execution_count": 2,
   "metadata": {},
   "outputs": [],
   "source": [
    "from tabular_ml_toolkit.tmlt import *\n",
    "from sklearn.ensemble import RandomForestRegressor\n",
    "from sklearn.metrics import mean_absolute_error\n",
    "import pandas as pd\n",
    "import numpy as np\n",
    "\n",
    "# for displaying diagram of pipelines \n",
    "from sklearn import set_config\n",
    "set_config(display=\"diagram\")\n",
    "\n",
    "# Just to compare fit times\n",
    "import time"
   ]
  },
  {
   "cell_type": "code",
   "execution_count": 3,
   "metadata": {},
   "outputs": [],
   "source": [
    "# Dataset file names and Paths\n",
    "DIRECTORY_PATH = \"https://raw.githubusercontent.com/psmathur/tabular_ml_toolkit/master/input/home_data/\"\n",
    "TRAIN_FILE = \"train.csv\"\n",
    "TEST_FILE = \"test.csv\"\n",
    "SAMPLE_SUB_FILE = \"sample_submission.csv\""
   ]
  },
  {
   "cell_type": "code",
   "execution_count": 5,
   "metadata": {},
   "outputs": [
    {
     "name": "stderr",
     "output_type": "stream",
     "text": [
      "2021-11-18 18:13:37,590 INFO 12 cores found, parallel processing is enabled!\n",
      "2021-11-18 18:13:38,159 INFO DataFrame Memory usage decreased to 0.58 Mb (35.5% reduction)\n",
      "2021-11-18 18:13:38,733 INFO DataFrame Memory usage decreased to 0.58 Mb (34.8% reduction)\n"
     ]
    }
   ],
   "source": [
    "# create scikit-learn ml model\n",
    "scikit_model = RandomForestRegressor(random_state=42)\n",
    "\n",
    "# createm ml pipeline for scikit-learn model\n",
    "tmlt = TMLT().prepare_data_for_training(\n",
    "    train_file_path= DIRECTORY_PATH+TRAIN_FILE,\n",
    "    test_file_path= DIRECTORY_PATH+TEST_FILE,\n",
    "    idx_col=\"Id\", target=\"SalePrice\",\n",
    "    model=scikit_model,\n",
    "    random_state=42,\n",
    "    problem_type=\"regression\")"
   ]
  },
  {
   "cell_type": "code",
   "execution_count": 6,
   "metadata": {},
   "outputs": [
    {
     "data": {
      "text/html": [
       "<style>#sk-5f477bb7-2390-4309-88a2-c24520f3d53f {color: black;background-color: white;}#sk-5f477bb7-2390-4309-88a2-c24520f3d53f pre{padding: 0;}#sk-5f477bb7-2390-4309-88a2-c24520f3d53f div.sk-toggleable {background-color: white;}#sk-5f477bb7-2390-4309-88a2-c24520f3d53f label.sk-toggleable__label {cursor: pointer;display: block;width: 100%;margin-bottom: 0;padding: 0.3em;box-sizing: border-box;text-align: center;}#sk-5f477bb7-2390-4309-88a2-c24520f3d53f div.sk-toggleable__content {max-height: 0;max-width: 0;overflow: hidden;text-align: left;background-color: #f0f8ff;}#sk-5f477bb7-2390-4309-88a2-c24520f3d53f div.sk-toggleable__content pre {margin: 0.2em;color: black;border-radius: 0.25em;background-color: #f0f8ff;}#sk-5f477bb7-2390-4309-88a2-c24520f3d53f input.sk-toggleable__control:checked~div.sk-toggleable__content {max-height: 200px;max-width: 100%;overflow: auto;}#sk-5f477bb7-2390-4309-88a2-c24520f3d53f div.sk-estimator input.sk-toggleable__control:checked~label.sk-toggleable__label {background-color: #d4ebff;}#sk-5f477bb7-2390-4309-88a2-c24520f3d53f div.sk-label input.sk-toggleable__control:checked~label.sk-toggleable__label {background-color: #d4ebff;}#sk-5f477bb7-2390-4309-88a2-c24520f3d53f input.sk-hidden--visually {border: 0;clip: rect(1px 1px 1px 1px);clip: rect(1px, 1px, 1px, 1px);height: 1px;margin: -1px;overflow: hidden;padding: 0;position: absolute;width: 1px;}#sk-5f477bb7-2390-4309-88a2-c24520f3d53f div.sk-estimator {font-family: monospace;background-color: #f0f8ff;border: 1px dotted black;border-radius: 0.25em;box-sizing: border-box;margin-bottom: 0.5em;}#sk-5f477bb7-2390-4309-88a2-c24520f3d53f div.sk-estimator:hover {background-color: #d4ebff;}#sk-5f477bb7-2390-4309-88a2-c24520f3d53f div.sk-parallel-item::after {content: \"\";width: 100%;border-bottom: 1px solid gray;flex-grow: 1;}#sk-5f477bb7-2390-4309-88a2-c24520f3d53f div.sk-label:hover label.sk-toggleable__label {background-color: #d4ebff;}#sk-5f477bb7-2390-4309-88a2-c24520f3d53f div.sk-serial::before {content: \"\";position: absolute;border-left: 1px solid gray;box-sizing: border-box;top: 2em;bottom: 0;left: 50%;}#sk-5f477bb7-2390-4309-88a2-c24520f3d53f div.sk-serial {display: flex;flex-direction: column;align-items: center;background-color: white;padding-right: 0.2em;padding-left: 0.2em;}#sk-5f477bb7-2390-4309-88a2-c24520f3d53f div.sk-item {z-index: 1;}#sk-5f477bb7-2390-4309-88a2-c24520f3d53f div.sk-parallel {display: flex;align-items: stretch;justify-content: center;background-color: white;}#sk-5f477bb7-2390-4309-88a2-c24520f3d53f div.sk-parallel::before {content: \"\";position: absolute;border-left: 1px solid gray;box-sizing: border-box;top: 2em;bottom: 0;left: 50%;}#sk-5f477bb7-2390-4309-88a2-c24520f3d53f div.sk-parallel-item {display: flex;flex-direction: column;position: relative;background-color: white;}#sk-5f477bb7-2390-4309-88a2-c24520f3d53f div.sk-parallel-item:first-child::after {align-self: flex-end;width: 50%;}#sk-5f477bb7-2390-4309-88a2-c24520f3d53f div.sk-parallel-item:last-child::after {align-self: flex-start;width: 50%;}#sk-5f477bb7-2390-4309-88a2-c24520f3d53f div.sk-parallel-item:only-child::after {width: 0;}#sk-5f477bb7-2390-4309-88a2-c24520f3d53f div.sk-dashed-wrapped {border: 1px dashed gray;margin: 0 0.4em 0.5em 0.4em;box-sizing: border-box;padding-bottom: 0.4em;background-color: white;position: relative;}#sk-5f477bb7-2390-4309-88a2-c24520f3d53f div.sk-label label {font-family: monospace;font-weight: bold;background-color: white;display: inline-block;line-height: 1.2em;}#sk-5f477bb7-2390-4309-88a2-c24520f3d53f div.sk-label-container {position: relative;z-index: 2;text-align: center;}#sk-5f477bb7-2390-4309-88a2-c24520f3d53f div.sk-container {display: inline-block;position: relative;}</style><div id=\"sk-5f477bb7-2390-4309-88a2-c24520f3d53f\" class\"sk-top-container\"><div class=\"sk-container\"><div class=\"sk-item sk-dashed-wrapped\"><div class=\"sk-label-container\"><div class=\"sk-label sk-toggleable\"><input class=\"sk-toggleable__control sk-hidden--visually\" id=\"202dc504-c7b5-4c38-b2bb-5477d47fe8c4\" type=\"checkbox\" ><label class=\"sk-toggleable__label\" for=\"202dc504-c7b5-4c38-b2bb-5477d47fe8c4\">Pipeline</label><div class=\"sk-toggleable__content\"><pre>Pipeline(steps=[('preprocessor',\n",
       "                 ColumnTransformer(transformers=[('num_cols',\n",
       "                                                  Pipeline(steps=[('imputer',\n",
       "                                                                   SimpleImputer(strategy='median')),\n",
       "                                                                  ('scaler',\n",
       "                                                                   StandardScaler())]),\n",
       "                                                  ['MSSubClass', 'LotFrontage',\n",
       "                                                   'LotArea', 'OverallQual',\n",
       "                                                   'OverallCond', 'YearBuilt',\n",
       "                                                   'YearRemodAdd', 'MasVnrArea',\n",
       "                                                   'BsmtFinSF1', 'BsmtFinSF2',\n",
       "                                                   'BsmtUnfSF', 'TotalBsmtSF',\n",
       "                                                   '1stFlrSF', '2ndFlrSF',\n",
       "                                                   'Lo...\n",
       "                                                   'LotConfig', 'LandSlope',\n",
       "                                                   'Condition1', 'Condition2',\n",
       "                                                   'BldgType', 'HouseStyle',\n",
       "                                                   'RoofStyle', 'RoofMatl',\n",
       "                                                   'MasVnrType', 'ExterQual',\n",
       "                                                   'ExterCond', 'Foundation',\n",
       "                                                   'BsmtQual', 'BsmtCond',\n",
       "                                                   'BsmtExposure',\n",
       "                                                   'BsmtFinType1',\n",
       "                                                   'BsmtFinType2', 'Heating',\n",
       "                                                   'HeatingQC', 'CentralAir',\n",
       "                                                   'Electrical', 'KitchenQual',\n",
       "                                                   'Functional', 'FireplaceQu', ...])])),\n",
       "                ('model', RandomForestRegressor(n_jobs=11, random_state=42))])</pre></div></div></div><div class=\"sk-serial\"><div class=\"sk-item sk-dashed-wrapped\"><div class=\"sk-label-container\"><div class=\"sk-label sk-toggleable\"><input class=\"sk-toggleable__control sk-hidden--visually\" id=\"2f626bda-834d-4fef-b828-5568fdaeace6\" type=\"checkbox\" ><label class=\"sk-toggleable__label\" for=\"2f626bda-834d-4fef-b828-5568fdaeace6\">preprocessor: ColumnTransformer</label><div class=\"sk-toggleable__content\"><pre>ColumnTransformer(transformers=[('num_cols',\n",
       "                                 Pipeline(steps=[('imputer',\n",
       "                                                  SimpleImputer(strategy='median')),\n",
       "                                                 ('scaler', StandardScaler())]),\n",
       "                                 ['MSSubClass', 'LotFrontage', 'LotArea',\n",
       "                                  'OverallQual', 'OverallCond', 'YearBuilt',\n",
       "                                  'YearRemodAdd', 'MasVnrArea', 'BsmtFinSF1',\n",
       "                                  'BsmtFinSF2', 'BsmtUnfSF', 'TotalBsmtSF',\n",
       "                                  '1stFlrSF', '2ndFlrSF', 'LowQualFinSF',\n",
       "                                  'GrLivArea', 'BsmtFul...\n",
       "                                 ['MSZoning', 'Street', 'Alley', 'LotShape',\n",
       "                                  'LandContour', 'Utilities', 'LotConfig',\n",
       "                                  'LandSlope', 'Condition1', 'Condition2',\n",
       "                                  'BldgType', 'HouseStyle', 'RoofStyle',\n",
       "                                  'RoofMatl', 'MasVnrType', 'ExterQual',\n",
       "                                  'ExterCond', 'Foundation', 'BsmtQual',\n",
       "                                  'BsmtCond', 'BsmtExposure', 'BsmtFinType1',\n",
       "                                  'BsmtFinType2', 'Heating', 'HeatingQC',\n",
       "                                  'CentralAir', 'Electrical', 'KitchenQual',\n",
       "                                  'Functional', 'FireplaceQu', ...])])</pre></div></div></div><div class=\"sk-parallel\"><div class=\"sk-parallel-item\"><div class=\"sk-item\"><div class=\"sk-label-container\"><div class=\"sk-label sk-toggleable\"><input class=\"sk-toggleable__control sk-hidden--visually\" id=\"1e7d556f-a31e-4cfe-bdaa-7ec05bcb150d\" type=\"checkbox\" ><label class=\"sk-toggleable__label\" for=\"1e7d556f-a31e-4cfe-bdaa-7ec05bcb150d\">num_cols</label><div class=\"sk-toggleable__content\"><pre>['MSSubClass', 'LotFrontage', 'LotArea', 'OverallQual', 'OverallCond', 'YearBuilt', 'YearRemodAdd', 'MasVnrArea', 'BsmtFinSF1', 'BsmtFinSF2', 'BsmtUnfSF', 'TotalBsmtSF', '1stFlrSF', '2ndFlrSF', 'LowQualFinSF', 'GrLivArea', 'BsmtFullBath', 'BsmtHalfBath', 'FullBath', 'HalfBath', 'BedroomAbvGr', 'KitchenAbvGr', 'TotRmsAbvGrd', 'Fireplaces', 'GarageYrBlt', 'GarageCars', 'GarageArea', 'WoodDeckSF', 'OpenPorchSF', 'EnclosedPorch', '3SsnPorch', 'ScreenPorch', 'PoolArea', 'MiscVal', 'MoSold', 'YrSold']</pre></div></div></div><div class=\"sk-serial\"><div class=\"sk-item\"><div class=\"sk-serial\"><div class=\"sk-item\"><div class=\"sk-estimator sk-toggleable\"><input class=\"sk-toggleable__control sk-hidden--visually\" id=\"83e58718-6b0e-420e-a14f-205538a64af2\" type=\"checkbox\" ><label class=\"sk-toggleable__label\" for=\"83e58718-6b0e-420e-a14f-205538a64af2\">SimpleImputer</label><div class=\"sk-toggleable__content\"><pre>SimpleImputer(strategy='median')</pre></div></div></div><div class=\"sk-item\"><div class=\"sk-estimator sk-toggleable\"><input class=\"sk-toggleable__control sk-hidden--visually\" id=\"4bcc55af-bf81-41fe-a156-f73eeb63e96c\" type=\"checkbox\" ><label class=\"sk-toggleable__label\" for=\"4bcc55af-bf81-41fe-a156-f73eeb63e96c\">StandardScaler</label><div class=\"sk-toggleable__content\"><pre>StandardScaler()</pre></div></div></div></div></div></div></div></div><div class=\"sk-parallel-item\"><div class=\"sk-item\"><div class=\"sk-label-container\"><div class=\"sk-label sk-toggleable\"><input class=\"sk-toggleable__control sk-hidden--visually\" id=\"a473a487-f77e-4a93-a064-2a566b09fcfa\" type=\"checkbox\" ><label class=\"sk-toggleable__label\" for=\"a473a487-f77e-4a93-a064-2a566b09fcfa\">cat_cols</label><div class=\"sk-toggleable__content\"><pre>['MSZoning', 'Street', 'Alley', 'LotShape', 'LandContour', 'Utilities', 'LotConfig', 'LandSlope', 'Condition1', 'Condition2', 'BldgType', 'HouseStyle', 'RoofStyle', 'RoofMatl', 'MasVnrType', 'ExterQual', 'ExterCond', 'Foundation', 'BsmtQual', 'BsmtCond', 'BsmtExposure', 'BsmtFinType1', 'BsmtFinType2', 'Heating', 'HeatingQC', 'CentralAir', 'Electrical', 'KitchenQual', 'Functional', 'FireplaceQu', 'GarageType', 'GarageFinish', 'GarageQual', 'GarageCond', 'PavedDrive', 'PoolQC', 'Fence', 'MiscFeature', 'SaleType', 'SaleCondition', 'Neighborhood', 'Exterior1st', 'Exterior2nd']</pre></div></div></div><div class=\"sk-serial\"><div class=\"sk-item\"><div class=\"sk-serial\"><div class=\"sk-item\"><div class=\"sk-estimator sk-toggleable\"><input class=\"sk-toggleable__control sk-hidden--visually\" id=\"7333fc83-97de-4bf8-bb6d-3de01ac05158\" type=\"checkbox\" ><label class=\"sk-toggleable__label\" for=\"7333fc83-97de-4bf8-bb6d-3de01ac05158\">SimpleImputer</label><div class=\"sk-toggleable__content\"><pre>SimpleImputer(strategy='constant')</pre></div></div></div><div class=\"sk-item\"><div class=\"sk-estimator sk-toggleable\"><input class=\"sk-toggleable__control sk-hidden--visually\" id=\"9ebb6d68-2801-4d2a-aa0e-8022ba393584\" type=\"checkbox\" ><label class=\"sk-toggleable__label\" for=\"9ebb6d68-2801-4d2a-aa0e-8022ba393584\">OneHotEncoder</label><div class=\"sk-toggleable__content\"><pre>OneHotEncoder(handle_unknown='ignore')</pre></div></div></div></div></div></div></div></div></div></div><div class=\"sk-item\"><div class=\"sk-estimator sk-toggleable\"><input class=\"sk-toggleable__control sk-hidden--visually\" id=\"a7d4b730-ad52-4651-a2e5-3060ff28597b\" type=\"checkbox\" ><label class=\"sk-toggleable__label\" for=\"a7d4b730-ad52-4651-a2e5-3060ff28597b\">RandomForestRegressor</label><div class=\"sk-toggleable__content\"><pre>RandomForestRegressor(n_jobs=11, random_state=42)</pre></div></div></div></div></div></div></div>"
      ],
      "text/plain": [
       "Pipeline(steps=[('preprocessor',\n",
       "                 ColumnTransformer(transformers=[('num_cols',\n",
       "                                                  Pipeline(steps=[('imputer',\n",
       "                                                                   SimpleImputer(strategy='median')),\n",
       "                                                                  ('scaler',\n",
       "                                                                   StandardScaler())]),\n",
       "                                                  ['MSSubClass', 'LotFrontage',\n",
       "                                                   'LotArea', 'OverallQual',\n",
       "                                                   'OverallCond', 'YearBuilt',\n",
       "                                                   'YearRemodAdd', 'MasVnrArea',\n",
       "                                                   'BsmtFinSF1', 'BsmtFinSF2',\n",
       "                                                   'BsmtUnfSF', 'TotalBsmtSF',\n",
       "                                                   '1stFlrSF', '2ndFlrSF',\n",
       "                                                   'Lo...\n",
       "                                                   'LotConfig', 'LandSlope',\n",
       "                                                   'Condition1', 'Condition2',\n",
       "                                                   'BldgType', 'HouseStyle',\n",
       "                                                   'RoofStyle', 'RoofMatl',\n",
       "                                                   'MasVnrType', 'ExterQual',\n",
       "                                                   'ExterCond', 'Foundation',\n",
       "                                                   'BsmtQual', 'BsmtCond',\n",
       "                                                   'BsmtExposure',\n",
       "                                                   'BsmtFinType1',\n",
       "                                                   'BsmtFinType2', 'Heating',\n",
       "                                                   'HeatingQC', 'CentralAir',\n",
       "                                                   'Electrical', 'KitchenQual',\n",
       "                                                   'Functional', 'FireplaceQu', ...])])),\n",
       "                ('model', RandomForestRegressor(n_jobs=11, random_state=42))])"
      ]
     },
     "execution_count": 6,
     "metadata": {},
     "output_type": "execute_result"
    }
   ],
   "source": [
    "tmlt.spl"
   ]
  },
  {
   "cell_type": "code",
   "execution_count": 7,
   "metadata": {},
   "outputs": [
    {
     "name": "stdout",
     "output_type": "stream",
     "text": [
      "Fit Time: 1.0004990100860596\n",
      "X_valid MAE: 17634.989965753426\n"
     ]
    }
   ],
   "source": [
    "# create train, valid split to evaulate model on valid dataset\n",
    "tmlt.dfl.create_train_valid(valid_size=0.2)\n",
    "\n",
    "start = time.time()\n",
    "# Now fit\n",
    "tmlt.spl.fit(tmlt.dfl.X_train, tmlt.dfl.y_train)\n",
    "end = time.time()\n",
    "print(\"Fit Time:\", end - start)\n",
    "\n",
    "#predict\n",
    "preds = tmlt.spl.predict(tmlt.dfl.X_valid)\n",
    "print('X_valid MAE:', mean_absolute_error(tmlt.dfl.y_valid, preds))"
   ]
  },
  {
   "cell_type": "markdown",
   "metadata": {},
   "source": [
    "\n",
    "\n",
    "#### To see more clear picture of model performance, Let's do Cross Validation on our Pipeline"
   ]
  },
  {
   "cell_type": "code",
   "execution_count": 8,
   "metadata": {},
   "outputs": [
    {
     "name": "stdout",
     "output_type": "stream",
     "text": [
      "Cross Validation Time: 6.477942943572998\n",
      "scores: [18028.27554795 17426.42736301 17942.29359589 15938.34671233\n",
      " 19148.49674658]\n",
      "Average MAE score: 17696.767993150686\n"
     ]
    }
   ],
   "source": [
    "start = time.time()\n",
    "# Now do cross_validation\n",
    "scores = tmlt.do_cross_validation(cv=5, scoring='neg_mean_absolute_error')\n",
    "end = time.time()\n",
    "print(\"Cross Validation Time:\", end - start)\n",
    "\n",
    "print(\"scores:\", scores)\n",
    "print(\"Average MAE score:\", scores.mean())"
   ]
  },
  {
   "cell_type": "markdown",
   "metadata": {},
   "source": [
    "##### *MAE did become slightly bad with cross validation*"
   ]
  },
  {
   "cell_type": "markdown",
   "metadata": {},
   "source": [
    "#### Let's do HyperParameters Tunning for our entire MLPipeline"
   ]
  },
  {
   "cell_type": "markdown",
   "metadata": {},
   "source": [
    "##### Let's see if we can improve our cross validation score with hyperparams tunning"
   ]
  },
  {
   "cell_type": "code",
   "execution_count": 9,
   "metadata": {},
   "outputs": [
    {
     "data": {
      "text/html": [
       "<style>#sk-87a1102f-03ca-4381-8409-f91cff4b9426 {color: black;background-color: white;}#sk-87a1102f-03ca-4381-8409-f91cff4b9426 pre{padding: 0;}#sk-87a1102f-03ca-4381-8409-f91cff4b9426 div.sk-toggleable {background-color: white;}#sk-87a1102f-03ca-4381-8409-f91cff4b9426 label.sk-toggleable__label {cursor: pointer;display: block;width: 100%;margin-bottom: 0;padding: 0.3em;box-sizing: border-box;text-align: center;}#sk-87a1102f-03ca-4381-8409-f91cff4b9426 div.sk-toggleable__content {max-height: 0;max-width: 0;overflow: hidden;text-align: left;background-color: #f0f8ff;}#sk-87a1102f-03ca-4381-8409-f91cff4b9426 div.sk-toggleable__content pre {margin: 0.2em;color: black;border-radius: 0.25em;background-color: #f0f8ff;}#sk-87a1102f-03ca-4381-8409-f91cff4b9426 input.sk-toggleable__control:checked~div.sk-toggleable__content {max-height: 200px;max-width: 100%;overflow: auto;}#sk-87a1102f-03ca-4381-8409-f91cff4b9426 div.sk-estimator input.sk-toggleable__control:checked~label.sk-toggleable__label {background-color: #d4ebff;}#sk-87a1102f-03ca-4381-8409-f91cff4b9426 div.sk-label input.sk-toggleable__control:checked~label.sk-toggleable__label {background-color: #d4ebff;}#sk-87a1102f-03ca-4381-8409-f91cff4b9426 input.sk-hidden--visually {border: 0;clip: rect(1px 1px 1px 1px);clip: rect(1px, 1px, 1px, 1px);height: 1px;margin: -1px;overflow: hidden;padding: 0;position: absolute;width: 1px;}#sk-87a1102f-03ca-4381-8409-f91cff4b9426 div.sk-estimator {font-family: monospace;background-color: #f0f8ff;border: 1px dotted black;border-radius: 0.25em;box-sizing: border-box;margin-bottom: 0.5em;}#sk-87a1102f-03ca-4381-8409-f91cff4b9426 div.sk-estimator:hover {background-color: #d4ebff;}#sk-87a1102f-03ca-4381-8409-f91cff4b9426 div.sk-parallel-item::after {content: \"\";width: 100%;border-bottom: 1px solid gray;flex-grow: 1;}#sk-87a1102f-03ca-4381-8409-f91cff4b9426 div.sk-label:hover label.sk-toggleable__label {background-color: #d4ebff;}#sk-87a1102f-03ca-4381-8409-f91cff4b9426 div.sk-serial::before {content: \"\";position: absolute;border-left: 1px solid gray;box-sizing: border-box;top: 2em;bottom: 0;left: 50%;}#sk-87a1102f-03ca-4381-8409-f91cff4b9426 div.sk-serial {display: flex;flex-direction: column;align-items: center;background-color: white;padding-right: 0.2em;padding-left: 0.2em;}#sk-87a1102f-03ca-4381-8409-f91cff4b9426 div.sk-item {z-index: 1;}#sk-87a1102f-03ca-4381-8409-f91cff4b9426 div.sk-parallel {display: flex;align-items: stretch;justify-content: center;background-color: white;}#sk-87a1102f-03ca-4381-8409-f91cff4b9426 div.sk-parallel::before {content: \"\";position: absolute;border-left: 1px solid gray;box-sizing: border-box;top: 2em;bottom: 0;left: 50%;}#sk-87a1102f-03ca-4381-8409-f91cff4b9426 div.sk-parallel-item {display: flex;flex-direction: column;position: relative;background-color: white;}#sk-87a1102f-03ca-4381-8409-f91cff4b9426 div.sk-parallel-item:first-child::after {align-self: flex-end;width: 50%;}#sk-87a1102f-03ca-4381-8409-f91cff4b9426 div.sk-parallel-item:last-child::after {align-self: flex-start;width: 50%;}#sk-87a1102f-03ca-4381-8409-f91cff4b9426 div.sk-parallel-item:only-child::after {width: 0;}#sk-87a1102f-03ca-4381-8409-f91cff4b9426 div.sk-dashed-wrapped {border: 1px dashed gray;margin: 0 0.4em 0.5em 0.4em;box-sizing: border-box;padding-bottom: 0.4em;background-color: white;position: relative;}#sk-87a1102f-03ca-4381-8409-f91cff4b9426 div.sk-label label {font-family: monospace;font-weight: bold;background-color: white;display: inline-block;line-height: 1.2em;}#sk-87a1102f-03ca-4381-8409-f91cff4b9426 div.sk-label-container {position: relative;z-index: 2;text-align: center;}#sk-87a1102f-03ca-4381-8409-f91cff4b9426 div.sk-container {display: inline-block;position: relative;}</style><div id=\"sk-87a1102f-03ca-4381-8409-f91cff4b9426\" class\"sk-top-container\"><div class=\"sk-container\"><div class=\"sk-item sk-dashed-wrapped\"><div class=\"sk-label-container\"><div class=\"sk-label sk-toggleable\"><input class=\"sk-toggleable__control sk-hidden--visually\" id=\"ad948717-a8d2-4681-9d24-b0323ba8faf0\" type=\"checkbox\" ><label class=\"sk-toggleable__label\" for=\"ad948717-a8d2-4681-9d24-b0323ba8faf0\">Pipeline</label><div class=\"sk-toggleable__content\"><pre>Pipeline(steps=[('preprocessor',\n",
       "                 ColumnTransformer(transformers=[('num_cols',\n",
       "                                                  Pipeline(steps=[('imputer',\n",
       "                                                                   SimpleImputer(strategy='median')),\n",
       "                                                                  ('scaler',\n",
       "                                                                   StandardScaler())]),\n",
       "                                                  ['MSSubClass', 'LotFrontage',\n",
       "                                                   'LotArea', 'OverallQual',\n",
       "                                                   'OverallCond', 'YearBuilt',\n",
       "                                                   'YearRemodAdd', 'MasVnrArea',\n",
       "                                                   'BsmtFinSF1', 'BsmtFinSF2',\n",
       "                                                   'BsmtUnfSF', 'TotalBsmtSF',\n",
       "                                                   '1stFlrSF', '2ndFlrSF',\n",
       "                                                   'Lo...\n",
       "                                                   'Condition1', 'Condition2',\n",
       "                                                   'BldgType', 'HouseStyle',\n",
       "                                                   'RoofStyle', 'RoofMatl',\n",
       "                                                   'MasVnrType', 'ExterQual',\n",
       "                                                   'ExterCond', 'Foundation',\n",
       "                                                   'BsmtQual', 'BsmtCond',\n",
       "                                                   'BsmtExposure',\n",
       "                                                   'BsmtFinType1',\n",
       "                                                   'BsmtFinType2', 'Heating',\n",
       "                                                   'HeatingQC', 'CentralAir',\n",
       "                                                   'Electrical', 'KitchenQual',\n",
       "                                                   'Functional', 'FireplaceQu', ...])])),\n",
       "                ('model',\n",
       "                 RandomForestRegressor(n_estimators=10, random_state=42))])</pre></div></div></div><div class=\"sk-serial\"><div class=\"sk-item sk-dashed-wrapped\"><div class=\"sk-label-container\"><div class=\"sk-label sk-toggleable\"><input class=\"sk-toggleable__control sk-hidden--visually\" id=\"e647cecd-4f48-4b6b-ae97-d38e3c9e6903\" type=\"checkbox\" ><label class=\"sk-toggleable__label\" for=\"e647cecd-4f48-4b6b-ae97-d38e3c9e6903\">preprocessor: ColumnTransformer</label><div class=\"sk-toggleable__content\"><pre>ColumnTransformer(transformers=[('num_cols',\n",
       "                                 Pipeline(steps=[('imputer',\n",
       "                                                  SimpleImputer(strategy='median')),\n",
       "                                                 ('scaler', StandardScaler())]),\n",
       "                                 ['MSSubClass', 'LotFrontage', 'LotArea',\n",
       "                                  'OverallQual', 'OverallCond', 'YearBuilt',\n",
       "                                  'YearRemodAdd', 'MasVnrArea', 'BsmtFinSF1',\n",
       "                                  'BsmtFinSF2', 'BsmtUnfSF', 'TotalBsmtSF',\n",
       "                                  '1stFlrSF', '2ndFlrSF', 'LowQualFinSF',\n",
       "                                  'GrLivArea', 'BsmtFul...\n",
       "                                 ['MSZoning', 'Street', 'Alley', 'LotShape',\n",
       "                                  'LandContour', 'Utilities', 'LotConfig',\n",
       "                                  'LandSlope', 'Condition1', 'Condition2',\n",
       "                                  'BldgType', 'HouseStyle', 'RoofStyle',\n",
       "                                  'RoofMatl', 'MasVnrType', 'ExterQual',\n",
       "                                  'ExterCond', 'Foundation', 'BsmtQual',\n",
       "                                  'BsmtCond', 'BsmtExposure', 'BsmtFinType1',\n",
       "                                  'BsmtFinType2', 'Heating', 'HeatingQC',\n",
       "                                  'CentralAir', 'Electrical', 'KitchenQual',\n",
       "                                  'Functional', 'FireplaceQu', ...])])</pre></div></div></div><div class=\"sk-parallel\"><div class=\"sk-parallel-item\"><div class=\"sk-item\"><div class=\"sk-label-container\"><div class=\"sk-label sk-toggleable\"><input class=\"sk-toggleable__control sk-hidden--visually\" id=\"87d147d5-f73e-4172-8c2a-395950dee999\" type=\"checkbox\" ><label class=\"sk-toggleable__label\" for=\"87d147d5-f73e-4172-8c2a-395950dee999\">num_cols</label><div class=\"sk-toggleable__content\"><pre>['MSSubClass', 'LotFrontage', 'LotArea', 'OverallQual', 'OverallCond', 'YearBuilt', 'YearRemodAdd', 'MasVnrArea', 'BsmtFinSF1', 'BsmtFinSF2', 'BsmtUnfSF', 'TotalBsmtSF', '1stFlrSF', '2ndFlrSF', 'LowQualFinSF', 'GrLivArea', 'BsmtFullBath', 'BsmtHalfBath', 'FullBath', 'HalfBath', 'BedroomAbvGr', 'KitchenAbvGr', 'TotRmsAbvGrd', 'Fireplaces', 'GarageYrBlt', 'GarageCars', 'GarageArea', 'WoodDeckSF', 'OpenPorchSF', 'EnclosedPorch', '3SsnPorch', 'ScreenPorch', 'PoolArea', 'MiscVal', 'MoSold', 'YrSold']</pre></div></div></div><div class=\"sk-serial\"><div class=\"sk-item\"><div class=\"sk-serial\"><div class=\"sk-item\"><div class=\"sk-estimator sk-toggleable\"><input class=\"sk-toggleable__control sk-hidden--visually\" id=\"dbaa78a5-73ee-428b-bca2-80d61367ef3c\" type=\"checkbox\" ><label class=\"sk-toggleable__label\" for=\"dbaa78a5-73ee-428b-bca2-80d61367ef3c\">SimpleImputer</label><div class=\"sk-toggleable__content\"><pre>SimpleImputer(strategy='median')</pre></div></div></div><div class=\"sk-item\"><div class=\"sk-estimator sk-toggleable\"><input class=\"sk-toggleable__control sk-hidden--visually\" id=\"bbb79d66-ee53-4ade-afce-161c3e86eba8\" type=\"checkbox\" ><label class=\"sk-toggleable__label\" for=\"bbb79d66-ee53-4ade-afce-161c3e86eba8\">StandardScaler</label><div class=\"sk-toggleable__content\"><pre>StandardScaler()</pre></div></div></div></div></div></div></div></div><div class=\"sk-parallel-item\"><div class=\"sk-item\"><div class=\"sk-label-container\"><div class=\"sk-label sk-toggleable\"><input class=\"sk-toggleable__control sk-hidden--visually\" id=\"1be6177d-4fc7-40b9-9c6c-3221ddd73b2c\" type=\"checkbox\" ><label class=\"sk-toggleable__label\" for=\"1be6177d-4fc7-40b9-9c6c-3221ddd73b2c\">cat_cols</label><div class=\"sk-toggleable__content\"><pre>['MSZoning', 'Street', 'Alley', 'LotShape', 'LandContour', 'Utilities', 'LotConfig', 'LandSlope', 'Condition1', 'Condition2', 'BldgType', 'HouseStyle', 'RoofStyle', 'RoofMatl', 'MasVnrType', 'ExterQual', 'ExterCond', 'Foundation', 'BsmtQual', 'BsmtCond', 'BsmtExposure', 'BsmtFinType1', 'BsmtFinType2', 'Heating', 'HeatingQC', 'CentralAir', 'Electrical', 'KitchenQual', 'Functional', 'FireplaceQu', 'GarageType', 'GarageFinish', 'GarageQual', 'GarageCond', 'PavedDrive', 'PoolQC', 'Fence', 'MiscFeature', 'SaleType', 'SaleCondition', 'Neighborhood', 'Exterior1st', 'Exterior2nd']</pre></div></div></div><div class=\"sk-serial\"><div class=\"sk-item\"><div class=\"sk-serial\"><div class=\"sk-item\"><div class=\"sk-estimator sk-toggleable\"><input class=\"sk-toggleable__control sk-hidden--visually\" id=\"0c88bce9-71a0-4c18-bb40-d68a7f3bf6ad\" type=\"checkbox\" ><label class=\"sk-toggleable__label\" for=\"0c88bce9-71a0-4c18-bb40-d68a7f3bf6ad\">SimpleImputer</label><div class=\"sk-toggleable__content\"><pre>SimpleImputer(strategy='constant')</pre></div></div></div><div class=\"sk-item\"><div class=\"sk-estimator sk-toggleable\"><input class=\"sk-toggleable__control sk-hidden--visually\" id=\"41cbe2cc-4ad3-4f5a-9e1d-45b1ff3fa9b5\" type=\"checkbox\" ><label class=\"sk-toggleable__label\" for=\"41cbe2cc-4ad3-4f5a-9e1d-45b1ff3fa9b5\">OneHotEncoder</label><div class=\"sk-toggleable__content\"><pre>OneHotEncoder(handle_unknown='ignore')</pre></div></div></div></div></div></div></div></div></div></div><div class=\"sk-item\"><div class=\"sk-estimator sk-toggleable\"><input class=\"sk-toggleable__control sk-hidden--visually\" id=\"7cd51dae-4cd0-4d26-9037-8475424a2a6e\" type=\"checkbox\" ><label class=\"sk-toggleable__label\" for=\"7cd51dae-4cd0-4d26-9037-8475424a2a6e\">RandomForestRegressor</label><div class=\"sk-toggleable__content\"><pre>RandomForestRegressor(n_estimators=10, random_state=42)</pre></div></div></div></div></div></div></div>"
      ],
      "text/plain": [
       "Pipeline(steps=[('preprocessor',\n",
       "                 ColumnTransformer(transformers=[('num_cols',\n",
       "                                                  Pipeline(steps=[('imputer',\n",
       "                                                                   SimpleImputer(strategy='median')),\n",
       "                                                                  ('scaler',\n",
       "                                                                   StandardScaler())]),\n",
       "                                                  ['MSSubClass', 'LotFrontage',\n",
       "                                                   'LotArea', 'OverallQual',\n",
       "                                                   'OverallCond', 'YearBuilt',\n",
       "                                                   'YearRemodAdd', 'MasVnrArea',\n",
       "                                                   'BsmtFinSF1', 'BsmtFinSF2',\n",
       "                                                   'BsmtUnfSF', 'TotalBsmtSF',\n",
       "                                                   '1stFlrSF', '2ndFlrSF',\n",
       "                                                   'Lo...\n",
       "                                                   'Condition1', 'Condition2',\n",
       "                                                   'BldgType', 'HouseStyle',\n",
       "                                                   'RoofStyle', 'RoofMatl',\n",
       "                                                   'MasVnrType', 'ExterQual',\n",
       "                                                   'ExterCond', 'Foundation',\n",
       "                                                   'BsmtQual', 'BsmtCond',\n",
       "                                                   'BsmtExposure',\n",
       "                                                   'BsmtFinType1',\n",
       "                                                   'BsmtFinType2', 'Heating',\n",
       "                                                   'HeatingQC', 'CentralAir',\n",
       "                                                   'Electrical', 'KitchenQual',\n",
       "                                                   'Functional', 'FireplaceQu', ...])])),\n",
       "                ('model',\n",
       "                 RandomForestRegressor(n_estimators=10, random_state=42))])"
      ]
     },
     "execution_count": 9,
     "metadata": {},
     "output_type": "execute_result"
    }
   ],
   "source": [
    "# create a new scikit-learn ml model with minimum amount of estimator for warm start\n",
    "scikit_model_new = RandomForestRegressor(n_estimators=10,\n",
    "                                     random_state=42)\n",
    "# Update pipeline with new model\n",
    "tmlt.update_model(scikit_model_new)\n",
    "tmlt.spl"
   ]
  },
  {
   "cell_type": "code",
   "execution_count": 10,
   "metadata": {},
   "outputs": [],
   "source": [
    "from sklearn.preprocessing import StandardScaler, MinMaxScaler\n",
    "from sklearn.impute import SimpleImputer"
   ]
  },
  {
   "cell_type": "code",
   "execution_count": 11,
   "metadata": {},
   "outputs": [
    {
     "name": "stderr",
     "output_type": "stream",
     "text": [
      "/Users/pamathur/miniconda3/envs/nbdev_env/lib/python3.9/site-packages/tune_sklearn/tune_basesearch.py:400: UserWarning: max_iters is set > 1 but incremental/partial training is not enabled. To enable partial training, ensure the estimator has `partial_fit` or `warm_start` and set `early_stopping=True`. Automatically setting max_iters=1.\n",
      "  warnings.warn(\n",
      "/Users/pamathur/miniconda3/envs/nbdev_env/lib/python3.9/site-packages/ray/tune/tune.py:368: UserWarning: The `loggers` argument is deprecated. Please pass the respective `LoggerCallback` classes to the `callbacks` argument instead. See https://docs.ray.io/en/latest/tune/api_docs/logging.html\n",
      "  warnings.warn(\n",
      "\u001b[2m\u001b[36m(pid=60895)\u001b[0m 2021-11-18 18:14:56,072\tERROR worker.py:425 -- SystemExit was raised from the worker\n",
      "\u001b[2m\u001b[36m(pid=60895)\u001b[0m Traceback (most recent call last):\n",
      "\u001b[2m\u001b[36m(pid=60895)\u001b[0m   File \"python/ray/_raylet.pyx\", line 692, in ray._raylet.task_execution_handler\n",
      "\u001b[2m\u001b[36m(pid=60895)\u001b[0m   File \"python/ray/_raylet.pyx\", line 521, in ray._raylet.execute_task\n",
      "\u001b[2m\u001b[36m(pid=60895)\u001b[0m   File \"python/ray/_raylet.pyx\", line 558, in ray._raylet.execute_task\n",
      "\u001b[2m\u001b[36m(pid=60895)\u001b[0m   File \"python/ray/_raylet.pyx\", line 565, in ray._raylet.execute_task\n",
      "\u001b[2m\u001b[36m(pid=60895)\u001b[0m   File \"python/ray/_raylet.pyx\", line 569, in ray._raylet.execute_task\n",
      "\u001b[2m\u001b[36m(pid=60895)\u001b[0m   File \"python/ray/_raylet.pyx\", line 519, in ray._raylet.execute_task.function_executor\n",
      "\u001b[2m\u001b[36m(pid=60895)\u001b[0m   File \"/Users/pamathur/miniconda3/envs/nbdev_env/lib/python3.9/site-packages/ray/_private/function_manager.py\", line 576, in actor_method_executor\n",
      "\u001b[2m\u001b[36m(pid=60895)\u001b[0m     return method(__ray_actor, *args, **kwargs)\n",
      "\u001b[2m\u001b[36m(pid=60895)\u001b[0m   File \"/Users/pamathur/miniconda3/envs/nbdev_env/lib/python3.9/site-packages/ray/util/tracing/tracing_helper.py\", line 451, in _resume_span\n",
      "\u001b[2m\u001b[36m(pid=60895)\u001b[0m     return method(self, *_args, **_kwargs)\n",
      "\u001b[2m\u001b[36m(pid=60895)\u001b[0m   File \"/Users/pamathur/miniconda3/envs/nbdev_env/lib/python3.9/site-packages/ray/tune/trainable.py\", line 224, in train_buffered\n",
      "\u001b[2m\u001b[36m(pid=60895)\u001b[0m     result = self.train()\n",
      "\u001b[2m\u001b[36m(pid=60895)\u001b[0m   File \"/Users/pamathur/miniconda3/envs/nbdev_env/lib/python3.9/site-packages/ray/util/tracing/tracing_helper.py\", line 451, in _resume_span\n",
      "\u001b[2m\u001b[36m(pid=60895)\u001b[0m     return method(self, *_args, **_kwargs)\n",
      "\u001b[2m\u001b[36m(pid=60895)\u001b[0m   File \"/Users/pamathur/miniconda3/envs/nbdev_env/lib/python3.9/site-packages/ray/tune/trainable.py\", line 283, in train\n",
      "\u001b[2m\u001b[36m(pid=60895)\u001b[0m     result = self.step()\n",
      "\u001b[2m\u001b[36m(pid=60895)\u001b[0m   File \"/Users/pamathur/miniconda3/envs/nbdev_env/lib/python3.9/site-packages/ray/util/tracing/tracing_helper.py\", line 451, in _resume_span\n",
      "\u001b[2m\u001b[36m(pid=60895)\u001b[0m     return method(self, *_args, **_kwargs)\n",
      "\u001b[2m\u001b[36m(pid=60895)\u001b[0m   File \"/Users/pamathur/miniconda3/envs/nbdev_env/lib/python3.9/site-packages/tune_sklearn/_trainable.py\", line 106, in step\n",
      "\u001b[2m\u001b[36m(pid=60895)\u001b[0m     return self._train()\n",
      "\u001b[2m\u001b[36m(pid=60895)\u001b[0m   File \"/Users/pamathur/miniconda3/envs/nbdev_env/lib/python3.9/site-packages/ray/util/tracing/tracing_helper.py\", line 451, in _resume_span\n",
      "\u001b[2m\u001b[36m(pid=60895)\u001b[0m     return method(self, *_args, **_kwargs)\n",
      "\u001b[2m\u001b[36m(pid=60895)\u001b[0m   File \"/Users/pamathur/miniconda3/envs/nbdev_env/lib/python3.9/site-packages/tune_sklearn/_trainable.py\", line 237, in _train\n",
      "\u001b[2m\u001b[36m(pid=60895)\u001b[0m     scores = cross_validate(\n",
      "\u001b[2m\u001b[36m(pid=60895)\u001b[0m   File \"/Users/pamathur/miniconda3/envs/nbdev_env/lib/python3.9/site-packages/sklearn/model_selection/_validation.py\", line 267, in cross_validate\n",
      "\u001b[2m\u001b[36m(pid=60895)\u001b[0m     results = parallel(\n",
      "\u001b[2m\u001b[36m(pid=60895)\u001b[0m   File \"/Users/pamathur/miniconda3/envs/nbdev_env/lib/python3.9/site-packages/joblib/parallel.py\", line 1046, in __call__\n",
      "\u001b[2m\u001b[36m(pid=60895)\u001b[0m     while self.dispatch_one_batch(iterator):\n",
      "\u001b[2m\u001b[36m(pid=60895)\u001b[0m   File \"/Users/pamathur/miniconda3/envs/nbdev_env/lib/python3.9/site-packages/joblib/parallel.py\", line 861, in dispatch_one_batch\n",
      "\u001b[2m\u001b[36m(pid=60895)\u001b[0m     self._dispatch(tasks)\n",
      "\u001b[2m\u001b[36m(pid=60895)\u001b[0m   File \"/Users/pamathur/miniconda3/envs/nbdev_env/lib/python3.9/site-packages/joblib/parallel.py\", line 779, in _dispatch\n",
      "\u001b[2m\u001b[36m(pid=60895)\u001b[0m     job = self._backend.apply_async(batch, callback=cb)\n",
      "\u001b[2m\u001b[36m(pid=60895)\u001b[0m   File \"/Users/pamathur/miniconda3/envs/nbdev_env/lib/python3.9/site-packages/joblib/_parallel_backends.py\", line 208, in apply_async\n",
      "\u001b[2m\u001b[36m(pid=60895)\u001b[0m     result = ImmediateResult(func)\n",
      "\u001b[2m\u001b[36m(pid=60895)\u001b[0m   File \"/Users/pamathur/miniconda3/envs/nbdev_env/lib/python3.9/site-packages/joblib/_parallel_backends.py\", line 572, in __init__\n",
      "\u001b[2m\u001b[36m(pid=60895)\u001b[0m     self.results = batch()\n",
      "\u001b[2m\u001b[36m(pid=60895)\u001b[0m   File \"/Users/pamathur/miniconda3/envs/nbdev_env/lib/python3.9/site-packages/joblib/parallel.py\", line 262, in __call__\n",
      "\u001b[2m\u001b[36m(pid=60895)\u001b[0m     return [func(*args, **kwargs)\n",
      "\u001b[2m\u001b[36m(pid=60895)\u001b[0m   File \"/Users/pamathur/miniconda3/envs/nbdev_env/lib/python3.9/site-packages/joblib/parallel.py\", line 262, in <listcomp>\n",
      "\u001b[2m\u001b[36m(pid=60895)\u001b[0m     return [func(*args, **kwargs)\n",
      "\u001b[2m\u001b[36m(pid=60895)\u001b[0m   File \"/Users/pamathur/miniconda3/envs/nbdev_env/lib/python3.9/site-packages/sklearn/utils/fixes.py\", line 209, in __call__\n",
      "\u001b[2m\u001b[36m(pid=60895)\u001b[0m     return self.function(*args, **kwargs)\n",
      "\u001b[2m\u001b[36m(pid=60895)\u001b[0m   File \"/Users/pamathur/miniconda3/envs/nbdev_env/lib/python3.9/site-packages/sklearn/model_selection/_validation.py\", line 681, in _fit_and_score\n",
      "\u001b[2m\u001b[36m(pid=60895)\u001b[0m     estimator.fit(X_train, y_train, **fit_params)\n",
      "\u001b[2m\u001b[36m(pid=60895)\u001b[0m   File \"/Users/pamathur/miniconda3/envs/nbdev_env/lib/python3.9/site-packages/sklearn/pipeline.py\", line 394, in fit\n",
      "\u001b[2m\u001b[36m(pid=60895)\u001b[0m     self._final_estimator.fit(Xt, y, **fit_params_last_step)\n",
      "\u001b[2m\u001b[36m(pid=60895)\u001b[0m   File \"/Users/pamathur/miniconda3/envs/nbdev_env/lib/python3.9/site-packages/sklearn/ensemble/_forest.py\", line 441, in fit\n",
      "\u001b[2m\u001b[36m(pid=60895)\u001b[0m     trees = Parallel(\n",
      "\u001b[2m\u001b[36m(pid=60895)\u001b[0m   File \"/Users/pamathur/miniconda3/envs/nbdev_env/lib/python3.9/site-packages/joblib/parallel.py\", line 1046, in __call__\n",
      "\u001b[2m\u001b[36m(pid=60895)\u001b[0m     while self.dispatch_one_batch(iterator):\n",
      "\u001b[2m\u001b[36m(pid=60895)\u001b[0m   File \"/Users/pamathur/miniconda3/envs/nbdev_env/lib/python3.9/site-packages/joblib/parallel.py\", line 861, in dispatch_one_batch\n",
      "\u001b[2m\u001b[36m(pid=60895)\u001b[0m     self._dispatch(tasks)\n",
      "\u001b[2m\u001b[36m(pid=60895)\u001b[0m   File \"/Users/pamathur/miniconda3/envs/nbdev_env/lib/python3.9/site-packages/joblib/parallel.py\", line 779, in _dispatch\n",
      "\u001b[2m\u001b[36m(pid=60895)\u001b[0m     job = self._backend.apply_async(batch, callback=cb)\n",
      "\u001b[2m\u001b[36m(pid=60895)\u001b[0m   File \"/Users/pamathur/miniconda3/envs/nbdev_env/lib/python3.9/site-packages/joblib/_parallel_backends.py\", line 208, in apply_async\n",
      "\u001b[2m\u001b[36m(pid=60895)\u001b[0m     result = ImmediateResult(func)\n",
      "\u001b[2m\u001b[36m(pid=60895)\u001b[0m   File \"/Users/pamathur/miniconda3/envs/nbdev_env/lib/python3.9/site-packages/joblib/_parallel_backends.py\", line 572, in __init__\n",
      "\u001b[2m\u001b[36m(pid=60895)\u001b[0m     self.results = batch()\n",
      "\u001b[2m\u001b[36m(pid=60895)\u001b[0m   File \"/Users/pamathur/miniconda3/envs/nbdev_env/lib/python3.9/site-packages/joblib/parallel.py\", line 262, in __call__\n",
      "\u001b[2m\u001b[36m(pid=60895)\u001b[0m     return [func(*args, **kwargs)\n",
      "\u001b[2m\u001b[36m(pid=60895)\u001b[0m   File \"/Users/pamathur/miniconda3/envs/nbdev_env/lib/python3.9/site-packages/joblib/parallel.py\", line 262, in <listcomp>\n",
      "\u001b[2m\u001b[36m(pid=60895)\u001b[0m     return [func(*args, **kwargs)\n",
      "\u001b[2m\u001b[36m(pid=60895)\u001b[0m   File \"/Users/pamathur/miniconda3/envs/nbdev_env/lib/python3.9/site-packages/sklearn/utils/fixes.py\", line 209, in __call__\n",
      "\u001b[2m\u001b[36m(pid=60895)\u001b[0m     return self.function(*args, **kwargs)\n",
      "\u001b[2m\u001b[36m(pid=60895)\u001b[0m   File \"/Users/pamathur/miniconda3/envs/nbdev_env/lib/python3.9/site-packages/sklearn/ensemble/_forest.py\", line 184, in _parallel_build_trees\n",
      "\u001b[2m\u001b[36m(pid=60895)\u001b[0m     tree.fit(X, y, sample_weight=curr_sample_weight, check_input=False)\n",
      "\u001b[2m\u001b[36m(pid=60895)\u001b[0m   File \"/Users/pamathur/miniconda3/envs/nbdev_env/lib/python3.9/site-packages/sklearn/tree/_classes.py\", line 1315, in fit\n",
      "\u001b[2m\u001b[36m(pid=60895)\u001b[0m     super().fit(\n",
      "\u001b[2m\u001b[36m(pid=60895)\u001b[0m   File \"/Users/pamathur/miniconda3/envs/nbdev_env/lib/python3.9/site-packages/sklearn/tree/_classes.py\", line 420, in fit\n",
      "\u001b[2m\u001b[36m(pid=60895)\u001b[0m     builder.build(self.tree_, X, y, sample_weight)\n",
      "\u001b[2m\u001b[36m(pid=60895)\u001b[0m   File \"/Users/pamathur/miniconda3/envs/nbdev_env/lib/python3.9/site-packages/ray/worker.py\", line 422, in sigterm_handler\n",
      "\u001b[2m\u001b[36m(pid=60895)\u001b[0m     sys.exit(1)\n",
      "\u001b[2m\u001b[36m(pid=60895)\u001b[0m SystemExit: 1\n",
      "\u001b[2m\u001b[36m(pid=60895)\u001b[0m [2021-11-18 18:14:56,090 C 60895 1670780] core_worker.cc:796:  Check failed: _s.ok() Bad status: IOError: Broken pipe\n",
      "\u001b[2m\u001b[36m(pid=60895)\u001b[0m *** StackTrace Information ***\n",
      "\u001b[2m\u001b[36m(pid=60895)\u001b[0m     ray::GetCallTrace()\n",
      "\u001b[2m\u001b[36m(pid=60895)\u001b[0m     ray::SpdLogMessage::Flush()\n",
      "\u001b[2m\u001b[36m(pid=60895)\u001b[0m     ray::SpdLogMessage::~SpdLogMessage()\n",
      "\u001b[2m\u001b[36m(pid=60895)\u001b[0m     ray::RayLog::~RayLog()\n",
      "\u001b[2m\u001b[36m(pid=60895)\u001b[0m     ray::core::CoreWorker::Exit()\n",
      "\u001b[2m\u001b[36m(pid=60895)\u001b[0m     ray::core::CoreWorker::ExecuteTask()\n",
      "\u001b[2m\u001b[36m(pid=60895)\u001b[0m     std::__1::__function::__func<>::operator()()\n",
      "\u001b[2m\u001b[36m(pid=60895)\u001b[0m     std::__1::__function::__func<>::operator()()\n",
      "\u001b[2m\u001b[36m(pid=60895)\u001b[0m     ray::core::InboundRequest::Accept()\n",
      "\u001b[2m\u001b[36m(pid=60895)\u001b[0m     ray::core::ActorSchedulingQueue::ScheduleRequests()\n",
      "\u001b[2m\u001b[36m(pid=60895)\u001b[0m     ray::core::ActorSchedulingQueue::Add()\n",
      "\u001b[2m\u001b[36m(pid=60895)\u001b[0m     ray::core::CoreWorkerDirectTaskReceiver::HandleTask()\n",
      "\u001b[2m\u001b[36m(pid=60895)\u001b[0m     std::__1::__function::__func<>::operator()()\n",
      "\u001b[2m\u001b[36m(pid=60895)\u001b[0m     boost::asio::detail::completion_handler<>::do_complete()\n",
      "\u001b[2m\u001b[36m(pid=60895)\u001b[0m     boost::asio::detail::scheduler::do_run_one()\n",
      "\u001b[2m\u001b[36m(pid=60895)\u001b[0m     boost::asio::detail::scheduler::run()\n",
      "\u001b[2m\u001b[36m(pid=60895)\u001b[0m     boost::asio::io_context::run()\n",
      "\u001b[2m\u001b[36m(pid=60895)\u001b[0m     ray::core::CoreWorkerProcess::RunTaskExecutionLoop()\n",
      "\u001b[2m\u001b[36m(pid=60895)\u001b[0m     __pyx_pw_3ray_7_raylet_10CoreWorker_9run_task_loop()\n",
      "\u001b[2m\u001b[36m(pid=60895)\u001b[0m     method_vectorcall_NOARGS\n",
      "\u001b[2m\u001b[36m(pid=60895)\u001b[0m     call_function\n",
      "\u001b[2m\u001b[36m(pid=60895)\u001b[0m     _PyEval_EvalFrameDefault\n",
      "\u001b[2m\u001b[36m(pid=60895)\u001b[0m     _PyFunction_Vectorcall\n",
      "\u001b[2m\u001b[36m(pid=60896)\u001b[0m 2021-11-18 18:14:56,108\tERROR worker.py:425 -- SystemExit was raised from the worker\n",
      "\u001b[2m\u001b[36m(pid=60896)\u001b[0m Traceback (most recent call last):\n",
      "\u001b[2m\u001b[36m(pid=60896)\u001b[0m   File \"python/ray/_raylet.pyx\", line 692, in ray._raylet.task_execution_handler\n",
      "\u001b[2m\u001b[36m(pid=60896)\u001b[0m   File \"python/ray/_raylet.pyx\", line 521, in ray._raylet.execute_task\n",
      "\u001b[2m\u001b[36m(pid=60896)\u001b[0m   File \"python/ray/_raylet.pyx\", line 558, in ray._raylet.execute_task\n",
      "\u001b[2m\u001b[36m(pid=60896)\u001b[0m   File \"python/ray/_raylet.pyx\", line 565, in ray._raylet.execute_task\n",
      "\u001b[2m\u001b[36m(pid=60896)\u001b[0m   File \"python/ray/_raylet.pyx\", line 569, in ray._raylet.execute_task\n",
      "\u001b[2m\u001b[36m(pid=60896)\u001b[0m   File \"python/ray/_raylet.pyx\", line 519, in ray._raylet.execute_task.function_executor\n",
      "\u001b[2m\u001b[36m(pid=60896)\u001b[0m   File \"/Users/pamathur/miniconda3/envs/nbdev_env/lib/python3.9/site-packages/ray/_private/function_manager.py\", line 576, in actor_method_executor\n",
      "\u001b[2m\u001b[36m(pid=60896)\u001b[0m     return method(__ray_actor, *args, **kwargs)\n",
      "\u001b[2m\u001b[36m(pid=60896)\u001b[0m   File \"/Users/pamathur/miniconda3/envs/nbdev_env/lib/python3.9/site-packages/ray/util/tracing/tracing_helper.py\", line 451, in _resume_span\n",
      "\u001b[2m\u001b[36m(pid=60896)\u001b[0m     return method(self, *_args, **_kwargs)\n",
      "\u001b[2m\u001b[36m(pid=60896)\u001b[0m   File \"/Users/pamathur/miniconda3/envs/nbdev_env/lib/python3.9/site-packages/ray/tune/trainable.py\", line 224, in train_buffered\n",
      "\u001b[2m\u001b[36m(pid=60896)\u001b[0m     result = self.train()\n",
      "\u001b[2m\u001b[36m(pid=60896)\u001b[0m   File \"/Users/pamathur/miniconda3/envs/nbdev_env/lib/python3.9/site-packages/ray/util/tracing/tracing_helper.py\", line 451, in _resume_span\n",
      "\u001b[2m\u001b[36m(pid=60896)\u001b[0m     return method(self, *_args, **_kwargs)\n",
      "\u001b[2m\u001b[36m(pid=60896)\u001b[0m   File \"/Users/pamathur/miniconda3/envs/nbdev_env/lib/python3.9/site-packages/ray/tune/trainable.py\", line 283, in train\n",
      "\u001b[2m\u001b[36m(pid=60896)\u001b[0m     result = self.step()\n",
      "\u001b[2m\u001b[36m(pid=60896)\u001b[0m   File \"/Users/pamathur/miniconda3/envs/nbdev_env/lib/python3.9/site-packages/ray/util/tracing/tracing_helper.py\", line 451, in _resume_span\n",
      "\u001b[2m\u001b[36m(pid=60896)\u001b[0m     return method(self, *_args, **_kwargs)\n",
      "\u001b[2m\u001b[36m(pid=60896)\u001b[0m   File \"/Users/pamathur/miniconda3/envs/nbdev_env/lib/python3.9/site-packages/tune_sklearn/_trainable.py\", line 106, in step\n",
      "\u001b[2m\u001b[36m(pid=60896)\u001b[0m     return self._train()\n",
      "\u001b[2m\u001b[36m(pid=60896)\u001b[0m   File \"/Users/pamathur/miniconda3/envs/nbdev_env/lib/python3.9/site-packages/ray/util/tracing/tracing_helper.py\", line 451, in _resume_span\n",
      "\u001b[2m\u001b[36m(pid=60896)\u001b[0m     return method(self, *_args, **_kwargs)\n",
      "\u001b[2m\u001b[36m(pid=60896)\u001b[0m   File \"/Users/pamathur/miniconda3/envs/nbdev_env/lib/python3.9/site-packages/tune_sklearn/_trainable.py\", line 237, in _train\n",
      "\u001b[2m\u001b[36m(pid=60896)\u001b[0m     scores = cross_validate(\n",
      "\u001b[2m\u001b[36m(pid=60896)\u001b[0m   File \"/Users/pamathur/miniconda3/envs/nbdev_env/lib/python3.9/site-packages/sklearn/model_selection/_validation.py\", line 267, in cross_validate\n",
      "\u001b[2m\u001b[36m(pid=60896)\u001b[0m     results = parallel(\n",
      "\u001b[2m\u001b[36m(pid=60896)\u001b[0m   File \"/Users/pamathur/miniconda3/envs/nbdev_env/lib/python3.9/site-packages/joblib/parallel.py\", line 1046, in __call__\n",
      "\u001b[2m\u001b[36m(pid=60896)\u001b[0m     while self.dispatch_one_batch(iterator):\n",
      "\u001b[2m\u001b[36m(pid=60896)\u001b[0m   File \"/Users/pamathur/miniconda3/envs/nbdev_env/lib/python3.9/site-packages/joblib/parallel.py\", line 861, in dispatch_one_batch\n",
      "\u001b[2m\u001b[36m(pid=60896)\u001b[0m     self._dispatch(tasks)\n",
      "\u001b[2m\u001b[36m(pid=60896)\u001b[0m   File \"/Users/pamathur/miniconda3/envs/nbdev_env/lib/python3.9/site-packages/joblib/parallel.py\", line 779, in _dispatch\n",
      "\u001b[2m\u001b[36m(pid=60896)\u001b[0m     job = self._backend.apply_async(batch, callback=cb)\n",
      "\u001b[2m\u001b[36m(pid=60896)\u001b[0m   File \"/Users/pamathur/miniconda3/envs/nbdev_env/lib/python3.9/site-packages/joblib/_parallel_backends.py\", line 208, in apply_async\n",
      "\u001b[2m\u001b[36m(pid=60896)\u001b[0m     result = ImmediateResult(func)\n",
      "\u001b[2m\u001b[36m(pid=60896)\u001b[0m   File \"/Users/pamathur/miniconda3/envs/nbdev_env/lib/python3.9/site-packages/joblib/_parallel_backends.py\", line 572, in __init__\n",
      "\u001b[2m\u001b[36m(pid=60896)\u001b[0m     self.results = batch()\n",
      "\u001b[2m\u001b[36m(pid=60896)\u001b[0m   File \"/Users/pamathur/miniconda3/envs/nbdev_env/lib/python3.9/site-packages/joblib/parallel.py\", line 262, in __call__\n",
      "\u001b[2m\u001b[36m(pid=60896)\u001b[0m     return [func(*args, **kwargs)\n",
      "\u001b[2m\u001b[36m(pid=60896)\u001b[0m   File \"/Users/pamathur/miniconda3/envs/nbdev_env/lib/python3.9/site-packages/joblib/parallel.py\", line 262, in <listcomp>\n",
      "\u001b[2m\u001b[36m(pid=60896)\u001b[0m     return [func(*args, **kwargs)\n",
      "\u001b[2m\u001b[36m(pid=60896)\u001b[0m   File \"/Users/pamathur/miniconda3/envs/nbdev_env/lib/python3.9/site-packages/sklearn/utils/fixes.py\", line 209, in __call__\n",
      "\u001b[2m\u001b[36m(pid=60896)\u001b[0m     return self.function(*args, **kwargs)\n",
      "\u001b[2m\u001b[36m(pid=60896)\u001b[0m   File \"/Users/pamathur/miniconda3/envs/nbdev_env/lib/python3.9/site-packages/sklearn/model_selection/_validation.py\", line 681, in _fit_and_score\n",
      "\u001b[2m\u001b[36m(pid=60896)\u001b[0m     estimator.fit(X_train, y_train, **fit_params)\n",
      "\u001b[2m\u001b[36m(pid=60896)\u001b[0m   File \"/Users/pamathur/miniconda3/envs/nbdev_env/lib/python3.9/site-packages/sklearn/pipeline.py\", line 394, in fit\n",
      "\u001b[2m\u001b[36m(pid=60896)\u001b[0m     self._final_estimator.fit(Xt, y, **fit_params_last_step)\n",
      "\u001b[2m\u001b[36m(pid=60896)\u001b[0m   File \"/Users/pamathur/miniconda3/envs/nbdev_env/lib/python3.9/site-packages/sklearn/ensemble/_forest.py\", line 441, in fit\n",
      "\u001b[2m\u001b[36m(pid=60896)\u001b[0m     trees = Parallel(\n",
      "\u001b[2m\u001b[36m(pid=60896)\u001b[0m   File \"/Users/pamathur/miniconda3/envs/nbdev_env/lib/python3.9/site-packages/joblib/parallel.py\", line 1046, in __call__\n",
      "\u001b[2m\u001b[36m(pid=60896)\u001b[0m     while self.dispatch_one_batch(iterator):\n",
      "\u001b[2m\u001b[36m(pid=60896)\u001b[0m   File \"/Users/pamathur/miniconda3/envs/nbdev_env/lib/python3.9/site-packages/joblib/parallel.py\", line 861, in dispatch_one_batch\n",
      "\u001b[2m\u001b[36m(pid=60896)\u001b[0m     self._dispatch(tasks)\n",
      "\u001b[2m\u001b[36m(pid=60896)\u001b[0m   File \"/Users/pamathur/miniconda3/envs/nbdev_env/lib/python3.9/site-packages/joblib/parallel.py\", line 779, in _dispatch\n",
      "\u001b[2m\u001b[36m(pid=60896)\u001b[0m     job = self._backend.apply_async(batch, callback=cb)\n",
      "\u001b[2m\u001b[36m(pid=60896)\u001b[0m   File \"/Users/pamathur/miniconda3/envs/nbdev_env/lib/python3.9/site-packages/joblib/_parallel_backends.py\", line 208, in apply_async\n",
      "\u001b[2m\u001b[36m(pid=60896)\u001b[0m     result = ImmediateResult(func)\n",
      "\u001b[2m\u001b[36m(pid=60896)\u001b[0m   File \"/Users/pamathur/miniconda3/envs/nbdev_env/lib/python3.9/site-packages/joblib/_parallel_backends.py\", line 572, in __init__\n",
      "\u001b[2m\u001b[36m(pid=60896)\u001b[0m     self.results = batch()\n",
      "\u001b[2m\u001b[36m(pid=60896)\u001b[0m   File \"/Users/pamathur/miniconda3/envs/nbdev_env/lib/python3.9/site-packages/joblib/parallel.py\", line 262, in __call__\n",
      "\u001b[2m\u001b[36m(pid=60896)\u001b[0m     return [func(*args, **kwargs)\n",
      "\u001b[2m\u001b[36m(pid=60896)\u001b[0m   File \"/Users/pamathur/miniconda3/envs/nbdev_env/lib/python3.9/site-packages/joblib/parallel.py\", line 262, in <listcomp>\n",
      "\u001b[2m\u001b[36m(pid=60896)\u001b[0m     return [func(*args, **kwargs)\n",
      "\u001b[2m\u001b[36m(pid=60896)\u001b[0m   File \"/Users/pamathur/miniconda3/envs/nbdev_env/lib/python3.9/site-packages/sklearn/utils/fixes.py\", line 209, in __call__\n",
      "\u001b[2m\u001b[36m(pid=60896)\u001b[0m     return self.function(*args, **kwargs)\n",
      "\u001b[2m\u001b[36m(pid=60896)\u001b[0m   File \"/Users/pamathur/miniconda3/envs/nbdev_env/lib/python3.9/site-packages/sklearn/ensemble/_forest.py\", line 184, in _parallel_build_trees\n",
      "\u001b[2m\u001b[36m(pid=60896)\u001b[0m     tree.fit(X, y, sample_weight=curr_sample_weight, check_input=False)\n",
      "\u001b[2m\u001b[36m(pid=60896)\u001b[0m   File \"/Users/pamathur/miniconda3/envs/nbdev_env/lib/python3.9/site-packages/sklearn/tree/_classes.py\", line 1315, in fit\n",
      "\u001b[2m\u001b[36m(pid=60896)\u001b[0m     super().fit(\n",
      "\u001b[2m\u001b[36m(pid=60896)\u001b[0m   File \"/Users/pamathur/miniconda3/envs/nbdev_env/lib/python3.9/site-packages/sklearn/tree/_classes.py\", line 420, in fit\n",
      "\u001b[2m\u001b[36m(pid=60896)\u001b[0m     builder.build(self.tree_, X, y, sample_weight)\n",
      "\u001b[2m\u001b[36m(pid=60896)\u001b[0m   File \"/Users/pamathur/miniconda3/envs/nbdev_env/lib/python3.9/site-packages/ray/worker.py\", line 422, in sigterm_handler\n",
      "\u001b[2m\u001b[36m(pid=60896)\u001b[0m     sys.exit(1)\n",
      "\u001b[2m\u001b[36m(pid=60896)\u001b[0m SystemExit: 1\n",
      "\u001b[2m\u001b[36m(pid=60895)\u001b[0m     call_function\n",
      "\u001b[2m\u001b[36m(pid=60895)\u001b[0m     _PyEval_EvalFrameDefault\n",
      "\u001b[2m\u001b[36m(pid=60895)\u001b[0m     _PyEval_EvalCode\n",
      "\u001b[2m\u001b[36m(pid=60895)\u001b[0m     pyrun_file\n",
      "\u001b[2m\u001b[36m(pid=60895)\u001b[0m     pyrun_simple_file\n",
      "\u001b[2m\u001b[36m(pid=60895)\u001b[0m     PyRun_SimpleFileExFlags\n",
      "\u001b[2m\u001b[36m(pid=60895)\u001b[0m     pymain_run_file\n",
      "\u001b[2m\u001b[36m(pid=60895)\u001b[0m     pymain_run_python\n",
      "\u001b[2m\u001b[36m(pid=60895)\u001b[0m     Py_RunMain\n",
      "\u001b[2m\u001b[36m(pid=60895)\u001b[0m     pymain_main\n",
      "\u001b[2m\u001b[36m(pid=60895)\u001b[0m     main\n",
      "\u001b[2m\u001b[36m(pid=60895)\u001b[0m     start\n",
      "\u001b[2m\u001b[36m(pid=60895)\u001b[0m \n",
      "\u001b[2m\u001b[36m(pid=60904)\u001b[0m 2021-11-18 18:14:56,116\tERROR worker.py:425 -- SystemExit was raised from the worker\n",
      "\u001b[2m\u001b[36m(pid=60904)\u001b[0m Traceback (most recent call last):\n",
      "\u001b[2m\u001b[36m(pid=60904)\u001b[0m   File \"python/ray/_raylet.pyx\", line 692, in ray._raylet.task_execution_handler\n",
      "\u001b[2m\u001b[36m(pid=60904)\u001b[0m   File \"python/ray/_raylet.pyx\", line 521, in ray._raylet.execute_task\n",
      "\u001b[2m\u001b[36m(pid=60904)\u001b[0m   File \"python/ray/_raylet.pyx\", line 558, in ray._raylet.execute_task\n",
      "\u001b[2m\u001b[36m(pid=60904)\u001b[0m   File \"python/ray/_raylet.pyx\", line 565, in ray._raylet.execute_task\n",
      "\u001b[2m\u001b[36m(pid=60904)\u001b[0m   File \"python/ray/_raylet.pyx\", line 569, in ray._raylet.execute_task\n",
      "\u001b[2m\u001b[36m(pid=60904)\u001b[0m   File \"python/ray/_raylet.pyx\", line 519, in ray._raylet.execute_task.function_executor\n",
      "\u001b[2m\u001b[36m(pid=60904)\u001b[0m   File \"/Users/pamathur/miniconda3/envs/nbdev_env/lib/python3.9/site-packages/ray/_private/function_manager.py\", line 576, in actor_method_executor\n",
      "\u001b[2m\u001b[36m(pid=60904)\u001b[0m     return method(__ray_actor, *args, **kwargs)\n",
      "\u001b[2m\u001b[36m(pid=60904)\u001b[0m   File \"/Users/pamathur/miniconda3/envs/nbdev_env/lib/python3.9/site-packages/ray/util/tracing/tracing_helper.py\", line 451, in _resume_span\n",
      "\u001b[2m\u001b[36m(pid=60904)\u001b[0m     return method(self, *_args, **_kwargs)\n",
      "\u001b[2m\u001b[36m(pid=60904)\u001b[0m   File \"/Users/pamathur/miniconda3/envs/nbdev_env/lib/python3.9/site-packages/ray/tune/trainable.py\", line 224, in train_buffered\n",
      "\u001b[2m\u001b[36m(pid=60904)\u001b[0m     result = self.train()\n",
      "\u001b[2m\u001b[36m(pid=60904)\u001b[0m   File \"/Users/pamathur/miniconda3/envs/nbdev_env/lib/python3.9/site-packages/ray/util/tracing/tracing_helper.py\", line 451, in _resume_span\n",
      "\u001b[2m\u001b[36m(pid=60904)\u001b[0m     return method(self, *_args, **_kwargs)\n",
      "\u001b[2m\u001b[36m(pid=60904)\u001b[0m   File \"/Users/pamathur/miniconda3/envs/nbdev_env/lib/python3.9/site-packages/ray/tune/trainable.py\", line 283, in train\n",
      "\u001b[2m\u001b[36m(pid=60904)\u001b[0m     result = self.step()\n",
      "\u001b[2m\u001b[36m(pid=60904)\u001b[0m   File \"/Users/pamathur/miniconda3/envs/nbdev_env/lib/python3.9/site-packages/ray/util/tracing/tracing_helper.py\", line 451, in _resume_span\n",
      "\u001b[2m\u001b[36m(pid=60904)\u001b[0m     return method(self, *_args, **_kwargs)\n",
      "\u001b[2m\u001b[36m(pid=60904)\u001b[0m   File \"/Users/pamathur/miniconda3/envs/nbdev_env/lib/python3.9/site-packages/tune_sklearn/_trainable.py\", line 106, in step\n",
      "\u001b[2m\u001b[36m(pid=60904)\u001b[0m     return self._train()\n",
      "\u001b[2m\u001b[36m(pid=60904)\u001b[0m   File \"/Users/pamathur/miniconda3/envs/nbdev_env/lib/python3.9/site-packages/ray/util/tracing/tracing_helper.py\", line 451, in _resume_span\n",
      "\u001b[2m\u001b[36m(pid=60904)\u001b[0m     return method(self, *_args, **_kwargs)\n",
      "\u001b[2m\u001b[36m(pid=60904)\u001b[0m   File \"/Users/pamathur/miniconda3/envs/nbdev_env/lib/python3.9/site-packages/tune_sklearn/_trainable.py\", line 237, in _train\n",
      "\u001b[2m\u001b[36m(pid=60904)\u001b[0m     scores = cross_validate(\n",
      "\u001b[2m\u001b[36m(pid=60904)\u001b[0m   File \"/Users/pamathur/miniconda3/envs/nbdev_env/lib/python3.9/site-packages/sklearn/model_selection/_validation.py\", line 267, in cross_validate\n",
      "\u001b[2m\u001b[36m(pid=60904)\u001b[0m     results = parallel(\n",
      "\u001b[2m\u001b[36m(pid=60904)\u001b[0m   File \"/Users/pamathur/miniconda3/envs/nbdev_env/lib/python3.9/site-packages/joblib/parallel.py\", line 1046, in __call__\n",
      "\u001b[2m\u001b[36m(pid=60904)\u001b[0m     while self.dispatch_one_batch(iterator):\n",
      "\u001b[2m\u001b[36m(pid=60904)\u001b[0m   File \"/Users/pamathur/miniconda3/envs/nbdev_env/lib/python3.9/site-packages/joblib/parallel.py\", line 861, in dispatch_one_batch\n",
      "\u001b[2m\u001b[36m(pid=60904)\u001b[0m     self._dispatch(tasks)\n",
      "\u001b[2m\u001b[36m(pid=60904)\u001b[0m   File \"/Users/pamathur/miniconda3/envs/nbdev_env/lib/python3.9/site-packages/joblib/parallel.py\", line 779, in _dispatch\n",
      "\u001b[2m\u001b[36m(pid=60904)\u001b[0m     job = self._backend.apply_async(batch, callback=cb)\n",
      "\u001b[2m\u001b[36m(pid=60904)\u001b[0m   File \"/Users/pamathur/miniconda3/envs/nbdev_env/lib/python3.9/site-packages/joblib/_parallel_backends.py\", line 208, in apply_async\n",
      "\u001b[2m\u001b[36m(pid=60904)\u001b[0m     result = ImmediateResult(func)\n",
      "\u001b[2m\u001b[36m(pid=60904)\u001b[0m   File \"/Users/pamathur/miniconda3/envs/nbdev_env/lib/python3.9/site-packages/joblib/_parallel_backends.py\", line 572, in __init__\n",
      "\u001b[2m\u001b[36m(pid=60904)\u001b[0m     self.results = batch()\n",
      "\u001b[2m\u001b[36m(pid=60904)\u001b[0m   File \"/Users/pamathur/miniconda3/envs/nbdev_env/lib/python3.9/site-packages/joblib/parallel.py\", line 262, in __call__\n",
      "\u001b[2m\u001b[36m(pid=60904)\u001b[0m     return [func(*args, **kwargs)\n",
      "\u001b[2m\u001b[36m(pid=60904)\u001b[0m   File \"/Users/pamathur/miniconda3/envs/nbdev_env/lib/python3.9/site-packages/joblib/parallel.py\", line 262, in <listcomp>\n",
      "\u001b[2m\u001b[36m(pid=60904)\u001b[0m     return [func(*args, **kwargs)\n",
      "\u001b[2m\u001b[36m(pid=60904)\u001b[0m   File \"/Users/pamathur/miniconda3/envs/nbdev_env/lib/python3.9/site-packages/sklearn/utils/fixes.py\", line 209, in __call__\n",
      "\u001b[2m\u001b[36m(pid=60904)\u001b[0m     return self.function(*args, **kwargs)\n",
      "\u001b[2m\u001b[36m(pid=60904)\u001b[0m   File \"/Users/pamathur/miniconda3/envs/nbdev_env/lib/python3.9/site-packages/sklearn/model_selection/_validation.py\", line 681, in _fit_and_score\n",
      "\u001b[2m\u001b[36m(pid=60904)\u001b[0m     estimator.fit(X_train, y_train, **fit_params)\n",
      "\u001b[2m\u001b[36m(pid=60904)\u001b[0m   File \"/Users/pamathur/miniconda3/envs/nbdev_env/lib/python3.9/site-packages/sklearn/pipeline.py\", line 394, in fit\n",
      "\u001b[2m\u001b[36m(pid=60904)\u001b[0m     self._final_estimator.fit(Xt, y, **fit_params_last_step)\n",
      "\u001b[2m\u001b[36m(pid=60904)\u001b[0m   File \"/Users/pamathur/miniconda3/envs/nbdev_env/lib/python3.9/site-packages/sklearn/ensemble/_forest.py\", line 441, in fit\n",
      "\u001b[2m\u001b[36m(pid=60904)\u001b[0m     trees = Parallel(\n",
      "\u001b[2m\u001b[36m(pid=60904)\u001b[0m   File \"/Users/pamathur/miniconda3/envs/nbdev_env/lib/python3.9/site-packages/joblib/parallel.py\", line 1046, in __call__\n",
      "\u001b[2m\u001b[36m(pid=60904)\u001b[0m     while self.dispatch_one_batch(iterator):\n",
      "\u001b[2m\u001b[36m(pid=60904)\u001b[0m   File \"/Users/pamathur/miniconda3/envs/nbdev_env/lib/python3.9/site-packages/joblib/parallel.py\", line 861, in dispatch_one_batch\n",
      "\u001b[2m\u001b[36m(pid=60904)\u001b[0m     self._dispatch(tasks)\n",
      "\u001b[2m\u001b[36m(pid=60904)\u001b[0m   File \"/Users/pamathur/miniconda3/envs/nbdev_env/lib/python3.9/site-packages/joblib/parallel.py\", line 779, in _dispatch\n",
      "\u001b[2m\u001b[36m(pid=60904)\u001b[0m     job = self._backend.apply_async(batch, callback=cb)\n",
      "\u001b[2m\u001b[36m(pid=60904)\u001b[0m   File \"/Users/pamathur/miniconda3/envs/nbdev_env/lib/python3.9/site-packages/joblib/_parallel_backends.py\", line 208, in apply_async\n",
      "\u001b[2m\u001b[36m(pid=60904)\u001b[0m     result = ImmediateResult(func)\n",
      "\u001b[2m\u001b[36m(pid=60904)\u001b[0m   File \"/Users/pamathur/miniconda3/envs/nbdev_env/lib/python3.9/site-packages/joblib/_parallel_backends.py\", line 572, in __init__\n",
      "\u001b[2m\u001b[36m(pid=60904)\u001b[0m     self.results = batch()\n",
      "\u001b[2m\u001b[36m(pid=60904)\u001b[0m   File \"/Users/pamathur/miniconda3/envs/nbdev_env/lib/python3.9/site-packages/joblib/parallel.py\", line 262, in __call__\n",
      "\u001b[2m\u001b[36m(pid=60904)\u001b[0m     return [func(*args, **kwargs)\n",
      "\u001b[2m\u001b[36m(pid=60904)\u001b[0m   File \"/Users/pamathur/miniconda3/envs/nbdev_env/lib/python3.9/site-packages/joblib/parallel.py\", line 262, in <listcomp>\n",
      "\u001b[2m\u001b[36m(pid=60904)\u001b[0m     return [func(*args, **kwargs)\n",
      "\u001b[2m\u001b[36m(pid=60904)\u001b[0m   File \"/Users/pamathur/miniconda3/envs/nbdev_env/lib/python3.9/site-packages/sklearn/utils/fixes.py\", line 209, in __call__\n",
      "\u001b[2m\u001b[36m(pid=60904)\u001b[0m     return self.function(*args, **kwargs)\n",
      "\u001b[2m\u001b[36m(pid=60904)\u001b[0m   File \"/Users/pamathur/miniconda3/envs/nbdev_env/lib/python3.9/site-packages/sklearn/ensemble/_forest.py\", line 184, in _parallel_build_trees\n",
      "\u001b[2m\u001b[36m(pid=60904)\u001b[0m     tree.fit(X, y, sample_weight=curr_sample_weight, check_input=False)\n",
      "\u001b[2m\u001b[36m(pid=60904)\u001b[0m   File \"/Users/pamathur/miniconda3/envs/nbdev_env/lib/python3.9/site-packages/sklearn/tree/_classes.py\", line 1315, in fit\n",
      "\u001b[2m\u001b[36m(pid=60904)\u001b[0m     super().fit(\n",
      "\u001b[2m\u001b[36m(pid=60904)\u001b[0m   File \"/Users/pamathur/miniconda3/envs/nbdev_env/lib/python3.9/site-packages/sklearn/tree/_classes.py\", line 420, in fit\n",
      "\u001b[2m\u001b[36m(pid=60904)\u001b[0m     builder.build(self.tree_, X, y, sample_weight)\n",
      "\u001b[2m\u001b[36m(pid=60904)\u001b[0m   File \"/Users/pamathur/miniconda3/envs/nbdev_env/lib/python3.9/site-packages/ray/worker.py\", line 422, in sigterm_handler\n",
      "\u001b[2m\u001b[36m(pid=60904)\u001b[0m     sys.exit(1)\n",
      "\u001b[2m\u001b[36m(pid=60904)\u001b[0m SystemExit: 1\n",
      "\u001b[2m\u001b[36m(pid=60896)\u001b[0m [2021-11-18 18:14:56,130 C 60896 1670785] core_worker.cc:796:  Check failed: _s.ok() Bad status: IOError: Broken pipe\n",
      "\u001b[2m\u001b[36m(pid=60896)\u001b[0m *** StackTrace Information ***\n",
      "\u001b[2m\u001b[36m(pid=60896)\u001b[0m     ray::GetCallTrace()\n",
      "\u001b[2m\u001b[36m(pid=60896)\u001b[0m     ray::SpdLogMessage::Flush()\n",
      "\u001b[2m\u001b[36m(pid=60896)\u001b[0m     ray::SpdLogMessage::~SpdLogMessage()\n",
      "\u001b[2m\u001b[36m(pid=60896)\u001b[0m     ray::RayLog::~RayLog()\n",
      "\u001b[2m\u001b[36m(pid=60896)\u001b[0m     ray::core::CoreWorker::Exit()\n",
      "\u001b[2m\u001b[36m(pid=60896)\u001b[0m     ray::core::CoreWorker::ExecuteTask()\n",
      "\u001b[2m\u001b[36m(pid=60896)\u001b[0m     std::__1::__function::__func<>::operator()()\n",
      "\u001b[2m\u001b[36m(pid=60896)\u001b[0m     std::__1::__function::__func<>::operator()()\n",
      "\u001b[2m\u001b[36m(pid=60896)\u001b[0m     ray::core::InboundRequest::Accept()\n",
      "\u001b[2m\u001b[36m(pid=60896)\u001b[0m     ray::core::ActorSchedulingQueue::ScheduleRequests()\n",
      "\u001b[2m\u001b[36m(pid=60896)\u001b[0m     ray::core::ActorSchedulingQueue::Add()\n",
      "\u001b[2m\u001b[36m(pid=60896)\u001b[0m     ray::core::CoreWorkerDirectTaskReceiver::HandleTask()\n",
      "\u001b[2m\u001b[36m(pid=60896)\u001b[0m     std::__1::__function::__func<>::operator()()\n",
      "\u001b[2m\u001b[36m(pid=60896)\u001b[0m     boost::asio::detail::completion_handler<>::do_complete()\n",
      "\u001b[2m\u001b[36m(pid=60896)\u001b[0m     boost::asio::detail::scheduler::do_run_one()\n",
      "\u001b[2m\u001b[36m(pid=60896)\u001b[0m     boost::asio::detail::scheduler::run()\n",
      "\u001b[2m\u001b[36m(pid=60896)\u001b[0m     boost::asio::io_context::run()\n",
      "\u001b[2m\u001b[36m(pid=60896)\u001b[0m     ray::core::CoreWorkerProcess::RunTaskExecutionLoop()\n",
      "\u001b[2m\u001b[36m(pid=60896)\u001b[0m     __pyx_pw_3ray_7_raylet_10CoreWorker_9run_task_loop()\n",
      "\u001b[2m\u001b[36m(pid=60896)\u001b[0m     method_vectorcall_NOARGS\n",
      "\u001b[2m\u001b[36m(pid=60896)\u001b[0m     call_function\n",
      "\u001b[2m\u001b[36m(pid=60896)\u001b[0m     _PyEval_EvalFrameDefault\n",
      "\u001b[2m\u001b[36m(pid=60896)\u001b[0m     _PyFunction_Vectorcall\n",
      "\u001b[2m\u001b[36m(pid=60896)\u001b[0m     call_function\n",
      "\u001b[2m\u001b[36m(pid=60896)\u001b[0m     _PyEval_EvalFrameDefault\n",
      "\u001b[2m\u001b[36m(pid=60896)\u001b[0m     _PyEval_EvalCode\n",
      "\u001b[2m\u001b[36m(pid=60896)\u001b[0m     pyrun_file\n",
      "\u001b[2m\u001b[36m(pid=60896)\u001b[0m     pyrun_simple_file\n",
      "\u001b[2m\u001b[36m(pid=60896)\u001b[0m     PyRun_SimpleFileExFlags\n",
      "\u001b[2m\u001b[36m(pid=60896)\u001b[0m     pymain_run_file\n",
      "\u001b[2m\u001b[36m(pid=60896)\u001b[0m     pymain_run_python\n",
      "\u001b[2m\u001b[36m(pid=60896)\u001b[0m     Py_RunMain\n",
      "\u001b[2m\u001b[36m(pid=60896)\u001b[0m     pymain_main\n",
      "\u001b[2m\u001b[36m(pid=60896)\u001b[0m     main\n",
      "\u001b[2m\u001b[36m(pid=60896)\u001b[0m     start\n",
      "\u001b[2m\u001b[36m(pid=60896)\u001b[0m \n",
      "\u001b[2m\u001b[36m(pid=60904)\u001b[0m [2021-11-18 18:14:56,133 C 60904 1670809] core_worker.cc:796:  Check failed: _s.ok() Bad status: IOError: Broken pipe\n",
      "\u001b[2m\u001b[36m(pid=60904)\u001b[0m *** StackTrace Information ***\n",
      "\u001b[2m\u001b[36m(pid=60904)\u001b[0m     ray::GetCallTrace()\n",
      "\u001b[2m\u001b[36m(pid=60904)\u001b[0m     ray::SpdLogMessage::Flush()\n",
      "\u001b[2m\u001b[36m(pid=60904)\u001b[0m     ray::SpdLogMessage::~SpdLogMessage()\n",
      "\u001b[2m\u001b[36m(pid=60904)\u001b[0m     ray::RayLog::~RayLog()\n",
      "\u001b[2m\u001b[36m(pid=60904)\u001b[0m     ray::core::CoreWorker::Exit()\n",
      "\u001b[2m\u001b[36m(pid=60904)\u001b[0m     ray::core::CoreWorker::ExecuteTask()\n",
      "\u001b[2m\u001b[36m(pid=60904)\u001b[0m     std::__1::__function::__func<>::operator()()\n",
      "\u001b[2m\u001b[36m(pid=60904)\u001b[0m     std::__1::__function::__func<>::operator()()\n",
      "\u001b[2m\u001b[36m(pid=60904)\u001b[0m     ray::core::InboundRequest::Accept()\n",
      "\u001b[2m\u001b[36m(pid=60904)\u001b[0m     ray::core::ActorSchedulingQueue::ScheduleRequests()\n",
      "\u001b[2m\u001b[36m(pid=60904)\u001b[0m     ray::core::ActorSchedulingQueue::Add()\n",
      "\u001b[2m\u001b[36m(pid=60904)\u001b[0m     ray::core::CoreWorkerDirectTaskReceiver::HandleTask()\n",
      "\u001b[2m\u001b[36m(pid=60904)\u001b[0m     std::__1::__function::__func<>::operator()()\n",
      "\u001b[2m\u001b[36m(pid=60904)\u001b[0m     boost::asio::detail::completion_handler<>::do_complete()\n",
      "\u001b[2m\u001b[36m(pid=60904)\u001b[0m     boost::asio::detail::scheduler::do_run_one()\n",
      "\u001b[2m\u001b[36m(pid=60904)\u001b[0m     boost::asio::detail::scheduler::run()\n",
      "\u001b[2m\u001b[36m(pid=60904)\u001b[0m     boost::asio::io_context::run()\n",
      "\u001b[2m\u001b[36m(pid=60904)\u001b[0m     ray::core::CoreWorkerProcess::RunTaskExecutionLoop()\n",
      "\u001b[2m\u001b[36m(pid=60904)\u001b[0m     __pyx_pw_3ray_7_raylet_10CoreWorker_9run_task_loop()\n",
      "\u001b[2m\u001b[36m(pid=60904)\u001b[0m     method_vectorcall_NOARGS\n",
      "\u001b[2m\u001b[36m(pid=60904)\u001b[0m     call_function\n",
      "\u001b[2m\u001b[36m(pid=60904)\u001b[0m     _PyEval_EvalFrameDefault\n",
      "\u001b[2m\u001b[36m(pid=60904)\u001b[0m     _PyFunction_Vectorcall\n",
      "\u001b[2m\u001b[36m(pid=60904)\u001b[0m     call_function\n",
      "\u001b[2m\u001b[36m(pid=60904)\u001b[0m     _PyEval_EvalFrameDefault\n",
      "\u001b[2m\u001b[36m(pid=60904)\u001b[0m     _PyEval_EvalCode\n",
      "\u001b[2m\u001b[36m(pid=60904)\u001b[0m     pyrun_file\n",
      "\u001b[2m\u001b[36m(pid=60904)\u001b[0m     pyrun_simple_file\n",
      "\u001b[2m\u001b[36m(pid=60904)\u001b[0m     PyRun_SimpleFileExFlags\n",
      "\u001b[2m\u001b[36m(pid=60904)\u001b[0m     pymain_run_file\n",
      "\u001b[2m\u001b[36m(pid=60904)\u001b[0m     pymain_run_python\n",
      "\u001b[2m\u001b[36m(pid=60904)\u001b[0m     Py_RunMain\n",
      "\u001b[2m\u001b[36m(pid=60904)\u001b[0m     pymain_main\n",
      "\u001b[2m\u001b[36m(pid=60904)\u001b[0m     main\n",
      "\u001b[2m\u001b[36m(pid=60904)\u001b[0m     start\n",
      "\u001b[2m\u001b[36m(pid=60904)\u001b[0m \n",
      "\u001b[2m\u001b[36m(pid=60905)\u001b[0m 2021-11-18 18:14:56,128\tERROR worker.py:425 -- SystemExit was raised from the worker\n",
      "\u001b[2m\u001b[36m(pid=60905)\u001b[0m Traceback (most recent call last):\n",
      "\u001b[2m\u001b[36m(pid=60905)\u001b[0m   File \"python/ray/_raylet.pyx\", line 692, in ray._raylet.task_execution_handler\n",
      "\u001b[2m\u001b[36m(pid=60905)\u001b[0m   File \"python/ray/_raylet.pyx\", line 521, in ray._raylet.execute_task\n",
      "\u001b[2m\u001b[36m(pid=60905)\u001b[0m   File \"python/ray/_raylet.pyx\", line 558, in ray._raylet.execute_task\n",
      "\u001b[2m\u001b[36m(pid=60905)\u001b[0m   File \"python/ray/_raylet.pyx\", line 565, in ray._raylet.execute_task\n",
      "\u001b[2m\u001b[36m(pid=60905)\u001b[0m   File \"python/ray/_raylet.pyx\", line 569, in ray._raylet.execute_task\n",
      "\u001b[2m\u001b[36m(pid=60905)\u001b[0m   File \"python/ray/_raylet.pyx\", line 519, in ray._raylet.execute_task.function_executor\n",
      "\u001b[2m\u001b[36m(pid=60905)\u001b[0m   File \"/Users/pamathur/miniconda3/envs/nbdev_env/lib/python3.9/site-packages/ray/_private/function_manager.py\", line 576, in actor_method_executor\n",
      "\u001b[2m\u001b[36m(pid=60905)\u001b[0m     return method(__ray_actor, *args, **kwargs)\n",
      "\u001b[2m\u001b[36m(pid=60905)\u001b[0m   File \"/Users/pamathur/miniconda3/envs/nbdev_env/lib/python3.9/site-packages/ray/util/tracing/tracing_helper.py\", line 451, in _resume_span\n",
      "\u001b[2m\u001b[36m(pid=60905)\u001b[0m     return method(self, *_args, **_kwargs)\n",
      "\u001b[2m\u001b[36m(pid=60905)\u001b[0m   File \"/Users/pamathur/miniconda3/envs/nbdev_env/lib/python3.9/site-packages/ray/tune/trainable.py\", line 224, in train_buffered\n",
      "\u001b[2m\u001b[36m(pid=60905)\u001b[0m     result = self.train()\n",
      "\u001b[2m\u001b[36m(pid=60905)\u001b[0m   File \"/Users/pamathur/miniconda3/envs/nbdev_env/lib/python3.9/site-packages/ray/util/tracing/tracing_helper.py\", line 451, in _resume_span\n",
      "\u001b[2m\u001b[36m(pid=60905)\u001b[0m     return method(self, *_args, **_kwargs)\n",
      "\u001b[2m\u001b[36m(pid=60905)\u001b[0m   File \"/Users/pamathur/miniconda3/envs/nbdev_env/lib/python3.9/site-packages/ray/tune/trainable.py\", line 283, in train\n",
      "\u001b[2m\u001b[36m(pid=60905)\u001b[0m     result = self.step()\n",
      "\u001b[2m\u001b[36m(pid=60905)\u001b[0m   File \"/Users/pamathur/miniconda3/envs/nbdev_env/lib/python3.9/site-packages/ray/util/tracing/tracing_helper.py\", line 451, in _resume_span\n",
      "\u001b[2m\u001b[36m(pid=60905)\u001b[0m     return method(self, *_args, **_kwargs)\n",
      "\u001b[2m\u001b[36m(pid=60905)\u001b[0m   File \"/Users/pamathur/miniconda3/envs/nbdev_env/lib/python3.9/site-packages/tune_sklearn/_trainable.py\", line 106, in step\n",
      "\u001b[2m\u001b[36m(pid=60905)\u001b[0m     return self._train()\n",
      "\u001b[2m\u001b[36m(pid=60905)\u001b[0m   File \"/Users/pamathur/miniconda3/envs/nbdev_env/lib/python3.9/site-packages/ray/util/tracing/tracing_helper.py\", line 451, in _resume_span\n",
      "\u001b[2m\u001b[36m(pid=60905)\u001b[0m     return method(self, *_args, **_kwargs)\n",
      "\u001b[2m\u001b[36m(pid=60905)\u001b[0m   File \"/Users/pamathur/miniconda3/envs/nbdev_env/lib/python3.9/site-packages/tune_sklearn/_trainable.py\", line 237, in _train\n",
      "\u001b[2m\u001b[36m(pid=60905)\u001b[0m     scores = cross_validate(\n",
      "\u001b[2m\u001b[36m(pid=60905)\u001b[0m   File \"/Users/pamathur/miniconda3/envs/nbdev_env/lib/python3.9/site-packages/sklearn/model_selection/_validation.py\", line 267, in cross_validate\n",
      "\u001b[2m\u001b[36m(pid=60905)\u001b[0m     results = parallel(\n",
      "\u001b[2m\u001b[36m(pid=60905)\u001b[0m   File \"/Users/pamathur/miniconda3/envs/nbdev_env/lib/python3.9/site-packages/joblib/parallel.py\", line 1043, in __call__\n",
      "\u001b[2m\u001b[36m(pid=60905)\u001b[0m     if self.dispatch_one_batch(iterator):\n",
      "\u001b[2m\u001b[36m(pid=60905)\u001b[0m   File \"/Users/pamathur/miniconda3/envs/nbdev_env/lib/python3.9/site-packages/joblib/parallel.py\", line 861, in dispatch_one_batch\n",
      "\u001b[2m\u001b[36m(pid=60905)\u001b[0m     self._dispatch(tasks)\n",
      "\u001b[2m\u001b[36m(pid=60905)\u001b[0m   File \"/Users/pamathur/miniconda3/envs/nbdev_env/lib/python3.9/site-packages/joblib/parallel.py\", line 779, in _dispatch\n",
      "\u001b[2m\u001b[36m(pid=60905)\u001b[0m     job = self._backend.apply_async(batch, callback=cb)\n",
      "\u001b[2m\u001b[36m(pid=60905)\u001b[0m   File \"/Users/pamathur/miniconda3/envs/nbdev_env/lib/python3.9/site-packages/joblib/_parallel_backends.py\", line 208, in apply_async\n",
      "\u001b[2m\u001b[36m(pid=60905)\u001b[0m     result = ImmediateResult(func)\n",
      "\u001b[2m\u001b[36m(pid=60905)\u001b[0m   File \"/Users/pamathur/miniconda3/envs/nbdev_env/lib/python3.9/site-packages/joblib/_parallel_backends.py\", line 572, in __init__\n",
      "\u001b[2m\u001b[36m(pid=60905)\u001b[0m     self.results = batch()\n",
      "\u001b[2m\u001b[36m(pid=60905)\u001b[0m   File \"/Users/pamathur/miniconda3/envs/nbdev_env/lib/python3.9/site-packages/joblib/parallel.py\", line 262, in __call__\n",
      "\u001b[2m\u001b[36m(pid=60905)\u001b[0m     return [func(*args, **kwargs)\n",
      "\u001b[2m\u001b[36m(pid=60905)\u001b[0m   File \"/Users/pamathur/miniconda3/envs/nbdev_env/lib/python3.9/site-packages/joblib/parallel.py\", line 262, in <listcomp>\n",
      "\u001b[2m\u001b[36m(pid=60905)\u001b[0m     return [func(*args, **kwargs)\n",
      "\u001b[2m\u001b[36m(pid=60905)\u001b[0m   File \"/Users/pamathur/miniconda3/envs/nbdev_env/lib/python3.9/site-packages/sklearn/utils/fixes.py\", line 209, in __call__\n",
      "\u001b[2m\u001b[36m(pid=60905)\u001b[0m     return self.function(*args, **kwargs)\n",
      "\u001b[2m\u001b[36m(pid=60905)\u001b[0m   File \"/Users/pamathur/miniconda3/envs/nbdev_env/lib/python3.9/site-packages/sklearn/model_selection/_validation.py\", line 681, in _fit_and_score\n",
      "\u001b[2m\u001b[36m(pid=60905)\u001b[0m     estimator.fit(X_train, y_train, **fit_params)\n",
      "\u001b[2m\u001b[36m(pid=60905)\u001b[0m   File \"/Users/pamathur/miniconda3/envs/nbdev_env/lib/python3.9/site-packages/sklearn/pipeline.py\", line 394, in fit\n",
      "\u001b[2m\u001b[36m(pid=60905)\u001b[0m     self._final_estimator.fit(Xt, y, **fit_params_last_step)\n",
      "\u001b[2m\u001b[36m(pid=60905)\u001b[0m   File \"/Users/pamathur/miniconda3/envs/nbdev_env/lib/python3.9/site-packages/sklearn/ensemble/_forest.py\", line 441, in fit\n",
      "\u001b[2m\u001b[36m(pid=60905)\u001b[0m     trees = Parallel(\n",
      "\u001b[2m\u001b[36m(pid=60905)\u001b[0m   File \"/Users/pamathur/miniconda3/envs/nbdev_env/lib/python3.9/site-packages/joblib/parallel.py\", line 1046, in __call__\n",
      "\u001b[2m\u001b[36m(pid=60905)\u001b[0m     while self.dispatch_one_batch(iterator):\n",
      "\u001b[2m\u001b[36m(pid=60905)\u001b[0m   File \"/Users/pamathur/miniconda3/envs/nbdev_env/lib/python3.9/site-packages/joblib/parallel.py\", line 861, in dispatch_one_batch\n",
      "\u001b[2m\u001b[36m(pid=60905)\u001b[0m     self._dispatch(tasks)\n",
      "\u001b[2m\u001b[36m(pid=60905)\u001b[0m   File \"/Users/pamathur/miniconda3/envs/nbdev_env/lib/python3.9/site-packages/joblib/parallel.py\", line 779, in _dispatch\n",
      "\u001b[2m\u001b[36m(pid=60905)\u001b[0m     job = self._backend.apply_async(batch, callback=cb)\n",
      "\u001b[2m\u001b[36m(pid=60905)\u001b[0m   File \"/Users/pamathur/miniconda3/envs/nbdev_env/lib/python3.9/site-packages/joblib/_parallel_backends.py\", line 208, in apply_async\n",
      "\u001b[2m\u001b[36m(pid=60905)\u001b[0m     result = ImmediateResult(func)\n",
      "\u001b[2m\u001b[36m(pid=60905)\u001b[0m   File \"/Users/pamathur/miniconda3/envs/nbdev_env/lib/python3.9/site-packages/joblib/_parallel_backends.py\", line 572, in __init__\n",
      "\u001b[2m\u001b[36m(pid=60905)\u001b[0m     self.results = batch()\n",
      "\u001b[2m\u001b[36m(pid=60905)\u001b[0m   File \"/Users/pamathur/miniconda3/envs/nbdev_env/lib/python3.9/site-packages/joblib/parallel.py\", line 262, in __call__\n",
      "\u001b[2m\u001b[36m(pid=60905)\u001b[0m     return [func(*args, **kwargs)\n",
      "\u001b[2m\u001b[36m(pid=60905)\u001b[0m   File \"/Users/pamathur/miniconda3/envs/nbdev_env/lib/python3.9/site-packages/joblib/parallel.py\", line 262, in <listcomp>\n",
      "\u001b[2m\u001b[36m(pid=60905)\u001b[0m     return [func(*args, **kwargs)\n",
      "\u001b[2m\u001b[36m(pid=60905)\u001b[0m   File \"/Users/pamathur/miniconda3/envs/nbdev_env/lib/python3.9/site-packages/sklearn/utils/fixes.py\", line 209, in __call__\n",
      "\u001b[2m\u001b[36m(pid=60905)\u001b[0m     return self.function(*args, **kwargs)\n",
      "\u001b[2m\u001b[36m(pid=60905)\u001b[0m   File \"/Users/pamathur/miniconda3/envs/nbdev_env/lib/python3.9/site-packages/sklearn/ensemble/_forest.py\", line 184, in _parallel_build_trees\n",
      "\u001b[2m\u001b[36m(pid=60905)\u001b[0m     tree.fit(X, y, sample_weight=curr_sample_weight, check_input=False)\n",
      "\u001b[2m\u001b[36m(pid=60905)\u001b[0m   File \"/Users/pamathur/miniconda3/envs/nbdev_env/lib/python3.9/site-packages/sklearn/tree/_classes.py\", line 1315, in fit\n",
      "\u001b[2m\u001b[36m(pid=60905)\u001b[0m     super().fit(\n",
      "\u001b[2m\u001b[36m(pid=60905)\u001b[0m   File \"/Users/pamathur/miniconda3/envs/nbdev_env/lib/python3.9/site-packages/sklearn/tree/_classes.py\", line 420, in fit\n",
      "\u001b[2m\u001b[36m(pid=60905)\u001b[0m     builder.build(self.tree_, X, y, sample_weight)\n",
      "\u001b[2m\u001b[36m(pid=60905)\u001b[0m   File \"/Users/pamathur/miniconda3/envs/nbdev_env/lib/python3.9/site-packages/ray/worker.py\", line 422, in sigterm_handler\n",
      "\u001b[2m\u001b[36m(pid=60905)\u001b[0m     sys.exit(1)\n",
      "\u001b[2m\u001b[36m(pid=60905)\u001b[0m SystemExit: 1\n"
     ]
    },
    {
     "name": "stdout",
     "output_type": "stream",
     "text": [
      "Grid Search Time: 73.97337913513184\n",
      "Best params:\n",
      "{'preprocessor__num_cols__scaler': StandardScaler(), 'preprocessor__cat_cols__imputer': SimpleImputer(strategy='most_frequent'), 'model__n_estimators': 500, 'model__max_features': 'sqrt'}\n",
      "Internal CV Metrics score: 17418.836\n"
     ]
    }
   ],
   "source": [
    "# let's tune data preprocessing and model hyperparams\n",
    "\n",
    "param_grid = {\n",
    "    \"preprocessor__num_cols__scaler\": [StandardScaler(), MinMaxScaler()],\n",
    "    \"preprocessor__cat_cols__imputer\": [SimpleImputer(strategy='constant'),\n",
    "                                                 SimpleImputer(strategy='most_frequent')],\n",
    "    'model__n_estimators': [250,500],\n",
    "    'model__max_features': [\"auto\", \"sqrt\"],\n",
    "}\n",
    "\n",
    "start = time.time()\n",
    "# Now do tune grid search\n",
    "tune_search = tmlt.do_tune_grid_search(param_grid=param_grid,\n",
    "                                       cv=5,\n",
    "                                       scoring='neg_mean_absolute_error',\n",
    "                                      early_stopping=False,\n",
    "                                      time_budget_s=60)\n",
    "end = time.time()\n",
    "print(\"Grid Search Time:\", end - start)\n",
    "\n",
    "print(\"Best params:\")\n",
    "print(tune_search.best_params_)\n",
    "\n",
    "print(f\"Internal CV Metrics score: {-1*(tune_search.best_score_):.3f}\")"
   ]
  },
  {
   "cell_type": "markdown",
   "metadata": {},
   "source": [
    "**Awesome we found best params with K-fold variations ~ 1 minute!**"
   ]
  },
  {
   "cell_type": "markdown",
   "metadata": {},
   "source": [
    "##### Now let's use best params to update preprocessor and model in our pipeline"
   ]
  },
  {
   "cell_type": "code",
   "execution_count": 12,
   "metadata": {},
   "outputs": [
    {
     "data": {
      "text/html": [
       "<style>#sk-8dd6f37d-b940-42d8-9c71-c4ccf08814d6 {color: black;background-color: white;}#sk-8dd6f37d-b940-42d8-9c71-c4ccf08814d6 pre{padding: 0;}#sk-8dd6f37d-b940-42d8-9c71-c4ccf08814d6 div.sk-toggleable {background-color: white;}#sk-8dd6f37d-b940-42d8-9c71-c4ccf08814d6 label.sk-toggleable__label {cursor: pointer;display: block;width: 100%;margin-bottom: 0;padding: 0.3em;box-sizing: border-box;text-align: center;}#sk-8dd6f37d-b940-42d8-9c71-c4ccf08814d6 div.sk-toggleable__content {max-height: 0;max-width: 0;overflow: hidden;text-align: left;background-color: #f0f8ff;}#sk-8dd6f37d-b940-42d8-9c71-c4ccf08814d6 div.sk-toggleable__content pre {margin: 0.2em;color: black;border-radius: 0.25em;background-color: #f0f8ff;}#sk-8dd6f37d-b940-42d8-9c71-c4ccf08814d6 input.sk-toggleable__control:checked~div.sk-toggleable__content {max-height: 200px;max-width: 100%;overflow: auto;}#sk-8dd6f37d-b940-42d8-9c71-c4ccf08814d6 div.sk-estimator input.sk-toggleable__control:checked~label.sk-toggleable__label {background-color: #d4ebff;}#sk-8dd6f37d-b940-42d8-9c71-c4ccf08814d6 div.sk-label input.sk-toggleable__control:checked~label.sk-toggleable__label {background-color: #d4ebff;}#sk-8dd6f37d-b940-42d8-9c71-c4ccf08814d6 input.sk-hidden--visually {border: 0;clip: rect(1px 1px 1px 1px);clip: rect(1px, 1px, 1px, 1px);height: 1px;margin: -1px;overflow: hidden;padding: 0;position: absolute;width: 1px;}#sk-8dd6f37d-b940-42d8-9c71-c4ccf08814d6 div.sk-estimator {font-family: monospace;background-color: #f0f8ff;border: 1px dotted black;border-radius: 0.25em;box-sizing: border-box;margin-bottom: 0.5em;}#sk-8dd6f37d-b940-42d8-9c71-c4ccf08814d6 div.sk-estimator:hover {background-color: #d4ebff;}#sk-8dd6f37d-b940-42d8-9c71-c4ccf08814d6 div.sk-parallel-item::after {content: \"\";width: 100%;border-bottom: 1px solid gray;flex-grow: 1;}#sk-8dd6f37d-b940-42d8-9c71-c4ccf08814d6 div.sk-label:hover label.sk-toggleable__label {background-color: #d4ebff;}#sk-8dd6f37d-b940-42d8-9c71-c4ccf08814d6 div.sk-serial::before {content: \"\";position: absolute;border-left: 1px solid gray;box-sizing: border-box;top: 2em;bottom: 0;left: 50%;}#sk-8dd6f37d-b940-42d8-9c71-c4ccf08814d6 div.sk-serial {display: flex;flex-direction: column;align-items: center;background-color: white;padding-right: 0.2em;padding-left: 0.2em;}#sk-8dd6f37d-b940-42d8-9c71-c4ccf08814d6 div.sk-item {z-index: 1;}#sk-8dd6f37d-b940-42d8-9c71-c4ccf08814d6 div.sk-parallel {display: flex;align-items: stretch;justify-content: center;background-color: white;}#sk-8dd6f37d-b940-42d8-9c71-c4ccf08814d6 div.sk-parallel::before {content: \"\";position: absolute;border-left: 1px solid gray;box-sizing: border-box;top: 2em;bottom: 0;left: 50%;}#sk-8dd6f37d-b940-42d8-9c71-c4ccf08814d6 div.sk-parallel-item {display: flex;flex-direction: column;position: relative;background-color: white;}#sk-8dd6f37d-b940-42d8-9c71-c4ccf08814d6 div.sk-parallel-item:first-child::after {align-self: flex-end;width: 50%;}#sk-8dd6f37d-b940-42d8-9c71-c4ccf08814d6 div.sk-parallel-item:last-child::after {align-self: flex-start;width: 50%;}#sk-8dd6f37d-b940-42d8-9c71-c4ccf08814d6 div.sk-parallel-item:only-child::after {width: 0;}#sk-8dd6f37d-b940-42d8-9c71-c4ccf08814d6 div.sk-dashed-wrapped {border: 1px dashed gray;margin: 0 0.4em 0.5em 0.4em;box-sizing: border-box;padding-bottom: 0.4em;background-color: white;position: relative;}#sk-8dd6f37d-b940-42d8-9c71-c4ccf08814d6 div.sk-label label {font-family: monospace;font-weight: bold;background-color: white;display: inline-block;line-height: 1.2em;}#sk-8dd6f37d-b940-42d8-9c71-c4ccf08814d6 div.sk-label-container {position: relative;z-index: 2;text-align: center;}#sk-8dd6f37d-b940-42d8-9c71-c4ccf08814d6 div.sk-container {display: inline-block;position: relative;}</style><div id=\"sk-8dd6f37d-b940-42d8-9c71-c4ccf08814d6\" class\"sk-top-container\"><div class=\"sk-container\"><div class=\"sk-item sk-dashed-wrapped\"><div class=\"sk-label-container\"><div class=\"sk-label sk-toggleable\"><input class=\"sk-toggleable__control sk-hidden--visually\" id=\"a8b08f60-5b42-49e5-9eb0-732fccd03005\" type=\"checkbox\" ><label class=\"sk-toggleable__label\" for=\"a8b08f60-5b42-49e5-9eb0-732fccd03005\">Pipeline</label><div class=\"sk-toggleable__content\"><pre>Pipeline(steps=[('preprocessor',\n",
       "                 ColumnTransformer(transformers=[('num_cols',\n",
       "                                                  Pipeline(steps=[('imputer',\n",
       "                                                                   SimpleImputer(strategy='median')),\n",
       "                                                                  ('scaler',\n",
       "                                                                   StandardScaler())]),\n",
       "                                                  ['MSSubClass', 'LotFrontage',\n",
       "                                                   'LotArea', 'OverallQual',\n",
       "                                                   'OverallCond', 'YearBuilt',\n",
       "                                                   'YearRemodAdd', 'MasVnrArea',\n",
       "                                                   'BsmtFinSF1', 'BsmtFinSF2',\n",
       "                                                   'BsmtUnfSF', 'TotalBsmtSF',\n",
       "                                                   '1stFlrSF', '2ndFlrSF',\n",
       "                                                   'Lo...\n",
       "                                                   'Condition1', 'Condition2',\n",
       "                                                   'BldgType', 'HouseStyle',\n",
       "                                                   'RoofStyle', 'RoofMatl',\n",
       "                                                   'MasVnrType', 'ExterQual',\n",
       "                                                   'ExterCond', 'Foundation',\n",
       "                                                   'BsmtQual', 'BsmtCond',\n",
       "                                                   'BsmtExposure',\n",
       "                                                   'BsmtFinType1',\n",
       "                                                   'BsmtFinType2', 'Heating',\n",
       "                                                   'HeatingQC', 'CentralAir',\n",
       "                                                   'Electrical', 'KitchenQual',\n",
       "                                                   'Functional', 'FireplaceQu', ...])])),\n",
       "                ('model',\n",
       "                 RandomForestRegressor(n_estimators=10, random_state=42))])</pre></div></div></div><div class=\"sk-serial\"><div class=\"sk-item sk-dashed-wrapped\"><div class=\"sk-label-container\"><div class=\"sk-label sk-toggleable\"><input class=\"sk-toggleable__control sk-hidden--visually\" id=\"e73ac7ad-c9b0-4c00-94ff-3b0395fb430c\" type=\"checkbox\" ><label class=\"sk-toggleable__label\" for=\"e73ac7ad-c9b0-4c00-94ff-3b0395fb430c\">preprocessor: ColumnTransformer</label><div class=\"sk-toggleable__content\"><pre>ColumnTransformer(transformers=[('num_cols',\n",
       "                                 Pipeline(steps=[('imputer',\n",
       "                                                  SimpleImputer(strategy='median')),\n",
       "                                                 ('scaler', StandardScaler())]),\n",
       "                                 ['MSSubClass', 'LotFrontage', 'LotArea',\n",
       "                                  'OverallQual', 'OverallCond', 'YearBuilt',\n",
       "                                  'YearRemodAdd', 'MasVnrArea', 'BsmtFinSF1',\n",
       "                                  'BsmtFinSF2', 'BsmtUnfSF', 'TotalBsmtSF',\n",
       "                                  '1stFlrSF', '2ndFlrSF', 'LowQualFinSF',\n",
       "                                  'GrLivArea', 'BsmtFul...\n",
       "                                 ['MSZoning', 'Street', 'Alley', 'LotShape',\n",
       "                                  'LandContour', 'Utilities', 'LotConfig',\n",
       "                                  'LandSlope', 'Condition1', 'Condition2',\n",
       "                                  'BldgType', 'HouseStyle', 'RoofStyle',\n",
       "                                  'RoofMatl', 'MasVnrType', 'ExterQual',\n",
       "                                  'ExterCond', 'Foundation', 'BsmtQual',\n",
       "                                  'BsmtCond', 'BsmtExposure', 'BsmtFinType1',\n",
       "                                  'BsmtFinType2', 'Heating', 'HeatingQC',\n",
       "                                  'CentralAir', 'Electrical', 'KitchenQual',\n",
       "                                  'Functional', 'FireplaceQu', ...])])</pre></div></div></div><div class=\"sk-parallel\"><div class=\"sk-parallel-item\"><div class=\"sk-item\"><div class=\"sk-label-container\"><div class=\"sk-label sk-toggleable\"><input class=\"sk-toggleable__control sk-hidden--visually\" id=\"37eef47b-92d6-4204-ad7b-f9e51463eddd\" type=\"checkbox\" ><label class=\"sk-toggleable__label\" for=\"37eef47b-92d6-4204-ad7b-f9e51463eddd\">num_cols</label><div class=\"sk-toggleable__content\"><pre>['MSSubClass', 'LotFrontage', 'LotArea', 'OverallQual', 'OverallCond', 'YearBuilt', 'YearRemodAdd', 'MasVnrArea', 'BsmtFinSF1', 'BsmtFinSF2', 'BsmtUnfSF', 'TotalBsmtSF', '1stFlrSF', '2ndFlrSF', 'LowQualFinSF', 'GrLivArea', 'BsmtFullBath', 'BsmtHalfBath', 'FullBath', 'HalfBath', 'BedroomAbvGr', 'KitchenAbvGr', 'TotRmsAbvGrd', 'Fireplaces', 'GarageYrBlt', 'GarageCars', 'GarageArea', 'WoodDeckSF', 'OpenPorchSF', 'EnclosedPorch', '3SsnPorch', 'ScreenPorch', 'PoolArea', 'MiscVal', 'MoSold', 'YrSold']</pre></div></div></div><div class=\"sk-serial\"><div class=\"sk-item\"><div class=\"sk-serial\"><div class=\"sk-item\"><div class=\"sk-estimator sk-toggleable\"><input class=\"sk-toggleable__control sk-hidden--visually\" id=\"6d69a950-b27c-4d36-932d-7334ae3d6509\" type=\"checkbox\" ><label class=\"sk-toggleable__label\" for=\"6d69a950-b27c-4d36-932d-7334ae3d6509\">SimpleImputer</label><div class=\"sk-toggleable__content\"><pre>SimpleImputer(strategy='median')</pre></div></div></div><div class=\"sk-item\"><div class=\"sk-estimator sk-toggleable\"><input class=\"sk-toggleable__control sk-hidden--visually\" id=\"14a09cf3-8207-40f1-a42c-65849cb05525\" type=\"checkbox\" ><label class=\"sk-toggleable__label\" for=\"14a09cf3-8207-40f1-a42c-65849cb05525\">StandardScaler</label><div class=\"sk-toggleable__content\"><pre>StandardScaler()</pre></div></div></div></div></div></div></div></div><div class=\"sk-parallel-item\"><div class=\"sk-item\"><div class=\"sk-label-container\"><div class=\"sk-label sk-toggleable\"><input class=\"sk-toggleable__control sk-hidden--visually\" id=\"411f8fe4-eaa9-494e-8869-f83ef96e9052\" type=\"checkbox\" ><label class=\"sk-toggleable__label\" for=\"411f8fe4-eaa9-494e-8869-f83ef96e9052\">cat_cols</label><div class=\"sk-toggleable__content\"><pre>['MSZoning', 'Street', 'Alley', 'LotShape', 'LandContour', 'Utilities', 'LotConfig', 'LandSlope', 'Condition1', 'Condition2', 'BldgType', 'HouseStyle', 'RoofStyle', 'RoofMatl', 'MasVnrType', 'ExterQual', 'ExterCond', 'Foundation', 'BsmtQual', 'BsmtCond', 'BsmtExposure', 'BsmtFinType1', 'BsmtFinType2', 'Heating', 'HeatingQC', 'CentralAir', 'Electrical', 'KitchenQual', 'Functional', 'FireplaceQu', 'GarageType', 'GarageFinish', 'GarageQual', 'GarageCond', 'PavedDrive', 'PoolQC', 'Fence', 'MiscFeature', 'SaleType', 'SaleCondition', 'Neighborhood', 'Exterior1st', 'Exterior2nd']</pre></div></div></div><div class=\"sk-serial\"><div class=\"sk-item\"><div class=\"sk-serial\"><div class=\"sk-item\"><div class=\"sk-estimator sk-toggleable\"><input class=\"sk-toggleable__control sk-hidden--visually\" id=\"c9e5145a-6acc-414d-a520-947df35a0a53\" type=\"checkbox\" ><label class=\"sk-toggleable__label\" for=\"c9e5145a-6acc-414d-a520-947df35a0a53\">SimpleImputer</label><div class=\"sk-toggleable__content\"><pre>SimpleImputer(strategy='most_frequent')</pre></div></div></div><div class=\"sk-item\"><div class=\"sk-estimator sk-toggleable\"><input class=\"sk-toggleable__control sk-hidden--visually\" id=\"6edf1304-52e1-4086-8ed1-0393a6ffc712\" type=\"checkbox\" ><label class=\"sk-toggleable__label\" for=\"6edf1304-52e1-4086-8ed1-0393a6ffc712\">OneHotEncoder</label><div class=\"sk-toggleable__content\"><pre>OneHotEncoder(handle_unknown='ignore')</pre></div></div></div></div></div></div></div></div></div></div><div class=\"sk-item\"><div class=\"sk-estimator sk-toggleable\"><input class=\"sk-toggleable__control sk-hidden--visually\" id=\"244ec54f-f6ef-410c-9263-fa183ee36666\" type=\"checkbox\" ><label class=\"sk-toggleable__label\" for=\"244ec54f-f6ef-410c-9263-fa183ee36666\">RandomForestRegressor</label><div class=\"sk-toggleable__content\"><pre>RandomForestRegressor(n_estimators=10, random_state=42)</pre></div></div></div></div></div></div></div>"
      ],
      "text/plain": [
       "Pipeline(steps=[('preprocessor',\n",
       "                 ColumnTransformer(transformers=[('num_cols',\n",
       "                                                  Pipeline(steps=[('imputer',\n",
       "                                                                   SimpleImputer(strategy='median')),\n",
       "                                                                  ('scaler',\n",
       "                                                                   StandardScaler())]),\n",
       "                                                  ['MSSubClass', 'LotFrontage',\n",
       "                                                   'LotArea', 'OverallQual',\n",
       "                                                   'OverallCond', 'YearBuilt',\n",
       "                                                   'YearRemodAdd', 'MasVnrArea',\n",
       "                                                   'BsmtFinSF1', 'BsmtFinSF2',\n",
       "                                                   'BsmtUnfSF', 'TotalBsmtSF',\n",
       "                                                   '1stFlrSF', '2ndFlrSF',\n",
       "                                                   'Lo...\n",
       "                                                   'Condition1', 'Condition2',\n",
       "                                                   'BldgType', 'HouseStyle',\n",
       "                                                   'RoofStyle', 'RoofMatl',\n",
       "                                                   'MasVnrType', 'ExterQual',\n",
       "                                                   'ExterCond', 'Foundation',\n",
       "                                                   'BsmtQual', 'BsmtCond',\n",
       "                                                   'BsmtExposure',\n",
       "                                                   'BsmtFinType1',\n",
       "                                                   'BsmtFinType2', 'Heating',\n",
       "                                                   'HeatingQC', 'CentralAir',\n",
       "                                                   'Electrical', 'KitchenQual',\n",
       "                                                   'Functional', 'FireplaceQu', ...])])),\n",
       "                ('model',\n",
       "                 RandomForestRegressor(n_estimators=10, random_state=42))])"
      ]
     },
     "execution_count": 12,
     "metadata": {},
     "output_type": "execute_result"
    }
   ],
   "source": [
    "pp_params = tmlt.get_preprocessor_best_params_from_grid_search(tune_search)\n",
    "tmlt.update_preprocessor(**pp_params)\n",
    "tmlt.spl"
   ]
  },
  {
   "cell_type": "code",
   "execution_count": 13,
   "metadata": {},
   "outputs": [
    {
     "data": {
      "text/html": [
       "<style>#sk-a2aa9778-41ea-43aa-b0ab-c37bb4240e77 {color: black;background-color: white;}#sk-a2aa9778-41ea-43aa-b0ab-c37bb4240e77 pre{padding: 0;}#sk-a2aa9778-41ea-43aa-b0ab-c37bb4240e77 div.sk-toggleable {background-color: white;}#sk-a2aa9778-41ea-43aa-b0ab-c37bb4240e77 label.sk-toggleable__label {cursor: pointer;display: block;width: 100%;margin-bottom: 0;padding: 0.3em;box-sizing: border-box;text-align: center;}#sk-a2aa9778-41ea-43aa-b0ab-c37bb4240e77 div.sk-toggleable__content {max-height: 0;max-width: 0;overflow: hidden;text-align: left;background-color: #f0f8ff;}#sk-a2aa9778-41ea-43aa-b0ab-c37bb4240e77 div.sk-toggleable__content pre {margin: 0.2em;color: black;border-radius: 0.25em;background-color: #f0f8ff;}#sk-a2aa9778-41ea-43aa-b0ab-c37bb4240e77 input.sk-toggleable__control:checked~div.sk-toggleable__content {max-height: 200px;max-width: 100%;overflow: auto;}#sk-a2aa9778-41ea-43aa-b0ab-c37bb4240e77 div.sk-estimator input.sk-toggleable__control:checked~label.sk-toggleable__label {background-color: #d4ebff;}#sk-a2aa9778-41ea-43aa-b0ab-c37bb4240e77 div.sk-label input.sk-toggleable__control:checked~label.sk-toggleable__label {background-color: #d4ebff;}#sk-a2aa9778-41ea-43aa-b0ab-c37bb4240e77 input.sk-hidden--visually {border: 0;clip: rect(1px 1px 1px 1px);clip: rect(1px, 1px, 1px, 1px);height: 1px;margin: -1px;overflow: hidden;padding: 0;position: absolute;width: 1px;}#sk-a2aa9778-41ea-43aa-b0ab-c37bb4240e77 div.sk-estimator {font-family: monospace;background-color: #f0f8ff;border: 1px dotted black;border-radius: 0.25em;box-sizing: border-box;margin-bottom: 0.5em;}#sk-a2aa9778-41ea-43aa-b0ab-c37bb4240e77 div.sk-estimator:hover {background-color: #d4ebff;}#sk-a2aa9778-41ea-43aa-b0ab-c37bb4240e77 div.sk-parallel-item::after {content: \"\";width: 100%;border-bottom: 1px solid gray;flex-grow: 1;}#sk-a2aa9778-41ea-43aa-b0ab-c37bb4240e77 div.sk-label:hover label.sk-toggleable__label {background-color: #d4ebff;}#sk-a2aa9778-41ea-43aa-b0ab-c37bb4240e77 div.sk-serial::before {content: \"\";position: absolute;border-left: 1px solid gray;box-sizing: border-box;top: 2em;bottom: 0;left: 50%;}#sk-a2aa9778-41ea-43aa-b0ab-c37bb4240e77 div.sk-serial {display: flex;flex-direction: column;align-items: center;background-color: white;padding-right: 0.2em;padding-left: 0.2em;}#sk-a2aa9778-41ea-43aa-b0ab-c37bb4240e77 div.sk-item {z-index: 1;}#sk-a2aa9778-41ea-43aa-b0ab-c37bb4240e77 div.sk-parallel {display: flex;align-items: stretch;justify-content: center;background-color: white;}#sk-a2aa9778-41ea-43aa-b0ab-c37bb4240e77 div.sk-parallel::before {content: \"\";position: absolute;border-left: 1px solid gray;box-sizing: border-box;top: 2em;bottom: 0;left: 50%;}#sk-a2aa9778-41ea-43aa-b0ab-c37bb4240e77 div.sk-parallel-item {display: flex;flex-direction: column;position: relative;background-color: white;}#sk-a2aa9778-41ea-43aa-b0ab-c37bb4240e77 div.sk-parallel-item:first-child::after {align-self: flex-end;width: 50%;}#sk-a2aa9778-41ea-43aa-b0ab-c37bb4240e77 div.sk-parallel-item:last-child::after {align-self: flex-start;width: 50%;}#sk-a2aa9778-41ea-43aa-b0ab-c37bb4240e77 div.sk-parallel-item:only-child::after {width: 0;}#sk-a2aa9778-41ea-43aa-b0ab-c37bb4240e77 div.sk-dashed-wrapped {border: 1px dashed gray;margin: 0 0.4em 0.5em 0.4em;box-sizing: border-box;padding-bottom: 0.4em;background-color: white;position: relative;}#sk-a2aa9778-41ea-43aa-b0ab-c37bb4240e77 div.sk-label label {font-family: monospace;font-weight: bold;background-color: white;display: inline-block;line-height: 1.2em;}#sk-a2aa9778-41ea-43aa-b0ab-c37bb4240e77 div.sk-label-container {position: relative;z-index: 2;text-align: center;}#sk-a2aa9778-41ea-43aa-b0ab-c37bb4240e77 div.sk-container {display: inline-block;position: relative;}</style><div id=\"sk-a2aa9778-41ea-43aa-b0ab-c37bb4240e77\" class\"sk-top-container\"><div class=\"sk-container\"><div class=\"sk-item sk-dashed-wrapped\"><div class=\"sk-label-container\"><div class=\"sk-label sk-toggleable\"><input class=\"sk-toggleable__control sk-hidden--visually\" id=\"7d988cdf-4eec-46dd-934d-9826717865ff\" type=\"checkbox\" ><label class=\"sk-toggleable__label\" for=\"7d988cdf-4eec-46dd-934d-9826717865ff\">Pipeline</label><div class=\"sk-toggleable__content\"><pre>Pipeline(steps=[('preprocessor',\n",
       "                 ColumnTransformer(transformers=[('num_cols',\n",
       "                                                  Pipeline(steps=[('imputer',\n",
       "                                                                   SimpleImputer(strategy='median')),\n",
       "                                                                  ('scaler',\n",
       "                                                                   StandardScaler())]),\n",
       "                                                  ['MSSubClass', 'LotFrontage',\n",
       "                                                   'LotArea', 'OverallQual',\n",
       "                                                   'OverallCond', 'YearBuilt',\n",
       "                                                   'YearRemodAdd', 'MasVnrArea',\n",
       "                                                   'BsmtFinSF1', 'BsmtFinSF2',\n",
       "                                                   'BsmtUnfSF', 'TotalBsmtSF',\n",
       "                                                   '1stFlrSF', '2ndFlrSF',\n",
       "                                                   'Lo...\n",
       "                                                   'Condition1', 'Condition2',\n",
       "                                                   'BldgType', 'HouseStyle',\n",
       "                                                   'RoofStyle', 'RoofMatl',\n",
       "                                                   'MasVnrType', 'ExterQual',\n",
       "                                                   'ExterCond', 'Foundation',\n",
       "                                                   'BsmtQual', 'BsmtCond',\n",
       "                                                   'BsmtExposure',\n",
       "                                                   'BsmtFinType1',\n",
       "                                                   'BsmtFinType2', 'Heating',\n",
       "                                                   'HeatingQC', 'CentralAir',\n",
       "                                                   'Electrical', 'KitchenQual',\n",
       "                                                   'Functional', 'FireplaceQu', ...])])),\n",
       "                ('model',\n",
       "                 RandomForestRegressor(max_features='sqrt', n_estimators=500))])</pre></div></div></div><div class=\"sk-serial\"><div class=\"sk-item sk-dashed-wrapped\"><div class=\"sk-label-container\"><div class=\"sk-label sk-toggleable\"><input class=\"sk-toggleable__control sk-hidden--visually\" id=\"c1a05a2c-f347-4daa-8d9e-acecefb3cba0\" type=\"checkbox\" ><label class=\"sk-toggleable__label\" for=\"c1a05a2c-f347-4daa-8d9e-acecefb3cba0\">preprocessor: ColumnTransformer</label><div class=\"sk-toggleable__content\"><pre>ColumnTransformer(transformers=[('num_cols',\n",
       "                                 Pipeline(steps=[('imputer',\n",
       "                                                  SimpleImputer(strategy='median')),\n",
       "                                                 ('scaler', StandardScaler())]),\n",
       "                                 ['MSSubClass', 'LotFrontage', 'LotArea',\n",
       "                                  'OverallQual', 'OverallCond', 'YearBuilt',\n",
       "                                  'YearRemodAdd', 'MasVnrArea', 'BsmtFinSF1',\n",
       "                                  'BsmtFinSF2', 'BsmtUnfSF', 'TotalBsmtSF',\n",
       "                                  '1stFlrSF', '2ndFlrSF', 'LowQualFinSF',\n",
       "                                  'GrLivArea', 'BsmtFul...\n",
       "                                 ['MSZoning', 'Street', 'Alley', 'LotShape',\n",
       "                                  'LandContour', 'Utilities', 'LotConfig',\n",
       "                                  'LandSlope', 'Condition1', 'Condition2',\n",
       "                                  'BldgType', 'HouseStyle', 'RoofStyle',\n",
       "                                  'RoofMatl', 'MasVnrType', 'ExterQual',\n",
       "                                  'ExterCond', 'Foundation', 'BsmtQual',\n",
       "                                  'BsmtCond', 'BsmtExposure', 'BsmtFinType1',\n",
       "                                  'BsmtFinType2', 'Heating', 'HeatingQC',\n",
       "                                  'CentralAir', 'Electrical', 'KitchenQual',\n",
       "                                  'Functional', 'FireplaceQu', ...])])</pre></div></div></div><div class=\"sk-parallel\"><div class=\"sk-parallel-item\"><div class=\"sk-item\"><div class=\"sk-label-container\"><div class=\"sk-label sk-toggleable\"><input class=\"sk-toggleable__control sk-hidden--visually\" id=\"7e3c3c72-09b6-49b4-a03c-b753f80c8f42\" type=\"checkbox\" ><label class=\"sk-toggleable__label\" for=\"7e3c3c72-09b6-49b4-a03c-b753f80c8f42\">num_cols</label><div class=\"sk-toggleable__content\"><pre>['MSSubClass', 'LotFrontage', 'LotArea', 'OverallQual', 'OverallCond', 'YearBuilt', 'YearRemodAdd', 'MasVnrArea', 'BsmtFinSF1', 'BsmtFinSF2', 'BsmtUnfSF', 'TotalBsmtSF', '1stFlrSF', '2ndFlrSF', 'LowQualFinSF', 'GrLivArea', 'BsmtFullBath', 'BsmtHalfBath', 'FullBath', 'HalfBath', 'BedroomAbvGr', 'KitchenAbvGr', 'TotRmsAbvGrd', 'Fireplaces', 'GarageYrBlt', 'GarageCars', 'GarageArea', 'WoodDeckSF', 'OpenPorchSF', 'EnclosedPorch', '3SsnPorch', 'ScreenPorch', 'PoolArea', 'MiscVal', 'MoSold', 'YrSold']</pre></div></div></div><div class=\"sk-serial\"><div class=\"sk-item\"><div class=\"sk-serial\"><div class=\"sk-item\"><div class=\"sk-estimator sk-toggleable\"><input class=\"sk-toggleable__control sk-hidden--visually\" id=\"9cef53e0-0b17-4253-b83a-cbd392d0f761\" type=\"checkbox\" ><label class=\"sk-toggleable__label\" for=\"9cef53e0-0b17-4253-b83a-cbd392d0f761\">SimpleImputer</label><div class=\"sk-toggleable__content\"><pre>SimpleImputer(strategy='median')</pre></div></div></div><div class=\"sk-item\"><div class=\"sk-estimator sk-toggleable\"><input class=\"sk-toggleable__control sk-hidden--visually\" id=\"56d95713-fb5f-4afe-a5e6-76ea10a4affc\" type=\"checkbox\" ><label class=\"sk-toggleable__label\" for=\"56d95713-fb5f-4afe-a5e6-76ea10a4affc\">StandardScaler</label><div class=\"sk-toggleable__content\"><pre>StandardScaler()</pre></div></div></div></div></div></div></div></div><div class=\"sk-parallel-item\"><div class=\"sk-item\"><div class=\"sk-label-container\"><div class=\"sk-label sk-toggleable\"><input class=\"sk-toggleable__control sk-hidden--visually\" id=\"df3253dc-dc84-4ce3-a74b-ed91ac6aa80b\" type=\"checkbox\" ><label class=\"sk-toggleable__label\" for=\"df3253dc-dc84-4ce3-a74b-ed91ac6aa80b\">cat_cols</label><div class=\"sk-toggleable__content\"><pre>['MSZoning', 'Street', 'Alley', 'LotShape', 'LandContour', 'Utilities', 'LotConfig', 'LandSlope', 'Condition1', 'Condition2', 'BldgType', 'HouseStyle', 'RoofStyle', 'RoofMatl', 'MasVnrType', 'ExterQual', 'ExterCond', 'Foundation', 'BsmtQual', 'BsmtCond', 'BsmtExposure', 'BsmtFinType1', 'BsmtFinType2', 'Heating', 'HeatingQC', 'CentralAir', 'Electrical', 'KitchenQual', 'Functional', 'FireplaceQu', 'GarageType', 'GarageFinish', 'GarageQual', 'GarageCond', 'PavedDrive', 'PoolQC', 'Fence', 'MiscFeature', 'SaleType', 'SaleCondition', 'Neighborhood', 'Exterior1st', 'Exterior2nd']</pre></div></div></div><div class=\"sk-serial\"><div class=\"sk-item\"><div class=\"sk-serial\"><div class=\"sk-item\"><div class=\"sk-estimator sk-toggleable\"><input class=\"sk-toggleable__control sk-hidden--visually\" id=\"c3b9a623-8752-451c-87fa-bbc98571e63e\" type=\"checkbox\" ><label class=\"sk-toggleable__label\" for=\"c3b9a623-8752-451c-87fa-bbc98571e63e\">SimpleImputer</label><div class=\"sk-toggleable__content\"><pre>SimpleImputer(strategy='most_frequent')</pre></div></div></div><div class=\"sk-item\"><div class=\"sk-estimator sk-toggleable\"><input class=\"sk-toggleable__control sk-hidden--visually\" id=\"60be55a2-499a-4251-beb7-8c8e9a96d0af\" type=\"checkbox\" ><label class=\"sk-toggleable__label\" for=\"60be55a2-499a-4251-beb7-8c8e9a96d0af\">OneHotEncoder</label><div class=\"sk-toggleable__content\"><pre>OneHotEncoder(handle_unknown='ignore')</pre></div></div></div></div></div></div></div></div></div></div><div class=\"sk-item\"><div class=\"sk-estimator sk-toggleable\"><input class=\"sk-toggleable__control sk-hidden--visually\" id=\"8e874a56-9389-4972-ba84-813c1c5e81c7\" type=\"checkbox\" ><label class=\"sk-toggleable__label\" for=\"8e874a56-9389-4972-ba84-813c1c5e81c7\">RandomForestRegressor</label><div class=\"sk-toggleable__content\"><pre>RandomForestRegressor(max_features='sqrt', n_estimators=500)</pre></div></div></div></div></div></div></div>"
      ],
      "text/plain": [
       "Pipeline(steps=[('preprocessor',\n",
       "                 ColumnTransformer(transformers=[('num_cols',\n",
       "                                                  Pipeline(steps=[('imputer',\n",
       "                                                                   SimpleImputer(strategy='median')),\n",
       "                                                                  ('scaler',\n",
       "                                                                   StandardScaler())]),\n",
       "                                                  ['MSSubClass', 'LotFrontage',\n",
       "                                                   'LotArea', 'OverallQual',\n",
       "                                                   'OverallCond', 'YearBuilt',\n",
       "                                                   'YearRemodAdd', 'MasVnrArea',\n",
       "                                                   'BsmtFinSF1', 'BsmtFinSF2',\n",
       "                                                   'BsmtUnfSF', 'TotalBsmtSF',\n",
       "                                                   '1stFlrSF', '2ndFlrSF',\n",
       "                                                   'Lo...\n",
       "                                                   'Condition1', 'Condition2',\n",
       "                                                   'BldgType', 'HouseStyle',\n",
       "                                                   'RoofStyle', 'RoofMatl',\n",
       "                                                   'MasVnrType', 'ExterQual',\n",
       "                                                   'ExterCond', 'Foundation',\n",
       "                                                   'BsmtQual', 'BsmtCond',\n",
       "                                                   'BsmtExposure',\n",
       "                                                   'BsmtFinType1',\n",
       "                                                   'BsmtFinType2', 'Heating',\n",
       "                                                   'HeatingQC', 'CentralAir',\n",
       "                                                   'Electrical', 'KitchenQual',\n",
       "                                                   'Functional', 'FireplaceQu', ...])])),\n",
       "                ('model',\n",
       "                 RandomForestRegressor(max_features='sqrt', n_estimators=500))])"
      ]
     },
     "execution_count": 13,
     "metadata": {},
     "output_type": "execute_result"
    }
   ],
   "source": [
    "model_params = tmlt.get_model_best_params_from_grid_search(tune_search)\n",
    "scikit_model = RandomForestRegressor(**model_params)\n",
    "tmlt.update_model(scikit_model)\n",
    "tmlt.spl"
   ]
  },
  {
   "cell_type": "code",
   "execution_count": 14,
   "metadata": {},
   "outputs": [
    {
     "name": "stdout",
     "output_type": "stream",
     "text": [
      "Cross Validation Time: 32.243452072143555\n",
      "scores: [15754.05606164 18692.98387671 18185.75349315 15606.26984932\n",
      " 18351.37530137]\n",
      "Average MAE score: 17318.087716438353\n"
     ]
    }
   ],
   "source": [
    "# Now do cross_validation\n",
    "start = time.time()\n",
    "\n",
    "scores = tmlt.do_cross_validation(cv=5, scoring='neg_mean_absolute_error')\n",
    "end = time.time()\n",
    "print(\"Cross Validation Time:\", end - start)\n",
    "\n",
    "print(\"scores:\", scores)\n",
    "print(\"Average MAE score:\", scores.mean())"
   ]
  },
  {
   "cell_type": "markdown",
   "metadata": {},
   "source": [
    "#### Yup Indeed HyperParams tunning for data preprocessing and model has improved MAE from earlier cross validated model!"
   ]
  },
  {
   "cell_type": "markdown",
   "metadata": {},
   "source": [
    "In background `prepare_data_for_training` method loads your input data into Pandas DataFrame, seprates X(features) and y(target).\n",
    "\n",
    "The `prepare_data_for_training` methods prepare X and y DataFrames, preprocess all numerical and categorical type data found in these DataFrames using scikit-learn pipelines. Then it bundle preprocessed data with your given model and return an MLPipeline object, this class instance has dataframeloader, preprocessor and scikit-lean pipeline instances.\n",
    "\n",
    "The `create_train_valid` method use valid_size to split X(features) into X_train, y_train, X_valid and y_valid DataFrames, so you can call fit methods on X_train and y_train and predict methods on X_valid or X_test.\n",
    "\n",
    "\n",
    "Please check detail documentation and source code for more details."
   ]
  },
  {
   "cell_type": "markdown",
   "metadata": {},
   "source": [
    "*NOTE: If you want to customize data and preprocessing steps you can do so by using `DataFrameLoader` and `PreProessor` classes. Check detail documentations for these classes for more options.*"
   ]
  },
  {
   "cell_type": "markdown",
   "metadata": {},
   "source": [
    "#### Now let's do k_fold training on updated scikit model"
   ]
  },
  {
   "cell_type": "code",
   "execution_count": 15,
   "metadata": {},
   "outputs": [],
   "source": [
    "# show_doc(tmlt.do_k_fold_training)"
   ]
  },
  {
   "cell_type": "code",
   "execution_count": 16,
   "metadata": {},
   "outputs": [
    {
     "name": "stderr",
     "output_type": "stream",
     "text": [
      "/Users/pamathur/miniconda3/envs/nbdev_env/lib/python3.9/site-packages/sklearn/model_selection/_split.py:676: UserWarning: The least populated class in y has only 1 members, which is less than n_splits=5.\n",
      "  warnings.warn(\n",
      "2021-11-18 18:15:46,622 INFO fold: 1 , mean_absolute_error: 18421.5112739726\n",
      "2021-11-18 18:15:53,294 INFO fold: 2 , mean_absolute_error: 17035.82894520548\n",
      "2021-11-18 18:16:00,104 INFO fold: 3 , mean_absolute_error: 17485.939292237443\n",
      "2021-11-18 18:16:07,053 INFO fold: 4 , mean_absolute_error: 16285.584397260272\n",
      "2021-11-18 18:16:13,941 INFO fold: 5 , mean_absolute_error: 18603.963773972602\n"
     ]
    },
    {
     "name": "stdout",
     "output_type": "stream",
     "text": [
      "mean metrics score: 17566.565536529677\n",
      "(1459,)\n"
     ]
    }
   ],
   "source": [
    "# k-fold training\n",
    "scikit_model_metrics_score, scikit_model_preds = tmlt.do_k_fold_training(n_splits=5,\n",
    "                                                                          metrics=mean_absolute_error,\n",
    "                                                                          random_state=42)\n",
    "print(\"mean metrics score:\", np.mean(scikit_model_metrics_score))\n",
    "# predict\n",
    "print(scikit_model_preds.shape)"
   ]
  },
  {
   "cell_type": "markdown",
   "metadata": {},
   "source": [
    "#### Let's Use XGBosst on MLPipeline"
   ]
  },
  {
   "cell_type": "markdown",
   "metadata": {},
   "source": [
    "*You can also use MLPipeline with XGBoost model, Just make sure to install XGBooost first depending upon your OS.*\n",
    "\n",
    "*After that all steps remains same. Here is example using XGBRegressor with [Melbourne Home Sale price data](https://www.kaggle.com/estrotococo/home-data-for-ml-course)*"
   ]
  },
  {
   "cell_type": "code",
   "execution_count": 17,
   "metadata": {},
   "outputs": [],
   "source": [
    "#!pip install -U xgboost"
   ]
  },
  {
   "cell_type": "code",
   "execution_count": 18,
   "metadata": {},
   "outputs": [],
   "source": [
    "# Best way to install xgboost if you are on macosx and windows machine is using conda\n",
    "# !conda install -c conda-forge xgboost"
   ]
  },
  {
   "cell_type": "code",
   "execution_count": 19,
   "metadata": {},
   "outputs": [],
   "source": [
    "from xgboost import XGBRegressor\n",
    "\n",
    "xgb_params = {\n",
    "    'n_estimators':250,\n",
    "    'learning_rate':0.05,\n",
    "    'random_state':42,\n",
    "    # for GPU\n",
    "#     'tree_method': 'gpu_hist',\n",
    "#     'predictor': 'gpu_predictor',\n",
    "}\n",
    "\n",
    "\n",
    "# create xgb ml model\n",
    "xgb_model = XGBRegressor(**xgb_params)"
   ]
  },
  {
   "cell_type": "code",
   "execution_count": 20,
   "metadata": {},
   "outputs": [
    {
     "data": {
      "text/html": [
       "<style>#sk-3ecb51a1-b793-4013-a146-fa1a8d62c779 {color: black;background-color: white;}#sk-3ecb51a1-b793-4013-a146-fa1a8d62c779 pre{padding: 0;}#sk-3ecb51a1-b793-4013-a146-fa1a8d62c779 div.sk-toggleable {background-color: white;}#sk-3ecb51a1-b793-4013-a146-fa1a8d62c779 label.sk-toggleable__label {cursor: pointer;display: block;width: 100%;margin-bottom: 0;padding: 0.3em;box-sizing: border-box;text-align: center;}#sk-3ecb51a1-b793-4013-a146-fa1a8d62c779 div.sk-toggleable__content {max-height: 0;max-width: 0;overflow: hidden;text-align: left;background-color: #f0f8ff;}#sk-3ecb51a1-b793-4013-a146-fa1a8d62c779 div.sk-toggleable__content pre {margin: 0.2em;color: black;border-radius: 0.25em;background-color: #f0f8ff;}#sk-3ecb51a1-b793-4013-a146-fa1a8d62c779 input.sk-toggleable__control:checked~div.sk-toggleable__content {max-height: 200px;max-width: 100%;overflow: auto;}#sk-3ecb51a1-b793-4013-a146-fa1a8d62c779 div.sk-estimator input.sk-toggleable__control:checked~label.sk-toggleable__label {background-color: #d4ebff;}#sk-3ecb51a1-b793-4013-a146-fa1a8d62c779 div.sk-label input.sk-toggleable__control:checked~label.sk-toggleable__label {background-color: #d4ebff;}#sk-3ecb51a1-b793-4013-a146-fa1a8d62c779 input.sk-hidden--visually {border: 0;clip: rect(1px 1px 1px 1px);clip: rect(1px, 1px, 1px, 1px);height: 1px;margin: -1px;overflow: hidden;padding: 0;position: absolute;width: 1px;}#sk-3ecb51a1-b793-4013-a146-fa1a8d62c779 div.sk-estimator {font-family: monospace;background-color: #f0f8ff;border: 1px dotted black;border-radius: 0.25em;box-sizing: border-box;margin-bottom: 0.5em;}#sk-3ecb51a1-b793-4013-a146-fa1a8d62c779 div.sk-estimator:hover {background-color: #d4ebff;}#sk-3ecb51a1-b793-4013-a146-fa1a8d62c779 div.sk-parallel-item::after {content: \"\";width: 100%;border-bottom: 1px solid gray;flex-grow: 1;}#sk-3ecb51a1-b793-4013-a146-fa1a8d62c779 div.sk-label:hover label.sk-toggleable__label {background-color: #d4ebff;}#sk-3ecb51a1-b793-4013-a146-fa1a8d62c779 div.sk-serial::before {content: \"\";position: absolute;border-left: 1px solid gray;box-sizing: border-box;top: 2em;bottom: 0;left: 50%;}#sk-3ecb51a1-b793-4013-a146-fa1a8d62c779 div.sk-serial {display: flex;flex-direction: column;align-items: center;background-color: white;padding-right: 0.2em;padding-left: 0.2em;}#sk-3ecb51a1-b793-4013-a146-fa1a8d62c779 div.sk-item {z-index: 1;}#sk-3ecb51a1-b793-4013-a146-fa1a8d62c779 div.sk-parallel {display: flex;align-items: stretch;justify-content: center;background-color: white;}#sk-3ecb51a1-b793-4013-a146-fa1a8d62c779 div.sk-parallel::before {content: \"\";position: absolute;border-left: 1px solid gray;box-sizing: border-box;top: 2em;bottom: 0;left: 50%;}#sk-3ecb51a1-b793-4013-a146-fa1a8d62c779 div.sk-parallel-item {display: flex;flex-direction: column;position: relative;background-color: white;}#sk-3ecb51a1-b793-4013-a146-fa1a8d62c779 div.sk-parallel-item:first-child::after {align-self: flex-end;width: 50%;}#sk-3ecb51a1-b793-4013-a146-fa1a8d62c779 div.sk-parallel-item:last-child::after {align-self: flex-start;width: 50%;}#sk-3ecb51a1-b793-4013-a146-fa1a8d62c779 div.sk-parallel-item:only-child::after {width: 0;}#sk-3ecb51a1-b793-4013-a146-fa1a8d62c779 div.sk-dashed-wrapped {border: 1px dashed gray;margin: 0 0.4em 0.5em 0.4em;box-sizing: border-box;padding-bottom: 0.4em;background-color: white;position: relative;}#sk-3ecb51a1-b793-4013-a146-fa1a8d62c779 div.sk-label label {font-family: monospace;font-weight: bold;background-color: white;display: inline-block;line-height: 1.2em;}#sk-3ecb51a1-b793-4013-a146-fa1a8d62c779 div.sk-label-container {position: relative;z-index: 2;text-align: center;}#sk-3ecb51a1-b793-4013-a146-fa1a8d62c779 div.sk-container {display: inline-block;position: relative;}</style><div id=\"sk-3ecb51a1-b793-4013-a146-fa1a8d62c779\" class\"sk-top-container\"><div class=\"sk-container\"><div class=\"sk-item sk-dashed-wrapped\"><div class=\"sk-label-container\"><div class=\"sk-label sk-toggleable\"><input class=\"sk-toggleable__control sk-hidden--visually\" id=\"a86be2c9-4027-4fe7-8e42-94021e661531\" type=\"checkbox\" ><label class=\"sk-toggleable__label\" for=\"a86be2c9-4027-4fe7-8e42-94021e661531\">Pipeline</label><div class=\"sk-toggleable__content\"><pre>Pipeline(steps=[('preprocessor',\n",
       "                 ColumnTransformer(transformers=[('num_cols',\n",
       "                                                  Pipeline(steps=[('imputer',\n",
       "                                                                   SimpleImputer(strategy='median')),\n",
       "                                                                  ('scaler',\n",
       "                                                                   StandardScaler())]),\n",
       "                                                  ['MSSubClass', 'LotFrontage',\n",
       "                                                   'LotArea', 'OverallQual',\n",
       "                                                   'OverallCond', 'YearBuilt',\n",
       "                                                   'YearRemodAdd', 'MasVnrArea',\n",
       "                                                   'BsmtFinSF1', 'BsmtFinSF2',\n",
       "                                                   'BsmtUnfSF', 'TotalBsmtSF',\n",
       "                                                   '1stFlrSF', '2ndFlrSF',\n",
       "                                                   'Lo...\n",
       "                              interaction_constraints=None, learning_rate=0.05,\n",
       "                              max_delta_step=None, max_depth=None,\n",
       "                              min_child_weight=None, missing=nan,\n",
       "                              monotone_constraints=None, n_estimators=250,\n",
       "                              n_jobs=None, num_parallel_tree=None,\n",
       "                              predictor=None, random_state=42, reg_alpha=None,\n",
       "                              reg_lambda=None, scale_pos_weight=None,\n",
       "                              subsample=None, tree_method=None,\n",
       "                              validate_parameters=None, verbosity=None))])</pre></div></div></div><div class=\"sk-serial\"><div class=\"sk-item sk-dashed-wrapped\"><div class=\"sk-label-container\"><div class=\"sk-label sk-toggleable\"><input class=\"sk-toggleable__control sk-hidden--visually\" id=\"775fec4e-ac0f-4507-bac5-8849d41b5887\" type=\"checkbox\" ><label class=\"sk-toggleable__label\" for=\"775fec4e-ac0f-4507-bac5-8849d41b5887\">preprocessor: ColumnTransformer</label><div class=\"sk-toggleable__content\"><pre>ColumnTransformer(transformers=[('num_cols',\n",
       "                                 Pipeline(steps=[('imputer',\n",
       "                                                  SimpleImputer(strategy='median')),\n",
       "                                                 ('scaler', StandardScaler())]),\n",
       "                                 ['MSSubClass', 'LotFrontage', 'LotArea',\n",
       "                                  'OverallQual', 'OverallCond', 'YearBuilt',\n",
       "                                  'YearRemodAdd', 'MasVnrArea', 'BsmtFinSF1',\n",
       "                                  'BsmtFinSF2', 'BsmtUnfSF', 'TotalBsmtSF',\n",
       "                                  '1stFlrSF', '2ndFlrSF', 'LowQualFinSF',\n",
       "                                  'GrLivArea', 'BsmtFul...\n",
       "                                 ['MSZoning', 'Street', 'Alley', 'LotShape',\n",
       "                                  'LandContour', 'Utilities', 'LotConfig',\n",
       "                                  'LandSlope', 'Condition1', 'Condition2',\n",
       "                                  'BldgType', 'HouseStyle', 'RoofStyle',\n",
       "                                  'RoofMatl', 'MasVnrType', 'ExterQual',\n",
       "                                  'ExterCond', 'Foundation', 'BsmtQual',\n",
       "                                  'BsmtCond', 'BsmtExposure', 'BsmtFinType1',\n",
       "                                  'BsmtFinType2', 'Heating', 'HeatingQC',\n",
       "                                  'CentralAir', 'Electrical', 'KitchenQual',\n",
       "                                  'Functional', 'FireplaceQu', ...])])</pre></div></div></div><div class=\"sk-parallel\"><div class=\"sk-parallel-item\"><div class=\"sk-item\"><div class=\"sk-label-container\"><div class=\"sk-label sk-toggleable\"><input class=\"sk-toggleable__control sk-hidden--visually\" id=\"b5cec081-af20-4db5-aef8-2d445b800c2f\" type=\"checkbox\" ><label class=\"sk-toggleable__label\" for=\"b5cec081-af20-4db5-aef8-2d445b800c2f\">num_cols</label><div class=\"sk-toggleable__content\"><pre>['MSSubClass', 'LotFrontage', 'LotArea', 'OverallQual', 'OverallCond', 'YearBuilt', 'YearRemodAdd', 'MasVnrArea', 'BsmtFinSF1', 'BsmtFinSF2', 'BsmtUnfSF', 'TotalBsmtSF', '1stFlrSF', '2ndFlrSF', 'LowQualFinSF', 'GrLivArea', 'BsmtFullBath', 'BsmtHalfBath', 'FullBath', 'HalfBath', 'BedroomAbvGr', 'KitchenAbvGr', 'TotRmsAbvGrd', 'Fireplaces', 'GarageYrBlt', 'GarageCars', 'GarageArea', 'WoodDeckSF', 'OpenPorchSF', 'EnclosedPorch', '3SsnPorch', 'ScreenPorch', 'PoolArea', 'MiscVal', 'MoSold', 'YrSold']</pre></div></div></div><div class=\"sk-serial\"><div class=\"sk-item\"><div class=\"sk-serial\"><div class=\"sk-item\"><div class=\"sk-estimator sk-toggleable\"><input class=\"sk-toggleable__control sk-hidden--visually\" id=\"e6087566-2ce7-490e-84a2-54c0fa0a1618\" type=\"checkbox\" ><label class=\"sk-toggleable__label\" for=\"e6087566-2ce7-490e-84a2-54c0fa0a1618\">SimpleImputer</label><div class=\"sk-toggleable__content\"><pre>SimpleImputer(strategy='median')</pre></div></div></div><div class=\"sk-item\"><div class=\"sk-estimator sk-toggleable\"><input class=\"sk-toggleable__control sk-hidden--visually\" id=\"ddd3f5f5-f109-40ef-bac7-f115b983168c\" type=\"checkbox\" ><label class=\"sk-toggleable__label\" for=\"ddd3f5f5-f109-40ef-bac7-f115b983168c\">StandardScaler</label><div class=\"sk-toggleable__content\"><pre>StandardScaler()</pre></div></div></div></div></div></div></div></div><div class=\"sk-parallel-item\"><div class=\"sk-item\"><div class=\"sk-label-container\"><div class=\"sk-label sk-toggleable\"><input class=\"sk-toggleable__control sk-hidden--visually\" id=\"bbee4c0e-1c2e-4889-b656-6506a112e15a\" type=\"checkbox\" ><label class=\"sk-toggleable__label\" for=\"bbee4c0e-1c2e-4889-b656-6506a112e15a\">cat_cols</label><div class=\"sk-toggleable__content\"><pre>['MSZoning', 'Street', 'Alley', 'LotShape', 'LandContour', 'Utilities', 'LotConfig', 'LandSlope', 'Condition1', 'Condition2', 'BldgType', 'HouseStyle', 'RoofStyle', 'RoofMatl', 'MasVnrType', 'ExterQual', 'ExterCond', 'Foundation', 'BsmtQual', 'BsmtCond', 'BsmtExposure', 'BsmtFinType1', 'BsmtFinType2', 'Heating', 'HeatingQC', 'CentralAir', 'Electrical', 'KitchenQual', 'Functional', 'FireplaceQu', 'GarageType', 'GarageFinish', 'GarageQual', 'GarageCond', 'PavedDrive', 'PoolQC', 'Fence', 'MiscFeature', 'SaleType', 'SaleCondition', 'Neighborhood', 'Exterior1st', 'Exterior2nd']</pre></div></div></div><div class=\"sk-serial\"><div class=\"sk-item\"><div class=\"sk-serial\"><div class=\"sk-item\"><div class=\"sk-estimator sk-toggleable\"><input class=\"sk-toggleable__control sk-hidden--visually\" id=\"56bd4765-f25f-4b86-b74f-7b8e33aebbe1\" type=\"checkbox\" ><label class=\"sk-toggleable__label\" for=\"56bd4765-f25f-4b86-b74f-7b8e33aebbe1\">SimpleImputer</label><div class=\"sk-toggleable__content\"><pre>SimpleImputer(strategy='most_frequent')</pre></div></div></div><div class=\"sk-item\"><div class=\"sk-estimator sk-toggleable\"><input class=\"sk-toggleable__control sk-hidden--visually\" id=\"c287a58a-fa2e-4e6e-a6aa-dd2bec180bef\" type=\"checkbox\" ><label class=\"sk-toggleable__label\" for=\"c287a58a-fa2e-4e6e-a6aa-dd2bec180bef\">OneHotEncoder</label><div class=\"sk-toggleable__content\"><pre>OneHotEncoder(handle_unknown='ignore')</pre></div></div></div></div></div></div></div></div></div></div><div class=\"sk-item\"><div class=\"sk-estimator sk-toggleable\"><input class=\"sk-toggleable__control sk-hidden--visually\" id=\"31335eaa-aa96-4596-b8a3-e74d778b8f66\" type=\"checkbox\" ><label class=\"sk-toggleable__label\" for=\"31335eaa-aa96-4596-b8a3-e74d778b8f66\">XGBRegressor</label><div class=\"sk-toggleable__content\"><pre>XGBRegressor(base_score=None, booster=None, colsample_bylevel=None,\n",
       "             colsample_bynode=None, colsample_bytree=None,\n",
       "             enable_categorical=False, gamma=None, gpu_id=None,\n",
       "             importance_type=None, interaction_constraints=None,\n",
       "             learning_rate=0.05, max_delta_step=None, max_depth=None,\n",
       "             min_child_weight=None, missing=nan, monotone_constraints=None,\n",
       "             n_estimators=250, n_jobs=None, num_parallel_tree=None,\n",
       "             predictor=None, random_state=42, reg_alpha=None, reg_lambda=None,\n",
       "             scale_pos_weight=None, subsample=None, tree_method=None,\n",
       "             validate_parameters=None, verbosity=None)</pre></div></div></div></div></div></div></div>"
      ],
      "text/plain": [
       "Pipeline(steps=[('preprocessor',\n",
       "                 ColumnTransformer(transformers=[('num_cols',\n",
       "                                                  Pipeline(steps=[('imputer',\n",
       "                                                                   SimpleImputer(strategy='median')),\n",
       "                                                                  ('scaler',\n",
       "                                                                   StandardScaler())]),\n",
       "                                                  ['MSSubClass', 'LotFrontage',\n",
       "                                                   'LotArea', 'OverallQual',\n",
       "                                                   'OverallCond', 'YearBuilt',\n",
       "                                                   'YearRemodAdd', 'MasVnrArea',\n",
       "                                                   'BsmtFinSF1', 'BsmtFinSF2',\n",
       "                                                   'BsmtUnfSF', 'TotalBsmtSF',\n",
       "                                                   '1stFlrSF', '2ndFlrSF',\n",
       "                                                   'Lo...\n",
       "                              interaction_constraints=None, learning_rate=0.05,\n",
       "                              max_delta_step=None, max_depth=None,\n",
       "                              min_child_weight=None, missing=nan,\n",
       "                              monotone_constraints=None, n_estimators=250,\n",
       "                              n_jobs=None, num_parallel_tree=None,\n",
       "                              predictor=None, random_state=42, reg_alpha=None,\n",
       "                              reg_lambda=None, scale_pos_weight=None,\n",
       "                              subsample=None, tree_method=None,\n",
       "                              validate_parameters=None, verbosity=None))])"
      ]
     },
     "execution_count": 20,
     "metadata": {},
     "output_type": "execute_result"
    }
   ],
   "source": [
    "# Update pipeline with xgb model\n",
    "tmlt.update_model(xgb_model)\n",
    "tmlt.spl"
   ]
  },
  {
   "cell_type": "code",
   "execution_count": 21,
   "metadata": {},
   "outputs": [
    {
     "name": "stdout",
     "output_type": "stream",
     "text": [
      "Fit Time: 7.141486167907715\n",
      "X_valid MAE: 15982.860940175513\n"
     ]
    }
   ],
   "source": [
    "# create train, valid split to evaulate model on valid dataset\n",
    "tmlt.dfl.create_train_valid(valid_size=0.2)\n",
    "\n",
    "start = time.time()\n",
    "# Now fit\n",
    "tmlt.spl.fit(tmlt.dfl.X_train, tmlt.dfl.y_train)\n",
    "end = time.time()\n",
    "print(\"Fit Time:\", end - start)\n",
    "\n",
    "#predict\n",
    "preds = tmlt.spl.predict(tmlt.dfl.X_valid)\n",
    "print('X_valid MAE:', mean_absolute_error(tmlt.dfl.y_valid, preds))"
   ]
  },
  {
   "cell_type": "markdown",
   "metadata": {},
   "source": [
    "Wow, xgboost blown away scikit-model with impressive MAE from out of the box"
   ]
  },
  {
   "cell_type": "markdown",
   "metadata": {},
   "source": [
    "#### Let's do Cross Validation for XGB Model on our MLPipeline"
   ]
  },
  {
   "cell_type": "code",
   "execution_count": 22,
   "metadata": {},
   "outputs": [
    {
     "name": "stdout",
     "output_type": "stream",
     "text": [
      "scores: [15811.14815657 16374.30316246 16706.67996843 14460.8927119\n",
      " 16755.42412243]\n",
      "Average MAE score: 16021.689624357876\n"
     ]
    }
   ],
   "source": [
    "# cross_validation\n",
    "scores = tmlt.do_cross_validation(cv=5, scoring='neg_mean_absolute_error')\n",
    "print(\"scores:\", scores)\n",
    "print(\"Average MAE score:\", scores.mean())"
   ]
  },
  {
   "cell_type": "markdown",
   "metadata": {},
   "source": [
    "#### let's use hyperparam tunning to find best xgb_params using tune grid search"
   ]
  },
  {
   "cell_type": "code",
   "execution_count": 23,
   "metadata": {},
   "outputs": [
    {
     "name": "stderr",
     "output_type": "stream",
     "text": [
      "/Users/pamathur/miniconda3/envs/nbdev_env/lib/python3.9/site-packages/tune_sklearn/tune_basesearch.py:400: UserWarning: max_iters is set > 1 but incremental/partial training is not enabled. To enable partial training, ensure the estimator has `partial_fit` or `warm_start` and set `early_stopping=True`. Automatically setting max_iters=1.\n",
      "  warnings.warn(\n",
      "/Users/pamathur/miniconda3/envs/nbdev_env/lib/python3.9/site-packages/ray/tune/tune.py:368: UserWarning: The `loggers` argument is deprecated. Please pass the respective `LoggerCallback` classes to the `callbacks` argument instead. See https://docs.ray.io/en/latest/tune/api_docs/logging.html\n",
      "  warnings.warn(\n"
     ]
    },
    {
     "name": "stdout",
     "output_type": "stream",
     "text": [
      "Grid Search Time: 100.46517896652222\n",
      "Best params:\n",
      "{'model__learning_rate': 0.05, 'model__max_depth': 5}\n",
      "Internal CV Metrics score: 15723.134\n"
     ]
    }
   ],
   "source": [
    "# let's tune data preprocessing and model hyperparams\n",
    "param_grid = {\n",
    "#     \"preprocessor__num_cols__scaler\": [StandardScaler(), MinMaxScaler()],\n",
    "#     \"preprocessor__low_card_cat_cols__imputer\": [SimpleImputer(strategy='constant'),\n",
    "#                                                  SimpleImputer(strategy='most_frequent')],\n",
    "#     'model__n_estimators': [500,1000],\n",
    "    'model__learning_rate': [0.02,0.05],\n",
    "    'model__max_depth': [5,10]\n",
    "}\n",
    "\n",
    "start = time.time()\n",
    "# Now do tune grid search\n",
    "tune_search = tmlt.do_tune_grid_search(param_grid=param_grid,\n",
    "                                       cv=5,\n",
    "                                       scoring='neg_mean_absolute_error',\n",
    "                                      early_stopping=False,\n",
    "                                      time_budget_s=60)\n",
    "end = time.time()\n",
    "print(\"Grid Search Time:\", end - start)\n",
    "\n",
    "print(\"Best params:\")\n",
    "print(tune_search.best_params_)\n",
    "\n",
    "print(f\"Internal CV Metrics score: {-1*(tune_search.best_score_):.3f}\")"
   ]
  },
  {
   "cell_type": "markdown",
   "metadata": {},
   "source": [
    "**Amazing our MAE has reduced to 15689.22 by HyperParamss tunning, If we can continue doing hyperparmas tunning, may be we can even do better, take that as challenge!**\n",
    "\n",
    "###### Let's use our newly found params for k-fold training"
   ]
  },
  {
   "cell_type": "code",
   "execution_count": null,
   "metadata": {},
   "outputs": [],
   "source": [
    "model_params = tmlt.get_model_best_params(tune_search)\n",
    "xgb_model = XGBRegressor(**xgb_params)\n",
    "tmlt.update_model(xgb_model)\n",
    "tmlt.spl"
   ]
  },
  {
   "cell_type": "markdown",
   "metadata": {},
   "source": [
    "#### Let's Use K-Fold Training for XGB model"
   ]
  },
  {
   "cell_type": "code",
   "execution_count": null,
   "metadata": {},
   "outputs": [],
   "source": [
    "# k-fold training\n",
    "xgb_model_metrics_score, xgb_model_preds = tmlt.do_k_fold_training(n_splits=10, metrics=mean_absolute_error)\n",
    "print(\"mean metrics score:\", np.mean(xgb_model_metrics_score))\n",
    "# predict on test dataset\n",
    "print(xgb_model_preds.shape)"
   ]
  },
  {
   "cell_type": "markdown",
   "metadata": {},
   "source": [
    "\n",
    "##### Let's mix the predictions, using weighted average"
   ]
  },
  {
   "cell_type": "code",
   "execution_count": null,
   "metadata": {},
   "outputs": [],
   "source": [
    "x1 = 0.4\n",
    "x2 = 0.6\n",
    "\n",
    "final_preds = ((x1*scikit_model_preds) + (x2*xgb_model_preds)) / 2\n",
    "\n",
    "print(final_preds.shape)"
   ]
  },
  {
   "cell_type": "code",
   "execution_count": null,
   "metadata": {},
   "outputs": [],
   "source": [
    "# hide\n",
    "# run the script to build \n",
    "\n",
    "from nbdev.export import notebook2script; notebook2script()"
   ]
  },
  {
   "cell_type": "code",
   "execution_count": null,
   "metadata": {},
   "outputs": [],
   "source": []
  }
 ],
 "metadata": {
  "kernelspec": {
   "display_name": "Python 3 (ipykernel)",
   "language": "python",
   "name": "python3"
  },
  "language_info": {
   "codemirror_mode": {
    "name": "ipython",
    "version": 3
   },
   "file_extension": ".py",
   "mimetype": "text/x-python",
   "name": "python",
   "nbconvert_exporter": "python",
   "pygments_lexer": "ipython3",
   "version": "3.9.7"
  }
 },
 "nbformat": 4,
 "nbformat_minor": 2
}
