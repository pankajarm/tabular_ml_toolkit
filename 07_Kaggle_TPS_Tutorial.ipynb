{
 "cells": [
  {
   "cell_type": "code",
   "execution_count": 1,
   "metadata": {},
   "outputs": [],
   "source": [
    "# default_exp Kaggle_TPS_Tutorial"
   ]
  },
  {
   "cell_type": "markdown",
   "metadata": {},
   "source": [
    "# Getting Started Kaggle TPS Challenge with Tabular ML Toolkit\n",
    "\n",
    "> A Tutorial to showcase usage of Tabular_ML_Toolkit library on Kaggle TPS Challenge Nov 2021"
   ]
  },
  {
   "cell_type": "markdown",
   "metadata": {},
   "source": [
    "## Install"
   ]
  },
  {
   "cell_type": "markdown",
   "metadata": {},
   "source": [
    "`pip install -U tabular_ml_toolkit`"
   ]
  },
  {
   "cell_type": "markdown",
   "metadata": {},
   "source": [
    "## How to Best Use tabular_ml_toolkit"
   ]
  },
  {
   "cell_type": "markdown",
   "metadata": {},
   "source": [
    "Start with your favorite model and then just simply create MLPipeline with one API."
   ]
  },
  {
   "cell_type": "markdown",
   "metadata": {},
   "source": [
    "*You can use MLPipeline to quickly train any model which supports scikit-lear fit and transform methods.*\n",
    "\n",
    "*For example, Here we are using LogisticRegression from Scikit-Learn, on  [Kaggle TPS Challenge (Nov 2021) data](https://www.kaggle.com/c/tabular-playground-series-nov-2021/data)*"
   ]
  },
  {
   "cell_type": "code",
   "execution_count": 2,
   "metadata": {},
   "outputs": [],
   "source": [
    "#export\n",
    "from tabular_ml_toolkit.MLPipeline import *\n",
    "from sklearn.linear_model import LogisticRegression\n",
    "from sklearn.metrics import roc_auc_score, accuracy_score\n",
    "import pandas as pd\n",
    "import numpy as np"
   ]
  },
  {
   "cell_type": "code",
   "execution_count": 3,
   "metadata": {},
   "outputs": [],
   "source": [
    "# Dataset file names and Paths\n",
    "DIRECTORY_PATH = \"/Users/pankajmathur/kaggle_datasets/tps_nov_2021/\"\n",
    "TRAIN_FILE = \"train.csv\"\n",
    "TEST_FILE = \"test.csv\"\n",
    "SAMPLE_SUB_FILE = \"sample_submission.csv\""
   ]
  },
  {
   "cell_type": "code",
   "execution_count": 4,
   "metadata": {},
   "outputs": [],
   "source": [
    "# # create scikit-learn ml model\n",
    "scikit_model = LogisticRegression(solver='liblinear', random_state=42)"
   ]
  },
  {
   "cell_type": "code",
   "execution_count": 5,
   "metadata": {},
   "outputs": [
    {
     "name": "stdout",
     "output_type": "stream",
     "text": [
      "both high_card_cat_cols and low_card_cat_cols are None\n"
     ]
    }
   ],
   "source": [
    "# createm ml pipeline for scikit-learn model\n",
    "sci_ml_pl = MLPipeline().prepare_data_for_training(\n",
    "    train_file_path= DIRECTORY_PATH + TRAIN_FILE,\n",
    "    test_file_path= DIRECTORY_PATH + TEST_FILE,\n",
    "    #make sure to use right index and target column\n",
    "    idx_col=\"id\",\n",
    "    target=\"target\",\n",
    "    model=scikit_model,\n",
    "    random_state=42,\n",
    "    valid_size=0.2)"
   ]
  },
  {
   "cell_type": "code",
   "execution_count": 7,
   "metadata": {},
   "outputs": [
    {
     "data": {
      "text/html": [
       "<style>#sk-38c8e0ad-6974-4e31-b450-9228dd7ef0f2 {color: black;background-color: white;}#sk-38c8e0ad-6974-4e31-b450-9228dd7ef0f2 pre{padding: 0;}#sk-38c8e0ad-6974-4e31-b450-9228dd7ef0f2 div.sk-toggleable {background-color: white;}#sk-38c8e0ad-6974-4e31-b450-9228dd7ef0f2 label.sk-toggleable__label {cursor: pointer;display: block;width: 100%;margin-bottom: 0;padding: 0.3em;box-sizing: border-box;text-align: center;}#sk-38c8e0ad-6974-4e31-b450-9228dd7ef0f2 div.sk-toggleable__content {max-height: 0;max-width: 0;overflow: hidden;text-align: left;background-color: #f0f8ff;}#sk-38c8e0ad-6974-4e31-b450-9228dd7ef0f2 div.sk-toggleable__content pre {margin: 0.2em;color: black;border-radius: 0.25em;background-color: #f0f8ff;}#sk-38c8e0ad-6974-4e31-b450-9228dd7ef0f2 input.sk-toggleable__control:checked~div.sk-toggleable__content {max-height: 200px;max-width: 100%;overflow: auto;}#sk-38c8e0ad-6974-4e31-b450-9228dd7ef0f2 div.sk-estimator input.sk-toggleable__control:checked~label.sk-toggleable__label {background-color: #d4ebff;}#sk-38c8e0ad-6974-4e31-b450-9228dd7ef0f2 div.sk-label input.sk-toggleable__control:checked~label.sk-toggleable__label {background-color: #d4ebff;}#sk-38c8e0ad-6974-4e31-b450-9228dd7ef0f2 input.sk-hidden--visually {border: 0;clip: rect(1px 1px 1px 1px);clip: rect(1px, 1px, 1px, 1px);height: 1px;margin: -1px;overflow: hidden;padding: 0;position: absolute;width: 1px;}#sk-38c8e0ad-6974-4e31-b450-9228dd7ef0f2 div.sk-estimator {font-family: monospace;background-color: #f0f8ff;border: 1px dotted black;border-radius: 0.25em;box-sizing: border-box;margin-bottom: 0.5em;}#sk-38c8e0ad-6974-4e31-b450-9228dd7ef0f2 div.sk-estimator:hover {background-color: #d4ebff;}#sk-38c8e0ad-6974-4e31-b450-9228dd7ef0f2 div.sk-parallel-item::after {content: \"\";width: 100%;border-bottom: 1px solid gray;flex-grow: 1;}#sk-38c8e0ad-6974-4e31-b450-9228dd7ef0f2 div.sk-label:hover label.sk-toggleable__label {background-color: #d4ebff;}#sk-38c8e0ad-6974-4e31-b450-9228dd7ef0f2 div.sk-serial::before {content: \"\";position: absolute;border-left: 1px solid gray;box-sizing: border-box;top: 2em;bottom: 0;left: 50%;}#sk-38c8e0ad-6974-4e31-b450-9228dd7ef0f2 div.sk-serial {display: flex;flex-direction: column;align-items: center;background-color: white;padding-right: 0.2em;padding-left: 0.2em;}#sk-38c8e0ad-6974-4e31-b450-9228dd7ef0f2 div.sk-item {z-index: 1;}#sk-38c8e0ad-6974-4e31-b450-9228dd7ef0f2 div.sk-parallel {display: flex;align-items: stretch;justify-content: center;background-color: white;}#sk-38c8e0ad-6974-4e31-b450-9228dd7ef0f2 div.sk-parallel::before {content: \"\";position: absolute;border-left: 1px solid gray;box-sizing: border-box;top: 2em;bottom: 0;left: 50%;}#sk-38c8e0ad-6974-4e31-b450-9228dd7ef0f2 div.sk-parallel-item {display: flex;flex-direction: column;position: relative;background-color: white;}#sk-38c8e0ad-6974-4e31-b450-9228dd7ef0f2 div.sk-parallel-item:first-child::after {align-self: flex-end;width: 50%;}#sk-38c8e0ad-6974-4e31-b450-9228dd7ef0f2 div.sk-parallel-item:last-child::after {align-self: flex-start;width: 50%;}#sk-38c8e0ad-6974-4e31-b450-9228dd7ef0f2 div.sk-parallel-item:only-child::after {width: 0;}#sk-38c8e0ad-6974-4e31-b450-9228dd7ef0f2 div.sk-dashed-wrapped {border: 1px dashed gray;margin: 0 0.4em 0.5em 0.4em;box-sizing: border-box;padding-bottom: 0.4em;background-color: white;position: relative;}#sk-38c8e0ad-6974-4e31-b450-9228dd7ef0f2 div.sk-label label {font-family: monospace;font-weight: bold;background-color: white;display: inline-block;line-height: 1.2em;}#sk-38c8e0ad-6974-4e31-b450-9228dd7ef0f2 div.sk-label-container {position: relative;z-index: 2;text-align: center;}#sk-38c8e0ad-6974-4e31-b450-9228dd7ef0f2 div.sk-container {display: inline-block;position: relative;}</style><div id=\"sk-38c8e0ad-6974-4e31-b450-9228dd7ef0f2\" class\"sk-top-container\"><div class=\"sk-container\"><div class=\"sk-item sk-dashed-wrapped\"><div class=\"sk-label-container\"><div class=\"sk-label sk-toggleable\"><input class=\"sk-toggleable__control sk-hidden--visually\" id=\"bd994d57-bdfe-400b-9e79-5db69753e98c\" type=\"checkbox\" ><label class=\"sk-toggleable__label\" for=\"bd994d57-bdfe-400b-9e79-5db69753e98c\">Pipeline</label><div class=\"sk-toggleable__content\"><pre>Pipeline(steps=[('preprocessor',\n",
       "                 Pipeline(steps=[('imputer', SimpleImputer(strategy='median')),\n",
       "                                 ('scaler', StandardScaler())])),\n",
       "                ('model',\n",
       "                 LogisticRegression(random_state=42, solver='liblinear'))])</pre></div></div></div><div class=\"sk-serial\"><div class=\"sk-item\"><div class=\"sk-label-container\"><div class=\"sk-label sk-toggleable\"><input class=\"sk-toggleable__control sk-hidden--visually\" id=\"a7933eb5-8885-4d5b-9a01-a48a23e08ece\" type=\"checkbox\" ><label class=\"sk-toggleable__label\" for=\"a7933eb5-8885-4d5b-9a01-a48a23e08ece\">preprocessor: Pipeline</label><div class=\"sk-toggleable__content\"><pre>Pipeline(steps=[('imputer', SimpleImputer(strategy='median')),\n",
       "                ('scaler', StandardScaler())])</pre></div></div></div><div class=\"sk-serial\"><div class=\"sk-item\"><div class=\"sk-estimator sk-toggleable\"><input class=\"sk-toggleable__control sk-hidden--visually\" id=\"28b1b913-d5f1-46eb-b9dc-b6afcfd44f03\" type=\"checkbox\" ><label class=\"sk-toggleable__label\" for=\"28b1b913-d5f1-46eb-b9dc-b6afcfd44f03\">SimpleImputer</label><div class=\"sk-toggleable__content\"><pre>SimpleImputer(strategy='median')</pre></div></div></div><div class=\"sk-item\"><div class=\"sk-estimator sk-toggleable\"><input class=\"sk-toggleable__control sk-hidden--visually\" id=\"92770325-c271-4264-a6da-0e88943cda39\" type=\"checkbox\" ><label class=\"sk-toggleable__label\" for=\"92770325-c271-4264-a6da-0e88943cda39\">StandardScaler</label><div class=\"sk-toggleable__content\"><pre>StandardScaler()</pre></div></div></div></div></div><div class=\"sk-item\"><div class=\"sk-estimator sk-toggleable\"><input class=\"sk-toggleable__control sk-hidden--visually\" id=\"0fb7fec5-3e83-42cd-acf4-088b3c46c2ff\" type=\"checkbox\" ><label class=\"sk-toggleable__label\" for=\"0fb7fec5-3e83-42cd-acf4-088b3c46c2ff\">LogisticRegression</label><div class=\"sk-toggleable__content\"><pre>LogisticRegression(random_state=42, solver='liblinear')</pre></div></div></div></div></div></div></div>"
      ],
      "text/plain": [
       "Pipeline(steps=[('preprocessor',\n",
       "                 Pipeline(steps=[('imputer', SimpleImputer(strategy='median')),\n",
       "                                 ('scaler', StandardScaler())])),\n",
       "                ('model',\n",
       "                 LogisticRegression(random_state=42, solver='liblinear'))])"
      ]
     },
     "execution_count": 7,
     "metadata": {},
     "output_type": "execute_result"
    }
   ],
   "source": [
    "# for visualizing pipeline\n",
    "from sklearn import set_config\n",
    "\n",
    "set_config(display=\"diagram\")\n",
    "sci_ml_pl.spl"
   ]
  },
  {
   "cell_type": "code",
   "execution_count": 8,
   "metadata": {},
   "outputs": [
    {
     "name": "stdout",
     "output_type": "stream",
     "text": [
      "X_train shape is (480000, 100)\n",
      "X_valid shape is (120000, 100)\n",
      "y_train shape is (480000,)\n",
      "y_valid shape is (120000,)\n"
     ]
    }
   ],
   "source": [
    "# Quick check on dataframe shapes\n",
    "print(f\"X_train shape is {sci_ml_pl.dfl.X_train.shape}\" )\n",
    "print(f\"X_valid shape is {sci_ml_pl.dfl.X_valid.shape}\" )\n",
    "print(f\"y_train shape is {sci_ml_pl.dfl.y_train.shape}\")\n",
    "print(f\"y_valid shape is {sci_ml_pl.dfl.y_valid.shape}\")"
   ]
  },
  {
   "cell_type": "code",
   "execution_count": 9,
   "metadata": {},
   "outputs": [],
   "source": [
    "# Fit & Predict\n",
    "sci_ml_pl.spl.fit(sci_ml_pl.dfl.X_train, sci_ml_pl.dfl.y_train)\n",
    "preds = sci_ml_pl.spl.predict(sci_ml_pl.dfl.X_valid)\n",
    "preds_probs = sci_ml_pl.spl.predict_proba(sci_ml_pl.dfl.X_valid)[:, 1]"
   ]
  },
  {
   "cell_type": "code",
   "execution_count": 10,
   "metadata": {},
   "outputs": [
    {
     "name": "stdout",
     "output_type": "stream",
     "text": [
      "preds shape is (120000,)\n",
      "preds_probs shape is (120000,)\n"
     ]
    }
   ],
   "source": [
    "# quick check on predictions and predictions probabilities shape\n",
    "print(f\"preds shape is {preds.shape}\" )\n",
    "print(f\"preds_probs shape is {preds_probs.shape}\" )"
   ]
  },
  {
   "cell_type": "code",
   "execution_count": 11,
   "metadata": {},
   "outputs": [
    {
     "name": "stdout",
     "output_type": "stream",
     "text": [
      "AUC is : 0.7506636457905501 while Accuracy is : 0.7385833333333334 \n"
     ]
    }
   ],
   "source": [
    "# Metrics\n",
    "auc = roc_auc_score(sci_ml_pl.dfl.y_valid, preds_probs)\n",
    "acc = accuracy_score(sci_ml_pl.dfl.y_valid, preds)\n",
    "\n",
    "print(f\"AUC is : {auc} while Accuracy is : {acc} \")"
   ]
  },
  {
   "cell_type": "markdown",
   "metadata": {},
   "source": [
    "In background `prepare_data_for_training` and `prepare_data_for_cv`  methods loads your input data into Pandas DataFrame, seprates X(features) and y(target).\n",
    "\n",
    "Then `prepare_data_for_training` methods split X(features) into X_train, y_train, X_valid and y_valid DataFrames.\n",
    "However, `prepare_data_for_cv`  method do not split but let's cross validation split internally X and y DataFrames.\n",
    "\n",
    "Then both methods preprocess all numerical and categorical type data found in these DataFrames using scikit-learn pipelines. Then it bundle preprocessed data with your given model and return an MLPipeline object, this class instance has dataframeloader, preprocessor and scikit-lean pipeline instances, so you can call fit methods on X_train and y_train and predict methods on X_valid or X_test.\n",
    "\n",
    "Please check detail documentation and source code for more details."
   ]
  },
  {
   "cell_type": "markdown",
   "metadata": {},
   "source": [
    "*NOTE: If you want to customize data and preprocessing steps you can do so by using `DataFrameLoader` and `PreProessor` classes. Check detail documentations for these classes for more options.*"
   ]
  },
  {
   "cell_type": "markdown",
   "metadata": {},
   "source": [
    "#### Let's Use XGBosst on MLPipeline"
   ]
  },
  {
   "cell_type": "markdown",
   "metadata": {},
   "source": [
    "*You can also use MLPipeline with XGBoost model, Just make sure to install XGBooost first depending upon your OS.*\n",
    "\n",
    "*After that all steps remains same. Here is example using XGBRegressor with [Melbourne Home Sale price data](https://www.kaggle.com/estrotococo/home-data-for-ml-course)*"
   ]
  },
  {
   "cell_type": "code",
   "execution_count": 12,
   "metadata": {},
   "outputs": [],
   "source": [
    "#!pip install -U xgboost"
   ]
  },
  {
   "cell_type": "code",
   "execution_count": 13,
   "metadata": {},
   "outputs": [],
   "source": [
    "# Best way to install xgboost if you are on macosx and windows machine is using conda\n",
    "# !conda install -c conda-forge xgboost"
   ]
  },
  {
   "cell_type": "code",
   "execution_count": 14,
   "metadata": {},
   "outputs": [],
   "source": [
    "# # set xgb_params\n",
    "# xgb_params = {\n",
    "#     'n_estimators': 1000,\n",
    "#     'learning_rate': 0.01,\n",
    "# #     'max_depth': 9,\n",
    "#     'booster': 'gbtree',\n",
    "#     'eval_metric': 'auc',\n",
    "# #     'tree_method': 'gpu_hist',\n",
    "# #     'predictor': 'gpu_predictor',\n",
    "#     'use_label_encoder': False,\n",
    "#     'random_state': 42\n",
    "# }"
   ]
  },
  {
   "cell_type": "code",
   "execution_count": 15,
   "metadata": {},
   "outputs": [],
   "source": [
    "# from xgboost import XGBClassifier\n",
    "# # create xgb Classifier model\n",
    "# xgb_model = XGBClassifier(**xgb_params)"
   ]
  },
  {
   "cell_type": "code",
   "execution_count": 16,
   "metadata": {},
   "outputs": [],
   "source": [
    "# # createm ml pipeline for xgb model\n",
    "# xgb_ml_pl = MLPipeline().prepare_data_for_training(\n",
    "#     train_file_path= DIRECTORY_PATH+TRAIN_FILE,\n",
    "#     test_file_path= DIRECTORY_PATH+TEST_FILE,\n",
    "#     #make sure to use right index and target column\n",
    "#     idx_col=\"id\",\n",
    "#     target=\"target\",\n",
    "#     model=xgb_model,\n",
    "#     random_state=42,\n",
    "#     valid_size=0.2)"
   ]
  },
  {
   "cell_type": "code",
   "execution_count": 17,
   "metadata": {},
   "outputs": [],
   "source": [
    "# # for visualizing pipeline\n",
    "# from sklearn import set_config\n",
    "\n",
    "# set_config(display=\"diagram\")\n",
    "# xgb_ml_pl.spl"
   ]
  },
  {
   "cell_type": "code",
   "execution_count": 18,
   "metadata": {},
   "outputs": [],
   "source": [
    "# # Fit & Predict\n",
    "# xgb_ml_pl.spl.fit(xgb_ml_pl.dfl.X_train,\n",
    "#                               xgb_ml_pl.dfl.y_train)\n",
    "# preds = xgb_ml_pl.spl.predict(xgb_ml_pl.dfl.X_valid)\n",
    "# preds_probs = xgb_ml_pl.spl.predict_proba(xgb_ml_pl.dfl.X_valid)[:, 1]"
   ]
  },
  {
   "cell_type": "code",
   "execution_count": 19,
   "metadata": {},
   "outputs": [],
   "source": [
    "# # Metrics\n",
    "# auc = roc_auc_score(xgb_ml_pl.dfl.y_valid, preds_probs)\n",
    "# acc = accuracy_score(xgb_ml_pl.dfl.y_valid, preds)\n",
    "\n",
    "# print(f\"AUC is : {auc} while Accuracy is : {acc} \")"
   ]
  },
  {
   "cell_type": "markdown",
   "metadata": {},
   "source": [
    "#### Let's do Grid Search for HyperParameters Tunning for Scikit Model on our MLPipeline"
   ]
  },
  {
   "cell_type": "code",
   "execution_count": 20,
   "metadata": {},
   "outputs": [],
   "source": [
    "# # create blanket scikit-learn LogisticRegression model\n",
    "# scikit_model = LogisticRegression(solver='liblinear', random_state=42)\n",
    "\n",
    "# # createm ml pipeline for scikit-learn model\n",
    "# sci_ml_pl = MLPipeline().prepare_data_for_training(\n",
    "#     train_file_path= DIRECTORY_PATH+TRAIN_FILE,\n",
    "#     test_file_path= DIRECTORY_PATH+TEST_FILE,\n",
    "#     idx_col=\"id\",\n",
    "#     target=\"target\",\n",
    "#     model=scikit_model,\n",
    "#     random_state=42)"
   ]
  },
  {
   "cell_type": "code",
   "execution_count": 21,
   "metadata": {},
   "outputs": [],
   "source": [
    "# # for visualizing pipeline\n",
    "# from sklearn import set_config\n",
    "\n",
    "# set_config(display=\"diagram\")\n",
    "# sci_ml_pl.spl"
   ]
  },
  {
   "cell_type": "code",
   "execution_count": 22,
   "metadata": {},
   "outputs": [],
   "source": [
    "# param_grid = {\n",
    "# #     \"preprocessor__num__imputer__strategy\": [\"constant\", \"mean\", \"median\"],\n",
    "# #     \"preprocessor__low_cad_cat__imputer__strategy\": [\"most_frequent\", \"constant\"],\n",
    "#     \"model__solver\": [\"newton-cg\", \"lbfgs\", \"liblinear\"]\n",
    "# }\n",
    "\n",
    "# grid_search = sci_ml_pl.do_grid_search(param_grid=param_grid, cv=3,\n",
    "#                                        scoring='roc_auc')\n",
    "\n",
    "# print(\"Best params:\")\n",
    "# print(grid_search.best_params_)\n",
    "\n",
    "# print(f\"Internal CV Metrics score: {-1*(grid_search.best_score_):.3f}\")"
   ]
  },
  {
   "cell_type": "markdown",
   "metadata": {},
   "source": [
    "#### Let's Use K-Fold Training with best params from grid search"
   ]
  },
  {
   "cell_type": "code",
   "execution_count": 23,
   "metadata": {},
   "outputs": [],
   "source": [
    "# create scikit-learn LosisticRegression model with best params from grid search\n",
    "scikit_model = LogisticRegression(solver='liblinear',\n",
    "                                  random_state=42)"
   ]
  },
  {
   "cell_type": "code",
   "execution_count": 24,
   "metadata": {},
   "outputs": [
    {
     "name": "stdout",
     "output_type": "stream",
     "text": [
      "both high_card_cat_cols and low_card_cat_cols are None\n"
     ]
    }
   ],
   "source": [
    "# createm ml pipeline for scikit-learn model\n",
    "sci_ml_pl = MLPipeline().prepare_data_for_training(\n",
    "    train_file_path= DIRECTORY_PATH+TRAIN_FILE,\n",
    "    test_file_path= DIRECTORY_PATH+TEST_FILE,\n",
    "    idx_col=\"id\",\n",
    "    target=\"target\",\n",
    "    model=scikit_model,\n",
    "    random_state=42)"
   ]
  },
  {
   "cell_type": "code",
   "execution_count": 25,
   "metadata": {},
   "outputs": [
    {
     "data": {
      "text/html": [
       "<style>#sk-d7a0477b-5d53-4c9c-af26-35f5804fbd90 {color: black;background-color: white;}#sk-d7a0477b-5d53-4c9c-af26-35f5804fbd90 pre{padding: 0;}#sk-d7a0477b-5d53-4c9c-af26-35f5804fbd90 div.sk-toggleable {background-color: white;}#sk-d7a0477b-5d53-4c9c-af26-35f5804fbd90 label.sk-toggleable__label {cursor: pointer;display: block;width: 100%;margin-bottom: 0;padding: 0.3em;box-sizing: border-box;text-align: center;}#sk-d7a0477b-5d53-4c9c-af26-35f5804fbd90 div.sk-toggleable__content {max-height: 0;max-width: 0;overflow: hidden;text-align: left;background-color: #f0f8ff;}#sk-d7a0477b-5d53-4c9c-af26-35f5804fbd90 div.sk-toggleable__content pre {margin: 0.2em;color: black;border-radius: 0.25em;background-color: #f0f8ff;}#sk-d7a0477b-5d53-4c9c-af26-35f5804fbd90 input.sk-toggleable__control:checked~div.sk-toggleable__content {max-height: 200px;max-width: 100%;overflow: auto;}#sk-d7a0477b-5d53-4c9c-af26-35f5804fbd90 div.sk-estimator input.sk-toggleable__control:checked~label.sk-toggleable__label {background-color: #d4ebff;}#sk-d7a0477b-5d53-4c9c-af26-35f5804fbd90 div.sk-label input.sk-toggleable__control:checked~label.sk-toggleable__label {background-color: #d4ebff;}#sk-d7a0477b-5d53-4c9c-af26-35f5804fbd90 input.sk-hidden--visually {border: 0;clip: rect(1px 1px 1px 1px);clip: rect(1px, 1px, 1px, 1px);height: 1px;margin: -1px;overflow: hidden;padding: 0;position: absolute;width: 1px;}#sk-d7a0477b-5d53-4c9c-af26-35f5804fbd90 div.sk-estimator {font-family: monospace;background-color: #f0f8ff;border: 1px dotted black;border-radius: 0.25em;box-sizing: border-box;margin-bottom: 0.5em;}#sk-d7a0477b-5d53-4c9c-af26-35f5804fbd90 div.sk-estimator:hover {background-color: #d4ebff;}#sk-d7a0477b-5d53-4c9c-af26-35f5804fbd90 div.sk-parallel-item::after {content: \"\";width: 100%;border-bottom: 1px solid gray;flex-grow: 1;}#sk-d7a0477b-5d53-4c9c-af26-35f5804fbd90 div.sk-label:hover label.sk-toggleable__label {background-color: #d4ebff;}#sk-d7a0477b-5d53-4c9c-af26-35f5804fbd90 div.sk-serial::before {content: \"\";position: absolute;border-left: 1px solid gray;box-sizing: border-box;top: 2em;bottom: 0;left: 50%;}#sk-d7a0477b-5d53-4c9c-af26-35f5804fbd90 div.sk-serial {display: flex;flex-direction: column;align-items: center;background-color: white;padding-right: 0.2em;padding-left: 0.2em;}#sk-d7a0477b-5d53-4c9c-af26-35f5804fbd90 div.sk-item {z-index: 1;}#sk-d7a0477b-5d53-4c9c-af26-35f5804fbd90 div.sk-parallel {display: flex;align-items: stretch;justify-content: center;background-color: white;}#sk-d7a0477b-5d53-4c9c-af26-35f5804fbd90 div.sk-parallel::before {content: \"\";position: absolute;border-left: 1px solid gray;box-sizing: border-box;top: 2em;bottom: 0;left: 50%;}#sk-d7a0477b-5d53-4c9c-af26-35f5804fbd90 div.sk-parallel-item {display: flex;flex-direction: column;position: relative;background-color: white;}#sk-d7a0477b-5d53-4c9c-af26-35f5804fbd90 div.sk-parallel-item:first-child::after {align-self: flex-end;width: 50%;}#sk-d7a0477b-5d53-4c9c-af26-35f5804fbd90 div.sk-parallel-item:last-child::after {align-self: flex-start;width: 50%;}#sk-d7a0477b-5d53-4c9c-af26-35f5804fbd90 div.sk-parallel-item:only-child::after {width: 0;}#sk-d7a0477b-5d53-4c9c-af26-35f5804fbd90 div.sk-dashed-wrapped {border: 1px dashed gray;margin: 0 0.4em 0.5em 0.4em;box-sizing: border-box;padding-bottom: 0.4em;background-color: white;position: relative;}#sk-d7a0477b-5d53-4c9c-af26-35f5804fbd90 div.sk-label label {font-family: monospace;font-weight: bold;background-color: white;display: inline-block;line-height: 1.2em;}#sk-d7a0477b-5d53-4c9c-af26-35f5804fbd90 div.sk-label-container {position: relative;z-index: 2;text-align: center;}#sk-d7a0477b-5d53-4c9c-af26-35f5804fbd90 div.sk-container {display: inline-block;position: relative;}</style><div id=\"sk-d7a0477b-5d53-4c9c-af26-35f5804fbd90\" class\"sk-top-container\"><div class=\"sk-container\"><div class=\"sk-item sk-dashed-wrapped\"><div class=\"sk-label-container\"><div class=\"sk-label sk-toggleable\"><input class=\"sk-toggleable__control sk-hidden--visually\" id=\"14e55984-119a-41f7-be5a-45d84ea24ed0\" type=\"checkbox\" ><label class=\"sk-toggleable__label\" for=\"14e55984-119a-41f7-be5a-45d84ea24ed0\">Pipeline</label><div class=\"sk-toggleable__content\"><pre>Pipeline(steps=[('preprocessor',\n",
       "                 Pipeline(steps=[('imputer', SimpleImputer(strategy='median')),\n",
       "                                 ('scaler', StandardScaler())])),\n",
       "                ('model',\n",
       "                 LogisticRegression(random_state=42, solver='liblinear'))])</pre></div></div></div><div class=\"sk-serial\"><div class=\"sk-item\"><div class=\"sk-label-container\"><div class=\"sk-label sk-toggleable\"><input class=\"sk-toggleable__control sk-hidden--visually\" id=\"b23511bc-d3f9-4f09-aab0-560430480214\" type=\"checkbox\" ><label class=\"sk-toggleable__label\" for=\"b23511bc-d3f9-4f09-aab0-560430480214\">preprocessor: Pipeline</label><div class=\"sk-toggleable__content\"><pre>Pipeline(steps=[('imputer', SimpleImputer(strategy='median')),\n",
       "                ('scaler', StandardScaler())])</pre></div></div></div><div class=\"sk-serial\"><div class=\"sk-item\"><div class=\"sk-estimator sk-toggleable\"><input class=\"sk-toggleable__control sk-hidden--visually\" id=\"f90d37d9-1b8c-4e2f-b7f8-98d0a6293eca\" type=\"checkbox\" ><label class=\"sk-toggleable__label\" for=\"f90d37d9-1b8c-4e2f-b7f8-98d0a6293eca\">SimpleImputer</label><div class=\"sk-toggleable__content\"><pre>SimpleImputer(strategy='median')</pre></div></div></div><div class=\"sk-item\"><div class=\"sk-estimator sk-toggleable\"><input class=\"sk-toggleable__control sk-hidden--visually\" id=\"f6d27a4d-2e2e-484b-aa88-24fc700ee913\" type=\"checkbox\" ><label class=\"sk-toggleable__label\" for=\"f6d27a4d-2e2e-484b-aa88-24fc700ee913\">StandardScaler</label><div class=\"sk-toggleable__content\"><pre>StandardScaler()</pre></div></div></div></div></div><div class=\"sk-item\"><div class=\"sk-estimator sk-toggleable\"><input class=\"sk-toggleable__control sk-hidden--visually\" id=\"e6d47d8a-1249-4d29-b7f4-fe0885654bb7\" type=\"checkbox\" ><label class=\"sk-toggleable__label\" for=\"e6d47d8a-1249-4d29-b7f4-fe0885654bb7\">LogisticRegression</label><div class=\"sk-toggleable__content\"><pre>LogisticRegression(random_state=42, solver='liblinear')</pre></div></div></div></div></div></div></div>"
      ],
      "text/plain": [
       "Pipeline(steps=[('preprocessor',\n",
       "                 Pipeline(steps=[('imputer', SimpleImputer(strategy='median')),\n",
       "                                 ('scaler', StandardScaler())])),\n",
       "                ('model',\n",
       "                 LogisticRegression(random_state=42, solver='liblinear'))])"
      ]
     },
     "execution_count": 25,
     "metadata": {},
     "output_type": "execute_result"
    }
   ],
   "source": [
    "# for visualizing pipeline\n",
    "from sklearn import set_config\n",
    "\n",
    "set_config(display=\"diagram\")\n",
    "sci_ml_pl.spl"
   ]
  },
  {
   "cell_type": "code",
   "execution_count": 27,
   "metadata": {},
   "outputs": [],
   "source": [
    "# print(len(sci_ml_pl.dfl.final_cols))\n",
    "# sci_ml_pl.dfl.final_cols"
   ]
  },
  {
   "cell_type": "code",
   "execution_count": null,
   "metadata": {},
   "outputs": [],
   "source": [
    "# fit and predict\n",
    "k_fold, metrics_score = sci_ml_pl.do_k_fold_training(n_splits=15, metrics=roc_auc_score)\n",
    "print(\"mean metrics score:\", np.mean(metrics_score))"
   ]
  },
  {
   "cell_type": "code",
   "execution_count": null,
   "metadata": {},
   "outputs": [],
   "source": [
    "print(f\"Mean metrics_score is : {round(np.mean(metrics_score)*100,2)}\")"
   ]
  },
  {
   "cell_type": "markdown",
   "metadata": {},
   "source": [
    "#### Create Kaggle Predictions"
   ]
  },
  {
   "cell_type": "code",
   "execution_count": null,
   "metadata": {},
   "outputs": [],
   "source": [
    "# predict\n",
    "preds = sci_ml_pl.do_k_fold_prediction(k_fold=k_fold)\n",
    "\n",
    "print(preds.shape)"
   ]
  },
  {
   "cell_type": "code",
   "execution_count": null,
   "metadata": {},
   "outputs": [],
   "source": [
    "sub = pd.read_csv(DIRECTORY_PATH + SAMPLE_SUB_FILE)\n",
    "sub['target'] = preds\n",
    "sub.to_csv('submission.csv', index=False)"
   ]
  },
  {
   "cell_type": "code",
   "execution_count": null,
   "metadata": {},
   "outputs": [],
   "source": [
    "# hide\n",
    "# run the script to build \n",
    "\n",
    "from nbdev.export import notebook2script; notebook2script()"
   ]
  },
  {
   "cell_type": "code",
   "execution_count": null,
   "metadata": {},
   "outputs": [],
   "source": []
  }
 ],
 "metadata": {
  "kernelspec": {
   "display_name": "Python 3 (ipykernel)",
   "language": "python",
   "name": "python3"
  },
  "language_info": {
   "codemirror_mode": {
    "name": "ipython",
    "version": 3
   },
   "file_extension": ".py",
   "mimetype": "text/x-python",
   "name": "python",
   "nbconvert_exporter": "python",
   "pygments_lexer": "ipython3",
   "version": "3.9.7"
  }
 },
 "nbformat": 4,
 "nbformat_minor": 2
}
