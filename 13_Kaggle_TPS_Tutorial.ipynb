{
 "cells": [
  {
   "cell_type": "markdown",
   "metadata": {},
   "source": [
    "# Getting Started Kaggle TPS Challenge with Tabular ML Toolkit\n",
    "\n",
    "> A Tutorial to showcase usage of tabular_ml_toolkit (tmlt) library on Kaggle TPS Challenge Nov 2021.\n",
    "\n",
    "> tabular_ml_toolkit is a helper library to jumpstart your machine learning project based on Tabular or Structured data.\n",
    "\n",
    "> It comes with model and data parallelism and cutting edge hyperparameter search techniques.\n",
    "\n",
    "> Under the hood TMLT uses modin, optuna, xgboost and scikit-learn pipelines"
   ]
  },
  {
   "cell_type": "markdown",
   "metadata": {},
   "source": [
    "## Install"
   ]
  },
  {
   "cell_type": "markdown",
   "metadata": {},
   "source": [
    "`pip install -U tabular_ml_toolkit`"
   ]
  },
  {
   "cell_type": "markdown",
   "metadata": {},
   "source": [
    "### How to Best Use tabular_ml_toolkit"
   ]
  },
  {
   "cell_type": "markdown",
   "metadata": {},
   "source": [
    "Start with your favorite model and then just simply create **tmlt** with one API."
   ]
  },
  {
   "cell_type": "markdown",
   "metadata": {},
   "source": [
    "*Here we are using XGBClassifier, on  [Kaggle TPS Challenge (Nov 2021) data](https://www.kaggle.com/c/tabular-playground-series-nov-2021/data)*"
   ]
  },
  {
   "cell_type": "code",
   "execution_count": null,
   "metadata": {},
   "outputs": [],
   "source": [
    "from tabular_ml_toolkit.tmlt import *\n",
    "from xgboost import XGBClassifier\n",
    "import numpy as np\n",
    "\n",
    "# for visualizing pipeline\n",
    "from sklearn import set_config\n",
    "set_config(display=\"diagram\")\n",
    "\n",
    "# just to measure fit performance\n",
    "import time"
   ]
  },
  {
   "cell_type": "code",
   "execution_count": null,
   "metadata": {},
   "outputs": [],
   "source": [
    "# Dataset file names and Paths\n",
    "DIRECTORY_PATH = \"/Users/pamathur/kaggle_datasets/tps_nov_2021/\"\n",
    "TRAIN_FILE = \"train.csv\"\n",
    "TEST_FILE = \"test.csv\"\n",
    "SAMPLE_SUB_FILE = \"sample_submission.csv\"\n",
    "OUTPUT_PATH = \"kaggle_tps_output/\""
   ]
  },
  {
   "cell_type": "markdown",
   "metadata": {},
   "source": [
    "#### Create a base xgb classifier model with your best guess params"
   ]
  },
  {
   "cell_type": "code",
   "execution_count": null,
   "metadata": {},
   "outputs": [],
   "source": [
    "xgb_params = {\n",
    "    # your best guess params\n",
    "    'learning_rate':0.01,\n",
    "    'eval_metric':'auc',\n",
    "    # must for xgb classifier otherwise warning will be shown\n",
    "    'use_label_encoder':False,\n",
    "    # because 42 is the answer for all the randomness of this universe\n",
    "    'random_state':42,\n",
    "    #for GPU\n",
    "    #'tree_method': 'gpu_hist',\n",
    "    #'predictor': 'gpu_predictor',\n",
    "}\n",
    "\n",
    "xgb_model = XGBClassifier(**xgb_params)"
   ]
  },
  {
   "cell_type": "code",
   "execution_count": null,
   "metadata": {},
   "outputs": [
    {
     "name": "stderr",
     "output_type": "stream",
     "text": [
      "2021-11-23 00:58:11,440 INFO 12 cores found, model and data parallel processing should worked!\n",
      "UserWarning: Distributing <class 'int'> object. This may take some time.\n",
      "2021-11-23 00:58:28,221 INFO DataFrame Memory usage decreased to 0.80 Mb (74.4% reduction)\n",
      "2021-11-23 00:58:28,221 INFO No test_file_path given, so training will continue without it!\n"
     ]
    },
    {
     "name": "stdout",
     "output_type": "stream",
     "text": [
      "\u001b[2m\u001b[36m(apply_list_of_funcs pid=96618)\u001b[0m \n",
      "\u001b[2m\u001b[36m(compute_sliced_len pid=96615)\u001b[0m \n",
      "\u001b[2m\u001b[36m(apply_func pid=96617)\u001b[0m \n"
     ]
    },
    {
     "name": "stderr",
     "output_type": "stream",
     "text": [
      "2021-11-23 00:58:37,460 INFO PreProcessing will include target(s) encoding!\n",
      "2021-11-23 00:58:37,461 INFO categorical columns are None, Preprocessing will done accordingly!\n"
     ]
    }
   ],
   "source": [
    "# createm tmlt for xgb model\n",
    "tmlt = TMLT().prepare_data_for_training(\n",
    "    train_file_path= DIRECTORY_PATH + TRAIN_FILE,\n",
    "    #test_file_path= DIRECTORY_PATH + TEST_FILE,\n",
    "    #make sure to use right index and target columns\n",
    "    idx_col=\"id\",\n",
    "    target=\"target\",\n",
    "    model=xgb_model,\n",
    "    random_state=42,\n",
    "    problem_type=\"classification\", nrows=4000)"
   ]
  },
  {
   "cell_type": "code",
   "execution_count": null,
   "metadata": {},
   "outputs": [
    {
     "data": {
      "text/html": [
       "<style>#sk-c745d731-9528-4eb5-9634-7f7204c519fb {color: black;background-color: white;}#sk-c745d731-9528-4eb5-9634-7f7204c519fb pre{padding: 0;}#sk-c745d731-9528-4eb5-9634-7f7204c519fb div.sk-toggleable {background-color: white;}#sk-c745d731-9528-4eb5-9634-7f7204c519fb label.sk-toggleable__label {cursor: pointer;display: block;width: 100%;margin-bottom: 0;padding: 0.3em;box-sizing: border-box;text-align: center;}#sk-c745d731-9528-4eb5-9634-7f7204c519fb div.sk-toggleable__content {max-height: 0;max-width: 0;overflow: hidden;text-align: left;background-color: #f0f8ff;}#sk-c745d731-9528-4eb5-9634-7f7204c519fb div.sk-toggleable__content pre {margin: 0.2em;color: black;border-radius: 0.25em;background-color: #f0f8ff;}#sk-c745d731-9528-4eb5-9634-7f7204c519fb input.sk-toggleable__control:checked~div.sk-toggleable__content {max-height: 200px;max-width: 100%;overflow: auto;}#sk-c745d731-9528-4eb5-9634-7f7204c519fb div.sk-estimator input.sk-toggleable__control:checked~label.sk-toggleable__label {background-color: #d4ebff;}#sk-c745d731-9528-4eb5-9634-7f7204c519fb div.sk-label input.sk-toggleable__control:checked~label.sk-toggleable__label {background-color: #d4ebff;}#sk-c745d731-9528-4eb5-9634-7f7204c519fb input.sk-hidden--visually {border: 0;clip: rect(1px 1px 1px 1px);clip: rect(1px, 1px, 1px, 1px);height: 1px;margin: -1px;overflow: hidden;padding: 0;position: absolute;width: 1px;}#sk-c745d731-9528-4eb5-9634-7f7204c519fb div.sk-estimator {font-family: monospace;background-color: #f0f8ff;border: 1px dotted black;border-radius: 0.25em;box-sizing: border-box;margin-bottom: 0.5em;}#sk-c745d731-9528-4eb5-9634-7f7204c519fb div.sk-estimator:hover {background-color: #d4ebff;}#sk-c745d731-9528-4eb5-9634-7f7204c519fb div.sk-parallel-item::after {content: \"\";width: 100%;border-bottom: 1px solid gray;flex-grow: 1;}#sk-c745d731-9528-4eb5-9634-7f7204c519fb div.sk-label:hover label.sk-toggleable__label {background-color: #d4ebff;}#sk-c745d731-9528-4eb5-9634-7f7204c519fb div.sk-serial::before {content: \"\";position: absolute;border-left: 1px solid gray;box-sizing: border-box;top: 2em;bottom: 0;left: 50%;}#sk-c745d731-9528-4eb5-9634-7f7204c519fb div.sk-serial {display: flex;flex-direction: column;align-items: center;background-color: white;padding-right: 0.2em;padding-left: 0.2em;}#sk-c745d731-9528-4eb5-9634-7f7204c519fb div.sk-item {z-index: 1;}#sk-c745d731-9528-4eb5-9634-7f7204c519fb div.sk-parallel {display: flex;align-items: stretch;justify-content: center;background-color: white;}#sk-c745d731-9528-4eb5-9634-7f7204c519fb div.sk-parallel::before {content: \"\";position: absolute;border-left: 1px solid gray;box-sizing: border-box;top: 2em;bottom: 0;left: 50%;}#sk-c745d731-9528-4eb5-9634-7f7204c519fb div.sk-parallel-item {display: flex;flex-direction: column;position: relative;background-color: white;}#sk-c745d731-9528-4eb5-9634-7f7204c519fb div.sk-parallel-item:first-child::after {align-self: flex-end;width: 50%;}#sk-c745d731-9528-4eb5-9634-7f7204c519fb div.sk-parallel-item:last-child::after {align-self: flex-start;width: 50%;}#sk-c745d731-9528-4eb5-9634-7f7204c519fb div.sk-parallel-item:only-child::after {width: 0;}#sk-c745d731-9528-4eb5-9634-7f7204c519fb div.sk-dashed-wrapped {border: 1px dashed gray;margin: 0 0.4em 0.5em 0.4em;box-sizing: border-box;padding-bottom: 0.4em;background-color: white;position: relative;}#sk-c745d731-9528-4eb5-9634-7f7204c519fb div.sk-label label {font-family: monospace;font-weight: bold;background-color: white;display: inline-block;line-height: 1.2em;}#sk-c745d731-9528-4eb5-9634-7f7204c519fb div.sk-label-container {position: relative;z-index: 2;text-align: center;}#sk-c745d731-9528-4eb5-9634-7f7204c519fb div.sk-container {display: inline-block;position: relative;}</style><div id=\"sk-c745d731-9528-4eb5-9634-7f7204c519fb\" class\"sk-top-container\"><div class=\"sk-container\"><div class=\"sk-item sk-dashed-wrapped\"><div class=\"sk-label-container\"><div class=\"sk-label sk-toggleable\"><input class=\"sk-toggleable__control sk-hidden--visually\" id=\"219ed3b2-b4db-492b-b33c-1641199b2894\" type=\"checkbox\" ><label class=\"sk-toggleable__label\" for=\"219ed3b2-b4db-492b-b33c-1641199b2894\">Pipeline</label><div class=\"sk-toggleable__content\"><pre>Pipeline(steps=[('preprocessor',\n",
       "                 ColumnTransformer(transformers=[('num_cols',\n",
       "                                                  Pipeline(steps=[('imputer',\n",
       "                                                                   SimpleImputer(strategy='constant')),\n",
       "                                                                  ('scaler',\n",
       "                                                                   StandardScaler())]),\n",
       "                                                  ['f0', 'f1', 'f2', 'f3', 'f4',\n",
       "                                                   'f5', 'f6', 'f7', 'f8', 'f9',\n",
       "                                                   'f10', 'f11', 'f12', 'f13',\n",
       "                                                   'f14', 'f15', 'f16', 'f17',\n",
       "                                                   'f18', 'f19', 'f20', 'f21',\n",
       "                                                   'f22', 'f23', 'f24', 'f25',\n",
       "                                                   'f26', 'f27', 'f28', 'f29', ...])])),\n",
       "                (...\n",
       "                               interaction_constraints=None, learning_rate=0.01,\n",
       "                               max_delta_step=None, max_depth=None,\n",
       "                               min_child_weight=None, missing=nan,\n",
       "                               monotone_constraints=None, n_estimators=100,\n",
       "                               n_jobs=11, num_parallel_tree=None,\n",
       "                               predictor=None, random_state=42, reg_alpha=None,\n",
       "                               reg_lambda=None, scale_pos_weight=None,\n",
       "                               subsample=None, tree_method=None,\n",
       "                               use_label_encoder=False,\n",
       "                               validate_parameters=None, verbosity=None))])</pre></div></div></div><div class=\"sk-serial\"><div class=\"sk-item sk-dashed-wrapped\"><div class=\"sk-label-container\"><div class=\"sk-label sk-toggleable\"><input class=\"sk-toggleable__control sk-hidden--visually\" id=\"725715b8-d2a9-47e9-bcce-1d75cccc603f\" type=\"checkbox\" ><label class=\"sk-toggleable__label\" for=\"725715b8-d2a9-47e9-bcce-1d75cccc603f\">preprocessor: ColumnTransformer</label><div class=\"sk-toggleable__content\"><pre>ColumnTransformer(transformers=[('num_cols',\n",
       "                                 Pipeline(steps=[('imputer',\n",
       "                                                  SimpleImputer(strategy='constant')),\n",
       "                                                 ('scaler', StandardScaler())]),\n",
       "                                 ['f0', 'f1', 'f2', 'f3', 'f4', 'f5', 'f6',\n",
       "                                  'f7', 'f8', 'f9', 'f10', 'f11', 'f12', 'f13',\n",
       "                                  'f14', 'f15', 'f16', 'f17', 'f18', 'f19',\n",
       "                                  'f20', 'f21', 'f22', 'f23', 'f24', 'f25',\n",
       "                                  'f26', 'f27', 'f28', 'f29', ...])])</pre></div></div></div><div class=\"sk-parallel\"><div class=\"sk-parallel-item\"><div class=\"sk-item\"><div class=\"sk-label-container\"><div class=\"sk-label sk-toggleable\"><input class=\"sk-toggleable__control sk-hidden--visually\" id=\"c0440855-b9a3-428a-832a-9f0a19e34e2f\" type=\"checkbox\" ><label class=\"sk-toggleable__label\" for=\"c0440855-b9a3-428a-832a-9f0a19e34e2f\">num_cols</label><div class=\"sk-toggleable__content\"><pre>['f0', 'f1', 'f2', 'f3', 'f4', 'f5', 'f6', 'f7', 'f8', 'f9', 'f10', 'f11', 'f12', 'f13', 'f14', 'f15', 'f16', 'f17', 'f18', 'f19', 'f20', 'f21', 'f22', 'f23', 'f24', 'f25', 'f26', 'f27', 'f28', 'f29', 'f30', 'f31', 'f32', 'f33', 'f34', 'f35', 'f36', 'f37', 'f38', 'f39', 'f40', 'f41', 'f42', 'f43', 'f44', 'f45', 'f46', 'f47', 'f48', 'f49', 'f50', 'f51', 'f52', 'f53', 'f54', 'f55', 'f56', 'f57', 'f58', 'f59', 'f60', 'f61', 'f62', 'f63', 'f64', 'f65', 'f66', 'f67', 'f68', 'f69', 'f70', 'f71', 'f72', 'f73', 'f74', 'f75', 'f76', 'f77', 'f78', 'f79', 'f80', 'f81', 'f82', 'f83', 'f84', 'f85', 'f86', 'f87', 'f88', 'f89', 'f90', 'f91', 'f92', 'f93', 'f94', 'f95', 'f96', 'f97', 'f98', 'f99']</pre></div></div></div><div class=\"sk-serial\"><div class=\"sk-item\"><div class=\"sk-serial\"><div class=\"sk-item\"><div class=\"sk-estimator sk-toggleable\"><input class=\"sk-toggleable__control sk-hidden--visually\" id=\"9aae87fe-f4b6-4882-b33c-2831778a7696\" type=\"checkbox\" ><label class=\"sk-toggleable__label\" for=\"9aae87fe-f4b6-4882-b33c-2831778a7696\">SimpleImputer</label><div class=\"sk-toggleable__content\"><pre>SimpleImputer(strategy='constant')</pre></div></div></div><div class=\"sk-item\"><div class=\"sk-estimator sk-toggleable\"><input class=\"sk-toggleable__control sk-hidden--visually\" id=\"d2c32da5-e994-4f06-a8f9-bcd5344b72e9\" type=\"checkbox\" ><label class=\"sk-toggleable__label\" for=\"d2c32da5-e994-4f06-a8f9-bcd5344b72e9\">StandardScaler</label><div class=\"sk-toggleable__content\"><pre>StandardScaler()</pre></div></div></div></div></div></div></div></div></div></div><div class=\"sk-item\"><div class=\"sk-estimator sk-toggleable\"><input class=\"sk-toggleable__control sk-hidden--visually\" id=\"7957a211-1998-4cc0-b5a2-118e3518c44a\" type=\"checkbox\" ><label class=\"sk-toggleable__label\" for=\"7957a211-1998-4cc0-b5a2-118e3518c44a\">XGBClassifier</label><div class=\"sk-toggleable__content\"><pre>XGBClassifier(base_score=None, booster=None, colsample_bylevel=None,\n",
       "              colsample_bynode=None, colsample_bytree=None,\n",
       "              enable_categorical=False, eval_metric='auc', gamma=None,\n",
       "              gpu_id=None, importance_type=None, interaction_constraints=None,\n",
       "              learning_rate=0.01, max_delta_step=None, max_depth=None,\n",
       "              min_child_weight=None, missing=nan, monotone_constraints=None,\n",
       "              n_estimators=100, n_jobs=11, num_parallel_tree=None,\n",
       "              predictor=None, random_state=42, reg_alpha=None, reg_lambda=None,\n",
       "              scale_pos_weight=None, subsample=None, tree_method=None,\n",
       "              use_label_encoder=False, validate_parameters=None,\n",
       "              verbosity=None)</pre></div></div></div></div></div></div></div>"
      ],
      "text/plain": [
       "Pipeline(steps=[('preprocessor',\n",
       "                 ColumnTransformer(transformers=[('num_cols',\n",
       "                                                  Pipeline(steps=[('imputer',\n",
       "                                                                   SimpleImputer(strategy='constant')),\n",
       "                                                                  ('scaler',\n",
       "                                                                   StandardScaler())]),\n",
       "                                                  ['f0', 'f1', 'f2', 'f3', 'f4',\n",
       "                                                   'f5', 'f6', 'f7', 'f8', 'f9',\n",
       "                                                   'f10', 'f11', 'f12', 'f13',\n",
       "                                                   'f14', 'f15', 'f16', 'f17',\n",
       "                                                   'f18', 'f19', 'f20', 'f21',\n",
       "                                                   'f22', 'f23', 'f24', 'f25',\n",
       "                                                   'f26', 'f27', 'f28', 'f29', ...])])),\n",
       "                (...\n",
       "                               interaction_constraints=None, learning_rate=0.01,\n",
       "                               max_delta_step=None, max_depth=None,\n",
       "                               min_child_weight=None, missing=nan,\n",
       "                               monotone_constraints=None, n_estimators=100,\n",
       "                               n_jobs=11, num_parallel_tree=None,\n",
       "                               predictor=None, random_state=42, reg_alpha=None,\n",
       "                               reg_lambda=None, scale_pos_weight=None,\n",
       "                               subsample=None, tree_method=None,\n",
       "                               use_label_encoder=False,\n",
       "                               validate_parameters=None, verbosity=None))])"
      ]
     },
     "execution_count": null,
     "metadata": {},
     "output_type": "execute_result"
    }
   ],
   "source": [
    "tmlt.spl"
   ]
  },
  {
   "cell_type": "markdown",
   "metadata": {},
   "source": [
    "#### Let's do a quick round of training"
   ]
  },
  {
   "cell_type": "code",
   "execution_count": null,
   "metadata": {},
   "outputs": [],
   "source": [
    "tmlt.dfl.create_train_valid(valid_size=0.2)"
   ]
  },
  {
   "cell_type": "code",
   "execution_count": null,
   "metadata": {},
   "outputs": [
    {
     "name": "stdout",
     "output_type": "stream",
     "text": [
      "X_train shape is (3200, 100)\n",
      "X_valid shape is (800, 100)\n",
      "y_train shape is (3200,)\n",
      "y_valid shape is (800,)\n"
     ]
    }
   ],
   "source": [
    "# Quick check on dataframe shapes\n",
    "print(f\"X_train shape is {tmlt.dfl.X_train.shape}\" )\n",
    "print(f\"X_valid shape is {tmlt.dfl.X_valid.shape}\" )\n",
    "print(f\"y_train shape is {tmlt.dfl.y_train.shape}\")\n",
    "print(f\"y_valid shape is {tmlt.dfl.y_valid.shape}\")"
   ]
  },
  {
   "cell_type": "code",
   "execution_count": null,
   "metadata": {},
   "outputs": [],
   "source": [
    "from sklearn.metrics import roc_auc_score, accuracy_score"
   ]
  },
  {
   "cell_type": "code",
   "execution_count": null,
   "metadata": {},
   "outputs": [
    {
     "name": "stdout",
     "output_type": "stream",
     "text": [
      "\u001b[2m\u001b[36m(apply_list_of_funcs pid=96613)\u001b[0m \n",
      "Fit Time: 6.31636905670166\n",
      "\u001b[2m\u001b[36m(compute_sliced_len pid=96613)\u001b[0m \n",
      "AUC is : 0.6137947418435223 while Accuracy is : 0.6175 \n"
     ]
    }
   ],
   "source": [
    "# Fit\n",
    "start = time.time()\n",
    "# Now fit\n",
    "tmlt.spl.fit(tmlt.dfl.X_train, tmlt.dfl.y_train)\n",
    "end = time.time()\n",
    "print(\"Fit Time:\", end - start)\n",
    "\n",
    "#predict\n",
    "preds = tmlt.spl.predict(tmlt.dfl.X_valid)\n",
    "preds_probs = tmlt.spl.predict_proba(tmlt.dfl.X_valid)[:, 1]\n",
    "\n",
    "# Metrics\n",
    "auc = roc_auc_score(tmlt.dfl.y_valid, preds_probs)\n",
    "acc = accuracy_score(tmlt.dfl.y_valid, preds)\n",
    "\n",
    "print(f\"AUC is : {auc} while Accuracy is : {acc} \")"
   ]
  },
  {
   "cell_type": "markdown",
   "metadata": {},
   "source": [
    "### Let's do Optuna based HyperParameter search to get best params for fit"
   ]
  },
  {
   "cell_type": "code",
   "execution_count": null,
   "metadata": {},
   "outputs": [],
   "source": [
    "study = tmlt.do_xgb_optuna_optimization(optuna_db_path=OUTPUT_PATH, opt_timeout=60)"
   ]
  },
  {
   "cell_type": "code",
   "execution_count": null,
   "metadata": {},
   "outputs": [],
   "source": [
    "print(study.best_trial)"
   ]
  },
  {
   "cell_type": "markdown",
   "metadata": {},
   "source": [
    "##### now update the model with best params from study and then update the sklearn pipeline with new model"
   ]
  },
  {
   "cell_type": "code",
   "execution_count": null,
   "metadata": {},
   "outputs": [],
   "source": [
    "xgb_params.update(study.best_trial.params)\n",
    "print(\"Final xgb_params:\", xgb_params)\n",
    "xgb_model = XGBClassifier(**xgb_params)\n",
    "tmlt.update_model(xgb_model)\n",
    "tmlt.spl"
   ]
  },
  {
   "cell_type": "markdown",
   "metadata": {},
   "source": [
    "#### Let's Use K-Fold Training"
   ]
  },
  {
   "cell_type": "code",
   "execution_count": null,
   "metadata": {},
   "outputs": [
    {
     "name": "stdout",
     "output_type": "stream",
     "text": [
      "\u001b[2m\u001b[36m(apply_list_of_funcs pid=96615)\u001b[0m \n",
      "\u001b[2m\u001b[36m(apply_list_of_funcs pid=96617)\u001b[0m \n",
      "\u001b[2m\u001b[36m(apply_list_of_funcs pid=96618)\u001b[0m \n",
      "\u001b[2m\u001b[36m(apply_list_of_funcs pid=96609)\u001b[0m \n"
     ]
    },
    {
     "name": "stderr",
     "output_type": "stream",
     "text": [
      "2021-11-23 00:59:45,633 INFO fold: 1 log_loss : 0.6621403547748923\n",
      "2021-11-23 00:59:45,634 INFO fold: 1 roc_auc_score : 0.6182978723404255\n",
      "2021-11-23 00:59:45,635 INFO fold: 1 accuracy_score : 0.605\n",
      "2021-11-23 00:59:45,635 INFO fold: 1 f1_score : 0.3629032258064516\n",
      "2021-11-23 00:59:45,636 INFO fold: 1 precision_score : 0.5421686746987951\n",
      "2021-11-23 00:59:45,637 INFO fold: 1 recall_score : 0.2727272727272727\n"
     ]
    },
    {
     "name": "stdout",
     "output_type": "stream",
     "text": [
      "\u001b[2m\u001b[36m(apply_list_of_funcs pid=96614)\u001b[0m \n",
      "\u001b[2m\u001b[36m(apply_list_of_funcs pid=96608)\u001b[0m \n",
      "\u001b[2m\u001b[36m(apply_list_of_funcs pid=96612)\u001b[0m \n"
     ]
    },
    {
     "name": "stderr",
     "output_type": "stream",
     "text": [
      "2021-11-23 01:00:03,036 INFO fold: 2 log_loss : 0.6640257256105542\n",
      "2021-11-23 01:00:03,037 INFO fold: 2 roc_auc_score : 0.6078916827852998\n",
      "2021-11-23 01:00:03,037 INFO fold: 2 accuracy_score : 0.61875\n",
      "2021-11-23 01:00:03,038 INFO fold: 2 f1_score : 0.38383838383838387\n",
      "2021-11-23 01:00:03,039 INFO fold: 2 precision_score : 0.5757575757575758\n",
      "2021-11-23 01:00:03,040 INFO fold: 2 recall_score : 0.2878787878787879\n"
     ]
    },
    {
     "name": "stdout",
     "output_type": "stream",
     "text": [
      "\u001b[2m\u001b[36m(apply_list_of_funcs pid=96615)\u001b[0m \n",
      "\u001b[2m\u001b[36m(apply_list_of_funcs pid=96613)\u001b[0m \n",
      "\u001b[2m\u001b[36m(apply_list_of_funcs pid=96613)\u001b[0m \n",
      "\u001b[2m\u001b[36m(apply_list_of_funcs pid=96611)\u001b[0m \n",
      "\u001b[2m\u001b[36m(apply_list_of_funcs pid=96613)\u001b[0m \n",
      "\u001b[2m\u001b[36m(apply_list_of_funcs pid=96609)\u001b[0m \n",
      "\u001b[2m\u001b[36m(apply_list_of_funcs pid=96612)\u001b[0m \n"
     ]
    },
    {
     "name": "stderr",
     "output_type": "stream",
     "text": [
      "2021-11-23 01:00:19,239 INFO fold: 3 log_loss : 0.662113243713975\n",
      "2021-11-23 01:00:19,240 INFO fold: 3 roc_auc_score : 0.6047582205029014\n",
      "2021-11-23 01:00:19,241 INFO fold: 3 accuracy_score : 0.6225\n",
      "2021-11-23 01:00:19,242 INFO fold: 3 f1_score : 0.37860082304526754\n",
      "2021-11-23 01:00:19,242 INFO fold: 3 precision_score : 0.5897435897435898\n",
      "2021-11-23 01:00:19,243 INFO fold: 3 recall_score : 0.2787878787878788\n"
     ]
    },
    {
     "name": "stdout",
     "output_type": "stream",
     "text": [
      "\u001b[2m\u001b[36m(apply_list_of_funcs pid=96613)\u001b[0m \n",
      "\u001b[2m\u001b[36m(apply_list_of_funcs pid=96616)\u001b[0m \n",
      "\u001b[2m\u001b[36m(apply_list_of_funcs pid=96609)\u001b[0m \n"
     ]
    },
    {
     "name": "stderr",
     "output_type": "stream",
     "text": [
      "2021-11-23 01:00:36,864 INFO fold: 4 log_loss : 0.6577297036349773\n",
      "2021-11-23 01:00:36,864 INFO fold: 4 roc_auc_score : 0.6376876944582225\n",
      "2021-11-23 01:00:36,865 INFO fold: 4 accuracy_score : 0.63375\n",
      "2021-11-23 01:00:36,866 INFO fold: 4 f1_score : 0.40325865580448067\n",
      "2021-11-23 01:00:36,867 INFO fold: 4 precision_score : 0.61875\n",
      "2021-11-23 01:00:36,868 INFO fold: 4 recall_score : 0.2990936555891239\n"
     ]
    },
    {
     "name": "stdout",
     "output_type": "stream",
     "text": [
      "\u001b[2m\u001b[36m(apply_list_of_funcs pid=96608)\u001b[0m \n",
      "\u001b[2m\u001b[36m(apply_list_of_funcs pid=96608)\u001b[0m \n"
     ]
    },
    {
     "name": "stderr",
     "output_type": "stream",
     "text": [
      "2021-11-23 01:00:54,497 INFO fold: 5 log_loss : 0.6580264708772302\n",
      "2021-11-23 01:00:54,498 INFO fold: 5 roc_auc_score : 0.6333331186106584\n",
      "2021-11-23 01:00:54,499 INFO fold: 5 accuracy_score : 0.60875\n",
      "2021-11-23 01:00:54,499 INFO fold: 5 f1_score : 0.37274549098196397\n",
      "2021-11-23 01:00:54,500 INFO fold: 5 precision_score : 0.5535714285714286\n",
      "2021-11-23 01:00:54,501 INFO fold: 5 recall_score : 0.2809667673716012\n",
      "2021-11-23 01:00:54,502 INFO kfold_metrics_results: [{'log_loss': 0.6621403547748923, 'roc_auc_score': 0.6182978723404255, 'accuracy_score': 0.605, 'f1_score': 0.3629032258064516, 'precision_score': 0.5421686746987951, 'recall_score': 0.2727272727272727}, {'log_loss': 0.6640257256105542, 'roc_auc_score': 0.6078916827852998, 'accuracy_score': 0.61875, 'f1_score': 0.38383838383838387, 'precision_score': 0.5757575757575758, 'recall_score': 0.2878787878787879}, {'log_loss': 0.662113243713975, 'roc_auc_score': 0.6047582205029014, 'accuracy_score': 0.6225, 'f1_score': 0.37860082304526754, 'precision_score': 0.5897435897435898, 'recall_score': 0.2787878787878788}, {'log_loss': 0.6577297036349773, 'roc_auc_score': 0.6376876944582225, 'accuracy_score': 0.63375, 'f1_score': 0.40325865580448067, 'precision_score': 0.61875, 'recall_score': 0.2990936555891239}, {'log_loss': 0.6580264708772302, 'roc_auc_score': 0.6333331186106584, 'accuracy_score': 0.60875, 'f1_score': 0.37274549098196397, 'precision_score': 0.5535714285714286, 'recall_score': 0.2809667673716012}] \n"
     ]
    },
    {
     "name": "stdout",
     "output_type": "stream",
     "text": [
      "\u001b[2m\u001b[36m(apply_list_of_funcs pid=96608)\u001b[0m \n"
     ]
    }
   ],
   "source": [
    "# K-Fold fit and predict on test dataset\n",
    "xgb_model_preds_metrics_score, xgb_model_test_preds= tmlt.do_kfold_training(n_splits=5,\n",
    "                                                                            test_preds_metric=roc_auc_score)\n",
    "if xgb_model_test_preds is not None:\n",
    "    print(xgb_model_test_preds.shape)"
   ]
  },
  {
   "cell_type": "code",
   "execution_count": null,
   "metadata": {},
   "outputs": [],
   "source": [
    "# # take weighted average of both k-fold models predictions\n",
    "# final_preds = ((0.45 * sci_model_preds) + (0.55* xgb_model_test_preds)) / 2\n",
    "# print(final_preds.shape)"
   ]
  },
  {
   "cell_type": "markdown",
   "metadata": {},
   "source": [
    "#### Create Kaggle Predictions"
   ]
  },
  {
   "cell_type": "code",
   "execution_count": null,
   "metadata": {},
   "outputs": [],
   "source": [
    "# sub = pd.read_csv(DIRECTORY_PATH + SAMPLE_SUB_FILE)\n",
    "# sub['target'] = final_preds\n",
    "# sub.to_csv('submission.csv', index=False)"
   ]
  },
  {
   "cell_type": "code",
   "execution_count": null,
   "metadata": {},
   "outputs": [],
   "source": [
    "# hide\n",
    "# run the script to build \n",
    "\n",
    "from nbdev.export import notebook2script; notebook2script()"
   ]
  },
  {
   "cell_type": "code",
   "execution_count": null,
   "metadata": {},
   "outputs": [],
   "source": []
  }
 ],
 "metadata": {
  "kernelspec": {
   "display_name": "Python [conda env:nbdev_env]",
   "language": "python",
   "name": "conda-env-nbdev_env-py"
  }
 },
 "nbformat": 4,
 "nbformat_minor": 2
}
