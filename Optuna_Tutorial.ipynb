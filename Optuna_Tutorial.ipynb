{
 "cells": [
  {
   "cell_type": "code",
   "execution_count": null,
   "metadata": {},
   "outputs": [],
   "source": [
    "# default_exp Optuna_Tutorial"
   ]
  },
  {
   "cell_type": "markdown",
   "metadata": {},
   "source": [
    "# Getting Started Kaggle TPS Challenge with Tabular ML Toolkit\n",
    "\n",
    "> A Tutorial to showcase usage of Tabular_ML_Toolkit and Optuna on Kaggle TPS Challenge Nov 2021"
   ]
  },
  {
   "cell_type": "markdown",
   "metadata": {},
   "source": [
    "## Install"
   ]
  },
  {
   "cell_type": "markdown",
   "metadata": {},
   "source": [
    "`pip install -U tabular_ml_toolkit`"
   ]
  },
  {
   "cell_type": "markdown",
   "metadata": {},
   "source": [
    "## How to Best Use tabular_ml_toolkit"
   ]
  },
  {
   "cell_type": "markdown",
   "metadata": {},
   "source": [
    "Start with your favorite model and then just simply create MLPipeline with one API."
   ]
  },
  {
   "cell_type": "markdown",
   "metadata": {},
   "source": [
    "*You can use MLPipeline to quickly train any model which supports scikit-lear fit and transform methods.*\n",
    "\n",
    "*For example, Here we are using LogisticRegression from Scikit-Learn, on  [Kaggle TPS Challenge (Nov 2021) data](https://www.kaggle.com/c/tabular-playground-series-nov-2021/data)*"
   ]
  },
  {
   "cell_type": "code",
   "execution_count": null,
   "metadata": {},
   "outputs": [],
   "source": [
    "from tabular_ml_toolkit.MLPipeline import *\n",
    "import sklearn.model_selection\n",
    "from sklearn.ensemble import RandomForestClassifier\n",
    "from sklearn.linear_model import LogisticRegression\n",
    "from sklearn.metrics import roc_auc_score, accuracy_score\n",
    "import pandas as pd\n",
    "import numpy as np\n",
    "# import optuna"
   ]
  },
  {
   "cell_type": "code",
   "execution_count": null,
   "metadata": {},
   "outputs": [],
   "source": [
    "# Dataset file names and Paths\n",
    "DIRECTORY_PATH = \"/Users/pankajmathur/kaggle_datasets/tps_nov_2021/\"\n",
    "TRAIN_FILE = \"train.csv\"\n",
    "TEST_FILE = \"test.csv\"\n",
    "SAMPLE_SUB_FILE = \"sample_submission.csv\""
   ]
  },
  {
   "cell_type": "code",
   "execution_count": null,
   "metadata": {},
   "outputs": [],
   "source": [
    "# # create a starter scikit-learn ml model\n",
    "scikit_model = LogisticRegression(solver='liblinear', random_state=42)\n",
    "# scikit_model = RandomForestClassifier(random_state=42)"
   ]
  },
  {
   "cell_type": "code",
   "execution_count": null,
   "metadata": {},
   "outputs": [],
   "source": [
    "# create an ml_pipeline for scikit-learn model\n",
    "sci_ml_pl = MLPipeline().prepare_data_for_cv(\n",
    "    train_file_path= DIRECTORY_PATH + TRAIN_FILE,\n",
    "    test_file_path= DIRECTORY_PATH + TEST_FILE,\n",
    "    #make sure to use right index and target column\n",
    "    idx_col=\"id\",\n",
    "    target=\"target\",\n",
    "    model=scikit_model,\n",
    "    random_state=42,\n",
    "    cv_cols_type=\"all\")"
   ]
  },
  {
   "cell_type": "code",
   "execution_count": null,
   "metadata": {},
   "outputs": [],
   "source": [
    "# class Objective(object):\n",
    "#     def __init__(self, dataframeloader):\n",
    "#         self.X = dataframeloader.X_cv[1000:2000]\n",
    "#         self.y = dataframeloader.y[1000:2000]\n",
    "\n",
    "#     def __call__(self, trial):\n",
    "#         x, y = self.X, self.y\n",
    "\n",
    "# #         classifier_name = trial.suggest_categorical(\"classifier\", [\"LogisticRegression\", \"RandomForest\"])\n",
    "# #         if classifier_name == \"LogisticRegression\":\n",
    "#         log_reg_solver = trial.suggest_categorical(\"log_reg_solver\",\n",
    "#                                                    ['liblinear','lbfgs','newton-cg','sag','saga'])\n",
    "#         classifier_obj = LogisticRegression(\n",
    "#             solver = log_reg_solver,\n",
    "#             random_state = 42)\n",
    "# #         else:\n",
    "# #             rf_max_depth = trial.suggest_int(\"rf_max_depth\", 2, 32, log=True)\n",
    "# #             classifier_obj = RandomForestClassifier(\n",
    "# #                 max_depth = rf_max_depth,\n",
    "# #                 n_estimators = 10,\n",
    "# #                 random_state = 42)\n",
    "\n",
    "#         score = sklearn.model_selection.cross_val_score(classifier_obj, x, y, n_jobs=-1, cv=3)\n",
    "#         accuracy = score.mean()\n",
    "#         return accuracy"
   ]
  },
  {
   "cell_type": "code",
   "execution_count": null,
   "metadata": {},
   "outputs": [],
   "source": [
    "# # Load the dataset in advance for reusing it each trial execution.\n",
    "# objective = Objective(sci_ml_pl.dataframeloader)\n",
    "\n",
    "# # iris = sklearn.datasets.load_iris()\n",
    "# # objective = Objective(iris)"
   ]
  },
  {
   "cell_type": "code",
   "execution_count": null,
   "metadata": {},
   "outputs": [],
   "source": [
    "# study = optuna.create_study(direction=\"maximize\")\n",
    "# study.optimize(objective, n_trials=100)\n",
    "# print(study.best_trial)"
   ]
  },
  {
   "cell_type": "code",
   "execution_count": null,
   "metadata": {},
   "outputs": [
    {
     "ename": "TypeError",
     "evalue": "Can't instantiate abstract class DaskStorage with abstract methods get_study_directions, set_study_directions, set_trial_values",
     "output_type": "error",
     "traceback": [
      "\u001b[0;31m---------------------------------------------------------------------------\u001b[0m",
      "\u001b[0;31mTypeError\u001b[0m                                 Traceback (most recent call last)",
      "\u001b[0;32m/var/folders/yd/85jdd5bx59v81j8xnbhpkb3h0000gq/T/ipykernel_80605/1665796130.py\u001b[0m in \u001b[0;36m<module>\u001b[0;34m\u001b[0m\n\u001b[1;32m     10\u001b[0m \u001b[0;32mwith\u001b[0m \u001b[0mdask\u001b[0m\u001b[0;34m.\u001b[0m\u001b[0mdistributed\u001b[0m\u001b[0;34m.\u001b[0m\u001b[0mClient\u001b[0m\u001b[0;34m(\u001b[0m\u001b[0;34m)\u001b[0m \u001b[0;32mas\u001b[0m \u001b[0mclient\u001b[0m\u001b[0;34m:\u001b[0m\u001b[0;34m\u001b[0m\u001b[0;34m\u001b[0m\u001b[0m\n\u001b[1;32m     11\u001b[0m     \u001b[0;31m# Create a study using Dask-compatible storage\u001b[0m\u001b[0;34m\u001b[0m\u001b[0;34m\u001b[0m\u001b[0m\n\u001b[0;32m---> 12\u001b[0;31m     \u001b[0mstorage\u001b[0m \u001b[0;34m=\u001b[0m \u001b[0mdask_optuna\u001b[0m\u001b[0;34m.\u001b[0m\u001b[0mDaskStorage\u001b[0m\u001b[0;34m(\u001b[0m\u001b[0;34m)\u001b[0m\u001b[0;34m\u001b[0m\u001b[0;34m\u001b[0m\u001b[0m\n\u001b[0m\u001b[1;32m     13\u001b[0m     \u001b[0mstudy\u001b[0m \u001b[0;34m=\u001b[0m \u001b[0moptuna\u001b[0m\u001b[0;34m.\u001b[0m\u001b[0mcreate_study\u001b[0m\u001b[0;34m(\u001b[0m\u001b[0mstorage\u001b[0m\u001b[0;34m=\u001b[0m\u001b[0mstorage\u001b[0m\u001b[0;34m)\u001b[0m\u001b[0;34m\u001b[0m\u001b[0;34m\u001b[0m\u001b[0m\n\u001b[1;32m     14\u001b[0m     \u001b[0;31m# Optimize in parallel on your Dask cluster\u001b[0m\u001b[0;34m\u001b[0m\u001b[0;34m\u001b[0m\u001b[0m\n",
      "\u001b[0;31mTypeError\u001b[0m: Can't instantiate abstract class DaskStorage with abstract methods get_study_directions, set_study_directions, set_trial_values"
     ]
    }
   ],
   "source": [
    "# import optuna\n",
    "# import joblib\n",
    "# import dask.distributed\n",
    "# import dask_optuna\n",
    "\n",
    "# def objective(trial):\n",
    "#     x = trial.suggest_uniform(\"x\", -10, 10)\n",
    "#     return (x - 2) ** 2\n",
    "\n",
    "# with dask.distributed.Client() as client:\n",
    "#     # Create a study using Dask-compatible storage\n",
    "#     storage = dask_optuna.DaskStorage()\n",
    "#     study = optuna.create_study(storage=storage)\n",
    "#     # Optimize in parallel on your Dask cluster\n",
    "#     with joblib.parallel_backend(\"dask\"):\n",
    "#         study.optimize(objective, n_trials=100, n_jobs=-1)\n",
    "#     print(f\"best_params = {study.best_params}\")"
   ]
  },
  {
   "cell_type": "code",
   "execution_count": null,
   "metadata": {},
   "outputs": [],
   "source": [
    "optuna.visualization.plot_contour(study, params=['classifier', 'log_reg_solver'])"
   ]
  },
  {
   "cell_type": "code",
   "execution_count": null,
   "metadata": {},
   "outputs": [],
   "source": [
    "optuna.visualization.plot_optimization_history(study)"
   ]
  },
  {
   "cell_type": "code",
   "execution_count": null,
   "metadata": {},
   "outputs": [],
   "source": [
    "optuna.visualization.plot_slice(study, params=['log_reg_solver', 'rf_max_depth'])"
   ]
  },
  {
   "cell_type": "markdown",
   "metadata": {},
   "source": [
    "#### Now create the model with best params from study"
   ]
  },
  {
   "cell_type": "code",
   "execution_count": null,
   "metadata": {},
   "outputs": [],
   "source": [
    "scikit_model = LogisticRegression(solver='liblinear', random_state=42)"
   ]
  },
  {
   "cell_type": "code",
   "execution_count": null,
   "metadata": {},
   "outputs": [
    {
     "data": {
      "text/html": [
       "<style>#sk-73ccc7b7-23c8-4f0f-ab2c-6df2d16bb0bb {color: black;background-color: white;}#sk-73ccc7b7-23c8-4f0f-ab2c-6df2d16bb0bb pre{padding: 0;}#sk-73ccc7b7-23c8-4f0f-ab2c-6df2d16bb0bb div.sk-toggleable {background-color: white;}#sk-73ccc7b7-23c8-4f0f-ab2c-6df2d16bb0bb label.sk-toggleable__label {cursor: pointer;display: block;width: 100%;margin-bottom: 0;padding: 0.3em;box-sizing: border-box;text-align: center;}#sk-73ccc7b7-23c8-4f0f-ab2c-6df2d16bb0bb div.sk-toggleable__content {max-height: 0;max-width: 0;overflow: hidden;text-align: left;background-color: #f0f8ff;}#sk-73ccc7b7-23c8-4f0f-ab2c-6df2d16bb0bb div.sk-toggleable__content pre {margin: 0.2em;color: black;border-radius: 0.25em;background-color: #f0f8ff;}#sk-73ccc7b7-23c8-4f0f-ab2c-6df2d16bb0bb input.sk-toggleable__control:checked~div.sk-toggleable__content {max-height: 200px;max-width: 100%;overflow: auto;}#sk-73ccc7b7-23c8-4f0f-ab2c-6df2d16bb0bb div.sk-estimator input.sk-toggleable__control:checked~label.sk-toggleable__label {background-color: #d4ebff;}#sk-73ccc7b7-23c8-4f0f-ab2c-6df2d16bb0bb div.sk-label input.sk-toggleable__control:checked~label.sk-toggleable__label {background-color: #d4ebff;}#sk-73ccc7b7-23c8-4f0f-ab2c-6df2d16bb0bb input.sk-hidden--visually {border: 0;clip: rect(1px 1px 1px 1px);clip: rect(1px, 1px, 1px, 1px);height: 1px;margin: -1px;overflow: hidden;padding: 0;position: absolute;width: 1px;}#sk-73ccc7b7-23c8-4f0f-ab2c-6df2d16bb0bb div.sk-estimator {font-family: monospace;background-color: #f0f8ff;border: 1px dotted black;border-radius: 0.25em;box-sizing: border-box;margin-bottom: 0.5em;}#sk-73ccc7b7-23c8-4f0f-ab2c-6df2d16bb0bb div.sk-estimator:hover {background-color: #d4ebff;}#sk-73ccc7b7-23c8-4f0f-ab2c-6df2d16bb0bb div.sk-parallel-item::after {content: \"\";width: 100%;border-bottom: 1px solid gray;flex-grow: 1;}#sk-73ccc7b7-23c8-4f0f-ab2c-6df2d16bb0bb div.sk-label:hover label.sk-toggleable__label {background-color: #d4ebff;}#sk-73ccc7b7-23c8-4f0f-ab2c-6df2d16bb0bb div.sk-serial::before {content: \"\";position: absolute;border-left: 1px solid gray;box-sizing: border-box;top: 2em;bottom: 0;left: 50%;}#sk-73ccc7b7-23c8-4f0f-ab2c-6df2d16bb0bb div.sk-serial {display: flex;flex-direction: column;align-items: center;background-color: white;padding-right: 0.2em;padding-left: 0.2em;}#sk-73ccc7b7-23c8-4f0f-ab2c-6df2d16bb0bb div.sk-item {z-index: 1;}#sk-73ccc7b7-23c8-4f0f-ab2c-6df2d16bb0bb div.sk-parallel {display: flex;align-items: stretch;justify-content: center;background-color: white;}#sk-73ccc7b7-23c8-4f0f-ab2c-6df2d16bb0bb div.sk-parallel::before {content: \"\";position: absolute;border-left: 1px solid gray;box-sizing: border-box;top: 2em;bottom: 0;left: 50%;}#sk-73ccc7b7-23c8-4f0f-ab2c-6df2d16bb0bb div.sk-parallel-item {display: flex;flex-direction: column;position: relative;background-color: white;}#sk-73ccc7b7-23c8-4f0f-ab2c-6df2d16bb0bb div.sk-parallel-item:first-child::after {align-self: flex-end;width: 50%;}#sk-73ccc7b7-23c8-4f0f-ab2c-6df2d16bb0bb div.sk-parallel-item:last-child::after {align-self: flex-start;width: 50%;}#sk-73ccc7b7-23c8-4f0f-ab2c-6df2d16bb0bb div.sk-parallel-item:only-child::after {width: 0;}#sk-73ccc7b7-23c8-4f0f-ab2c-6df2d16bb0bb div.sk-dashed-wrapped {border: 1px dashed gray;margin: 0 0.4em 0.5em 0.4em;box-sizing: border-box;padding-bottom: 0.4em;background-color: white;position: relative;}#sk-73ccc7b7-23c8-4f0f-ab2c-6df2d16bb0bb div.sk-label label {font-family: monospace;font-weight: bold;background-color: white;display: inline-block;line-height: 1.2em;}#sk-73ccc7b7-23c8-4f0f-ab2c-6df2d16bb0bb div.sk-label-container {position: relative;z-index: 2;text-align: center;}#sk-73ccc7b7-23c8-4f0f-ab2c-6df2d16bb0bb div.sk-container {display: inline-block;position: relative;}</style><div id=\"sk-73ccc7b7-23c8-4f0f-ab2c-6df2d16bb0bb\" class\"sk-top-container\"><div class=\"sk-container\"><div class=\"sk-item sk-dashed-wrapped\"><div class=\"sk-label-container\"><div class=\"sk-label sk-toggleable\"><input class=\"sk-toggleable__control sk-hidden--visually\" id=\"c59fe889-7f4d-4650-a029-edd6bf596cd0\" type=\"checkbox\" ><label class=\"sk-toggleable__label\" for=\"c59fe889-7f4d-4650-a029-edd6bf596cd0\">Pipeline</label><div class=\"sk-toggleable__content\"><pre>Pipeline(steps=[('preprocessor',\n",
       "                 ColumnTransformer(transformers=[('num',\n",
       "                                                  Pipeline(steps=[('imputer',\n",
       "                                                                   SimpleImputer(strategy='median')),\n",
       "                                                                  ('scaler',\n",
       "                                                                   StandardScaler())]),\n",
       "                                                  ['f0', 'f1', 'f2', 'f3', 'f4',\n",
       "                                                   'f5', 'f6', 'f7', 'f8', 'f9',\n",
       "                                                   'f10', 'f11', 'f12', 'f13',\n",
       "                                                   'f14', 'f15', 'f16', 'f17',\n",
       "                                                   'f18', 'f19', 'f20', 'f21',\n",
       "                                                   'f22', 'f23', 'f24', 'f25',\n",
       "                                                   'f26', 'f27', 'f28', 'f29', ...]),\n",
       "                                                 ('low_cad_cat',\n",
       "                                                  Pipeline(steps=[('imputer',\n",
       "                                                                   SimpleImputer(strategy='constant')),\n",
       "                                                                  ('onehot',\n",
       "                                                                   OneHotEncoder(handle_unknown='ignore'))]),\n",
       "                                                  [])])),\n",
       "                ('model',\n",
       "                 LogisticRegression(random_state=42, solver='liblinear'))])</pre></div></div></div><div class=\"sk-serial\"><div class=\"sk-item sk-dashed-wrapped\"><div class=\"sk-label-container\"><div class=\"sk-label sk-toggleable\"><input class=\"sk-toggleable__control sk-hidden--visually\" id=\"e3e87347-ab84-4145-872e-fda3b7487d5b\" type=\"checkbox\" ><label class=\"sk-toggleable__label\" for=\"e3e87347-ab84-4145-872e-fda3b7487d5b\">preprocessor: ColumnTransformer</label><div class=\"sk-toggleable__content\"><pre>ColumnTransformer(transformers=[('num',\n",
       "                                 Pipeline(steps=[('imputer',\n",
       "                                                  SimpleImputer(strategy='median')),\n",
       "                                                 ('scaler', StandardScaler())]),\n",
       "                                 ['f0', 'f1', 'f2', 'f3', 'f4', 'f5', 'f6',\n",
       "                                  'f7', 'f8', 'f9', 'f10', 'f11', 'f12', 'f13',\n",
       "                                  'f14', 'f15', 'f16', 'f17', 'f18', 'f19',\n",
       "                                  'f20', 'f21', 'f22', 'f23', 'f24', 'f25',\n",
       "                                  'f26', 'f27', 'f28', 'f29', ...]),\n",
       "                                ('low_cad_cat',\n",
       "                                 Pipeline(steps=[('imputer',\n",
       "                                                  SimpleImputer(strategy='constant')),\n",
       "                                                 ('onehot',\n",
       "                                                  OneHotEncoder(handle_unknown='ignore'))]),\n",
       "                                 [])])</pre></div></div></div><div class=\"sk-parallel\"><div class=\"sk-parallel-item\"><div class=\"sk-item\"><div class=\"sk-label-container\"><div class=\"sk-label sk-toggleable\"><input class=\"sk-toggleable__control sk-hidden--visually\" id=\"df581194-4b37-41a1-a857-d26e1fb46213\" type=\"checkbox\" ><label class=\"sk-toggleable__label\" for=\"df581194-4b37-41a1-a857-d26e1fb46213\">num</label><div class=\"sk-toggleable__content\"><pre>['f0', 'f1', 'f2', 'f3', 'f4', 'f5', 'f6', 'f7', 'f8', 'f9', 'f10', 'f11', 'f12', 'f13', 'f14', 'f15', 'f16', 'f17', 'f18', 'f19', 'f20', 'f21', 'f22', 'f23', 'f24', 'f25', 'f26', 'f27', 'f28', 'f29', 'f30', 'f31', 'f32', 'f33', 'f34', 'f35', 'f36', 'f37', 'f38', 'f39', 'f40', 'f41', 'f42', 'f43', 'f44', 'f45', 'f46', 'f47', 'f48', 'f49', 'f50', 'f51', 'f52', 'f53', 'f54', 'f55', 'f56', 'f57', 'f58', 'f59', 'f60', 'f61', 'f62', 'f63', 'f64', 'f65', 'f66', 'f67', 'f68', 'f69', 'f70', 'f71', 'f72', 'f73', 'f74', 'f75', 'f76', 'f77', 'f78', 'f79', 'f80', 'f81', 'f82', 'f83', 'f84', 'f85', 'f86', 'f87', 'f88', 'f89', 'f90', 'f91', 'f92', 'f93', 'f94', 'f95', 'f96', 'f97', 'f98', 'f99']</pre></div></div></div><div class=\"sk-serial\"><div class=\"sk-item\"><div class=\"sk-serial\"><div class=\"sk-item\"><div class=\"sk-estimator sk-toggleable\"><input class=\"sk-toggleable__control sk-hidden--visually\" id=\"fe76f8e4-035f-4e1b-a9de-c5953e632ec2\" type=\"checkbox\" ><label class=\"sk-toggleable__label\" for=\"fe76f8e4-035f-4e1b-a9de-c5953e632ec2\">SimpleImputer</label><div class=\"sk-toggleable__content\"><pre>SimpleImputer(strategy='median')</pre></div></div></div><div class=\"sk-item\"><div class=\"sk-estimator sk-toggleable\"><input class=\"sk-toggleable__control sk-hidden--visually\" id=\"ad928ae6-7ef3-478f-b842-2e68329d5710\" type=\"checkbox\" ><label class=\"sk-toggleable__label\" for=\"ad928ae6-7ef3-478f-b842-2e68329d5710\">StandardScaler</label><div class=\"sk-toggleable__content\"><pre>StandardScaler()</pre></div></div></div></div></div></div></div></div><div class=\"sk-parallel-item\"><div class=\"sk-item\"><div class=\"sk-label-container\"><div class=\"sk-label sk-toggleable\"><input class=\"sk-toggleable__control sk-hidden--visually\" id=\"11bd883f-4c10-4b83-9374-67143ff5c20d\" type=\"checkbox\" ><label class=\"sk-toggleable__label\" for=\"11bd883f-4c10-4b83-9374-67143ff5c20d\">low_cad_cat</label><div class=\"sk-toggleable__content\"><pre>[]</pre></div></div></div><div class=\"sk-serial\"><div class=\"sk-item\"><div class=\"sk-serial\"><div class=\"sk-item\"><div class=\"sk-estimator sk-toggleable\"><input class=\"sk-toggleable__control sk-hidden--visually\" id=\"57127136-d847-4370-9281-ea1d636d0c79\" type=\"checkbox\" ><label class=\"sk-toggleable__label\" for=\"57127136-d847-4370-9281-ea1d636d0c79\">SimpleImputer</label><div class=\"sk-toggleable__content\"><pre>SimpleImputer(strategy='constant')</pre></div></div></div><div class=\"sk-item\"><div class=\"sk-estimator sk-toggleable\"><input class=\"sk-toggleable__control sk-hidden--visually\" id=\"f2273b69-ddf0-4545-8927-ad61bbb41abe\" type=\"checkbox\" ><label class=\"sk-toggleable__label\" for=\"f2273b69-ddf0-4545-8927-ad61bbb41abe\">OneHotEncoder</label><div class=\"sk-toggleable__content\"><pre>OneHotEncoder(handle_unknown='ignore')</pre></div></div></div></div></div></div></div></div></div></div><div class=\"sk-item\"><div class=\"sk-estimator sk-toggleable\"><input class=\"sk-toggleable__control sk-hidden--visually\" id=\"82b17aea-258a-45d7-b6eb-38057128b5af\" type=\"checkbox\" ><label class=\"sk-toggleable__label\" for=\"82b17aea-258a-45d7-b6eb-38057128b5af\">LogisticRegression</label><div class=\"sk-toggleable__content\"><pre>LogisticRegression(random_state=42, solver='liblinear')</pre></div></div></div></div></div></div></div>"
      ],
      "text/plain": [
       "Pipeline(steps=[('preprocessor',\n",
       "                 ColumnTransformer(transformers=[('num',\n",
       "                                                  Pipeline(steps=[('imputer',\n",
       "                                                                   SimpleImputer(strategy='median')),\n",
       "                                                                  ('scaler',\n",
       "                                                                   StandardScaler())]),\n",
       "                                                  ['f0', 'f1', 'f2', 'f3', 'f4',\n",
       "                                                   'f5', 'f6', 'f7', 'f8', 'f9',\n",
       "                                                   'f10', 'f11', 'f12', 'f13',\n",
       "                                                   'f14', 'f15', 'f16', 'f17',\n",
       "                                                   'f18', 'f19', 'f20', 'f21',\n",
       "                                                   'f22', 'f23', 'f24', 'f25',\n",
       "                                                   'f26', 'f27', 'f28', 'f29', ...]),\n",
       "                                                 ('low_cad_cat',\n",
       "                                                  Pipeline(steps=[('imputer',\n",
       "                                                                   SimpleImputer(strategy='constant')),\n",
       "                                                                  ('onehot',\n",
       "                                                                   OneHotEncoder(handle_unknown='ignore'))]),\n",
       "                                                  [])])),\n",
       "                ('model',\n",
       "                 LogisticRegression(random_state=42, solver='liblinear'))])"
      ]
     },
     "execution_count": null,
     "metadata": {},
     "output_type": "execute_result"
    }
   ],
   "source": [
    "# for visualizing pipeline\n",
    "from sklearn import set_config\n",
    "\n",
    "set_config(display=\"diagram\")\n",
    "sci_ml_pl.scikit_pipeline"
   ]
  },
  {
   "cell_type": "code",
   "execution_count": null,
   "metadata": {},
   "outputs": [
    {
     "ename": "AttributeError",
     "evalue": "'NoneType' object has no attribute 'shape'",
     "output_type": "error",
     "traceback": [
      "\u001b[0;31m---------------------------------------------------------------------------\u001b[0m",
      "\u001b[0;31mAttributeError\u001b[0m                            Traceback (most recent call last)",
      "\u001b[0;32m/var/folders/yd/85jdd5bx59v81j8xnbhpkb3h0000gq/T/ipykernel_81641/452093783.py\u001b[0m in \u001b[0;36m<module>\u001b[0;34m\u001b[0m\n\u001b[1;32m      1\u001b[0m \u001b[0;31m# Quick check on dataframe shapes\u001b[0m\u001b[0;34m\u001b[0m\u001b[0;34m\u001b[0m\u001b[0m\n\u001b[0;32m----> 2\u001b[0;31m \u001b[0mprint\u001b[0m\u001b[0;34m(\u001b[0m\u001b[0;34mf\"X_train shape is {sci_ml_pl.dataframeloader.X_train.shape}\"\u001b[0m \u001b[0;34m)\u001b[0m\u001b[0;34m\u001b[0m\u001b[0;34m\u001b[0m\u001b[0m\n\u001b[0m\u001b[1;32m      3\u001b[0m \u001b[0mprint\u001b[0m\u001b[0;34m(\u001b[0m\u001b[0;34mf\"X_valid shape is {sci_ml_pl.dataframeloader.X_valid.shape}\"\u001b[0m \u001b[0;34m)\u001b[0m\u001b[0;34m\u001b[0m\u001b[0;34m\u001b[0m\u001b[0m\n\u001b[1;32m      4\u001b[0m \u001b[0mprint\u001b[0m\u001b[0;34m(\u001b[0m\u001b[0;34mf\"y_train shape is {sci_ml_pl.dataframeloader.y_train.shape}\"\u001b[0m\u001b[0;34m)\u001b[0m\u001b[0;34m\u001b[0m\u001b[0;34m\u001b[0m\u001b[0m\n\u001b[1;32m      5\u001b[0m \u001b[0mprint\u001b[0m\u001b[0;34m(\u001b[0m\u001b[0;34mf\"y_valid shape is {sci_ml_pl.dataframeloader.y_valid.shape}\"\u001b[0m\u001b[0;34m)\u001b[0m\u001b[0;34m\u001b[0m\u001b[0;34m\u001b[0m\u001b[0m\n",
      "\u001b[0;31mAttributeError\u001b[0m: 'NoneType' object has no attribute 'shape'"
     ]
    }
   ],
   "source": [
    "# Quick check on dataframe shapes\n",
    "print(f\"X_train shape is {sci_ml_pl.dataframeloader.X_train.shape}\" )\n",
    "print(f\"X_valid shape is {sci_ml_pl.dataframeloader.X_valid.shape}\" )\n",
    "print(f\"y_train shape is {sci_ml_pl.dataframeloader.y_train.shape}\")\n",
    "print(f\"y_valid shape is {sci_ml_pl.dataframeloader.y_valid.shape}\")\n"
   ]
  },
  {
   "cell_type": "code",
   "execution_count": null,
   "metadata": {},
   "outputs": [],
   "source": [
    "# Fit & Predict\n",
    "sci_ml_pl.scikit_pipeline.fit(sci_ml_pl.dataframeloader.X_train, sci_ml_pl.dataframeloader.y_train)\n",
    "preds = sci_ml_pl.scikit_pipeline.predict(sci_ml_pl.dataframeloader.X_valid)\n",
    "preds_probs = sci_ml_pl.scikit_pipeline.predict_proba(sci_ml_pl.dataframeloader.X_valid)[:, 1]"
   ]
  },
  {
   "cell_type": "code",
   "execution_count": null,
   "metadata": {},
   "outputs": [],
   "source": [
    "# quick check on predictions and predictions probabilities shape\n",
    "print(f\"preds shape is {preds.shape}\" )\n",
    "print(f\"preds_probs shape is {preds_probs.shape}\" )"
   ]
  },
  {
   "cell_type": "code",
   "execution_count": null,
   "metadata": {},
   "outputs": [],
   "source": [
    "# Metrics\n",
    "auc = roc_auc_score(sci_ml_pl.dataframeloader.y_valid, preds_probs)\n",
    "acc = accuracy_score(sci_ml_pl.dataframeloader.y_valid, preds)\n",
    "\n",
    "print(f\"AUC is : {auc} while Accuracy is : {acc} \")"
   ]
  },
  {
   "cell_type": "markdown",
   "metadata": {},
   "source": [
    "In background `prepare_data_for_training` and `prepare_data_for_cv`  methods loads your input data into Pandas DataFrame, seprates X(features) and y(target).\n",
    "\n",
    "Then `prepare_data_for_training` methods split X(features) into X_train, y_train, X_valid and y_valid DataFrames.\n",
    "However, `prepare_data_for_cv`  method do not split but let's cross validation split internally X and y DataFrames.\n",
    "\n",
    "Then both methods preprocess all numerical and categorical type data found in these DataFrames using scikit-learn pipelines. Then it bundle preprocessed data with your given model and return an MLPipeline object, this class instance has dataframeloader, preprocessor and scikit-lean pipeline instances, so you can call fit methods on X_train and y_train and predict methods on X_valid or X_test.\n",
    "\n",
    "Please check detail documentation and source code for more details."
   ]
  },
  {
   "cell_type": "markdown",
   "metadata": {},
   "source": [
    "*NOTE: If you want to customize data and preprocessing steps you can do so by using `DataFrameLoader` and `PreProessor` classes. Check detail documentations for these classes for more options.*"
   ]
  },
  {
   "cell_type": "markdown",
   "metadata": {},
   "source": [
    "#### Let's Use XGBosst on MLPipeline"
   ]
  },
  {
   "cell_type": "markdown",
   "metadata": {},
   "source": [
    "*You can also use MLPipeline with XGBoost model, Just make sure to install XGBooost first depending upon your OS.*\n",
    "\n",
    "*After that all steps remains same. Here is example using XGBRegressor with [Melbourne Home Sale price data](https://www.kaggle.com/estrotococo/home-data-for-ml-course)*"
   ]
  },
  {
   "cell_type": "code",
   "execution_count": null,
   "metadata": {},
   "outputs": [],
   "source": [
    "#!pip install -U xgboost"
   ]
  },
  {
   "cell_type": "code",
   "execution_count": null,
   "metadata": {},
   "outputs": [],
   "source": [
    "# Best way to install xgboost if you are on macosx and windows machine is using conda\n",
    "# !conda install -c conda-forge xgboost"
   ]
  },
  {
   "cell_type": "code",
   "execution_count": null,
   "metadata": {},
   "outputs": [],
   "source": [
    "# set xgb_params\n",
    "xgb_params = {\n",
    "    'n_estimators': 1000,\n",
    "    'learning_rate': 0.01,\n",
    "#     'max_depth': 9,\n",
    "    'booster': 'gbtree',\n",
    "    'eval_metric': 'auc',\n",
    "#     'tree_method': 'gpu_hist',\n",
    "#     'predictor': 'gpu_predictor',\n",
    "    'use_label_encoder': False,\n",
    "    'random_state': 42\n",
    "}"
   ]
  },
  {
   "cell_type": "code",
   "execution_count": null,
   "metadata": {},
   "outputs": [],
   "source": [
    "from xgboost import XGBClassifier\n",
    "# create xgb Classifier model\n",
    "xgb_model = XGBClassifier(**xgb_params)"
   ]
  },
  {
   "cell_type": "code",
   "execution_count": null,
   "metadata": {},
   "outputs": [],
   "source": [
    "# createm ml pipeline for xgb model\n",
    "xgb_ml_pl = MLPipeline().prepare_data_for_training(\n",
    "    train_file_path= DIRECTORY_PATH+TRAIN_FILE,\n",
    "    test_file_path= DIRECTORY_PATH+TEST_FILE,\n",
    "    #make sure to use right index and target column\n",
    "    idx_col=\"id\",\n",
    "    target=\"target\",\n",
    "    model=xgb_model,\n",
    "    random_state=42,\n",
    "    valid_size=0.2)"
   ]
  },
  {
   "cell_type": "code",
   "execution_count": null,
   "metadata": {},
   "outputs": [],
   "source": [
    "# for visualizing pipeline\n",
    "from sklearn import set_config\n",
    "\n",
    "set_config(display=\"diagram\")\n",
    "xgb_ml_pl.scikit_pipeline"
   ]
  },
  {
   "cell_type": "code",
   "execution_count": null,
   "metadata": {},
   "outputs": [],
   "source": [
    "# Fit & Predict\n",
    "xgb_ml_pl.scikit_pipeline.fit(xgb_ml_pl.dataframeloader.X_train,\n",
    "                              xgb_ml_pl.dataframeloader.y_train)\n",
    "preds = xgb_ml_pl.scikit_pipeline.predict(xgb_ml_pl.dataframeloader.X_valid)\n",
    "preds_probs = xgb_ml_pl.scikit_pipeline.predict_proba(xgb_ml_pl.dataframeloader.X_valid)[:, 1]"
   ]
  },
  {
   "cell_type": "code",
   "execution_count": null,
   "metadata": {},
   "outputs": [],
   "source": [
    "# Metrics\n",
    "auc = roc_auc_score(xgb_ml_pl.dataframeloader.y_valid, preds_probs)\n",
    "acc = accuracy_score(xgb_ml_pl.dataframeloader.y_valid, preds)\n",
    "\n",
    "print(f\"AUC is : {auc} while Accuracy is : {acc} \")"
   ]
  },
  {
   "cell_type": "markdown",
   "metadata": {},
   "source": [
    "#### Let's do Grid Search for HyperParameters Tunning for Scikit Model on our MLPipeline"
   ]
  },
  {
   "cell_type": "code",
   "execution_count": null,
   "metadata": {},
   "outputs": [],
   "source": [
    "# create blanket scikit-learn LogisticRegression model\n",
    "scikit_model = LogisticRegression(solver='liblinear', random_state=42)\n",
    "\n",
    "# createm ml pipeline for scikit-learn model\n",
    "sci_ml_pl = MLPipeline().prepare_data_for_cv(\n",
    "    train_file_path= DIRECTORY_PATH+TRAIN_FILE,\n",
    "    test_file_path= DIRECTORY_PATH+TEST_FILE,\n",
    "    idx_col=\"id\",\n",
    "    target=\"target\",\n",
    "    model=scikit_model,\n",
    "    random_state=42,\n",
    "    cv_cols_type = \"all\") #cv_cols_type = all|num|cat"
   ]
  },
  {
   "cell_type": "code",
   "execution_count": null,
   "metadata": {},
   "outputs": [],
   "source": [
    "# for visualizing pipeline\n",
    "from sklearn import set_config\n",
    "\n",
    "set_config(display=\"diagram\")\n",
    "sci_ml_pl.scikit_pipeline"
   ]
  },
  {
   "cell_type": "code",
   "execution_count": null,
   "metadata": {},
   "outputs": [],
   "source": [
    "param_grid = {\n",
    "#     \"preprocessor__num__imputer__strategy\": [\"constant\", \"mean\", \"median\"],\n",
    "#     \"preprocessor__low_cad_cat__imputer__strategy\": [\"most_frequent\", \"constant\"],\n",
    "    \"model__solver\": [\"newton-cg\", \"lbfgs\", \"liblinear\"]\n",
    "}\n",
    "\n",
    "grid_search = sci_ml_pl.do_grid_search(param_grid=param_grid, cv=5,\n",
    "                                       scoring='roc_auc')\n",
    "\n",
    "print(\"Best params:\")\n",
    "print(grid_search.best_params_)\n",
    "\n",
    "print(f\"Internal CV Metrics score: {-1*(grid_search.best_score_):.3f}\")"
   ]
  },
  {
   "cell_type": "markdown",
   "metadata": {},
   "source": [
    "#### Let's Use K-Fold Training with best params from grid search"
   ]
  },
  {
   "cell_type": "code",
   "execution_count": null,
   "metadata": {},
   "outputs": [],
   "source": [
    "# create scikit-learn LosisticRegression model with best params from grid search\n",
    "scikit_model = LogisticRegression(solver='liblinear',\n",
    "                                  random_state=42)"
   ]
  },
  {
   "cell_type": "code",
   "execution_count": null,
   "metadata": {},
   "outputs": [],
   "source": [
    "# createm ml pipeline for scikit-learn model\n",
    "sci_ml_pl = MLPipeline().prepare_data_for_k_fold(\n",
    "    train_file_path= DIRECTORY_PATH+TRAIN_FILE,\n",
    "    test_file_path= DIRECTORY_PATH+TEST_FILE,\n",
    "    idx_col=\"id\",\n",
    "    target=\"target\",\n",
    "    model=scikit_model,\n",
    "    random_state=42)"
   ]
  },
  {
   "cell_type": "code",
   "execution_count": null,
   "metadata": {},
   "outputs": [
    {
     "data": {
      "text/html": [
       "<style>#sk-b2c67f10-1fc2-494b-af25-b656b6e229df {color: black;background-color: white;}#sk-b2c67f10-1fc2-494b-af25-b656b6e229df pre{padding: 0;}#sk-b2c67f10-1fc2-494b-af25-b656b6e229df div.sk-toggleable {background-color: white;}#sk-b2c67f10-1fc2-494b-af25-b656b6e229df label.sk-toggleable__label {cursor: pointer;display: block;width: 100%;margin-bottom: 0;padding: 0.3em;box-sizing: border-box;text-align: center;}#sk-b2c67f10-1fc2-494b-af25-b656b6e229df div.sk-toggleable__content {max-height: 0;max-width: 0;overflow: hidden;text-align: left;background-color: #f0f8ff;}#sk-b2c67f10-1fc2-494b-af25-b656b6e229df div.sk-toggleable__content pre {margin: 0.2em;color: black;border-radius: 0.25em;background-color: #f0f8ff;}#sk-b2c67f10-1fc2-494b-af25-b656b6e229df input.sk-toggleable__control:checked~div.sk-toggleable__content {max-height: 200px;max-width: 100%;overflow: auto;}#sk-b2c67f10-1fc2-494b-af25-b656b6e229df div.sk-estimator input.sk-toggleable__control:checked~label.sk-toggleable__label {background-color: #d4ebff;}#sk-b2c67f10-1fc2-494b-af25-b656b6e229df div.sk-label input.sk-toggleable__control:checked~label.sk-toggleable__label {background-color: #d4ebff;}#sk-b2c67f10-1fc2-494b-af25-b656b6e229df input.sk-hidden--visually {border: 0;clip: rect(1px 1px 1px 1px);clip: rect(1px, 1px, 1px, 1px);height: 1px;margin: -1px;overflow: hidden;padding: 0;position: absolute;width: 1px;}#sk-b2c67f10-1fc2-494b-af25-b656b6e229df div.sk-estimator {font-family: monospace;background-color: #f0f8ff;border: 1px dotted black;border-radius: 0.25em;box-sizing: border-box;margin-bottom: 0.5em;}#sk-b2c67f10-1fc2-494b-af25-b656b6e229df div.sk-estimator:hover {background-color: #d4ebff;}#sk-b2c67f10-1fc2-494b-af25-b656b6e229df div.sk-parallel-item::after {content: \"\";width: 100%;border-bottom: 1px solid gray;flex-grow: 1;}#sk-b2c67f10-1fc2-494b-af25-b656b6e229df div.sk-label:hover label.sk-toggleable__label {background-color: #d4ebff;}#sk-b2c67f10-1fc2-494b-af25-b656b6e229df div.sk-serial::before {content: \"\";position: absolute;border-left: 1px solid gray;box-sizing: border-box;top: 2em;bottom: 0;left: 50%;}#sk-b2c67f10-1fc2-494b-af25-b656b6e229df div.sk-serial {display: flex;flex-direction: column;align-items: center;background-color: white;padding-right: 0.2em;padding-left: 0.2em;}#sk-b2c67f10-1fc2-494b-af25-b656b6e229df div.sk-item {z-index: 1;}#sk-b2c67f10-1fc2-494b-af25-b656b6e229df div.sk-parallel {display: flex;align-items: stretch;justify-content: center;background-color: white;}#sk-b2c67f10-1fc2-494b-af25-b656b6e229df div.sk-parallel::before {content: \"\";position: absolute;border-left: 1px solid gray;box-sizing: border-box;top: 2em;bottom: 0;left: 50%;}#sk-b2c67f10-1fc2-494b-af25-b656b6e229df div.sk-parallel-item {display: flex;flex-direction: column;position: relative;background-color: white;}#sk-b2c67f10-1fc2-494b-af25-b656b6e229df div.sk-parallel-item:first-child::after {align-self: flex-end;width: 50%;}#sk-b2c67f10-1fc2-494b-af25-b656b6e229df div.sk-parallel-item:last-child::after {align-self: flex-start;width: 50%;}#sk-b2c67f10-1fc2-494b-af25-b656b6e229df div.sk-parallel-item:only-child::after {width: 0;}#sk-b2c67f10-1fc2-494b-af25-b656b6e229df div.sk-dashed-wrapped {border: 1px dashed gray;margin: 0 0.4em 0.5em 0.4em;box-sizing: border-box;padding-bottom: 0.4em;background-color: white;position: relative;}#sk-b2c67f10-1fc2-494b-af25-b656b6e229df div.sk-label label {font-family: monospace;font-weight: bold;background-color: white;display: inline-block;line-height: 1.2em;}#sk-b2c67f10-1fc2-494b-af25-b656b6e229df div.sk-label-container {position: relative;z-index: 2;text-align: center;}#sk-b2c67f10-1fc2-494b-af25-b656b6e229df div.sk-container {display: inline-block;position: relative;}</style><div id=\"sk-b2c67f10-1fc2-494b-af25-b656b6e229df\" class\"sk-top-container\"><div class=\"sk-container\"><div class=\"sk-item sk-dashed-wrapped\"><div class=\"sk-label-container\"><div class=\"sk-label sk-toggleable\"><input class=\"sk-toggleable__control sk-hidden--visually\" id=\"54f7d68b-a1a9-4f1a-a55b-05ebc2c9ef0c\" type=\"checkbox\" ><label class=\"sk-toggleable__label\" for=\"54f7d68b-a1a9-4f1a-a55b-05ebc2c9ef0c\">Pipeline</label><div class=\"sk-toggleable__content\"><pre>Pipeline(steps=[('preprocessor',\n",
       "                 ColumnTransformer(transformers=[('num',\n",
       "                                                  Pipeline(steps=[('imputer',\n",
       "                                                                   SimpleImputer(strategy='median')),\n",
       "                                                                  ('scaler',\n",
       "                                                                   StandardScaler())]),\n",
       "                                                  ['f0', 'f1', 'f2', 'f3', 'f4',\n",
       "                                                   'f5', 'f6', 'f7', 'f8', 'f9',\n",
       "                                                   'f10', 'f11', 'f12', 'f13',\n",
       "                                                   'f14', 'f15', 'f16', 'f17',\n",
       "                                                   'f18', 'f19', 'f20', 'f21',\n",
       "                                                   'f22', 'f23', 'f24', 'f25',\n",
       "                                                   'f26', 'f27', 'f28', 'f29', ...]),\n",
       "                                                 ('low_cad_cat',\n",
       "                                                  Pipeline(steps=[('imputer',\n",
       "                                                                   SimpleImputer(strategy='constant')),\n",
       "                                                                  ('onehot',\n",
       "                                                                   OneHotEncoder(handle_unknown='ignore'))]),\n",
       "                                                  [])])),\n",
       "                ('model',\n",
       "                 LogisticRegression(random_state=42, solver='liblinear'))])</pre></div></div></div><div class=\"sk-serial\"><div class=\"sk-item sk-dashed-wrapped\"><div class=\"sk-label-container\"><div class=\"sk-label sk-toggleable\"><input class=\"sk-toggleable__control sk-hidden--visually\" id=\"d8be425f-2d77-4241-b0af-fa0128904602\" type=\"checkbox\" ><label class=\"sk-toggleable__label\" for=\"d8be425f-2d77-4241-b0af-fa0128904602\">preprocessor: ColumnTransformer</label><div class=\"sk-toggleable__content\"><pre>ColumnTransformer(transformers=[('num',\n",
       "                                 Pipeline(steps=[('imputer',\n",
       "                                                  SimpleImputer(strategy='median')),\n",
       "                                                 ('scaler', StandardScaler())]),\n",
       "                                 ['f0', 'f1', 'f2', 'f3', 'f4', 'f5', 'f6',\n",
       "                                  'f7', 'f8', 'f9', 'f10', 'f11', 'f12', 'f13',\n",
       "                                  'f14', 'f15', 'f16', 'f17', 'f18', 'f19',\n",
       "                                  'f20', 'f21', 'f22', 'f23', 'f24', 'f25',\n",
       "                                  'f26', 'f27', 'f28', 'f29', ...]),\n",
       "                                ('low_cad_cat',\n",
       "                                 Pipeline(steps=[('imputer',\n",
       "                                                  SimpleImputer(strategy='constant')),\n",
       "                                                 ('onehot',\n",
       "                                                  OneHotEncoder(handle_unknown='ignore'))]),\n",
       "                                 [])])</pre></div></div></div><div class=\"sk-parallel\"><div class=\"sk-parallel-item\"><div class=\"sk-item\"><div class=\"sk-label-container\"><div class=\"sk-label sk-toggleable\"><input class=\"sk-toggleable__control sk-hidden--visually\" id=\"2c103b9b-b143-4eb9-bd86-387f2b3b99f1\" type=\"checkbox\" ><label class=\"sk-toggleable__label\" for=\"2c103b9b-b143-4eb9-bd86-387f2b3b99f1\">num</label><div class=\"sk-toggleable__content\"><pre>['f0', 'f1', 'f2', 'f3', 'f4', 'f5', 'f6', 'f7', 'f8', 'f9', 'f10', 'f11', 'f12', 'f13', 'f14', 'f15', 'f16', 'f17', 'f18', 'f19', 'f20', 'f21', 'f22', 'f23', 'f24', 'f25', 'f26', 'f27', 'f28', 'f29', 'f30', 'f31', 'f32', 'f33', 'f34', 'f35', 'f36', 'f37', 'f38', 'f39', 'f40', 'f41', 'f42', 'f43', 'f44', 'f45', 'f46', 'f47', 'f48', 'f49', 'f50', 'f51', 'f52', 'f53', 'f54', 'f55', 'f56', 'f57', 'f58', 'f59', 'f60', 'f61', 'f62', 'f63', 'f64', 'f65', 'f66', 'f67', 'f68', 'f69', 'f70', 'f71', 'f72', 'f73', 'f74', 'f75', 'f76', 'f77', 'f78', 'f79', 'f80', 'f81', 'f82', 'f83', 'f84', 'f85', 'f86', 'f87', 'f88', 'f89', 'f90', 'f91', 'f92', 'f93', 'f94', 'f95', 'f96', 'f97', 'f98', 'f99']</pre></div></div></div><div class=\"sk-serial\"><div class=\"sk-item\"><div class=\"sk-serial\"><div class=\"sk-item\"><div class=\"sk-estimator sk-toggleable\"><input class=\"sk-toggleable__control sk-hidden--visually\" id=\"f14b4811-f344-43c2-9cc1-7abae12e0794\" type=\"checkbox\" ><label class=\"sk-toggleable__label\" for=\"f14b4811-f344-43c2-9cc1-7abae12e0794\">SimpleImputer</label><div class=\"sk-toggleable__content\"><pre>SimpleImputer(strategy='median')</pre></div></div></div><div class=\"sk-item\"><div class=\"sk-estimator sk-toggleable\"><input class=\"sk-toggleable__control sk-hidden--visually\" id=\"3fbe1525-b447-4d96-8533-15d369308700\" type=\"checkbox\" ><label class=\"sk-toggleable__label\" for=\"3fbe1525-b447-4d96-8533-15d369308700\">StandardScaler</label><div class=\"sk-toggleable__content\"><pre>StandardScaler()</pre></div></div></div></div></div></div></div></div><div class=\"sk-parallel-item\"><div class=\"sk-item\"><div class=\"sk-label-container\"><div class=\"sk-label sk-toggleable\"><input class=\"sk-toggleable__control sk-hidden--visually\" id=\"0aed6d9c-66ac-4032-9298-6e155907a0ee\" type=\"checkbox\" ><label class=\"sk-toggleable__label\" for=\"0aed6d9c-66ac-4032-9298-6e155907a0ee\">low_cad_cat</label><div class=\"sk-toggleable__content\"><pre>[]</pre></div></div></div><div class=\"sk-serial\"><div class=\"sk-item\"><div class=\"sk-serial\"><div class=\"sk-item\"><div class=\"sk-estimator sk-toggleable\"><input class=\"sk-toggleable__control sk-hidden--visually\" id=\"867d5d42-2eb4-429a-a2bf-cc54ed493bb7\" type=\"checkbox\" ><label class=\"sk-toggleable__label\" for=\"867d5d42-2eb4-429a-a2bf-cc54ed493bb7\">SimpleImputer</label><div class=\"sk-toggleable__content\"><pre>SimpleImputer(strategy='constant')</pre></div></div></div><div class=\"sk-item\"><div class=\"sk-estimator sk-toggleable\"><input class=\"sk-toggleable__control sk-hidden--visually\" id=\"639ca950-2b95-44cd-bf30-ed3fe85da4e9\" type=\"checkbox\" ><label class=\"sk-toggleable__label\" for=\"639ca950-2b95-44cd-bf30-ed3fe85da4e9\">OneHotEncoder</label><div class=\"sk-toggleable__content\"><pre>OneHotEncoder(handle_unknown='ignore')</pre></div></div></div></div></div></div></div></div></div></div><div class=\"sk-item\"><div class=\"sk-estimator sk-toggleable\"><input class=\"sk-toggleable__control sk-hidden--visually\" id=\"4a686339-53a1-4790-8471-0c0aeada84c7\" type=\"checkbox\" ><label class=\"sk-toggleable__label\" for=\"4a686339-53a1-4790-8471-0c0aeada84c7\">LogisticRegression</label><div class=\"sk-toggleable__content\"><pre>LogisticRegression(random_state=42, solver='liblinear')</pre></div></div></div></div></div></div></div>"
      ],
      "text/plain": [
       "Pipeline(steps=[('preprocessor',\n",
       "                 ColumnTransformer(transformers=[('num',\n",
       "                                                  Pipeline(steps=[('imputer',\n",
       "                                                                   SimpleImputer(strategy='median')),\n",
       "                                                                  ('scaler',\n",
       "                                                                   StandardScaler())]),\n",
       "                                                  ['f0', 'f1', 'f2', 'f3', 'f4',\n",
       "                                                   'f5', 'f6', 'f7', 'f8', 'f9',\n",
       "                                                   'f10', 'f11', 'f12', 'f13',\n",
       "                                                   'f14', 'f15', 'f16', 'f17',\n",
       "                                                   'f18', 'f19', 'f20', 'f21',\n",
       "                                                   'f22', 'f23', 'f24', 'f25',\n",
       "                                                   'f26', 'f27', 'f28', 'f29', ...]),\n",
       "                                                 ('low_cad_cat',\n",
       "                                                  Pipeline(steps=[('imputer',\n",
       "                                                                   SimpleImputer(strategy='constant')),\n",
       "                                                                  ('onehot',\n",
       "                                                                   OneHotEncoder(handle_unknown='ignore'))]),\n",
       "                                                  [])])),\n",
       "                ('model',\n",
       "                 LogisticRegression(random_state=42, solver='liblinear'))])"
      ]
     },
     "execution_count": null,
     "metadata": {},
     "output_type": "execute_result"
    }
   ],
   "source": [
    "# for visualizing pipeline\n",
    "from sklearn import set_config\n",
    "\n",
    "set_config(display=\"diagram\")\n",
    "sci_ml_pl.scikit_pipeline"
   ]
  },
  {
   "cell_type": "code",
   "execution_count": null,
   "metadata": {},
   "outputs": [
    {
     "data": {
      "text/html": [
       "<div>\n",
       "<style scoped>\n",
       "    .dataframe tbody tr th:only-of-type {\n",
       "        vertical-align: middle;\n",
       "    }\n",
       "\n",
       "    .dataframe tbody tr th {\n",
       "        vertical-align: top;\n",
       "    }\n",
       "\n",
       "    .dataframe thead th {\n",
       "        text-align: right;\n",
       "    }\n",
       "</style>\n",
       "<table border=\"1\" class=\"dataframe\">\n",
       "  <thead>\n",
       "    <tr style=\"text-align: right;\">\n",
       "      <th></th>\n",
       "      <th>f0</th>\n",
       "      <th>f1</th>\n",
       "      <th>f2</th>\n",
       "      <th>f3</th>\n",
       "      <th>f4</th>\n",
       "      <th>f5</th>\n",
       "      <th>f6</th>\n",
       "      <th>f7</th>\n",
       "      <th>f8</th>\n",
       "      <th>f9</th>\n",
       "      <th>...</th>\n",
       "      <th>f90</th>\n",
       "      <th>f91</th>\n",
       "      <th>f92</th>\n",
       "      <th>f93</th>\n",
       "      <th>f94</th>\n",
       "      <th>f95</th>\n",
       "      <th>f96</th>\n",
       "      <th>f97</th>\n",
       "      <th>f98</th>\n",
       "      <th>f99</th>\n",
       "    </tr>\n",
       "    <tr>\n",
       "      <th>id</th>\n",
       "      <th></th>\n",
       "      <th></th>\n",
       "      <th></th>\n",
       "      <th></th>\n",
       "      <th></th>\n",
       "      <th></th>\n",
       "      <th></th>\n",
       "      <th></th>\n",
       "      <th></th>\n",
       "      <th></th>\n",
       "      <th></th>\n",
       "      <th></th>\n",
       "      <th></th>\n",
       "      <th></th>\n",
       "      <th></th>\n",
       "      <th></th>\n",
       "      <th></th>\n",
       "      <th></th>\n",
       "      <th></th>\n",
       "      <th></th>\n",
       "      <th></th>\n",
       "    </tr>\n",
       "  </thead>\n",
       "  <tbody>\n",
       "    <tr>\n",
       "      <th>0</th>\n",
       "      <td>0.106643</td>\n",
       "      <td>3.59437</td>\n",
       "      <td>132.8040</td>\n",
       "      <td>3.18428</td>\n",
       "      <td>0.081971</td>\n",
       "      <td>1.18859</td>\n",
       "      <td>3.73238</td>\n",
       "      <td>2.266270</td>\n",
       "      <td>2.09959</td>\n",
       "      <td>0.012330</td>\n",
       "      <td>...</td>\n",
       "      <td>0.010739</td>\n",
       "      <td>1.09862</td>\n",
       "      <td>0.013331</td>\n",
       "      <td>-0.011715</td>\n",
       "      <td>0.052759</td>\n",
       "      <td>0.065400</td>\n",
       "      <td>4.211250</td>\n",
       "      <td>1.97877</td>\n",
       "      <td>0.085974</td>\n",
       "      <td>0.240496</td>\n",
       "    </tr>\n",
       "    <tr>\n",
       "      <th>1</th>\n",
       "      <td>0.125021</td>\n",
       "      <td>1.67336</td>\n",
       "      <td>76.5336</td>\n",
       "      <td>3.37825</td>\n",
       "      <td>0.099400</td>\n",
       "      <td>5.09366</td>\n",
       "      <td>1.27562</td>\n",
       "      <td>-0.471318</td>\n",
       "      <td>4.54594</td>\n",
       "      <td>0.037706</td>\n",
       "      <td>...</td>\n",
       "      <td>0.135838</td>\n",
       "      <td>3.46017</td>\n",
       "      <td>0.017054</td>\n",
       "      <td>0.124863</td>\n",
       "      <td>0.154064</td>\n",
       "      <td>0.606848</td>\n",
       "      <td>-0.267928</td>\n",
       "      <td>2.57786</td>\n",
       "      <td>-0.020877</td>\n",
       "      <td>0.024719</td>\n",
       "    </tr>\n",
       "    <tr>\n",
       "      <th>2</th>\n",
       "      <td>0.036330</td>\n",
       "      <td>1.49747</td>\n",
       "      <td>233.5460</td>\n",
       "      <td>2.19435</td>\n",
       "      <td>0.026914</td>\n",
       "      <td>3.12694</td>\n",
       "      <td>5.05687</td>\n",
       "      <td>3.849460</td>\n",
       "      <td>1.80187</td>\n",
       "      <td>0.056995</td>\n",
       "      <td>...</td>\n",
       "      <td>0.117310</td>\n",
       "      <td>4.88300</td>\n",
       "      <td>0.085222</td>\n",
       "      <td>0.032396</td>\n",
       "      <td>0.116092</td>\n",
       "      <td>-0.001688</td>\n",
       "      <td>-0.520069</td>\n",
       "      <td>2.14112</td>\n",
       "      <td>0.124464</td>\n",
       "      <td>0.148209</td>\n",
       "    </tr>\n",
       "    <tr>\n",
       "      <th>3</th>\n",
       "      <td>-0.014077</td>\n",
       "      <td>0.24600</td>\n",
       "      <td>779.9670</td>\n",
       "      <td>1.89064</td>\n",
       "      <td>0.006948</td>\n",
       "      <td>1.53112</td>\n",
       "      <td>2.69800</td>\n",
       "      <td>4.517330</td>\n",
       "      <td>4.50332</td>\n",
       "      <td>0.123494</td>\n",
       "      <td>...</td>\n",
       "      <td>-0.015347</td>\n",
       "      <td>3.47439</td>\n",
       "      <td>-0.017103</td>\n",
       "      <td>-0.008100</td>\n",
       "      <td>0.062013</td>\n",
       "      <td>0.041193</td>\n",
       "      <td>0.511657</td>\n",
       "      <td>1.96860</td>\n",
       "      <td>0.040017</td>\n",
       "      <td>0.044873</td>\n",
       "    </tr>\n",
       "    <tr>\n",
       "      <th>4</th>\n",
       "      <td>-0.003259</td>\n",
       "      <td>3.71542</td>\n",
       "      <td>156.1280</td>\n",
       "      <td>2.14772</td>\n",
       "      <td>0.018284</td>\n",
       "      <td>2.09859</td>\n",
       "      <td>4.15492</td>\n",
       "      <td>-0.038236</td>\n",
       "      <td>3.37145</td>\n",
       "      <td>0.034166</td>\n",
       "      <td>...</td>\n",
       "      <td>0.013781</td>\n",
       "      <td>1.91059</td>\n",
       "      <td>-0.042943</td>\n",
       "      <td>0.105616</td>\n",
       "      <td>0.125072</td>\n",
       "      <td>0.037509</td>\n",
       "      <td>1.043790</td>\n",
       "      <td>1.07481</td>\n",
       "      <td>-0.012819</td>\n",
       "      <td>0.072798</td>\n",
       "    </tr>\n",
       "  </tbody>\n",
       "</table>\n",
       "<p>5 rows × 100 columns</p>\n",
       "</div>"
      ],
      "text/plain": [
       "          f0       f1        f2       f3        f4       f5       f6  \\\n",
       "id                                                                     \n",
       "0   0.106643  3.59437  132.8040  3.18428  0.081971  1.18859  3.73238   \n",
       "1   0.125021  1.67336   76.5336  3.37825  0.099400  5.09366  1.27562   \n",
       "2   0.036330  1.49747  233.5460  2.19435  0.026914  3.12694  5.05687   \n",
       "3  -0.014077  0.24600  779.9670  1.89064  0.006948  1.53112  2.69800   \n",
       "4  -0.003259  3.71542  156.1280  2.14772  0.018284  2.09859  4.15492   \n",
       "\n",
       "          f7       f8        f9  ...       f90      f91       f92       f93  \\\n",
       "id                               ...                                          \n",
       "0   2.266270  2.09959  0.012330  ...  0.010739  1.09862  0.013331 -0.011715   \n",
       "1  -0.471318  4.54594  0.037706  ...  0.135838  3.46017  0.017054  0.124863   \n",
       "2   3.849460  1.80187  0.056995  ...  0.117310  4.88300  0.085222  0.032396   \n",
       "3   4.517330  4.50332  0.123494  ... -0.015347  3.47439 -0.017103 -0.008100   \n",
       "4  -0.038236  3.37145  0.034166  ...  0.013781  1.91059 -0.042943  0.105616   \n",
       "\n",
       "         f94       f95       f96      f97       f98       f99  \n",
       "id                                                             \n",
       "0   0.052759  0.065400  4.211250  1.97877  0.085974  0.240496  \n",
       "1   0.154064  0.606848 -0.267928  2.57786 -0.020877  0.024719  \n",
       "2   0.116092 -0.001688 -0.520069  2.14112  0.124464  0.148209  \n",
       "3   0.062013  0.041193  0.511657  1.96860  0.040017  0.044873  \n",
       "4   0.125072  0.037509  1.043790  1.07481 -0.012819  0.072798  \n",
       "\n",
       "[5 rows x 100 columns]"
      ]
     },
     "execution_count": null,
     "metadata": {},
     "output_type": "execute_result"
    }
   ],
   "source": [
    "sci_ml_pl.dataframeloader.X_cv.head()\n",
    "\n",
    "# sci_ml_pl.dataframeloader.y.head()"
   ]
  },
  {
   "cell_type": "code",
   "execution_count": null,
   "metadata": {},
   "outputs": [
    {
     "name": "stdout",
     "output_type": "stream",
     "text": [
      "100\n"
     ]
    }
   ],
   "source": [
    "print(len(sci_ml_pl.dataframeloader.final_cols))\n",
    "# sci_ml_pl.dataframeloader.final_cols"
   ]
  },
  {
   "cell_type": "code",
   "execution_count": null,
   "metadata": {},
   "outputs": [
    {
     "name": "stdout",
     "output_type": "stream",
     "text": [
      "fold: 1 , roc_auc_score: 0.7391650397657262\n",
      "fold: 2 , roc_auc_score: 0.7326477012689827\n",
      "fold: 3 , roc_auc_score: 0.7375102681452796\n",
      "fold: 4 , roc_auc_score: 0.739240317272354\n",
      "fold: 5 , roc_auc_score: 0.7361418197089848\n",
      "fold: 6 , roc_auc_score: 0.7378693659707141\n",
      "fold: 7 , roc_auc_score: 0.7371973875563819\n",
      "fold: 8 , roc_auc_score: 0.737605489427764\n",
      "fold: 9 , roc_auc_score: 0.7382445308505611\n",
      "fold: 10 , roc_auc_score: 0.7378412635681217\n",
      "mean metrics score: 0.737346318353487\n"
     ]
    }
   ],
   "source": [
    "# fit and predict\n",
    "k_fold, metrics_score = sci_ml_pl.do_k_fold_training(n_splits=10, metrics=roc_auc_score)\n",
    "print(\"mean metrics score:\", np.mean(metrics_score))"
   ]
  },
  {
   "cell_type": "code",
   "execution_count": null,
   "metadata": {},
   "outputs": [
    {
     "name": "stdout",
     "output_type": "stream",
     "text": [
      "Mean metrics_score is : 73.73\n"
     ]
    }
   ],
   "source": [
    "print(f\"Mean metrics_score is : {round(np.mean(metrics_score)*100,2)}\")"
   ]
  },
  {
   "cell_type": "markdown",
   "metadata": {},
   "source": [
    "#### Create Kaggle Predictions"
   ]
  },
  {
   "cell_type": "code",
   "execution_count": null,
   "metadata": {},
   "outputs": [],
   "source": [
    "# predict\n",
    "preds = sci_ml_pl.do_k_fold_prediction(k_fold=k_fold)\n",
    "\n",
    "print(preds.shape)"
   ]
  },
  {
   "cell_type": "code",
   "execution_count": null,
   "metadata": {},
   "outputs": [],
   "source": [
    "sub = pd.read_csv(DIRECTORY_PATH + SAMPLE_SUB_FILE)\n",
    "sub['target'] = preds\n",
    "sub.to_csv('submission.csv', index=False)"
   ]
  },
  {
   "cell_type": "code",
   "execution_count": null,
   "metadata": {},
   "outputs": [],
   "source": [
    "# hide\n",
    "# run the script to build \n",
    "\n",
    "from nbdev.export import notebook2script; notebook2script()"
   ]
  },
  {
   "cell_type": "code",
   "execution_count": null,
   "metadata": {},
   "outputs": [],
   "source": []
  }
 ],
 "metadata": {
  "kernelspec": {
   "display_name": "Python 3 (ipykernel)",
   "language": "python",
   "name": "python3"
  }
 },
 "nbformat": 4,
 "nbformat_minor": 2
}
