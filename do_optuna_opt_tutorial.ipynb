{
 "cells": [
  {
   "cell_type": "code",
   "execution_count": 1,
   "metadata": {},
   "outputs": [],
   "source": [
    "%load_ext autoreload\n",
    "%autoreload 2"
   ]
  },
  {
   "cell_type": "markdown",
   "metadata": {},
   "source": [
    "# Getting Started Tutorial with Tabular ML Toolkit\n",
    "\n",
    "> A tutorial on getting started with Tabular ml toolkit\n",
    "\n",
    "> tabular_ml_toolkit is a superfast helper library to speedup your machine learning project based on Tabular or Structured data.\n",
    "\n",
    "> It comes with model parallelism and cutting edge hyperparameter tuning techniques."
   ]
  },
  {
   "cell_type": "markdown",
   "metadata": {},
   "source": [
    "## Install"
   ]
  },
  {
   "cell_type": "markdown",
   "metadata": {},
   "source": [
    "`pip install -U tabular_ml_toolkit`"
   ]
  },
  {
   "cell_type": "markdown",
   "metadata": {},
   "source": [
    "## How to Best Use tabular_ml_toolkit"
   ]
  },
  {
   "cell_type": "markdown",
   "metadata": {},
   "source": [
    "Start with your favorite model and then just simply create MLPipeline with one API."
   ]
  },
  {
   "cell_type": "markdown",
   "metadata": {},
   "source": [
    "*For example, Here we are using RandomForestRegressor from Scikit-Learn, on  [Melbourne Home Sale price data](https://www.kaggle.com/estrotococo/home-data-for-ml-course)*\n",
    "\n",
    "\n",
    "*No need to install scikit-learn as it comes preinstall with Tabular_ML_Toolkit*"
   ]
  },
  {
   "cell_type": "code",
   "execution_count": 2,
   "metadata": {},
   "outputs": [],
   "source": [
    "from tabular_ml_toolkit.tmlt import *\n",
    "from sklearn.ensemble import RandomForestRegressor\n",
    "from sklearn.metrics import mean_absolute_error\n",
    "import pandas as pd\n",
    "import numpy as np\n",
    "\n",
    "# for displaying diagram of pipelines \n",
    "from sklearn import set_config\n",
    "set_config(display=\"diagram\")\n",
    "\n",
    "# Just to compare fit times\n",
    "import time"
   ]
  },
  {
   "cell_type": "code",
   "execution_count": 3,
   "metadata": {},
   "outputs": [],
   "source": [
    "# Dataset file names and Paths\n",
    "DIRECTORY_PATH = \"https://raw.githubusercontent.com/psmathur/tabular_ml_toolkit/master/input/home_data/\"\n",
    "TRAIN_FILE = \"train.csv\"\n",
    "TEST_FILE = \"test.csv\"\n",
    "SAMPLE_SUB_FILE = \"sample_submission.csv\"\n",
    "OUTPUT_PATH = \"do_xgb_optuna_optimization_output/\""
   ]
  },
  {
   "cell_type": "code",
   "execution_count": 4,
   "metadata": {},
   "outputs": [],
   "source": [
    "from xgboost import XGBRegressor\n",
    "\n",
    "xgb_params = {\n",
    "    'n_estimators':250,\n",
    "    'learning_rate':0.05,\n",
    "    'random_state':42,\n",
    "    # for GPU\n",
    "#     'tree_method': 'gpu_hist',\n",
    "#     'predictor': 'gpu_predictor',\n",
    "}\n",
    "\n",
    "\n",
    "# create xgb ml model\n",
    "xgb_model = XGBRegressor(**xgb_params)"
   ]
  },
  {
   "cell_type": "code",
   "execution_count": 5,
   "metadata": {},
   "outputs": [
    {
     "name": "stderr",
     "output_type": "stream",
     "text": [
      "2021-11-22 00:36:35,621 INFO 12 cores found, parallel processing is enabled!\n",
      "2021-11-22 00:36:35,978 INFO DataFrame Memory usage decreased to 0.58 Mb (35.5% reduction)\n",
      "2021-11-22 00:36:36,313 INFO DataFrame Memory usage decreased to 0.58 Mb (34.8% reduction)\n",
      "2021-11-22 00:36:36,341 INFO Both Numerical & Categorical columns found, Preprocessing will done accordingly!\n"
     ]
    }
   ],
   "source": [
    "# createm ml pipeline for scikit-learn model\n",
    "tmlt = TMLT().prepare_data_for_training(\n",
    "    train_file_path= DIRECTORY_PATH+TRAIN_FILE,\n",
    "    test_file_path= DIRECTORY_PATH+TEST_FILE,\n",
    "    idx_col=\"Id\", target=\"SalePrice\",\n",
    "    model=xgb_model,\n",
    "    random_state=42,\n",
    "    problem_type=\"regression\")"
   ]
  },
  {
   "cell_type": "code",
   "execution_count": 6,
   "metadata": {},
   "outputs": [
    {
     "data": {
      "text/html": [
       "<style>#sk-db3ed30b-bd3d-4a2f-ab4c-cd2ccfe46ba5 {color: black;background-color: white;}#sk-db3ed30b-bd3d-4a2f-ab4c-cd2ccfe46ba5 pre{padding: 0;}#sk-db3ed30b-bd3d-4a2f-ab4c-cd2ccfe46ba5 div.sk-toggleable {background-color: white;}#sk-db3ed30b-bd3d-4a2f-ab4c-cd2ccfe46ba5 label.sk-toggleable__label {cursor: pointer;display: block;width: 100%;margin-bottom: 0;padding: 0.3em;box-sizing: border-box;text-align: center;}#sk-db3ed30b-bd3d-4a2f-ab4c-cd2ccfe46ba5 div.sk-toggleable__content {max-height: 0;max-width: 0;overflow: hidden;text-align: left;background-color: #f0f8ff;}#sk-db3ed30b-bd3d-4a2f-ab4c-cd2ccfe46ba5 div.sk-toggleable__content pre {margin: 0.2em;color: black;border-radius: 0.25em;background-color: #f0f8ff;}#sk-db3ed30b-bd3d-4a2f-ab4c-cd2ccfe46ba5 input.sk-toggleable__control:checked~div.sk-toggleable__content {max-height: 200px;max-width: 100%;overflow: auto;}#sk-db3ed30b-bd3d-4a2f-ab4c-cd2ccfe46ba5 div.sk-estimator input.sk-toggleable__control:checked~label.sk-toggleable__label {background-color: #d4ebff;}#sk-db3ed30b-bd3d-4a2f-ab4c-cd2ccfe46ba5 div.sk-label input.sk-toggleable__control:checked~label.sk-toggleable__label {background-color: #d4ebff;}#sk-db3ed30b-bd3d-4a2f-ab4c-cd2ccfe46ba5 input.sk-hidden--visually {border: 0;clip: rect(1px 1px 1px 1px);clip: rect(1px, 1px, 1px, 1px);height: 1px;margin: -1px;overflow: hidden;padding: 0;position: absolute;width: 1px;}#sk-db3ed30b-bd3d-4a2f-ab4c-cd2ccfe46ba5 div.sk-estimator {font-family: monospace;background-color: #f0f8ff;border: 1px dotted black;border-radius: 0.25em;box-sizing: border-box;margin-bottom: 0.5em;}#sk-db3ed30b-bd3d-4a2f-ab4c-cd2ccfe46ba5 div.sk-estimator:hover {background-color: #d4ebff;}#sk-db3ed30b-bd3d-4a2f-ab4c-cd2ccfe46ba5 div.sk-parallel-item::after {content: \"\";width: 100%;border-bottom: 1px solid gray;flex-grow: 1;}#sk-db3ed30b-bd3d-4a2f-ab4c-cd2ccfe46ba5 div.sk-label:hover label.sk-toggleable__label {background-color: #d4ebff;}#sk-db3ed30b-bd3d-4a2f-ab4c-cd2ccfe46ba5 div.sk-serial::before {content: \"\";position: absolute;border-left: 1px solid gray;box-sizing: border-box;top: 2em;bottom: 0;left: 50%;}#sk-db3ed30b-bd3d-4a2f-ab4c-cd2ccfe46ba5 div.sk-serial {display: flex;flex-direction: column;align-items: center;background-color: white;padding-right: 0.2em;padding-left: 0.2em;}#sk-db3ed30b-bd3d-4a2f-ab4c-cd2ccfe46ba5 div.sk-item {z-index: 1;}#sk-db3ed30b-bd3d-4a2f-ab4c-cd2ccfe46ba5 div.sk-parallel {display: flex;align-items: stretch;justify-content: center;background-color: white;}#sk-db3ed30b-bd3d-4a2f-ab4c-cd2ccfe46ba5 div.sk-parallel::before {content: \"\";position: absolute;border-left: 1px solid gray;box-sizing: border-box;top: 2em;bottom: 0;left: 50%;}#sk-db3ed30b-bd3d-4a2f-ab4c-cd2ccfe46ba5 div.sk-parallel-item {display: flex;flex-direction: column;position: relative;background-color: white;}#sk-db3ed30b-bd3d-4a2f-ab4c-cd2ccfe46ba5 div.sk-parallel-item:first-child::after {align-self: flex-end;width: 50%;}#sk-db3ed30b-bd3d-4a2f-ab4c-cd2ccfe46ba5 div.sk-parallel-item:last-child::after {align-self: flex-start;width: 50%;}#sk-db3ed30b-bd3d-4a2f-ab4c-cd2ccfe46ba5 div.sk-parallel-item:only-child::after {width: 0;}#sk-db3ed30b-bd3d-4a2f-ab4c-cd2ccfe46ba5 div.sk-dashed-wrapped {border: 1px dashed gray;margin: 0 0.4em 0.5em 0.4em;box-sizing: border-box;padding-bottom: 0.4em;background-color: white;position: relative;}#sk-db3ed30b-bd3d-4a2f-ab4c-cd2ccfe46ba5 div.sk-label label {font-family: monospace;font-weight: bold;background-color: white;display: inline-block;line-height: 1.2em;}#sk-db3ed30b-bd3d-4a2f-ab4c-cd2ccfe46ba5 div.sk-label-container {position: relative;z-index: 2;text-align: center;}#sk-db3ed30b-bd3d-4a2f-ab4c-cd2ccfe46ba5 div.sk-container {display: inline-block;position: relative;}</style><div id=\"sk-db3ed30b-bd3d-4a2f-ab4c-cd2ccfe46ba5\" class\"sk-top-container\"><div class=\"sk-container\"><div class=\"sk-item sk-dashed-wrapped\"><div class=\"sk-label-container\"><div class=\"sk-label sk-toggleable\"><input class=\"sk-toggleable__control sk-hidden--visually\" id=\"9d3a8583-c2f7-46ed-abbe-05417e11ba59\" type=\"checkbox\" ><label class=\"sk-toggleable__label\" for=\"9d3a8583-c2f7-46ed-abbe-05417e11ba59\">Pipeline</label><div class=\"sk-toggleable__content\"><pre>Pipeline(steps=[('preprocessor',\n",
       "                 ColumnTransformer(transformers=[('num_cols',\n",
       "                                                  Pipeline(steps=[('imputer',\n",
       "                                                                   SimpleImputer(strategy='constant')),\n",
       "                                                                  ('scaler',\n",
       "                                                                   StandardScaler())]),\n",
       "                                                  ['MSSubClass', 'LotFrontage',\n",
       "                                                   'LotArea', 'OverallQual',\n",
       "                                                   'OverallCond', 'YearBuilt',\n",
       "                                                   'YearRemodAdd', 'MasVnrArea',\n",
       "                                                   'BsmtFinSF1', 'BsmtFinSF2',\n",
       "                                                   'BsmtUnfSF', 'TotalBsmtSF',\n",
       "                                                   '1stFlrSF', '2ndFlrSF',\n",
       "                                                   '...\n",
       "                              interaction_constraints=None, learning_rate=0.05,\n",
       "                              max_delta_step=None, max_depth=None,\n",
       "                              min_child_weight=None, missing=nan,\n",
       "                              monotone_constraints=None, n_estimators=250,\n",
       "                              n_jobs=11, num_parallel_tree=None, predictor=None,\n",
       "                              random_state=42, reg_alpha=None, reg_lambda=None,\n",
       "                              scale_pos_weight=None, subsample=None,\n",
       "                              tree_method=None, validate_parameters=None,\n",
       "                              verbosity=None))])</pre></div></div></div><div class=\"sk-serial\"><div class=\"sk-item sk-dashed-wrapped\"><div class=\"sk-label-container\"><div class=\"sk-label sk-toggleable\"><input class=\"sk-toggleable__control sk-hidden--visually\" id=\"aeb2b1c3-c051-42c9-be67-469093ca70ea\" type=\"checkbox\" ><label class=\"sk-toggleable__label\" for=\"aeb2b1c3-c051-42c9-be67-469093ca70ea\">preprocessor: ColumnTransformer</label><div class=\"sk-toggleable__content\"><pre>ColumnTransformer(transformers=[('num_cols',\n",
       "                                 Pipeline(steps=[('imputer',\n",
       "                                                  SimpleImputer(strategy='constant')),\n",
       "                                                 ('scaler', StandardScaler())]),\n",
       "                                 ['MSSubClass', 'LotFrontage', 'LotArea',\n",
       "                                  'OverallQual', 'OverallCond', 'YearBuilt',\n",
       "                                  'YearRemodAdd', 'MasVnrArea', 'BsmtFinSF1',\n",
       "                                  'BsmtFinSF2', 'BsmtUnfSF', 'TotalBsmtSF',\n",
       "                                  '1stFlrSF', '2ndFlrSF', 'LowQualFinSF',\n",
       "                                  'GrLivArea', 'BsmtF...\n",
       "                                 ['MSZoning', 'Street', 'Alley', 'LotShape',\n",
       "                                  'LandContour', 'Utilities', 'LotConfig',\n",
       "                                  'LandSlope', 'Condition1', 'Condition2',\n",
       "                                  'BldgType', 'HouseStyle', 'RoofStyle',\n",
       "                                  'RoofMatl', 'MasVnrType', 'ExterQual',\n",
       "                                  'ExterCond', 'Foundation', 'BsmtQual',\n",
       "                                  'BsmtCond', 'BsmtExposure', 'BsmtFinType1',\n",
       "                                  'BsmtFinType2', 'Heating', 'HeatingQC',\n",
       "                                  'CentralAir', 'Electrical', 'KitchenQual',\n",
       "                                  'Functional', 'FireplaceQu', ...])])</pre></div></div></div><div class=\"sk-parallel\"><div class=\"sk-parallel-item\"><div class=\"sk-item\"><div class=\"sk-label-container\"><div class=\"sk-label sk-toggleable\"><input class=\"sk-toggleable__control sk-hidden--visually\" id=\"7ba554e7-c79e-477a-b4e0-5810845fe01f\" type=\"checkbox\" ><label class=\"sk-toggleable__label\" for=\"7ba554e7-c79e-477a-b4e0-5810845fe01f\">num_cols</label><div class=\"sk-toggleable__content\"><pre>['MSSubClass', 'LotFrontage', 'LotArea', 'OverallQual', 'OverallCond', 'YearBuilt', 'YearRemodAdd', 'MasVnrArea', 'BsmtFinSF1', 'BsmtFinSF2', 'BsmtUnfSF', 'TotalBsmtSF', '1stFlrSF', '2ndFlrSF', 'LowQualFinSF', 'GrLivArea', 'BsmtFullBath', 'BsmtHalfBath', 'FullBath', 'HalfBath', 'BedroomAbvGr', 'KitchenAbvGr', 'TotRmsAbvGrd', 'Fireplaces', 'GarageYrBlt', 'GarageCars', 'GarageArea', 'WoodDeckSF', 'OpenPorchSF', 'EnclosedPorch', '3SsnPorch', 'ScreenPorch', 'PoolArea', 'MiscVal', 'MoSold', 'YrSold']</pre></div></div></div><div class=\"sk-serial\"><div class=\"sk-item\"><div class=\"sk-serial\"><div class=\"sk-item\"><div class=\"sk-estimator sk-toggleable\"><input class=\"sk-toggleable__control sk-hidden--visually\" id=\"9106a0ad-00bf-448d-a2bd-5661ed3371fe\" type=\"checkbox\" ><label class=\"sk-toggleable__label\" for=\"9106a0ad-00bf-448d-a2bd-5661ed3371fe\">SimpleImputer</label><div class=\"sk-toggleable__content\"><pre>SimpleImputer(strategy='constant')</pre></div></div></div><div class=\"sk-item\"><div class=\"sk-estimator sk-toggleable\"><input class=\"sk-toggleable__control sk-hidden--visually\" id=\"1dc319c2-df79-47f0-8b19-efc06eaffb58\" type=\"checkbox\" ><label class=\"sk-toggleable__label\" for=\"1dc319c2-df79-47f0-8b19-efc06eaffb58\">StandardScaler</label><div class=\"sk-toggleable__content\"><pre>StandardScaler()</pre></div></div></div></div></div></div></div></div><div class=\"sk-parallel-item\"><div class=\"sk-item\"><div class=\"sk-label-container\"><div class=\"sk-label sk-toggleable\"><input class=\"sk-toggleable__control sk-hidden--visually\" id=\"05887540-b96a-4d71-86db-755a72986a7a\" type=\"checkbox\" ><label class=\"sk-toggleable__label\" for=\"05887540-b96a-4d71-86db-755a72986a7a\">cat_cols</label><div class=\"sk-toggleable__content\"><pre>['MSZoning', 'Street', 'Alley', 'LotShape', 'LandContour', 'Utilities', 'LotConfig', 'LandSlope', 'Condition1', 'Condition2', 'BldgType', 'HouseStyle', 'RoofStyle', 'RoofMatl', 'MasVnrType', 'ExterQual', 'ExterCond', 'Foundation', 'BsmtQual', 'BsmtCond', 'BsmtExposure', 'BsmtFinType1', 'BsmtFinType2', 'Heating', 'HeatingQC', 'CentralAir', 'Electrical', 'KitchenQual', 'Functional', 'FireplaceQu', 'GarageType', 'GarageFinish', 'GarageQual', 'GarageCond', 'PavedDrive', 'PoolQC', 'Fence', 'MiscFeature', 'SaleType', 'SaleCondition', 'Neighborhood', 'Exterior1st', 'Exterior2nd']</pre></div></div></div><div class=\"sk-serial\"><div class=\"sk-item\"><div class=\"sk-serial\"><div class=\"sk-item\"><div class=\"sk-estimator sk-toggleable\"><input class=\"sk-toggleable__control sk-hidden--visually\" id=\"1e2af727-f719-4384-be71-c4446968498d\" type=\"checkbox\" ><label class=\"sk-toggleable__label\" for=\"1e2af727-f719-4384-be71-c4446968498d\">SimpleImputer</label><div class=\"sk-toggleable__content\"><pre>SimpleImputer(strategy='constant')</pre></div></div></div><div class=\"sk-item\"><div class=\"sk-estimator sk-toggleable\"><input class=\"sk-toggleable__control sk-hidden--visually\" id=\"6f17616c-783d-4eb3-9da7-7eb622f55168\" type=\"checkbox\" ><label class=\"sk-toggleable__label\" for=\"6f17616c-783d-4eb3-9da7-7eb622f55168\">OneHotEncoder</label><div class=\"sk-toggleable__content\"><pre>OneHotEncoder(handle_unknown='ignore')</pre></div></div></div></div></div></div></div></div></div></div><div class=\"sk-item\"><div class=\"sk-estimator sk-toggleable\"><input class=\"sk-toggleable__control sk-hidden--visually\" id=\"3202f575-917c-4541-8c55-74986b18f80d\" type=\"checkbox\" ><label class=\"sk-toggleable__label\" for=\"3202f575-917c-4541-8c55-74986b18f80d\">XGBRegressor</label><div class=\"sk-toggleable__content\"><pre>XGBRegressor(base_score=None, booster=None, colsample_bylevel=None,\n",
       "             colsample_bynode=None, colsample_bytree=None,\n",
       "             enable_categorical=False, gamma=None, gpu_id=None,\n",
       "             importance_type=None, interaction_constraints=None,\n",
       "             learning_rate=0.05, max_delta_step=None, max_depth=None,\n",
       "             min_child_weight=None, missing=nan, monotone_constraints=None,\n",
       "             n_estimators=250, n_jobs=11, num_parallel_tree=None,\n",
       "             predictor=None, random_state=42, reg_alpha=None, reg_lambda=None,\n",
       "             scale_pos_weight=None, subsample=None, tree_method=None,\n",
       "             validate_parameters=None, verbosity=None)</pre></div></div></div></div></div></div></div>"
      ],
      "text/plain": [
       "Pipeline(steps=[('preprocessor',\n",
       "                 ColumnTransformer(transformers=[('num_cols',\n",
       "                                                  Pipeline(steps=[('imputer',\n",
       "                                                                   SimpleImputer(strategy='constant')),\n",
       "                                                                  ('scaler',\n",
       "                                                                   StandardScaler())]),\n",
       "                                                  ['MSSubClass', 'LotFrontage',\n",
       "                                                   'LotArea', 'OverallQual',\n",
       "                                                   'OverallCond', 'YearBuilt',\n",
       "                                                   'YearRemodAdd', 'MasVnrArea',\n",
       "                                                   'BsmtFinSF1', 'BsmtFinSF2',\n",
       "                                                   'BsmtUnfSF', 'TotalBsmtSF',\n",
       "                                                   '1stFlrSF', '2ndFlrSF',\n",
       "                                                   '...\n",
       "                              interaction_constraints=None, learning_rate=0.05,\n",
       "                              max_delta_step=None, max_depth=None,\n",
       "                              min_child_weight=None, missing=nan,\n",
       "                              monotone_constraints=None, n_estimators=250,\n",
       "                              n_jobs=11, num_parallel_tree=None, predictor=None,\n",
       "                              random_state=42, reg_alpha=None, reg_lambda=None,\n",
       "                              scale_pos_weight=None, subsample=None,\n",
       "                              tree_method=None, validate_parameters=None,\n",
       "                              verbosity=None))])"
      ]
     },
     "execution_count": 6,
     "metadata": {},
     "output_type": "execute_result"
    }
   ],
   "source": [
    "# let' see default pipeline\n",
    "tmlt.spl"
   ]
  },
  {
   "cell_type": "markdown",
   "metadata": {},
   "source": [
    "#### To see clear picture, let's do k_fold training on updated scikit model"
   ]
  },
  {
   "cell_type": "code",
   "execution_count": 7,
   "metadata": {},
   "outputs": [],
   "source": [
    "# # k-fold training\n",
    "# xgb_model_metrics_score, xgb_model_preds = tmlt.do_k_fold_training(n_splits=5,\n",
    "#                                                                           metrics=mean_absolute_error,\n",
    "#                                                                           random_state=42)\n",
    "# print(\"mean metrics score:\", np.mean(xgb_model_metrics_score))\n",
    "# # predict\n",
    "# print(xgb_model_preds.shape)"
   ]
  },
  {
   "cell_type": "markdown",
   "metadata": {},
   "source": [
    "##### Let's see if we can improve our K_Fold score with hyperparams tunning"
   ]
  },
  {
   "cell_type": "code",
   "execution_count": 8,
   "metadata": {},
   "outputs": [],
   "source": [
    "# from sklearn.preprocessing import StandardScaler, MinMaxScaler\n",
    "# from sklearn.impute import SimpleImputer\n",
    "# # from sklearn."
   ]
  },
  {
   "cell_type": "code",
   "execution_count": 9,
   "metadata": {},
   "outputs": [
    {
     "name": "stderr",
     "output_type": "stream",
     "text": [
      "2021-11-22 00:36:36,596 INFO direction is: minimize\n",
      "\u001b[32m[I 2021-11-22 00:36:36,656]\u001b[0m Using an existing study with name 'tmlt_autoxgb' instead of creating a new one.\u001b[0m\n",
      "2021-11-22 00:36:36,784 INFO Training Started\n",
      "2021-11-22 00:36:46,970 INFO Training Ended\n",
      "2021-11-22 00:36:46,970 INFO Predicting Score!\n",
      "\u001b[32m[I 2021-11-22 00:36:47,063]\u001b[0m Trial 2 finished with value: 14777.86558219178 and parameters: {'learning_rate': 0.016012475961174746, 'reg_lambda': 0.3410194623899067, 'reg_alpha': 75.99856826761018, 'subsample': 0.2048463199761608, 'colsample_bytree': 0.7312842669839699, 'max_depth': 5, 'early_stopping_rounds': 427, 'n_estimators': 7000, 'tree_method': 'hist', 'booster': 'gbtree', 'gamma': 0.021165662172103753, 'grow_policy': 'depthwise'}. Best is trial 2 with value: 14777.86558219178.\u001b[0m\n",
      "2021-11-22 00:36:47,178 INFO Training Started\n"
     ]
    },
    {
     "name": "stdout",
     "output_type": "stream",
     "text": [
      "[00:36:47] WARNING: /Users/runner/miniforge3/conda-bld/xgboost-split_1634712680264/work/src/learner.cc:576: \n",
      "Parameters: { \"colsample_bytree\", \"max_depth\", \"subsample\", \"tree_method\" } might not be used.\n",
      "\n",
      "  This could be a false alarm, with some parameters getting used by language bindings but\n",
      "  then being mistakenly passed down to XGBoost core, or some parameter actually being used\n",
      "  but getting flagged wrongly here. Please open an issue if you find any such cases.\n",
      "\n",
      "\n"
     ]
    },
    {
     "name": "stderr",
     "output_type": "stream",
     "text": [
      "2021-11-22 00:36:51,213 INFO Training Ended\n",
      "2021-11-22 00:36:51,214 INFO Predicting Score!\n",
      "\u001b[32m[I 2021-11-22 00:36:51,257]\u001b[0m Trial 3 finished with value: 19141.308018514555 and parameters: {'learning_rate': 0.1062423877897573, 'reg_lambda': 0.005808903026169929, 'reg_alpha': 1.0500459880090612e-05, 'subsample': 0.83159728785066, 'colsample_bytree': 0.5767945256752227, 'max_depth': 3, 'early_stopping_rounds': 115, 'n_estimators': 15000, 'tree_method': 'hist', 'booster': 'gblinear'}. Best is trial 2 with value: 14777.86558219178.\u001b[0m\n",
      "2021-11-22 00:36:51,349 INFO Training Started\n"
     ]
    },
    {
     "name": "stdout",
     "output_type": "stream",
     "text": [
      "[00:36:51] WARNING: /Users/runner/miniforge3/conda-bld/xgboost-split_1634712680264/work/src/learner.cc:576: \n",
      "Parameters: { \"colsample_bytree\", \"max_depth\", \"subsample\", \"tree_method\" } might not be used.\n",
      "\n",
      "  This could be a false alarm, with some parameters getting used by language bindings but\n",
      "  then being mistakenly passed down to XGBoost core, or some parameter actually being used\n",
      "  but getting flagged wrongly here. Please open an issue if you find any such cases.\n",
      "\n",
      "\n"
     ]
    },
    {
     "name": "stderr",
     "output_type": "stream",
     "text": [
      "2021-11-22 00:36:57,134 INFO Training Ended\n",
      "2021-11-22 00:36:57,134 INFO Predicting Score!\n",
      "\u001b[32m[I 2021-11-22 00:36:57,179]\u001b[0m Trial 4 finished with value: 38001.63091288527 and parameters: {'learning_rate': 0.08036356904807763, 'reg_lambda': 9.340626577613357, 'reg_alpha': 0.014731814562689374, 'subsample': 0.48518133652685647, 'colsample_bytree': 0.310998960257031, 'max_depth': 8, 'early_stopping_rounds': 206, 'n_estimators': 20000, 'tree_method': 'exact', 'booster': 'gblinear'}. Best is trial 2 with value: 14777.86558219178.\u001b[0m\n",
      "2021-11-22 00:36:57,283 INFO Training Started\n",
      "2021-11-22 00:37:06,728 INFO Training Ended\n",
      "2021-11-22 00:37:06,729 INFO Predicting Score!\n",
      "\u001b[32m[I 2021-11-22 00:37:06,814]\u001b[0m Trial 5 finished with value: 15790.595555971746 and parameters: {'learning_rate': 0.040464539475722844, 'reg_lambda': 0.41870054997274897, 'reg_alpha': 0.044991345887820125, 'subsample': 0.3235413400706302, 'colsample_bytree': 0.13862108405782803, 'max_depth': 5, 'early_stopping_rounds': 280, 'n_estimators': 7000, 'tree_method': 'hist', 'booster': 'gbtree', 'gamma': 0.015392401243881146, 'grow_policy': 'lossguide'}. Best is trial 2 with value: 14777.86558219178.\u001b[0m\n",
      "2021-11-22 00:37:06,938 INFO Training Started\n",
      "2021-11-22 00:37:30,233 INFO Training Ended\n",
      "2021-11-22 00:37:30,234 INFO Predicting Score!\n",
      "\u001b[32m[I 2021-11-22 00:37:30,362]\u001b[0m Trial 6 finished with value: 16006.302988548801 and parameters: {'learning_rate': 0.022077478111667187, 'reg_lambda': 1.7716881181370892e-07, 'reg_alpha': 0.0008442711106356156, 'subsample': 0.8277333622023245, 'colsample_bytree': 0.6529503700570628, 'max_depth': 9, 'early_stopping_rounds': 258, 'n_estimators': 7000, 'tree_method': 'approx', 'booster': 'gbtree', 'gamma': 0.5069136113809524, 'grow_policy': 'depthwise'}. Best is trial 2 with value: 14777.86558219178.\u001b[0m\n",
      "2021-11-22 00:37:30,479 INFO Training Started\n"
     ]
    },
    {
     "name": "stdout",
     "output_type": "stream",
     "text": [
      "[00:37:30] WARNING: /Users/runner/miniforge3/conda-bld/xgboost-split_1634712680264/work/src/learner.cc:576: \n",
      "Parameters: { \"colsample_bytree\", \"max_depth\", \"subsample\", \"tree_method\" } might not be used.\n",
      "\n",
      "  This could be a false alarm, with some parameters getting used by language bindings but\n",
      "  then being mistakenly passed down to XGBoost core, or some parameter actually being used\n",
      "  but getting flagged wrongly here. Please open an issue if you find any such cases.\n",
      "\n",
      "\n"
     ]
    },
    {
     "name": "stderr",
     "output_type": "stream",
     "text": [
      "2021-11-22 00:37:33,444 INFO Training Ended\n",
      "2021-11-22 00:37:33,445 INFO Predicting Score!\n",
      "\u001b[32m[I 2021-11-22 00:37:33,493]\u001b[0m Trial 7 finished with value: 18879.80290828339 and parameters: {'learning_rate': 0.10916165762799426, 'reg_lambda': 0.012168383129923977, 'reg_alpha': 5.583278525477054e-07, 'subsample': 0.6225518824585848, 'colsample_bytree': 0.16327264951220277, 'max_depth': 9, 'early_stopping_rounds': 165, 'n_estimators': 7000, 'tree_method': 'exact', 'booster': 'gblinear'}. Best is trial 2 with value: 14777.86558219178.\u001b[0m\n",
      "2021-11-22 00:37:33,588 INFO Training Started\n",
      "2021-11-22 00:37:56,455 INFO Training Ended\n",
      "2021-11-22 00:37:56,456 INFO Predicting Score!\n",
      "\u001b[32m[I 2021-11-22 00:37:56,536]\u001b[0m Trial 8 finished with value: 15265.181252675513 and parameters: {'learning_rate': 0.020965200696374087, 'reg_lambda': 24.456816640001072, 'reg_alpha': 3.5275989063112733e-08, 'subsample': 0.6356771229757, 'colsample_bytree': 0.7412094802852861, 'max_depth': 5, 'early_stopping_rounds': 151, 'n_estimators': 7000, 'tree_method': 'hist', 'booster': 'gbtree', 'gamma': 0.004891395353108435, 'grow_policy': 'lossguide'}. Best is trial 2 with value: 14777.86558219178.\u001b[0m\n",
      "2021-11-22 00:37:56,648 INFO Training Started\n"
     ]
    },
    {
     "name": "stdout",
     "output_type": "stream",
     "text": [
      "[00:37:56] WARNING: /Users/runner/miniforge3/conda-bld/xgboost-split_1634712680264/work/src/learner.cc:576: \n",
      "Parameters: { \"colsample_bytree\", \"max_depth\", \"subsample\", \"tree_method\" } might not be used.\n",
      "\n",
      "  This could be a false alarm, with some parameters getting used by language bindings but\n",
      "  then being mistakenly passed down to XGBoost core, or some parameter actually being used\n",
      "  but getting flagged wrongly here. Please open an issue if you find any such cases.\n",
      "\n",
      "\n"
     ]
    },
    {
     "name": "stderr",
     "output_type": "stream",
     "text": [
      "2021-11-22 00:37:59,282 INFO Training Ended\n",
      "2021-11-22 00:37:59,283 INFO Predicting Score!\n",
      "\u001b[32m[I 2021-11-22 00:37:59,330]\u001b[0m Trial 9 finished with value: 18221.209118150684 and parameters: {'learning_rate': 0.01825461532795196, 'reg_lambda': 2.0792749632525548e-08, 'reg_alpha': 0.029397059028886764, 'subsample': 0.48339755653116534, 'colsample_bytree': 0.2273769120512169, 'max_depth': 3, 'early_stopping_rounds': 318, 'n_estimators': 7000, 'tree_method': 'exact', 'booster': 'gblinear'}. Best is trial 2 with value: 14777.86558219178.\u001b[0m\n",
      "2021-11-22 00:37:59,441 INFO Training Started\n",
      "2021-11-22 00:38:03,400 INFO Training Ended\n",
      "2021-11-22 00:38:03,400 INFO Predicting Score!\n",
      "\u001b[32m[I 2021-11-22 00:38:03,453]\u001b[0m Trial 10 finished with value: 16191.472134524829 and parameters: {'learning_rate': 0.1342586705409775, 'reg_lambda': 3.9216168505648526e-08, 'reg_alpha': 1.2093599153413054e-07, 'subsample': 0.8614151452926132, 'colsample_bytree': 0.5797515196740621, 'max_depth': 2, 'early_stopping_rounds': 309, 'n_estimators': 7000, 'tree_method': 'hist', 'booster': 'gbtree', 'gamma': 1.0262728343917904e-08, 'grow_policy': 'lossguide'}. Best is trial 2 with value: 14777.86558219178.\u001b[0m\n",
      "2021-11-22 00:38:03,598 INFO Training Started\n",
      "2021-11-22 00:38:18,702 INFO Training Ended\n",
      "2021-11-22 00:38:18,703 INFO Predicting Score!\n",
      "\u001b[32m[I 2021-11-22 00:38:18,778]\u001b[0m Trial 11 finished with value: 22745.269758668663 and parameters: {'learning_rate': 0.23539347765083934, 'reg_lambda': 9.37343888591647e-05, 'reg_alpha': 52.793370240268516, 'subsample': 0.23302205959403438, 'colsample_bytree': 0.9741217439445464, 'max_depth': 6, 'early_stopping_rounds': 448, 'n_estimators': 20000, 'tree_method': 'approx', 'booster': 'gbtree', 'gamma': 1.0099345226287776e-05, 'grow_policy': 'depthwise'}. Best is trial 2 with value: 14777.86558219178.\u001b[0m\n",
      "2021-11-22 00:38:18,906 INFO Training Started\n",
      "2021-11-22 00:38:42,489 INFO Training Ended\n",
      "2021-11-22 00:38:42,490 INFO Predicting Score!\n",
      "\u001b[32m[I 2021-11-22 00:38:42,563]\u001b[0m Trial 12 finished with value: 16566.70380725599 and parameters: {'learning_rate': 0.032476794300680754, 'reg_lambda': 95.5489528460576, 'reg_alpha': 81.79837658224511, 'subsample': 0.1575493999605122, 'colsample_bytree': 0.8212876811253236, 'max_depth': 5, 'early_stopping_rounds': 455, 'n_estimators': 7000, 'tree_method': 'hist', 'booster': 'gbtree', 'gamma': 0.0019919366472810132, 'grow_policy': 'lossguide'}. Best is trial 2 with value: 14777.86558219178.\u001b[0m\n",
      "2021-11-22 00:38:42,693 INFO Training Started\n",
      "2021-11-22 00:38:50,748 INFO Training Ended\n",
      "2021-11-22 00:38:50,748 INFO Predicting Score!\n",
      "\u001b[32m[I 2021-11-22 00:38:50,815]\u001b[0m Trial 13 finished with value: 14783.742909888699 and parameters: {'learning_rate': 0.012715052269334785, 'reg_lambda': 0.2241409296067319, 'reg_alpha': 8.408710386761919e-06, 'subsample': 0.6603619155879277, 'colsample_bytree': 0.7684163609193184, 'max_depth': 4, 'early_stopping_rounds': 383, 'n_estimators': 7000, 'tree_method': 'hist', 'booster': 'gbtree', 'gamma': 0.00024313295582371444, 'grow_policy': 'depthwise'}. Best is trial 2 with value: 14777.86558219178.\u001b[0m\n",
      "2021-11-22 00:38:50,944 INFO Training Started\n",
      "2021-11-22 00:38:54,026 INFO Training Ended\n",
      "2021-11-22 00:38:54,027 INFO Predicting Score!\n",
      "\u001b[32m[I 2021-11-22 00:38:54,085]\u001b[0m Trial 14 finished with value: 17691.074018086474 and parameters: {'learning_rate': 0.010272505561889533, 'reg_lambda': 0.10508381463531831, 'reg_alpha': 5.348769646267128e-05, 'subsample': 0.9899869773625782, 'colsample_bytree': 0.404673121324014, 'max_depth': 1, 'early_stopping_rounds': 381, 'n_estimators': 7000, 'tree_method': 'hist', 'booster': 'gbtree', 'gamma': 1.6381047149126655e-05, 'grow_policy': 'depthwise'}. Best is trial 2 with value: 14777.86558219178.\u001b[0m\n",
      "2021-11-22 00:38:54,258 INFO Training Started\n",
      "2021-11-22 00:39:17,927 INFO Training Ended\n",
      "2021-11-22 00:39:17,928 INFO Predicting Score!\n",
      "\u001b[32m[I 2021-11-22 00:39:18,052]\u001b[0m Trial 15 finished with value: 15021.965338720034 and parameters: {'learning_rate': 0.015574449502244611, 'reg_lambda': 8.454625873396703e-05, 'reg_alpha': 1.5960766272497424, 'subsample': 0.6999824395139704, 'colsample_bytree': 0.888893586746957, 'max_depth': 4, 'early_stopping_rounds': 394, 'n_estimators': 15000, 'tree_method': 'hist', 'booster': 'gbtree', 'gamma': 0.00021703432567052433, 'grow_policy': 'depthwise'}. Best is trial 2 with value: 14777.86558219178.\u001b[0m\n",
      "2021-11-22 00:39:18,204 INFO Training Started\n",
      "2021-11-22 00:40:07,648 INFO Training Ended\n",
      "2021-11-22 00:40:07,649 INFO Predicting Score!\n",
      "\u001b[32m[I 2021-11-22 00:40:07,950]\u001b[0m Trial 16 finished with value: 16714.828058112158 and parameters: {'learning_rate': 0.03416756360452623, 'reg_lambda': 0.29399272922186837, 'reg_alpha': 1.5567664822906787e-05, 'subsample': 0.1014656199471331, 'colsample_bytree': 0.7533384298761157, 'max_depth': 7, 'early_stopping_rounds': 368, 'n_estimators': 20000, 'tree_method': 'hist', 'booster': 'gbtree', 'gamma': 0.3963479435032251, 'grow_policy': 'depthwise'}. Best is trial 2 with value: 14777.86558219178.\u001b[0m\n",
      "2021-11-22 00:40:08,162 INFO Training Started\n",
      "2021-11-22 00:40:16,900 INFO Training Ended\n",
      "2021-11-22 00:40:16,901 INFO Predicting Score!\n",
      "\u001b[32m[I 2021-11-22 00:40:16,976]\u001b[0m Trial 17 finished with value: 15991.156798480308 and parameters: {'learning_rate': 0.05642090841404643, 'reg_lambda': 0.0006287936688991106, 'reg_alpha': 1.651895805581491, 'subsample': 0.38458534031770464, 'colsample_bytree': 0.4427433973116268, 'max_depth': 4, 'early_stopping_rounds': 420, 'n_estimators': 7000, 'tree_method': 'approx', 'booster': 'gbtree', 'gamma': 6.002860993859216e-07, 'grow_policy': 'depthwise'}. Best is trial 2 with value: 14777.86558219178.\u001b[0m\n",
      "2021-11-22 00:40:17,124 INFO Training Started\n",
      "2021-11-22 00:40:33,958 INFO Training Ended\n",
      "2021-11-22 00:40:33,959 INFO Predicting Score!\n",
      "\u001b[32m[I 2021-11-22 00:40:34,051]\u001b[0m Trial 18 finished with value: 14895.974328446062 and parameters: {'learning_rate': 0.013278251808239222, 'reg_lambda': 2.7622281428625013e-06, 'reg_alpha': 0.0007010796254455364, 'subsample': 0.5219707449088693, 'colsample_bytree': 0.6905675133805603, 'max_depth': 6, 'early_stopping_rounds': 488, 'n_estimators': 7000, 'tree_method': 'hist', 'booster': 'gbtree', 'gamma': 0.024829127013211685, 'grow_policy': 'depthwise'}. Best is trial 2 with value: 14777.86558219178.\u001b[0m\n",
      "2021-11-22 00:40:34,187 INFO Training Started\n",
      "2021-11-22 00:40:49,133 INFO Training Ended\n",
      "2021-11-22 00:40:49,134 INFO Predicting Score!\n",
      "\u001b[32m[I 2021-11-22 00:40:49,229]\u001b[0m Trial 19 finished with value: 14951.57163687928 and parameters: {'learning_rate': 0.027146525486698887, 'reg_lambda': 1.4037322759312298, 'reg_alpha': 1.3464717865492963e-06, 'subsample': 0.7304892125719941, 'colsample_bytree': 0.9923942678764838, 'max_depth': 3, 'early_stopping_rounds': 349, 'n_estimators': 15000, 'tree_method': 'hist', 'booster': 'gbtree', 'gamma': 0.0005993123832679856, 'grow_policy': 'depthwise'}. Best is trial 2 with value: 14777.86558219178.\u001b[0m\n",
      "2021-11-22 00:40:49,380 INFO Training Started\n",
      "2021-11-22 00:41:00,489 INFO Training Ended\n",
      "2021-11-22 00:41:00,489 INFO Predicting Score!\n",
      "\u001b[32m[I 2021-11-22 00:41:00,558]\u001b[0m Trial 20 finished with value: 17897.733826519692 and parameters: {'learning_rate': 0.05596820374656984, 'reg_lambda': 0.01945699928155288, 'reg_alpha': 1.5390361127387975, 'subsample': 0.24444004747635822, 'colsample_bytree': 0.8523883447674268, 'max_depth': 1, 'early_stopping_rounds': 497, 'n_estimators': 20000, 'tree_method': 'approx', 'booster': 'gbtree', 'gamma': 2.794589013993965e-05, 'grow_policy': 'depthwise'}. Best is trial 2 with value: 14777.86558219178.\u001b[0m\n",
      "2021-11-22 00:41:00,695 INFO Training Started\n",
      "2021-11-22 00:41:07,325 INFO Training Ended\n",
      "2021-11-22 00:41:07,325 INFO Predicting Score!\n",
      "\u001b[32m[I 2021-11-22 00:41:07,397]\u001b[0m Trial 21 finished with value: 14960.434316138699 and parameters: {'learning_rate': 0.014839952358201671, 'reg_lambda': 0.000986823275712863, 'reg_alpha': 0.00011992925302825504, 'subsample': 0.41244018763854073, 'colsample_bytree': 0.4817410213387858, 'max_depth': 4, 'early_stopping_rounds': 424, 'n_estimators': 7000, 'tree_method': 'hist', 'booster': 'gbtree', 'gamma': 0.06424539569484433, 'grow_policy': 'depthwise'}. Best is trial 2 with value: 14777.86558219178.\u001b[0m\n"
     ]
    },
    {
     "name": "stderr",
     "output_type": "stream",
     "text": [
      "2021-11-22 00:41:07,537 INFO Training Started\n",
      "2021-11-22 00:41:23,589 INFO Training Ended\n",
      "2021-11-22 00:41:23,590 INFO Predicting Score!\n",
      "\u001b[32m[I 2021-11-22 00:41:23,679]\u001b[0m Trial 22 finished with value: 15029.193051690925 and parameters: {'learning_rate': 0.010010095321294295, 'reg_lambda': 3.031464733881546e-06, 'reg_alpha': 0.0009507849210810068, 'subsample': 0.5514834442906478, 'colsample_bytree': 0.6913143029874168, 'max_depth': 6, 'early_stopping_rounds': 484, 'n_estimators': 7000, 'tree_method': 'hist', 'booster': 'gbtree', 'gamma': 0.03536312244259591, 'grow_policy': 'depthwise'}. Best is trial 2 with value: 14777.86558219178.\u001b[0m\n",
      "2021-11-22 00:41:23,813 INFO Training Started\n",
      "2021-11-22 00:41:39,876 INFO Training Ended\n",
      "2021-11-22 00:41:39,877 INFO Predicting Score!\n",
      "\u001b[32m[I 2021-11-22 00:41:39,959]\u001b[0m Trial 23 finished with value: 15159.616277825342 and parameters: {'learning_rate': 0.014368264214164652, 'reg_lambda': 2.993065360049739e-06, 'reg_alpha': 0.002787101642637736, 'subsample': 0.5579795513552676, 'colsample_bytree': 0.6749643695550225, 'max_depth': 6, 'early_stopping_rounds': 458, 'n_estimators': 7000, 'tree_method': 'hist', 'booster': 'gbtree', 'gamma': 0.0019010694915043646, 'grow_policy': 'depthwise'}. Best is trial 2 with value: 14777.86558219178.\u001b[0m\n",
      "2021-11-22 00:41:40,093 INFO Training Started\n",
      "2021-11-22 00:42:00,395 INFO Training Ended\n",
      "2021-11-22 00:42:00,396 INFO Predicting Score!\n",
      "\u001b[32m[I 2021-11-22 00:42:00,497]\u001b[0m Trial 24 finished with value: 15483.12676583904 and parameters: {'learning_rate': 0.024138600098226676, 'reg_lambda': 3.2235288816281878e-06, 'reg_alpha': 4.401305489160246e-06, 'subsample': 0.7169115939963475, 'colsample_bytree': 0.7810025371728475, 'max_depth': 7, 'early_stopping_rounds': 420, 'n_estimators': 7000, 'tree_method': 'hist', 'booster': 'gbtree', 'gamma': 0.06678269471224493, 'grow_policy': 'depthwise'}. Best is trial 2 with value: 14777.86558219178.\u001b[0m\n",
      "2021-11-22 00:42:00,655 INFO Training Started\n",
      "2021-11-22 00:42:13,056 INFO Training Ended\n",
      "2021-11-22 00:42:13,056 INFO Predicting Score!\n",
      "\u001b[32m[I 2021-11-22 00:42:13,135]\u001b[0m Trial 25 finished with value: 15168.329328981165 and parameters: {'learning_rate': 0.01748085943343046, 'reg_lambda': 0.11748875684733397, 'reg_alpha': 0.00011556863663186989, 'subsample': 0.2650615986979174, 'colsample_bytree': 0.9054653320111072, 'max_depth': 5, 'early_stopping_rounds': 332, 'n_estimators': 7000, 'tree_method': 'hist', 'booster': 'gbtree', 'gamma': 1.7574694591437448e-06, 'grow_policy': 'depthwise'}. Best is trial 2 with value: 14777.86558219178.\u001b[0m\n",
      "2021-11-22 00:42:13,262 INFO Training Started\n",
      "2021-11-22 00:42:20,814 INFO Training Ended\n",
      "2021-11-22 00:42:20,815 INFO Predicting Score!\n",
      "\u001b[32m[I 2021-11-22 00:42:20,880]\u001b[0m Trial 26 finished with value: 14804.737706014555 and parameters: {'learning_rate': 0.012896942820557346, 'reg_lambda': 6.841104978813968e-05, 'reg_alpha': 1.0603483156097557e-08, 'subsample': 0.4629580978529412, 'colsample_bytree': 0.6215416319259561, 'max_depth': 4, 'early_stopping_rounds': 396, 'n_estimators': 7000, 'tree_method': 'hist', 'booster': 'gbtree', 'gamma': 0.0001774223698604327, 'grow_policy': 'depthwise'}. Best is trial 2 with value: 14777.86558219178.\u001b[0m\n",
      "2021-11-22 00:42:21,005 INFO Training Started\n"
     ]
    },
    {
     "name": "stdout",
     "output_type": "stream",
     "text": [
      "[00:42:21] WARNING: /Users/runner/miniforge3/conda-bld/xgboost-split_1634712680264/work/src/learner.cc:576: \n",
      "Parameters: { \"colsample_bytree\", \"max_depth\", \"subsample\", \"tree_method\" } might not be used.\n",
      "\n",
      "  This could be a false alarm, with some parameters getting used by language bindings but\n",
      "  then being mistakenly passed down to XGBoost core, or some parameter actually being used\n",
      "  but getting flagged wrongly here. Please open an issue if you find any such cases.\n",
      "\n",
      "\n"
     ]
    },
    {
     "name": "stderr",
     "output_type": "stream",
     "text": [
      "2021-11-22 00:42:23,307 INFO Training Ended\n",
      "2021-11-22 00:42:23,308 INFO Predicting Score!\n",
      "\u001b[32m[I 2021-11-22 00:42:23,349]\u001b[0m Trial 27 finished with value: 18219.798112425087 and parameters: {'learning_rate': 0.01259223681961762, 'reg_lambda': 0.00012506920867547193, 'reg_alpha': 2.0133391972151626e-08, 'subsample': 0.6288525529379291, 'colsample_bytree': 0.6143491968543348, 'max_depth': 2, 'early_stopping_rounds': 398, 'n_estimators': 7000, 'tree_method': 'hist', 'booster': 'gblinear'}. Best is trial 2 with value: 14777.86558219178.\u001b[0m\n",
      "2021-11-22 00:42:23,487 INFO Training Started\n",
      "2021-11-22 00:42:31,357 INFO Training Ended\n",
      "2021-11-22 00:42:31,358 INFO Predicting Score!\n",
      "\u001b[32m[I 2021-11-22 00:42:31,425]\u001b[0m Trial 28 finished with value: 15636.582994434932 and parameters: {'learning_rate': 0.027800769386821793, 'reg_lambda': 0.0224101411619606, 'reg_alpha': 2.669236231424427e-07, 'subsample': 0.17140740144187322, 'colsample_bytree': 0.5005343222851524, 'max_depth': 4, 'early_stopping_rounds': 346, 'n_estimators': 7000, 'tree_method': 'hist', 'booster': 'gbtree', 'gamma': 0.00011555329288621463, 'grow_policy': 'depthwise'}. Best is trial 2 with value: 14777.86558219178.\u001b[0m\n",
      "2021-11-22 00:42:31,553 INFO Training Started\n",
      "2021-11-22 00:42:42,758 INFO Training Ended\n",
      "2021-11-22 00:42:42,759 INFO Predicting Score!\n",
      "\u001b[32m[I 2021-11-22 00:42:42,840]\u001b[0m Trial 29 finished with value: 15865.42374785959 and parameters: {'learning_rate': 0.019857758361168196, 'reg_lambda': 0.0033305252450588525, 'reg_alpha': 1.642414538816178e-06, 'subsample': 0.4213770312118939, 'colsample_bytree': 0.5130887541967193, 'max_depth': 2, 'early_stopping_rounds': 370, 'n_estimators': 20000, 'tree_method': 'exact', 'booster': 'gbtree', 'gamma': 0.0007757755002072976, 'grow_policy': 'depthwise'}. Best is trial 2 with value: 14777.86558219178.\u001b[0m\n"
     ]
    },
    {
     "name": "stdout",
     "output_type": "stream",
     "text": [
      "FrozenTrial(number=2, values=[14777.86558219178], datetime_start=datetime.datetime(2021, 11, 22, 0, 36, 36, 686161), datetime_complete=datetime.datetime(2021, 11, 22, 0, 36, 47, 25301), params={'booster': 'gbtree', 'colsample_bytree': 0.7312842669839699, 'early_stopping_rounds': 427, 'gamma': 0.021165662172103753, 'grow_policy': 'depthwise', 'learning_rate': 0.016012475961174746, 'max_depth': 5, 'n_estimators': 7000, 'reg_alpha': 75.99856826761018, 'reg_lambda': 0.3410194623899067, 'subsample': 0.2048463199761608, 'tree_method': 'hist'}, distributions={'booster': CategoricalDistribution(choices=('gbtree', 'gblinear')), 'colsample_bytree': UniformDistribution(high=1.0, low=0.1), 'early_stopping_rounds': IntUniformDistribution(high=500, low=100, step=1), 'gamma': LogUniformDistribution(high=1.0, low=1e-08), 'grow_policy': CategoricalDistribution(choices=('depthwise', 'lossguide')), 'learning_rate': LogUniformDistribution(high=0.25, low=0.01), 'max_depth': IntUniformDistribution(high=9, low=1, step=1), 'n_estimators': CategoricalDistribution(choices=(7000, 15000, 20000)), 'reg_alpha': LogUniformDistribution(high=100.0, low=1e-08), 'reg_lambda': LogUniformDistribution(high=100.0, low=1e-08), 'subsample': UniformDistribution(high=1.0, low=0.1), 'tree_method': CategoricalDistribution(choices=('exact', 'approx', 'hist'))}, user_attrs={}, system_attrs={}, intermediate_values={}, trial_id=3, state=TrialState.COMPLETE, value=None)\n"
     ]
    }
   ],
   "source": [
    "study = tmlt.do_xgb_optuna_optimization(metrics=mean_absolute_error, output_dir_path=OUTPUT_PATH)\n",
    "print(study.best_trial)"
   ]
  },
  {
   "cell_type": "markdown",
   "metadata": {},
   "source": [
    "2021-11-18 22:05:18,152 INFO direction is: minimize\n",
    "[I 2021-11-18 22:05:18,207] Using an existing study with name 'tmlt_autoxgb' instead of creating a new one.\n",
    "/Users/pankajmathur/anaconda3/envs/nbdev_env/lib/python3.9/site-packages/sklearn/model_selection/_split.py:676: UserWarning: The least populated class in y has only 1 members, which is less than n_splits=5.\n",
    "  warnings.warn(\n",
    "2021-11-18 22:05:55,715 INFO fold: 1 , mean_absolute_error: 17737.759805757705\n",
    "2021-11-18 22:06:31,210 INFO fold: 2 , mean_absolute_error: 13937.593455693494\n",
    "2021-11-18 22:07:07,237 INFO fold: 3 , mean_absolute_error: 13931.05033979024\n",
    "2021-11-18 22:07:48,523 INFO fold: 4 , mean_absolute_error: 12936.826492936643\n",
    "2021-11-18 22:08:25,673 INFO fold: 5 , mean_absolute_error: 14848.775216716609\n",
    "[I 2021-11-18 22:08:25,699] Trial 48 finished with value: 14678.401062178938 and parameters: {'learning_rate': 0.010227648390602546, 'reg_lambda': 8.015393563720193e-06, 'reg_alpha': 3.7753443233851705e-06, 'subsample': 0.5799411949016183, 'colsample_bytree': 0.613735233825501, 'max_depth': 4, 'early_stopping_rounds': 200, 'n_estimators': 20000, 'tree_method': 'hist', 'booster': 'gbtree', 'gamma': 0.01783928295659629, 'grow_policy': 'lossguide'}. Best is trial 48 with value: 14678.401062178938.\n",
    "/Users/pankajmathur/anaconda3/envs/nbdev_env/lib/python3.9/site-packages/sklearn/model_selection/_split.py:676: UserWarning: The least populated class in y has only 1 members, which is less than n_splits=5.\n",
    "  warnings.warn(\n",
    "2021-11-18 22:09:02,651 INFO fold: 1 , mean_absolute_error: 17615.194228916953\n",
    "2021-11-18 22:09:40,540 INFO fold: 2 , mean_absolute_error: 14338.525511023116\n",
    "2021-11-18 22:10:18,411 INFO fold: 3 , mean_absolute_error: 13896.110378317637\n",
    "2021-11-18 22:10:56,342 INFO fold: 4 , mean_absolute_error: 13176.088907320205\n",
    "2021-11-18 22:11:35,685 INFO fold: 5 , mean_absolute_error: 14923.216475813357\n",
    "[I 2021-11-18 22:11:35,704] Trial 49 finished with value: 14789.827100278253 and parameters: {'learning_rate': 0.01003614304176459, 'reg_lambda': 1.3143006220261207e-05, 'reg_alpha': 3.3506330151130134e-06, 'subsample': 0.543467363947305, 'colsample_bytree': 0.6249109087231277, 'max_depth': 4, 'early_stopping_rounds': 192, 'n_estimators': 20000, 'tree_method': 'hist', 'booster': 'gbtree', 'gamma': 0.028252682493464184, 'grow_policy': 'lossguide'}. Best is trial 48 with value: 14678.401062178938.\n",
    "FrozenTrial(number=48, values=[14678.401062178938], datetime_start=datetime.datetime(2021, 11, 18, 22, 5, 18, 249529), datetime_complete=datetime.datetime(2021, 11, 18, 22, 8, 25, 674630), params={'booster': 'gbtree', 'colsample_bytree': 0.613735233825501, 'early_stopping_rounds': 200, 'gamma': 0.01783928295659629, 'grow_policy': 'lossguide', 'learning_rate': 0.010227648390602546, 'max_depth': 4, 'n_estimators': 20000, 'reg_alpha': 3.7753443233851705e-06, 'reg_lambda': 8.015393563720193e-06, 'subsample': 0.5799411949016183, 'tree_method': 'hist'}, distributions={'booster': CategoricalDistribution(choices=('gbtree', 'gblinear')), 'colsample_bytree': UniformDistribution(high=1.0, low=0.1), 'early_stopping_rounds': IntUniformDistribution(high=500, low=100, step=1), 'gamma': LogUniformDistribution(high=1.0, low=1e-08), 'grow_policy': CategoricalDistribution(choices=('depthwise', 'lossguide')), 'learning_rate': LogUniformDistribution(high=0.25, low=0.01), 'max_depth': IntUniformDistribution(high=9, low=1, step=1), 'n_estimators': CategoricalDistribution(choices=(7000, 15000, 20000)), 'reg_alpha': LogUniformDistribution(high=100.0, low=1e-08), 'reg_lambda': LogUniformDistribution(high=100.0, low=1e-08), 'subsample': UniformDistribution(high=1.0, low=0.1), 'tree_method': CategoricalDistribution(choices=('exact', 'approx', 'hist'))}, user_attrs={}, system_attrs={}, intermediate_values={}, trial_id=49, state=TrialState.COMPLETE, value=None)"
   ]
  },
  {
   "cell_type": "code",
   "execution_count": 10,
   "metadata": {},
   "outputs": [
    {
     "data": {
      "text/plain": [
       "{'booster': 'gbtree',\n",
       " 'colsample_bytree': 0.7312842669839699,\n",
       " 'early_stopping_rounds': 427,\n",
       " 'gamma': 0.021165662172103753,\n",
       " 'grow_policy': 'depthwise',\n",
       " 'learning_rate': 0.016012475961174746,\n",
       " 'max_depth': 5,\n",
       " 'n_estimators': 7000,\n",
       " 'reg_alpha': 75.99856826761018,\n",
       " 'reg_lambda': 0.3410194623899067,\n",
       " 'subsample': 0.2048463199761608,\n",
       " 'tree_method': 'hist'}"
      ]
     },
     "execution_count": 10,
     "metadata": {},
     "output_type": "execute_result"
    }
   ],
   "source": [
    "study.best_trial.params"
   ]
  },
  {
   "cell_type": "markdown",
   "metadata": {},
   "source": [
    "**Awesome we found best params with K-fold variations ~ 1 minute!**"
   ]
  },
  {
   "cell_type": "markdown",
   "metadata": {},
   "source": [
    "##### Now let's use best params to update preprocessor and model in our pipeline"
   ]
  },
  {
   "cell_type": "code",
   "execution_count": 11,
   "metadata": {},
   "outputs": [],
   "source": [
    "# autoxgb_params = {'learning_rate': 0.016067642810265004,\n",
    "\n",
    "# 'reg_lambda': 0.0005033307729410949,\n",
    "\n",
    "# 'reg_alpha': 1.125131255655592e-06,\n",
    "\n",
    "# 'subsample': 0.43211847297916883,\n",
    "\n",
    "# 'colsample_bytree': 0.4106787563173376,\n",
    "\n",
    "# 'max_depth': 5,\n",
    "\n",
    "# 'early_stopping_rounds': 354,\n",
    "\n",
    "# 'n_estimators': 7000,\n",
    "\n",
    "# 'tree_method': 'approx',\n",
    "\n",
    "# 'booster': 'gbtree',\n",
    "\n",
    "# 'gamma': 0.2870988185671683,\n",
    "\n",
    "# 'grow_policy': 'depthwise'}"
   ]
  },
  {
   "cell_type": "code",
   "execution_count": 12,
   "metadata": {},
   "outputs": [
    {
     "data": {
      "text/html": [
       "<style>#sk-42887a34-47ca-45bf-8a79-8e7ece7fc00c {color: black;background-color: white;}#sk-42887a34-47ca-45bf-8a79-8e7ece7fc00c pre{padding: 0;}#sk-42887a34-47ca-45bf-8a79-8e7ece7fc00c div.sk-toggleable {background-color: white;}#sk-42887a34-47ca-45bf-8a79-8e7ece7fc00c label.sk-toggleable__label {cursor: pointer;display: block;width: 100%;margin-bottom: 0;padding: 0.3em;box-sizing: border-box;text-align: center;}#sk-42887a34-47ca-45bf-8a79-8e7ece7fc00c div.sk-toggleable__content {max-height: 0;max-width: 0;overflow: hidden;text-align: left;background-color: #f0f8ff;}#sk-42887a34-47ca-45bf-8a79-8e7ece7fc00c div.sk-toggleable__content pre {margin: 0.2em;color: black;border-radius: 0.25em;background-color: #f0f8ff;}#sk-42887a34-47ca-45bf-8a79-8e7ece7fc00c input.sk-toggleable__control:checked~div.sk-toggleable__content {max-height: 200px;max-width: 100%;overflow: auto;}#sk-42887a34-47ca-45bf-8a79-8e7ece7fc00c div.sk-estimator input.sk-toggleable__control:checked~label.sk-toggleable__label {background-color: #d4ebff;}#sk-42887a34-47ca-45bf-8a79-8e7ece7fc00c div.sk-label input.sk-toggleable__control:checked~label.sk-toggleable__label {background-color: #d4ebff;}#sk-42887a34-47ca-45bf-8a79-8e7ece7fc00c input.sk-hidden--visually {border: 0;clip: rect(1px 1px 1px 1px);clip: rect(1px, 1px, 1px, 1px);height: 1px;margin: -1px;overflow: hidden;padding: 0;position: absolute;width: 1px;}#sk-42887a34-47ca-45bf-8a79-8e7ece7fc00c div.sk-estimator {font-family: monospace;background-color: #f0f8ff;border: 1px dotted black;border-radius: 0.25em;box-sizing: border-box;margin-bottom: 0.5em;}#sk-42887a34-47ca-45bf-8a79-8e7ece7fc00c div.sk-estimator:hover {background-color: #d4ebff;}#sk-42887a34-47ca-45bf-8a79-8e7ece7fc00c div.sk-parallel-item::after {content: \"\";width: 100%;border-bottom: 1px solid gray;flex-grow: 1;}#sk-42887a34-47ca-45bf-8a79-8e7ece7fc00c div.sk-label:hover label.sk-toggleable__label {background-color: #d4ebff;}#sk-42887a34-47ca-45bf-8a79-8e7ece7fc00c div.sk-serial::before {content: \"\";position: absolute;border-left: 1px solid gray;box-sizing: border-box;top: 2em;bottom: 0;left: 50%;}#sk-42887a34-47ca-45bf-8a79-8e7ece7fc00c div.sk-serial {display: flex;flex-direction: column;align-items: center;background-color: white;padding-right: 0.2em;padding-left: 0.2em;}#sk-42887a34-47ca-45bf-8a79-8e7ece7fc00c div.sk-item {z-index: 1;}#sk-42887a34-47ca-45bf-8a79-8e7ece7fc00c div.sk-parallel {display: flex;align-items: stretch;justify-content: center;background-color: white;}#sk-42887a34-47ca-45bf-8a79-8e7ece7fc00c div.sk-parallel::before {content: \"\";position: absolute;border-left: 1px solid gray;box-sizing: border-box;top: 2em;bottom: 0;left: 50%;}#sk-42887a34-47ca-45bf-8a79-8e7ece7fc00c div.sk-parallel-item {display: flex;flex-direction: column;position: relative;background-color: white;}#sk-42887a34-47ca-45bf-8a79-8e7ece7fc00c div.sk-parallel-item:first-child::after {align-self: flex-end;width: 50%;}#sk-42887a34-47ca-45bf-8a79-8e7ece7fc00c div.sk-parallel-item:last-child::after {align-self: flex-start;width: 50%;}#sk-42887a34-47ca-45bf-8a79-8e7ece7fc00c div.sk-parallel-item:only-child::after {width: 0;}#sk-42887a34-47ca-45bf-8a79-8e7ece7fc00c div.sk-dashed-wrapped {border: 1px dashed gray;margin: 0 0.4em 0.5em 0.4em;box-sizing: border-box;padding-bottom: 0.4em;background-color: white;position: relative;}#sk-42887a34-47ca-45bf-8a79-8e7ece7fc00c div.sk-label label {font-family: monospace;font-weight: bold;background-color: white;display: inline-block;line-height: 1.2em;}#sk-42887a34-47ca-45bf-8a79-8e7ece7fc00c div.sk-label-container {position: relative;z-index: 2;text-align: center;}#sk-42887a34-47ca-45bf-8a79-8e7ece7fc00c div.sk-container {display: inline-block;position: relative;}</style><div id=\"sk-42887a34-47ca-45bf-8a79-8e7ece7fc00c\" class\"sk-top-container\"><div class=\"sk-container\"><div class=\"sk-item sk-dashed-wrapped\"><div class=\"sk-label-container\"><div class=\"sk-label sk-toggleable\"><input class=\"sk-toggleable__control sk-hidden--visually\" id=\"c2253a2f-c983-4c1e-bd94-7b17727e47d9\" type=\"checkbox\" ><label class=\"sk-toggleable__label\" for=\"c2253a2f-c983-4c1e-bd94-7b17727e47d9\">Pipeline</label><div class=\"sk-toggleable__content\"><pre>Pipeline(steps=[('preprocessor',\n",
       "                 ColumnTransformer(transformers=[('num_cols',\n",
       "                                                  Pipeline(steps=[('imputer',\n",
       "                                                                   SimpleImputer(strategy='constant')),\n",
       "                                                                  ('scaler',\n",
       "                                                                   StandardScaler())]),\n",
       "                                                  ['MSSubClass', 'LotFrontage',\n",
       "                                                   'LotArea', 'OverallQual',\n",
       "                                                   'OverallCond', 'YearBuilt',\n",
       "                                                   'YearRemodAdd', 'MasVnrArea',\n",
       "                                                   'BsmtFinSF1', 'BsmtFinSF2',\n",
       "                                                   'BsmtUnfSF', 'TotalBsmtSF',\n",
       "                                                   '1stFlrSF', '2ndFlrSF',\n",
       "                                                   '...\n",
       "                              learning_rate=0.016012475961174746,\n",
       "                              max_delta_step=None, max_depth=5,\n",
       "                              min_child_weight=None, missing=nan,\n",
       "                              monotone_constraints=None, n_estimators=7000,\n",
       "                              n_jobs=None, num_parallel_tree=None,\n",
       "                              predictor=None, random_state=None,\n",
       "                              reg_alpha=75.99856826761018,\n",
       "                              reg_lambda=0.3410194623899067,\n",
       "                              scale_pos_weight=None,\n",
       "                              subsample=0.2048463199761608, tree_method='hist',\n",
       "                              validate_parameters=None, verbosity=None))])</pre></div></div></div><div class=\"sk-serial\"><div class=\"sk-item sk-dashed-wrapped\"><div class=\"sk-label-container\"><div class=\"sk-label sk-toggleable\"><input class=\"sk-toggleable__control sk-hidden--visually\" id=\"cb2ac120-f007-42f7-8089-780c2711fe8f\" type=\"checkbox\" ><label class=\"sk-toggleable__label\" for=\"cb2ac120-f007-42f7-8089-780c2711fe8f\">preprocessor: ColumnTransformer</label><div class=\"sk-toggleable__content\"><pre>ColumnTransformer(transformers=[('num_cols',\n",
       "                                 Pipeline(steps=[('imputer',\n",
       "                                                  SimpleImputer(strategy='constant')),\n",
       "                                                 ('scaler', StandardScaler())]),\n",
       "                                 ['MSSubClass', 'LotFrontage', 'LotArea',\n",
       "                                  'OverallQual', 'OverallCond', 'YearBuilt',\n",
       "                                  'YearRemodAdd', 'MasVnrArea', 'BsmtFinSF1',\n",
       "                                  'BsmtFinSF2', 'BsmtUnfSF', 'TotalBsmtSF',\n",
       "                                  '1stFlrSF', '2ndFlrSF', 'LowQualFinSF',\n",
       "                                  'GrLivArea', 'BsmtF...\n",
       "                                 ['MSZoning', 'Street', 'Alley', 'LotShape',\n",
       "                                  'LandContour', 'Utilities', 'LotConfig',\n",
       "                                  'LandSlope', 'Condition1', 'Condition2',\n",
       "                                  'BldgType', 'HouseStyle', 'RoofStyle',\n",
       "                                  'RoofMatl', 'MasVnrType', 'ExterQual',\n",
       "                                  'ExterCond', 'Foundation', 'BsmtQual',\n",
       "                                  'BsmtCond', 'BsmtExposure', 'BsmtFinType1',\n",
       "                                  'BsmtFinType2', 'Heating', 'HeatingQC',\n",
       "                                  'CentralAir', 'Electrical', 'KitchenQual',\n",
       "                                  'Functional', 'FireplaceQu', ...])])</pre></div></div></div><div class=\"sk-parallel\"><div class=\"sk-parallel-item\"><div class=\"sk-item\"><div class=\"sk-label-container\"><div class=\"sk-label sk-toggleable\"><input class=\"sk-toggleable__control sk-hidden--visually\" id=\"e2add983-a0ae-4b58-b0fb-0d24aab43696\" type=\"checkbox\" ><label class=\"sk-toggleable__label\" for=\"e2add983-a0ae-4b58-b0fb-0d24aab43696\">num_cols</label><div class=\"sk-toggleable__content\"><pre>['MSSubClass', 'LotFrontage', 'LotArea', 'OverallQual', 'OverallCond', 'YearBuilt', 'YearRemodAdd', 'MasVnrArea', 'BsmtFinSF1', 'BsmtFinSF2', 'BsmtUnfSF', 'TotalBsmtSF', '1stFlrSF', '2ndFlrSF', 'LowQualFinSF', 'GrLivArea', 'BsmtFullBath', 'BsmtHalfBath', 'FullBath', 'HalfBath', 'BedroomAbvGr', 'KitchenAbvGr', 'TotRmsAbvGrd', 'Fireplaces', 'GarageYrBlt', 'GarageCars', 'GarageArea', 'WoodDeckSF', 'OpenPorchSF', 'EnclosedPorch', '3SsnPorch', 'ScreenPorch', 'PoolArea', 'MiscVal', 'MoSold', 'YrSold']</pre></div></div></div><div class=\"sk-serial\"><div class=\"sk-item\"><div class=\"sk-serial\"><div class=\"sk-item\"><div class=\"sk-estimator sk-toggleable\"><input class=\"sk-toggleable__control sk-hidden--visually\" id=\"491cca1e-fc57-40ad-b7ca-7e6cb5cf7f90\" type=\"checkbox\" ><label class=\"sk-toggleable__label\" for=\"491cca1e-fc57-40ad-b7ca-7e6cb5cf7f90\">SimpleImputer</label><div class=\"sk-toggleable__content\"><pre>SimpleImputer(strategy='constant')</pre></div></div></div><div class=\"sk-item\"><div class=\"sk-estimator sk-toggleable\"><input class=\"sk-toggleable__control sk-hidden--visually\" id=\"88b27115-b754-4da6-8004-dd52aa72226d\" type=\"checkbox\" ><label class=\"sk-toggleable__label\" for=\"88b27115-b754-4da6-8004-dd52aa72226d\">StandardScaler</label><div class=\"sk-toggleable__content\"><pre>StandardScaler()</pre></div></div></div></div></div></div></div></div><div class=\"sk-parallel-item\"><div class=\"sk-item\"><div class=\"sk-label-container\"><div class=\"sk-label sk-toggleable\"><input class=\"sk-toggleable__control sk-hidden--visually\" id=\"239935ed-1a0d-4970-864d-3b92fe91b17e\" type=\"checkbox\" ><label class=\"sk-toggleable__label\" for=\"239935ed-1a0d-4970-864d-3b92fe91b17e\">cat_cols</label><div class=\"sk-toggleable__content\"><pre>['MSZoning', 'Street', 'Alley', 'LotShape', 'LandContour', 'Utilities', 'LotConfig', 'LandSlope', 'Condition1', 'Condition2', 'BldgType', 'HouseStyle', 'RoofStyle', 'RoofMatl', 'MasVnrType', 'ExterQual', 'ExterCond', 'Foundation', 'BsmtQual', 'BsmtCond', 'BsmtExposure', 'BsmtFinType1', 'BsmtFinType2', 'Heating', 'HeatingQC', 'CentralAir', 'Electrical', 'KitchenQual', 'Functional', 'FireplaceQu', 'GarageType', 'GarageFinish', 'GarageQual', 'GarageCond', 'PavedDrive', 'PoolQC', 'Fence', 'MiscFeature', 'SaleType', 'SaleCondition', 'Neighborhood', 'Exterior1st', 'Exterior2nd']</pre></div></div></div><div class=\"sk-serial\"><div class=\"sk-item\"><div class=\"sk-serial\"><div class=\"sk-item\"><div class=\"sk-estimator sk-toggleable\"><input class=\"sk-toggleable__control sk-hidden--visually\" id=\"fc92e3c6-f227-493c-98cd-86fd074e6853\" type=\"checkbox\" ><label class=\"sk-toggleable__label\" for=\"fc92e3c6-f227-493c-98cd-86fd074e6853\">SimpleImputer</label><div class=\"sk-toggleable__content\"><pre>SimpleImputer(strategy='constant')</pre></div></div></div><div class=\"sk-item\"><div class=\"sk-estimator sk-toggleable\"><input class=\"sk-toggleable__control sk-hidden--visually\" id=\"958dbb8d-d8cb-402e-90a8-f93b4a499e96\" type=\"checkbox\" ><label class=\"sk-toggleable__label\" for=\"958dbb8d-d8cb-402e-90a8-f93b4a499e96\">OneHotEncoder</label><div class=\"sk-toggleable__content\"><pre>OneHotEncoder(handle_unknown='ignore')</pre></div></div></div></div></div></div></div></div></div></div><div class=\"sk-item\"><div class=\"sk-estimator sk-toggleable\"><input class=\"sk-toggleable__control sk-hidden--visually\" id=\"3d999099-cbfc-4f43-ae8d-ad5dcaaf61b8\" type=\"checkbox\" ><label class=\"sk-toggleable__label\" for=\"3d999099-cbfc-4f43-ae8d-ad5dcaaf61b8\">XGBRegressor</label><div class=\"sk-toggleable__content\"><pre>XGBRegressor(base_score=None, booster='gbtree', colsample_bylevel=None,\n",
       "             colsample_bynode=None, colsample_bytree=0.7312842669839699,\n",
       "             early_stopping_rounds=427, enable_categorical=False,\n",
       "             gamma=0.021165662172103753, gpu_id=None, grow_policy='depthwise',\n",
       "             importance_type=None, interaction_constraints=None,\n",
       "             learning_rate=0.016012475961174746, max_delta_step=None,\n",
       "             max_depth=5, min_child_weight=None, missing=nan,\n",
       "             monotone_constraints=None, n_estimators=7000, n_jobs=None,\n",
       "             num_parallel_tree=None, predictor=None, random_state=None,\n",
       "             reg_alpha=75.99856826761018, reg_lambda=0.3410194623899067,\n",
       "             scale_pos_weight=None, subsample=0.2048463199761608,\n",
       "             tree_method='hist', validate_parameters=None, verbosity=None)</pre></div></div></div></div></div></div></div>"
      ],
      "text/plain": [
       "Pipeline(steps=[('preprocessor',\n",
       "                 ColumnTransformer(transformers=[('num_cols',\n",
       "                                                  Pipeline(steps=[('imputer',\n",
       "                                                                   SimpleImputer(strategy='constant')),\n",
       "                                                                  ('scaler',\n",
       "                                                                   StandardScaler())]),\n",
       "                                                  ['MSSubClass', 'LotFrontage',\n",
       "                                                   'LotArea', 'OverallQual',\n",
       "                                                   'OverallCond', 'YearBuilt',\n",
       "                                                   'YearRemodAdd', 'MasVnrArea',\n",
       "                                                   'BsmtFinSF1', 'BsmtFinSF2',\n",
       "                                                   'BsmtUnfSF', 'TotalBsmtSF',\n",
       "                                                   '1stFlrSF', '2ndFlrSF',\n",
       "                                                   '...\n",
       "                              learning_rate=0.016012475961174746,\n",
       "                              max_delta_step=None, max_depth=5,\n",
       "                              min_child_weight=None, missing=nan,\n",
       "                              monotone_constraints=None, n_estimators=7000,\n",
       "                              n_jobs=None, num_parallel_tree=None,\n",
       "                              predictor=None, random_state=None,\n",
       "                              reg_alpha=75.99856826761018,\n",
       "                              reg_lambda=0.3410194623899067,\n",
       "                              scale_pos_weight=None,\n",
       "                              subsample=0.2048463199761608, tree_method='hist',\n",
       "                              validate_parameters=None, verbosity=None))])"
      ]
     },
     "execution_count": 12,
     "metadata": {},
     "output_type": "execute_result"
    }
   ],
   "source": [
    "# xgb_params = autoxgb_params\n",
    "tmlt_xgb_params = study.best_trial.params\n",
    "xgb_params =  tmlt_xgb_params\n",
    "xgb_model = XGBRegressor(**xgb_params)\n",
    "tmlt.update_model(xgb_model)\n",
    "tmlt.spl"
   ]
  },
  {
   "cell_type": "code",
   "execution_count": 13,
   "metadata": {},
   "outputs": [
    {
     "name": "stderr",
     "output_type": "stream",
     "text": [
      "/Users/pamathur/miniconda3/envs/nbdev_env/lib/python3.9/site-packages/sklearn/model_selection/_split.py:676: UserWarning: The least populated class in y has only 1 members, which is less than n_splits=5.\n",
      "  warnings.warn(\n"
     ]
    },
    {
     "name": "stdout",
     "output_type": "stream",
     "text": [
      "[00:42:43] WARNING: /Users/runner/miniforge3/conda-bld/xgboost-split_1634712680264/work/src/learner.cc:576: \n",
      "Parameters: { \"early_stopping_rounds\" } might not be used.\n",
      "\n",
      "  This could be a false alarm, with some parameters getting used by language bindings but\n",
      "  then being mistakenly passed down to XGBoost core, or some parameter actually being used\n",
      "  but getting flagged wrongly here. Please open an issue if you find any such cases.\n",
      "\n",
      "\n"
     ]
    },
    {
     "name": "stderr",
     "output_type": "stream",
     "text": [
      "2021-11-22 00:42:53,893 INFO fold: 1 , mean_absolute_error: 19148.493926583906\n"
     ]
    },
    {
     "name": "stdout",
     "output_type": "stream",
     "text": [
      "[00:42:53] WARNING: /Users/runner/miniforge3/conda-bld/xgboost-split_1634712680264/work/src/learner.cc:576: \n",
      "Parameters: { \"early_stopping_rounds\" } might not be used.\n",
      "\n",
      "  This could be a false alarm, with some parameters getting used by language bindings but\n",
      "  then being mistakenly passed down to XGBoost core, or some parameter actually being used\n",
      "  but getting flagged wrongly here. Please open an issue if you find any such cases.\n",
      "\n",
      "\n"
     ]
    },
    {
     "name": "stderr",
     "output_type": "stream",
     "text": [
      "2021-11-22 00:43:06,375 INFO fold: 2 , mean_absolute_error: 15131.98073630137\n"
     ]
    },
    {
     "name": "stdout",
     "output_type": "stream",
     "text": [
      "[00:43:06] WARNING: /Users/runner/miniforge3/conda-bld/xgboost-split_1634712680264/work/src/learner.cc:576: \n",
      "Parameters: { \"early_stopping_rounds\" } might not be used.\n",
      "\n",
      "  This could be a false alarm, with some parameters getting used by language bindings but\n",
      "  then being mistakenly passed down to XGBoost core, or some parameter actually being used\n",
      "  but getting flagged wrongly here. Please open an issue if you find any such cases.\n",
      "\n",
      "\n"
     ]
    },
    {
     "name": "stderr",
     "output_type": "stream",
     "text": [
      "2021-11-22 00:43:16,508 INFO fold: 3 , mean_absolute_error: 14903.897822131848\n"
     ]
    },
    {
     "name": "stdout",
     "output_type": "stream",
     "text": [
      "[00:43:16] WARNING: /Users/runner/miniforge3/conda-bld/xgboost-split_1634712680264/work/src/learner.cc:576: \n",
      "Parameters: { \"early_stopping_rounds\" } might not be used.\n",
      "\n",
      "  This could be a false alarm, with some parameters getting used by language bindings but\n",
      "  then being mistakenly passed down to XGBoost core, or some parameter actually being used\n",
      "  but getting flagged wrongly here. Please open an issue if you find any such cases.\n",
      "\n",
      "\n"
     ]
    },
    {
     "name": "stderr",
     "output_type": "stream",
     "text": [
      "2021-11-22 00:43:27,856 INFO fold: 4 , mean_absolute_error: 13764.201894263699\n"
     ]
    },
    {
     "name": "stdout",
     "output_type": "stream",
     "text": [
      "[00:43:27] WARNING: /Users/runner/miniforge3/conda-bld/xgboost-split_1634712680264/work/src/learner.cc:576: \n",
      "Parameters: { \"early_stopping_rounds\" } might not be used.\n",
      "\n",
      "  This could be a false alarm, with some parameters getting used by language bindings but\n",
      "  then being mistakenly passed down to XGBoost core, or some parameter actually being used\n",
      "  but getting flagged wrongly here. Please open an issue if you find any such cases.\n",
      "\n",
      "\n"
     ]
    },
    {
     "name": "stderr",
     "output_type": "stream",
     "text": [
      "2021-11-22 00:43:39,492 INFO fold: 5 , mean_absolute_error: 14727.987318065068\n",
      "2021-11-22 00:43:39,493 INFO  mean metrics score: 15535.31233946918\n"
     ]
    },
    {
     "name": "stdout",
     "output_type": "stream",
     "text": [
      "(1459,)\n"
     ]
    }
   ],
   "source": [
    "# k-fold training\n",
    "xgb_model_metrics_score, xgb_model_test_preds = tmlt.do_kfold_training(n_splits=5,\n",
    "                                                                          metrics=mean_absolute_error,\n",
    "                                                                          random_state=42)\n",
    "# predict\n",
    "print(xgb_model_test_preds.shape)"
   ]
  },
  {
   "cell_type": "markdown",
   "metadata": {},
   "source": [
    "mean metrics score: 14761.77\n",
    "\n",
    "(1459,)"
   ]
  },
  {
   "cell_type": "markdown",
   "metadata": {},
   "source": [
    "#### Yup Indeed Optuna tunning xgb model has improved MAE from earlier cross validated model!"
   ]
  },
  {
   "cell_type": "markdown",
   "metadata": {},
   "source": [
    "**Amazing our MAE has reduced to 14761.77 by using Optuna based HyperParams search, If we can continue doing hyperparmas tunning, may be we can even do better, take that as challenge!**"
   ]
  },
  {
   "cell_type": "code",
   "execution_count": null,
   "metadata": {},
   "outputs": [],
   "source": []
  }
 ],
 "metadata": {
  "kernelspec": {
   "display_name": "Python [conda env:nbdev_env]",
   "language": "python",
   "name": "conda-env-nbdev_env-py"
  },
  "language_info": {
   "codemirror_mode": {
    "name": "ipython",
    "version": 3
   },
   "file_extension": ".py",
   "mimetype": "text/x-python",
   "name": "python",
   "nbconvert_exporter": "python",
   "pygments_lexer": "ipython3",
   "version": "3.9.7"
  }
 },
 "nbformat": 4,
 "nbformat_minor": 2
}
