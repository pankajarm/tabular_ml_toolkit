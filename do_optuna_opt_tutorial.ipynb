{
 "cells": [
  {
   "cell_type": "code",
   "execution_count": 1,
   "metadata": {},
   "outputs": [],
   "source": [
    "%load_ext autoreload\n",
    "%autoreload 2"
   ]
  },
  {
   "cell_type": "markdown",
   "metadata": {},
   "source": [
    "# Getting Started Tutorial with Tabular ML Toolkit\n",
    "\n",
    "> A tutorial on getting started with Tabular ml toolkit\n",
    "\n",
    "> tabular_ml_toolkit is a superfast helper library to speedup your machine learning project based on Tabular or Structured data.\n",
    "\n",
    "> It comes with model parallelism and cutting edge hyperparameter tuning techniques."
   ]
  },
  {
   "cell_type": "markdown",
   "metadata": {},
   "source": [
    "## Install"
   ]
  },
  {
   "cell_type": "markdown",
   "metadata": {},
   "source": [
    "`pip install -U tabular_ml_toolkit`"
   ]
  },
  {
   "cell_type": "markdown",
   "metadata": {},
   "source": [
    "## How to Best Use tabular_ml_toolkit"
   ]
  },
  {
   "cell_type": "markdown",
   "metadata": {},
   "source": [
    "Start with your favorite model and then just simply create MLPipeline with one API."
   ]
  },
  {
   "cell_type": "markdown",
   "metadata": {},
   "source": [
    "*For example, Here we are using RandomForestRegressor from Scikit-Learn, on  [Melbourne Home Sale price data](https://www.kaggle.com/estrotococo/home-data-for-ml-course)*\n",
    "\n",
    "\n",
    "*No need to install scikit-learn as it comes preinstall with Tabular_ML_Toolkit*"
   ]
  },
  {
   "cell_type": "code",
   "execution_count": 2,
   "metadata": {},
   "outputs": [],
   "source": [
    "from tabular_ml_toolkit.mlpipeline import *\n",
    "from sklearn.ensemble import RandomForestRegressor\n",
    "from sklearn.metrics import mean_absolute_error\n",
    "import pandas as pd\n",
    "import numpy as np\n",
    "\n",
    "# for displaying diagram of pipelines \n",
    "from sklearn import set_config\n",
    "set_config(display=\"diagram\")\n",
    "\n",
    "# Just to compare fit times\n",
    "import time"
   ]
  },
  {
   "cell_type": "code",
   "execution_count": 3,
   "metadata": {},
   "outputs": [],
   "source": [
    "# Dataset file names and Paths\n",
    "DIRECTORY_PATH = \"https://raw.githubusercontent.com/psmathur/tabular_ml_toolkit/master/input/home_data/\"\n",
    "TRAIN_FILE = \"train.csv\"\n",
    "TEST_FILE = \"test.csv\"\n",
    "SAMPLE_SUB_FILE = \"sample_submission.csv\""
   ]
  },
  {
   "cell_type": "code",
   "execution_count": 4,
   "metadata": {},
   "outputs": [],
   "source": [
    "from xgboost import XGBRegressor\n",
    "\n",
    "xgb_params = {\n",
    "    'n_estimators':250,\n",
    "    'learning_rate':0.05,\n",
    "    'random_state':42,\n",
    "    # for GPU\n",
    "#     'tree_method': 'gpu_hist',\n",
    "#     'predictor': 'gpu_predictor',\n",
    "}\n",
    "\n",
    "\n",
    "# create xgb ml model\n",
    "xgb_model = XGBRegressor(**xgb_params)"
   ]
  },
  {
   "cell_type": "code",
   "execution_count": 5,
   "metadata": {},
   "outputs": [
    {
     "name": "stderr",
     "output_type": "stream",
     "text": [
      "2021-11-16 18:10:34,678 INFO 12 cores found, parallel processing is enabled!\n",
      "2021-11-16 18:10:35,180 INFO DataFrame Memory usage decreased to 0.58 Mb (35.5% reduction)\n",
      "2021-11-16 18:10:35,546 INFO DataFrame Memory usage decreased to 0.58 Mb (34.8% reduction)\n"
     ]
    }
   ],
   "source": [
    "# createm ml pipeline for scikit-learn model\n",
    "tmlt = MLPipeline().prepare_data_for_training(\n",
    "    train_file_path= DIRECTORY_PATH+TRAIN_FILE,\n",
    "    test_file_path= DIRECTORY_PATH+TEST_FILE,\n",
    "    idx_col=\"Id\", target=\"SalePrice\",\n",
    "    model=xgb_model,\n",
    "    random_state=42)"
   ]
  },
  {
   "cell_type": "code",
   "execution_count": 6,
   "metadata": {},
   "outputs": [],
   "source": [
    "# tmlt.spl"
   ]
  },
  {
   "cell_type": "markdown",
   "metadata": {},
   "source": [
    "#### To see clear picture, let's do k_fold training on updated scikit model"
   ]
  },
  {
   "cell_type": "code",
   "execution_count": 7,
   "metadata": {},
   "outputs": [],
   "source": [
    "# # k-fold training\n",
    "# xgb_model_metrics_score, xgb_model_preds = tmlt.do_k_fold_training(n_splits=5,\n",
    "#                                                                           metrics=mean_absolute_error,\n",
    "#                                                                           random_state=42)\n",
    "# print(\"mean metrics score:\", np.mean(xgb_model_metrics_score))\n",
    "# # predict\n",
    "# print(xgb_model_preds.shape)"
   ]
  },
  {
   "cell_type": "markdown",
   "metadata": {},
   "source": [
    "##### Let's see if we can improve our K_Fold score with hyperparams tunning"
   ]
  },
  {
   "cell_type": "code",
   "execution_count": 8,
   "metadata": {},
   "outputs": [],
   "source": [
    "# from sklearn.preprocessing import StandardScaler, MinMaxScaler\n",
    "# from sklearn.impute import SimpleImputer\n",
    "# # from sklearn."
   ]
  },
  {
   "cell_type": "code",
   "execution_count": 9,
   "metadata": {},
   "outputs": [
    {
     "name": "stderr",
     "output_type": "stream",
     "text": [
      "2021-11-16 18:10:35,827 INFO direction is: minimize\n",
      "\u001b[32m[I 2021-11-16 18:10:35,921]\u001b[0m Using an existing study with name 'tmlt_autoxgb' instead of creating a new one.\u001b[0m\n",
      "/Users/pamathur/miniconda3/envs/nbdev_env/lib/python3.9/site-packages/sklearn/model_selection/_split.py:676: UserWarning: The least populated class in y has only 1 members, which is less than n_splits=5.\n",
      "  warnings.warn(\n"
     ]
    },
    {
     "name": "stdout",
     "output_type": "stream",
     "text": [
      "[18:10:36] WARNING: /Users/runner/miniforge3/conda-bld/xgboost-split_1634712680264/work/src/learner.cc:576: \n",
      "Parameters: { \"colsample_bytree\", \"max_depth\", \"subsample\", \"tree_method\" } might not be used.\n",
      "\n",
      "  This could be a false alarm, with some parameters getting used by language bindings but\n",
      "  then being mistakenly passed down to XGBoost core, or some parameter actually being used\n",
      "  but getting flagged wrongly here. Please open an issue if you find any such cases.\n",
      "\n",
      "\n"
     ]
    },
    {
     "name": "stderr",
     "output_type": "stream",
     "text": [
      "2021-11-16 18:10:51,129 INFO fold: 1 , mean_absolute_error: 22159.765477846748\n"
     ]
    },
    {
     "name": "stdout",
     "output_type": "stream",
     "text": [
      "[18:10:51] WARNING: /Users/runner/miniforge3/conda-bld/xgboost-split_1634712680264/work/src/learner.cc:576: \n",
      "Parameters: { \"colsample_bytree\", \"max_depth\", \"subsample\", \"tree_method\" } might not be used.\n",
      "\n",
      "  This could be a false alarm, with some parameters getting used by language bindings but\n",
      "  then being mistakenly passed down to XGBoost core, or some parameter actually being used\n",
      "  but getting flagged wrongly here. Please open an issue if you find any such cases.\n",
      "\n",
      "\n"
     ]
    },
    {
     "name": "stderr",
     "output_type": "stream",
     "text": [
      "2021-11-16 18:11:05,466 INFO fold: 2 , mean_absolute_error: 16814.249438142124\n"
     ]
    },
    {
     "name": "stdout",
     "output_type": "stream",
     "text": [
      "[18:11:05] WARNING: /Users/runner/miniforge3/conda-bld/xgboost-split_1634712680264/work/src/learner.cc:576: \n",
      "Parameters: { \"colsample_bytree\", \"max_depth\", \"subsample\", \"tree_method\" } might not be used.\n",
      "\n",
      "  This could be a false alarm, with some parameters getting used by language bindings but\n",
      "  then being mistakenly passed down to XGBoost core, or some parameter actually being used\n",
      "  but getting flagged wrongly here. Please open an issue if you find any such cases.\n",
      "\n",
      "\n"
     ]
    },
    {
     "name": "stderr",
     "output_type": "stream",
     "text": [
      "2021-11-16 18:11:17,081 INFO fold: 3 , mean_absolute_error: 18457.338291952055\n"
     ]
    },
    {
     "name": "stdout",
     "output_type": "stream",
     "text": [
      "[18:11:17] WARNING: /Users/runner/miniforge3/conda-bld/xgboost-split_1634712680264/work/src/learner.cc:576: \n",
      "Parameters: { \"colsample_bytree\", \"max_depth\", \"subsample\", \"tree_method\" } might not be used.\n",
      "\n",
      "  This could be a false alarm, with some parameters getting used by language bindings but\n",
      "  then being mistakenly passed down to XGBoost core, or some parameter actually being used\n",
      "  but getting flagged wrongly here. Please open an issue if you find any such cases.\n",
      "\n",
      "\n"
     ]
    },
    {
     "name": "stderr",
     "output_type": "stream",
     "text": [
      "2021-11-16 18:11:24,688 INFO fold: 4 , mean_absolute_error: 17241.310399721748\n"
     ]
    },
    {
     "name": "stdout",
     "output_type": "stream",
     "text": [
      "[18:11:24] WARNING: /Users/runner/miniforge3/conda-bld/xgboost-split_1634712680264/work/src/learner.cc:576: \n",
      "Parameters: { \"colsample_bytree\", \"max_depth\", \"subsample\", \"tree_method\" } might not be used.\n",
      "\n",
      "  This could be a false alarm, with some parameters getting used by language bindings but\n",
      "  then being mistakenly passed down to XGBoost core, or some parameter actually being used\n",
      "  but getting flagged wrongly here. Please open an issue if you find any such cases.\n",
      "\n",
      "\n"
     ]
    },
    {
     "name": "stderr",
     "output_type": "stream",
     "text": [
      "2021-11-16 18:11:32,901 INFO fold: 5 , mean_absolute_error: 19821.63851468857\n",
      "\u001b[32m[I 2021-11-16 18:11:32,935]\u001b[0m Trial 45 finished with value: 18898.860424470247 and parameters: {'learning_rate': 0.016515998563772637, 'reg_lambda': 8.088564149641936e-08, 'reg_alpha': 0.0005635063160681214, 'subsample': 0.22548198976416645, 'colsample_bytree': 0.8720130206059861, 'max_depth': 8, 'early_stopping_rounds': 436, 'n_estimators': 15000, 'tree_method': 'exact', 'booster': 'gblinear'}. Best is trial 38 with value: 15106.833885380993.\u001b[0m\n",
      "/Users/pamathur/miniconda3/envs/nbdev_env/lib/python3.9/site-packages/sklearn/model_selection/_split.py:676: UserWarning: The least populated class in y has only 1 members, which is less than n_splits=5.\n",
      "  warnings.warn(\n",
      "2021-11-16 18:12:01,464 INFO fold: 1 , mean_absolute_error: 18106.061403039384\n",
      "2021-11-16 18:12:34,375 INFO fold: 2 , mean_absolute_error: 15288.579409246575\n",
      "2021-11-16 18:13:26,053 INFO fold: 3 , mean_absolute_error: 15021.933647260274\n",
      "2021-11-16 18:13:38,018 INFO fold: 4 , mean_absolute_error: 13583.052092251712\n",
      "2021-11-16 18:13:51,454 INFO fold: 5 , mean_absolute_error: 15095.503478167808\n",
      "\u001b[32m[I 2021-11-16 18:13:51,476]\u001b[0m Trial 46 finished with value: 15419.02600599315 and parameters: {'learning_rate': 0.02182294278760127, 'reg_lambda': 9.535983848579827e-05, 'reg_alpha': 0.00013915622464614786, 'subsample': 0.7769267171901739, 'colsample_bytree': 0.7256037498558972, 'max_depth': 5, 'early_stopping_rounds': 352, 'n_estimators': 7000, 'tree_method': 'approx', 'booster': 'gbtree', 'gamma': 0.0029359061817292183, 'grow_policy': 'depthwise'}. Best is trial 38 with value: 15106.833885380993.\u001b[0m\n",
      "/Users/pamathur/miniconda3/envs/nbdev_env/lib/python3.9/site-packages/sklearn/model_selection/_split.py:676: UserWarning: The least populated class in y has only 1 members, which is less than n_splits=5.\n",
      "  warnings.warn(\n",
      "2021-11-16 18:14:31,133 INFO fold: 1 , mean_absolute_error: 17856.710790346748\n",
      "2021-11-16 18:15:10,171 INFO fold: 2 , mean_absolute_error: 14402.65163473887\n",
      "2021-11-16 18:15:48,894 INFO fold: 3 , mean_absolute_error: 14463.456041309932\n",
      "2021-11-16 18:16:28,227 INFO fold: 4 , mean_absolute_error: 13109.191513270547\n",
      "2021-11-16 18:17:07,745 INFO fold: 5 , mean_absolute_error: 14641.348860231165\n",
      "\u001b[32m[I 2021-11-16 18:17:07,769]\u001b[0m Trial 47 finished with value: 14894.671767979453 and parameters: {'learning_rate': 0.010848218278471048, 'reg_lambda': 1.0613008216761301e-05, 'reg_alpha': 4.21300307891317e-06, 'subsample': 0.6052227077512764, 'colsample_bytree': 0.6146669993264926, 'max_depth': 4, 'early_stopping_rounds': 194, 'n_estimators': 20000, 'tree_method': 'hist', 'booster': 'gbtree', 'gamma': 0.012933483229426676, 'grow_policy': 'lossguide'}. Best is trial 47 with value: 14894.671767979453.\u001b[0m\n"
     ]
    },
    {
     "name": "stdout",
     "output_type": "stream",
     "text": [
      "FrozenTrial(number=47, values=[14894.671767979453], datetime_start=datetime.datetime(2021, 11, 16, 18, 13, 51, 481897), datetime_complete=datetime.datetime(2021, 11, 16, 18, 17, 7, 746829), params={'booster': 'gbtree', 'colsample_bytree': 0.6146669993264926, 'early_stopping_rounds': 194, 'gamma': 0.012933483229426676, 'grow_policy': 'lossguide', 'learning_rate': 0.010848218278471048, 'max_depth': 4, 'n_estimators': 20000, 'reg_alpha': 4.21300307891317e-06, 'reg_lambda': 1.0613008216761301e-05, 'subsample': 0.6052227077512764, 'tree_method': 'hist'}, distributions={'booster': CategoricalDistribution(choices=('gbtree', 'gblinear')), 'colsample_bytree': UniformDistribution(high=1.0, low=0.1), 'early_stopping_rounds': IntUniformDistribution(high=500, low=100, step=1), 'gamma': LogUniformDistribution(high=1.0, low=1e-08), 'grow_policy': CategoricalDistribution(choices=('depthwise', 'lossguide')), 'learning_rate': LogUniformDistribution(high=0.25, low=0.01), 'max_depth': IntUniformDistribution(high=9, low=1, step=1), 'n_estimators': CategoricalDistribution(choices=(7000, 15000, 20000)), 'reg_alpha': LogUniformDistribution(high=100.0, low=1e-08), 'reg_lambda': LogUniformDistribution(high=100.0, low=1e-08), 'subsample': UniformDistribution(high=1.0, low=0.1), 'tree_method': CategoricalDistribution(choices=('exact', 'approx', 'hist'))}, user_attrs={}, system_attrs={}, intermediate_values={}, trial_id=48, state=TrialState.COMPLETE, value=None)\n"
     ]
    }
   ],
   "source": [
    "study = tmlt.do_xgb_optuna_optimization(task=\"regression\", xgb_eval_metric=\"rmse\",\n",
    "                                        kfold_metrics=mean_absolute_error, output_dir_path=\"output/\")\n",
    "print(study.best_trial)"
   ]
  },
  {
   "cell_type": "code",
   "execution_count": 10,
   "metadata": {},
   "outputs": [
    {
     "data": {
      "text/plain": [
       "{'booster': 'gbtree',\n",
       " 'colsample_bytree': 0.6146669993264926,\n",
       " 'early_stopping_rounds': 194,\n",
       " 'gamma': 0.012933483229426676,\n",
       " 'grow_policy': 'lossguide',\n",
       " 'learning_rate': 0.010848218278471048,\n",
       " 'max_depth': 4,\n",
       " 'n_estimators': 20000,\n",
       " 'reg_alpha': 4.21300307891317e-06,\n",
       " 'reg_lambda': 1.0613008216761301e-05,\n",
       " 'subsample': 0.6052227077512764,\n",
       " 'tree_method': 'hist'}"
      ]
     },
     "execution_count": 10,
     "metadata": {},
     "output_type": "execute_result"
    }
   ],
   "source": [
    "study.best_trial.params"
   ]
  },
  {
   "cell_type": "markdown",
   "metadata": {},
   "source": [
    "**Awesome we found best params with K-fold variations ~ 1 minute!**"
   ]
  },
  {
   "cell_type": "markdown",
   "metadata": {},
   "source": [
    "##### Now let's use best params to update preprocessor and model in our pipeline"
   ]
  },
  {
   "cell_type": "code",
   "execution_count": 11,
   "metadata": {},
   "outputs": [],
   "source": [
    "# autoxgb_params = {'learning_rate': 0.016067642810265004,\n",
    "\n",
    "# 'reg_lambda': 0.0005033307729410949,\n",
    "\n",
    "# 'reg_alpha': 1.125131255655592e-06,\n",
    "\n",
    "# 'subsample': 0.43211847297916883,\n",
    "\n",
    "# 'colsample_bytree': 0.4106787563173376,\n",
    "\n",
    "# 'max_depth': 5,\n",
    "\n",
    "# 'early_stopping_rounds': 354,\n",
    "\n",
    "# 'n_estimators': 7000,\n",
    "\n",
    "# 'tree_method': 'approx',\n",
    "\n",
    "# 'booster': 'gbtree',\n",
    "\n",
    "# 'gamma': 0.2870988185671683,\n",
    "\n",
    "# 'grow_policy': 'depthwise'}"
   ]
  },
  {
   "cell_type": "code",
   "execution_count": 12,
   "metadata": {},
   "outputs": [
    {
     "data": {
      "text/html": [
       "<style>#sk-0aec42d7-ba09-4b37-968c-ba9c4600a113 {color: black;background-color: white;}#sk-0aec42d7-ba09-4b37-968c-ba9c4600a113 pre{padding: 0;}#sk-0aec42d7-ba09-4b37-968c-ba9c4600a113 div.sk-toggleable {background-color: white;}#sk-0aec42d7-ba09-4b37-968c-ba9c4600a113 label.sk-toggleable__label {cursor: pointer;display: block;width: 100%;margin-bottom: 0;padding: 0.3em;box-sizing: border-box;text-align: center;}#sk-0aec42d7-ba09-4b37-968c-ba9c4600a113 div.sk-toggleable__content {max-height: 0;max-width: 0;overflow: hidden;text-align: left;background-color: #f0f8ff;}#sk-0aec42d7-ba09-4b37-968c-ba9c4600a113 div.sk-toggleable__content pre {margin: 0.2em;color: black;border-radius: 0.25em;background-color: #f0f8ff;}#sk-0aec42d7-ba09-4b37-968c-ba9c4600a113 input.sk-toggleable__control:checked~div.sk-toggleable__content {max-height: 200px;max-width: 100%;overflow: auto;}#sk-0aec42d7-ba09-4b37-968c-ba9c4600a113 div.sk-estimator input.sk-toggleable__control:checked~label.sk-toggleable__label {background-color: #d4ebff;}#sk-0aec42d7-ba09-4b37-968c-ba9c4600a113 div.sk-label input.sk-toggleable__control:checked~label.sk-toggleable__label {background-color: #d4ebff;}#sk-0aec42d7-ba09-4b37-968c-ba9c4600a113 input.sk-hidden--visually {border: 0;clip: rect(1px 1px 1px 1px);clip: rect(1px, 1px, 1px, 1px);height: 1px;margin: -1px;overflow: hidden;padding: 0;position: absolute;width: 1px;}#sk-0aec42d7-ba09-4b37-968c-ba9c4600a113 div.sk-estimator {font-family: monospace;background-color: #f0f8ff;border: 1px dotted black;border-radius: 0.25em;box-sizing: border-box;margin-bottom: 0.5em;}#sk-0aec42d7-ba09-4b37-968c-ba9c4600a113 div.sk-estimator:hover {background-color: #d4ebff;}#sk-0aec42d7-ba09-4b37-968c-ba9c4600a113 div.sk-parallel-item::after {content: \"\";width: 100%;border-bottom: 1px solid gray;flex-grow: 1;}#sk-0aec42d7-ba09-4b37-968c-ba9c4600a113 div.sk-label:hover label.sk-toggleable__label {background-color: #d4ebff;}#sk-0aec42d7-ba09-4b37-968c-ba9c4600a113 div.sk-serial::before {content: \"\";position: absolute;border-left: 1px solid gray;box-sizing: border-box;top: 2em;bottom: 0;left: 50%;}#sk-0aec42d7-ba09-4b37-968c-ba9c4600a113 div.sk-serial {display: flex;flex-direction: column;align-items: center;background-color: white;padding-right: 0.2em;padding-left: 0.2em;}#sk-0aec42d7-ba09-4b37-968c-ba9c4600a113 div.sk-item {z-index: 1;}#sk-0aec42d7-ba09-4b37-968c-ba9c4600a113 div.sk-parallel {display: flex;align-items: stretch;justify-content: center;background-color: white;}#sk-0aec42d7-ba09-4b37-968c-ba9c4600a113 div.sk-parallel::before {content: \"\";position: absolute;border-left: 1px solid gray;box-sizing: border-box;top: 2em;bottom: 0;left: 50%;}#sk-0aec42d7-ba09-4b37-968c-ba9c4600a113 div.sk-parallel-item {display: flex;flex-direction: column;position: relative;background-color: white;}#sk-0aec42d7-ba09-4b37-968c-ba9c4600a113 div.sk-parallel-item:first-child::after {align-self: flex-end;width: 50%;}#sk-0aec42d7-ba09-4b37-968c-ba9c4600a113 div.sk-parallel-item:last-child::after {align-self: flex-start;width: 50%;}#sk-0aec42d7-ba09-4b37-968c-ba9c4600a113 div.sk-parallel-item:only-child::after {width: 0;}#sk-0aec42d7-ba09-4b37-968c-ba9c4600a113 div.sk-dashed-wrapped {border: 1px dashed gray;margin: 0 0.4em 0.5em 0.4em;box-sizing: border-box;padding-bottom: 0.4em;background-color: white;position: relative;}#sk-0aec42d7-ba09-4b37-968c-ba9c4600a113 div.sk-label label {font-family: monospace;font-weight: bold;background-color: white;display: inline-block;line-height: 1.2em;}#sk-0aec42d7-ba09-4b37-968c-ba9c4600a113 div.sk-label-container {position: relative;z-index: 2;text-align: center;}#sk-0aec42d7-ba09-4b37-968c-ba9c4600a113 div.sk-container {display: inline-block;position: relative;}</style><div id=\"sk-0aec42d7-ba09-4b37-968c-ba9c4600a113\" class\"sk-top-container\"><div class=\"sk-container\"><div class=\"sk-item sk-dashed-wrapped\"><div class=\"sk-label-container\"><div class=\"sk-label sk-toggleable\"><input class=\"sk-toggleable__control sk-hidden--visually\" id=\"9ebe772b-4843-4aac-9866-8d8034f90414\" type=\"checkbox\" ><label class=\"sk-toggleable__label\" for=\"9ebe772b-4843-4aac-9866-8d8034f90414\">Pipeline</label><div class=\"sk-toggleable__content\"><pre>Pipeline(steps=[('preprocessor',\n",
       "                 ColumnTransformer(transformers=[('num_cols',\n",
       "                                                  Pipeline(steps=[('imputer',\n",
       "                                                                   SimpleImputer(strategy='median')),\n",
       "                                                                  ('scaler',\n",
       "                                                                   StandardScaler())]),\n",
       "                                                  ['MSSubClass', 'LotFrontage',\n",
       "                                                   'LotArea', 'OverallQual',\n",
       "                                                   'OverallCond', 'YearBuilt',\n",
       "                                                   'YearRemodAdd', 'MasVnrArea',\n",
       "                                                   'BsmtFinSF1', 'BsmtFinSF2',\n",
       "                                                   'BsmtUnfSF', 'TotalBsmtSF',\n",
       "                                                   '1stFlrSF', '2ndFlrSF',\n",
       "                                                   'Lo...\n",
       "                              max_delta_step=None, max_depth=4,\n",
       "                              min_child_weight=None, missing=nan,\n",
       "                              monotone_constraints=None, n_estimators=20000,\n",
       "                              n_jobs=None, num_parallel_tree=None,\n",
       "                              predictor=None, random_state=None,\n",
       "                              reg_alpha=4.21300307891317e-06,\n",
       "                              reg_lambda=1.0613008216761301e-05,\n",
       "                              scale_pos_weight=None,\n",
       "                              subsample=0.6052227077512764, tree_method='hist',\n",
       "                              validate_parameters=None, verbosity=None))])</pre></div></div></div><div class=\"sk-serial\"><div class=\"sk-item sk-dashed-wrapped\"><div class=\"sk-label-container\"><div class=\"sk-label sk-toggleable\"><input class=\"sk-toggleable__control sk-hidden--visually\" id=\"69ddb521-10d3-4ed2-b823-15e891a67d24\" type=\"checkbox\" ><label class=\"sk-toggleable__label\" for=\"69ddb521-10d3-4ed2-b823-15e891a67d24\">preprocessor: ColumnTransformer</label><div class=\"sk-toggleable__content\"><pre>ColumnTransformer(transformers=[('num_cols',\n",
       "                                 Pipeline(steps=[('imputer',\n",
       "                                                  SimpleImputer(strategy='median')),\n",
       "                                                 ('scaler', StandardScaler())]),\n",
       "                                 ['MSSubClass', 'LotFrontage', 'LotArea',\n",
       "                                  'OverallQual', 'OverallCond', 'YearBuilt',\n",
       "                                  'YearRemodAdd', 'MasVnrArea', 'BsmtFinSF1',\n",
       "                                  'BsmtFinSF2', 'BsmtUnfSF', 'TotalBsmtSF',\n",
       "                                  '1stFlrSF', '2ndFlrSF', 'LowQualFinSF',\n",
       "                                  'GrLivArea', 'BsmtFul...\n",
       "                                 ['MSZoning', 'Street', 'Alley', 'LotShape',\n",
       "                                  'LandContour', 'Utilities', 'LotConfig',\n",
       "                                  'LandSlope', 'Condition1', 'Condition2',\n",
       "                                  'BldgType', 'HouseStyle', 'RoofStyle',\n",
       "                                  'RoofMatl', 'MasVnrType', 'ExterQual',\n",
       "                                  'ExterCond', 'Foundation', 'BsmtQual',\n",
       "                                  'BsmtCond', 'BsmtExposure', 'BsmtFinType1',\n",
       "                                  'BsmtFinType2', 'Heating', 'HeatingQC',\n",
       "                                  'CentralAir', 'Electrical', 'KitchenQual',\n",
       "                                  'Functional', 'FireplaceQu', ...])])</pre></div></div></div><div class=\"sk-parallel\"><div class=\"sk-parallel-item\"><div class=\"sk-item\"><div class=\"sk-label-container\"><div class=\"sk-label sk-toggleable\"><input class=\"sk-toggleable__control sk-hidden--visually\" id=\"d6dc4fdc-c8d4-4949-acab-118f959ecea4\" type=\"checkbox\" ><label class=\"sk-toggleable__label\" for=\"d6dc4fdc-c8d4-4949-acab-118f959ecea4\">num_cols</label><div class=\"sk-toggleable__content\"><pre>['MSSubClass', 'LotFrontage', 'LotArea', 'OverallQual', 'OverallCond', 'YearBuilt', 'YearRemodAdd', 'MasVnrArea', 'BsmtFinSF1', 'BsmtFinSF2', 'BsmtUnfSF', 'TotalBsmtSF', '1stFlrSF', '2ndFlrSF', 'LowQualFinSF', 'GrLivArea', 'BsmtFullBath', 'BsmtHalfBath', 'FullBath', 'HalfBath', 'BedroomAbvGr', 'KitchenAbvGr', 'TotRmsAbvGrd', 'Fireplaces', 'GarageYrBlt', 'GarageCars', 'GarageArea', 'WoodDeckSF', 'OpenPorchSF', 'EnclosedPorch', '3SsnPorch', 'ScreenPorch', 'PoolArea', 'MiscVal', 'MoSold', 'YrSold']</pre></div></div></div><div class=\"sk-serial\"><div class=\"sk-item\"><div class=\"sk-serial\"><div class=\"sk-item\"><div class=\"sk-estimator sk-toggleable\"><input class=\"sk-toggleable__control sk-hidden--visually\" id=\"282b78a0-ea62-4ece-93e1-5a3a57b02c45\" type=\"checkbox\" ><label class=\"sk-toggleable__label\" for=\"282b78a0-ea62-4ece-93e1-5a3a57b02c45\">SimpleImputer</label><div class=\"sk-toggleable__content\"><pre>SimpleImputer(strategy='median')</pre></div></div></div><div class=\"sk-item\"><div class=\"sk-estimator sk-toggleable\"><input class=\"sk-toggleable__control sk-hidden--visually\" id=\"0e16371c-a7e9-40ec-942b-ccd6f3f2297e\" type=\"checkbox\" ><label class=\"sk-toggleable__label\" for=\"0e16371c-a7e9-40ec-942b-ccd6f3f2297e\">StandardScaler</label><div class=\"sk-toggleable__content\"><pre>StandardScaler()</pre></div></div></div></div></div></div></div></div><div class=\"sk-parallel-item\"><div class=\"sk-item\"><div class=\"sk-label-container\"><div class=\"sk-label sk-toggleable\"><input class=\"sk-toggleable__control sk-hidden--visually\" id=\"a93f405e-8e5f-4678-9b92-b577a2b39ec3\" type=\"checkbox\" ><label class=\"sk-toggleable__label\" for=\"a93f405e-8e5f-4678-9b92-b577a2b39ec3\">cat_cols</label><div class=\"sk-toggleable__content\"><pre>['MSZoning', 'Street', 'Alley', 'LotShape', 'LandContour', 'Utilities', 'LotConfig', 'LandSlope', 'Condition1', 'Condition2', 'BldgType', 'HouseStyle', 'RoofStyle', 'RoofMatl', 'MasVnrType', 'ExterQual', 'ExterCond', 'Foundation', 'BsmtQual', 'BsmtCond', 'BsmtExposure', 'BsmtFinType1', 'BsmtFinType2', 'Heating', 'HeatingQC', 'CentralAir', 'Electrical', 'KitchenQual', 'Functional', 'FireplaceQu', 'GarageType', 'GarageFinish', 'GarageQual', 'GarageCond', 'PavedDrive', 'PoolQC', 'Fence', 'MiscFeature', 'SaleType', 'SaleCondition', 'Neighborhood', 'Exterior1st', 'Exterior2nd']</pre></div></div></div><div class=\"sk-serial\"><div class=\"sk-item\"><div class=\"sk-serial\"><div class=\"sk-item\"><div class=\"sk-estimator sk-toggleable\"><input class=\"sk-toggleable__control sk-hidden--visually\" id=\"f4f62286-14f5-41c3-8cc4-dc9edbb290a6\" type=\"checkbox\" ><label class=\"sk-toggleable__label\" for=\"f4f62286-14f5-41c3-8cc4-dc9edbb290a6\">SimpleImputer</label><div class=\"sk-toggleable__content\"><pre>SimpleImputer(strategy='constant')</pre></div></div></div><div class=\"sk-item\"><div class=\"sk-estimator sk-toggleable\"><input class=\"sk-toggleable__control sk-hidden--visually\" id=\"44a2bc45-0c9f-4759-b36b-fee54905e887\" type=\"checkbox\" ><label class=\"sk-toggleable__label\" for=\"44a2bc45-0c9f-4759-b36b-fee54905e887\">OneHotEncoder</label><div class=\"sk-toggleable__content\"><pre>OneHotEncoder(handle_unknown='ignore')</pre></div></div></div></div></div></div></div></div></div></div><div class=\"sk-item\"><div class=\"sk-estimator sk-toggleable\"><input class=\"sk-toggleable__control sk-hidden--visually\" id=\"04f7cb3b-2889-45ea-adfd-8945ca7abc44\" type=\"checkbox\" ><label class=\"sk-toggleable__label\" for=\"04f7cb3b-2889-45ea-adfd-8945ca7abc44\">XGBRegressor</label><div class=\"sk-toggleable__content\"><pre>XGBRegressor(base_score=None, booster='gbtree', colsample_bylevel=None,\n",
       "             colsample_bynode=None, colsample_bytree=0.6146669993264926,\n",
       "             early_stopping_rounds=194, enable_categorical=False,\n",
       "             gamma=0.012933483229426676, gpu_id=None, grow_policy='lossguide',\n",
       "             importance_type=None, interaction_constraints=None,\n",
       "             learning_rate=0.010848218278471048, max_delta_step=None,\n",
       "             max_depth=4, min_child_weight=None, missing=nan,\n",
       "             monotone_constraints=None, n_estimators=20000, n_jobs=None,\n",
       "             num_parallel_tree=None, predictor=None, random_state=None,\n",
       "             reg_alpha=4.21300307891317e-06, reg_lambda=1.0613008216761301e-05,\n",
       "             scale_pos_weight=None, subsample=0.6052227077512764,\n",
       "             tree_method='hist', validate_parameters=None, verbosity=None)</pre></div></div></div></div></div></div></div>"
      ],
      "text/plain": [
       "Pipeline(steps=[('preprocessor',\n",
       "                 ColumnTransformer(transformers=[('num_cols',\n",
       "                                                  Pipeline(steps=[('imputer',\n",
       "                                                                   SimpleImputer(strategy='median')),\n",
       "                                                                  ('scaler',\n",
       "                                                                   StandardScaler())]),\n",
       "                                                  ['MSSubClass', 'LotFrontage',\n",
       "                                                   'LotArea', 'OverallQual',\n",
       "                                                   'OverallCond', 'YearBuilt',\n",
       "                                                   'YearRemodAdd', 'MasVnrArea',\n",
       "                                                   'BsmtFinSF1', 'BsmtFinSF2',\n",
       "                                                   'BsmtUnfSF', 'TotalBsmtSF',\n",
       "                                                   '1stFlrSF', '2ndFlrSF',\n",
       "                                                   'Lo...\n",
       "                              max_delta_step=None, max_depth=4,\n",
       "                              min_child_weight=None, missing=nan,\n",
       "                              monotone_constraints=None, n_estimators=20000,\n",
       "                              n_jobs=None, num_parallel_tree=None,\n",
       "                              predictor=None, random_state=None,\n",
       "                              reg_alpha=4.21300307891317e-06,\n",
       "                              reg_lambda=1.0613008216761301e-05,\n",
       "                              scale_pos_weight=None,\n",
       "                              subsample=0.6052227077512764, tree_method='hist',\n",
       "                              validate_parameters=None, verbosity=None))])"
      ]
     },
     "execution_count": 12,
     "metadata": {},
     "output_type": "execute_result"
    }
   ],
   "source": [
    "# xgb_params = autoxgb_params\n",
    "tmlt_xgb_params = study.best_trial.params\n",
    "xgb_params =  tmlt_xgb_params\n",
    "xgb_model = XGBRegressor(**xgb_params)\n",
    "tmlt.update_model(xgb_model)\n",
    "tmlt.spl"
   ]
  },
  {
   "cell_type": "code",
   "execution_count": 13,
   "metadata": {},
   "outputs": [
    {
     "name": "stderr",
     "output_type": "stream",
     "text": [
      "/Users/pamathur/miniconda3/envs/nbdev_env/lib/python3.9/site-packages/sklearn/model_selection/_split.py:676: UserWarning: The least populated class in y has only 1 members, which is less than n_splits=5.\n",
      "  warnings.warn(\n"
     ]
    },
    {
     "name": "stdout",
     "output_type": "stream",
     "text": [
      "[18:17:08] WARNING: /Users/runner/miniforge3/conda-bld/xgboost-split_1634712680264/work/src/learner.cc:576: \n",
      "Parameters: { \"early_stopping_rounds\" } might not be used.\n",
      "\n",
      "  This could be a false alarm, with some parameters getting used by language bindings but\n",
      "  then being mistakenly passed down to XGBoost core, or some parameter actually being used\n",
      "  but getting flagged wrongly here. Please open an issue if you find any such cases.\n",
      "\n",
      "\n"
     ]
    },
    {
     "name": "stderr",
     "output_type": "stream",
     "text": [
      "2021-11-16 18:17:47,114 INFO fold: 1 , mean_absolute_error: 18164.97436857877\n"
     ]
    },
    {
     "name": "stdout",
     "output_type": "stream",
     "text": [
      "[18:17:47] WARNING: /Users/runner/miniforge3/conda-bld/xgboost-split_1634712680264/work/src/learner.cc:576: \n",
      "Parameters: { \"early_stopping_rounds\" } might not be used.\n",
      "\n",
      "  This could be a false alarm, with some parameters getting used by language bindings but\n",
      "  then being mistakenly passed down to XGBoost core, or some parameter actually being used\n",
      "  but getting flagged wrongly here. Please open an issue if you find any such cases.\n",
      "\n",
      "\n"
     ]
    },
    {
     "name": "stderr",
     "output_type": "stream",
     "text": [
      "2021-11-16 18:18:27,455 INFO fold: 2 , mean_absolute_error: 14516.620277718323\n"
     ]
    },
    {
     "name": "stdout",
     "output_type": "stream",
     "text": [
      "[18:18:27] WARNING: /Users/runner/miniforge3/conda-bld/xgboost-split_1634712680264/work/src/learner.cc:576: \n",
      "Parameters: { \"early_stopping_rounds\" } might not be used.\n",
      "\n",
      "  This could be a false alarm, with some parameters getting used by language bindings but\n",
      "  then being mistakenly passed down to XGBoost core, or some parameter actually being used\n",
      "  but getting flagged wrongly here. Please open an issue if you find any such cases.\n",
      "\n",
      "\n"
     ]
    },
    {
     "name": "stderr",
     "output_type": "stream",
     "text": [
      "2021-11-16 18:19:06,391 INFO fold: 3 , mean_absolute_error: 14323.742562071919\n"
     ]
    },
    {
     "name": "stdout",
     "output_type": "stream",
     "text": [
      "[18:19:06] WARNING: /Users/runner/miniforge3/conda-bld/xgboost-split_1634712680264/work/src/learner.cc:576: \n",
      "Parameters: { \"early_stopping_rounds\" } might not be used.\n",
      "\n",
      "  This could be a false alarm, with some parameters getting used by language bindings but\n",
      "  then being mistakenly passed down to XGBoost core, or some parameter actually being used\n",
      "  but getting flagged wrongly here. Please open an issue if you find any such cases.\n",
      "\n",
      "\n"
     ]
    },
    {
     "name": "stderr",
     "output_type": "stream",
     "text": [
      "2021-11-16 18:19:47,218 INFO fold: 4 , mean_absolute_error: 13025.971826840754\n"
     ]
    },
    {
     "name": "stdout",
     "output_type": "stream",
     "text": [
      "[18:19:47] WARNING: /Users/runner/miniforge3/conda-bld/xgboost-split_1634712680264/work/src/learner.cc:576: \n",
      "Parameters: { \"early_stopping_rounds\" } might not be used.\n",
      "\n",
      "  This could be a false alarm, with some parameters getting used by language bindings but\n",
      "  then being mistakenly passed down to XGBoost core, or some parameter actually being used\n",
      "  but getting flagged wrongly here. Please open an issue if you find any such cases.\n",
      "\n",
      "\n"
     ]
    },
    {
     "name": "stderr",
     "output_type": "stream",
     "text": [
      "2021-11-16 18:20:26,076 INFO fold: 5 , mean_absolute_error: 14920.972188035103\n"
     ]
    },
    {
     "name": "stdout",
     "output_type": "stream",
     "text": [
      "mean metrics score: 14990.456244648973\n",
      "(1459,)\n"
     ]
    }
   ],
   "source": [
    "# k-fold training\n",
    "xgb_model_metrics_score, xgb_model_preds = tmlt.do_k_fold_training(n_splits=5,\n",
    "                                                                          metrics=mean_absolute_error,\n",
    "                                                                          random_state=42)\n",
    "print(\"mean metrics score:\", np.mean(xgb_model_metrics_score))\n",
    "# predict\n",
    "print(xgb_model_preds.shape)"
   ]
  },
  {
   "cell_type": "markdown",
   "metadata": {},
   "source": [
    "mean metrics score: 15447.19800406678\n",
    "(1459,)"
   ]
  },
  {
   "cell_type": "markdown",
   "metadata": {},
   "source": [
    "#### Yup Indeed Optuna tunning xgb model has improved MAE from earlier cross validated model!"
   ]
  },
  {
   "cell_type": "markdown",
   "metadata": {},
   "source": [
    "**Amazing our MAE has reduced to 15689.22 by GridSearch HyperParamss tunning, If we can continue doing hyperparmas tunning, may be we can even do better, take that as challenge!**"
   ]
  },
  {
   "cell_type": "code",
   "execution_count": null,
   "metadata": {},
   "outputs": [],
   "source": []
  }
 ],
 "metadata": {
  "kernelspec": {
   "display_name": "Python 3 (ipykernel)",
   "language": "python",
   "name": "python3"
  },
  "language_info": {
   "codemirror_mode": {
    "name": "ipython",
    "version": 3
   },
   "file_extension": ".py",
   "mimetype": "text/x-python",
   "name": "python",
   "nbconvert_exporter": "python",
   "pygments_lexer": "ipython3",
   "version": "3.9.7"
  }
 },
 "nbformat": 4,
 "nbformat_minor": 2
}
