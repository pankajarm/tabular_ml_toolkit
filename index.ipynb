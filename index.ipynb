{
 "cells": [
  {
   "cell_type": "code",
   "execution_count": 3,
   "metadata": {},
   "outputs": [],
   "source": [
    "#hide\n",
    "from tabular_ml_toolkit.core import *"
   ]
  },
  {
   "cell_type": "markdown",
   "metadata": {},
   "source": [
    "# Tabular ML Toolkit\n",
    "\n",
    "> A Helpful ML Toolkit to Jumpstart your Machine Learning Project based on Tabular or Structured data."
   ]
  },
  {
   "cell_type": "markdown",
   "metadata": {},
   "source": [
    "## Install"
   ]
  },
  {
   "cell_type": "markdown",
   "metadata": {},
   "source": [
    "`pip install tabular_ml_toolkit`"
   ]
  },
  {
   "cell_type": "markdown",
   "metadata": {},
   "source": [
    "## How to use"
   ]
  },
  {
   "cell_type": "markdown",
   "metadata": {},
   "source": [
    "Load raw data into Pandas dataframe"
   ]
  },
  {
   "cell_type": "code",
   "execution_count": 4,
   "metadata": {},
   "outputs": [
    {
     "name": "stdout",
     "output_type": "stream",
     "text": [
      "X_full shape: (1460, 80)\n",
      "X_test_full shape: (1460, 80)\n"
     ]
    }
   ],
   "source": [
    "dfl = DataFrameLoader()\n",
    "dfl.from_csv(\n",
    "    train_file_path='input/home_data/train.csv',\n",
    "    test_file_path='input/home_data/train.csv',\n",
    "    idx_col='Id')\n",
    "# show shape of dataframes\n",
    "print(\"X_full shape:\", dfl.X_full.shape)\n",
    "print(\"X_test_full shape:\", dfl.X_test.shape)"
   ]
  },
  {
   "cell_type": "markdown",
   "metadata": {},
   "source": [
    "Prepare X (features) dataframe and y(target) series"
   ]
  },
  {
   "cell_type": "code",
   "execution_count": 5,
   "metadata": {},
   "outputs": [
    {
     "name": "stdout",
     "output_type": "stream",
     "text": [
      "homedata_X shape: (1460, 79)\n",
      "homedata_y shape (1460,)\n"
     ]
    }
   ],
   "source": [
    "# Prepare X and y for Melbourne Home Sale Price data\n",
    "dfl.prepare_X_y(input_df=dfl.X_full, target='SalePrice')\n",
    "\n",
    "# show shape of X and y \n",
    "print(\"homedata_X shape:\", dfl.X.shape)\n",
    "print(\"homedata_y shape\", dfl.y.shape)"
   ]
  },
  {
   "cell_type": "code",
   "execution_count": null,
   "metadata": {},
   "outputs": [],
   "source": []
  }
 ],
 "metadata": {
  "kernelspec": {
   "display_name": "Python 3 (ipykernel)",
   "language": "python",
   "name": "python3"
  },
  "language_info": {
   "codemirror_mode": {
    "name": "ipython",
    "version": 3
   },
   "file_extension": ".py",
   "mimetype": "text/x-python",
   "name": "python",
   "nbconvert_exporter": "python",
   "pygments_lexer": "ipython3",
   "version": "3.9.7"
  }
 },
 "nbformat": 4,
 "nbformat_minor": 2
}
