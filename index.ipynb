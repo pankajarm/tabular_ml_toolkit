{
 "cells": [
  {
   "cell_type": "markdown",
   "metadata": {},
   "source": [
    "# Getting Started Tutorial with TMLT (Tabular ML Toolkit)\n",
    "\n",
    "> A tutorial on getting started with TMLT (Tabular ML Toolkit)\n",
    "\n",
    "> tabular_ml_toolkit is a helper library to jumpstart your machine learning project based on Tabular or Structured data.\n",
    "\n",
    "> It comes with model and data parallelism and cutting edge hyperparameter search techniques.\n",
    "\n",
    "> Under the hood TMLT uses modin, optuna, xgboost and scikit-learn pipelines"
   ]
  },
  {
   "cell_type": "markdown",
   "metadata": {},
   "source": [
    "## Install"
   ]
  },
  {
   "cell_type": "markdown",
   "metadata": {},
   "source": [
    "`pip install -U tabular_ml_toolkit`"
   ]
  },
  {
   "cell_type": "markdown",
   "metadata": {},
   "source": [
    "## How to Best Use tabular_ml_toolkit"
   ]
  },
  {
   "cell_type": "markdown",
   "metadata": {},
   "source": [
    "Start with your favorite model and then just simply create tmlt with one API"
   ]
  },
  {
   "cell_type": "markdown",
   "metadata": {},
   "source": [
    "*For example, Here we are using XGBRegressor on  [Melbourne Home Sale price data](https://www.kaggle.com/estrotococo/home-data-for-ml-course)*"
   ]
  },
  {
   "cell_type": "code",
   "execution_count": 1,
   "metadata": {},
   "outputs": [
    {
     "name": "stderr",
     "output_type": "stream",
     "text": [
      "/Users/pankajmathur/anaconda3/envs/nbdev_env/lib/python3.9/site-packages/redis/connection.py:77: UserWarning: redis-py works best with hiredis. Please consider installing\n",
      "  warnings.warn(msg)\n"
     ]
    }
   ],
   "source": [
    "from tabular_ml_toolkit.tmlt import *\n",
    "from sklearn.metrics import mean_absolute_error\n",
    "import numpy as np\n",
    "from xgboost import XGBRegressor"
   ]
  },
  {
   "cell_type": "code",
   "execution_count": 2,
   "metadata": {},
   "outputs": [],
   "source": [
    "# Dataset file names and Paths\n",
    "DIRECTORY_PATH = \"input/home_data/\"\n",
    "TRAIN_FILE = \"train.csv\"\n",
    "TEST_FILE = \"test.csv\"\n",
    "SAMPLE_SUB_FILE = \"sample_submission.csv\"\n",
    "OUTPUT_PATH = \"output/\""
   ]
  },
  {
   "cell_type": "markdown",
   "metadata": {},
   "source": [
    "#### Just point tmlt in the direction of your data, let it know what are idx and target columns in your tabular data and what kind of problem type you are trying to resolve"
   ]
  },
  {
   "cell_type": "code",
   "execution_count": 3,
   "metadata": {},
   "outputs": [
    {
     "name": "stderr",
     "output_type": "stream",
     "text": [
      "2021-12-03 01:01:39,544 INFO 8 cores found, model and data parallel processing should worked!\n",
      "2021-12-03 01:01:39,583 INFO DataFrame Memory usage decreased to 0.58 Mb (35.5% reduction)\n",
      "2021-12-03 01:01:39,620 INFO DataFrame Memory usage decreased to 0.58 Mb (34.8% reduction)\n",
      "2021-12-03 01:01:39,644 INFO Both Numerical & Categorical columns found, Preprocessing will done accordingly!\n"
     ]
    }
   ],
   "source": [
    "# tmlt\n",
    "tmlt = TMLT().prepare_data(\n",
    "    train_file_path= DIRECTORY_PATH+TRAIN_FILE,\n",
    "    test_file_path= DIRECTORY_PATH+TEST_FILE,\n",
    "    idx_col=\"Id\", target=\"SalePrice\",\n",
    "    random_state=42,\n",
    "    problem_type=\"regression\")\n",
    "\n",
    "# TMLT currently only supports below problem_type:\n",
    "\n",
    "# \"binary_classification\"\n",
    "# \"multi_label_classification\"\n",
    "# \"multi_class_classification\"\n",
    "# \"regression\""
   ]
  },
  {
   "cell_type": "code",
   "execution_count": 4,
   "metadata": {},
   "outputs": [
    {
     "name": "stdout",
     "output_type": "stream",
     "text": [
      "<class 'pandas.core.frame.DataFrame'>\n",
      "(1460, 79)\n",
      "<class 'numpy.ndarray'>\n",
      "(1460,)\n",
      "<class 'pandas.core.frame.DataFrame'>\n",
      "(1459, 79)\n"
     ]
    }
   ],
   "source": [
    "print(type(tmlt.dfl.X))\n",
    "print(tmlt.dfl.X.shape)\n",
    "print(type(tmlt.dfl.y))\n",
    "print(tmlt.dfl.y.shape)\n",
    "print(type(tmlt.dfl.X_test))\n",
    "print(tmlt.dfl.X_test.shape)"
   ]
  },
  {
   "cell_type": "code",
   "execution_count": 5,
   "metadata": {},
   "outputs": [
    {
     "data": {
      "text/html": [
       "<div>\n",
       "<style scoped>\n",
       "    .dataframe tbody tr th:only-of-type {\n",
       "        vertical-align: middle;\n",
       "    }\n",
       "\n",
       "    .dataframe tbody tr th {\n",
       "        vertical-align: top;\n",
       "    }\n",
       "\n",
       "    .dataframe thead th {\n",
       "        text-align: right;\n",
       "    }\n",
       "</style>\n",
       "<table border=\"1\" class=\"dataframe\">\n",
       "  <thead>\n",
       "    <tr style=\"text-align: right;\">\n",
       "      <th></th>\n",
       "      <th>MSSubClass</th>\n",
       "      <th>LotFrontage</th>\n",
       "      <th>LotArea</th>\n",
       "      <th>OverallQual</th>\n",
       "      <th>OverallCond</th>\n",
       "      <th>YearBuilt</th>\n",
       "      <th>YearRemodAdd</th>\n",
       "      <th>MasVnrArea</th>\n",
       "      <th>BsmtFinSF1</th>\n",
       "      <th>BsmtFinSF2</th>\n",
       "      <th>...</th>\n",
       "      <th>GarageCond</th>\n",
       "      <th>PavedDrive</th>\n",
       "      <th>PoolQC</th>\n",
       "      <th>Fence</th>\n",
       "      <th>MiscFeature</th>\n",
       "      <th>SaleType</th>\n",
       "      <th>SaleCondition</th>\n",
       "      <th>Neighborhood</th>\n",
       "      <th>Exterior1st</th>\n",
       "      <th>Exterior2nd</th>\n",
       "    </tr>\n",
       "    <tr>\n",
       "      <th>Id</th>\n",
       "      <th></th>\n",
       "      <th></th>\n",
       "      <th></th>\n",
       "      <th></th>\n",
       "      <th></th>\n",
       "      <th></th>\n",
       "      <th></th>\n",
       "      <th></th>\n",
       "      <th></th>\n",
       "      <th></th>\n",
       "      <th></th>\n",
       "      <th></th>\n",
       "      <th></th>\n",
       "      <th></th>\n",
       "      <th></th>\n",
       "      <th></th>\n",
       "      <th></th>\n",
       "      <th></th>\n",
       "      <th></th>\n",
       "      <th></th>\n",
       "      <th></th>\n",
       "    </tr>\n",
       "  </thead>\n",
       "  <tbody>\n",
       "    <tr>\n",
       "      <th>1</th>\n",
       "      <td>60</td>\n",
       "      <td>65.0</td>\n",
       "      <td>8450</td>\n",
       "      <td>7</td>\n",
       "      <td>5</td>\n",
       "      <td>2003</td>\n",
       "      <td>2003</td>\n",
       "      <td>196.0</td>\n",
       "      <td>706</td>\n",
       "      <td>0</td>\n",
       "      <td>...</td>\n",
       "      <td>TA</td>\n",
       "      <td>Y</td>\n",
       "      <td>NaN</td>\n",
       "      <td>NaN</td>\n",
       "      <td>NaN</td>\n",
       "      <td>WD</td>\n",
       "      <td>Normal</td>\n",
       "      <td>CollgCr</td>\n",
       "      <td>VinylSd</td>\n",
       "      <td>VinylSd</td>\n",
       "    </tr>\n",
       "    <tr>\n",
       "      <th>2</th>\n",
       "      <td>20</td>\n",
       "      <td>80.0</td>\n",
       "      <td>9600</td>\n",
       "      <td>6</td>\n",
       "      <td>8</td>\n",
       "      <td>1976</td>\n",
       "      <td>1976</td>\n",
       "      <td>0.0</td>\n",
       "      <td>978</td>\n",
       "      <td>0</td>\n",
       "      <td>...</td>\n",
       "      <td>TA</td>\n",
       "      <td>Y</td>\n",
       "      <td>NaN</td>\n",
       "      <td>NaN</td>\n",
       "      <td>NaN</td>\n",
       "      <td>WD</td>\n",
       "      <td>Normal</td>\n",
       "      <td>Veenker</td>\n",
       "      <td>MetalSd</td>\n",
       "      <td>MetalSd</td>\n",
       "    </tr>\n",
       "    <tr>\n",
       "      <th>3</th>\n",
       "      <td>60</td>\n",
       "      <td>68.0</td>\n",
       "      <td>11250</td>\n",
       "      <td>7</td>\n",
       "      <td>5</td>\n",
       "      <td>2001</td>\n",
       "      <td>2002</td>\n",
       "      <td>162.0</td>\n",
       "      <td>486</td>\n",
       "      <td>0</td>\n",
       "      <td>...</td>\n",
       "      <td>TA</td>\n",
       "      <td>Y</td>\n",
       "      <td>NaN</td>\n",
       "      <td>NaN</td>\n",
       "      <td>NaN</td>\n",
       "      <td>WD</td>\n",
       "      <td>Normal</td>\n",
       "      <td>CollgCr</td>\n",
       "      <td>VinylSd</td>\n",
       "      <td>VinylSd</td>\n",
       "    </tr>\n",
       "    <tr>\n",
       "      <th>4</th>\n",
       "      <td>70</td>\n",
       "      <td>60.0</td>\n",
       "      <td>9550</td>\n",
       "      <td>7</td>\n",
       "      <td>5</td>\n",
       "      <td>1915</td>\n",
       "      <td>1970</td>\n",
       "      <td>0.0</td>\n",
       "      <td>216</td>\n",
       "      <td>0</td>\n",
       "      <td>...</td>\n",
       "      <td>TA</td>\n",
       "      <td>Y</td>\n",
       "      <td>NaN</td>\n",
       "      <td>NaN</td>\n",
       "      <td>NaN</td>\n",
       "      <td>WD</td>\n",
       "      <td>Abnorml</td>\n",
       "      <td>Crawfor</td>\n",
       "      <td>Wd Sdng</td>\n",
       "      <td>Wd Shng</td>\n",
       "    </tr>\n",
       "    <tr>\n",
       "      <th>5</th>\n",
       "      <td>60</td>\n",
       "      <td>84.0</td>\n",
       "      <td>14260</td>\n",
       "      <td>8</td>\n",
       "      <td>5</td>\n",
       "      <td>2000</td>\n",
       "      <td>2000</td>\n",
       "      <td>350.0</td>\n",
       "      <td>655</td>\n",
       "      <td>0</td>\n",
       "      <td>...</td>\n",
       "      <td>TA</td>\n",
       "      <td>Y</td>\n",
       "      <td>NaN</td>\n",
       "      <td>NaN</td>\n",
       "      <td>NaN</td>\n",
       "      <td>WD</td>\n",
       "      <td>Normal</td>\n",
       "      <td>NoRidge</td>\n",
       "      <td>VinylSd</td>\n",
       "      <td>VinylSd</td>\n",
       "    </tr>\n",
       "    <tr>\n",
       "      <th>...</th>\n",
       "      <td>...</td>\n",
       "      <td>...</td>\n",
       "      <td>...</td>\n",
       "      <td>...</td>\n",
       "      <td>...</td>\n",
       "      <td>...</td>\n",
       "      <td>...</td>\n",
       "      <td>...</td>\n",
       "      <td>...</td>\n",
       "      <td>...</td>\n",
       "      <td>...</td>\n",
       "      <td>...</td>\n",
       "      <td>...</td>\n",
       "      <td>...</td>\n",
       "      <td>...</td>\n",
       "      <td>...</td>\n",
       "      <td>...</td>\n",
       "      <td>...</td>\n",
       "      <td>...</td>\n",
       "      <td>...</td>\n",
       "      <td>...</td>\n",
       "    </tr>\n",
       "    <tr>\n",
       "      <th>1456</th>\n",
       "      <td>60</td>\n",
       "      <td>62.0</td>\n",
       "      <td>7917</td>\n",
       "      <td>6</td>\n",
       "      <td>5</td>\n",
       "      <td>1999</td>\n",
       "      <td>2000</td>\n",
       "      <td>0.0</td>\n",
       "      <td>0</td>\n",
       "      <td>0</td>\n",
       "      <td>...</td>\n",
       "      <td>TA</td>\n",
       "      <td>Y</td>\n",
       "      <td>NaN</td>\n",
       "      <td>NaN</td>\n",
       "      <td>NaN</td>\n",
       "      <td>WD</td>\n",
       "      <td>Normal</td>\n",
       "      <td>Gilbert</td>\n",
       "      <td>VinylSd</td>\n",
       "      <td>VinylSd</td>\n",
       "    </tr>\n",
       "    <tr>\n",
       "      <th>1457</th>\n",
       "      <td>20</td>\n",
       "      <td>85.0</td>\n",
       "      <td>13175</td>\n",
       "      <td>6</td>\n",
       "      <td>6</td>\n",
       "      <td>1978</td>\n",
       "      <td>1988</td>\n",
       "      <td>119.0</td>\n",
       "      <td>790</td>\n",
       "      <td>163</td>\n",
       "      <td>...</td>\n",
       "      <td>TA</td>\n",
       "      <td>Y</td>\n",
       "      <td>NaN</td>\n",
       "      <td>MnPrv</td>\n",
       "      <td>NaN</td>\n",
       "      <td>WD</td>\n",
       "      <td>Normal</td>\n",
       "      <td>NWAmes</td>\n",
       "      <td>Plywood</td>\n",
       "      <td>Plywood</td>\n",
       "    </tr>\n",
       "    <tr>\n",
       "      <th>1458</th>\n",
       "      <td>70</td>\n",
       "      <td>66.0</td>\n",
       "      <td>9042</td>\n",
       "      <td>7</td>\n",
       "      <td>9</td>\n",
       "      <td>1941</td>\n",
       "      <td>2006</td>\n",
       "      <td>0.0</td>\n",
       "      <td>275</td>\n",
       "      <td>0</td>\n",
       "      <td>...</td>\n",
       "      <td>TA</td>\n",
       "      <td>Y</td>\n",
       "      <td>NaN</td>\n",
       "      <td>GdPrv</td>\n",
       "      <td>Shed</td>\n",
       "      <td>WD</td>\n",
       "      <td>Normal</td>\n",
       "      <td>Crawfor</td>\n",
       "      <td>CemntBd</td>\n",
       "      <td>CmentBd</td>\n",
       "    </tr>\n",
       "    <tr>\n",
       "      <th>1459</th>\n",
       "      <td>20</td>\n",
       "      <td>68.0</td>\n",
       "      <td>9717</td>\n",
       "      <td>5</td>\n",
       "      <td>6</td>\n",
       "      <td>1950</td>\n",
       "      <td>1996</td>\n",
       "      <td>0.0</td>\n",
       "      <td>49</td>\n",
       "      <td>1029</td>\n",
       "      <td>...</td>\n",
       "      <td>TA</td>\n",
       "      <td>Y</td>\n",
       "      <td>NaN</td>\n",
       "      <td>NaN</td>\n",
       "      <td>NaN</td>\n",
       "      <td>WD</td>\n",
       "      <td>Normal</td>\n",
       "      <td>NAmes</td>\n",
       "      <td>MetalSd</td>\n",
       "      <td>MetalSd</td>\n",
       "    </tr>\n",
       "    <tr>\n",
       "      <th>1460</th>\n",
       "      <td>20</td>\n",
       "      <td>75.0</td>\n",
       "      <td>9937</td>\n",
       "      <td>5</td>\n",
       "      <td>6</td>\n",
       "      <td>1965</td>\n",
       "      <td>1965</td>\n",
       "      <td>0.0</td>\n",
       "      <td>830</td>\n",
       "      <td>290</td>\n",
       "      <td>...</td>\n",
       "      <td>TA</td>\n",
       "      <td>Y</td>\n",
       "      <td>NaN</td>\n",
       "      <td>NaN</td>\n",
       "      <td>NaN</td>\n",
       "      <td>WD</td>\n",
       "      <td>Normal</td>\n",
       "      <td>Edwards</td>\n",
       "      <td>HdBoard</td>\n",
       "      <td>HdBoard</td>\n",
       "    </tr>\n",
       "  </tbody>\n",
       "</table>\n",
       "<p>1460 rows × 79 columns</p>\n",
       "</div>"
      ],
      "text/plain": [
       "      MSSubClass  LotFrontage  LotArea  OverallQual  OverallCond  YearBuilt  \\\n",
       "Id                                                                            \n",
       "1             60         65.0     8450            7            5       2003   \n",
       "2             20         80.0     9600            6            8       1976   \n",
       "3             60         68.0    11250            7            5       2001   \n",
       "4             70         60.0     9550            7            5       1915   \n",
       "5             60         84.0    14260            8            5       2000   \n",
       "...          ...          ...      ...          ...          ...        ...   \n",
       "1456          60         62.0     7917            6            5       1999   \n",
       "1457          20         85.0    13175            6            6       1978   \n",
       "1458          70         66.0     9042            7            9       1941   \n",
       "1459          20         68.0     9717            5            6       1950   \n",
       "1460          20         75.0     9937            5            6       1965   \n",
       "\n",
       "      YearRemodAdd  MasVnrArea  BsmtFinSF1  BsmtFinSF2  ...  GarageCond  \\\n",
       "Id                                                      ...               \n",
       "1             2003       196.0         706           0  ...          TA   \n",
       "2             1976         0.0         978           0  ...          TA   \n",
       "3             2002       162.0         486           0  ...          TA   \n",
       "4             1970         0.0         216           0  ...          TA   \n",
       "5             2000       350.0         655           0  ...          TA   \n",
       "...            ...         ...         ...         ...  ...         ...   \n",
       "1456          2000         0.0           0           0  ...          TA   \n",
       "1457          1988       119.0         790         163  ...          TA   \n",
       "1458          2006         0.0         275           0  ...          TA   \n",
       "1459          1996         0.0          49        1029  ...          TA   \n",
       "1460          1965         0.0         830         290  ...          TA   \n",
       "\n",
       "      PavedDrive  PoolQC  Fence  MiscFeature  SaleType  SaleCondition  \\\n",
       "Id                                                                      \n",
       "1              Y     NaN    NaN          NaN        WD         Normal   \n",
       "2              Y     NaN    NaN          NaN        WD         Normal   \n",
       "3              Y     NaN    NaN          NaN        WD         Normal   \n",
       "4              Y     NaN    NaN          NaN        WD        Abnorml   \n",
       "5              Y     NaN    NaN          NaN        WD         Normal   \n",
       "...          ...     ...    ...          ...       ...            ...   \n",
       "1456           Y     NaN    NaN          NaN        WD         Normal   \n",
       "1457           Y     NaN  MnPrv          NaN        WD         Normal   \n",
       "1458           Y     NaN  GdPrv         Shed        WD         Normal   \n",
       "1459           Y     NaN    NaN          NaN        WD         Normal   \n",
       "1460           Y     NaN    NaN          NaN        WD         Normal   \n",
       "\n",
       "      Neighborhood  Exterior1st  Exterior2nd  \n",
       "Id                                            \n",
       "1          CollgCr      VinylSd      VinylSd  \n",
       "2          Veenker      MetalSd      MetalSd  \n",
       "3          CollgCr      VinylSd      VinylSd  \n",
       "4          Crawfor      Wd Sdng      Wd Shng  \n",
       "5          NoRidge      VinylSd      VinylSd  \n",
       "...            ...          ...          ...  \n",
       "1456       Gilbert      VinylSd      VinylSd  \n",
       "1457        NWAmes      Plywood      Plywood  \n",
       "1458       Crawfor      CemntBd      CmentBd  \n",
       "1459         NAmes      MetalSd      MetalSd  \n",
       "1460       Edwards      HdBoard      HdBoard  \n",
       "\n",
       "[1460 rows x 79 columns]"
      ]
     },
     "execution_count": 5,
     "metadata": {},
     "output_type": "execute_result"
    }
   ],
   "source": [
    "tmlt.dfl.X"
   ]
  },
  {
   "cell_type": "markdown",
   "metadata": {},
   "source": [
    "#### create train valid dataframes for quick preprocessing and training"
   ]
  },
  {
   "cell_type": "code",
   "execution_count": 6,
   "metadata": {},
   "outputs": [
    {
     "name": "stdout",
     "output_type": "stream",
     "text": [
      "CPU times: user 5.56 ms, sys: 1.56 ms, total: 7.12 ms\n",
      "Wall time: 5.91 ms\n"
     ]
    }
   ],
   "source": [
    "%%time\n",
    "# create train, valid split to evaulate model on valid dataset\n",
    "X_train, X_valid,  y_train, y_valid =  tmlt.dfl.create_train_valid(valid_size=0.2)"
   ]
  },
  {
   "cell_type": "code",
   "execution_count": 7,
   "metadata": {},
   "outputs": [
    {
     "name": "stdout",
     "output_type": "stream",
     "text": [
      "(1168, 79)\n",
      "(1168,)\n",
      "(292, 79)\n",
      "(292,)\n"
     ]
    }
   ],
   "source": [
    "print(X_train.shape)\n",
    "print(y_train.shape)\n",
    "print(X_valid.shape)\n",
    "print(y_valid.shape)"
   ]
  },
  {
   "cell_type": "code",
   "execution_count": 8,
   "metadata": {},
   "outputs": [
    {
     "data": {
      "text/plain": [
       "['MSSubClass',\n",
       " 'LotFrontage',\n",
       " 'LotArea',\n",
       " 'OverallQual',\n",
       " 'OverallCond',\n",
       " 'YearBuilt',\n",
       " 'YearRemodAdd',\n",
       " 'MasVnrArea',\n",
       " 'BsmtFinSF1',\n",
       " 'BsmtFinSF2',\n",
       " 'BsmtUnfSF',\n",
       " 'TotalBsmtSF',\n",
       " '1stFlrSF',\n",
       " '2ndFlrSF',\n",
       " 'LowQualFinSF',\n",
       " 'GrLivArea',\n",
       " 'BsmtFullBath',\n",
       " 'BsmtHalfBath',\n",
       " 'FullBath',\n",
       " 'HalfBath',\n",
       " 'BedroomAbvGr',\n",
       " 'KitchenAbvGr',\n",
       " 'TotRmsAbvGrd',\n",
       " 'Fireplaces',\n",
       " 'GarageYrBlt',\n",
       " 'GarageCars',\n",
       " 'GarageArea',\n",
       " 'WoodDeckSF',\n",
       " 'OpenPorchSF',\n",
       " 'EnclosedPorch',\n",
       " '3SsnPorch',\n",
       " 'ScreenPorch',\n",
       " 'PoolArea',\n",
       " 'MiscVal',\n",
       " 'MoSold',\n",
       " 'YrSold',\n",
       " 'MSZoning',\n",
       " 'Street',\n",
       " 'Alley',\n",
       " 'LotShape',\n",
       " 'LandContour',\n",
       " 'Utilities',\n",
       " 'LotConfig',\n",
       " 'LandSlope',\n",
       " 'Condition1',\n",
       " 'Condition2',\n",
       " 'BldgType',\n",
       " 'HouseStyle',\n",
       " 'RoofStyle',\n",
       " 'RoofMatl',\n",
       " 'MasVnrType',\n",
       " 'ExterQual',\n",
       " 'ExterCond',\n",
       " 'Foundation',\n",
       " 'BsmtQual',\n",
       " 'BsmtCond',\n",
       " 'BsmtExposure',\n",
       " 'BsmtFinType1',\n",
       " 'BsmtFinType2',\n",
       " 'Heating',\n",
       " 'HeatingQC',\n",
       " 'CentralAir',\n",
       " 'Electrical',\n",
       " 'KitchenQual',\n",
       " 'Functional',\n",
       " 'FireplaceQu',\n",
       " 'GarageType',\n",
       " 'GarageFinish',\n",
       " 'GarageQual',\n",
       " 'GarageCond',\n",
       " 'PavedDrive',\n",
       " 'PoolQC',\n",
       " 'Fence',\n",
       " 'MiscFeature',\n",
       " 'SaleType',\n",
       " 'SaleCondition',\n",
       " 'Neighborhood',\n",
       " 'Exterior1st',\n",
       " 'Exterior2nd']"
      ]
     },
     "execution_count": 8,
     "metadata": {},
     "output_type": "execute_result"
    }
   ],
   "source": [
    "X_train.columns.to_list()"
   ]
  },
  {
   "cell_type": "markdown",
   "metadata": {},
   "source": [
    "##### PreProcessing X_train, X_valid"
   ]
  },
  {
   "cell_type": "code",
   "execution_count": 9,
   "metadata": {},
   "outputs": [],
   "source": [
    "X_train_np,  X_valid_np = tmlt.pp_fit_transform(X_train, X_valid)"
   ]
  },
  {
   "cell_type": "code",
   "execution_count": 10,
   "metadata": {},
   "outputs": [
    {
     "name": "stdout",
     "output_type": "stream",
     "text": [
      "<class 'numpy.ndarray'>\n",
      "(1168, 302)\n",
      "[[-0.8667643   0.35953495 -0.21289571 ...  0.          0.\n",
      "   0.        ]\n",
      " [ 0.07410996  0.04874271 -0.26524463 ...  1.          0.\n",
      "   0.        ]\n",
      " [-0.63154574  0.27477343 -0.17784146 ...  0.          1.\n",
      "   0.        ]\n",
      " ...\n",
      " [-0.8667643   0.07699655 -0.23409563 ...  0.          0.\n",
      "   0.        ]\n",
      " [-0.16110861 -0.06427265 -0.28337613 ...  0.          1.\n",
      "   0.        ]\n",
      " [ 1.48542135 -0.12078033 -0.65139925 ...  1.          0.\n",
      "   0.        ]]\n",
      "<class 'numpy.ndarray'>\n",
      "(292, 302)\n",
      "[[-0.8667643   0.35953495 -0.21159396 ...  0.          0.\n",
      "   0.        ]\n",
      " [ 0.07410996  1.15064245  0.14564323 ...  0.          0.\n",
      "   0.        ]\n",
      " [-0.63154574 -0.03601881 -0.16082574 ...  0.          0.\n",
      "   1.        ]\n",
      " ...\n",
      " [ 0.07410996  0.16175807 -0.23158511 ...  0.          0.\n",
      "   1.        ]\n",
      " [ 0.30932853  0.07699655 -0.14929596 ...  0.          0.\n",
      "   0.        ]\n",
      " [-0.8667643   0.35953495 -0.2389307  ...  0.          0.\n",
      "   0.        ]]\n",
      "<class 'numpy.ndarray'>\n",
      "<class 'numpy.ndarray'>\n"
     ]
    }
   ],
   "source": [
    "print(type(X_train_np))\n",
    "print(X_train_np.shape)\n",
    "print(X_train_np)\n",
    "print(type(X_valid_np))\n",
    "print(X_valid_np.shape)\n",
    "print(X_valid_np)\n",
    "print(type(y_valid))\n",
    "print(type(y_train))"
   ]
  },
  {
   "cell_type": "markdown",
   "metadata": {},
   "source": [
    "##### Create a base xgb classifier model with your best guess params"
   ]
  },
  {
   "cell_type": "code",
   "execution_count": 11,
   "metadata": {},
   "outputs": [],
   "source": [
    "xgb_params = {\n",
    "    'learning_rate':0.1,\n",
    "    'use_label_encoder':False,\n",
    "    'eval_metric':'rmse',\n",
    "    'random_state':42,\n",
    "    # for GPU\n",
    "#     'tree_method': 'gpu_hist',\n",
    "#     'predictor': 'gpu_predictor',\n",
    "}\n",
    "# create xgb ml model\n",
    "xgb_model = XGBRegressor(**xgb_params)"
   ]
  },
  {
   "cell_type": "code",
   "execution_count": 12,
   "metadata": {},
   "outputs": [
    {
     "name": "stdout",
     "output_type": "stream",
     "text": [
      "[0]\tvalidation_0-mae:163571.12500\tvalidation_1-mae:161393.54688\n",
      "[1]\tvalidation_0-mae:147516.60938\tvalidation_1-mae:145594.76562\n",
      "[2]\tvalidation_0-mae:133031.25000\tvalidation_1-mae:131271.89062\n",
      "[3]\tvalidation_0-mae:120025.90625\tvalidation_1-mae:118728.56250\n",
      "[4]\tvalidation_0-mae:108270.36719\tvalidation_1-mae:107347.47656\n",
      "[5]\tvalidation_0-mae:97682.67188\tvalidation_1-mae:97039.68750\n",
      "[6]\tvalidation_0-mae:88152.20312\tvalidation_1-mae:87739.09375\n",
      "[7]\tvalidation_0-mae:79561.57812\tvalidation_1-mae:79410.71875\n",
      "[8]\tvalidation_0-mae:71819.76562\tvalidation_1-mae:71818.29688\n",
      "[9]\tvalidation_0-mae:64848.34375\tvalidation_1-mae:65190.00000\n",
      "[10]\tvalidation_0-mae:58572.50781\tvalidation_1-mae:59032.60938\n",
      "[11]\tvalidation_0-mae:52900.61719\tvalidation_1-mae:53628.83984\n",
      "[12]\tvalidation_0-mae:47809.79688\tvalidation_1-mae:48795.12891\n",
      "[13]\tvalidation_0-mae:43199.58203\tvalidation_1-mae:44768.75391\n",
      "[14]\tvalidation_0-mae:39026.89453\tvalidation_1-mae:40993.75391\n",
      "[15]\tvalidation_0-mae:35295.15234\tvalidation_1-mae:37743.45703\n",
      "[16]\tvalidation_0-mae:31955.25977\tvalidation_1-mae:34854.84766\n",
      "[17]\tvalidation_0-mae:28971.28711\tvalidation_1-mae:32287.73242\n",
      "[18]\tvalidation_0-mae:26281.03711\tvalidation_1-mae:30146.36328\n",
      "[19]\tvalidation_0-mae:23896.85352\tvalidation_1-mae:28317.61719\n",
      "[20]\tvalidation_0-mae:21762.68945\tvalidation_1-mae:26553.39648\n",
      "[21]\tvalidation_0-mae:19878.99023\tvalidation_1-mae:25134.86719\n",
      "[22]\tvalidation_0-mae:18234.02539\tvalidation_1-mae:23892.49805\n",
      "[23]\tvalidation_0-mae:16760.88672\tvalidation_1-mae:22820.93945\n",
      "[24]\tvalidation_0-mae:15470.35938\tvalidation_1-mae:21875.94727\n",
      "[25]\tvalidation_0-mae:14324.28320\tvalidation_1-mae:21028.40820\n",
      "[26]\tvalidation_0-mae:13315.77344\tvalidation_1-mae:20373.10352\n",
      "[27]\tvalidation_0-mae:12439.24609\tvalidation_1-mae:19819.13281\n",
      "[28]\tvalidation_0-mae:11684.00098\tvalidation_1-mae:19348.29297\n",
      "[29]\tvalidation_0-mae:11059.27930\tvalidation_1-mae:18995.41016\n",
      "[30]\tvalidation_0-mae:10440.24121\tvalidation_1-mae:18655.58984\n",
      "[31]\tvalidation_0-mae:9933.77051\tvalidation_1-mae:18455.21484\n",
      "[32]\tvalidation_0-mae:9512.89160\tvalidation_1-mae:18218.52344\n",
      "[33]\tvalidation_0-mae:9131.25000\tvalidation_1-mae:18023.82031\n",
      "[34]\tvalidation_0-mae:8790.16797\tvalidation_1-mae:17859.59961\n",
      "[35]\tvalidation_0-mae:8494.99023\tvalidation_1-mae:17701.11328\n",
      "[36]\tvalidation_0-mae:8218.47070\tvalidation_1-mae:17511.48242\n",
      "[37]\tvalidation_0-mae:7982.64062\tvalidation_1-mae:17380.58203\n",
      "[38]\tvalidation_0-mae:7765.91602\tvalidation_1-mae:17263.15430\n",
      "[39]\tvalidation_0-mae:7571.43164\tvalidation_1-mae:17157.31445\n",
      "[40]\tvalidation_0-mae:7400.69678\tvalidation_1-mae:17084.52734\n",
      "[41]\tvalidation_0-mae:7255.80322\tvalidation_1-mae:16984.06836\n",
      "[42]\tvalidation_0-mae:7120.85254\tvalidation_1-mae:16936.52734\n",
      "[43]\tvalidation_0-mae:7021.75098\tvalidation_1-mae:16871.25391\n",
      "[44]\tvalidation_0-mae:6904.57959\tvalidation_1-mae:16786.16406\n",
      "[45]\tvalidation_0-mae:6795.55371\tvalidation_1-mae:16767.24414\n",
      "[46]\tvalidation_0-mae:6699.66797\tvalidation_1-mae:16710.98828\n",
      "[47]\tvalidation_0-mae:6617.50342\tvalidation_1-mae:16633.10156\n",
      "[48]\tvalidation_0-mae:6525.06250\tvalidation_1-mae:16592.31055\n",
      "[49]\tvalidation_0-mae:6444.99707\tvalidation_1-mae:16545.24805\n",
      "[50]\tvalidation_0-mae:6368.84522\tvalidation_1-mae:16529.72461\n",
      "[51]\tvalidation_0-mae:6308.04443\tvalidation_1-mae:16509.66406\n",
      "[52]\tvalidation_0-mae:6235.47363\tvalidation_1-mae:16467.63672\n",
      "[53]\tvalidation_0-mae:6170.30664\tvalidation_1-mae:16437.53711\n",
      "[54]\tvalidation_0-mae:6096.66504\tvalidation_1-mae:16426.47852\n",
      "[55]\tvalidation_0-mae:6030.46924\tvalidation_1-mae:16402.89648\n",
      "[56]\tvalidation_0-mae:5979.41455\tvalidation_1-mae:16384.90820\n",
      "[57]\tvalidation_0-mae:5930.14307\tvalidation_1-mae:16365.77734\n",
      "[58]\tvalidation_0-mae:5855.33447\tvalidation_1-mae:16326.19531\n",
      "[59]\tvalidation_0-mae:5799.06934\tvalidation_1-mae:16306.03809\n",
      "[60]\tvalidation_0-mae:5741.82373\tvalidation_1-mae:16259.26758\n",
      "[61]\tvalidation_0-mae:5696.98730\tvalidation_1-mae:16249.43164\n",
      "[62]\tvalidation_0-mae:5636.51953\tvalidation_1-mae:16235.25879\n",
      "[63]\tvalidation_0-mae:5596.73047\tvalidation_1-mae:16216.96191\n",
      "[64]\tvalidation_0-mae:5532.39062\tvalidation_1-mae:16213.82227\n",
      "[65]\tvalidation_0-mae:5484.53320\tvalidation_1-mae:16170.15918\n",
      "[66]\tvalidation_0-mae:5430.04834\tvalidation_1-mae:16145.35644\n",
      "[67]\tvalidation_0-mae:5379.63916\tvalidation_1-mae:16137.69531\n",
      "[68]\tvalidation_0-mae:5333.49463\tvalidation_1-mae:16110.00488\n",
      "[69]\tvalidation_0-mae:5292.53857\tvalidation_1-mae:16101.55859\n",
      "[70]\tvalidation_0-mae:5251.44385\tvalidation_1-mae:16099.10644\n",
      "[71]\tvalidation_0-mae:5211.78076\tvalidation_1-mae:16090.78418\n",
      "[72]\tvalidation_0-mae:5173.71728\tvalidation_1-mae:16073.96875\n",
      "[73]\tvalidation_0-mae:5137.71045\tvalidation_1-mae:16059.36426\n",
      "[74]\tvalidation_0-mae:5109.84766\tvalidation_1-mae:16063.33008\n",
      "[75]\tvalidation_0-mae:5067.20557\tvalidation_1-mae:16040.93457\n",
      "[76]\tvalidation_0-mae:5029.69434\tvalidation_1-mae:16016.77441\n",
      "[77]\tvalidation_0-mae:4965.25439\tvalidation_1-mae:16006.92481\n",
      "[78]\tvalidation_0-mae:4916.77148\tvalidation_1-mae:15985.60254\n",
      "[79]\tvalidation_0-mae:4871.69385\tvalidation_1-mae:15979.62012\n",
      "[80]\tvalidation_0-mae:4839.61133\tvalidation_1-mae:15987.80469\n",
      "[81]\tvalidation_0-mae:4780.63721\tvalidation_1-mae:15977.58594\n",
      "[82]\tvalidation_0-mae:4726.29248\tvalidation_1-mae:15988.03613\n",
      "[83]\tvalidation_0-mae:4661.18750\tvalidation_1-mae:15967.74512\n",
      "[84]\tvalidation_0-mae:4631.53662\tvalidation_1-mae:15964.20898\n",
      "[85]\tvalidation_0-mae:4595.88965\tvalidation_1-mae:15976.01367\n",
      "[86]\tvalidation_0-mae:4550.44531\tvalidation_1-mae:15978.03418\n",
      "[87]\tvalidation_0-mae:4524.75586\tvalidation_1-mae:15973.61328\n",
      "[88]\tvalidation_0-mae:4493.00391\tvalidation_1-mae:15959.08203\n",
      "[89]\tvalidation_0-mae:4449.60352\tvalidation_1-mae:15952.80176\n",
      "[90]\tvalidation_0-mae:4394.51611\tvalidation_1-mae:15933.91797\n",
      "[91]\tvalidation_0-mae:4312.19971\tvalidation_1-mae:15930.66406\n",
      "[92]\tvalidation_0-mae:4269.59082\tvalidation_1-mae:15931.15430\n",
      "[93]\tvalidation_0-mae:4245.10938\tvalidation_1-mae:15923.23633\n",
      "[94]\tvalidation_0-mae:4202.90820\tvalidation_1-mae:15935.78809\n",
      "[95]\tvalidation_0-mae:4165.09668\tvalidation_1-mae:15923.79102\n",
      "[96]\tvalidation_0-mae:4134.82812\tvalidation_1-mae:15915.75488\n",
      "[97]\tvalidation_0-mae:4092.34375\tvalidation_1-mae:15931.96094\n",
      "[98]\tvalidation_0-mae:4057.74561\tvalidation_1-mae:15944.72754\n",
      "[99]\tvalidation_0-mae:4035.76465\tvalidation_1-mae:15936.53418\n",
      "X_valid MAE: 15915.75480254709\n"
     ]
    }
   ],
   "source": [
    "# Now do model training\n",
    "xgb_model.fit(X_train_np, y_train,\n",
    "              verbose=True,\n",
    "              #detect & avoid overfitting\n",
    "              eval_set=[(X_train_np, y_train), (X_valid_np, y_valid)],\n",
    "              eval_metric=\"mae\",\n",
    "              early_stopping_rounds=300\n",
    "             )\n",
    "\n",
    "#predict\n",
    "preds = xgb_model.predict(X_valid_np)\n",
    "print('X_valid MAE:', mean_absolute_error(y_valid, preds))"
   ]
  },
  {
   "cell_type": "markdown",
   "metadata": {},
   "source": [
    "In background `prepare_data` method loads your input data into Pandas DataFrame, seprates X(features) and y(target).\n",
    "\n",
    "The `prepare_data` methods prepare X and y DataFrames, preprocess all numerical and categorical type data found in these DataFrames using scikit-learn pipelines. Then it bundle preprocessed data with your given model and return an MLPipeline object, this class instance has dataframeloader, preprocessor and scikit-lean pipeline instances.\n",
    "\n",
    "The `create_train_valid` method use valid_size to split X(features) into X_train, y_train, X_valid and y_valid DataFrames, so you can call fit methods on X_train and y_train and predict methods on X_valid or X_test.\n",
    "\n",
    "\n",
    "Please check detail documentation and source code for more details."
   ]
  },
  {
   "cell_type": "markdown",
   "metadata": {},
   "source": [
    "*NOTE: If you want to customize data and preprocessing steps you can do so by using `DataFrameLoader` and `PreProessor` classes. Check detail documentations for these classes for more options.*"
   ]
  },
  {
   "cell_type": "markdown",
   "metadata": {},
   "source": [
    "\n",
    "\n",
    "#### To see more clear picture of model performance, Let's do a quick Cross Validation on our Pipeline"
   ]
  },
  {
   "cell_type": "markdown",
   "metadata": {},
   "source": [
    "##### PreProcess the data"
   ]
  },
  {
   "cell_type": "code",
   "execution_count": 13,
   "metadata": {},
   "outputs": [],
   "source": [
    "X_np, X_test_np = tmlt.pp_fit_transform(tmlt.dfl.X, tmlt.dfl.X_test)\n",
    "y = tmlt.dfl.y"
   ]
  },
  {
   "cell_type": "code",
   "execution_count": 15,
   "metadata": {},
   "outputs": [
    {
     "name": "stdout",
     "output_type": "stream",
     "text": [
      "scores: [15733.51983893 16386.18366064 16648.82777718 14571.39875856\n",
      " 17295.16245719]\n",
      "Average MAE score: 16127.018498501711\n"
     ]
    }
   ],
   "source": [
    "# Now do cross_validation\n",
    "scores = tmlt.do_cross_validation(X_np, y, xgb_model, scoring='neg_mean_absolute_error', cv=5)\n",
    "\n",
    "print(\"scores:\", scores)\n",
    "print(\"Average MAE score:\", scores.mean())"
   ]
  },
  {
   "cell_type": "markdown",
   "metadata": {},
   "source": [
    "*MAE did came out slightly bad with cross validation*"
   ]
  },
  {
   "cell_type": "markdown",
   "metadata": {},
   "source": [
    "*Let's see if we can improve our cross validation score with hyperparams tunning*"
   ]
  },
  {
   "cell_type": "markdown",
   "metadata": {},
   "source": [
    "**we are using optuna based hyperparameter search here, make sure to supply a new directory path so search is saved**"
   ]
  },
  {
   "cell_type": "code",
   "execution_count": null,
   "metadata": {},
   "outputs": [],
   "source": [
    "study = tmlt.do_xgb_optuna_optimization(optuna_db_path=OUTPUT_PATH, opt_timeout=60)\n",
    "print(study.best_trial)"
   ]
  },
  {
   "cell_type": "markdown",
   "metadata": {},
   "source": [
    "#### Let's use our newly found best params to update the model on sklearn pipeline"
   ]
  },
  {
   "cell_type": "code",
   "execution_count": null,
   "metadata": {},
   "outputs": [],
   "source": [
    "xgb_params.update(study.best_trial.params)\n",
    "print(\"xgb_params\", xgb_params)\n",
    "xgb_model = XGBRegressor(**xgb_params)\n",
    "tmlt.update_model(xgb_model)\n",
    "tmlt.spl"
   ]
  },
  {
   "cell_type": "markdown",
   "metadata": {},
   "source": [
    "#### Now, Let's use 5 K-Fold Training on this Updated XGB model with best params found from Optuna search"
   ]
  },
  {
   "cell_type": "code",
   "execution_count": null,
   "metadata": {},
   "outputs": [],
   "source": [
    "# k-fold training\n",
    "xgb_model_metrics_score, xgb_model_test_preds = tmlt.do_kfold_training(n_splits=5, test_preds_metric=mean_absolute_error)"
   ]
  },
  {
   "cell_type": "code",
   "execution_count": null,
   "metadata": {},
   "outputs": [],
   "source": [
    "# predict on test dataset\n",
    "if xgb_model_test_preds is not None:\n",
    "    print(xgb_model_test_preds.shape)"
   ]
  },
  {
   "cell_type": "markdown",
   "metadata": {},
   "source": [
    "\n",
    "##### You can even improve metrics score further by running Optuna search for longer time or rerunning the study, check documentation for more details"
   ]
  },
  {
   "cell_type": "code",
   "execution_count": null,
   "metadata": {},
   "outputs": [],
   "source": []
  }
 ],
 "metadata": {
  "kernelspec": {
   "display_name": "nbdev_env",
   "language": "python",
   "name": "nbdev_env"
  },
  "language_info": {
   "codemirror_mode": {
    "name": "ipython",
    "version": 3
   },
   "file_extension": ".py",
   "mimetype": "text/x-python",
   "name": "python",
   "nbconvert_exporter": "python",
   "pygments_lexer": "ipython3",
   "version": "3.9.7"
  }
 },
 "nbformat": 4,
 "nbformat_minor": 2
}
