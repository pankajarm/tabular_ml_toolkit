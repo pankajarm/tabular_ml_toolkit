{
 "cells": [
  {
   "cell_type": "code",
   "execution_count": 1,
   "id": "c60df308",
   "metadata": {},
   "outputs": [],
   "source": [
    "%load_ext autoreload\n",
    "%autoreload 2"
   ]
  },
  {
   "cell_type": "code",
   "execution_count": 2,
   "id": "122a57d6",
   "metadata": {},
   "outputs": [],
   "source": [
    "# default_exp utility"
   ]
  },
  {
   "cell_type": "code",
   "execution_count": 3,
   "id": "dfbb3106",
   "metadata": {},
   "outputs": [],
   "source": [
    "# export\n",
    "from tabular_ml_toolkit.dataframeloader import *\n",
    "from tabular_ml_toolkit.preprocessor import *\n",
    "from tabular_ml_toolkit.logger import *\n",
    "from tabular_ml_toolkit.optuna_objective import *"
   ]
  },
  {
   "cell_type": "code",
   "execution_count": 4,
   "id": "9fdc9c82",
   "metadata": {},
   "outputs": [],
   "source": [
    "# export\n",
    "# hide\n",
    "import pandas as pd\n",
    "import numpy as np\n",
    "from sklearn.compose import ColumnTransformer\n",
    "from sklearn.pipeline import Pipeline\n",
    "from sklearn.impute import SimpleImputer\n",
    "from sklearn.preprocessing import OneHotEncoder, OrdinalEncoder, StandardScaler, MinMaxScaler\n",
    "from sklearn.metrics import mean_absolute_error, mean_squared_error, r2_score\n",
    "from sklearn.metrics import roc_auc_score, accuracy_score, log_loss, f1_score, precision_score, recall_score\n",
    "from sklearn.model_selection import cross_val_score, GridSearchCV, StratifiedKFold\n",
    "# for Optuna\n",
    "import optuna\n",
    "#for XGB\n",
    "import xgboost\n",
    "\n",
    "# for finding n_jobs in all sklearn estimators\n",
    "from sklearn.utils import all_estimators\n",
    "import inspect\n",
    "\n",
    "# Just to compare fit times\n",
    "import time\n",
    "\n",
    "# for os specific settings\n",
    "import os"
   ]
  },
  {
   "cell_type": "code",
   "execution_count": 5,
   "id": "0625ec4f",
   "metadata": {},
   "outputs": [],
   "source": [
    "# export\n",
    "\n",
    "#helper method to find ideal cpu cores\n",
    "def find_ideal_cpu_cores():\n",
    "    if os.cpu_count() > 2:\n",
    "        ideal_cpu_cores = os.cpu_count()-1\n",
    "        logger.info(f\"{os.cpu_count()} cores found, model and data parallel processing should worked!\")\n",
    "    else:\n",
    "        ideal_cpu_cores = None\n",
    "        logger.info(f\"{os.cpu_count()} cores found, model and data parallel processing may NOT worked!\")\n",
    "    return ideal_cpu_cores\n",
    "\n",
    "#Helper method to find all sklearn estimators with support for parallelism aka n_jobs\n",
    "def check_has_n_jobs():\n",
    "    has_n_jobs = ['XGBRegressor', 'XGBClassifier']\n",
    "    for est in all_estimators():\n",
    "        s = inspect.signature(est[1])\n",
    "        if 'n_jobs' in s.parameters:\n",
    "            has_n_jobs.append(est[0])\n",
    "    return has_n_jobs"
   ]
  },
  {
   "cell_type": "code",
   "execution_count": null,
   "id": "7dc5a672",
   "metadata": {},
   "outputs": [],
   "source": [
    "# #export\n",
    "\n",
    "# def use_modin():\n",
    "    \n",
    "#     #settings for modin\n",
    "#     import ray\n",
    "#     ray.init()\n",
    "#     import os\n",
    "#     os.environ[\"MODIN_ENGINE\"] = \"ray\"\n",
    "#     import modin.pandas as pd"
   ]
  },
  {
   "cell_type": "code",
   "execution_count": 6,
   "id": "29a10a9c",
   "metadata": {},
   "outputs": [],
   "source": [
    "# export\n",
    "\n",
    "\n",
    "# Inspired from AutoXGB Library, Thanks to https://github.com/abhishekkrthakur\n",
    "\n",
    "def fetch_params_for_problem_type(problem_type):\n",
    "    if problem_type == \"classification\":\n",
    "        xgb_model = xgboost.XGBClassifier\n",
    "        direction = \"minimize\"\n",
    "        eval_metric = \"logloss\"\n",
    "        val_preds_metrics = [log_loss, roc_auc_score, accuracy_score, f1_score, precision_score, recall_score]\n",
    "\n",
    "\n",
    "    elif problem_type == \"multi_class_classification\":\n",
    "        xgb_model = xgboost.XGBClassifier\n",
    "        direction = \"minimize\"\n",
    "        eval_metric = \"mlogloss\"\n",
    "        val_preds_metrics = [log_loss, roc_auc_score, accuracy_score, f1_score, precision_score, recall_score]\n",
    "\n",
    "    elif problem_type == \"regression\":\n",
    "        xgb_model = xgboost.XGBRegressor\n",
    "        direction = \"minimize\"\n",
    "        eval_metric = \"rmse\"\n",
    "        val_preds_metrics = [mean_absolute_error, mean_squared_error, r2_score]\n",
    "    else:\n",
    "        raise NotImplementedError\n",
    "\n",
    "    return xgb_model, val_preds_metrics, eval_metric, direction\n",
    "\n",
    "def kfold_dict_mean(kfold_metrics_results):\n",
    "    mean_metrics_results = {}\n",
    "    for single_fold_metrics_results in kfold_metrics_results:\n",
    "        for key in single_fold_metrics_results.keys():\n",
    "            if key in mean_metrics_results:\n",
    "                mean_metrics_results[key] += single_fold_metrics_results[key] / len(kfold_metrics_results)\n",
    "            else:\n",
    "                mean_metrics_results[key] = single_fold_metrics_results[key] / len(kfold_metrics_results)\n",
    "    \n",
    "    return mean_metrics_results"
   ]
  },
  {
   "cell_type": "code",
   "execution_count": 7,
   "id": "4806b8ce",
   "metadata": {},
   "outputs": [],
   "source": [
    "test_list = [\n",
    "\n",
    "{'log_loss': 0.6621403547748923, 'roc_auc_score': 0.6182978723404255, 'accuracy_score': 0.605, 'f1_score': 0.3629032258064516, 'precision_score': 0.5421686746987951, 'recall_score': 0.2727272727272727},\n",
    "\n",
    "{'log_loss': 0.6640257256105542, 'roc_auc_score': 0.6078916827852998, 'accuracy_score': 0.61875, 'f1_score': 0.38383838383838387, 'precision_score': 0.5757575757575758, 'recall_score': 0.2878787878787879},\n",
    "\n",
    "{'log_loss': 0.662113243713975, 'roc_auc_score': 0.6047582205029014, 'accuracy_score': 0.6225, 'f1_score': 0.37860082304526754, 'precision_score': 0.5897435897435898, 'recall_score': 0.2787878787878788},\n",
    "\n",
    "{'log_loss': 0.6577297036349773, 'roc_auc_score': 0.6376876944582225, 'accuracy_score': 0.63375, 'f1_score': 0.40325865580448067, 'precision_score': 0.61875, 'recall_score': 0.2990936555891239},\n",
    "\n",
    "{'log_loss': 0.6580264708772302, 'roc_auc_score': 0.6333331186106584, 'accuracy_score': 0.60875, 'f1_score': 0.37274549098196397, 'precision_score': 0.5535714285714286, 'recall_score': 0.2809667673716012}\n",
    "\n",
    "]"
   ]
  },
  {
   "cell_type": "markdown",
   "id": "db9d9303",
   "metadata": {},
   "source": [
    "[\n",
    "\n",
    "{'log_loss': 0.6621403547748923, 'roc_auc_score': 0.6182978723404255, 'accuracy_score': 0.605, 'f1_score': 0.3629032258064516, 'precision_score': 0.5421686746987951, 'recall_score': 0.2727272727272727},\n",
    "\n",
    "{'log_loss': 0.6640257256105542, 'roc_auc_score': 0.6078916827852998, 'accuracy_score': 0.61875, 'f1_score': 0.38383838383838387, 'precision_score': 0.5757575757575758, 'recall_score': 0.2878787878787879},\n",
    "\n",
    "{'log_loss': 0.662113243713975, 'roc_auc_score': 0.6047582205029014, 'accuracy_score': 0.6225, 'f1_score': 0.37860082304526754, 'precision_score': 0.5897435897435898, 'recall_score': 0.2787878787878788},\n",
    "\n",
    "{'log_loss': 0.6577297036349773, 'roc_auc_score': 0.6376876944582225, 'accuracy_score': 0.63375, 'f1_score': 0.40325865580448067, 'precision_score': 0.61875, 'recall_score': 0.2990936555891239},\n",
    "\n",
    "{'log_loss': 0.6580264708772302, 'roc_auc_score': 0.6333331186106584, 'accuracy_score': 0.60875, 'f1_score': 0.37274549098196397, 'precision_score': 0.5535714285714286, 'recall_score': 0.2809667673716012}\n",
    "\n",
    "] "
   ]
  },
  {
   "cell_type": "code",
   "execution_count": 8,
   "id": "820acb3f",
   "metadata": {},
   "outputs": [],
   "source": [
    "# # helper method for updating preprocessor in pipeline\n",
    "\n",
    "# # to create params value dict from grid_search object\n",
    "# def get_preprocessor_best_params_from_grid_search(grid_search_object:object):\n",
    "#     pp_best_params = {}\n",
    "#     for k in grid_search_object.best_params_:\n",
    "#         #print(k)\n",
    "#         if 'preprocessor' in k:\n",
    "#             key = k.split('__')[1] + \"__\" + k.split('__')[2] \n",
    "#             pp_best_params[key] = grid_search_object.best_params_[k]\n",
    "#     return pp_best_params\n",
    "\n",
    "# # helper method for update_model\n",
    "# def get_model_best_params_from_grid_search(grid_search_object:object):\n",
    "#     model_best_params = {}\n",
    "#     for k in grid_search_object.best_params_:\n",
    "#         #print(k)\n",
    "#         if 'model' in k:\n",
    "#             key = k.split('__')[1]\n",
    "#             model_best_params[key] = grid_search_object.best_params_[k]\n",
    "#     return model_best_params"
   ]
  },
  {
   "cell_type": "code",
   "execution_count": 9,
   "id": "c71b3190",
   "metadata": {},
   "outputs": [
    {
     "name": "stdout",
     "output_type": "stream",
     "text": [
      "Converted 00_dataframeloader.ipynb.\n",
      "Converted 01_preprocessor.ipynb.\n",
      "Converted 02_tmlt.ipynb.\n",
      "Converted 04_optuna_objective.ipynb.\n",
      "Converted 13_Kaggle_TPS_Tutorial.ipynb.\n",
      "Converted BAK_index.ipynb.\n",
      "Converted index.ipynb.\n",
      "Converted logger.ipynb.\n",
      "Converted utility.ipynb.\n"
     ]
    }
   ],
   "source": [
    "# hide\n",
    "# run the script to build \n",
    "\n",
    "from nbdev.export import notebook2script; notebook2script()"
   ]
  },
  {
   "cell_type": "code",
   "execution_count": null,
   "id": "154c0298",
   "metadata": {},
   "outputs": [],
   "source": []
  }
 ],
 "metadata": {
  "kernelspec": {
   "display_name": "Python [conda env:nbdev_env]",
   "language": "python",
   "name": "conda-env-nbdev_env-py"
  },
  "language_info": {
   "codemirror_mode": {
    "name": "ipython",
    "version": 3
   },
   "file_extension": ".py",
   "mimetype": "text/x-python",
   "name": "python",
   "nbconvert_exporter": "python",
   "pygments_lexer": "ipython3",
   "version": "3.9.7"
  }
 },
 "nbformat": 4,
 "nbformat_minor": 5
}
