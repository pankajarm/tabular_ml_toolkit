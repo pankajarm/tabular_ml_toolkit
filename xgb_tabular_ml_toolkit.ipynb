{
 "cells": [
  {
   "cell_type": "markdown",
   "metadata": {
    "id": "YfVyj61CCEXO"
   },
   "source": [
    "# Getting Started Kaggle TPS Challenge with Tabular ML Toolkit\n",
    "\n",
    "> A Tutorial to showcase usage of tabular_ml_toolkit library on Kaggle TPS Challenge Nov 2021.\n",
    "\n",
    "> tabular_ml_toolkit is a helper library to jumpstart your machine learning project based on Tabular or Structured data.\n",
    "\n",
    "> It comes with model and data parallelism and efficient hyperparameter search techniques.\n",
    "\n",
    "> Under the hood TMLT uses modin, optuna, xgboost and scikit-learn pipelines"
   ]
  },
  {
   "cell_type": "markdown",
   "metadata": {
    "id": "dpNYqFUKCEXP"
   },
   "source": [
    "## Install"
   ]
  },
  {
   "cell_type": "markdown",
   "metadata": {
    "id": "UeIjheAXCEXP"
   },
   "source": [
    "`pip install -U tabular_ml_toolkit`"
   ]
  },
  {
   "cell_type": "code",
   "execution_count": 1,
   "metadata": {
    "id": "1vmAkPMFCtMp"
   },
   "outputs": [],
   "source": [
    "# !pip install -U tabular_ml_toolkit"
   ]
  },
  {
   "cell_type": "code",
   "execution_count": 2,
   "metadata": {
    "id": "7Orr8hA-7D0g"
   },
   "outputs": [],
   "source": [
    "# !pip install -U pandas==1.3.4"
   ]
  },
  {
   "cell_type": "code",
   "execution_count": 3,
   "metadata": {
    "id": "r9-1ZjuDCEXQ"
   },
   "outputs": [],
   "source": [
    "from tabular_ml_toolkit.tmlt import *\n",
    "from xgboost import XGBClassifier\n",
    "import numpy as np\n",
    "\n",
    "# for visualizing pipeline\n",
    "from sklearn import set_config\n",
    "set_config(display=\"diagram\")\n",
    "\n",
    "# just to measure fit performance\n",
    "import time"
   ]
  },
  {
   "cell_type": "code",
   "execution_count": 4,
   "metadata": {
    "id": "-srw7xk5NqSV"
   },
   "outputs": [],
   "source": [
    "from sklearn.metrics import roc_auc_score, accuracy_score"
   ]
  },
  {
   "cell_type": "markdown",
   "metadata": {
    "id": "vf_JTNRMCMfv"
   },
   "source": [
    "#### For Dataset, Mount Google Drive"
   ]
  },
  {
   "cell_type": "code",
   "execution_count": 5,
   "metadata": {
    "colab": {
     "base_uri": "https://localhost:8080/"
    },
    "id": "GgwPYOzoHCyd",
    "outputId": "4db25ad4-691e-412a-999f-0ebf75f2d427"
   },
   "outputs": [],
   "source": [
    "# from google.colab import drive\n",
    "# drive.mount('/content/gdrive/')\n",
    "# # drive.mount('/content/gdrive/', force_remount=True)"
   ]
  },
  {
   "cell_type": "code",
   "execution_count": 6,
   "metadata": {
    "colab": {
     "base_uri": "https://localhost:8080/"
    },
    "id": "fWvpINdTHXBw",
    "outputId": "4c81b2cf-65a0-48dc-d303-19e41a6e300b"
   },
   "outputs": [],
   "source": [
    "# import os\n",
    "# COLAB_BASE_PATH = '/content/gdrive/MyDrive/pankaj_dev/kaggle'\n",
    "# os.listdir(COLAB_BASE_PATH)"
   ]
  },
  {
   "cell_type": "code",
   "execution_count": 7,
   "metadata": {
    "colab": {
     "base_uri": "https://localhost:8080/"
    },
    "id": "cFwln1uUN-T3",
    "outputId": "9250321b-c823-49f2-d58e-105b7e7a44ab"
   },
   "outputs": [],
   "source": [
    "# # Dataset file names and Paths\n",
    "# DIRECTORY_PATH = COLAB_BASE_PATH +\"/tabular/tps_nov_2021/input/\"\n",
    "# TRAIN_FILE = \"train.csv\"\n",
    "# TEST_FILE = \"test.csv\"\n",
    "# SAMPLE_SUB_FILE = \"sample_submission.csv\"\n",
    "# OUTPUT_PATH = COLAB_BASE_PATH + \"/tabular/tps_nov_2021/output/\"\n",
    "# os.listdir(DIRECTORY_PATH)"
   ]
  },
  {
   "cell_type": "code",
   "execution_count": 8,
   "metadata": {},
   "outputs": [],
   "source": [
    "# Dataset file names and Paths\n",
    "DIRECTORY_PATH = \"/Users/pamathur/kaggle_datasets/tps_nov_2021/\"\n",
    "TRAIN_FILE = \"train.csv\"\n",
    "TEST_FILE = \"test.csv\"\n",
    "SAMPLE_SUB_FILE = \"sample_submission.csv\"\n",
    "OUTPUT_PATH = \"kaggle_tps_output/\""
   ]
  },
  {
   "cell_type": "markdown",
   "metadata": {
    "id": "ScHc_QewCEXU"
   },
   "source": [
    "#### Create a base sklearn model"
   ]
  },
  {
   "cell_type": "code",
   "execution_count": 9,
   "metadata": {},
   "outputs": [],
   "source": [
    "from sklearn.linear_model import LogisticRegression\n",
    "log_reg_model = LogisticRegression(solver='liblinear', random_state=42)"
   ]
  },
  {
   "cell_type": "code",
   "execution_count": 10,
   "metadata": {
    "colab": {
     "base_uri": "https://localhost:8080/"
    },
    "id": "PBeyLyr2CEXR",
    "outputId": "269c27ec-89c4-4bf9-d7c8-da54a54e2fe3"
   },
   "outputs": [
    {
     "name": "stderr",
     "output_type": "stream",
     "text": [
      "2021-11-28 17:41:05,158 INFO 12 cores found, model and data parallel processing should worked!\n",
      "2021-11-28 17:41:05,273 INFO DataFrame Memory usage decreased to 0.80 Mb (74.4% reduction)\n",
      "2021-11-28 17:41:05,420 INFO DataFrame Memory usage decreased to 0.79 Mb (74.3% reduction)\n",
      "2021-11-28 17:41:05,475 INFO categorical columns are None, Preprocessing will done accordingly!\n"
     ]
    }
   ],
   "source": [
    "# createm tmlt for xgb model\n",
    "tmlt = TMLT().prepare_data_for_training(\n",
    "    train_file_path= DIRECTORY_PATH + TRAIN_FILE,\n",
    "    test_file_path= DIRECTORY_PATH + TEST_FILE,\n",
    "    #make sure to use right index and target columns\n",
    "    idx_col=\"id\",\n",
    "    target=\"target\",\n",
    "    model=log_reg_model,\n",
    "    random_state=42,\n",
    "    problem_type=\"binary_classification\",\n",
    "    nrows=4000\n",
    ")"
   ]
  },
  {
   "cell_type": "code",
   "execution_count": 11,
   "metadata": {
    "colab": {
     "base_uri": "https://localhost:8080/",
     "height": 227
    },
    "id": "UripbIQVCEXR",
    "outputId": "a0fe6747-3434-44d8-92bc-df33dc36df4b"
   },
   "outputs": [
    {
     "data": {
      "text/html": [
       "<style>#sk-fe8cff63-8d47-4df7-98db-65461e127f9d {color: black;background-color: white;}#sk-fe8cff63-8d47-4df7-98db-65461e127f9d pre{padding: 0;}#sk-fe8cff63-8d47-4df7-98db-65461e127f9d div.sk-toggleable {background-color: white;}#sk-fe8cff63-8d47-4df7-98db-65461e127f9d label.sk-toggleable__label {cursor: pointer;display: block;width: 100%;margin-bottom: 0;padding: 0.3em;box-sizing: border-box;text-align: center;}#sk-fe8cff63-8d47-4df7-98db-65461e127f9d div.sk-toggleable__content {max-height: 0;max-width: 0;overflow: hidden;text-align: left;background-color: #f0f8ff;}#sk-fe8cff63-8d47-4df7-98db-65461e127f9d div.sk-toggleable__content pre {margin: 0.2em;color: black;border-radius: 0.25em;background-color: #f0f8ff;}#sk-fe8cff63-8d47-4df7-98db-65461e127f9d input.sk-toggleable__control:checked~div.sk-toggleable__content {max-height: 200px;max-width: 100%;overflow: auto;}#sk-fe8cff63-8d47-4df7-98db-65461e127f9d div.sk-estimator input.sk-toggleable__control:checked~label.sk-toggleable__label {background-color: #d4ebff;}#sk-fe8cff63-8d47-4df7-98db-65461e127f9d div.sk-label input.sk-toggleable__control:checked~label.sk-toggleable__label {background-color: #d4ebff;}#sk-fe8cff63-8d47-4df7-98db-65461e127f9d input.sk-hidden--visually {border: 0;clip: rect(1px 1px 1px 1px);clip: rect(1px, 1px, 1px, 1px);height: 1px;margin: -1px;overflow: hidden;padding: 0;position: absolute;width: 1px;}#sk-fe8cff63-8d47-4df7-98db-65461e127f9d div.sk-estimator {font-family: monospace;background-color: #f0f8ff;border: 1px dotted black;border-radius: 0.25em;box-sizing: border-box;margin-bottom: 0.5em;}#sk-fe8cff63-8d47-4df7-98db-65461e127f9d div.sk-estimator:hover {background-color: #d4ebff;}#sk-fe8cff63-8d47-4df7-98db-65461e127f9d div.sk-parallel-item::after {content: \"\";width: 100%;border-bottom: 1px solid gray;flex-grow: 1;}#sk-fe8cff63-8d47-4df7-98db-65461e127f9d div.sk-label:hover label.sk-toggleable__label {background-color: #d4ebff;}#sk-fe8cff63-8d47-4df7-98db-65461e127f9d div.sk-serial::before {content: \"\";position: absolute;border-left: 1px solid gray;box-sizing: border-box;top: 2em;bottom: 0;left: 50%;}#sk-fe8cff63-8d47-4df7-98db-65461e127f9d div.sk-serial {display: flex;flex-direction: column;align-items: center;background-color: white;padding-right: 0.2em;padding-left: 0.2em;}#sk-fe8cff63-8d47-4df7-98db-65461e127f9d div.sk-item {z-index: 1;}#sk-fe8cff63-8d47-4df7-98db-65461e127f9d div.sk-parallel {display: flex;align-items: stretch;justify-content: center;background-color: white;}#sk-fe8cff63-8d47-4df7-98db-65461e127f9d div.sk-parallel::before {content: \"\";position: absolute;border-left: 1px solid gray;box-sizing: border-box;top: 2em;bottom: 0;left: 50%;}#sk-fe8cff63-8d47-4df7-98db-65461e127f9d div.sk-parallel-item {display: flex;flex-direction: column;position: relative;background-color: white;}#sk-fe8cff63-8d47-4df7-98db-65461e127f9d div.sk-parallel-item:first-child::after {align-self: flex-end;width: 50%;}#sk-fe8cff63-8d47-4df7-98db-65461e127f9d div.sk-parallel-item:last-child::after {align-self: flex-start;width: 50%;}#sk-fe8cff63-8d47-4df7-98db-65461e127f9d div.sk-parallel-item:only-child::after {width: 0;}#sk-fe8cff63-8d47-4df7-98db-65461e127f9d div.sk-dashed-wrapped {border: 1px dashed gray;margin: 0 0.4em 0.5em 0.4em;box-sizing: border-box;padding-bottom: 0.4em;background-color: white;position: relative;}#sk-fe8cff63-8d47-4df7-98db-65461e127f9d div.sk-label label {font-family: monospace;font-weight: bold;background-color: white;display: inline-block;line-height: 1.2em;}#sk-fe8cff63-8d47-4df7-98db-65461e127f9d div.sk-label-container {position: relative;z-index: 2;text-align: center;}#sk-fe8cff63-8d47-4df7-98db-65461e127f9d div.sk-container {display: inline-block;position: relative;}</style><div id=\"sk-fe8cff63-8d47-4df7-98db-65461e127f9d\" class\"sk-top-container\"><div class=\"sk-container\"><div class=\"sk-item sk-dashed-wrapped\"><div class=\"sk-label-container\"><div class=\"sk-label sk-toggleable\"><input class=\"sk-toggleable__control sk-hidden--visually\" id=\"ff0db876-d360-425f-adfd-35a895372764\" type=\"checkbox\" ><label class=\"sk-toggleable__label\" for=\"ff0db876-d360-425f-adfd-35a895372764\">Pipeline</label><div class=\"sk-toggleable__content\"><pre>Pipeline(memory='pipeline_cache_dir',\n",
       "         steps=[('preprocessor',\n",
       "                 ColumnTransformer(transformers=[('num_cols',\n",
       "                                                  Pipeline(memory='pipeline_cache_dir',\n",
       "                                                           steps=[('imputer',\n",
       "                                                                   SimpleImputer(strategy='constant')),\n",
       "                                                                  ('scaler',\n",
       "                                                                   StandardScaler())]),\n",
       "                                                  ['f0', 'f1', 'f2', 'f3', 'f4',\n",
       "                                                   'f5', 'f6', 'f7', 'f8', 'f9',\n",
       "                                                   'f10', 'f11', 'f12', 'f13',\n",
       "                                                   'f14', 'f15', 'f16', 'f17',\n",
       "                                                   'f18', 'f19', 'f20', 'f21',\n",
       "                                                   'f22', 'f23', 'f24', 'f25',\n",
       "                                                   'f26', 'f27', 'f28', 'f29', ...])])),\n",
       "                ('model',\n",
       "                 LogisticRegression(n_jobs=11, random_state=42,\n",
       "                                    solver='liblinear'))])</pre></div></div></div><div class=\"sk-serial\"><div class=\"sk-item sk-dashed-wrapped\"><div class=\"sk-label-container\"><div class=\"sk-label sk-toggleable\"><input class=\"sk-toggleable__control sk-hidden--visually\" id=\"c8485d48-76d8-436c-a0b6-4d26e992fc4b\" type=\"checkbox\" ><label class=\"sk-toggleable__label\" for=\"c8485d48-76d8-436c-a0b6-4d26e992fc4b\">preprocessor: ColumnTransformer</label><div class=\"sk-toggleable__content\"><pre>ColumnTransformer(transformers=[('num_cols',\n",
       "                                 Pipeline(memory='pipeline_cache_dir',\n",
       "                                          steps=[('imputer',\n",
       "                                                  SimpleImputer(strategy='constant')),\n",
       "                                                 ('scaler', StandardScaler())]),\n",
       "                                 ['f0', 'f1', 'f2', 'f3', 'f4', 'f5', 'f6',\n",
       "                                  'f7', 'f8', 'f9', 'f10', 'f11', 'f12', 'f13',\n",
       "                                  'f14', 'f15', 'f16', 'f17', 'f18', 'f19',\n",
       "                                  'f20', 'f21', 'f22', 'f23', 'f24', 'f25',\n",
       "                                  'f26', 'f27', 'f28', 'f29', ...])])</pre></div></div></div><div class=\"sk-parallel\"><div class=\"sk-parallel-item\"><div class=\"sk-item\"><div class=\"sk-label-container\"><div class=\"sk-label sk-toggleable\"><input class=\"sk-toggleable__control sk-hidden--visually\" id=\"7fe0923b-0bdd-467d-b3b6-e72bb4ec55b8\" type=\"checkbox\" ><label class=\"sk-toggleable__label\" for=\"7fe0923b-0bdd-467d-b3b6-e72bb4ec55b8\">num_cols</label><div class=\"sk-toggleable__content\"><pre>['f0', 'f1', 'f2', 'f3', 'f4', 'f5', 'f6', 'f7', 'f8', 'f9', 'f10', 'f11', 'f12', 'f13', 'f14', 'f15', 'f16', 'f17', 'f18', 'f19', 'f20', 'f21', 'f22', 'f23', 'f24', 'f25', 'f26', 'f27', 'f28', 'f29', 'f30', 'f31', 'f32', 'f33', 'f34', 'f35', 'f36', 'f37', 'f38', 'f39', 'f40', 'f41', 'f42', 'f43', 'f44', 'f45', 'f46', 'f47', 'f48', 'f49', 'f50', 'f51', 'f52', 'f53', 'f54', 'f55', 'f56', 'f57', 'f58', 'f59', 'f60', 'f61', 'f62', 'f63', 'f64', 'f65', 'f66', 'f67', 'f68', 'f69', 'f70', 'f71', 'f72', 'f73', 'f74', 'f75', 'f76', 'f77', 'f78', 'f79', 'f80', 'f81', 'f82', 'f83', 'f84', 'f85', 'f86', 'f87', 'f88', 'f89', 'f90', 'f91', 'f92', 'f93', 'f94', 'f95', 'f96', 'f97', 'f98', 'f99']</pre></div></div></div><div class=\"sk-serial\"><div class=\"sk-item\"><div class=\"sk-serial\"><div class=\"sk-item\"><div class=\"sk-estimator sk-toggleable\"><input class=\"sk-toggleable__control sk-hidden--visually\" id=\"183da0a5-1cc6-43ea-a738-a0a7fcc57bdb\" type=\"checkbox\" ><label class=\"sk-toggleable__label\" for=\"183da0a5-1cc6-43ea-a738-a0a7fcc57bdb\">SimpleImputer</label><div class=\"sk-toggleable__content\"><pre>SimpleImputer(strategy='constant')</pre></div></div></div><div class=\"sk-item\"><div class=\"sk-estimator sk-toggleable\"><input class=\"sk-toggleable__control sk-hidden--visually\" id=\"07dd8653-4355-4e0c-8ba8-53ff0110943b\" type=\"checkbox\" ><label class=\"sk-toggleable__label\" for=\"07dd8653-4355-4e0c-8ba8-53ff0110943b\">StandardScaler</label><div class=\"sk-toggleable__content\"><pre>StandardScaler()</pre></div></div></div></div></div></div></div></div></div></div><div class=\"sk-item\"><div class=\"sk-estimator sk-toggleable\"><input class=\"sk-toggleable__control sk-hidden--visually\" id=\"60548424-ad59-4e3a-b45d-cd4a2275e516\" type=\"checkbox\" ><label class=\"sk-toggleable__label\" for=\"60548424-ad59-4e3a-b45d-cd4a2275e516\">LogisticRegression</label><div class=\"sk-toggleable__content\"><pre>LogisticRegression(n_jobs=11, random_state=42, solver='liblinear')</pre></div></div></div></div></div></div></div>"
      ],
      "text/plain": [
       "Pipeline(memory='pipeline_cache_dir',\n",
       "         steps=[('preprocessor',\n",
       "                 ColumnTransformer(transformers=[('num_cols',\n",
       "                                                  Pipeline(memory='pipeline_cache_dir',\n",
       "                                                           steps=[('imputer',\n",
       "                                                                   SimpleImputer(strategy='constant')),\n",
       "                                                                  ('scaler',\n",
       "                                                                   StandardScaler())]),\n",
       "                                                  ['f0', 'f1', 'f2', 'f3', 'f4',\n",
       "                                                   'f5', 'f6', 'f7', 'f8', 'f9',\n",
       "                                                   'f10', 'f11', 'f12', 'f13',\n",
       "                                                   'f14', 'f15', 'f16', 'f17',\n",
       "                                                   'f18', 'f19', 'f20', 'f21',\n",
       "                                                   'f22', 'f23', 'f24', 'f25',\n",
       "                                                   'f26', 'f27', 'f28', 'f29', ...])])),\n",
       "                ('model',\n",
       "                 LogisticRegression(n_jobs=11, random_state=42,\n",
       "                                    solver='liblinear'))])"
      ]
     },
     "execution_count": 11,
     "metadata": {},
     "output_type": "execute_result"
    }
   ],
   "source": [
    "tmlt.spl"
   ]
  },
  {
   "cell_type": "markdown",
   "metadata": {
    "id": "beesmAQy6BTi"
   },
   "source": [
    "#### Let's do a quick round of training"
   ]
  },
  {
   "cell_type": "code",
   "execution_count": 12,
   "metadata": {
    "id": "gMIEfYFF6BTj"
   },
   "outputs": [],
   "source": [
    "tmlt.dfl.create_train_valid(valid_size=0.2)"
   ]
  },
  {
   "cell_type": "code",
   "execution_count": 13,
   "metadata": {
    "id": "wUJtUmoy6BTj"
   },
   "outputs": [],
   "source": [
    "# # Quick check on dataframe shapes\n",
    "# print(f\"X_train shape is {tmlt.dfl.X_train.shape}\" )\n",
    "# print(f\"X_valid shape is {tmlt.dfl.X_valid.shape}\" )\n",
    "# print(f\"y_train shape is {tmlt.dfl.y_train.shape}\")\n",
    "# print(f\"y_valid shape is {tmlt.dfl.y_valid.shape}\")"
   ]
  },
  {
   "cell_type": "code",
   "execution_count": 14,
   "metadata": {
    "id": "71A5inT8CEXX"
   },
   "outputs": [
    {
     "name": "stderr",
     "output_type": "stream",
     "text": [
      "/Users/pamathur/miniconda3/envs/nbdev_env/lib/python3.9/site-packages/sklearn/linear_model/_logistic.py:1523: UserWarning: 'n_jobs' > 1 does not have any effect when 'solver' is set to 'liblinear'. Got 'n_jobs' = 11.\n",
      "  warnings.warn(\n"
     ]
    },
    {
     "name": "stdout",
     "output_type": "stream",
     "text": [
      "Fit Time: 0.11430573463439941\n",
      "AUC is : 0.7159750818287403 while Accuracy is : 0.695 \n"
     ]
    }
   ],
   "source": [
    "# Fit\n",
    "start = time.time()\n",
    "tmlt.spl.fit(tmlt.dfl.X_train, tmlt.dfl.y_train)\n",
    "end = time.time()\n",
    "print(\"Fit Time:\", end - start)\n",
    "\n",
    "#predict\n",
    "preds = tmlt.spl.predict(tmlt.dfl.X_valid)\n",
    "preds_probs = tmlt.spl.predict_proba(tmlt.dfl.X_valid)[:, 1]\n",
    "\n",
    "# Val Metrics\n",
    "auc = roc_auc_score(tmlt.dfl.y_valid, preds_probs)\n",
    "acc = accuracy_score(tmlt.dfl.y_valid, preds)\n",
    "\n",
    "print(f\"AUC is : {auc} while Accuracy is : {acc} \")"
   ]
  },
  {
   "cell_type": "code",
   "execution_count": 15,
   "metadata": {},
   "outputs": [],
   "source": [
    "# tmlt.do_cross_validation(cv=5, scoring=\"roc_auc\")"
   ]
  },
  {
   "cell_type": "code",
   "execution_count": 16,
   "metadata": {},
   "outputs": [],
   "source": [
    "# tmlt.do_kfold_training(n_splits=5,test_preds_metric=accuracy_score)"
   ]
  },
  {
   "cell_type": "markdown",
   "metadata": {
    "id": "mkl0RrFilWXc"
   },
   "source": [
    "#### For Meta Ensemble Models Training"
   ]
  },
  {
   "cell_type": "markdown",
   "metadata": {
    "id": "OdNhoC6r8LCx"
   },
   "source": [
    "#### Base Model 1: linear SVM model"
   ]
  },
  {
   "cell_type": "code",
   "execution_count": 17,
   "metadata": {
    "id": "6WO9WR1i6ceh"
   },
   "outputs": [],
   "source": [
    "from sklearn.svm import LinearSVC"
   ]
  },
  {
   "cell_type": "code",
   "execution_count": 18,
   "metadata": {
    "colab": {
     "base_uri": "https://localhost:8080/"
    },
    "id": "0Log_WpD6ceh",
    "outputId": "9a20e264-60ee-4117-9cb6-eaa303b0c59d"
   },
   "outputs": [
    {
     "data": {
      "text/html": [
       "<style>#sk-a6668a81-53bd-4ecd-b1af-a423aced61cf {color: black;background-color: white;}#sk-a6668a81-53bd-4ecd-b1af-a423aced61cf pre{padding: 0;}#sk-a6668a81-53bd-4ecd-b1af-a423aced61cf div.sk-toggleable {background-color: white;}#sk-a6668a81-53bd-4ecd-b1af-a423aced61cf label.sk-toggleable__label {cursor: pointer;display: block;width: 100%;margin-bottom: 0;padding: 0.3em;box-sizing: border-box;text-align: center;}#sk-a6668a81-53bd-4ecd-b1af-a423aced61cf div.sk-toggleable__content {max-height: 0;max-width: 0;overflow: hidden;text-align: left;background-color: #f0f8ff;}#sk-a6668a81-53bd-4ecd-b1af-a423aced61cf div.sk-toggleable__content pre {margin: 0.2em;color: black;border-radius: 0.25em;background-color: #f0f8ff;}#sk-a6668a81-53bd-4ecd-b1af-a423aced61cf input.sk-toggleable__control:checked~div.sk-toggleable__content {max-height: 200px;max-width: 100%;overflow: auto;}#sk-a6668a81-53bd-4ecd-b1af-a423aced61cf div.sk-estimator input.sk-toggleable__control:checked~label.sk-toggleable__label {background-color: #d4ebff;}#sk-a6668a81-53bd-4ecd-b1af-a423aced61cf div.sk-label input.sk-toggleable__control:checked~label.sk-toggleable__label {background-color: #d4ebff;}#sk-a6668a81-53bd-4ecd-b1af-a423aced61cf input.sk-hidden--visually {border: 0;clip: rect(1px 1px 1px 1px);clip: rect(1px, 1px, 1px, 1px);height: 1px;margin: -1px;overflow: hidden;padding: 0;position: absolute;width: 1px;}#sk-a6668a81-53bd-4ecd-b1af-a423aced61cf div.sk-estimator {font-family: monospace;background-color: #f0f8ff;border: 1px dotted black;border-radius: 0.25em;box-sizing: border-box;margin-bottom: 0.5em;}#sk-a6668a81-53bd-4ecd-b1af-a423aced61cf div.sk-estimator:hover {background-color: #d4ebff;}#sk-a6668a81-53bd-4ecd-b1af-a423aced61cf div.sk-parallel-item::after {content: \"\";width: 100%;border-bottom: 1px solid gray;flex-grow: 1;}#sk-a6668a81-53bd-4ecd-b1af-a423aced61cf div.sk-label:hover label.sk-toggleable__label {background-color: #d4ebff;}#sk-a6668a81-53bd-4ecd-b1af-a423aced61cf div.sk-serial::before {content: \"\";position: absolute;border-left: 1px solid gray;box-sizing: border-box;top: 2em;bottom: 0;left: 50%;}#sk-a6668a81-53bd-4ecd-b1af-a423aced61cf div.sk-serial {display: flex;flex-direction: column;align-items: center;background-color: white;padding-right: 0.2em;padding-left: 0.2em;}#sk-a6668a81-53bd-4ecd-b1af-a423aced61cf div.sk-item {z-index: 1;}#sk-a6668a81-53bd-4ecd-b1af-a423aced61cf div.sk-parallel {display: flex;align-items: stretch;justify-content: center;background-color: white;}#sk-a6668a81-53bd-4ecd-b1af-a423aced61cf div.sk-parallel::before {content: \"\";position: absolute;border-left: 1px solid gray;box-sizing: border-box;top: 2em;bottom: 0;left: 50%;}#sk-a6668a81-53bd-4ecd-b1af-a423aced61cf div.sk-parallel-item {display: flex;flex-direction: column;position: relative;background-color: white;}#sk-a6668a81-53bd-4ecd-b1af-a423aced61cf div.sk-parallel-item:first-child::after {align-self: flex-end;width: 50%;}#sk-a6668a81-53bd-4ecd-b1af-a423aced61cf div.sk-parallel-item:last-child::after {align-self: flex-start;width: 50%;}#sk-a6668a81-53bd-4ecd-b1af-a423aced61cf div.sk-parallel-item:only-child::after {width: 0;}#sk-a6668a81-53bd-4ecd-b1af-a423aced61cf div.sk-dashed-wrapped {border: 1px dashed gray;margin: 0 0.4em 0.5em 0.4em;box-sizing: border-box;padding-bottom: 0.4em;background-color: white;position: relative;}#sk-a6668a81-53bd-4ecd-b1af-a423aced61cf div.sk-label label {font-family: monospace;font-weight: bold;background-color: white;display: inline-block;line-height: 1.2em;}#sk-a6668a81-53bd-4ecd-b1af-a423aced61cf div.sk-label-container {position: relative;z-index: 2;text-align: center;}#sk-a6668a81-53bd-4ecd-b1af-a423aced61cf div.sk-container {display: inline-block;position: relative;}</style><div id=\"sk-a6668a81-53bd-4ecd-b1af-a423aced61cf\" class\"sk-top-container\"><div class=\"sk-container\"><div class=\"sk-item sk-dashed-wrapped\"><div class=\"sk-label-container\"><div class=\"sk-label sk-toggleable\"><input class=\"sk-toggleable__control sk-hidden--visually\" id=\"cc0e75d7-709f-4a43-b884-82d6a9c739fa\" type=\"checkbox\" ><label class=\"sk-toggleable__label\" for=\"cc0e75d7-709f-4a43-b884-82d6a9c739fa\">Pipeline</label><div class=\"sk-toggleable__content\"><pre>Pipeline(memory='pipeline_cache_dir',\n",
       "         steps=[('preprocessor',\n",
       "                 ColumnTransformer(transformers=[('num_cols',\n",
       "                                                  Pipeline(memory='pipeline_cache_dir',\n",
       "                                                           steps=[('imputer',\n",
       "                                                                   SimpleImputer(strategy='constant')),\n",
       "                                                                  ('scaler',\n",
       "                                                                   StandardScaler())]),\n",
       "                                                  ['f0', 'f1', 'f2', 'f3', 'f4',\n",
       "                                                   'f5', 'f6', 'f7', 'f8', 'f9',\n",
       "                                                   'f10', 'f11', 'f12', 'f13',\n",
       "                                                   'f14', 'f15', 'f16', 'f17',\n",
       "                                                   'f18', 'f19', 'f20', 'f21',\n",
       "                                                   'f22', 'f23', 'f24', 'f25',\n",
       "                                                   'f26', 'f27', 'f28', 'f29', ...])])),\n",
       "                ('model',\n",
       "                 LinearSVC(dual=False, max_iter=2000, random_state=42,\n",
       "                           tol=1e-07))])</pre></div></div></div><div class=\"sk-serial\"><div class=\"sk-item sk-dashed-wrapped\"><div class=\"sk-label-container\"><div class=\"sk-label sk-toggleable\"><input class=\"sk-toggleable__control sk-hidden--visually\" id=\"127bc530-9fa2-4fa1-8891-c81628f16688\" type=\"checkbox\" ><label class=\"sk-toggleable__label\" for=\"127bc530-9fa2-4fa1-8891-c81628f16688\">preprocessor: ColumnTransformer</label><div class=\"sk-toggleable__content\"><pre>ColumnTransformer(transformers=[('num_cols',\n",
       "                                 Pipeline(memory='pipeline_cache_dir',\n",
       "                                          steps=[('imputer',\n",
       "                                                  SimpleImputer(strategy='constant')),\n",
       "                                                 ('scaler', StandardScaler())]),\n",
       "                                 ['f0', 'f1', 'f2', 'f3', 'f4', 'f5', 'f6',\n",
       "                                  'f7', 'f8', 'f9', 'f10', 'f11', 'f12', 'f13',\n",
       "                                  'f14', 'f15', 'f16', 'f17', 'f18', 'f19',\n",
       "                                  'f20', 'f21', 'f22', 'f23', 'f24', 'f25',\n",
       "                                  'f26', 'f27', 'f28', 'f29', ...])])</pre></div></div></div><div class=\"sk-parallel\"><div class=\"sk-parallel-item\"><div class=\"sk-item\"><div class=\"sk-label-container\"><div class=\"sk-label sk-toggleable\"><input class=\"sk-toggleable__control sk-hidden--visually\" id=\"15cda2f3-4f1c-4b75-aac0-3d2b3a182f53\" type=\"checkbox\" ><label class=\"sk-toggleable__label\" for=\"15cda2f3-4f1c-4b75-aac0-3d2b3a182f53\">num_cols</label><div class=\"sk-toggleable__content\"><pre>['f0', 'f1', 'f2', 'f3', 'f4', 'f5', 'f6', 'f7', 'f8', 'f9', 'f10', 'f11', 'f12', 'f13', 'f14', 'f15', 'f16', 'f17', 'f18', 'f19', 'f20', 'f21', 'f22', 'f23', 'f24', 'f25', 'f26', 'f27', 'f28', 'f29', 'f30', 'f31', 'f32', 'f33', 'f34', 'f35', 'f36', 'f37', 'f38', 'f39', 'f40', 'f41', 'f42', 'f43', 'f44', 'f45', 'f46', 'f47', 'f48', 'f49', 'f50', 'f51', 'f52', 'f53', 'f54', 'f55', 'f56', 'f57', 'f58', 'f59', 'f60', 'f61', 'f62', 'f63', 'f64', 'f65', 'f66', 'f67', 'f68', 'f69', 'f70', 'f71', 'f72', 'f73', 'f74', 'f75', 'f76', 'f77', 'f78', 'f79', 'f80', 'f81', 'f82', 'f83', 'f84', 'f85', 'f86', 'f87', 'f88', 'f89', 'f90', 'f91', 'f92', 'f93', 'f94', 'f95', 'f96', 'f97', 'f98', 'f99']</pre></div></div></div><div class=\"sk-serial\"><div class=\"sk-item\"><div class=\"sk-serial\"><div class=\"sk-item\"><div class=\"sk-estimator sk-toggleable\"><input class=\"sk-toggleable__control sk-hidden--visually\" id=\"b948c5e4-8384-4caf-96ad-200330c6ab2e\" type=\"checkbox\" ><label class=\"sk-toggleable__label\" for=\"b948c5e4-8384-4caf-96ad-200330c6ab2e\">SimpleImputer</label><div class=\"sk-toggleable__content\"><pre>SimpleImputer(strategy='constant')</pre></div></div></div><div class=\"sk-item\"><div class=\"sk-estimator sk-toggleable\"><input class=\"sk-toggleable__control sk-hidden--visually\" id=\"cd75002b-0ba9-488c-81d7-bb775b67e8ec\" type=\"checkbox\" ><label class=\"sk-toggleable__label\" for=\"cd75002b-0ba9-488c-81d7-bb775b67e8ec\">StandardScaler</label><div class=\"sk-toggleable__content\"><pre>StandardScaler()</pre></div></div></div></div></div></div></div></div></div></div><div class=\"sk-item\"><div class=\"sk-estimator sk-toggleable\"><input class=\"sk-toggleable__control sk-hidden--visually\" id=\"54dafc6e-063b-47ca-bf62-9cc5421c1b38\" type=\"checkbox\" ><label class=\"sk-toggleable__label\" for=\"54dafc6e-063b-47ca-bf62-9cc5421c1b38\">LinearSVC</label><div class=\"sk-toggleable__content\"><pre>LinearSVC(dual=False, max_iter=2000, random_state=42, tol=1e-07)</pre></div></div></div></div></div></div></div>"
      ],
      "text/plain": [
       "Pipeline(memory='pipeline_cache_dir',\n",
       "         steps=[('preprocessor',\n",
       "                 ColumnTransformer(transformers=[('num_cols',\n",
       "                                                  Pipeline(memory='pipeline_cache_dir',\n",
       "                                                           steps=[('imputer',\n",
       "                                                                   SimpleImputer(strategy='constant')),\n",
       "                                                                  ('scaler',\n",
       "                                                                   StandardScaler())]),\n",
       "                                                  ['f0', 'f1', 'f2', 'f3', 'f4',\n",
       "                                                   'f5', 'f6', 'f7', 'f8', 'f9',\n",
       "                                                   'f10', 'f11', 'f12', 'f13',\n",
       "                                                   'f14', 'f15', 'f16', 'f17',\n",
       "                                                   'f18', 'f19', 'f20', 'f21',\n",
       "                                                   'f22', 'f23', 'f24', 'f25',\n",
       "                                                   'f26', 'f27', 'f28', 'f29', ...])])),\n",
       "                ('model',\n",
       "                 LinearSVC(dual=False, max_iter=2000, random_state=42,\n",
       "                           tol=1e-07))])"
      ]
     },
     "execution_count": 18,
     "metadata": {},
     "output_type": "execute_result"
    }
   ],
   "source": [
    "# OOF training and prediction on both train and test dataset by a given model\n",
    "\n",
    "#choose model\n",
    "linear_oof_model = LinearSVC(tol=1e-7, penalty='l2', dual=False, max_iter=2000, random_state=42)\n",
    "\n",
    "#update the model on sklearn pipeline and get update skline pipeline back\n",
    "tmlt = tmlt.update_model(linear_oof_model)\n",
    "\n",
    "# let see pipeline\n",
    "tmlt.spl"
   ]
  },
  {
   "cell_type": "code",
   "execution_count": 19,
   "metadata": {},
   "outputs": [
    {
     "name": "stderr",
     "output_type": "stream",
     "text": [
      "/Users/pamathur/miniconda3/envs/nbdev_env/lib/python3.9/site-packages/sklearn/base.py:434: UserWarning: X has feature names, but LinearSVC was fitted without feature names\n",
      "  warnings.warn(\n",
      "2021-11-28 17:41:05,868 INFO fold: 1 OOF Model ROC AUC: 0.5420631850419084!\n",
      "/Users/pamathur/miniconda3/envs/nbdev_env/lib/python3.9/site-packages/sklearn/base.py:434: UserWarning: X has feature names, but LinearSVC was fitted without feature names\n",
      "  warnings.warn(\n",
      "/Users/pamathur/miniconda3/envs/nbdev_env/lib/python3.9/site-packages/sklearn/base.py:434: UserWarning: X has feature names, but LinearSVC was fitted without feature names\n",
      "  warnings.warn(\n",
      "2021-11-28 17:41:05,989 INFO fold: 2 OOF Model ROC AUC: 0.569651837524178!\n",
      "/Users/pamathur/miniconda3/envs/nbdev_env/lib/python3.9/site-packages/sklearn/base.py:434: UserWarning: X has feature names, but LinearSVC was fitted without feature names\n",
      "  warnings.warn(\n",
      "/Users/pamathur/miniconda3/envs/nbdev_env/lib/python3.9/site-packages/sklearn/base.py:434: UserWarning: X has feature names, but LinearSVC was fitted without feature names\n",
      "  warnings.warn(\n",
      "2021-11-28 17:41:06,138 INFO fold: 3 OOF Model ROC AUC: 0.5094906511927788!\n",
      "/Users/pamathur/miniconda3/envs/nbdev_env/lib/python3.9/site-packages/sklearn/base.py:434: UserWarning: X has feature names, but LinearSVC was fitted without feature names\n",
      "  warnings.warn(\n",
      "/Users/pamathur/miniconda3/envs/nbdev_env/lib/python3.9/site-packages/sklearn/base.py:434: UserWarning: X has feature names, but LinearSVC was fitted without feature names\n",
      "  warnings.warn(\n",
      "2021-11-28 17:41:06,256 INFO fold: 4 OOF Model ROC AUC: 0.4881634125445281!\n",
      "/Users/pamathur/miniconda3/envs/nbdev_env/lib/python3.9/site-packages/sklearn/base.py:434: UserWarning: X has feature names, but LinearSVC was fitted without feature names\n",
      "  warnings.warn(\n",
      "/Users/pamathur/miniconda3/envs/nbdev_env/lib/python3.9/site-packages/sklearn/base.py:434: UserWarning: X has feature names, but LinearSVC was fitted without feature names\n",
      "  warnings.warn(\n",
      "2021-11-28 17:41:06,386 INFO fold: 5 OOF Model ROC AUC: 0.5443219809455098!\n",
      "/Users/pamathur/miniconda3/envs/nbdev_env/lib/python3.9/site-packages/sklearn/base.py:434: UserWarning: X has feature names, but LinearSVC was fitted without feature names\n",
      "  warnings.warn(\n",
      "2021-11-28 17:41:06,392 INFO Mean OOF Model ROC AUC: 0.5307382134497807!\n"
     ]
    },
    {
     "name": "stdout",
     "output_type": "stream",
     "text": [
      "(4000,)\n",
      "(4000,)\n"
     ]
    }
   ],
   "source": [
    "#fit and predict\n",
    "linear_oof_model_preds, linear_oof_model_test_preds = tmlt.do_oof_kfold_train_preds(n_splits=5)\n",
    "\n",
    "if linear_oof_model_preds is not None:\n",
    "    print(linear_oof_model_preds.shape)\n",
    "\n",
    "if linear_oof_model_test_preds is not None:    \n",
    "    print(linear_oof_model_test_preds.shape)"
   ]
  },
  {
   "cell_type": "markdown",
   "metadata": {
    "id": "E-wJJLrV6eST"
   },
   "source": [
    "#### Base Model 2: Logistic Regression Model"
   ]
  },
  {
   "cell_type": "code",
   "execution_count": 20,
   "metadata": {
    "id": "Ba9r2tAhld5B"
   },
   "outputs": [],
   "source": [
    "from sklearn.linear_model import LogisticRegression"
   ]
  },
  {
   "cell_type": "code",
   "execution_count": 21,
   "metadata": {
    "colab": {
     "base_uri": "https://localhost:8080/"
    },
    "id": "UCThjDsxlNax",
    "outputId": "beb1496c-4683-410c-ebfe-6afc98170e14"
   },
   "outputs": [
    {
     "name": "stderr",
     "output_type": "stream",
     "text": [
      "/Users/pamathur/miniconda3/envs/nbdev_env/lib/python3.9/site-packages/sklearn/base.py:434: UserWarning: X has feature names, but LogisticRegression was fitted without feature names\n",
      "  warnings.warn(\n",
      "2021-11-28 17:41:06,531 INFO fold: 1 OOF Model ROC AUC: 0.5431270148291425!\n",
      "/Users/pamathur/miniconda3/envs/nbdev_env/lib/python3.9/site-packages/sklearn/base.py:434: UserWarning: X has feature names, but LogisticRegression was fitted without feature names\n",
      "  warnings.warn(\n",
      "/Users/pamathur/miniconda3/envs/nbdev_env/lib/python3.9/site-packages/sklearn/base.py:434: UserWarning: X has feature names, but LogisticRegression was fitted without feature names\n",
      "  warnings.warn(\n",
      "2021-11-28 17:41:06,662 INFO fold: 2 OOF Model ROC AUC: 0.570896196002579!\n",
      "/Users/pamathur/miniconda3/envs/nbdev_env/lib/python3.9/site-packages/sklearn/base.py:434: UserWarning: X has feature names, but LogisticRegression was fitted without feature names\n",
      "  warnings.warn(\n",
      "/Users/pamathur/miniconda3/envs/nbdev_env/lib/python3.9/site-packages/sklearn/base.py:434: UserWarning: X has feature names, but LogisticRegression was fitted without feature names\n",
      "  warnings.warn(\n",
      "2021-11-28 17:41:06,811 INFO fold: 3 OOF Model ROC AUC: 0.5097678916827854!\n",
      "/Users/pamathur/miniconda3/envs/nbdev_env/lib/python3.9/site-packages/sklearn/base.py:434: UserWarning: X has feature names, but LogisticRegression was fitted without feature names\n",
      "  warnings.warn(\n",
      "/Users/pamathur/miniconda3/envs/nbdev_env/lib/python3.9/site-packages/sklearn/base.py:434: UserWarning: X has feature names, but LogisticRegression was fitted without feature names\n",
      "  warnings.warn(\n",
      "2021-11-28 17:41:06,938 INFO fold: 4 OOF Model ROC AUC: 0.4884726131964262!\n",
      "/Users/pamathur/miniconda3/envs/nbdev_env/lib/python3.9/site-packages/sklearn/base.py:434: UserWarning: X has feature names, but LogisticRegression was fitted without feature names\n",
      "  warnings.warn(\n",
      "/Users/pamathur/miniconda3/envs/nbdev_env/lib/python3.9/site-packages/sklearn/base.py:434: UserWarning: X has feature names, but LogisticRegression was fitted without feature names\n",
      "  warnings.warn(\n",
      "2021-11-28 17:41:07,065 INFO fold: 5 OOF Model ROC AUC: 0.5453397664246742!\n",
      "/Users/pamathur/miniconda3/envs/nbdev_env/lib/python3.9/site-packages/sklearn/base.py:434: UserWarning: X has feature names, but LogisticRegression was fitted without feature names\n",
      "  warnings.warn(\n",
      "2021-11-28 17:41:07,071 INFO Mean OOF Model ROC AUC: 0.5315206964271214!\n"
     ]
    },
    {
     "name": "stdout",
     "output_type": "stream",
     "text": [
      "(4000,)\n",
      "(4000,)\n"
     ]
    }
   ],
   "source": [
    "# OOF training and prediction on both train and test dataset by a given model\n",
    "\n",
    "#choose model\n",
    "log_oof_model = LogisticRegression(solver='liblinear', random_state=42)\n",
    "\n",
    "#update the model on sklearn pipeline\n",
    "tmlt = tmlt.update_model(log_oof_model)\n",
    "\n",
    "#fit and predict\n",
    "log_oof_model_preds, log_oof_model_test_preds = tmlt.do_oof_kfold_train_preds(n_splits=5)\n",
    "\n",
    "if log_oof_model_preds is not None:\n",
    "    print(log_oof_model_preds.shape)\n",
    "\n",
    "if log_oof_model_test_preds is not None:    \n",
    "    print(log_oof_model_test_preds.shape)"
   ]
  },
  {
   "cell_type": "markdown",
   "metadata": {
    "id": "ZASRqzIxbMAZ"
   },
   "source": [
    "#### Base Model 3: SKLearn MLP"
   ]
  },
  {
   "cell_type": "code",
   "execution_count": 22,
   "metadata": {
    "id": "Sn_VG0tsbXeL"
   },
   "outputs": [],
   "source": [
    "from sklearn.neural_network import MLPClassifier"
   ]
  },
  {
   "cell_type": "code",
   "execution_count": 23,
   "metadata": {
    "id": "KsLtFCAHbgVQ"
   },
   "outputs": [
    {
     "name": "stderr",
     "output_type": "stream",
     "text": [
      "/Users/pamathur/miniconda3/envs/nbdev_env/lib/python3.9/site-packages/sklearn/base.py:434: UserWarning: X has feature names, but MLPClassifier was fitted without feature names\n",
      "  warnings.warn(\n",
      "2021-11-28 17:41:07,510 INFO fold: 1 OOF Model ROC AUC: 0.5425145067698259!\n",
      "/Users/pamathur/miniconda3/envs/nbdev_env/lib/python3.9/site-packages/sklearn/base.py:434: UserWarning: X has feature names, but MLPClassifier was fitted without feature names\n",
      "  warnings.warn(\n",
      "/Users/pamathur/miniconda3/envs/nbdev_env/lib/python3.9/site-packages/sklearn/base.py:434: UserWarning: X has feature names, but MLPClassifier was fitted without feature names\n",
      "  warnings.warn(\n",
      "2021-11-28 17:41:07,902 INFO fold: 2 OOF Model ROC AUC: 0.5555738233397807!\n",
      "/Users/pamathur/miniconda3/envs/nbdev_env/lib/python3.9/site-packages/sklearn/base.py:434: UserWarning: X has feature names, but MLPClassifier was fitted without feature names\n",
      "  warnings.warn(\n",
      "/Users/pamathur/miniconda3/envs/nbdev_env/lib/python3.9/site-packages/sklearn/base.py:434: UserWarning: X has feature names, but MLPClassifier was fitted without feature names\n",
      "  warnings.warn(\n",
      "2021-11-28 17:41:08,296 INFO fold: 3 OOF Model ROC AUC: 0.5118568665377177!\n",
      "/Users/pamathur/miniconda3/envs/nbdev_env/lib/python3.9/site-packages/sklearn/base.py:434: UserWarning: X has feature names, but MLPClassifier was fitted without feature names\n",
      "  warnings.warn(\n",
      "/Users/pamathur/miniconda3/envs/nbdev_env/lib/python3.9/site-packages/sklearn/base.py:434: UserWarning: X has feature names, but MLPClassifier was fitted without feature names\n",
      "  warnings.warn(\n",
      "2021-11-28 17:41:08,760 INFO fold: 4 OOF Model ROC AUC: 0.4969756311236223!\n",
      "/Users/pamathur/miniconda3/envs/nbdev_env/lib/python3.9/site-packages/sklearn/base.py:434: UserWarning: X has feature names, but MLPClassifier was fitted without feature names\n",
      "  warnings.warn(\n",
      "/Users/pamathur/miniconda3/envs/nbdev_env/lib/python3.9/site-packages/sklearn/base.py:434: UserWarning: X has feature names, but MLPClassifier was fitted without feature names\n",
      "  warnings.warn(\n",
      "2021-11-28 17:41:09,368 INFO fold: 5 OOF Model ROC AUC: 0.53995452173745!\n",
      "/Users/pamathur/miniconda3/envs/nbdev_env/lib/python3.9/site-packages/sklearn/base.py:434: UserWarning: X has feature names, but MLPClassifier was fitted without feature names\n",
      "  warnings.warn(\n",
      "2021-11-28 17:41:09,382 INFO Mean OOF Model ROC AUC: 0.5293750699016794!\n"
     ]
    },
    {
     "name": "stdout",
     "output_type": "stream",
     "text": [
      "(4000,)\n",
      "(4000,)\n"
     ]
    }
   ],
   "source": [
    "# OOF training and prediction on both train and test dataset by a given model\n",
    "\n",
    "#choose model\n",
    "mlp_oof_model = MLPClassifier(max_iter=1000, early_stopping=True)\n",
    "\n",
    "#update the model on sklearn pipeline\n",
    "tmlt = tmlt.update_model(mlp_oof_model)\n",
    "\n",
    "\n",
    "#fit and predict\n",
    "mlp_oof_model_preds, mlp_oof_model_test_preds = tmlt.do_oof_kfold_train_preds(n_splits=5)\n",
    "\n",
    "if mlp_oof_model_preds is not None:\n",
    "    print(mlp_oof_model_preds.shape)\n",
    "\n",
    "if mlp_oof_model_test_preds is not None:    \n",
    "    print(mlp_oof_model_test_preds.shape)"
   ]
  },
  {
   "cell_type": "markdown",
   "metadata": {
    "id": "kTJfhJHHVQPv"
   },
   "source": [
    "#### Now add back based models predictions to X and X_test\n",
    "\n"
   ]
  },
  {
   "cell_type": "code",
   "execution_count": 24,
   "metadata": {
    "colab": {
     "base_uri": "https://localhost:8080/"
    },
    "id": "oBfjKgnW6ceh",
    "outputId": "1ff857a9-3578-4f3f-e798-ecb23939d859"
   },
   "outputs": [
    {
     "name": "stdout",
     "output_type": "stream",
     "text": [
      "(4000, 101)\n",
      "(4000, 101)\n"
     ]
    }
   ],
   "source": [
    "# add based model oof predictions back to X and X_test before Meta model training\n",
    "tmlt.dfl.X[\"linear_preds\"] = linear_oof_model_preds\n",
    "tmlt.dfl.X_test[\"linear_preds\"] = linear_oof_model_test_preds\n",
    "\n",
    "print(tmlt.dfl.X.shape)\n",
    "print(tmlt.dfl.X_test.shape)"
   ]
  },
  {
   "cell_type": "code",
   "execution_count": 25,
   "metadata": {
    "colab": {
     "base_uri": "https://localhost:8080/"
    },
    "id": "rec-hBm6lbix",
    "outputId": "5c655da7-ecf3-4f40-c637-96c9c59e08d4"
   },
   "outputs": [
    {
     "name": "stdout",
     "output_type": "stream",
     "text": [
      "(4000, 102)\n",
      "(4000, 102)\n"
     ]
    }
   ],
   "source": [
    "# add based model oof predictions back to X and X_test before Meta model training\n",
    "tmlt.dfl.X[\"log_reg_preds\"] = log_oof_model_preds\n",
    "tmlt.dfl.X_test[\"log_reg_preds\"] = log_oof_model_test_preds\n",
    "\n",
    "print(tmlt.dfl.X.shape)\n",
    "print(tmlt.dfl.X_test.shape)"
   ]
  },
  {
   "cell_type": "code",
   "execution_count": 26,
   "metadata": {
    "id": "JKsyieJobKL5"
   },
   "outputs": [
    {
     "name": "stdout",
     "output_type": "stream",
     "text": [
      "(4000, 103)\n",
      "(4000, 103)\n"
     ]
    }
   ],
   "source": [
    "# add based model oof predictions back to X and X_test before Meta model training\n",
    "tmlt.dfl.X[\"mlp_preds\"] = mlp_oof_model_preds\n",
    "tmlt.dfl.X_test[\"mlp_preds\"] = mlp_oof_model_test_preds\n",
    "\n",
    "print(tmlt.dfl.X.shape)\n",
    "print(tmlt.dfl.X_test.shape)"
   ]
  },
  {
   "cell_type": "code",
   "execution_count": 27,
   "metadata": {},
   "outputs": [
    {
     "name": "stderr",
     "output_type": "stream",
     "text": [
      "2021-11-28 17:41:09,474 INFO categorical columns are None, Preprocessing will done accordingly!\n"
     ]
    },
    {
     "data": {
      "text/html": [
       "<style>#sk-de95ae31-2f7e-43ba-a5b5-6aa157dca273 {color: black;background-color: white;}#sk-de95ae31-2f7e-43ba-a5b5-6aa157dca273 pre{padding: 0;}#sk-de95ae31-2f7e-43ba-a5b5-6aa157dca273 div.sk-toggleable {background-color: white;}#sk-de95ae31-2f7e-43ba-a5b5-6aa157dca273 label.sk-toggleable__label {cursor: pointer;display: block;width: 100%;margin-bottom: 0;padding: 0.3em;box-sizing: border-box;text-align: center;}#sk-de95ae31-2f7e-43ba-a5b5-6aa157dca273 div.sk-toggleable__content {max-height: 0;max-width: 0;overflow: hidden;text-align: left;background-color: #f0f8ff;}#sk-de95ae31-2f7e-43ba-a5b5-6aa157dca273 div.sk-toggleable__content pre {margin: 0.2em;color: black;border-radius: 0.25em;background-color: #f0f8ff;}#sk-de95ae31-2f7e-43ba-a5b5-6aa157dca273 input.sk-toggleable__control:checked~div.sk-toggleable__content {max-height: 200px;max-width: 100%;overflow: auto;}#sk-de95ae31-2f7e-43ba-a5b5-6aa157dca273 div.sk-estimator input.sk-toggleable__control:checked~label.sk-toggleable__label {background-color: #d4ebff;}#sk-de95ae31-2f7e-43ba-a5b5-6aa157dca273 div.sk-label input.sk-toggleable__control:checked~label.sk-toggleable__label {background-color: #d4ebff;}#sk-de95ae31-2f7e-43ba-a5b5-6aa157dca273 input.sk-hidden--visually {border: 0;clip: rect(1px 1px 1px 1px);clip: rect(1px, 1px, 1px, 1px);height: 1px;margin: -1px;overflow: hidden;padding: 0;position: absolute;width: 1px;}#sk-de95ae31-2f7e-43ba-a5b5-6aa157dca273 div.sk-estimator {font-family: monospace;background-color: #f0f8ff;border: 1px dotted black;border-radius: 0.25em;box-sizing: border-box;margin-bottom: 0.5em;}#sk-de95ae31-2f7e-43ba-a5b5-6aa157dca273 div.sk-estimator:hover {background-color: #d4ebff;}#sk-de95ae31-2f7e-43ba-a5b5-6aa157dca273 div.sk-parallel-item::after {content: \"\";width: 100%;border-bottom: 1px solid gray;flex-grow: 1;}#sk-de95ae31-2f7e-43ba-a5b5-6aa157dca273 div.sk-label:hover label.sk-toggleable__label {background-color: #d4ebff;}#sk-de95ae31-2f7e-43ba-a5b5-6aa157dca273 div.sk-serial::before {content: \"\";position: absolute;border-left: 1px solid gray;box-sizing: border-box;top: 2em;bottom: 0;left: 50%;}#sk-de95ae31-2f7e-43ba-a5b5-6aa157dca273 div.sk-serial {display: flex;flex-direction: column;align-items: center;background-color: white;padding-right: 0.2em;padding-left: 0.2em;}#sk-de95ae31-2f7e-43ba-a5b5-6aa157dca273 div.sk-item {z-index: 1;}#sk-de95ae31-2f7e-43ba-a5b5-6aa157dca273 div.sk-parallel {display: flex;align-items: stretch;justify-content: center;background-color: white;}#sk-de95ae31-2f7e-43ba-a5b5-6aa157dca273 div.sk-parallel::before {content: \"\";position: absolute;border-left: 1px solid gray;box-sizing: border-box;top: 2em;bottom: 0;left: 50%;}#sk-de95ae31-2f7e-43ba-a5b5-6aa157dca273 div.sk-parallel-item {display: flex;flex-direction: column;position: relative;background-color: white;}#sk-de95ae31-2f7e-43ba-a5b5-6aa157dca273 div.sk-parallel-item:first-child::after {align-self: flex-end;width: 50%;}#sk-de95ae31-2f7e-43ba-a5b5-6aa157dca273 div.sk-parallel-item:last-child::after {align-self: flex-start;width: 50%;}#sk-de95ae31-2f7e-43ba-a5b5-6aa157dca273 div.sk-parallel-item:only-child::after {width: 0;}#sk-de95ae31-2f7e-43ba-a5b5-6aa157dca273 div.sk-dashed-wrapped {border: 1px dashed gray;margin: 0 0.4em 0.5em 0.4em;box-sizing: border-box;padding-bottom: 0.4em;background-color: white;position: relative;}#sk-de95ae31-2f7e-43ba-a5b5-6aa157dca273 div.sk-label label {font-family: monospace;font-weight: bold;background-color: white;display: inline-block;line-height: 1.2em;}#sk-de95ae31-2f7e-43ba-a5b5-6aa157dca273 div.sk-label-container {position: relative;z-index: 2;text-align: center;}#sk-de95ae31-2f7e-43ba-a5b5-6aa157dca273 div.sk-container {display: inline-block;position: relative;}</style><div id=\"sk-de95ae31-2f7e-43ba-a5b5-6aa157dca273\" class\"sk-top-container\"><div class=\"sk-container\"><div class=\"sk-item sk-dashed-wrapped\"><div class=\"sk-label-container\"><div class=\"sk-label sk-toggleable\"><input class=\"sk-toggleable__control sk-hidden--visually\" id=\"20e1b613-e87d-4a63-a377-ae93ac3324cc\" type=\"checkbox\" ><label class=\"sk-toggleable__label\" for=\"20e1b613-e87d-4a63-a377-ae93ac3324cc\">Pipeline</label><div class=\"sk-toggleable__content\"><pre>Pipeline(memory='pipeline_cache_dir',\n",
       "         steps=[('preprocessor',\n",
       "                 ColumnTransformer(transformers=[('num_cols',\n",
       "                                                  Pipeline(memory='pipeline_cache_dir',\n",
       "                                                           steps=[('imputer',\n",
       "                                                                   SimpleImputer(strategy='median')),\n",
       "                                                                  ('scaler',\n",
       "                                                                   StandardScaler())]),\n",
       "                                                  ['f0', 'f1', 'f2', 'f3', 'f4',\n",
       "                                                   'f5', 'f6', 'f7', 'f8', 'f9',\n",
       "                                                   'f10', 'f11', 'f12', 'f13',\n",
       "                                                   'f14', 'f15', 'f16', 'f17',\n",
       "                                                   'f18', 'f19', 'f20', 'f21',\n",
       "                                                   'f22', 'f23', 'f24', 'f25',\n",
       "                                                   'f26', 'f27', 'f28', 'f29', ...])])),\n",
       "                ('model', MLPClassifier(early_stopping=True, max_iter=1000))])</pre></div></div></div><div class=\"sk-serial\"><div class=\"sk-item sk-dashed-wrapped\"><div class=\"sk-label-container\"><div class=\"sk-label sk-toggleable\"><input class=\"sk-toggleable__control sk-hidden--visually\" id=\"617c62a4-af63-4867-99ea-bcf1be737b88\" type=\"checkbox\" ><label class=\"sk-toggleable__label\" for=\"617c62a4-af63-4867-99ea-bcf1be737b88\">preprocessor: ColumnTransformer</label><div class=\"sk-toggleable__content\"><pre>ColumnTransformer(transformers=[('num_cols',\n",
       "                                 Pipeline(memory='pipeline_cache_dir',\n",
       "                                          steps=[('imputer',\n",
       "                                                  SimpleImputer(strategy='median')),\n",
       "                                                 ('scaler', StandardScaler())]),\n",
       "                                 ['f0', 'f1', 'f2', 'f3', 'f4', 'f5', 'f6',\n",
       "                                  'f7', 'f8', 'f9', 'f10', 'f11', 'f12', 'f13',\n",
       "                                  'f14', 'f15', 'f16', 'f17', 'f18', 'f19',\n",
       "                                  'f20', 'f21', 'f22', 'f23', 'f24', 'f25',\n",
       "                                  'f26', 'f27', 'f28', 'f29', ...])])</pre></div></div></div><div class=\"sk-parallel\"><div class=\"sk-parallel-item\"><div class=\"sk-item\"><div class=\"sk-label-container\"><div class=\"sk-label sk-toggleable\"><input class=\"sk-toggleable__control sk-hidden--visually\" id=\"4ddf9785-c145-407c-9d29-299b2cee6b41\" type=\"checkbox\" ><label class=\"sk-toggleable__label\" for=\"4ddf9785-c145-407c-9d29-299b2cee6b41\">num_cols</label><div class=\"sk-toggleable__content\"><pre>['f0', 'f1', 'f2', 'f3', 'f4', 'f5', 'f6', 'f7', 'f8', 'f9', 'f10', 'f11', 'f12', 'f13', 'f14', 'f15', 'f16', 'f17', 'f18', 'f19', 'f20', 'f21', 'f22', 'f23', 'f24', 'f25', 'f26', 'f27', 'f28', 'f29', 'f30', 'f31', 'f32', 'f33', 'f34', 'f35', 'f36', 'f37', 'f38', 'f39', 'f40', 'f41', 'f42', 'f43', 'f44', 'f45', 'f46', 'f47', 'f48', 'f49', 'f50', 'f51', 'f52', 'f53', 'f54', 'f55', 'f56', 'f57', 'f58', 'f59', 'f60', 'f61', 'f62', 'f63', 'f64', 'f65', 'f66', 'f67', 'f68', 'f69', 'f70', 'f71', 'f72', 'f73', 'f74', 'f75', 'f76', 'f77', 'f78', 'f79', 'f80', 'f81', 'f82', 'f83', 'f84', 'f85', 'f86', 'f87', 'f88', 'f89', 'f90', 'f91', 'f92', 'f93', 'f94', 'f95', 'f96', 'f97', 'f98', 'f99', 'linear_preds', 'log_reg_preds', 'mlp_preds']</pre></div></div></div><div class=\"sk-serial\"><div class=\"sk-item\"><div class=\"sk-serial\"><div class=\"sk-item\"><div class=\"sk-estimator sk-toggleable\"><input class=\"sk-toggleable__control sk-hidden--visually\" id=\"7b309381-5201-4efc-ab36-1efa2a8651a9\" type=\"checkbox\" ><label class=\"sk-toggleable__label\" for=\"7b309381-5201-4efc-ab36-1efa2a8651a9\">SimpleImputer</label><div class=\"sk-toggleable__content\"><pre>SimpleImputer(strategy='median')</pre></div></div></div><div class=\"sk-item\"><div class=\"sk-estimator sk-toggleable\"><input class=\"sk-toggleable__control sk-hidden--visually\" id=\"0bc380b2-07d2-42b2-9d0d-df8b1b62b6c7\" type=\"checkbox\" ><label class=\"sk-toggleable__label\" for=\"0bc380b2-07d2-42b2-9d0d-df8b1b62b6c7\">StandardScaler</label><div class=\"sk-toggleable__content\"><pre>StandardScaler()</pre></div></div></div></div></div></div></div></div></div></div><div class=\"sk-item\"><div class=\"sk-estimator sk-toggleable\"><input class=\"sk-toggleable__control sk-hidden--visually\" id=\"315ea0c4-4b52-484a-820f-fe937c5bd044\" type=\"checkbox\" ><label class=\"sk-toggleable__label\" for=\"315ea0c4-4b52-484a-820f-fe937c5bd044\">MLPClassifier</label><div class=\"sk-toggleable__content\"><pre>MLPClassifier(early_stopping=True, max_iter=1000)</pre></div></div></div></div></div></div></div>"
      ],
      "text/plain": [
       "Pipeline(memory='pipeline_cache_dir',\n",
       "         steps=[('preprocessor',\n",
       "                 ColumnTransformer(transformers=[('num_cols',\n",
       "                                                  Pipeline(memory='pipeline_cache_dir',\n",
       "                                                           steps=[('imputer',\n",
       "                                                                   SimpleImputer(strategy='median')),\n",
       "                                                                  ('scaler',\n",
       "                                                                   StandardScaler())]),\n",
       "                                                  ['f0', 'f1', 'f2', 'f3', 'f4',\n",
       "                                                   'f5', 'f6', 'f7', 'f8', 'f9',\n",
       "                                                   'f10', 'f11', 'f12', 'f13',\n",
       "                                                   'f14', 'f15', 'f16', 'f17',\n",
       "                                                   'f18', 'f19', 'f20', 'f21',\n",
       "                                                   'f22', 'f23', 'f24', 'f25',\n",
       "                                                   'f26', 'f27', 'f28', 'f29', ...])])),\n",
       "                ('model', MLPClassifier(early_stopping=True, max_iter=1000))])"
      ]
     },
     "execution_count": 27,
     "metadata": {},
     "output_type": "execute_result"
    }
   ],
   "source": [
    "# update dfl, pp and spl and get new tmlt back\n",
    "tmlt = tmlt.update_dfl(tmlt.dfl.X, tmlt.dfl.y, tmlt.dfl.X_test)\n",
    "tmlt.spl"
   ]
  },
  {
   "cell_type": "code",
   "execution_count": 28,
   "metadata": {},
   "outputs": [
    {
     "name": "stdout",
     "output_type": "stream",
     "text": [
      "['f0', 'f1', 'f2', 'f3', 'f4', 'f5', 'f6', 'f7', 'f8', 'f9', 'f10', 'f11', 'f12', 'f13', 'f14', 'f15', 'f16', 'f17', 'f18', 'f19', 'f20', 'f21', 'f22', 'f23', 'f24', 'f25', 'f26', 'f27', 'f28', 'f29', 'f30', 'f31', 'f32', 'f33', 'f34', 'f35', 'f36', 'f37', 'f38', 'f39', 'f40', 'f41', 'f42', 'f43', 'f44', 'f45', 'f46', 'f47', 'f48', 'f49', 'f50', 'f51', 'f52', 'f53', 'f54', 'f55', 'f56', 'f57', 'f58', 'f59', 'f60', 'f61', 'f62', 'f63', 'f64', 'f65', 'f66', 'f67', 'f68', 'f69', 'f70', 'f71', 'f72', 'f73', 'f74', 'f75', 'f76', 'f77', 'f78', 'f79', 'f80', 'f81', 'f82', 'f83', 'f84', 'f85', 'f86', 'f87', 'f88', 'f89', 'f90', 'f91', 'f92', 'f93', 'f94', 'f95', 'f96', 'f97', 'f98', 'f99', 'linear_preds', 'log_reg_preds', 'mlp_preds']\n",
      "['f0', 'f1', 'f2', 'f3', 'f4', 'f5', 'f6', 'f7', 'f8', 'f9', 'f10', 'f11', 'f12', 'f13', 'f14', 'f15', 'f16', 'f17', 'f18', 'f19', 'f20', 'f21', 'f22', 'f23', 'f24', 'f25', 'f26', 'f27', 'f28', 'f29', 'f30', 'f31', 'f32', 'f33', 'f34', 'f35', 'f36', 'f37', 'f38', 'f39', 'f40', 'f41', 'f42', 'f43', 'f44', 'f45', 'f46', 'f47', 'f48', 'f49', 'f50', 'f51', 'f52', 'f53', 'f54', 'f55', 'f56', 'f57', 'f58', 'f59', 'f60', 'f61', 'f62', 'f63', 'f64', 'f65', 'f66', 'f67', 'f68', 'f69', 'f70', 'f71', 'f72', 'f73', 'f74', 'f75', 'f76', 'f77', 'f78', 'f79', 'f80', 'f81', 'f82', 'f83', 'f84', 'f85', 'f86', 'f87', 'f88', 'f89', 'f90', 'f91', 'f92', 'f93', 'f94', 'f95', 'f96', 'f97', 'f98', 'f99', 'linear_preds', 'log_reg_preds', 'mlp_preds']\n"
     ]
    }
   ],
   "source": [
    "# let's see new columns added to new tmlt.dfl.X and tmlt.dfl.X_test\n",
    "print(tmlt.dfl.X.columns.values.tolist())\n",
    "print(tmlt.dfl.X_test.columns.values.tolist())"
   ]
  },
  {
   "cell_type": "markdown",
   "metadata": {
    "id": "B-UM2bMsyHfh"
   },
   "source": [
    "#### For META Model Training (direct training non tmlt)\n"
   ]
  },
  {
   "cell_type": "code",
   "execution_count": 29,
   "metadata": {
    "id": "PO9Xw73--0_M"
   },
   "outputs": [],
   "source": [
    "xgb_params = {\n",
    "    'objective': 'binary:logistic', \n",
    "    'use_label_encoder': False,\n",
    "    'n_estimators': 40000,\n",
    "    'learning_rate': 0.18515462875481553,\n",
    "    'subsample': 0.97, \n",
    "    'colsample_bytree': 0.32,\n",
    "    'max_depth': 1,\n",
    "    'booster': 'gbtree',\n",
    "    'gamma': 0.2,\n",
    "    'reg_lambda': 0.11729916523488974, \n",
    "    'reg_alpha': 0.6318827156945853,\n",
    "    'random_state': 42,\n",
    "    'n_jobs': 4, \n",
    "    'min_child_weight': 256,\n",
    "    #for GPU\n",
    "#     'tree_method': 'gpu_hist',\n",
    "#     'predictor': 'gpu_predictor',\n",
    "    }"
   ]
  },
  {
   "cell_type": "code",
   "execution_count": 30,
   "metadata": {},
   "outputs": [
    {
     "data": {
      "text/html": [
       "<style>#sk-80ea6aab-bb0e-4afd-a189-7cceb36785df {color: black;background-color: white;}#sk-80ea6aab-bb0e-4afd-a189-7cceb36785df pre{padding: 0;}#sk-80ea6aab-bb0e-4afd-a189-7cceb36785df div.sk-toggleable {background-color: white;}#sk-80ea6aab-bb0e-4afd-a189-7cceb36785df label.sk-toggleable__label {cursor: pointer;display: block;width: 100%;margin-bottom: 0;padding: 0.3em;box-sizing: border-box;text-align: center;}#sk-80ea6aab-bb0e-4afd-a189-7cceb36785df div.sk-toggleable__content {max-height: 0;max-width: 0;overflow: hidden;text-align: left;background-color: #f0f8ff;}#sk-80ea6aab-bb0e-4afd-a189-7cceb36785df div.sk-toggleable__content pre {margin: 0.2em;color: black;border-radius: 0.25em;background-color: #f0f8ff;}#sk-80ea6aab-bb0e-4afd-a189-7cceb36785df input.sk-toggleable__control:checked~div.sk-toggleable__content {max-height: 200px;max-width: 100%;overflow: auto;}#sk-80ea6aab-bb0e-4afd-a189-7cceb36785df div.sk-estimator input.sk-toggleable__control:checked~label.sk-toggleable__label {background-color: #d4ebff;}#sk-80ea6aab-bb0e-4afd-a189-7cceb36785df div.sk-label input.sk-toggleable__control:checked~label.sk-toggleable__label {background-color: #d4ebff;}#sk-80ea6aab-bb0e-4afd-a189-7cceb36785df input.sk-hidden--visually {border: 0;clip: rect(1px 1px 1px 1px);clip: rect(1px, 1px, 1px, 1px);height: 1px;margin: -1px;overflow: hidden;padding: 0;position: absolute;width: 1px;}#sk-80ea6aab-bb0e-4afd-a189-7cceb36785df div.sk-estimator {font-family: monospace;background-color: #f0f8ff;border: 1px dotted black;border-radius: 0.25em;box-sizing: border-box;margin-bottom: 0.5em;}#sk-80ea6aab-bb0e-4afd-a189-7cceb36785df div.sk-estimator:hover {background-color: #d4ebff;}#sk-80ea6aab-bb0e-4afd-a189-7cceb36785df div.sk-parallel-item::after {content: \"\";width: 100%;border-bottom: 1px solid gray;flex-grow: 1;}#sk-80ea6aab-bb0e-4afd-a189-7cceb36785df div.sk-label:hover label.sk-toggleable__label {background-color: #d4ebff;}#sk-80ea6aab-bb0e-4afd-a189-7cceb36785df div.sk-serial::before {content: \"\";position: absolute;border-left: 1px solid gray;box-sizing: border-box;top: 2em;bottom: 0;left: 50%;}#sk-80ea6aab-bb0e-4afd-a189-7cceb36785df div.sk-serial {display: flex;flex-direction: column;align-items: center;background-color: white;padding-right: 0.2em;padding-left: 0.2em;}#sk-80ea6aab-bb0e-4afd-a189-7cceb36785df div.sk-item {z-index: 1;}#sk-80ea6aab-bb0e-4afd-a189-7cceb36785df div.sk-parallel {display: flex;align-items: stretch;justify-content: center;background-color: white;}#sk-80ea6aab-bb0e-4afd-a189-7cceb36785df div.sk-parallel::before {content: \"\";position: absolute;border-left: 1px solid gray;box-sizing: border-box;top: 2em;bottom: 0;left: 50%;}#sk-80ea6aab-bb0e-4afd-a189-7cceb36785df div.sk-parallel-item {display: flex;flex-direction: column;position: relative;background-color: white;}#sk-80ea6aab-bb0e-4afd-a189-7cceb36785df div.sk-parallel-item:first-child::after {align-self: flex-end;width: 50%;}#sk-80ea6aab-bb0e-4afd-a189-7cceb36785df div.sk-parallel-item:last-child::after {align-self: flex-start;width: 50%;}#sk-80ea6aab-bb0e-4afd-a189-7cceb36785df div.sk-parallel-item:only-child::after {width: 0;}#sk-80ea6aab-bb0e-4afd-a189-7cceb36785df div.sk-dashed-wrapped {border: 1px dashed gray;margin: 0 0.4em 0.5em 0.4em;box-sizing: border-box;padding-bottom: 0.4em;background-color: white;position: relative;}#sk-80ea6aab-bb0e-4afd-a189-7cceb36785df div.sk-label label {font-family: monospace;font-weight: bold;background-color: white;display: inline-block;line-height: 1.2em;}#sk-80ea6aab-bb0e-4afd-a189-7cceb36785df div.sk-label-container {position: relative;z-index: 2;text-align: center;}#sk-80ea6aab-bb0e-4afd-a189-7cceb36785df div.sk-container {display: inline-block;position: relative;}</style><div id=\"sk-80ea6aab-bb0e-4afd-a189-7cceb36785df\" class\"sk-top-container\"><div class=\"sk-container\"><div class=\"sk-item sk-dashed-wrapped\"><div class=\"sk-label-container\"><div class=\"sk-label sk-toggleable\"><input class=\"sk-toggleable__control sk-hidden--visually\" id=\"97babdb1-09cc-4a72-8335-eb6c47776469\" type=\"checkbox\" ><label class=\"sk-toggleable__label\" for=\"97babdb1-09cc-4a72-8335-eb6c47776469\">Pipeline</label><div class=\"sk-toggleable__content\"><pre>Pipeline(memory='pipeline_cache_dir',\n",
       "         steps=[('preprocessor',\n",
       "                 ColumnTransformer(transformers=[('num_cols',\n",
       "                                                  Pipeline(memory='pipeline_cache_dir',\n",
       "                                                           steps=[('imputer',\n",
       "                                                                   SimpleImputer(strategy='median')),\n",
       "                                                                  ('scaler',\n",
       "                                                                   StandardScaler())]),\n",
       "                                                  ['f0', 'f1', 'f2', 'f3', 'f4',\n",
       "                                                   'f5', 'f6', 'f7', 'f8', 'f9',\n",
       "                                                   'f10', 'f11', 'f12', 'f13',\n",
       "                                                   'f14', 'f15', 'f16', 'f17',\n",
       "                                                   'f18', 'f19', 'f20', 'f21',\n",
       "                                                   'f22...\n",
       "                               max_delta_step=None, max_depth=1,\n",
       "                               min_child_weight=256, missing=nan,\n",
       "                               monotone_constraints=None, n_estimators=40000,\n",
       "                               n_jobs=4, num_parallel_tree=None, predictor=None,\n",
       "                               random_state=42, reg_alpha=0.6318827156945853,\n",
       "                               reg_lambda=0.11729916523488974,\n",
       "                               scale_pos_weight=None, subsample=0.97,\n",
       "                               tree_method=None, use_label_encoder=False,\n",
       "                               validate_parameters=None, verbosity=None))])</pre></div></div></div><div class=\"sk-serial\"><div class=\"sk-item sk-dashed-wrapped\"><div class=\"sk-label-container\"><div class=\"sk-label sk-toggleable\"><input class=\"sk-toggleable__control sk-hidden--visually\" id=\"7cdaa261-6282-4650-8adf-1d572bb7ca1c\" type=\"checkbox\" ><label class=\"sk-toggleable__label\" for=\"7cdaa261-6282-4650-8adf-1d572bb7ca1c\">preprocessor: ColumnTransformer</label><div class=\"sk-toggleable__content\"><pre>ColumnTransformer(transformers=[('num_cols',\n",
       "                                 Pipeline(memory='pipeline_cache_dir',\n",
       "                                          steps=[('imputer',\n",
       "                                                  SimpleImputer(strategy='median')),\n",
       "                                                 ('scaler', StandardScaler())]),\n",
       "                                 ['f0', 'f1', 'f2', 'f3', 'f4', 'f5', 'f6',\n",
       "                                  'f7', 'f8', 'f9', 'f10', 'f11', 'f12', 'f13',\n",
       "                                  'f14', 'f15', 'f16', 'f17', 'f18', 'f19',\n",
       "                                  'f20', 'f21', 'f22', 'f23', 'f24', 'f25',\n",
       "                                  'f26', 'f27', 'f28', 'f29', ...])])</pre></div></div></div><div class=\"sk-parallel\"><div class=\"sk-parallel-item\"><div class=\"sk-item\"><div class=\"sk-label-container\"><div class=\"sk-label sk-toggleable\"><input class=\"sk-toggleable__control sk-hidden--visually\" id=\"d7b10a4f-d399-4952-9c55-ae9957468895\" type=\"checkbox\" ><label class=\"sk-toggleable__label\" for=\"d7b10a4f-d399-4952-9c55-ae9957468895\">num_cols</label><div class=\"sk-toggleable__content\"><pre>['f0', 'f1', 'f2', 'f3', 'f4', 'f5', 'f6', 'f7', 'f8', 'f9', 'f10', 'f11', 'f12', 'f13', 'f14', 'f15', 'f16', 'f17', 'f18', 'f19', 'f20', 'f21', 'f22', 'f23', 'f24', 'f25', 'f26', 'f27', 'f28', 'f29', 'f30', 'f31', 'f32', 'f33', 'f34', 'f35', 'f36', 'f37', 'f38', 'f39', 'f40', 'f41', 'f42', 'f43', 'f44', 'f45', 'f46', 'f47', 'f48', 'f49', 'f50', 'f51', 'f52', 'f53', 'f54', 'f55', 'f56', 'f57', 'f58', 'f59', 'f60', 'f61', 'f62', 'f63', 'f64', 'f65', 'f66', 'f67', 'f68', 'f69', 'f70', 'f71', 'f72', 'f73', 'f74', 'f75', 'f76', 'f77', 'f78', 'f79', 'f80', 'f81', 'f82', 'f83', 'f84', 'f85', 'f86', 'f87', 'f88', 'f89', 'f90', 'f91', 'f92', 'f93', 'f94', 'f95', 'f96', 'f97', 'f98', 'f99', 'linear_preds', 'log_reg_preds', 'mlp_preds']</pre></div></div></div><div class=\"sk-serial\"><div class=\"sk-item\"><div class=\"sk-serial\"><div class=\"sk-item\"><div class=\"sk-estimator sk-toggleable\"><input class=\"sk-toggleable__control sk-hidden--visually\" id=\"93da97a1-60a2-4071-9ebf-92b8ff9f780f\" type=\"checkbox\" ><label class=\"sk-toggleable__label\" for=\"93da97a1-60a2-4071-9ebf-92b8ff9f780f\">SimpleImputer</label><div class=\"sk-toggleable__content\"><pre>SimpleImputer(strategy='median')</pre></div></div></div><div class=\"sk-item\"><div class=\"sk-estimator sk-toggleable\"><input class=\"sk-toggleable__control sk-hidden--visually\" id=\"9e61de5d-aefb-4727-b81e-476ce1a8b73c\" type=\"checkbox\" ><label class=\"sk-toggleable__label\" for=\"9e61de5d-aefb-4727-b81e-476ce1a8b73c\">StandardScaler</label><div class=\"sk-toggleable__content\"><pre>StandardScaler()</pre></div></div></div></div></div></div></div></div></div></div><div class=\"sk-item\"><div class=\"sk-estimator sk-toggleable\"><input class=\"sk-toggleable__control sk-hidden--visually\" id=\"6625c1dc-e509-41c3-88d3-1faf34c583ec\" type=\"checkbox\" ><label class=\"sk-toggleable__label\" for=\"6625c1dc-e509-41c3-88d3-1faf34c583ec\">XGBClassifier</label><div class=\"sk-toggleable__content\"><pre>XGBClassifier(base_score=None, booster='gbtree', colsample_bylevel=None,\n",
       "              colsample_bynode=None, colsample_bytree=0.32,\n",
       "              enable_categorical=False, gamma=0.2, gpu_id=None,\n",
       "              importance_type=None, interaction_constraints=None,\n",
       "              learning_rate=0.18515462875481553, max_delta_step=None,\n",
       "              max_depth=1, min_child_weight=256, missing=nan,\n",
       "              monotone_constraints=None, n_estimators=40000, n_jobs=4,\n",
       "              num_parallel_tree=None, predictor=None, random_state=42,\n",
       "              reg_alpha=0.6318827156945853, reg_lambda=0.11729916523488974,\n",
       "              scale_pos_weight=None, subsample=0.97, tree_method=None,\n",
       "              use_label_encoder=False, validate_parameters=None,\n",
       "              verbosity=None)</pre></div></div></div></div></div></div></div>"
      ],
      "text/plain": [
       "Pipeline(memory='pipeline_cache_dir',\n",
       "         steps=[('preprocessor',\n",
       "                 ColumnTransformer(transformers=[('num_cols',\n",
       "                                                  Pipeline(memory='pipeline_cache_dir',\n",
       "                                                           steps=[('imputer',\n",
       "                                                                   SimpleImputer(strategy='median')),\n",
       "                                                                  ('scaler',\n",
       "                                                                   StandardScaler())]),\n",
       "                                                  ['f0', 'f1', 'f2', 'f3', 'f4',\n",
       "                                                   'f5', 'f6', 'f7', 'f8', 'f9',\n",
       "                                                   'f10', 'f11', 'f12', 'f13',\n",
       "                                                   'f14', 'f15', 'f16', 'f17',\n",
       "                                                   'f18', 'f19', 'f20', 'f21',\n",
       "                                                   'f22...\n",
       "                               max_delta_step=None, max_depth=1,\n",
       "                               min_child_weight=256, missing=nan,\n",
       "                               monotone_constraints=None, n_estimators=40000,\n",
       "                               n_jobs=4, num_parallel_tree=None, predictor=None,\n",
       "                               random_state=42, reg_alpha=0.6318827156945853,\n",
       "                               reg_lambda=0.11729916523488974,\n",
       "                               scale_pos_weight=None, subsample=0.97,\n",
       "                               tree_method=None, use_label_encoder=False,\n",
       "                               validate_parameters=None, verbosity=None))])"
      ]
     },
     "execution_count": 30,
     "metadata": {},
     "output_type": "execute_result"
    }
   ],
   "source": [
    "# create xgg meta model\n",
    "xgb_model = XGBClassifier(**xgb_params)\n",
    "\n",
    "# update sklearn pipeline to not to use cache model(estimator)\n",
    "tmlt = tmlt.update_model(xgb_model)\n",
    "\n",
    "# lets see updated sklearn pipeline\n",
    "tmlt.spl"
   ]
  },
  {
   "cell_type": "code",
   "execution_count": 31,
   "metadata": {},
   "outputs": [
    {
     "name": "stderr",
     "output_type": "stream",
     "text": [
      "2021-11-28 17:41:09,573 INFO  model class:<class 'xgboost.sklearn.XGBClassifier'>\n",
      "2021-11-28 17:41:41,536 INFO fold: 1 roc_auc_score : 0.6171373307543521\n",
      "2021-11-28 17:41:41,536 INFO fold: 1 log_loss : 0.7281110190437176\n",
      "2021-11-28 17:41:41,537 INFO fold: 1 accuracy_score : 0.57625\n",
      "2021-11-28 17:41:41,537 INFO fold: 1 f1_score : 0.46275752773375595\n",
      "2021-11-28 17:41:41,537 INFO fold: 1 precision_score : 0.4850498338870432\n",
      "2021-11-28 17:41:41,538 INFO fold: 1 recall_score : 0.44242424242424244\n",
      "2021-11-28 17:41:41,538 INFO Predicting Test Preds Probablities!\n",
      "2021-11-28 17:42:14,031 INFO fold: 2 roc_auc_score : 0.6035138620245003\n",
      "2021-11-28 17:42:14,032 INFO fold: 2 log_loss : 0.7519563890597784\n",
      "2021-11-28 17:42:14,032 INFO fold: 2 accuracy_score : 0.595\n",
      "2021-11-28 17:42:14,033 INFO fold: 2 f1_score : 0.4774193548387097\n",
      "2021-11-28 17:42:14,033 INFO fold: 2 precision_score : 0.5103448275862069\n",
      "2021-11-28 17:42:14,034 INFO fold: 2 recall_score : 0.4484848484848485\n",
      "2021-11-28 17:42:14,034 INFO Predicting Test Preds Probablities!\n",
      "2021-11-28 17:42:48,984 INFO fold: 3 roc_auc_score : 0.6147453255963894\n",
      "2021-11-28 17:42:48,985 INFO fold: 3 log_loss : 0.7468053783191135\n",
      "2021-11-28 17:42:48,986 INFO fold: 3 accuracy_score : 0.60375\n",
      "2021-11-28 17:42:48,988 INFO fold: 3 f1_score : 0.47603305785123967\n",
      "2021-11-28 17:42:48,990 INFO fold: 3 precision_score : 0.5236363636363637\n",
      "2021-11-28 17:42:48,992 INFO fold: 3 recall_score : 0.43636363636363634\n",
      "2021-11-28 17:42:48,993 INFO Predicting Test Preds Probablities!\n",
      "2021-11-28 17:43:22,561 INFO fold: 4 roc_auc_score : 0.6192773723097933\n",
      "2021-11-28 17:43:22,562 INFO fold: 4 log_loss : 0.7461987593222875\n",
      "2021-11-28 17:43:22,563 INFO fold: 4 accuracy_score : 0.61375\n",
      "2021-11-28 17:43:22,564 INFO fold: 4 f1_score : 0.4926108374384236\n",
      "2021-11-28 17:43:22,564 INFO fold: 4 precision_score : 0.539568345323741\n",
      "2021-11-28 17:43:22,565 INFO fold: 4 recall_score : 0.45317220543806647\n",
      "2021-11-28 17:43:22,565 INFO Predicting Test Preds Probablities!\n",
      "2021-11-28 17:43:56,767 INFO fold: 5 roc_auc_score : 0.609537551775005\n",
      "2021-11-28 17:43:56,768 INFO fold: 5 log_loss : 0.7455774929642212\n",
      "2021-11-28 17:43:56,768 INFO fold: 5 accuracy_score : 0.585\n",
      "2021-11-28 17:43:56,769 INFO fold: 5 f1_score : 0.48447204968944096\n",
      "2021-11-28 17:43:56,769 INFO fold: 5 precision_score : 0.4984025559105431\n",
      "2021-11-28 17:43:56,770 INFO fold: 5 recall_score : 0.47129909365558914\n",
      "2021-11-28 17:43:56,770 INFO Predicting Test Preds Probablities!\n",
      "2021-11-28 17:43:56,905 INFO  Mean Metrics Results from all Folds are: {'roc_auc_score': 0.6128422884920081, 'log_loss': 0.7437298077418236, 'accuracy_score': 0.59475, 'f1_score': 0.47865856551031405, 'precision_score': 0.5114003852687795, 'recall_score': 0.45034880527327653}\n"
     ]
    },
    {
     "name": "stdout",
     "output_type": "stream",
     "text": [
      "CPU times: user 10min 25s, sys: 4.33 s, total: 10min 29s\n",
      "Wall time: 2min 47s\n"
     ]
    }
   ],
   "source": [
    "%%time\n",
    "xgb_model_preds_metrics_score, xgb_model_test_preds = tmlt.do_kfold_training(n_splits=5,\n",
    "                                                                              test_preds_metric=roc_auc_score)"
   ]
  },
  {
   "cell_type": "code",
   "execution_count": 32,
   "metadata": {
    "id": "-3UipoNNyhUz"
   },
   "outputs": [],
   "source": [
    "from sklearn.model_selection import StratifiedKFold"
   ]
  },
  {
   "cell_type": "code",
   "execution_count": 33,
   "metadata": {
    "colab": {
     "base_uri": "https://localhost:8080/"
    },
    "id": "m4To23VFyKgT",
    "outputId": "612f5a4b-f04b-46e1-ddd6-669d5179e7ec"
   },
   "outputs": [],
   "source": [
    "%%time\n",
    "\n",
    "# Setting up fold parameters\n",
    "splits = 10\n",
    "skf = StratifiedKFold(n_splits=splits, shuffle=True, random_state=42)\n",
    "\n",
    "# Creating an array of zeros for storing \"out of fold\" predictions\n",
    "oof_preds = np.zeros((tmlt.dfl.X.shape[0],))\n",
    "preds = 0\n",
    "# model_fi = 0\n",
    "total_mean_auc = 0\n",
    "\n",
    "# Generating folds and making training and prediction for each of them\n",
    "for num, (train_idx, valid_idx) in enumerate(skf.split(tmlt.dfl.X, tmlt.dfl.y)):\n",
    "    tmlt.dfl.X_train, tmlt.dfl.X_valid = tmlt.dfl.X.loc[train_idx], tmlt.dfl.X.loc[valid_idx]\n",
    "    tmlt.dfl.y_train, tmlt.dfl.y_valid = tmlt.dfl.y[train_idx], tmlt.dfl.y[valid_idx]\n",
    "    \n",
    "    model = XGBClassifier(**xgb_params)\n",
    "    model.fit(tmlt.dfl.X_train, tmlt.dfl.y_train,\n",
    "              verbose=False,\n",
    "              # The parameters below help to detect and avoid overfitting\n",
    "              eval_set=[(tmlt.dfl.X_train, tmlt.dfl.y_train), (tmlt.dfl.X_valid, tmlt.dfl.y_valid)],\n",
    "              eval_metric=\"auc\",\n",
    "              early_stopping_rounds=300,\n",
    "              )\n",
    "    \n",
    "    # Getting mean test data predictions (i.e. devided by number of splits)\n",
    "    preds += model.predict_proba(tmlt.dfl.X_test)[:, 1] / splits\n",
    "    \n",
    "    # Getting mean feature importances (i.e. devided by number of splits)\n",
    "    # model_fi += model.feature_importances_ / splits\n",
    "    \n",
    "    # Getting validation data predictions. Each fold model makes predictions on an unseen data.\n",
    "    # So in the end it will be completely filled with unseen data predictions.\n",
    "    # It will be used to evaluate hyperparameters performance only.\n",
    "    oof_preds[valid_idx] = model.predict_proba(tmlt.dfl.X_valid)[:, 1]\n",
    "    \n",
    "    # Getting score for a fold model\n",
    "    fold_auc = roc_auc_score(tmlt.dfl.y_valid, oof_preds[valid_idx])\n",
    "    print(f\"Fold {num} ROC AUC: {fold_auc}\")\n",
    "\n",
    "    # Getting mean score of all fold models (i.e. devided by number of splits)\n",
    "    total_mean_auc += fold_auc / splits\n",
    "    # delete all dataframes after each fold\n",
    "    unused_df_lst = [tmlt.dfl.X_train, tmlt.dfl.X_valid, tmlt.dfl.y_train, tmlt.dfl.y_valid]\n",
    "    del unused_df_lst\n",
    "    \n",
    "print(f\"\\nOverall ROC AUC: {total_mean_auc}\")"
   ]
  },
  {
   "cell_type": "markdown",
   "metadata": {
    "id": "BBkT95bn6NPi"
   },
   "source": [
    "Fold 0 ROC AUC: 0.761928164444148\n",
    "Fold 1 ROC AUC: 0.7610277116407352\n",
    "Fold 2 ROC AUC: 0.7627903156056819\n",
    "Fold 3 ROC AUC: 0.7632015002586378\n",
    "Fold 4 ROC AUC: 0.7569241924918775\n",
    "\n",
    "Overall ROC AUC: 0.7611743768882161\n",
    "CPU times: user 53 s, sys: 384 ms, total: 53.4 s\n",
    "Wall time: 26.7 s"
   ]
  },
  {
   "cell_type": "markdown",
   "metadata": {
    "id": "it2QSi8zgN-Q"
   },
   "source": [
    "#### Let's do Optuna based HyperParameter search to get best params for fit"
   ]
  },
  {
   "cell_type": "markdown",
   "metadata": {
    "id": "15McJf6L6BTl"
   },
   "source": [
    "##### Since the training dataset is big size, aka \"Big Data\", Let's give 600 sec (10 minutes) for Optuna Study optimization"
   ]
  },
  {
   "cell_type": "code",
   "execution_count": 34,
   "metadata": {
    "id": "9OQZ86CjCEXX"
   },
   "outputs": [],
   "source": [
    "# study = tmlt.do_xgb_optuna_optimization(optuna_db_path=OUTPUT_PATH,\n",
    "#                                        use_gpu=True, opt_timeout=600)"
   ]
  },
  {
   "cell_type": "markdown",
   "metadata": {
    "id": "qI96w2su6BTl"
   },
   "source": [
    "**Since number of trials did not ended in 10 minutes, we can always come back and run this cell to do additional hyperparams search, Optuna will save the study and restart from the last trial**"
   ]
  },
  {
   "cell_type": "code",
   "execution_count": 35,
   "metadata": {
    "id": "39ZZ-T2KCEXY"
   },
   "outputs": [],
   "source": [
    "# print(study.best_trial)"
   ]
  },
  {
   "cell_type": "markdown",
   "metadata": {
    "id": "JKRalcvqCEXY"
   },
   "source": [
    "#### Now, let's update the model with best params from optuna study\n",
    "\n",
    "**Make sure to update the sklearn pipeline with new model too, Only this way sklearn pipeline will not reuse cache models (estimators)**"
   ]
  },
  {
   "cell_type": "code",
   "execution_count": 36,
   "metadata": {
    "id": "yPg8XzOwCEXY"
   },
   "outputs": [],
   "source": [
    "# # xgb_params.update(study.best_trial.params)\n",
    "# # xgb_params.update(new_xgb_params)\n",
    "# # print(\"Final xgb_params:\", xgb_params)\n",
    "# xgb_model = XGBClassifier(**new_xgb_params)\n",
    "\n",
    "# # update sklearn pipeline to not to use cache model(estimator)\n",
    "# tmlt.update_model(xgb_model)\n",
    "# # lets see sklearn pipeline\n",
    "# tmlt.spl"
   ]
  },
  {
   "cell_type": "markdown",
   "metadata": {
    "id": "Sk_FBeog6BTm"
   },
   "source": [
    "#### Let's do K-Fold Training"
   ]
  },
  {
   "cell_type": "code",
   "execution_count": 37,
   "metadata": {
    "id": "cW83p6506BTm"
   },
   "outputs": [],
   "source": [
    "# # K-Fold fit and predict on test dataset\n",
    "# xgb_model_preds_metrics_score, xgb_model_test_preds= tmlt.do_kfold_training(n_splits=5, test_preds_metric=roc_auc_score)\n",
    "# if xgb_model_test_preds is not None:\n",
    "#     print(xgb_model_test_preds.shape)"
   ]
  },
  {
   "cell_type": "code",
   "execution_count": null,
   "metadata": {
    "id": "vtT__zMrXoZq"
   },
   "outputs": [],
   "source": []
  },
  {
   "cell_type": "markdown",
   "metadata": {
    "id": "KUcXHq7b6BTn"
   },
   "source": [
    "#### Create Kaggle Predictions"
   ]
  },
  {
   "cell_type": "code",
   "execution_count": 38,
   "metadata": {
    "id": "U7aJwGkr6BTn"
   },
   "outputs": [],
   "source": [
    "# import pandas as pd"
   ]
  },
  {
   "cell_type": "code",
   "execution_count": 39,
   "metadata": {
    "id": "sUCwCqsbXACa"
   },
   "outputs": [],
   "source": [
    "# sub = pd.read_csv(DIRECTORY_PATH + SAMPLE_SUB_FILE)\n",
    "# # sub['target'] = xgb_model_test_preds\n",
    "# sub['target'] = preds\n",
    "# sub.to_csv(OUTPUT_PATH + 'wed_nov_25_1042_submission.csv', index=False)"
   ]
  },
  {
   "cell_type": "code",
   "execution_count": 40,
   "metadata": {
    "colab": {
     "base_uri": "https://localhost:8080/"
    },
    "id": "5VK0Bpgm6BTn",
    "outputId": "06ff2c00-898b-4f1e-ba49-4538ee83d6bf"
   },
   "outputs": [
    {
     "ename": "NameError",
     "evalue": "name 'os' is not defined",
     "output_type": "error",
     "traceback": [
      "\u001b[0;31m---------------------------------------------------------------------------\u001b[0m",
      "\u001b[0;31mNameError\u001b[0m                                 Traceback (most recent call last)",
      "\u001b[0;32m/var/folders/p3/zmg8jfwx0hb9gwzs0w69d7f0rgyjx2/T/ipykernel_69504/1639295376.py\u001b[0m in \u001b[0;36m<module>\u001b[0;34m\u001b[0m\n\u001b[0;32m----> 1\u001b[0;31m \u001b[0mos\u001b[0m\u001b[0;34m.\u001b[0m\u001b[0mlistdir\u001b[0m\u001b[0;34m(\u001b[0m\u001b[0mOUTPUT_PATH\u001b[0m\u001b[0;34m)\u001b[0m\u001b[0;34m\u001b[0m\u001b[0;34m\u001b[0m\u001b[0m\n\u001b[0m",
      "\u001b[0;31mNameError\u001b[0m: name 'os' is not defined"
     ]
    }
   ],
   "source": [
    "os.listdir(OUTPUT_PATH)"
   ]
  },
  {
   "cell_type": "code",
   "execution_count": null,
   "metadata": {
    "id": "gA9Gs-3rXNta"
   },
   "outputs": [],
   "source": []
  }
 ],
 "metadata": {
  "accelerator": "GPU",
  "colab": {
   "collapsed_sections": [],
   "machine_shape": "hm",
   "name": "xgb-tabular-ml-toolkit.ipynb",
   "provenance": []
  },
  "kernelspec": {
   "display_name": "Python [conda env:nbdev_env]",
   "language": "python",
   "name": "conda-env-nbdev_env-py"
  },
  "language_info": {
   "codemirror_mode": {
    "name": "ipython",
    "version": 3
   },
   "file_extension": ".py",
   "mimetype": "text/x-python",
   "name": "python",
   "nbconvert_exporter": "python",
   "pygments_lexer": "ipython3",
   "version": "3.9.7"
  }
 },
 "nbformat": 4,
 "nbformat_minor": 1
}
